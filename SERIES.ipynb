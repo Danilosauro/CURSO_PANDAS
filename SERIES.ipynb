{
 "cells": [
  {
   "cell_type": "markdown",
   "id": "0bd4f2cb-e4a8-45b6-a2b8-b90c079d5768",
   "metadata": {},
   "source": [
    "# Pandas Series \n",
    "## Documentação: https://pandas.pydata.org/pandas-docs/stable/reference/api/pandas.Series.html"
   ]
  },
  {
   "cell_type": "code",
   "execution_count": 1,
   "id": "ad936c71-5c60-4048-b1c0-b1ebca38f0a6",
   "metadata": {},
   "outputs": [],
   "source": [
    "import pandas as pd\n",
    "import numpy as np"
   ]
  },
  {
   "cell_type": "code",
   "execution_count": 2,
   "id": "09e51f2a-2b49-47ce-9c4e-5b2585590ceb",
   "metadata": {},
   "outputs": [
    {
     "name": "stdout",
     "output_type": "stream",
     "text": [
      "2.2.2\n",
      "1.26.4\n"
     ]
    }
   ],
   "source": [
    "print(pd.__version__) \n",
    "print(np.__version__)"
   ]
  },
  {
   "cell_type": "markdown",
   "id": "b3a128ab-42ef-45f7-9c98-3d61f1ef07cb",
   "metadata": {},
   "source": [
    "## Maneiras de criar uma série"
   ]
  },
  {
   "cell_type": "markdown",
   "id": "aa0a77b9-ed22-4041-9f95-b69169beedb5",
   "metadata": {},
   "source": [
    "### Método pandas séries"
   ]
  },
  {
   "cell_type": "code",
   "execution_count": 3,
   "id": "27ea52d8-2acd-479c-89be-fd6b95d7e803",
   "metadata": {},
   "outputs": [
    {
     "name": "stdout",
     "output_type": "stream",
     "text": [
      "0    10\n",
      "1    20\n",
      "2    30\n",
      "3    40\n",
      "4    50\n",
      "dtype: int64\n"
     ]
    }
   ],
   "source": [
    "serie_dados = pd.Series([10,20,30,40,50]) \n",
    "print(serie_dados)"
   ]
  },
  {
   "cell_type": "code",
   "execution_count": 4,
   "id": "02c56be8-5efa-4061-a2d4-82a1d677f948",
   "metadata": {},
   "outputs": [
    {
     "data": {
      "text/plain": [
       "pandas.core.series.Series"
      ]
     },
     "execution_count": 4,
     "metadata": {},
     "output_type": "execute_result"
    }
   ],
   "source": [
    "type(serie_dados)"
   ]
  },
  {
   "cell_type": "markdown",
   "id": "8b00e5e7-2bb0-4f6a-a0fa-5a09b61ec274",
   "metadata": {},
   "source": [
    "### Listas built in python"
   ]
  },
  {
   "cell_type": "code",
   "execution_count": 5,
   "id": "5be6b47e-e19b-4543-81b7-7bd25c41e827",
   "metadata": {},
   "outputs": [
    {
     "name": "stdout",
     "output_type": "stream",
     "text": [
      "10\n"
     ]
    }
   ],
   "source": [
    "array_inteiros = [10,20,30,40,50]  \n",
    "indices = ['A','B','C','D','E']\n",
    "\n",
    "series_dados = pd.Series(array_inteiros, index = indices) \n",
    "print(series_dados['A'])"
   ]
  },
  {
   "cell_type": "code",
   "execution_count": 6,
   "id": "a0fdacfd-7e7f-4d24-a036-3a0f102397b5",
   "metadata": {},
   "outputs": [
    {
     "name": "stdout",
     "output_type": "stream",
     "text": [
      "[10 20 30 40 50]\n"
     ]
    }
   ],
   "source": [
    "np_array_inteiros = np.array([10,20,30,40,50]) \n",
    "print(np_array_inteiros)"
   ]
  },
  {
   "cell_type": "code",
   "execution_count": 7,
   "id": "d336a8a6-11c9-427f-afc2-fb510dc01d16",
   "metadata": {},
   "outputs": [
    {
     "name": "stdout",
     "output_type": "stream",
     "text": [
      "(5,) 1 5\n"
     ]
    }
   ],
   "source": [
    "print(serie_dados.shape, serie_dados.ndim, serie_dados.size)"
   ]
  },
  {
   "cell_type": "code",
   "execution_count": 8,
   "id": "b1da6189-b6ca-410a-b31d-17769d452fd8",
   "metadata": {},
   "outputs": [
    {
     "name": "stdout",
     "output_type": "stream",
     "text": [
      "Z    10\n",
      "X    20\n",
      "Y    30\n",
      "W    40\n",
      "V    50\n",
      "dtype: int64\n"
     ]
    }
   ],
   "source": [
    "serie_dados.index = ['Z','X','Y','W','V'] \n",
    "print(serie_dados) "
   ]
  },
  {
   "cell_type": "markdown",
   "id": "3176555c-2b17-4627-a0cf-d735b7be153e",
   "metadata": {},
   "source": [
    "### Numpy arange e random"
   ]
  },
  {
   "cell_type": "code",
   "execution_count": 9,
   "id": "b19b3593-9294-4fca-9150-2a3d7f1ddcca",
   "metadata": {},
   "outputs": [
    {
     "name": "stdout",
     "output_type": "stream",
     "text": [
      "[0 1 2 3 4 5 6 7 8 9] [0.96051199 0.07371191 0.3464587  0.01079443 0.84368455 0.51543139\n",
      " 0.08864871 0.40841895 0.18539532 0.25538123]\n"
     ]
    }
   ],
   "source": [
    "random_numbers = np.random.random(10) \n",
    "indices = np.arange(0,10)\n",
    "print(indices, random_numbers)"
   ]
  },
  {
   "cell_type": "code",
   "execution_count": 10,
   "id": "b62f174a-df40-45c4-b13f-6dd89873120f",
   "metadata": {},
   "outputs": [
    {
     "name": "stdout",
     "output_type": "stream",
     "text": [
      "0    0.960512\n",
      "1    0.073712\n",
      "2    0.346459\n",
      "3    0.010794\n",
      "4    0.843685\n",
      "5    0.515431\n",
      "6    0.088649\n",
      "7    0.408419\n",
      "8    0.185395\n",
      "9    0.255381\n",
      "dtype: float64\n"
     ]
    }
   ],
   "source": [
    "serie_dados = pd.Series(random_numbers, indices) \n",
    "print(serie_dados) "
   ]
  },
  {
   "cell_type": "markdown",
   "id": "1ddfdd11-fb6e-420b-8370-1e9bdf1c1fe9",
   "metadata": {},
   "source": [
    "### Dicionários"
   ]
  },
  {
   "cell_type": "code",
   "execution_count": 11,
   "id": "ee295935-5ee5-4ced-a268-a72c419b8ea9",
   "metadata": {},
   "outputs": [
    {
     "name": "stdout",
     "output_type": "stream",
     "text": [
      "ALICE      10\n",
      "BRUNA      20\n",
      "CARLA      30\n",
      "DANIELA    40\n",
      "ERICA      50\n",
      "dtype: int64 int64\n"
     ]
    }
   ],
   "source": [
    "dicionario = {\n",
    "    'ALICE': 10, \n",
    "    'BRUNA': 20, \n",
    "    'CARLA': 30, \n",
    "    'DANIELA': 40, \n",
    "    'ERICA':50\n",
    "} \n",
    "\n",
    "serie_dados  = pd.Series(dicionario) \n",
    "print(serie_dados, serie_dados.dtype) "
   ]
  },
  {
   "cell_type": "markdown",
   "id": "7b6acedf-19c2-498f-bb0f-b3a5a4479a1b",
   "metadata": {},
   "source": [
    "# Fatiamento slicing \n",
    "\n",
    "## Cópia, conversão e concatenção"
   ]
  },
  {
   "cell_type": "code",
   "execution_count": 12,
   "id": "679bc853-2921-491e-8b21-7fbf7dd1dc41",
   "metadata": {},
   "outputs": [
    {
     "name": "stdout",
     "output_type": "stream",
     "text": [
      "0    0.960512\n",
      "1    0.073712\n",
      "2    0.346459\n",
      "3    0.010794\n",
      "4    0.843685\n",
      "5    0.515431\n",
      "6    0.088649\n",
      "7    0.408419\n",
      "8    0.185395\n",
      "9    0.255381\n",
      "dtype: float64\n"
     ]
    }
   ],
   "source": [
    "serie_dados = pd.Series(random_numbers, indices) \n",
    "print(serie_dados) "
   ]
  },
  {
   "cell_type": "code",
   "execution_count": 13,
   "id": "f3f712bd-62c1-49f1-8949-b5d247575cbc",
   "metadata": {},
   "outputs": [
    {
     "data": {
      "text/plain": [
       "0    0.960512\n",
       "1    0.073712\n",
       "2    0.346459\n",
       "dtype: float64"
      ]
     },
     "execution_count": 13,
     "metadata": {},
     "output_type": "execute_result"
    }
   ],
   "source": [
    "serie_dados[0:3]"
   ]
  },
  {
   "cell_type": "code",
   "execution_count": 14,
   "id": "53fedc25-28d6-44d5-9e38-a6fd637332d9",
   "metadata": {},
   "outputs": [
    {
     "name": "stdout",
     "output_type": "stream",
     "text": [
      "0    0.960512\n",
      "1    0.073712\n",
      "2    0.346459\n",
      "3    0.010794\n",
      "4    0.843685\n",
      "5    0.515431\n",
      "6    0.088649\n",
      "7    0.408419\n",
      "8    0.185395\n",
      "dtype: float64  ********   9    0.255381\n",
      "dtype: float64\n"
     ]
    }
   ],
   "source": [
    "print(serie_dados[:-1],' ********  ', serie_dados[-1:])"
   ]
  },
  {
   "cell_type": "code",
   "execution_count": 15,
   "id": "20272b43-51a8-4f35-ae0a-aa78fb9973e0",
   "metadata": {},
   "outputs": [
    {
     "name": "stdout",
     "output_type": "stream",
     "text": [
      "0    0.960512\n",
      "1    0.073712\n",
      "2    0.346459\n",
      "dtype: float64\n"
     ]
    }
   ],
   "source": [
    "s2 = serie_dados[:3] \n",
    "print(s2)"
   ]
  },
  {
   "cell_type": "markdown",
   "id": "e4544dbb-9f8d-4888-bc12-7f718b2fce28",
   "metadata": {},
   "source": [
    "## Conversão, cópia e concatenação"
   ]
  },
  {
   "cell_type": "code",
   "execution_count": 16,
   "id": "18e90d0e-406c-44e9-9160-d435d1b55c83",
   "metadata": {},
   "outputs": [
    {
     "name": "stdout",
     "output_type": "stream",
     "text": [
      "0    0.960512\n",
      "1    0.073712\n",
      "2    0.346459\n",
      "3    0.010794\n",
      "4    0.843685\n",
      "5    0.515431\n",
      "6    0.088649\n",
      "7    0.408419\n",
      "8    0.185395\n",
      "9    0.255381\n",
      "dtype: float64\n"
     ]
    }
   ],
   "source": [
    "serie_dados_dois = serie_dados.copy()  #melhor maneira de se copiar um dataframe pandas \n",
    "print(serie_dados_dois)"
   ]
  },
  {
   "cell_type": "code",
   "execution_count": 17,
   "id": "581ce71a-f9fe-4b39-b043-eb82daa8e2b2",
   "metadata": {},
   "outputs": [
    {
     "name": "stdout",
     "output_type": "stream",
     "text": [
      "int64\n"
     ]
    }
   ],
   "source": [
    "serie_dados_dois = serie_dados_dois.astype(int) #conversão de tipos de dados \n",
    "print(serie_dados_dois.dtype)"
   ]
  },
  {
   "cell_type": "code",
   "execution_count": 18,
   "id": "842c009e-a27e-4284-a88c-de9031c3de2a",
   "metadata": {},
   "outputs": [
    {
     "name": "stdout",
     "output_type": "stream",
     "text": [
      "GUSTAVO    20\n",
      "ALANA      30\n",
      "ALBERTO    15\n",
      "BRUNO      18\n",
      "CARLOS     20\n",
      "dtype: int64\n"
     ]
    }
   ],
   "source": [
    "dados_novos = {\n",
    "    'GUSTAVO': 20, \n",
    "    'ALANA' : 30\n",
    "} \n",
    "\n",
    "\n",
    "dict_dados = {\n",
    "    'ALBERTO': 15, \n",
    "    'BRUNO': 18, \n",
    "    'CARLOS' : 20\n",
    "} \n",
    "series_dados_tres = pd.Series(dados_novos) \n",
    "series_dados_dict = pd.Series(dict_dados)\n",
    "\n",
    "serie_concatenada = pd.concat([series_dados_tres, series_dados_dict]) \n",
    "print(serie_concatenada)"
   ]
  },
  {
   "cell_type": "markdown",
   "id": "e8d0d30f-9cce-48db-a113-92439df97d3e",
   "metadata": {},
   "source": [
    "## Acesso aos dados com iloc"
   ]
  },
  {
   "cell_type": "code",
   "execution_count": 19,
   "id": "aea714db-bfe7-471b-b010-af235bbc6347",
   "metadata": {},
   "outputs": [
    {
     "data": {
      "text/html": [
       "<div>\n",
       "<style scoped>\n",
       "    .dataframe tbody tr th:only-of-type {\n",
       "        vertical-align: middle;\n",
       "    }\n",
       "\n",
       "    .dataframe tbody tr th {\n",
       "        vertical-align: top;\n",
       "    }\n",
       "\n",
       "    .dataframe thead th {\n",
       "        text-align: right;\n",
       "    }\n",
       "</style>\n",
       "<table border=\"1\" class=\"dataframe\">\n",
       "  <thead>\n",
       "    <tr style=\"text-align: right;\">\n",
       "      <th></th>\n",
       "      <th>age</th>\n",
       "      <th>workclass</th>\n",
       "      <th>final-weight</th>\n",
       "      <th>education</th>\n",
       "      <th>education-num</th>\n",
       "      <th>marital-status</th>\n",
       "      <th>occupation</th>\n",
       "      <th>relationship</th>\n",
       "      <th>race</th>\n",
       "      <th>sex</th>\n",
       "      <th>capital-gain</th>\n",
       "      <th>capital-loos</th>\n",
       "      <th>hour-per-week</th>\n",
       "      <th>native-country</th>\n",
       "      <th>income</th>\n",
       "    </tr>\n",
       "  </thead>\n",
       "  <tbody>\n",
       "    <tr>\n",
       "      <th>0</th>\n",
       "      <td>39</td>\n",
       "      <td>State-gov</td>\n",
       "      <td>77516</td>\n",
       "      <td>Bachelors</td>\n",
       "      <td>13</td>\n",
       "      <td>Never-married</td>\n",
       "      <td>Adm-clerical</td>\n",
       "      <td>Not-in-family</td>\n",
       "      <td>White</td>\n",
       "      <td>Male</td>\n",
       "      <td>2174</td>\n",
       "      <td>0</td>\n",
       "      <td>40</td>\n",
       "      <td>United-States</td>\n",
       "      <td>&lt;=50K</td>\n",
       "    </tr>\n",
       "    <tr>\n",
       "      <th>1</th>\n",
       "      <td>50</td>\n",
       "      <td>Self-emp-not-inc</td>\n",
       "      <td>83311</td>\n",
       "      <td>Bachelors</td>\n",
       "      <td>13</td>\n",
       "      <td>Married-civ-spouse</td>\n",
       "      <td>Exec-managerial</td>\n",
       "      <td>Husband</td>\n",
       "      <td>White</td>\n",
       "      <td>Male</td>\n",
       "      <td>0</td>\n",
       "      <td>0</td>\n",
       "      <td>13</td>\n",
       "      <td>United-States</td>\n",
       "      <td>&lt;=50K</td>\n",
       "    </tr>\n",
       "    <tr>\n",
       "      <th>2</th>\n",
       "      <td>38</td>\n",
       "      <td>Private</td>\n",
       "      <td>215646</td>\n",
       "      <td>HS-grad</td>\n",
       "      <td>9</td>\n",
       "      <td>Divorced</td>\n",
       "      <td>Handlers-cleaners</td>\n",
       "      <td>Not-in-family</td>\n",
       "      <td>White</td>\n",
       "      <td>Male</td>\n",
       "      <td>0</td>\n",
       "      <td>0</td>\n",
       "      <td>40</td>\n",
       "      <td>United-States</td>\n",
       "      <td>&lt;=50K</td>\n",
       "    </tr>\n",
       "    <tr>\n",
       "      <th>3</th>\n",
       "      <td>53</td>\n",
       "      <td>Private</td>\n",
       "      <td>234721</td>\n",
       "      <td>11th</td>\n",
       "      <td>7</td>\n",
       "      <td>Married-civ-spouse</td>\n",
       "      <td>Handlers-cleaners</td>\n",
       "      <td>Husband</td>\n",
       "      <td>Black</td>\n",
       "      <td>Male</td>\n",
       "      <td>0</td>\n",
       "      <td>0</td>\n",
       "      <td>40</td>\n",
       "      <td>United-States</td>\n",
       "      <td>&lt;=50K</td>\n",
       "    </tr>\n",
       "    <tr>\n",
       "      <th>4</th>\n",
       "      <td>28</td>\n",
       "      <td>Private</td>\n",
       "      <td>338409</td>\n",
       "      <td>Bachelors</td>\n",
       "      <td>13</td>\n",
       "      <td>Married-civ-spouse</td>\n",
       "      <td>Prof-specialty</td>\n",
       "      <td>Wife</td>\n",
       "      <td>Black</td>\n",
       "      <td>Female</td>\n",
       "      <td>0</td>\n",
       "      <td>0</td>\n",
       "      <td>40</td>\n",
       "      <td>Cuba</td>\n",
       "      <td>&lt;=50K</td>\n",
       "    </tr>\n",
       "  </tbody>\n",
       "</table>\n",
       "</div>"
      ],
      "text/plain": [
       "   age          workclass  final-weight   education  education-num  \\\n",
       "0   39          State-gov         77516   Bachelors             13   \n",
       "1   50   Self-emp-not-inc         83311   Bachelors             13   \n",
       "2   38            Private        215646     HS-grad              9   \n",
       "3   53            Private        234721        11th              7   \n",
       "4   28            Private        338409   Bachelors             13   \n",
       "\n",
       "        marital-status          occupation    relationship    race      sex  \\\n",
       "0        Never-married        Adm-clerical   Not-in-family   White     Male   \n",
       "1   Married-civ-spouse     Exec-managerial         Husband   White     Male   \n",
       "2             Divorced   Handlers-cleaners   Not-in-family   White     Male   \n",
       "3   Married-civ-spouse   Handlers-cleaners         Husband   Black     Male   \n",
       "4   Married-civ-spouse      Prof-specialty            Wife   Black   Female   \n",
       "\n",
       "   capital-gain  capital-loos  hour-per-week  native-country  income  \n",
       "0          2174             0             40   United-States   <=50K  \n",
       "1             0             0             13   United-States   <=50K  \n",
       "2             0             0             40   United-States   <=50K  \n",
       "3             0             0             40   United-States   <=50K  \n",
       "4             0             0             40            Cuba   <=50K  "
      ]
     },
     "execution_count": 19,
     "metadata": {},
     "output_type": "execute_result"
    }
   ],
   "source": [
    "dataset = pd.read_csv('SOURCE/census.csv') \n",
    "dataset.head()"
   ]
  },
  {
   "cell_type": "code",
   "execution_count": 21,
   "id": "9f599bb4-a273-48f8-9b30-ddf545a99281",
   "metadata": {},
   "outputs": [
    {
     "name": "stdout",
     "output_type": "stream",
     "text": [
      "0        39\n",
      "1        50\n",
      "2        38\n",
      "3        53\n",
      "4        28\n",
      "         ..\n",
      "32556    27\n",
      "32557    40\n",
      "32558    58\n",
      "32559    22\n",
      "32560    52\n",
      "Name: age, Length: 32561, dtype: int64 <class 'pandas.core.series.Series'>\n"
     ]
    }
   ],
   "source": [
    "age = dataset['age'] \n",
    "print(age, type(age))"
   ]
  },
  {
   "cell_type": "code",
   "execution_count": 22,
   "id": "65d6f171-03a6-4c6d-bb91-11f460ede8a6",
   "metadata": {},
   "outputs": [
    {
     "name": "stdout",
     "output_type": "stream",
     "text": [
      "0    39\n",
      "1    50\n",
      "2    38\n",
      "3    53\n",
      "4    28\n",
      "Name: age, dtype: int64 32556    27\n",
      "32557    40\n",
      "32558    58\n",
      "32559    22\n",
      "32560    52\n",
      "Name: age, dtype: int64\n"
     ]
    }
   ],
   "source": [
    "print(age.head(), age.tail())"
   ]
  },
  {
   "cell_type": "markdown",
   "id": "ddccf111-08ab-4000-b01b-5edba65626f9",
   "metadata": {},
   "source": [
    "##  iloc -- acessar elementos utilizando os índices  -- Busca indexada"
   ]
  },
  {
   "cell_type": "code",
   "execution_count": 23,
   "id": "21246c60-15a5-4ff3-a512-2a0cd3fbc411",
   "metadata": {},
   "outputs": [
    {
     "name": "stdout",
     "output_type": "stream",
     "text": [
      "39 38 52\n"
     ]
    }
   ],
   "source": [
    "print(age.iloc[0], age.iloc[2], age.iloc[-1])  # obtendo registros únicos"
   ]
  },
  {
   "cell_type": "code",
   "execution_count": 24,
   "id": "3b81cfd7-6a02-401e-a58f-f07fc990ae7c",
   "metadata": {},
   "outputs": [
    {
     "name": "stdout",
     "output_type": "stream",
     "text": [
      "0    39\n",
      "1    50\n",
      "2    38\n",
      "Name: age, dtype: int64\n"
     ]
    }
   ],
   "source": [
    "print(age.iloc[0:3]) # intearvalo"
   ]
  },
  {
   "cell_type": "code",
   "execution_count": 25,
   "id": "487e3283-04d0-4ecc-8f07-0ecd9d17f852",
   "metadata": {},
   "outputs": [
    {
     "data": {
      "text/plain": [
       "0        39\n",
       "2        38\n",
       "32560    52\n",
       "Name: age, dtype: int64"
      ]
     },
     "execution_count": 25,
     "metadata": {},
     "output_type": "execute_result"
    }
   ],
   "source": [
    "age.iloc[[0,2,-1]] # múltiplos valores"
   ]
  },
  {
   "cell_type": "markdown",
   "id": "ab0b0228-4b01-4496-a87c-75a0c82bbae8",
   "metadata": {},
   "source": [
    "## loc -- acessar elementos por valor "
   ]
  },
  {
   "cell_type": "code",
   "execution_count": 26,
   "id": "7db48d28-4de3-4b5c-a1d8-466067cf6d1e",
   "metadata": {},
   "outputs": [
    {
     "name": "stdout",
     "output_type": "stream",
     "text": [
      "Requirement already satisfied: Faker in /home/danilo/anaconda3/lib/python3.11/site-packages (25.1.0)\n",
      "Requirement already satisfied: python-dateutil>=2.4 in /home/danilo/anaconda3/lib/python3.11/site-packages (from Faker) (2.8.2)\n",
      "Requirement already satisfied: six>=1.5 in /home/danilo/anaconda3/lib/python3.11/site-packages (from python-dateutil>=2.4->Faker) (1.16.0)\n"
     ]
    }
   ],
   "source": [
    "!pip install Faker"
   ]
  },
  {
   "cell_type": "code",
   "execution_count": 27,
   "id": "e33d0d81-541f-4612-92bd-6ddc6a0b2d9f",
   "metadata": {},
   "outputs": [],
   "source": [
    "from faker import Faker \n",
    "fake = Faker()"
   ]
  },
  {
   "cell_type": "code",
   "execution_count": 28,
   "id": "ac1390df-98f7-4233-8a42-370228d5b987",
   "metadata": {},
   "outputs": [],
   "source": [
    "indices_nome  = []\n",
    "for _ in range(len(dataset)):\n",
    "    name = fake.name()\n",
    "    indices_nome.append(name)"
   ]
  },
  {
   "cell_type": "code",
   "execution_count": 29,
   "id": "7ed43ce1-ce3c-473e-a474-2f7ed17ecae6",
   "metadata": {},
   "outputs": [],
   "source": [
    "dataset['NOME'] = indices_nome"
   ]
  },
  {
   "cell_type": "code",
   "execution_count": 30,
   "id": "59b7c230-1762-4e22-b60a-c4ed58f0416d",
   "metadata": {
    "scrolled": true
   },
   "outputs": [
    {
     "name": "stdout",
     "output_type": "stream",
     "text": [
      "0        Cameron Paul\n",
      "1    Kristina Hensley\n",
      "2     Michelle Flores\n",
      "3     Jennifer Burton\n",
      "4      Michael Meyers\n",
      "Name: NOME, dtype: object 32556       Wanda Simmons\n",
      "32557    Bruce Richardson\n",
      "32558         Sarah Lewis\n",
      "32559     Christopher Lee\n",
      "32560      Gordon Johnson\n",
      "Name: NOME, dtype: object\n"
     ]
    }
   ],
   "source": [
    "print(dataset['NOME'].head(), dataset['NOME'].tail())"
   ]
  },
  {
   "cell_type": "code",
   "execution_count": 31,
   "id": "d7ce83f5-8f08-455f-a8b6-ad92a3a33c42",
   "metadata": {},
   "outputs": [
    {
     "data": {
      "text/html": [
       "<div>\n",
       "<style scoped>\n",
       "    .dataframe tbody tr th:only-of-type {\n",
       "        vertical-align: middle;\n",
       "    }\n",
       "\n",
       "    .dataframe tbody tr th {\n",
       "        vertical-align: top;\n",
       "    }\n",
       "\n",
       "    .dataframe thead th {\n",
       "        text-align: right;\n",
       "    }\n",
       "</style>\n",
       "<table border=\"1\" class=\"dataframe\">\n",
       "  <thead>\n",
       "    <tr style=\"text-align: right;\">\n",
       "      <th></th>\n",
       "      <th>age</th>\n",
       "      <th>workclass</th>\n",
       "      <th>final-weight</th>\n",
       "      <th>education</th>\n",
       "      <th>education-num</th>\n",
       "      <th>marital-status</th>\n",
       "      <th>occupation</th>\n",
       "      <th>relationship</th>\n",
       "      <th>race</th>\n",
       "      <th>sex</th>\n",
       "      <th>capital-gain</th>\n",
       "      <th>capital-loos</th>\n",
       "      <th>hour-per-week</th>\n",
       "      <th>native-country</th>\n",
       "      <th>income</th>\n",
       "      <th>NOME</th>\n",
       "    </tr>\n",
       "  </thead>\n",
       "  <tbody>\n",
       "  </tbody>\n",
       "</table>\n",
       "</div>"
      ],
      "text/plain": [
       "Empty DataFrame\n",
       "Columns: [age, workclass, final-weight, education, education-num, marital-status, occupation, relationship, race, sex, capital-gain, capital-loos, hour-per-week, native-country, income, NOME]\n",
       "Index: []"
      ]
     },
     "execution_count": 31,
     "metadata": {},
     "output_type": "execute_result"
    }
   ],
   "source": [
    "dataset.loc[dataset['NOME'] == 'Anthony Sherman']"
   ]
  },
  {
   "cell_type": "code",
   "execution_count": 32,
   "id": "ef3041aa-3c3d-4516-a39f-e2c2367764a9",
   "metadata": {},
   "outputs": [
    {
     "data": {
      "text/html": [
       "<div>\n",
       "<style scoped>\n",
       "    .dataframe tbody tr th:only-of-type {\n",
       "        vertical-align: middle;\n",
       "    }\n",
       "\n",
       "    .dataframe tbody tr th {\n",
       "        vertical-align: top;\n",
       "    }\n",
       "\n",
       "    .dataframe thead th {\n",
       "        text-align: right;\n",
       "    }\n",
       "</style>\n",
       "<table border=\"1\" class=\"dataframe\">\n",
       "  <thead>\n",
       "    <tr style=\"text-align: right;\">\n",
       "      <th></th>\n",
       "      <th>age</th>\n",
       "      <th>workclass</th>\n",
       "      <th>final-weight</th>\n",
       "      <th>education</th>\n",
       "      <th>education-num</th>\n",
       "      <th>marital-status</th>\n",
       "      <th>occupation</th>\n",
       "      <th>relationship</th>\n",
       "      <th>race</th>\n",
       "      <th>sex</th>\n",
       "      <th>capital-gain</th>\n",
       "      <th>capital-loos</th>\n",
       "      <th>hour-per-week</th>\n",
       "      <th>native-country</th>\n",
       "      <th>income</th>\n",
       "      <th>NOME</th>\n",
       "    </tr>\n",
       "  </thead>\n",
       "  <tbody>\n",
       "  </tbody>\n",
       "</table>\n",
       "</div>"
      ],
      "text/plain": [
       "Empty DataFrame\n",
       "Columns: [age, workclass, final-weight, education, education-num, marital-status, occupation, relationship, race, sex, capital-gain, capital-loos, hour-per-week, native-country, income, NOME]\n",
       "Index: []"
      ]
     },
     "execution_count": 32,
     "metadata": {},
     "output_type": "execute_result"
    }
   ],
   "source": [
    "dataset.loc[dataset['NOME'] == 'Kendra Cobb']"
   ]
  },
  {
   "cell_type": "code",
   "execution_count": 33,
   "id": "04559c26-9e97-4331-9a01-4928925f6ebd",
   "metadata": {},
   "outputs": [
    {
     "data": {
      "text/html": [
       "<div>\n",
       "<style scoped>\n",
       "    .dataframe tbody tr th:only-of-type {\n",
       "        vertical-align: middle;\n",
       "    }\n",
       "\n",
       "    .dataframe tbody tr th {\n",
       "        vertical-align: top;\n",
       "    }\n",
       "\n",
       "    .dataframe thead th {\n",
       "        text-align: right;\n",
       "    }\n",
       "</style>\n",
       "<table border=\"1\" class=\"dataframe\">\n",
       "  <thead>\n",
       "    <tr style=\"text-align: right;\">\n",
       "      <th></th>\n",
       "      <th>age</th>\n",
       "      <th>workclass</th>\n",
       "      <th>final-weight</th>\n",
       "      <th>education</th>\n",
       "      <th>education-num</th>\n",
       "      <th>marital-status</th>\n",
       "      <th>occupation</th>\n",
       "      <th>relationship</th>\n",
       "      <th>race</th>\n",
       "      <th>sex</th>\n",
       "      <th>capital-gain</th>\n",
       "      <th>capital-loos</th>\n",
       "      <th>hour-per-week</th>\n",
       "      <th>native-country</th>\n",
       "      <th>income</th>\n",
       "      <th>NOME</th>\n",
       "    </tr>\n",
       "  </thead>\n",
       "  <tbody>\n",
       "  </tbody>\n",
       "</table>\n",
       "</div>"
      ],
      "text/plain": [
       "Empty DataFrame\n",
       "Columns: [age, workclass, final-weight, education, education-num, marital-status, occupation, relationship, race, sex, capital-gain, capital-loos, hour-per-week, native-country, income, NOME]\n",
       "Index: []"
      ]
     },
     "execution_count": 33,
     "metadata": {},
     "output_type": "execute_result"
    }
   ],
   "source": [
    "dataset.loc[dataset['NOME'] == 'Paul Small']"
   ]
  },
  {
   "cell_type": "markdown",
   "id": "c82efde9-65a3-4ace-9893-df6b9adf9793",
   "metadata": {},
   "source": [
    "## Ordenação "
   ]
  },
  {
   "cell_type": "code",
   "execution_count": 34,
   "id": "e76af273-8db6-42e1-ae0c-855f64d04cde",
   "metadata": {
    "scrolled": true
   },
   "outputs": [
    {
     "data": {
      "text/html": [
       "<div>\n",
       "<style scoped>\n",
       "    .dataframe tbody tr th:only-of-type {\n",
       "        vertical-align: middle;\n",
       "    }\n",
       "\n",
       "    .dataframe tbody tr th {\n",
       "        vertical-align: top;\n",
       "    }\n",
       "\n",
       "    .dataframe thead th {\n",
       "        text-align: right;\n",
       "    }\n",
       "</style>\n",
       "<table border=\"1\" class=\"dataframe\">\n",
       "  <thead>\n",
       "    <tr style=\"text-align: right;\">\n",
       "      <th></th>\n",
       "      <th>age</th>\n",
       "      <th>workclass</th>\n",
       "      <th>final-weight</th>\n",
       "      <th>education</th>\n",
       "      <th>education-num</th>\n",
       "      <th>marital-status</th>\n",
       "      <th>occupation</th>\n",
       "      <th>relationship</th>\n",
       "      <th>race</th>\n",
       "      <th>sex</th>\n",
       "      <th>capital-gain</th>\n",
       "      <th>capital-loos</th>\n",
       "      <th>hour-per-week</th>\n",
       "      <th>native-country</th>\n",
       "      <th>income</th>\n",
       "      <th>NOME</th>\n",
       "    </tr>\n",
       "  </thead>\n",
       "  <tbody>\n",
       "    <tr>\n",
       "      <th>22344</th>\n",
       "      <td>26</td>\n",
       "      <td>State-gov</td>\n",
       "      <td>175044</td>\n",
       "      <td>Some-college</td>\n",
       "      <td>10</td>\n",
       "      <td>Never-married</td>\n",
       "      <td>Protective-serv</td>\n",
       "      <td>Own-child</td>\n",
       "      <td>White</td>\n",
       "      <td>Male</td>\n",
       "      <td>0</td>\n",
       "      <td>0</td>\n",
       "      <td>40</td>\n",
       "      <td>United-States</td>\n",
       "      <td>&lt;=50K</td>\n",
       "      <td>Aaron Allen</td>\n",
       "    </tr>\n",
       "    <tr>\n",
       "      <th>26022</th>\n",
       "      <td>44</td>\n",
       "      <td>Private</td>\n",
       "      <td>113324</td>\n",
       "      <td>HS-grad</td>\n",
       "      <td>9</td>\n",
       "      <td>Married-civ-spouse</td>\n",
       "      <td>Craft-repair</td>\n",
       "      <td>Husband</td>\n",
       "      <td>White</td>\n",
       "      <td>Male</td>\n",
       "      <td>0</td>\n",
       "      <td>0</td>\n",
       "      <td>40</td>\n",
       "      <td>United-States</td>\n",
       "      <td>&lt;=50K</td>\n",
       "      <td>Aaron Allison</td>\n",
       "    </tr>\n",
       "    <tr>\n",
       "      <th>21966</th>\n",
       "      <td>35</td>\n",
       "      <td>Private</td>\n",
       "      <td>388252</td>\n",
       "      <td>Assoc-voc</td>\n",
       "      <td>11</td>\n",
       "      <td>Married-civ-spouse</td>\n",
       "      <td>Adm-clerical</td>\n",
       "      <td>Husband</td>\n",
       "      <td>Black</td>\n",
       "      <td>Male</td>\n",
       "      <td>0</td>\n",
       "      <td>0</td>\n",
       "      <td>40</td>\n",
       "      <td>United-States</td>\n",
       "      <td>&lt;=50K</td>\n",
       "      <td>Aaron Anderson</td>\n",
       "    </tr>\n",
       "    <tr>\n",
       "      <th>3294</th>\n",
       "      <td>43</td>\n",
       "      <td>Private</td>\n",
       "      <td>220589</td>\n",
       "      <td>HS-grad</td>\n",
       "      <td>9</td>\n",
       "      <td>Divorced</td>\n",
       "      <td>Exec-managerial</td>\n",
       "      <td>Unmarried</td>\n",
       "      <td>White</td>\n",
       "      <td>Female</td>\n",
       "      <td>0</td>\n",
       "      <td>0</td>\n",
       "      <td>40</td>\n",
       "      <td>United-States</td>\n",
       "      <td>&lt;=50K</td>\n",
       "      <td>Aaron Andrews</td>\n",
       "    </tr>\n",
       "    <tr>\n",
       "      <th>17876</th>\n",
       "      <td>64</td>\n",
       "      <td>?</td>\n",
       "      <td>45817</td>\n",
       "      <td>9th</td>\n",
       "      <td>5</td>\n",
       "      <td>Married-civ-spouse</td>\n",
       "      <td>?</td>\n",
       "      <td>Husband</td>\n",
       "      <td>White</td>\n",
       "      <td>Male</td>\n",
       "      <td>0</td>\n",
       "      <td>0</td>\n",
       "      <td>50</td>\n",
       "      <td>United-States</td>\n",
       "      <td>&lt;=50K</td>\n",
       "      <td>Aaron Ball</td>\n",
       "    </tr>\n",
       "    <tr>\n",
       "      <th>...</th>\n",
       "      <td>...</td>\n",
       "      <td>...</td>\n",
       "      <td>...</td>\n",
       "      <td>...</td>\n",
       "      <td>...</td>\n",
       "      <td>...</td>\n",
       "      <td>...</td>\n",
       "      <td>...</td>\n",
       "      <td>...</td>\n",
       "      <td>...</td>\n",
       "      <td>...</td>\n",
       "      <td>...</td>\n",
       "      <td>...</td>\n",
       "      <td>...</td>\n",
       "      <td>...</td>\n",
       "      <td>...</td>\n",
       "    </tr>\n",
       "    <tr>\n",
       "      <th>30668</th>\n",
       "      <td>39</td>\n",
       "      <td>Private</td>\n",
       "      <td>176279</td>\n",
       "      <td>Bachelors</td>\n",
       "      <td>13</td>\n",
       "      <td>Divorced</td>\n",
       "      <td>Sales</td>\n",
       "      <td>Not-in-family</td>\n",
       "      <td>White</td>\n",
       "      <td>Female</td>\n",
       "      <td>0</td>\n",
       "      <td>0</td>\n",
       "      <td>40</td>\n",
       "      <td>United-States</td>\n",
       "      <td>&lt;=50K</td>\n",
       "      <td>Zoe Ball</td>\n",
       "    </tr>\n",
       "    <tr>\n",
       "      <th>11635</th>\n",
       "      <td>39</td>\n",
       "      <td>Private</td>\n",
       "      <td>120985</td>\n",
       "      <td>HS-grad</td>\n",
       "      <td>9</td>\n",
       "      <td>Divorced</td>\n",
       "      <td>Other-service</td>\n",
       "      <td>Own-child</td>\n",
       "      <td>White</td>\n",
       "      <td>Male</td>\n",
       "      <td>0</td>\n",
       "      <td>0</td>\n",
       "      <td>40</td>\n",
       "      <td>United-States</td>\n",
       "      <td>&lt;=50K</td>\n",
       "      <td>Zoe Bernard</td>\n",
       "    </tr>\n",
       "    <tr>\n",
       "      <th>20145</th>\n",
       "      <td>55</td>\n",
       "      <td>Self-emp-not-inc</td>\n",
       "      <td>396878</td>\n",
       "      <td>Some-college</td>\n",
       "      <td>10</td>\n",
       "      <td>Married-civ-spouse</td>\n",
       "      <td>Exec-managerial</td>\n",
       "      <td>Husband</td>\n",
       "      <td>Black</td>\n",
       "      <td>Male</td>\n",
       "      <td>0</td>\n",
       "      <td>0</td>\n",
       "      <td>25</td>\n",
       "      <td>United-States</td>\n",
       "      <td>&lt;=50K</td>\n",
       "      <td>Zoe Reyes</td>\n",
       "    </tr>\n",
       "    <tr>\n",
       "      <th>14964</th>\n",
       "      <td>23</td>\n",
       "      <td>Private</td>\n",
       "      <td>413345</td>\n",
       "      <td>Bachelors</td>\n",
       "      <td>13</td>\n",
       "      <td>Never-married</td>\n",
       "      <td>Adm-clerical</td>\n",
       "      <td>Not-in-family</td>\n",
       "      <td>White</td>\n",
       "      <td>Female</td>\n",
       "      <td>0</td>\n",
       "      <td>0</td>\n",
       "      <td>60</td>\n",
       "      <td>United-States</td>\n",
       "      <td>&lt;=50K</td>\n",
       "      <td>Zoe Reynolds</td>\n",
       "    </tr>\n",
       "    <tr>\n",
       "      <th>20293</th>\n",
       "      <td>47</td>\n",
       "      <td>Private</td>\n",
       "      <td>249935</td>\n",
       "      <td>11th</td>\n",
       "      <td>7</td>\n",
       "      <td>Divorced</td>\n",
       "      <td>Craft-repair</td>\n",
       "      <td>Own-child</td>\n",
       "      <td>White</td>\n",
       "      <td>Male</td>\n",
       "      <td>0</td>\n",
       "      <td>0</td>\n",
       "      <td>8</td>\n",
       "      <td>United-States</td>\n",
       "      <td>&lt;=50K</td>\n",
       "      <td>Zoe Stone</td>\n",
       "    </tr>\n",
       "  </tbody>\n",
       "</table>\n",
       "<p>32561 rows × 16 columns</p>\n",
       "</div>"
      ],
      "text/plain": [
       "       age          workclass  final-weight      education  education-num  \\\n",
       "22344   26          State-gov        175044   Some-college             10   \n",
       "26022   44            Private        113324        HS-grad              9   \n",
       "21966   35            Private        388252      Assoc-voc             11   \n",
       "3294    43            Private        220589        HS-grad              9   \n",
       "17876   64                  ?         45817            9th              5   \n",
       "...    ...                ...           ...            ...            ...   \n",
       "30668   39            Private        176279      Bachelors             13   \n",
       "11635   39            Private        120985        HS-grad              9   \n",
       "20145   55   Self-emp-not-inc        396878   Some-college             10   \n",
       "14964   23            Private        413345      Bachelors             13   \n",
       "20293   47            Private        249935           11th              7   \n",
       "\n",
       "            marital-status        occupation    relationship    race      sex  \\\n",
       "22344        Never-married   Protective-serv       Own-child   White     Male   \n",
       "26022   Married-civ-spouse      Craft-repair         Husband   White     Male   \n",
       "21966   Married-civ-spouse      Adm-clerical         Husband   Black     Male   \n",
       "3294              Divorced   Exec-managerial       Unmarried   White   Female   \n",
       "17876   Married-civ-spouse                 ?         Husband   White     Male   \n",
       "...                    ...               ...             ...     ...      ...   \n",
       "30668             Divorced             Sales   Not-in-family   White   Female   \n",
       "11635             Divorced     Other-service       Own-child   White     Male   \n",
       "20145   Married-civ-spouse   Exec-managerial         Husband   Black     Male   \n",
       "14964        Never-married      Adm-clerical   Not-in-family   White   Female   \n",
       "20293             Divorced      Craft-repair       Own-child   White     Male   \n",
       "\n",
       "       capital-gain  capital-loos  hour-per-week  native-country  income  \\\n",
       "22344             0             0             40   United-States   <=50K   \n",
       "26022             0             0             40   United-States   <=50K   \n",
       "21966             0             0             40   United-States   <=50K   \n",
       "3294              0             0             40   United-States   <=50K   \n",
       "17876             0             0             50   United-States   <=50K   \n",
       "...             ...           ...            ...             ...     ...   \n",
       "30668             0             0             40   United-States   <=50K   \n",
       "11635             0             0             40   United-States   <=50K   \n",
       "20145             0             0             25   United-States   <=50K   \n",
       "14964             0             0             60   United-States   <=50K   \n",
       "20293             0             0              8   United-States   <=50K   \n",
       "\n",
       "                 NOME  \n",
       "22344     Aaron Allen  \n",
       "26022   Aaron Allison  \n",
       "21966  Aaron Anderson  \n",
       "3294    Aaron Andrews  \n",
       "17876      Aaron Ball  \n",
       "...               ...  \n",
       "30668        Zoe Ball  \n",
       "11635     Zoe Bernard  \n",
       "20145       Zoe Reyes  \n",
       "14964    Zoe Reynolds  \n",
       "20293       Zoe Stone  \n",
       "\n",
       "[32561 rows x 16 columns]"
      ]
     },
     "execution_count": 34,
     "metadata": {},
     "output_type": "execute_result"
    }
   ],
   "source": [
    "dataset.sort_values('NOME', ascending=True)"
   ]
  },
  {
   "cell_type": "markdown",
   "id": "28aa233f-76d2-4e9a-9684-cf113c3ad899",
   "metadata": {},
   "source": [
    "## Contagem"
   ]
  },
  {
   "cell_type": "code",
   "execution_count": 35,
   "id": "6b1f12aa-639c-42ec-9c4f-394d9e7d12aa",
   "metadata": {},
   "outputs": [
    {
     "data": {
      "text/plain": [
       "False"
      ]
     },
     "execution_count": 35,
     "metadata": {},
     "output_type": "execute_result"
    }
   ],
   "source": [
    "dupp = dataset.duplicated()  \n",
    "\n",
    "True in dupp.values"
   ]
  },
  {
   "cell_type": "code",
   "execution_count": 36,
   "id": "bc479e6a-c910-4d6a-8765-c664b63f1e58",
   "metadata": {},
   "outputs": [
    {
     "data": {
      "text/plain": [
       "age\n",
       "36    898\n",
       "31    888\n",
       "34    886\n",
       "23    877\n",
       "35    876\n",
       "     ... \n",
       "83      6\n",
       "88      3\n",
       "85      3\n",
       "86      1\n",
       "87      1\n",
       "Name: count, Length: 73, dtype: int64"
      ]
     },
     "execution_count": 36,
     "metadata": {},
     "output_type": "execute_result"
    }
   ],
   "source": [
    "dataset['age'].value_counts()"
   ]
  },
  {
   "cell_type": "code",
   "execution_count": 37,
   "id": "08ae50e8-3a37-432d-8a6b-8135fde48dde",
   "metadata": {},
   "outputs": [
    {
     "data": {
      "text/plain": [
       "age\n",
       "39    0.025061\n",
       "50    0.018488\n",
       "38    0.025398\n",
       "53    0.014250\n",
       "28    0.026627\n",
       "        ...   \n",
       "83    0.000184\n",
       "84    0.000307\n",
       "85    0.000092\n",
       "86    0.000031\n",
       "87    0.000031\n",
       "Name: proportion, Length: 73, dtype: float64"
      ]
     },
     "execution_count": 37,
     "metadata": {},
     "output_type": "execute_result"
    }
   ],
   "source": [
    "dataset['age'].value_counts(normalize = True, sort = False)"
   ]
  },
  {
   "cell_type": "code",
   "execution_count": 39,
   "id": "81827cf5-705c-49c3-86e9-489401cdd5d1",
   "metadata": {},
   "outputs": [
    {
     "data": {
      "text/plain": [
       "(38.9, 46.2]      6163\n",
       "(31.6, 38.9]      6048\n",
       "(24.3, 31.6]      5890\n",
       "(16.926, 24.3]    5570\n",
       "(46.2, 53.5]      3967\n",
       "(53.5, 60.8]      2591\n",
       "(60.8, 68.1]      1595\n",
       "(68.1, 75.4]       496\n",
       "(75.4, 82.7]       174\n",
       "(82.7, 90.0]        67\n",
       "Name: count, dtype: int64"
      ]
     },
     "execution_count": 39,
     "metadata": {},
     "output_type": "execute_result"
    }
   ],
   "source": [
    "dataset['age'].value_counts(sort = True, bins = 10 )"
   ]
  },
  {
   "cell_type": "markdown",
   "id": "a87c5268-96b9-472e-bc55-2f8cda1d4576",
   "metadata": {},
   "source": [
    "## Filtros "
   ]
  },
  {
   "cell_type": "code",
   "execution_count": 40,
   "id": "662a4d78-84ee-42ef-b83a-f2e5fa7f1ffe",
   "metadata": {},
   "outputs": [
    {
     "name": "stdout",
     "output_type": "stream",
     "text": [
      "['French Southern Territories', 'Maldives', 'Guatemala', 'Somalia', 'Vanuatu', 'Serbia', 'Mexico', 'Cyprus', 'Cameroon', 'Antarctica (the territory South of 60 deg S)', 'Congo', 'Swaziland', 'Cocos (Keeling) Islands', 'Tonga', 'Azerbaijan', 'Chad', 'Japan', 'Maldives', 'Colombia', 'Czech Republic', 'Congo', 'Poland', 'United States Minor Outlying Islands', 'San Marino', 'Paraguay', 'Cambodia', 'Botswana', 'Ecuador', 'Comoros', 'Micronesia', 'Cook Islands', 'Belize', 'Vanuatu', 'Mozambique', 'Iran', 'Kazakhstan', 'Papua New Guinea', 'Rwanda', 'Moldova', 'Madagascar', 'Slovakia (Slovak Republic)', 'Portugal', 'Samoa', 'Saint Lucia', 'Portugal', 'Cameroon', 'Malta', 'Morocco', 'Puerto Rico', 'Jersey', 'Chile', 'Lebanon', 'Vanuatu', 'Gibraltar', 'Greenland', 'New Zealand', 'Micronesia', 'Macao', 'Liechtenstein', 'Benin', 'Iceland', 'Liberia', 'Cook Islands', 'Vanuatu', 'Georgia', 'Georgia', 'Austria', 'Armenia', 'Wallis and Futuna', 'El Salvador', 'Montserrat', 'Oman', 'Algeria', 'Guinea-Bissau', 'Bolivia', 'Netherlands Antilles', 'Equatorial Guinea', 'Niue', 'Zimbabwe', 'Burkina Faso', 'Saint Pierre and Miquelon', 'Barbados', 'Canada', 'Wallis and Futuna', 'New Zealand', 'Togo', 'Sweden', 'El Salvador', 'North Macedonia', 'Cambodia', 'Western Sahara', 'Tajikistan', 'American Samoa', 'Swaziland', 'Eritrea', 'Nauru', 'Syrian Arab Republic', 'Congo', 'Netherlands', 'Lithuania', 'South Africa', 'Reunion', 'Slovenia', 'Pitcairn Islands', 'Taiwan', 'Zambia', 'Rwanda', 'Liberia', 'Jordan', 'Slovakia (Slovak Republic)', 'Cook Islands', 'Serbia', 'French Southern Territories', 'Burkina Faso', 'New Caledonia', 'Serbia', 'Saint Pierre and Miquelon', 'Cayman Islands', 'Comoros', 'Saint Barthelemy', 'Lesotho', 'France', 'Reunion', 'French Polynesia', 'Kenya', 'Afghanistan', 'Mexico', 'Trinidad and Tobago', 'Jersey', 'South Georgia and the South Sandwich Islands', 'Thailand', 'Cayman Islands', 'Jordan', 'Brunei Darussalam', 'Uruguay', 'Luxembourg', 'Argentina', 'Rwanda', 'Bosnia and Herzegovina', 'Colombia', 'Panama', 'Morocco', 'Gabon', 'Botswana', 'Myanmar', 'Central African Republic', 'Slovakia (Slovak Republic)', 'Netherlands Antilles', 'Anguilla', 'Congo', 'Zambia', 'Norfolk Island', 'Bermuda', 'Martinique', 'Moldova', 'United States of America', 'Benin', 'Dominican Republic', 'Aruba', 'Palestinian Territory', 'Dominican Republic', 'Peru', 'South Georgia and the South Sandwich Islands', 'Lebanon', 'Lesotho', 'Senegal', 'Gabon', 'India', 'New Caledonia', 'Nicaragua', 'Kazakhstan', 'Syrian Arab Republic', 'Belarus', 'Guinea-Bissau', 'New Caledonia', 'China', 'Cameroon', 'Burkina Faso', 'Guinea-Bissau', 'Marshall Islands', 'Angola', 'Mauritius', 'Montserrat', 'Qatar', 'Estonia', 'Namibia', 'Greenland', 'Western Sahara', 'Kenya', 'Ireland', 'Gabon', 'Bermuda', 'Isle of Man', 'Belarus', 'Micronesia', 'Malta', 'Slovakia (Slovak Republic)', 'United States Minor Outlying Islands', 'Canada', 'Aruba', 'Solomon Islands', 'Palau', 'Holy See (Vatican City State)', 'Madagascar', 'Grenada', 'Mauritius', 'Maldives', 'Hong Kong', 'British Indian Ocean Territory (Chagos Archipelago)', 'Azerbaijan', 'Montserrat', 'Slovenia', 'Trinidad and Tobago', 'Egypt', 'New Zealand', 'French Southern Territories', 'Lesotho', 'Antigua and Barbuda', \"Lao People's Democratic Republic\", 'Syrian Arab Republic', 'Qatar', 'Gabon', 'Bahamas', 'Ecuador', 'Antarctica (the territory South of 60 deg S)', 'Nauru', 'Colombia', 'Iraq', 'Nicaragua', 'Libyan Arab Jamahiriya', 'Namibia', 'Barbados', 'Saint Helena', 'Jersey', 'Marshall Islands', 'Greece', 'Luxembourg', 'Venezuela', 'Poland', 'Turkey', 'Azerbaijan', 'Qatar', 'Oman', 'Congo', 'Ireland', 'Saint Martin', 'New Zealand', 'Uruguay', 'Tanzania', 'Martinique', 'New Zealand', 'Jersey', 'Russian Federation', 'Namibia', 'Algeria', 'Romania', 'Sri Lanka', 'Spain', 'Nepal', 'Niger', 'Qatar', 'Chile', 'China', 'Malta', 'Fiji', 'Angola', 'Venezuela', 'French Guiana', 'Belarus', 'Martinique', 'Slovakia (Slovak Republic)', 'Croatia', 'French Guiana', 'Marshall Islands', 'Tunisia', 'Turkmenistan', 'Bouvet Island (Bouvetoya)', 'Guinea-Bissau', 'Panama', 'Armenia', 'Sweden', 'Malaysia', 'Turkmenistan', 'Myanmar', 'Italy', 'Rwanda', 'Madagascar', 'Namibia', 'Namibia', 'Bangladesh', 'Botswana', 'Korea', 'Oman', 'Estonia', 'Saint Pierre and Miquelon', 'Luxembourg', 'Croatia', 'Taiwan', 'South Georgia and the South Sandwich Islands', 'Guinea-Bissau', 'Benin', 'Nicaragua', 'Greece', 'Turks and Caicos Islands', 'Bahamas', 'Suriname', 'Equatorial Guinea', 'Serbia', 'Mayotte', 'Tajikistan', 'Faroe Islands', 'Liechtenstein', 'Tokelau', 'Ghana', 'Maldives', 'Afghanistan', 'Saudi Arabia', 'Togo', 'Saint Helena', 'Dominica', 'Iran', 'Dominica', 'Denmark', 'Palau', 'Yemen', 'Romania', 'Chile', 'Taiwan', 'Northern Mariana Islands', 'Botswana', 'Turkmenistan', 'Argentina', 'Saint Martin', 'Hungary', 'Norfolk Island', 'Bahamas', 'Bangladesh', 'Nepal', 'Panama', 'Macao', 'Liberia', 'United States Virgin Islands', 'Italy', 'Northern Mariana Islands', 'Eritrea', 'South Georgia and the South Sandwich Islands', 'Tokelau', 'Lebanon', 'Algeria', 'New Zealand', 'Guyana', 'Guinea', 'Seychelles', 'Wallis and Futuna', 'Netherlands', 'Senegal', 'Saint Helena', 'Montenegro', 'Tuvalu', 'Liberia', 'Iceland', 'Bahamas', 'France', 'Zimbabwe', 'Yemen', 'Congo', 'Ghana', 'Netherlands', 'Anguilla', 'United States Virgin Islands', 'Saint Helena', 'Fiji', 'Micronesia', 'Slovenia', 'Tanzania', 'Nicaragua', 'Kiribati', 'Monaco', 'Panama', 'Colombia', 'Iceland', 'Cook Islands', 'Canada', 'Morocco', 'Martinique', 'Barbados', 'Dominican Republic', 'Aruba', 'Congo', 'British Virgin Islands', 'Netherlands', 'Antigua and Barbuda', 'Oman', 'Bermuda', 'Saint Martin', 'Western Sahara', 'Anguilla', 'Argentina', 'French Polynesia', 'Algeria', 'Turkey', 'Moldova', 'Dominican Republic', 'United States Minor Outlying Islands', 'Nigeria', \"Cote d'Ivoire\", 'Israel', 'Iceland', 'Suriname', 'Lithuania', 'Kazakhstan', 'Haiti', 'Eritrea', 'Luxembourg', 'Belgium', 'Libyan Arab Jamahiriya', 'Dominica', 'Cape Verde', 'Saint Vincent and the Grenadines', 'Bermuda', 'El Salvador', 'Bouvet Island (Bouvetoya)', 'Tanzania', 'Samoa', 'Cayman Islands', 'Uruguay', 'Switzerland', 'Belarus', 'Saint Barthelemy', 'Romania', 'United States of America', 'Faroe Islands', 'Uzbekistan', 'British Virgin Islands', 'Congo', 'Paraguay', 'Hungary', 'Belgium', 'Holy See (Vatican City State)', 'Guyana', 'French Southern Territories', 'Tuvalu', 'Angola', 'Malawi', 'El Salvador', 'Eritrea', 'Finland', 'Niue', 'Cyprus', 'Anguilla', 'Gibraltar', 'Mongolia', 'Saint Kitts and Nevis', 'Gambia', 'Korea', 'Tokelau', 'Argentina', 'Paraguay', 'Vietnam', 'Seychelles', 'Tonga', 'Togo', 'Peru', 'Timor-Leste', 'Australia', 'Malta', 'Saint Kitts and Nevis', 'Haiti', 'Senegal', 'Tajikistan', 'Latvia', 'Iceland', 'China', 'Montserrat', 'Puerto Rico', 'Tokelau', 'Iceland', 'Bolivia', 'Mali', 'Chad', 'Kiribati', 'China', 'Peru', 'Eritrea', 'British Indian Ocean Territory (Chagos Archipelago)', 'Kyrgyz Republic', 'Tanzania', 'Hong Kong', 'British Indian Ocean Territory (Chagos Archipelago)', 'Vietnam', 'Yemen', 'Syrian Arab Republic', 'Vietnam', 'Azerbaijan', 'Timor-Leste', 'Sri Lanka', 'Saint Kitts and Nevis', 'British Indian Ocean Territory (Chagos Archipelago)', 'Spain', 'Mongolia', 'Spain', 'Zimbabwe', 'Afghanistan', 'Uganda', 'Sudan', 'Nicaragua', 'Slovakia (Slovak Republic)', 'Tajikistan', 'Costa Rica', 'Benin', 'Gibraltar', 'Central African Republic', 'Azerbaijan', 'Saint Helena', 'Kenya', 'Bahamas', 'Brazil', 'Gambia', 'Philippines', 'Anguilla', 'British Indian Ocean Territory (Chagos Archipelago)', 'Yemen', 'Sao Tome and Principe', 'Zimbabwe', 'Cayman Islands', 'Korea', 'Burundi', 'Western Sahara', 'Oman', 'Austria', 'Liechtenstein', 'Dominican Republic', 'Monaco', 'Grenada', 'Svalbard & Jan Mayen Islands', 'Puerto Rico', 'Nepal', 'Solomon Islands', 'Mexico', 'Western Sahara', 'French Southern Territories', 'Tunisia', 'Oman', 'Vietnam', 'Denmark', 'Brunei Darussalam', 'Tuvalu', 'Georgia', 'Guinea', 'Greece', 'Ghana', 'Saint Pierre and Miquelon', 'Malta', 'Tonga', 'Marshall Islands', 'Indonesia', 'Lesotho', 'Jersey', 'Palestinian Territory', 'Jersey', 'New Caledonia', 'British Virgin Islands', 'Antigua and Barbuda', 'Palestinian Territory', 'Uzbekistan', 'Trinidad and Tobago', 'Sierra Leone', 'Reunion', 'Burkina Faso', 'Costa Rica', 'Dominican Republic', 'Netherlands Antilles', 'Burkina Faso', 'Saint Barthelemy', 'Central African Republic', 'Sweden', 'Qatar', 'Angola', 'Estonia', 'Anguilla', 'Lithuania', 'Reunion', 'Swaziland', 'Vanuatu', 'Lebanon', 'Taiwan', 'Zambia', 'Jamaica', 'Cayman Islands', 'Chile', 'Saint Vincent and the Grenadines', 'Philippines', 'Netherlands Antilles', 'Saint Martin', 'Equatorial Guinea', 'Montenegro', 'Kiribati', 'South Africa', 'Christmas Island', 'Oman', 'Tokelau', 'Benin', 'Netherlands Antilles', 'Venezuela', 'Marshall Islands', 'Luxembourg', 'Cuba', 'Norway', 'Namibia', 'Poland', 'Colombia', 'Saint Martin', 'Cyprus', 'Maldives', 'Colombia', 'American Samoa', 'Portugal', 'Lesotho', 'Tonga', 'British Virgin Islands', 'Nepal', 'Syrian Arab Republic', 'Brazil', 'Lebanon', 'Comoros', 'Iceland', 'Denmark', 'Italy', 'Portugal', 'Heard Island and McDonald Islands', 'El Salvador', 'Syrian Arab Republic', 'Malawi', 'Canada', 'United States Virgin Islands', 'Cameroon', 'Egypt', 'Kazakhstan', 'Bouvet Island (Bouvetoya)', 'Sri Lanka', 'Palau', 'Croatia', 'Denmark', 'American Samoa', 'Saudi Arabia', 'Romania', 'Liberia', 'United States Minor Outlying Islands', 'Seychelles', 'Uruguay', 'Botswana', 'Tunisia', 'Montserrat', 'Pitcairn Islands', 'Cyprus', 'Isle of Man', 'Bangladesh', 'Dominican Republic', 'Nicaragua', 'Libyan Arab Jamahiriya', 'Equatorial Guinea', 'Namibia', 'Bouvet Island (Bouvetoya)', 'Slovakia (Slovak Republic)', 'South Africa', 'Lesotho', 'Botswana', \"Lao People's Democratic Republic\", 'Niue', 'Macao', 'Angola', 'Aruba', 'Ghana', 'Kiribati', 'Vanuatu', 'Slovenia', 'Svalbard & Jan Mayen Islands', 'Denmark', 'Congo', 'Madagascar', 'Andorra', 'Martinique', 'Mauritius', 'Poland', 'Uganda', 'Congo', 'Guyana', 'Nauru', 'Nicaragua', 'British Indian Ocean Territory (Chagos Archipelago)', 'Estonia', 'Cuba', 'Sao Tome and Principe', 'Pakistan', 'Ecuador', 'Bouvet Island (Bouvetoya)', 'Kyrgyz Republic', 'Chile', 'Bermuda', 'Serbia', 'Papua New Guinea', 'Iran', 'Andorra', 'Cape Verde', 'Montenegro', 'Sweden', 'Ireland', 'Brunei Darussalam', 'Austria', 'Liechtenstein', 'Qatar', 'Syrian Arab Republic', 'Nicaragua', 'Reunion', 'Pitcairn Islands', 'Serbia', 'Aruba', 'Central African Republic', 'Trinidad and Tobago', 'Saint Lucia', 'Hungary', 'Slovenia', 'Fiji', 'Lithuania', 'Haiti', 'Cyprus', 'Belize', 'Seychelles', 'Liberia', 'United Arab Emirates', 'Botswana', 'Nicaragua', 'Italy', 'Dominican Republic', 'Suriname', 'Uzbekistan', 'Italy', 'Italy', 'Georgia', 'Gibraltar', 'Qatar', 'Syrian Arab Republic', 'India', 'Tokelau', 'Eritrea', 'Saint Helena', 'United Kingdom', 'Latvia', 'Ukraine', 'Cook Islands', 'Portugal', 'Tunisia', 'Iraq', 'Greece', 'Bouvet Island (Bouvetoya)', 'Saint Lucia', 'Northern Mariana Islands', 'Papua New Guinea', 'Senegal', 'American Samoa', 'Germany', 'Lesotho', 'New Zealand', 'Madagascar', 'Luxembourg', 'Mongolia', 'Czech Republic', 'Montserrat', 'Heard Island and McDonald Islands', 'Guinea-Bissau', 'Madagascar', 'Saint Pierre and Miquelon', 'Mali', 'Bosnia and Herzegovina', 'Spain', 'Hong Kong', 'Poland', 'Cape Verde', 'Turks and Caicos Islands', 'British Indian Ocean Territory (Chagos Archipelago)', 'North Macedonia', 'Vietnam', 'Niue', 'Haiti', 'Iraq', 'Bosnia and Herzegovina', 'Zimbabwe', 'Haiti', 'Trinidad and Tobago', 'Andorra', 'Botswana', 'Mauritania', 'Iceland', 'Namibia', 'Somalia', 'Papua New Guinea', 'Cuba', 'Greenland', 'Kiribati', 'Taiwan', 'French Polynesia', 'Sudan', 'Mauritania', 'San Marino', 'Dominica', 'Saint Martin', 'Indonesia', 'Saudi Arabia', 'Bangladesh', 'Turkey', 'Montserrat', 'Mozambique', 'Chad', 'Jamaica', 'Luxembourg', 'Eritrea', 'Saint Pierre and Miquelon', 'Malawi', 'Martinique', 'Monaco', 'Macao', 'Samoa', 'Myanmar', 'Cayman Islands', 'Egypt', 'Uruguay', 'Poland', 'Saint Lucia', 'Cocos (Keeling) Islands', 'United Arab Emirates', 'Greece', 'Zambia', 'Guinea', 'Malaysia', 'Kazakhstan', 'Cambodia', 'Spain', 'Uganda', 'Central African Republic', 'Uzbekistan', 'Guinea', 'Aruba', 'Martinique', 'France', 'Italy', 'British Virgin Islands', 'Guinea', 'Niger', 'New Caledonia', 'Japan', 'Saint Kitts and Nevis', 'Italy', 'Argentina', 'Moldova', 'Somalia', 'French Polynesia', 'Costa Rica', 'Netherlands', 'Mongolia', 'Saint Lucia', 'Bosnia and Herzegovina', 'Israel', 'Niue', 'Jersey', 'Bangladesh', 'Rwanda', 'El Salvador', 'Nepal', 'Sweden', 'Bouvet Island (Bouvetoya)', 'Madagascar', 'Northern Mariana Islands', 'Chile', 'Argentina', 'Nepal', 'Russian Federation', 'Kazakhstan', 'Vanuatu', 'British Virgin Islands', 'Vietnam', 'Bolivia', 'Monaco', 'Malaysia', 'Niue', 'Costa Rica', 'Thailand', 'Bermuda', 'Namibia', 'Nicaragua', 'Bolivia', 'Grenada', 'Czech Republic', 'United States Minor Outlying Islands', 'Austria', 'Heard Island and McDonald Islands', 'Israel', 'Tuvalu', 'Latvia', 'Bangladesh', 'India', 'Faroe Islands', 'Nepal', 'Guam', 'Mexico', 'Papua New Guinea', 'Myanmar', 'Bahamas', 'Croatia', 'Angola', 'New Zealand', 'Comoros', 'Belarus', 'Burundi', 'Tajikistan', 'American Samoa', 'Falkland Islands (Malvinas)', 'United Arab Emirates', 'Heard Island and McDonald Islands', 'French Guiana', 'United States Virgin Islands', 'Cuba', 'Cook Islands', 'Paraguay', 'Croatia', 'Botswana', 'Comoros', 'Netherlands', 'Isle of Man', 'Latvia', 'Anguilla', 'Malawi', 'Bulgaria', 'Bermuda', 'Botswana', 'Montenegro', 'Kazakhstan', 'United States of America', 'Tuvalu', 'Bahamas', 'Japan', 'Malta', 'Taiwan', 'Turks and Caicos Islands', 'Saint Lucia', 'Fiji', 'Macao', 'Austria', 'American Samoa', 'Mozambique', 'Cook Islands', 'French Guiana', 'Cook Islands', 'Rwanda', 'Guinea', 'Pitcairn Islands', 'Seychelles', 'North Macedonia', 'Thailand', 'Zambia', 'Qatar', 'Montenegro', 'Mongolia', 'Maldives', 'Seychelles', 'Costa Rica', 'Eritrea', 'Liechtenstein', 'Mali', 'American Samoa', 'Bangladesh', 'Moldova', 'Ecuador', 'New Caledonia', 'Samoa', 'Madagascar', 'Thailand', 'United States Virgin Islands', 'Kiribati', 'Belarus', 'Tonga', 'Turkmenistan', 'Uruguay', 'Gabon', 'Mexico', 'Kuwait', 'Guadeloupe', 'Liechtenstein', 'North Macedonia', 'Gabon', 'Bangladesh', 'Norfolk Island', 'Gabon', 'British Indian Ocean Territory (Chagos Archipelago)', 'Uzbekistan', 'Slovenia', 'Belize', 'Andorra', 'Peru', 'Turks and Caicos Islands', 'Palestinian Territory', 'Iran', 'Trinidad and Tobago', 'Myanmar', 'Saint Pierre and Miquelon', 'Congo', 'Austria', 'Cameroon', 'Pitcairn Islands', 'Netherlands', 'Heard Island and McDonald Islands', 'Norfolk Island', 'Saint Pierre and Miquelon', 'Tunisia', 'Bermuda', 'Gambia', 'Cape Verde', 'Switzerland', 'Norway', 'Bolivia', 'Haiti', 'Austria', 'Iceland', 'Georgia', 'Madagascar', 'Bouvet Island (Bouvetoya)', 'Kiribati', 'San Marino', 'Luxembourg', 'American Samoa', 'Germany', 'Bosnia and Herzegovina', 'Guadeloupe', 'Comoros', 'Israel', 'Luxembourg', 'Congo', 'Norway', 'Gabon', 'Maldives', 'Papua New Guinea', 'Senegal', 'Canada', 'Slovenia', 'Puerto Rico', 'Congo', 'Bouvet Island (Bouvetoya)', 'Georgia', 'Bosnia and Herzegovina', 'Anguilla', 'Haiti', 'Samoa', 'United States Virgin Islands', 'Palestinian Territory', 'Portugal', 'Philippines', 'Tunisia', 'Armenia', 'Qatar', 'Macao', 'Liberia', 'Wallis and Futuna', 'Pakistan', 'Saint Lucia', 'Comoros', 'Tunisia', 'Guatemala', 'Hungary', 'Poland', 'French Polynesia', 'Ukraine', 'Iran', 'Zimbabwe', 'Lebanon', 'Estonia', 'Malaysia', 'Lebanon', 'French Southern Territories', 'Jamaica', 'Suriname', 'Dominican Republic', 'Saint Barthelemy', 'Guatemala', 'Iceland', 'Kuwait', 'Austria', 'Malawi', 'Burkina Faso', 'Vanuatu', 'Libyan Arab Jamahiriya', 'Cuba', 'Puerto Rico', 'China', 'Mauritania', 'Aruba', 'Aruba', 'Sierra Leone', 'Swaziland', 'Saint Martin', 'Djibouti', 'Niger', 'Luxembourg', 'Trinidad and Tobago', 'Israel', 'Australia', 'Bermuda', 'Wallis and Futuna', 'Guam', 'Pakistan', 'United States Minor Outlying Islands', 'Peru', 'Lesotho', 'Tunisia', 'Romania', 'Iraq', 'South Georgia and the South Sandwich Islands', 'Yemen', 'Chad', 'Turkey', 'Swaziland', 'Luxembourg', 'Haiti', 'Sao Tome and Principe', 'Guernsey', 'Kiribati', 'Panama', 'Maldives', 'British Virgin Islands', 'Bosnia and Herzegovina', 'Israel', 'Egypt', 'Paraguay', 'Slovakia (Slovak Republic)', 'Mexico', 'Brazil', 'Algeria', 'Yemen', 'Senegal', 'Svalbard & Jan Mayen Islands', 'Norfolk Island', 'Burundi', 'Yemen', 'Faroe Islands', 'Bermuda', 'Kyrgyz Republic', 'Philippines', 'Spain', 'Algeria', 'Japan', 'Tajikistan', 'Panama', 'Guinea-Bissau', 'Falkland Islands (Malvinas)', 'Germany', 'Morocco', 'Qatar', 'Sierra Leone', 'South Georgia and the South Sandwich Islands', 'South Africa', 'Denmark', 'Guatemala', 'Bermuda', 'Jersey', 'Montserrat', 'Macao', 'South Georgia and the South Sandwich Islands', 'Slovakia (Slovak Republic)', 'Turkmenistan', 'Bhutan', 'Papua New Guinea', 'Tanzania', 'Central African Republic', 'Monaco', 'Malaysia', 'Malaysia', 'Pitcairn Islands', 'Reunion', 'Dominican Republic', 'Ukraine', 'British Indian Ocean Territory (Chagos Archipelago)', 'Iraq', 'Wallis and Futuna', 'Montserrat', 'Belarus', 'Algeria', 'Mexico', 'Seychelles', 'North Macedonia', 'Svalbard & Jan Mayen Islands', 'American Samoa', 'Sri Lanka', 'Lithuania', 'Aruba', 'Liberia', 'Haiti', 'Ukraine', 'Bouvet Island (Bouvetoya)', 'Svalbard & Jan Mayen Islands', 'Cocos (Keeling) Islands', 'Marshall Islands', 'Tonga', 'Sudan', 'Bhutan', 'Djibouti', 'Montserrat', 'Netherlands', 'Kazakhstan', 'Bangladesh', 'United States Virgin Islands', 'South Africa', 'Paraguay', 'Hong Kong', 'French Polynesia', 'Faroe Islands', 'Estonia', 'Saint Pierre and Miquelon', 'Denmark', 'Panama', 'Mexico', 'Equatorial Guinea', 'Honduras', 'Turkey', 'Fiji', 'Venezuela', 'Haiti', 'San Marino', 'Japan', 'Antigua and Barbuda', 'Bosnia and Herzegovina', 'Macao', 'Hungary', 'Maldives', 'Saint Vincent and the Grenadines', 'Norway', 'Oman', 'Moldova', 'United States of America', 'Cayman Islands', 'Cambodia', 'Mongolia', 'Bahamas', 'Western Sahara', 'Uruguay', 'Kuwait', 'Belarus', 'Burkina Faso', 'Bulgaria', 'Norway', 'Samoa', 'Algeria', 'Bahamas', 'South Georgia and the South Sandwich Islands', 'United Kingdom', 'Northern Mariana Islands', 'Gibraltar', 'Grenada', 'Ecuador', 'Israel', 'United Kingdom', 'Russian Federation', 'Madagascar', 'India', 'United States of America', 'Marshall Islands', 'Japan', 'French Southern Territories', 'Dominican Republic', 'Belgium', 'Falkland Islands (Malvinas)', 'Saint Helena', 'Chile', 'Dominica', 'Bhutan', 'Vanuatu', 'Haiti', 'San Marino', 'United Arab Emirates', 'Malta', 'Guatemala', 'Cape Verde', 'Georgia', 'Niue', 'Uruguay', 'Haiti', 'Russian Federation', 'Qatar', 'Pakistan', 'Germany', 'Burkina Faso', 'Paraguay', 'Grenada', 'Timor-Leste', 'Maldives', 'Monaco', 'Zambia', 'Tunisia', 'Azerbaijan', 'American Samoa', 'Zambia', 'Finland', 'Cayman Islands', 'Sao Tome and Principe', 'Sweden', 'Malta', 'Denmark', 'Isle of Man', 'Moldova', 'Paraguay', 'Montenegro', 'Netherlands Antilles', 'Isle of Man', 'Venezuela', 'Palestinian Territory', 'Philippines', 'Taiwan', 'French Guiana', 'Denmark', 'Yemen', 'Nicaragua', 'Bulgaria', 'Sudan', 'Botswana', 'Estonia', 'Romania', 'Pakistan', 'Sao Tome and Principe', 'Azerbaijan', 'United States of America', 'Madagascar', 'Malawi', 'Namibia', 'Jersey', 'Kazakhstan', 'Peru', 'Costa Rica', 'Tonga', 'Colombia', 'Mayotte', 'Cook Islands', 'Switzerland', 'Timor-Leste', 'New Zealand', 'Philippines', 'Latvia', 'Gibraltar', 'Tonga', 'British Virgin Islands', \"Lao People's Democratic Republic\", 'Maldives', 'United States of America', 'Guyana', 'Turkey', 'Egypt', 'United States Virgin Islands', 'Denmark', 'Guadeloupe', 'Heard Island and McDonald Islands', 'Mayotte', 'Vanuatu', 'Brazil', 'France', 'Sweden', 'Saint Lucia', 'Czech Republic', 'Svalbard & Jan Mayen Islands', 'Sierra Leone', 'Lithuania', 'Mauritius', 'Nauru', 'Sao Tome and Principe', 'Hungary', 'Saint Pierre and Miquelon', 'New Caledonia', 'Barbados', 'Belize', 'Tajikistan', 'Bahrain', 'Bolivia', 'Zambia', 'Nepal', 'Netherlands Antilles', 'French Southern Territories', 'Faroe Islands', 'Mayotte', 'Syrian Arab Republic', 'Guam', 'Kuwait', 'Burkina Faso', 'Bermuda', 'Grenada', 'Fiji', 'Northern Mariana Islands', 'Armenia', 'Italy', 'Turkmenistan', 'Bouvet Island (Bouvetoya)', 'Rwanda', 'Indonesia', 'Heard Island and McDonald Islands', 'San Marino', 'Indonesia', 'Taiwan', 'Solomon Islands', 'French Guiana', 'Tajikistan', 'Liechtenstein', 'Hungary', 'Congo', 'New Zealand', 'United Arab Emirates', 'Uzbekistan', 'Falkland Islands (Malvinas)', 'Congo', 'Slovenia', 'British Indian Ocean Territory (Chagos Archipelago)', 'Yemen', 'Kenya', 'Saint Kitts and Nevis', 'Cameroon', 'Guatemala', 'Indonesia', 'Norway', 'Bolivia', 'Qatar', 'Lithuania', 'British Virgin Islands', 'Kiribati', 'Italy', 'Cyprus', \"Lao People's Democratic Republic\", 'Cambodia', 'Cyprus', 'Botswana', 'Uganda', 'Argentina', 'Faroe Islands', 'Guadeloupe', 'Slovenia', 'Syrian Arab Republic', 'Morocco', 'Anguilla', 'Japan', 'Brazil', 'Palau', 'Uruguay', 'Armenia', 'Iraq', 'British Indian Ocean Territory (Chagos Archipelago)', 'Trinidad and Tobago', 'Finland', 'India', 'Burkina Faso', 'Bouvet Island (Bouvetoya)', 'Antigua and Barbuda', 'Gibraltar', 'Ghana', 'Heard Island and McDonald Islands', 'Nepal', 'Northern Mariana Islands', 'Paraguay', 'Sudan', 'Qatar', 'Turkey', 'Panama', 'Nepal', 'Saudi Arabia', 'Cyprus', 'Gambia', 'Guam', 'Malawi', 'Austria', 'Northern Mariana Islands', 'Switzerland', 'Djibouti', 'Palestinian Territory', 'Faroe Islands', 'Saint Helena', 'Timor-Leste', 'Solomon Islands', 'Costa Rica', 'American Samoa', 'Jordan', 'Netherlands', 'Micronesia', 'Central African Republic', 'Bolivia', 'Dominican Republic', 'Switzerland', 'South Georgia and the South Sandwich Islands', 'Reunion', 'Bosnia and Herzegovina', 'Liechtenstein', 'Timor-Leste', 'Burundi', 'Mayotte', 'Ghana', 'Djibouti', 'Liechtenstein', 'Turkey', 'Gibraltar', 'San Marino', 'Falkland Islands (Malvinas)', 'Sudan', 'Lebanon', 'Romania', 'France', 'Trinidad and Tobago', 'Guyana', 'Northern Mariana Islands', 'Korea', 'Angola', 'Saint Pierre and Miquelon', 'Austria', 'Algeria', 'Bolivia', 'Tokelau', 'Bhutan', 'Western Sahara', 'Slovenia', 'Honduras', 'Ecuador', 'Sweden', 'Hungary', 'Palestinian Territory', 'Yemen', 'Macao', 'Sierra Leone', 'Tokelau', 'Libyan Arab Jamahiriya', 'Ireland', 'Poland', 'Saint Lucia', 'Tajikistan', 'Albania', 'Cocos (Keeling) Islands', 'Kazakhstan', 'Italy', 'Maldives', 'Somalia', 'Chile', 'Greenland', 'Ecuador', 'San Marino', 'Austria', 'Reunion', 'Puerto Rico', 'Argentina', 'Liechtenstein', 'Zimbabwe', 'El Salvador', 'Dominica', 'Mali', 'Ecuador', 'Honduras', 'Belgium', 'Malaysia', 'Faroe Islands', 'Iraq', 'Trinidad and Tobago', 'Macao', 'Netherlands', 'Congo', 'Portugal', 'Guadeloupe', 'Swaziland', 'Cook Islands', 'Burundi', 'Seychelles', 'Burkina Faso', 'Singapore', 'Guyana', 'Brazil', 'Seychelles', 'Korea', 'Guinea', 'Maldives', 'France', 'Latvia', 'Russian Federation', 'Philippines', 'Cameroon', 'Luxembourg', 'Malta', 'Gibraltar', 'Djibouti', 'Albania', 'Germany', 'Somalia', 'French Guiana', 'Tuvalu', 'Gabon', 'Kyrgyz Republic', 'Qatar', 'Lithuania', 'Azerbaijan', 'Hong Kong', 'Korea', 'Greece', 'Iran', 'Jamaica', 'Turks and Caicos Islands', 'Uganda', 'Tunisia', 'Serbia', 'Philippines', 'Canada', 'Morocco', 'Mayotte', 'Uruguay', 'Egypt', 'Nigeria', 'Malta', 'Nigeria', 'Swaziland', 'Ghana', 'Bulgaria', 'Honduras', 'Slovakia (Slovak Republic)', 'Poland', 'Cook Islands', 'Saint Martin', 'Aruba', 'Guyana', 'Bahrain', 'Vanuatu', 'Bahamas', 'Northern Mariana Islands', 'Albania', 'Dominica', 'Germany', 'Georgia', 'Zimbabwe', 'Zimbabwe', 'France', 'Falkland Islands (Malvinas)', 'Tanzania', 'Belize', 'Azerbaijan', 'Turkey', 'Barbados', 'Netherlands Antilles', 'Equatorial Guinea', 'South Africa', 'Svalbard & Jan Mayen Islands', 'Holy See (Vatican City State)', 'Liechtenstein', 'Sao Tome and Principe', 'Benin', 'Switzerland', 'Bhutan', 'Swaziland', 'Saint Kitts and Nevis', 'Belarus', 'Nigeria', 'Saint Barthelemy', 'United Arab Emirates', 'Jersey', 'Uzbekistan', 'Iraq', 'Micronesia', 'Burundi', 'Trinidad and Tobago', 'Togo', 'Mauritania', 'Mongolia', 'Sao Tome and Principe', 'Reunion', 'Greenland', 'Nigeria', 'New Zealand', 'Ethiopia', 'Armenia', 'Colombia', 'Egypt', 'North Macedonia', 'San Marino', 'Nicaragua', 'Jordan', 'Georgia', 'Sierra Leone', 'Guinea', 'Madagascar', 'Zambia', 'Swaziland', 'Djibouti', 'Dominica', 'Saint Pierre and Miquelon', 'Estonia', 'Zambia', 'Moldova', 'Aruba', 'Ghana', 'Iraq', 'Dominica', 'Madagascar', 'Nauru', 'Samoa', 'Mozambique', 'Saint Barthelemy', 'Cambodia', 'Canada', 'Bahamas', 'Libyan Arab Jamahiriya', 'Gambia', 'French Polynesia', 'Pitcairn Islands', 'Korea', 'Sweden', 'South Africa', 'Malawi', 'New Caledonia', 'Bolivia', 'Sudan', 'Ghana', 'Tajikistan', 'Bouvet Island (Bouvetoya)', 'Botswana', 'Heard Island and McDonald Islands', 'Saint Barthelemy', 'Belgium', 'Namibia', 'Turkmenistan', 'Guinea-Bissau', 'Samoa', 'Reunion', 'Uruguay', 'Equatorial Guinea', 'Somalia', 'Holy See (Vatican City State)', 'Canada', 'Yemen', \"Cote d'Ivoire\", 'Venezuela', 'Guadeloupe', 'Kyrgyz Republic', 'Lesotho', 'Bouvet Island (Bouvetoya)', 'Serbia', 'Grenada', 'Lesotho', 'Martinique', 'Trinidad and Tobago', 'French Southern Territories', 'Ireland', 'China', 'Eritrea', 'Ukraine', 'Saudi Arabia', 'Saint Martin', 'Senegal', 'Argentina', 'Qatar', 'Japan', 'Philippines', 'Jordan', 'Saint Vincent and the Grenadines', 'Belize', 'Mexico', 'Romania', 'Congo', 'Netherlands Antilles', \"Cote d'Ivoire\", 'Saudi Arabia', 'Lebanon', 'Eritrea', 'Guinea-Bissau', 'Senegal', 'South Georgia and the South Sandwich Islands', 'Djibouti', 'British Virgin Islands', 'Solomon Islands', 'Liberia', 'Isle of Man', 'Cook Islands', 'San Marino', 'Israel', 'Marshall Islands', 'Lebanon', 'Israel', 'North Macedonia', 'Germany', 'Solomon Islands', 'China', 'Guinea-Bissau', 'Kiribati', 'Indonesia', 'Philippines', 'Grenada', 'Guadeloupe', 'Bulgaria', 'Namibia', 'Saint Pierre and Miquelon', 'Andorra', 'Pitcairn Islands', 'Iceland', 'Netherlands', 'Portugal', 'Maldives', 'Antigua and Barbuda', 'Malawi', 'Azerbaijan', 'Serbia', 'Jordan', 'Saint Lucia', 'Heard Island and McDonald Islands', 'Jersey', 'Macao', 'Niger', 'Swaziland', 'Singapore', 'French Guiana', 'Saudi Arabia', 'Benin', 'Sweden', \"Lao People's Democratic Republic\", 'Dominica', 'Namibia', 'Russian Federation', 'Wallis and Futuna', 'Bahrain', 'Kiribati', 'Netherlands', 'Bhutan', 'Norfolk Island', 'Albania', 'Nicaragua', 'Czech Republic', 'United Arab Emirates', 'Thailand', 'Paraguay', 'Angola', 'Holy See (Vatican City State)', 'Wallis and Futuna', 'Hungary', 'Heard Island and McDonald Islands', 'Martinique', 'Lesotho', 'Lesotho', 'Costa Rica', 'Slovenia', \"Lao People's Democratic Republic\", 'San Marino', 'Moldova', 'Philippines', 'Saint Vincent and the Grenadines', 'Armenia', 'Antarctica (the territory South of 60 deg S)', 'Germany', 'Jamaica', 'British Indian Ocean Territory (Chagos Archipelago)', 'Benin', 'Christmas Island', 'Djibouti', 'Vanuatu', 'Mozambique', 'Venezuela', 'Antigua and Barbuda', 'Mali', 'Panama', 'Malta', 'Swaziland', 'Greenland', 'Denmark', 'Dominica', 'Bangladesh', 'Sierra Leone', 'Latvia', 'Hong Kong', 'Lebanon', 'Cuba', 'Bouvet Island (Bouvetoya)', 'Cuba', 'Korea', 'Hungary', 'Cape Verde', 'Iran', 'French Guiana', 'Puerto Rico', 'Burkina Faso', 'Antarctica (the territory South of 60 deg S)', 'Slovenia', 'Cuba', 'Seychelles', 'Thailand', 'Belgium', 'Guinea-Bissau', 'France', 'Martinique', 'Costa Rica', 'Argentina', 'Libyan Arab Jamahiriya', 'Aruba', 'Pakistan', 'New Zealand', 'Egypt', 'British Indian Ocean Territory (Chagos Archipelago)', 'Benin', 'Faroe Islands', 'Anguilla', 'Tanzania', 'Lithuania', 'United States of America', 'Montserrat', 'Pitcairn Islands', 'Kenya', 'Korea', 'Trinidad and Tobago', 'French Southern Territories', 'Namibia', 'Congo', 'Mali', 'Mauritania', 'Tonga', 'Mexico', 'Moldova', 'Grenada', 'Djibouti', 'Netherlands Antilles', 'Greece', 'Qatar', 'Comoros', 'Austria', 'Tanzania', 'Tuvalu', 'Cocos (Keeling) Islands', 'Yemen', 'El Salvador', 'Northern Mariana Islands', 'El Salvador', 'Japan', 'Panama', 'Kazakhstan', 'Turkey', 'Bahamas', 'Kiribati', 'British Indian Ocean Territory (Chagos Archipelago)', 'Saint Vincent and the Grenadines', 'Reunion', 'Sri Lanka', 'South Africa', 'Antigua and Barbuda', 'Israel', 'Guinea', 'United States Virgin Islands', 'United Arab Emirates', 'Slovenia', \"Cote d'Ivoire\", 'Azerbaijan', 'Saint Pierre and Miquelon', 'American Samoa', 'Northern Mariana Islands', 'Guernsey', 'Namibia', 'Morocco', 'Yemen', 'Indonesia', 'Georgia', 'Puerto Rico', 'Guinea', 'Germany', 'Montenegro', 'Tunisia', 'Niue', 'Angola', 'Saint Lucia', 'Paraguay', 'Latvia', 'South Georgia and the South Sandwich Islands', 'Sao Tome and Principe', 'Burkina Faso', 'Grenada', 'Barbados', 'Finland', 'United Arab Emirates', 'Antarctica (the territory South of 60 deg S)', 'Belize', 'Slovakia (Slovak Republic)', 'Poland', 'Madagascar', 'Colombia', 'Slovakia (Slovak Republic)', 'New Zealand', 'Thailand', 'Egypt', 'Mexico', 'Cook Islands', 'Morocco', 'Niue', 'Ireland', 'Malta', 'Kyrgyz Republic', 'Slovakia (Slovak Republic)', \"Cote d'Ivoire\", 'Yemen', 'Andorra', 'Nigeria', 'Greenland', 'Gabon', 'El Salvador', \"Cote d'Ivoire\", 'Aruba', 'Antigua and Barbuda', 'Norfolk Island', 'Qatar', 'Liechtenstein', 'Bahrain', 'Dominica', 'Saint Vincent and the Grenadines', 'Cape Verde', 'Netherlands', 'Montserrat', 'Luxembourg', 'United States Minor Outlying Islands', 'Benin', 'Aruba', 'Guadeloupe', 'Latvia', 'Bahrain', 'Denmark', 'Puerto Rico', 'Indonesia', 'Faroe Islands', 'Tanzania', 'Niger', 'Jamaica', 'Slovenia', 'Taiwan', 'Lesotho', 'Svalbard & Jan Mayen Islands', 'Togo', 'Western Sahara', 'Israel', 'Belgium', 'Mongolia', 'Canada', 'Montserrat', 'French Southern Territories', 'Uganda', 'China', 'South Georgia and the South Sandwich Islands', 'Puerto Rico', 'San Marino', 'Indonesia', 'Pakistan', 'Lithuania', 'Micronesia', 'Pakistan', 'Martinique', 'Senegal', 'Jamaica', 'Algeria', 'Zimbabwe', 'Bahrain', 'Qatar', 'Thailand', 'Ireland', 'Mozambique', 'Seychelles', 'New Caledonia', 'Honduras', 'Czech Republic', 'Oman', 'British Virgin Islands', 'Solomon Islands', 'Namibia', 'French Guiana', 'Ukraine', 'Seychelles', 'Bolivia', 'South Georgia and the South Sandwich Islands', 'Greenland', 'Cocos (Keeling) Islands', 'Turkmenistan', 'Pakistan', 'Saint Vincent and the Grenadines', 'Saint Helena', 'Honduras', 'Togo', 'Burundi', 'Senegal', 'Palestinian Territory', 'Ethiopia', 'Hungary', 'Ecuador', 'Jamaica', 'Malta', 'Egypt', 'Iraq', 'Sao Tome and Principe', 'Ethiopia', 'Niger', 'Serbia', 'Cameroon', 'Cook Islands', 'Italy', 'Czech Republic', 'Suriname', 'Pakistan', 'Samoa', 'Bermuda', 'Cyprus', 'Canada', 'Jersey', 'Faroe Islands', 'Cook Islands', 'Belgium', 'Canada', 'Korea', 'Niue', 'Martinique', 'Algeria', 'Nepal', 'Saint Vincent and the Grenadines', 'Guatemala', 'Guatemala', 'Suriname', 'Antigua and Barbuda', 'New Zealand', 'Haiti', 'Macao', 'China', 'Malta', 'Monaco', 'Portugal', 'Brazil', 'British Virgin Islands', 'Taiwan', 'Botswana', 'Holy See (Vatican City State)', 'Nauru', 'Trinidad and Tobago', 'El Salvador', 'Palau', 'Wallis and Futuna', 'Belgium', 'Faroe Islands', 'New Zealand', 'Estonia', 'Cameroon', 'French Polynesia', 'Czech Republic', 'Saint Pierre and Miquelon', 'Thailand', 'Grenada', 'Turkmenistan', 'Greenland', 'Mayotte', 'Korea', 'Paraguay', 'Syrian Arab Republic', 'Senegal', 'China', 'Denmark', 'Malta', 'Netherlands Antilles', 'Nauru', 'Burkina Faso', 'Pakistan', 'Hungary', 'Falkland Islands (Malvinas)', 'Brunei Darussalam', 'Macao', 'Armenia', 'Northern Mariana Islands', 'Uzbekistan', 'Niger', 'Congo', 'Liberia', 'Morocco', 'Mexico', 'Armenia', 'Mali', 'Qatar', 'Colombia', 'Argentina', 'Christmas Island', 'United States Minor Outlying Islands', 'Isle of Man', 'Vanuatu', 'Denmark', 'Barbados', 'Lebanon', 'Nicaragua', 'Vanuatu', 'Kenya', 'Croatia', 'Trinidad and Tobago', 'Indonesia', 'South Georgia and the South Sandwich Islands', 'Qatar', 'Netherlands', 'Congo', 'Egypt', 'United States of America', 'Brazil', 'Belize', 'Korea', 'French Polynesia', 'Fiji', 'Belarus', 'Comoros', 'British Indian Ocean Territory (Chagos Archipelago)', 'Morocco', 'Egypt', 'Sao Tome and Principe', 'Taiwan', 'Cuba', 'Bolivia', 'India', 'Comoros', 'Gibraltar', 'Burundi', 'Italy', 'Eritrea', 'Ecuador', 'Mauritania', 'Vanuatu', 'Niger', 'Hong Kong', 'Malaysia', 'Burundi', 'Marshall Islands', 'Libyan Arab Jamahiriya', 'Congo', 'Bouvet Island (Bouvetoya)', 'Heard Island and McDonald Islands', 'Honduras', 'Burkina Faso', 'Angola', 'Jamaica', 'Korea', 'Colombia', 'Poland', 'Croatia', 'Azerbaijan', 'Croatia', 'North Macedonia', 'Poland', 'Mongolia', 'Holy See (Vatican City State)', 'Tokelau', 'Palau', 'Saint Barthelemy', 'Nigeria', 'Monaco', 'Libyan Arab Jamahiriya', 'Bosnia and Herzegovina', 'San Marino', 'Isle of Man', 'Vanuatu', 'Qatar', 'Korea', 'French Southern Territories', 'Kenya', 'Burkina Faso', 'Niger', 'Burundi', 'Finland', 'Christmas Island', 'Panama', 'Montserrat', 'Serbia', 'Ukraine', 'Tokelau', 'Maldives', 'Croatia', 'Botswana', 'Malta', 'Gambia', 'Antarctica (the territory South of 60 deg S)', 'Ukraine', 'Saint Lucia', 'Uganda', 'Tanzania', 'Samoa', 'Vanuatu', 'Paraguay', 'Senegal', 'Myanmar', 'Mayotte', 'Suriname', 'Brazil', 'Northern Mariana Islands', 'Ghana', 'Bermuda', 'Malta', 'Faroe Islands', 'Bahrain', 'Argentina', 'Bermuda', 'Latvia', 'Jamaica', 'Antarctica (the territory South of 60 deg S)', 'Albania', 'Luxembourg', 'Angola', 'Guinea', 'San Marino', 'Kuwait', 'Antigua and Barbuda', 'Kuwait', 'Turkey', 'Chile', 'Dominica', 'Mayotte', 'Ukraine', 'New Caledonia', \"Cote d'Ivoire\", 'Switzerland', 'Vanuatu', 'Aruba', 'Liechtenstein', 'Tonga', 'Swaziland', 'Zambia', 'Jamaica', 'Cocos (Keeling) Islands', 'Angola', 'Christmas Island', 'Comoros', 'Senegal', 'Lesotho', 'Andorra', 'British Virgin Islands', 'British Virgin Islands', 'Austria', 'Albania', 'Antigua and Barbuda', 'Lebanon', 'Wallis and Futuna', 'Iceland', 'Hungary', 'Jordan', 'Bermuda', 'Ukraine', 'Nepal', 'Suriname', 'Myanmar', 'Liberia', 'Malawi', 'Bermuda', 'Wallis and Futuna', 'Belize', 'Croatia', 'El Salvador', 'Taiwan', 'Iceland', 'Malta', 'India', 'Sudan', 'Kazakhstan', 'Dominican Republic', 'Mozambique', 'British Indian Ocean Territory (Chagos Archipelago)', 'Romania', 'Honduras', 'Burundi', 'Bermuda', 'Guinea-Bissau', 'United Arab Emirates', 'Mozambique', 'Wallis and Futuna', 'Antarctica (the territory South of 60 deg S)', 'Guinea', 'Mauritius', 'Japan', \"Lao People's Democratic Republic\", 'Switzerland', 'Tajikistan', 'Egypt', 'Montserrat', 'Bosnia and Herzegovina', 'Hong Kong', 'Barbados', 'Botswana', 'Germany', 'French Guiana', 'Belarus', 'Nepal', 'Swaziland', 'United States Virgin Islands', 'Palestinian Territory', 'Belize', 'Venezuela', 'Norfolk Island', 'Uruguay', 'Egypt', 'Zimbabwe', 'Uruguay', 'Switzerland', 'Pitcairn Islands', 'Dominica', 'British Virgin Islands', 'Christmas Island', 'Mexico', 'Faroe Islands', 'Burkina Faso', 'Bhutan', 'Kuwait', 'Chile', 'Estonia', 'United Kingdom', 'Hungary', 'Kuwait', 'Palestinian Territory', 'Zambia', 'Burkina Faso', 'Moldova', 'Guadeloupe', 'Sudan', 'Myanmar', 'Afghanistan', 'Zambia', 'Belgium', 'Cuba', 'Kyrgyz Republic', 'Papua New Guinea', \"Cote d'Ivoire\", 'Maldives', 'Tuvalu', 'Congo', 'Saint Pierre and Miquelon', 'Malaysia', 'El Salvador', 'Spain', 'Niger', 'Egypt', 'Brunei Darussalam', 'Saint Vincent and the Grenadines', 'Belarus', 'Nauru', 'Western Sahara', 'Pakistan', 'Micronesia', 'Turks and Caicos Islands', 'Bosnia and Herzegovina', 'Western Sahara', 'Turks and Caicos Islands', 'Cayman Islands', 'Kenya', 'Kyrgyz Republic', 'Syrian Arab Republic', 'Yemen', 'Bolivia', 'Pakistan', 'Poland', 'Jordan', 'Tunisia', 'Ghana', 'Guatemala', 'Mauritius', 'Ukraine', 'Guinea-Bissau', 'Chile', 'Korea', 'Taiwan', 'Slovakia (Slovak Republic)', 'French Polynesia', 'Estonia', 'Georgia', 'Martinique', 'Kazakhstan', 'Sri Lanka', 'Afghanistan', 'Paraguay', 'Iceland', 'Eritrea', 'Palestinian Territory', 'South Georgia and the South Sandwich Islands', 'Albania', 'Comoros', 'Tajikistan', 'South Georgia and the South Sandwich Islands', 'Guam', 'Ghana', 'Guadeloupe', 'Gabon', 'Congo', 'Guinea-Bissau', 'Uzbekistan', 'Bolivia', 'Saint Helena', 'Yemen', 'Nauru', 'Palau', 'Timor-Leste', 'Kazakhstan', 'Syrian Arab Republic', 'Kazakhstan', 'Burundi', 'Comoros', 'Norfolk Island', 'Iceland', 'Tonga', 'Norfolk Island', 'Guinea', 'Central African Republic', 'Saudi Arabia', 'Singapore', 'Namibia', 'Israel', 'Reunion', 'Turks and Caicos Islands', 'India', 'Netherlands Antilles', 'Philippines', 'South Africa', 'Grenada', 'Switzerland', 'Dominica', 'Brunei Darussalam', 'Malta', 'Indonesia', 'Ecuador', 'French Guiana', 'Eritrea', 'Netherlands', 'Algeria', 'Netherlands Antilles', 'Chile', 'Qatar', 'Anguilla', 'Gibraltar', 'Albania', 'Nigeria', 'Togo', 'Canada', 'Mali', 'Trinidad and Tobago', 'Timor-Leste', 'Haiti', 'Swaziland', 'American Samoa', 'Tuvalu', 'Palau', 'Netherlands', 'Montserrat', 'Niue', 'British Indian Ocean Territory (Chagos Archipelago)', 'British Indian Ocean Territory (Chagos Archipelago)', 'Morocco', 'Saint Martin', 'Ecuador', 'Albania', 'Panama', 'Aruba', 'Italy', 'Zambia', 'India', 'Pitcairn Islands', 'Colombia', 'Luxembourg', 'Qatar', 'French Southern Territories', 'Central African Republic', 'Suriname', 'Mauritania', 'Haiti', 'United States of America', 'Ghana', 'Mali', 'Turkey', 'Armenia', 'Tonga', 'Bhutan', 'Guam', 'Qatar', 'Egypt', 'Bhutan', 'Austria', 'Anguilla', 'British Indian Ocean Territory (Chagos Archipelago)', 'Grenada', 'Zimbabwe', 'North Macedonia', 'Bolivia', 'Papua New Guinea', 'Burundi', 'Cape Verde', 'Yemen', 'Estonia', 'Myanmar', 'Nepal', 'Indonesia', 'Guadeloupe', 'Saint Lucia', 'Estonia', 'China', 'Malta', 'Morocco', 'Benin', 'San Marino', 'Malta', 'Suriname', 'Mexico', 'Macao', 'Philippines', 'New Caledonia', 'Peru', 'Paraguay', 'French Polynesia', 'Iraq', 'Estonia', 'Panama', 'Trinidad and Tobago', 'Morocco', 'French Polynesia', 'Angola', 'Mexico', 'Spain', 'United Arab Emirates', 'Vietnam', 'Tokelau', 'Hungary', 'Uruguay', 'Samoa', 'Belgium', 'United States of America', 'Portugal', 'Cayman Islands', 'Algeria', 'Myanmar', 'New Caledonia', 'Yemen', 'Saudi Arabia', 'Romania', 'Armenia', 'Turkey', 'Liberia', 'Bolivia', 'Tuvalu', 'Montenegro', 'Jordan', 'Timor-Leste', 'Guadeloupe', 'Guernsey', 'Kuwait', 'Moldova', 'Uruguay', 'Argentina', 'Turkmenistan', \"Cote d'Ivoire\", 'Croatia', 'Sao Tome and Principe', 'North Macedonia', 'Georgia', 'Saint Pierre and Miquelon', 'Netherlands', 'Chad', 'Cameroon', 'Guatemala', 'Reunion', 'Haiti', 'Sudan', 'Estonia', 'Barbados', 'Niue', 'United Arab Emirates', 'Haiti', 'Poland', 'Costa Rica', 'Venezuela', 'Martinique', 'Haiti', 'Rwanda', 'Italy', 'Central African Republic', 'Mayotte', 'Aruba', 'Korea', 'Sweden', 'Bolivia', 'Israel', 'Holy See (Vatican City State)', 'Togo', 'Panama', 'South Africa', 'Tunisia', 'Iceland', 'Anguilla', 'Grenada', 'Maldives', 'Nigeria', 'Namibia', 'Aruba', 'Vietnam', 'Thailand', 'Spain', \"Cote d'Ivoire\", 'British Indian Ocean Territory (Chagos Archipelago)', 'Barbados', 'Palestinian Territory', 'Solomon Islands', 'Cyprus', 'Honduras', 'Chad', 'Sao Tome and Principe', 'Switzerland', 'Congo', 'Bhutan', 'Christmas Island', 'American Samoa', 'Seychelles', 'Haiti', 'Costa Rica', 'Malawi', 'United Kingdom', 'Ireland', 'Serbia', 'Nicaragua', 'Georgia', 'Mozambique', 'Colombia', 'Cambodia', 'United States of America', 'Japan', 'Estonia', 'Palau', 'Honduras', 'Yemen', 'Ethiopia', 'American Samoa', 'Burundi', 'Kazakhstan', 'South Africa', 'Kiribati', 'Sweden', 'Montserrat', 'Oman', 'Morocco', 'Austria', 'Mexico', 'Northern Mariana Islands', 'Tuvalu', 'Turkey', 'Cocos (Keeling) Islands', 'Ghana', 'Niue', 'Guatemala', 'North Macedonia', 'Cyprus', 'Vietnam', 'Syrian Arab Republic', 'French Guiana', 'Botswana', 'El Salvador', 'Maldives', 'Iceland', 'Dominican Republic', 'Saint Kitts and Nevis', 'Croatia', 'Timor-Leste', 'Seychelles', 'Burkina Faso', 'Christmas Island', 'Kiribati', 'Bulgaria', 'Lebanon', 'Morocco', 'Bangladesh', 'Syrian Arab Republic', 'North Macedonia', 'Malawi', 'Togo', 'Maldives', 'Togo', 'Guadeloupe', 'Jordan', 'Palestinian Territory', 'San Marino', 'Italy', 'Kyrgyz Republic', 'Guadeloupe', 'Andorra', 'Cyprus', 'Greenland', 'Montserrat', 'Japan', 'Angola', 'Bermuda', 'Senegal', 'Fiji', 'Somalia', 'Saudi Arabia', 'Myanmar', 'Malta', 'Bahrain', 'Kenya', 'Belize', 'Belgium', 'Yemen', 'Ethiopia', 'Venezuela', 'Macao', 'Slovenia', 'Taiwan', 'Oman', 'Iceland', 'Faroe Islands', 'Liechtenstein', 'Algeria', 'Palestinian Territory', 'Hong Kong', 'Moldova', 'Uganda', 'Cayman Islands', 'Chile', 'Gabon', 'Mayotte', 'Greenland', 'Egypt', 'Antigua and Barbuda', 'Bulgaria', 'Paraguay', 'Indonesia', 'United Kingdom', 'Ethiopia', 'Andorra', 'Colombia', 'El Salvador', 'El Salvador', 'Bahrain', 'Estonia', 'Egypt', 'Bosnia and Herzegovina', 'Saint Kitts and Nevis', \"Cote d'Ivoire\", 'Congo', 'Bhutan', 'Guyana', 'Iran', 'Sudan', 'Palau', 'Saint Helena', 'Mayotte', 'Micronesia', 'Niue', 'Nicaragua', 'Bahrain', 'Zimbabwe', 'Turkey', 'Nepal', 'Rwanda', 'Norfolk Island', 'Venezuela', 'Netherlands', 'South Africa', 'Jamaica', 'Georgia', 'Afghanistan', 'Portugal', 'Slovenia', 'Jordan', 'Norfolk Island', 'Luxembourg', 'Finland', 'Serbia', 'Austria', 'Cyprus', 'Bhutan', 'Niger', 'Congo', 'Nauru', 'Christmas Island', 'Sao Tome and Principe', 'Brunei Darussalam', 'Congo', 'Japan', 'Mayotte', 'Reunion', 'Turkey', 'Kiribati', 'Botswana', 'Ethiopia', 'Liberia', 'Egypt', 'French Polynesia', 'Saudi Arabia', 'Guyana', 'France', 'British Virgin Islands', 'Tuvalu', 'Mozambique', 'Turkey', 'Guyana', 'Portugal', 'Wallis and Futuna', 'Guinea', 'Seychelles', 'Congo', 'Cape Verde', 'Senegal', 'Tajikistan', 'Paraguay', 'India', 'Gambia', 'Slovakia (Slovak Republic)', 'Kyrgyz Republic', 'Morocco', 'Ecuador', 'Somalia', 'Slovenia', 'Bahamas', 'Senegal', 'Cameroon', 'Hungary', 'Congo', 'Liechtenstein', 'Saint Vincent and the Grenadines', 'Guernsey', 'Greenland', 'Turks and Caicos Islands', 'Zambia', 'Sao Tome and Principe', 'China', 'Myanmar', 'Sao Tome and Principe', 'Honduras', 'Wallis and Futuna', 'Denmark', 'Costa Rica', 'Burundi', 'Malta', 'Belarus', 'Guam', 'Algeria', 'New Caledonia', 'Colombia', 'Maldives', 'Sierra Leone', 'Equatorial Guinea', 'Israel', 'Belgium', 'Northern Mariana Islands', 'New Caledonia', 'Mongolia', 'Paraguay', 'Tokelau', 'British Indian Ocean Territory (Chagos Archipelago)', 'Nepal', 'Cameroon', 'Sri Lanka', 'Malawi', 'Saint Lucia', 'Saudi Arabia', 'Fiji', 'Christmas Island', 'Bangladesh', 'Seychelles', 'Central African Republic', 'Portugal', 'Montserrat', 'Togo', 'Montserrat', 'Venezuela', 'Armenia', 'American Samoa', 'Mongolia', 'Serbia', 'Kuwait', 'South Georgia and the South Sandwich Islands', 'Spain', 'Iran', 'Greenland', 'Singapore', 'Indonesia', 'South Georgia and the South Sandwich Islands', 'Greenland', 'American Samoa', 'Brunei Darussalam', 'China', 'Mali', 'Azerbaijan', 'Mongolia', 'Namibia', 'Equatorial Guinea', 'Ecuador', 'Cook Islands', 'Afghanistan', 'French Guiana', 'Seychelles', 'Anguilla', 'Cocos (Keeling) Islands', 'Micronesia', 'United Arab Emirates', 'Paraguay', 'Norfolk Island', 'Bhutan', 'Niue', 'Thailand', 'Pakistan', 'Saint Pierre and Miquelon', 'Spain', 'Kyrgyz Republic', 'Mongolia', 'Iraq', 'Georgia', 'Kyrgyz Republic', 'Nauru', 'Spain', 'Mozambique', 'Nepal', 'Monaco', 'Saint Kitts and Nevis', 'Ukraine', 'Isle of Man', 'American Samoa', 'Korea', 'El Salvador', 'India', 'Syrian Arab Republic', 'Montserrat', 'Oman', 'Georgia', 'United States Virgin Islands', 'Morocco', 'Jordan', 'Pakistan', 'Brazil', 'Madagascar', 'Luxembourg', 'Netherlands Antilles', 'Serbia', 'Luxembourg', 'Puerto Rico', 'Korea', 'United States Minor Outlying Islands', 'Israel', 'Belgium', 'Maldives', 'Greenland', 'Bahamas', 'Puerto Rico', 'Central African Republic', 'Guyana', 'Panama', 'Palestinian Territory', 'Guinea-Bissau', 'Syrian Arab Republic', 'Armenia', 'Belgium', 'British Virgin Islands', 'United Arab Emirates', 'Mexico', 'New Zealand', 'North Macedonia', 'South Africa', 'Liechtenstein', 'Kenya', 'Poland', 'Syrian Arab Republic', 'Cocos (Keeling) Islands', 'Zambia', 'Ethiopia', 'Netherlands', 'Antarctica (the territory South of 60 deg S)', 'Jersey', 'Bulgaria', 'Kiribati', 'Guernsey', 'Uruguay', 'Zambia', 'Uganda', 'Puerto Rico', 'Sudan', 'Afghanistan', 'Malta', 'Isle of Man', 'Turks and Caicos Islands', 'Antigua and Barbuda', 'Kenya', 'Denmark', 'Croatia', 'Palestinian Territory', 'Saint Lucia', 'Dominican Republic', 'Cook Islands', 'Malaysia', 'Malaysia', 'Guinea', 'Singapore', 'Slovakia (Slovak Republic)', 'Spain', 'Afghanistan', 'Turks and Caicos Islands', 'Burkina Faso', 'Rwanda', 'Trinidad and Tobago', 'United States of America', 'Guatemala', 'Belarus', 'Pitcairn Islands', 'Holy See (Vatican City State)', 'Uzbekistan', 'British Virgin Islands', 'Lithuania', 'Armenia', 'Marshall Islands', 'Western Sahara', 'Swaziland', 'Anguilla', 'Antarctica (the territory South of 60 deg S)', 'Comoros', 'Mayotte', 'Kazakhstan', 'United Kingdom', 'Philippines', 'Tunisia', 'Martinique', 'Niger', 'Austria', 'Botswana', 'Morocco', 'Ecuador', 'Madagascar', 'Mexico', 'Trinidad and Tobago', 'Guinea-Bissau', 'Puerto Rico', 'Germany', 'Greece', 'Ukraine', 'Mauritania', 'Hungary', 'Maldives', 'Brunei Darussalam', 'Marshall Islands', 'Equatorial Guinea', 'Papua New Guinea', 'Bulgaria', 'Western Sahara', 'Belize', 'Niger', 'Uzbekistan', 'Cocos (Keeling) Islands', 'Serbia', 'Mozambique', 'Honduras', 'Solomon Islands', 'Malaysia', 'Guinea', 'Australia', 'Norway', 'Togo', 'Belarus', 'Azerbaijan', 'Luxembourg', 'Eritrea', 'Saudi Arabia', 'Uruguay', 'Pitcairn Islands', 'Saint Lucia', 'Peru', 'Kazakhstan', 'Netherlands Antilles', 'Greenland', 'Armenia', 'Sudan', \"Lao People's Democratic Republic\", 'Cape Verde', 'Rwanda', 'Finland', 'Samoa', 'Christmas Island', 'Belgium', 'Saint Kitts and Nevis', 'Greece', 'Myanmar', 'Guinea', 'Myanmar', 'Tuvalu', 'Denmark', 'Guernsey', 'Iraq', 'Nauru', 'Falkland Islands (Malvinas)', 'Liechtenstein', 'Monaco', 'Sri Lanka', 'Niue', 'Uruguay', 'Suriname', 'Nauru', 'Mali', 'Holy See (Vatican City State)', 'Congo', 'Sudan', 'Solomon Islands', 'Guinea-Bissau', 'Djibouti', 'Cayman Islands', 'Pakistan', 'Chad', 'Jordan', 'Turkey', 'India', 'Chile', 'Costa Rica', 'Samoa', 'Haiti', 'Poland', 'Greenland', 'Bhutan', 'Reunion', 'Nauru', 'Brunei Darussalam', 'New Caledonia', 'Ghana', 'Western Sahara', 'Morocco', 'Malaysia', 'Philippines', 'Comoros', 'Gambia', 'Iraq', 'British Virgin Islands', 'North Macedonia', 'Congo', 'Morocco', 'Israel', 'Poland', 'Guyana', 'Norfolk Island', 'Albania', 'Namibia', 'Sri Lanka', 'Colombia', 'Saint Helena', 'Jordan', 'Bahamas', 'Czech Republic', 'Norfolk Island', 'Portugal', 'Estonia', 'Uganda', 'Jersey', 'Malaysia', 'Reunion', 'Cape Verde', 'Nepal', 'Cocos (Keeling) Islands', 'Western Sahara', 'French Polynesia', 'Argentina', 'Cyprus', 'Fiji', 'Barbados', 'Norway', 'Lithuania', 'Guyana', 'Macao', 'Montenegro', 'Turkmenistan', 'Panama', 'Estonia', 'Guernsey', 'Slovenia', 'Austria', 'Belgium', 'Korea', 'Uganda', 'Russian Federation', 'Guadeloupe', 'Peru', 'Tonga', 'Turkmenistan', 'Somalia', 'Andorra', 'Pakistan', 'Liberia', 'Dominica', 'Netherlands', 'Northern Mariana Islands', 'Korea', 'United Arab Emirates', 'Tanzania', 'Timor-Leste', 'Burkina Faso', 'Benin', 'South Africa', 'Saint Pierre and Miquelon', 'United Arab Emirates', 'Colombia', 'Moldova', 'Kenya', 'Pakistan', 'Cambodia', 'India', 'Gibraltar', 'Australia', \"Lao People's Democratic Republic\", 'French Polynesia', 'Western Sahara', 'Afghanistan', 'Pitcairn Islands', 'Venezuela', 'Palau', 'French Guiana', 'Cuba', 'Malaysia', 'Senegal', 'Italy', 'Sudan', 'Saint Barthelemy', 'Liberia', 'Central African Republic', 'Syrian Arab Republic', 'Guinea', 'Uzbekistan', 'Croatia', 'Monaco', 'Mongolia', 'Zambia', 'Madagascar', 'United Kingdom', 'Azerbaijan', 'French Polynesia', 'Pitcairn Islands', 'Niue', 'Saudi Arabia', 'Cyprus', 'Isle of Man', 'Tuvalu', 'Israel', 'Lebanon', 'Russian Federation', 'Israel', 'Azerbaijan', 'Cayman Islands', 'Guernsey', 'Nigeria', 'United States of America', 'Wallis and Futuna', 'Guatemala', 'Bangladesh', 'United Arab Emirates', 'United States Virgin Islands', 'Jamaica', 'Philippines', 'Russian Federation', 'Burkina Faso', 'Guinea', 'Saint Kitts and Nevis', 'Oman', 'Slovakia (Slovak Republic)', 'Argentina', 'French Polynesia', 'Maldives', 'Liberia', 'Samoa', 'Netherlands', 'Switzerland', 'Nicaragua', 'Bosnia and Herzegovina', 'Marshall Islands', 'French Polynesia', 'French Southern Territories', 'Lebanon', 'United States Virgin Islands', 'Bouvet Island (Bouvetoya)', 'Georgia', 'Lithuania', 'Paraguay', 'Guadeloupe', 'Antarctica (the territory South of 60 deg S)', 'Egypt', 'Netherlands Antilles', 'Montenegro', 'Pakistan', 'Canada', 'South Georgia and the South Sandwich Islands', 'Botswana', 'Maldives', 'Bermuda', 'United States Virgin Islands', 'United States Virgin Islands', 'Lithuania', 'Mongolia', 'Kiribati', 'Myanmar', 'Paraguay', 'Tajikistan', 'France', 'Belize', 'Colombia', 'Gabon', 'Kazakhstan', 'Turks and Caicos Islands', 'Switzerland', 'Guinea', 'Guinea-Bissau', 'Czech Republic', \"Cote d'Ivoire\", 'Saudi Arabia', 'Sweden', 'Sao Tome and Principe', 'Guadeloupe', 'Bolivia', 'United Arab Emirates', 'Bahamas', 'Indonesia', 'Jersey', 'Myanmar', 'Norfolk Island', 'Tunisia', 'Samoa', 'Luxembourg', 'Indonesia', 'New Caledonia', 'Micronesia', 'United States of America', 'Spain', 'Oman', 'United States of America', 'Austria', 'Honduras', 'Somalia', 'Paraguay', 'Germany', 'Lebanon', 'Cape Verde', 'Costa Rica', 'Monaco', 'Mali', 'Papua New Guinea', 'Sweden', 'French Guiana', 'Lesotho', 'Faroe Islands', 'Bahamas', 'Cameroon', 'Moldova', 'Mauritius', 'French Southern Territories', 'Heard Island and McDonald Islands', 'Mali', 'Christmas Island', 'Bouvet Island (Bouvetoya)', 'Fiji', 'Angola', 'Cuba', 'Saint Pierre and Miquelon', 'Thailand', 'Cocos (Keeling) Islands', 'Cook Islands', 'Bahamas', 'Cape Verde', 'Aruba', 'Israel', 'Moldova', 'Belarus', 'Burkina Faso', 'Czech Republic', 'Mayotte', 'Norfolk Island', 'Guyana', 'Burundi', 'Belarus', 'Macao', 'Mauritius', 'Andorra', 'Botswana', 'United States of America', 'Oman', 'Norfolk Island', 'Saudi Arabia', 'French Southern Territories', 'Mongolia', 'Jamaica', 'Belize', 'Palau', 'Wallis and Futuna', 'Portugal', 'Sudan', 'Honduras', 'Western Sahara', 'Finland', 'Namibia', 'Ukraine', 'Kazakhstan', 'Bangladesh', 'Libyan Arab Jamahiriya', 'Botswana', 'Austria', 'Cocos (Keeling) Islands', 'Faroe Islands', 'Japan', 'Cyprus', 'Rwanda', 'Dominica', 'Thailand', 'Samoa', 'Heard Island and McDonald Islands', 'Holy See (Vatican City State)', 'Cyprus', 'Syrian Arab Republic', 'Swaziland', 'Latvia', 'Chile', 'Sweden', 'Macao', 'Solomon Islands', 'Fiji', 'Colombia', 'Japan', 'Jamaica', 'Tanzania', 'Antarctica (the territory South of 60 deg S)', 'Syrian Arab Republic', 'Western Sahara', 'Guatemala', 'French Polynesia', 'Luxembourg', 'Reunion', 'Chad', 'Indonesia', 'Guernsey', 'Australia', 'Gibraltar', 'Malawi', 'Bahrain', 'Djibouti', 'Colombia', 'Sudan', 'Rwanda', 'Antarctica (the territory South of 60 deg S)', 'Burundi', 'Sudan', 'Latvia', 'Madagascar', 'Ethiopia', 'Macao', 'Andorra', 'Algeria', 'Isle of Man', 'Guinea', 'Guernsey', 'Mongolia', 'United States of America', 'Solomon Islands', 'Grenada', 'Greenland', 'Burkina Faso', 'Portugal', 'Barbados', 'Swaziland', 'Lesotho', 'Gabon', 'Venezuela', 'Mongolia', 'Honduras', 'Guernsey', 'Malta', 'Wallis and Futuna', 'Wallis and Futuna', 'Saint Lucia', 'Saint Barthelemy', 'Estonia', 'Dominica', 'Grenada', 'Ecuador', 'Wallis and Futuna', 'Bangladesh', 'Thailand', 'Congo', 'Netherlands Antilles', 'Burundi', 'Senegal', 'United Arab Emirates', 'Monaco', 'Saint Barthelemy', 'Madagascar', 'Bermuda', 'Indonesia', 'Tajikistan', 'United States of America', 'Finland', 'Venezuela', 'Guam', 'Colombia', 'Lithuania', 'Cocos (Keeling) Islands', 'Luxembourg', 'Nepal', 'Marshall Islands', 'Senegal', 'Holy See (Vatican City State)', 'Norway', 'Haiti', 'Western Sahara', 'Angola', 'Cambodia', 'Poland', 'Angola', 'Barbados', 'Czech Republic', 'Dominican Republic', 'India', 'Gambia', 'Austria', 'Gambia', 'Taiwan', 'Iran', 'Somalia', 'Myanmar', 'Bermuda', 'Australia', 'Slovakia (Slovak Republic)', 'Lithuania', 'Colombia', 'United Kingdom', 'Isle of Man', 'Montserrat', 'Syrian Arab Republic', 'Tanzania', 'Moldova', 'Martinique', 'El Salvador', 'Moldova', 'American Samoa', 'Bangladesh', 'Jordan', 'Morocco', 'Gambia', 'Northern Mariana Islands', 'Senegal', 'Micronesia', 'Bahamas', 'Angola', 'Andorra', 'Iraq', 'Congo', 'China', 'Libyan Arab Jamahiriya', 'Hungary', 'Slovenia', 'Switzerland', 'Mongolia', 'Canada', 'Cocos (Keeling) Islands', 'American Samoa', 'Bolivia', 'Guadeloupe', 'Mauritius', 'Armenia', 'Saint Martin', 'Lebanon', 'Oman', 'Dominican Republic', 'Congo', 'Israel', 'Costa Rica', 'Sweden', 'United States Minor Outlying Islands', 'Ethiopia', 'Turks and Caicos Islands', 'Madagascar', 'Jersey', 'Vietnam', 'Paraguay', 'Kyrgyz Republic', 'Mali', 'Mauritius', 'Reunion', 'Germany', 'Turkmenistan', 'Tajikistan', 'South Georgia and the South Sandwich Islands', 'Gambia', 'Australia', 'Uruguay', 'Morocco', 'Bulgaria', 'Cameroon', 'Serbia', 'Samoa', 'Kenya', 'Ecuador', 'Guinea-Bissau', 'United Arab Emirates', 'Luxembourg', 'Nigeria', 'Azerbaijan', 'Faroe Islands', 'Northern Mariana Islands', 'Congo', 'Belarus', 'Indonesia', 'Andorra', 'Slovakia (Slovak Republic)', 'Suriname', 'Lithuania', 'Saint Lucia', 'Pakistan', 'Japan', 'Trinidad and Tobago', 'Dominican Republic', 'Thailand', 'Gambia', 'Lesotho', \"Lao People's Democratic Republic\", 'Algeria', 'Zimbabwe', 'Solomon Islands', 'Israel', 'Latvia', 'United States of America', 'Tokelau', 'Uganda', 'Haiti', 'Eritrea', 'Mongolia', 'Congo', 'Bouvet Island (Bouvetoya)', 'Korea', 'Madagascar', 'French Polynesia', 'American Samoa', 'Brunei Darussalam', 'Barbados', 'New Caledonia', 'India', 'Belarus', 'Bolivia', 'Suriname', 'Solomon Islands', 'Austria', 'Guadeloupe', 'Cameroon', 'Afghanistan', 'Bolivia', 'Anguilla', 'Korea', 'Kyrgyz Republic', 'Botswana', 'Czech Republic', 'Wallis and Futuna', 'Grenada', 'Colombia', 'United States of America', 'Luxembourg', 'Palestinian Territory', 'Vietnam', 'Denmark', 'Papua New Guinea', 'Albania', 'Denmark', 'Australia', 'Kenya', 'Burkina Faso', 'Oman', 'Ghana', 'Belarus', 'Uruguay', 'Barbados', 'Egypt', 'Antarctica (the territory South of 60 deg S)', 'Cape Verde', 'Bolivia', 'Nepal', 'Antarctica (the territory South of 60 deg S)', 'Mongolia', 'Iran', 'Saint Helena', 'Liechtenstein', 'Timor-Leste', 'Trinidad and Tobago', 'United Kingdom', 'Martinique', 'Nicaragua', \"Cote d'Ivoire\", 'Singapore', 'Mauritius', 'Vanuatu', 'Saint Lucia', 'Senegal', 'Zimbabwe', 'Brunei Darussalam', 'Kiribati', 'Moldova', 'Philippines', 'Bahamas', 'Poland', 'Norfolk Island', 'Portugal', 'Slovenia', 'Montenegro', 'Saint Martin', 'Saint Barthelemy', 'Libyan Arab Jamahiriya', 'Anguilla', 'Israel', 'Cambodia', 'Barbados', 'North Macedonia', 'Sierra Leone', 'Bolivia', 'British Indian Ocean Territory (Chagos Archipelago)', 'Ethiopia', 'El Salvador', 'Monaco', 'Panama', 'Pitcairn Islands', 'Burundi', 'Slovenia', 'Kuwait', 'Mauritania', 'Cuba', 'New Caledonia', 'Andorra', 'Italy', 'Indonesia', 'Belize', 'Aruba', 'Bosnia and Herzegovina', 'Falkland Islands (Malvinas)', 'India', 'Latvia', 'Chile', 'Hong Kong', 'Tuvalu', 'North Macedonia', 'Grenada', 'Trinidad and Tobago', 'Somalia', 'Falkland Islands (Malvinas)', 'Greenland', 'Sweden', 'Zambia', 'Senegal', 'Senegal', 'Malaysia', 'Cayman Islands', 'Nigeria', 'Argentina', 'Bhutan', 'Seychelles', 'Montenegro', 'Papua New Guinea', 'Antarctica (the territory South of 60 deg S)', 'Turks and Caicos Islands', 'Cameroon', 'Korea', 'Jamaica', 'Kuwait', 'China', 'Slovenia', 'Nigeria', 'United Arab Emirates', 'Venezuela', 'Seychelles', 'Kiribati', 'Switzerland', 'Iraq', 'Latvia', 'Mauritania', 'Heard Island and McDonald Islands', 'New Zealand', 'France', 'Congo', 'Mongolia', 'Norway', 'Faroe Islands', 'Nigeria', 'Haiti', 'Belgium', 'Mongolia', 'Dominica', 'Taiwan', 'Bangladesh', 'Iran', 'Gabon', 'Dominica', 'Eritrea', 'Honduras', 'Italy', 'Iraq', 'Bolivia', 'Russian Federation', 'Iceland', 'Italy', 'Faroe Islands', 'Germany', 'Honduras', 'Malta', 'Turkmenistan', 'Pakistan', 'Norfolk Island', 'Oman', 'Kenya', 'Iceland', 'Trinidad and Tobago', 'Afghanistan', 'Bolivia', 'Saint Vincent and the Grenadines', 'Botswana', 'Greenland', 'Dominica', 'Grenada', 'Tunisia', 'Canada', 'Namibia', 'El Salvador', 'Nicaragua', 'Pakistan', 'Burkina Faso', 'Argentina', 'United Kingdom', 'United States of America', 'Syrian Arab Republic', 'Luxembourg', 'Bulgaria', 'United States Virgin Islands', 'Afghanistan', 'Equatorial Guinea', 'Jersey', 'Tuvalu', 'Guinea-Bissau', 'Zambia', 'Netherlands', 'Greece', 'Nigeria', 'Bosnia and Herzegovina', 'Bulgaria', 'Norfolk Island', 'France', 'Norway', 'South Georgia and the South Sandwich Islands', 'Philippines', 'China', 'Afghanistan', 'Luxembourg', 'Cook Islands', 'Cyprus', 'Andorra', 'Netherlands Antilles', 'Swaziland', 'Singapore', 'Niue', 'Saudi Arabia', 'San Marino', 'Pakistan', 'Chad', 'Nepal', 'Afghanistan', 'Norfolk Island', 'Guatemala', 'Colombia', 'Guadeloupe', 'Niger', 'Netherlands Antilles', 'Grenada', 'Montserrat', 'Central African Republic', 'Hungary', 'Jersey', 'New Caledonia', 'Swaziland', 'Liberia', 'Iraq', 'Antigua and Barbuda', 'Reunion', 'Chad', 'Algeria', 'Tuvalu', 'Gabon', 'Senegal', 'Jersey', 'Western Sahara', 'Uruguay', 'Thailand', 'San Marino', 'Zambia', 'Ecuador', 'Lithuania', 'United Arab Emirates', 'Tonga', 'Taiwan', 'Syrian Arab Republic', 'Cook Islands', 'Bahrain', 'French Polynesia', 'Fiji', 'India', 'Luxembourg', 'Liberia', 'Montserrat', 'Honduras', 'Belize', 'North Macedonia', 'Brunei Darussalam', 'Qatar', 'Slovenia', 'Mauritius', 'Saint Vincent and the Grenadines', 'Sao Tome and Principe', 'Czech Republic', 'Heard Island and McDonald Islands', 'Botswana', 'Ireland', 'United States Minor Outlying Islands', 'Latvia', 'New Zealand', 'United Kingdom', 'Russian Federation', 'Bosnia and Herzegovina', 'Montenegro', 'Grenada', 'Papua New Guinea', 'Saint Barthelemy', 'Taiwan', 'Guinea-Bissau', 'Pakistan', 'Australia', 'Niger', 'Madagascar', 'Portugal', 'Puerto Rico', 'Bahrain', 'Nepal', 'Uruguay', 'Somalia', 'Hong Kong', 'Azerbaijan', 'Holy See (Vatican City State)', 'Saint Pierre and Miquelon', 'South Africa', 'Guernsey', 'United Arab Emirates', 'Suriname', 'Hong Kong', 'Panama', 'Palau', 'Nicaragua', 'Poland', 'Kazakhstan', 'Netherlands', 'Taiwan', 'Nepal', 'Sri Lanka', 'Ireland', 'Slovakia (Slovak Republic)', 'Fiji', 'Comoros', 'Western Sahara', 'Korea', 'Angola', 'Estonia', 'Tajikistan', 'Panama', 'Syrian Arab Republic', 'South Georgia and the South Sandwich Islands', 'Maldives', 'Bosnia and Herzegovina', 'United States Minor Outlying Islands', 'Belarus', \"Cote d'Ivoire\", 'Cocos (Keeling) Islands', 'Peru', 'Philippines', 'Costa Rica', 'Honduras', 'Russian Federation', 'Libyan Arab Jamahiriya', 'Saudi Arabia', 'Chile', 'Brunei Darussalam', 'Netherlands', 'Fiji', 'Kyrgyz Republic', 'South Africa', 'Sierra Leone', 'Central African Republic', 'United States Virgin Islands', 'Norway', 'Philippines', 'Liechtenstein', 'Azerbaijan', 'Iraq', 'Saint Lucia', 'Guinea', 'Norway', 'Seychelles', \"Lao People's Democratic Republic\", 'Lithuania', 'Swaziland', 'Latvia', 'Bermuda', 'Burkina Faso', 'Mali', 'Saint Lucia', 'Niger', 'Guam', 'South Africa', 'Saint Pierre and Miquelon', 'Ecuador', 'Brazil', 'Slovenia', 'Spain', 'Oman', 'Dominica', 'Costa Rica', 'Syrian Arab Republic', 'Svalbard & Jan Mayen Islands', 'Mauritius', 'Belize', 'Saint Vincent and the Grenadines', 'United States Virgin Islands', 'France', 'Marshall Islands', 'Cook Islands', 'Pitcairn Islands', 'Kenya', 'Jersey', 'South Africa', 'Mauritius', 'Saudi Arabia', 'Romania', 'Saint Pierre and Miquelon', 'Singapore', 'Belize', 'Western Sahara', 'Slovenia', 'Zimbabwe', 'Poland', 'Burkina Faso', 'Guernsey', 'Palau', 'Israel', 'Austria', 'Belarus', 'Honduras', 'Saint Kitts and Nevis', 'Nauru', 'Palau', 'Senegal', 'United Kingdom', 'Costa Rica', 'Senegal', 'Guatemala', 'Jamaica', 'Swaziland', 'France', 'Aruba', 'Anguilla', 'Cambodia', 'Montserrat', 'Brazil', 'Azerbaijan', 'Sweden', 'Gabon', 'Bolivia', 'Jordan', 'Indonesia', 'Myanmar', 'Cambodia', 'Timor-Leste', 'Jordan', 'Sao Tome and Principe', 'Martinique', 'El Salvador', 'Philippines', 'Ukraine', 'Zambia', 'Trinidad and Tobago', 'Namibia', 'Western Sahara', 'Jersey', 'Lithuania', 'Cameroon', 'Christmas Island', 'United States Minor Outlying Islands', 'Madagascar', 'Norfolk Island', 'Finland', 'Micronesia', 'Senegal', 'Palestinian Territory', 'Dominican Republic', 'Guyana', 'Bulgaria', 'Serbia', 'Macao', 'Morocco', 'Antigua and Barbuda', 'American Samoa', 'Antarctica (the territory South of 60 deg S)', 'Isle of Man', 'Liechtenstein', 'Canada', 'Slovakia (Slovak Republic)', 'Grenada', 'Congo', 'Holy See (Vatican City State)', 'Ecuador', 'New Caledonia', 'Norway', 'Malta', 'Palau', 'Fiji', 'Italy', 'Cameroon', 'Colombia', 'Uruguay', 'Djibouti', 'Denmark', 'Tunisia', 'Vietnam', 'Venezuela', 'Italy', 'Morocco', 'Zambia', 'Lithuania', 'United States Virgin Islands', 'Philippines', \"Cote d'Ivoire\", 'Kazakhstan', 'Suriname', 'Angola', 'Faroe Islands', 'Germany', 'Armenia', 'Guinea-Bissau', 'Albania', 'Iceland', 'Burundi', 'Cameroon', 'Hong Kong', 'Japan', 'Vietnam', 'Solomon Islands', 'India', 'Vietnam', 'Georgia', 'Brazil', 'Greece', 'Antigua and Barbuda', 'Poland', 'Mongolia', 'Lithuania', 'Serbia', 'Libyan Arab Jamahiriya', 'Cameroon', 'Christmas Island', 'Greenland', 'Svalbard & Jan Mayen Islands', 'Tokelau', 'Japan', 'Monaco', 'Reunion', 'Bolivia', 'Palestinian Territory', 'Antarctica (the territory South of 60 deg S)', 'Bangladesh', 'Holy See (Vatican City State)', 'Kazakhstan', 'Belgium', 'Norfolk Island', 'Guernsey', 'Mali', 'Togo', 'Sao Tome and Principe', 'Madagascar', 'Norfolk Island', 'Israel', 'Hungary', 'Hong Kong', 'Monaco', 'Hong Kong', 'Lebanon', 'Burundi', 'Seychelles', 'Equatorial Guinea', 'France', 'Ireland', 'Martinique', 'Swaziland', 'New Zealand', 'Italy', 'Guernsey', 'Senegal', 'Saint Martin', 'Madagascar', 'American Samoa', 'Holy See (Vatican City State)', 'Austria', 'Guyana', 'Vanuatu', 'Belarus', 'Peru', 'Djibouti', 'Niger', 'Canada', 'Bouvet Island (Bouvetoya)', 'Greece', 'Guernsey', 'Northern Mariana Islands', 'Nauru', 'Montenegro', 'Cuba', 'Turkey', 'Honduras', 'Mali', 'Greece', 'Egypt', 'Thailand', 'Zambia', 'Namibia', 'Venezuela', 'Tanzania', 'Poland', 'Azerbaijan', 'Mozambique', 'Haiti', 'Burkina Faso', 'Canada', 'Suriname', 'Monaco', 'China', 'Czech Republic', 'Timor-Leste', 'Albania', 'Guadeloupe', 'Niue', 'Georgia', 'Netherlands Antilles', 'Russian Federation', 'Netherlands', 'Tonga', 'French Southern Territories', 'Cameroon', 'Mauritius', 'Mongolia', 'Saint Pierre and Miquelon', 'British Virgin Islands', 'Greece', 'Nepal', 'Algeria', 'Congo', 'Ukraine', 'Palau', 'Mauritius', 'Albania', 'Korea', 'Czech Republic', 'Botswana', 'Micronesia', 'Turkmenistan', 'Taiwan', 'Faroe Islands', 'Saint Helena', 'French Guiana', 'Thailand', 'Cayman Islands', 'American Samoa', 'Antarctica (the territory South of 60 deg S)', 'New Caledonia', 'Western Sahara', 'Liechtenstein', 'Uzbekistan', 'Benin', 'Maldives', 'Madagascar', 'Cocos (Keeling) Islands', 'Palau', 'Moldova', 'Cuba', 'Iraq', 'Ecuador', 'United Kingdom', 'Uganda', 'Colombia', 'Guinea-Bissau', 'Romania', 'Aruba', 'Western Sahara', 'Mongolia', 'Chad', 'Andorra', 'Tonga', 'Jordan', 'Belgium', 'Sri Lanka', 'Zambia', 'Congo', 'Cyprus', 'Honduras', 'Antigua and Barbuda', 'Austria', 'Anguilla', 'Guinea', 'Azerbaijan', 'Timor-Leste', 'Ghana', 'Norway', 'Poland', 'Andorra', 'Germany', 'Belarus', 'Maldives', 'Indonesia', 'Bangladesh', 'Congo', 'Iran', 'Burkina Faso', 'Heard Island and McDonald Islands', 'Taiwan', 'Malta', 'Qatar', 'Morocco', 'British Indian Ocean Territory (Chagos Archipelago)', 'Togo', 'Iraq', 'Netherlands Antilles', 'Timor-Leste', 'Jersey', 'Norway', 'Slovakia (Slovak Republic)', 'Yemen', 'Spain', 'Holy See (Vatican City State)', 'Hong Kong', 'Burkina Faso', 'Benin', 'Saint Pierre and Miquelon', 'Taiwan', 'Madagascar', 'Tajikistan', 'Paraguay', 'Kazakhstan', 'Timor-Leste', 'Isle of Man', 'Pakistan', 'Palau', 'Poland', 'Bahrain', 'Saint Kitts and Nevis', 'Hungary', 'Faroe Islands', 'Montserrat', 'Reunion', 'Senegal', 'India', 'Netherlands', 'Hong Kong', 'Guyana', 'Barbados', 'Guinea-Bissau', 'Haiti', 'Sri Lanka', 'Turks and Caicos Islands', 'Costa Rica', 'Wallis and Futuna', 'Uzbekistan', 'Greece', 'Samoa', 'Afghanistan', 'Paraguay', 'Papua New Guinea', 'Botswana', 'Samoa', 'Ecuador', 'Heard Island and McDonald Islands', 'Saudi Arabia', 'Saint Vincent and the Grenadines', 'United Arab Emirates', 'Cambodia', 'Bhutan', 'Equatorial Guinea', 'Thailand', 'Northern Mariana Islands', 'Canada', 'Antigua and Barbuda', 'Lesotho', 'Cuba', 'Israel', 'Ukraine', 'Myanmar', 'Oman', 'Western Sahara', 'Ireland', 'Jamaica', 'Israel', 'Niger', 'Kenya', 'Christmas Island', 'Pitcairn Islands', 'Guadeloupe', 'Angola', 'Vanuatu', 'Palestinian Territory', 'Bosnia and Herzegovina', 'Egypt', 'Netherlands', 'Czech Republic', 'Estonia', 'Mexico', 'Iran', 'Sierra Leone', 'Oman', 'Togo', 'Liechtenstein', 'Libyan Arab Jamahiriya', 'Grenada', 'Armenia', 'Morocco', 'Ethiopia', 'Grenada', 'El Salvador', 'Western Sahara', 'Suriname', 'Poland', 'Kuwait', 'Botswana', 'Guyana', 'Korea', 'Tanzania', 'Cyprus', 'Ireland', 'Cook Islands', \"Lao People's Democratic Republic\", 'Angola', 'Indonesia', 'Sudan', 'Guinea-Bissau', 'Gambia', 'Australia', 'American Samoa', 'France', 'Cuba', 'Cambodia', 'Netherlands', 'Slovakia (Slovak Republic)', 'New Zealand', 'Yemen', 'Georgia', 'Spain', 'Turkmenistan', 'Belgium', 'Brunei Darussalam', 'Angola', 'Cape Verde', 'Canada', 'Bahamas', 'Myanmar', 'Cook Islands', 'Kuwait', 'Jordan', 'Vietnam', 'Chad', 'Bhutan', 'Panama', 'Gibraltar', 'Niger', 'French Polynesia', 'Western Sahara', 'Iran', 'Namibia', 'Saint Martin', 'Kyrgyz Republic', 'Netherlands Antilles', 'United States of America', 'Netherlands Antilles', 'United Kingdom', 'Moldova', 'Kiribati', 'Wallis and Futuna', 'Qatar', 'Cocos (Keeling) Islands', 'Papua New Guinea', 'Peru', 'Burundi', 'Monaco', 'Belarus', 'Kenya', 'Tajikistan', 'Reunion', 'Wallis and Futuna', 'Antarctica (the territory South of 60 deg S)', 'Myanmar', 'Mauritius', 'Iceland', 'New Caledonia', 'Cameroon', 'Afghanistan', 'Japan', 'Dominica', 'Madagascar', 'Madagascar', 'Palau', \"Cote d'Ivoire\", 'Peru', 'Denmark', 'Rwanda', 'Switzerland', 'Togo', 'Maldives', 'Nepal', 'Greenland', 'Saudi Arabia', 'Bermuda', 'Guinea', 'Nepal', 'Zimbabwe', 'China', 'Burkina Faso', 'Mozambique', 'Kuwait', 'Dominican Republic', 'Austria', 'Heard Island and McDonald Islands', 'Yemen', 'Madagascar', 'Latvia', 'Costa Rica', 'Vietnam', 'Mozambique', 'India', 'Romania', 'Liechtenstein', 'France', 'Bermuda', 'Estonia', 'Wallis and Futuna', 'Albania', 'British Indian Ocean Territory (Chagos Archipelago)', 'Luxembourg', 'Heard Island and McDonald Islands', 'Comoros', 'Tuvalu', 'Georgia', 'Sudan', 'Hong Kong', 'Saint Helena', 'Peru', 'Ireland', 'Palau', 'Turks and Caicos Islands', 'Oman', 'Burundi', 'Cocos (Keeling) Islands', 'Niue', 'Belize', 'El Salvador', 'Dominican Republic', 'French Southern Territories', 'Jordan', 'Romania', 'Thailand', 'Guinea-Bissau', 'Saint Lucia', 'Libyan Arab Jamahiriya', 'Senegal', 'Vietnam', 'Benin', 'Gambia', 'Venezuela', 'Andorra', 'Chad', 'Papua New Guinea', 'Jamaica', 'Ethiopia', 'Gambia', 'Papua New Guinea', 'Jersey', 'Saudi Arabia', 'Kyrgyz Republic', 'Jamaica', 'Norfolk Island', 'Malawi', 'Dominican Republic', 'Northern Mariana Islands', 'Montserrat', 'South Africa', 'Liechtenstein', 'Bangladesh', 'Azerbaijan', 'Panama', 'Finland', 'Norfolk Island', 'Angola', 'Isle of Man', 'Palau', 'Russian Federation', 'Falkland Islands (Malvinas)', 'French Southern Territories', 'Romania', 'Svalbard & Jan Mayen Islands', 'Syrian Arab Republic', 'Germany', 'South Africa', 'Mexico', 'Bahrain', 'Nauru', 'Burkina Faso', 'Nauru', 'Sao Tome and Principe', 'Latvia', 'French Southern Territories', 'Peru', 'Czech Republic', 'Puerto Rico', 'Taiwan', 'Kiribati', 'Iceland', 'Tuvalu', 'Germany', 'India', 'Timor-Leste', 'Montserrat', 'Saint Barthelemy', 'Tuvalu', 'Panama', 'Belize', 'Antigua and Barbuda', 'Northern Mariana Islands', 'Bangladesh', 'Paraguay', 'Antarctica (the territory South of 60 deg S)', 'Mayotte', 'Spain', 'Belize', 'Liberia', 'Mayotte', 'Qatar', 'Nauru', 'Kiribati', 'Luxembourg', 'Kenya', 'Bhutan', 'Malawi', 'Switzerland', 'Portugal', 'Monaco', 'Saint Kitts and Nevis', 'Papua New Guinea', 'Nepal', 'Mayotte', 'Colombia', 'Jamaica', 'Russian Federation', 'New Zealand', 'Sao Tome and Principe', 'Norfolk Island', 'Isle of Man', 'Ethiopia', 'Antigua and Barbuda', 'Macao', 'United States Minor Outlying Islands', 'Haiti', 'Brunei Darussalam', 'Thailand', 'French Polynesia', 'Moldova', 'Puerto Rico', 'Pakistan', 'Cameroon', 'Singapore', 'Trinidad and Tobago', 'Azerbaijan', 'Guinea-Bissau', 'United States Minor Outlying Islands', 'Samoa', 'Fiji', 'Eritrea', 'Saudi Arabia', 'Dominica', 'Colombia', 'Bangladesh', 'United States Minor Outlying Islands', 'Uganda', 'French Southern Territories', 'Holy See (Vatican City State)', 'Dominica', 'Bolivia', 'Bangladesh', 'Ecuador', 'Chad', 'Togo', 'Maldives', 'Dominica', 'Niue', 'Sudan', 'Svalbard & Jan Mayen Islands', 'Sri Lanka', 'Bahrain', 'Nauru', 'Finland', 'Philippines', 'Seychelles', 'Congo', 'Brazil', 'Botswana', 'Thailand', 'Gibraltar', 'Bahamas', 'Qatar', 'Sri Lanka', 'Belgium', 'Austria', 'Czech Republic', 'Maldives', 'Fiji', 'Western Sahara', 'Ecuador', 'Italy', 'Burkina Faso', 'South Africa', 'Netherlands', 'Bhutan', 'Kuwait', 'British Virgin Islands', 'Bangladesh', 'French Southern Territories', 'Reunion', 'Brunei Darussalam', 'Puerto Rico', 'Reunion', 'Papua New Guinea', 'Gambia', 'Cyprus', 'Gibraltar', 'Grenada', 'Solomon Islands', 'Montenegro', 'Bhutan', 'Turkmenistan', 'Macao', 'Macao', 'Venezuela', 'Chad', 'Netherlands', 'Mozambique', 'Jamaica', 'Swaziland', 'French Guiana', \"Cote d'Ivoire\", 'United Kingdom', 'Serbia', 'Brazil', 'American Samoa', 'Congo', 'Congo', 'Western Sahara', 'Cambodia', 'Panama', 'Jordan', 'Barbados', 'Liechtenstein', 'Mauritania', 'Bosnia and Herzegovina', 'Cocos (Keeling) Islands', 'Marshall Islands', 'Honduras', 'Belarus', 'United Kingdom', 'Poland', 'Lesotho', 'United States of America', 'Honduras', 'Hungary', 'Lebanon', 'Saint Kitts and Nevis', 'Hong Kong', 'Korea', 'Uruguay', 'Mali', 'Mali', 'Egypt', 'Zambia', 'Eritrea', 'Sri Lanka', 'United Kingdom', 'Pakistan', 'Haiti', 'Netherlands', 'Zambia', 'Paraguay', 'Tonga', 'Gibraltar', 'Austria', 'Guinea-Bissau', 'New Caledonia', 'Latvia', 'Mauritius', 'French Southern Territories', 'Germany', 'Botswana', 'Turkmenistan', 'United States Minor Outlying Islands', 'Chile', 'Somalia', 'Western Sahara', 'Bahamas', 'Guyana', 'Niue', 'Thailand', 'Singapore', 'France', 'Kyrgyz Republic', 'Hong Kong', 'Sri Lanka', 'Sweden', 'Marshall Islands', 'Ukraine', 'Mexico', 'Cayman Islands', 'Zimbabwe', 'Ghana', 'Zambia', 'Honduras', 'Morocco', 'Guadeloupe', 'Belarus', 'Cayman Islands', 'Sao Tome and Principe', 'French Polynesia', 'Norway', 'Tanzania', 'Finland', 'Turkey', 'Switzerland', 'San Marino', 'Kiribati', 'Antarctica (the territory South of 60 deg S)', 'Kuwait', 'Tonga', 'Malawi', 'Hong Kong', 'Belarus', 'Mauritania', 'Gibraltar', 'Mayotte', 'Gambia', 'Ethiopia', 'Russian Federation', 'Fiji', 'Burkina Faso', 'Taiwan', 'Fiji', 'Montenegro', 'Mauritius', 'Cyprus', 'Sierra Leone', 'Yemen', 'Samoa', 'Cape Verde', 'Indonesia', 'Cape Verde', 'Ghana', 'Thailand', 'Romania', 'New Zealand', 'Barbados', 'North Macedonia', 'Iran', 'Puerto Rico', 'Timor-Leste', 'Chile', 'Singapore', 'Senegal', 'Monaco', 'Korea', 'Zimbabwe', 'Tajikistan', 'Korea', 'Norfolk Island', 'Palestinian Territory', 'Malaysia', 'Uruguay', 'Egypt', 'Brazil', 'Chad', 'Macao', 'Swaziland', 'Turkey', 'India', 'Kuwait', 'Afghanistan', 'Czech Republic', 'French Southern Territories', 'Korea', 'Mauritania', 'Suriname', 'Turks and Caicos Islands', 'Hong Kong', 'Solomon Islands', 'Central African Republic', 'Pakistan', 'Swaziland', 'Latvia', 'Barbados', 'Cameroon', 'Afghanistan', 'Dominica', 'Andorra', 'Gambia', 'British Virgin Islands', 'Indonesia', 'Yemen', 'Anguilla', 'Gabon', 'Colombia', 'Palau', 'Portugal', 'Equatorial Guinea', 'Portugal', 'China', 'Tunisia', 'Madagascar', 'Malta', 'Jordan', 'Swaziland', 'Cambodia', 'Reunion', 'Comoros', 'Tajikistan', 'Moldova', 'Bhutan', 'Barbados', 'Switzerland', 'Moldova', 'Saint Pierre and Miquelon', 'Congo', 'Lebanon', 'Senegal', 'Vietnam', 'Suriname', 'Benin', 'Sri Lanka', 'Malawi', 'Guadeloupe', 'Vanuatu', 'Kiribati', 'Falkland Islands (Malvinas)', 'Tuvalu', 'San Marino', 'Wallis and Futuna', 'Bosnia and Herzegovina', 'France', 'Chile', 'Djibouti', 'Bosnia and Herzegovina', 'Greenland', 'Rwanda', 'Falkland Islands (Malvinas)', 'Chile', 'Cambodia', 'Rwanda', 'Costa Rica', 'Namibia', 'Burkina Faso', 'Yemen', 'Equatorial Guinea', 'Reunion', 'Morocco', 'Gambia', 'Christmas Island', 'Holy See (Vatican City State)', 'Sri Lanka', 'Pitcairn Islands', 'Congo', 'Belgium', 'Andorra', 'Tajikistan', 'Myanmar', 'French Guiana', 'New Zealand', 'China', 'Cambodia', 'Indonesia', 'Gibraltar', 'Anguilla', 'Comoros', 'Panama', 'Equatorial Guinea', 'China', 'Taiwan', 'Ecuador', 'Botswana', 'Northern Mariana Islands', 'Bolivia', 'Sri Lanka', 'Zimbabwe', 'Iceland', 'Cambodia', 'Saint Vincent and the Grenadines', 'United Arab Emirates', 'Tonga', 'Benin', 'Singapore', 'Iceland', 'Papua New Guinea', 'Korea', 'New Zealand', 'Dominica', 'Suriname', 'Bermuda', 'Antigua and Barbuda', 'Bolivia', 'Niue', 'Brazil', 'Denmark', 'Belgium', 'Ukraine', 'Aruba', 'New Caledonia', 'Romania', 'Saudi Arabia', 'Nauru', 'Holy See (Vatican City State)', 'Botswana', 'Mali', 'China', 'Mauritania', 'Vanuatu', 'Svalbard & Jan Mayen Islands', 'Guam', 'Lebanon', 'Ethiopia', 'Kuwait', 'Pitcairn Islands', 'French Polynesia', 'Tuvalu', 'Palestinian Territory', 'Panama', 'Algeria', 'Panama', 'Namibia', \"Lao People's Democratic Republic\", 'Saint Vincent and the Grenadines', 'Cyprus', 'Ghana', 'Myanmar', 'Uruguay', 'Bangladesh', 'Saint Helena', 'Canada', 'Aruba', 'Panama', 'Belgium', 'Liechtenstein', 'Guatemala', 'Svalbard & Jan Mayen Islands', 'Kiribati', 'Namibia', 'Hungary', 'Malta', 'Norfolk Island', 'Korea', 'Northern Mariana Islands', 'Myanmar', 'Lebanon', 'Czech Republic', 'Bermuda', 'Mozambique', 'Estonia', 'Saint Lucia', 'Heard Island and McDonald Islands', 'Azerbaijan', 'Bosnia and Herzegovina', 'Syrian Arab Republic', 'United States Virgin Islands', 'Mongolia', 'Rwanda', 'Kiribati', 'Guatemala', 'Saint Pierre and Miquelon', 'Sao Tome and Principe', 'Hong Kong', 'United States Minor Outlying Islands', 'Burundi', 'Philippines', 'Myanmar', 'Vietnam', 'Luxembourg', 'Norway', 'Netherlands Antilles', 'Jordan', 'Tonga', 'Holy See (Vatican City State)', 'Guam', 'Comoros', 'British Virgin Islands', 'Spain', 'Korea', 'Japan', 'Faroe Islands', 'Qatar', 'Angola', 'Malaysia', 'Togo', 'Ethiopia', 'Liberia', 'British Indian Ocean Territory (Chagos Archipelago)', 'Mauritius', 'Venezuela', 'Brazil', 'Burkina Faso', 'Canada', 'Yemen', 'Guadeloupe', 'Palau', 'Moldova', 'French Guiana', 'New Zealand', 'Niger', 'Cayman Islands', 'Anguilla', 'Guadeloupe', 'Turks and Caicos Islands', 'Macao', 'Panama', 'Bermuda', 'Tuvalu', 'Malawi', 'Anguilla', 'Sierra Leone', 'Brunei Darussalam', 'Malawi', 'Antigua and Barbuda', 'Saint Pierre and Miquelon', 'Myanmar', 'South Georgia and the South Sandwich Islands', 'Aruba', 'Gambia', 'Cook Islands', 'Netherlands', 'Panama', 'Sierra Leone', 'Germany', 'Palau', 'Kiribati', 'Liechtenstein', 'Lithuania', 'Maldives', 'Liechtenstein', 'Papua New Guinea', 'Czech Republic', 'Mayotte', 'Finland', 'Croatia', 'Bhutan', 'Spain', 'Saint Barthelemy', 'Guinea', 'Mali', 'Timor-Leste', 'Holy See (Vatican City State)', 'Angola', 'Reunion', 'Antigua and Barbuda', 'Bahrain', 'Libyan Arab Jamahiriya', 'British Virgin Islands', 'Faroe Islands', 'Brunei Darussalam', 'Czech Republic', 'Korea', 'Kyrgyz Republic', 'Malawi', 'Greenland', 'Latvia', 'Panama', 'Western Sahara', 'Andorra', 'Guinea', 'Samoa', 'Iceland', 'India', 'Tunisia', 'Iceland', 'South Georgia and the South Sandwich Islands', 'France', 'Holy See (Vatican City State)', 'Qatar', 'Nauru', 'Portugal', 'Japan', 'Pitcairn Islands', 'Korea', 'Croatia', 'Togo', 'Germany', 'Trinidad and Tobago', 'Congo', 'Saint Kitts and Nevis', 'Reunion', 'San Marino', 'Bangladesh', 'Sudan', 'Iran', 'Bulgaria', 'Kiribati', 'Ghana', 'Bahamas', 'Brunei Darussalam', 'Ecuador', 'Cambodia', 'Burkina Faso', 'Madagascar', 'Martinique', 'Antarctica (the territory South of 60 deg S)', 'Guadeloupe', 'Denmark', 'Latvia', 'Kuwait', 'Lesotho', 'Niue', 'Bosnia and Herzegovina', 'Belgium', 'Cayman Islands', \"Lao People's Democratic Republic\", 'Argentina', 'Turkey', 'United States Minor Outlying Islands', 'Cambodia', 'Cyprus', 'Mozambique', 'United States Minor Outlying Islands', 'Namibia', 'Fiji', 'Aruba', 'Colombia', 'Jersey', 'Algeria', 'Palau', 'Yemen', 'Ecuador', 'Chad', 'Hungary', 'Paraguay', 'Heard Island and McDonald Islands', 'Nigeria', 'Portugal', 'Uruguay', 'Samoa', 'French Polynesia', 'Falkland Islands (Malvinas)', 'Norfolk Island', 'Uruguay', 'Pitcairn Islands', 'Jersey', 'Bahrain', 'Ukraine', 'Turkmenistan', 'Somalia', 'Mali', 'Christmas Island', 'Saint Martin', 'Singapore', 'Sao Tome and Principe', 'Moldova', 'Micronesia', 'Costa Rica', 'Mayotte', 'Andorra', 'Greece', 'Norfolk Island', 'Cambodia', 'American Samoa', 'United Arab Emirates', 'Qatar', 'Iran', 'Pakistan', 'Saudi Arabia', 'North Macedonia', 'Algeria', 'Bhutan', 'Afghanistan', 'South Georgia and the South Sandwich Islands', 'Norway', 'Martinique', 'Tuvalu', 'Kuwait', 'New Caledonia', 'Uzbekistan', 'Korea', 'Rwanda', 'Rwanda', 'Mali', 'Myanmar', 'Jersey', 'Sudan', 'United Kingdom', 'Paraguay', 'Botswana', 'French Polynesia', 'Iceland', 'Chile', 'Jordan', 'San Marino', 'Vietnam', 'Benin', 'Barbados', 'Singapore', 'Holy See (Vatican City State)', 'Svalbard & Jan Mayen Islands', 'Peru', 'Brunei Darussalam', 'Central African Republic', 'Tonga', 'Israel', 'Ukraine', 'Sweden', 'Saint Barthelemy', 'United Kingdom', 'Burundi', 'Zimbabwe', 'Finland', 'Luxembourg', 'Chad', 'United Arab Emirates', 'Bhutan', 'Mauritania', 'Iran', 'Ireland', 'Djibouti', 'Senegal', 'Korea', 'Australia', 'Algeria', 'Nepal', 'Sri Lanka', 'Spain', 'Netherlands Antilles', 'Iran', 'South Georgia and the South Sandwich Islands', 'Western Sahara', 'Suriname', 'Saudi Arabia', 'Jamaica', 'Bosnia and Herzegovina', 'Estonia', 'Vanuatu', 'Turks and Caicos Islands', 'Turkmenistan', 'Bahrain', 'Korea', 'Nigeria', 'Somalia', 'Costa Rica', 'Niger', 'United States Virgin Islands', 'Djibouti', 'Belarus', 'Moldova', 'Nepal', 'Bahrain', 'Solomon Islands', 'Japan', 'Lithuania', 'Mauritius', 'Colombia', 'Kenya', 'Grenada', 'Ghana', 'Barbados', 'Canada', 'Nauru', 'Marshall Islands', 'Cook Islands', 'Myanmar', 'Bahrain', 'Pitcairn Islands', 'Togo', 'Slovenia', 'Suriname', 'Paraguay', 'Aruba', 'Congo', 'Congo', 'Libyan Arab Jamahiriya', 'Luxembourg', 'Romania', 'Algeria', 'Svalbard & Jan Mayen Islands', 'Australia', 'Reunion', 'Indonesia', 'Finland', 'Mexico', 'Cuba', 'Palestinian Territory', 'Korea', 'Saint Martin', 'United Arab Emirates', 'Brunei Darussalam', 'Indonesia', 'Brunei Darussalam', 'Norfolk Island', 'Congo', 'Equatorial Guinea', 'Wallis and Futuna', 'Cuba', 'Somalia', 'Guernsey', 'Belarus', 'Nauru', 'Romania', 'Kuwait', 'Serbia', 'Saint Helena', 'Panama', 'Macao', 'Panama', 'Latvia', 'Saint Helena', 'Micronesia', 'Jordan', 'Mongolia', 'Mali', 'Cuba', 'Latvia', 'Swaziland', 'Armenia', 'Timor-Leste', 'Monaco', 'Gambia', 'Svalbard & Jan Mayen Islands', 'Congo', 'United Arab Emirates', 'Macao', 'Sao Tome and Principe', 'Hungary', 'Swaziland', 'Mayotte', 'North Macedonia', 'Georgia', 'Reunion', 'Nauru', 'Mayotte', 'Saint Vincent and the Grenadines', 'Haiti', 'Pitcairn Islands', 'Paraguay', 'Canada', 'Jamaica', 'Northern Mariana Islands', 'Liechtenstein', 'Suriname', 'Suriname', 'Liechtenstein', 'Botswana', 'Swaziland', 'Bouvet Island (Bouvetoya)', 'New Caledonia', 'Brazil', 'Guinea-Bissau', 'Tonga', 'Jamaica', 'Iceland', 'Lesotho', 'Uzbekistan', 'Canada', 'Togo', 'Saint Lucia', 'Mozambique', 'New Zealand', 'Kenya', 'Cameroon', 'Zambia', 'Nigeria', 'Yemen', 'Sudan', 'Zimbabwe', 'Hong Kong', 'Guinea', 'Hungary', 'Bermuda', 'Kuwait', 'Jersey', 'Antigua and Barbuda', 'Finland', 'Turks and Caicos Islands', 'Solomon Islands', 'Togo', 'Afghanistan', 'American Samoa', 'Armenia', 'Mali', 'Tanzania', 'Canada', 'Angola', 'Mexico', 'Poland', 'Somalia', 'Papua New Guinea', 'Uzbekistan', 'Gabon', 'Ecuador', 'Sweden', 'Argentina', 'Sri Lanka', 'Syrian Arab Republic', 'Lesotho', 'Italy', 'Morocco', 'Bouvet Island (Bouvetoya)', 'Spain', 'Somalia', 'Kiribati', 'Azerbaijan', 'Sweden', 'Guyana', 'Nigeria', 'Estonia', 'Grenada', 'Falkland Islands (Malvinas)', 'Burundi', 'Switzerland', 'Luxembourg', 'Canada', 'Saint Barthelemy', 'Guernsey', 'Burkina Faso', 'Italy', 'Austria', 'Togo', 'Niue', 'Malaysia', 'Slovakia (Slovak Republic)', 'Bangladesh', 'Swaziland', 'Singapore', 'Eritrea', 'Timor-Leste', 'Egypt', 'Panama', 'Russian Federation', 'Saint Pierre and Miquelon', 'Paraguay', 'Croatia', 'Netherlands', 'British Virgin Islands', 'Niue', 'Liberia', 'Togo', 'Pitcairn Islands', 'Morocco', 'Andorra', 'Djibouti', 'Kazakhstan', 'Central African Republic', 'Iran', 'Lithuania', 'San Marino', 'Malta', 'Yemen', 'New Zealand', 'Micronesia', 'Isle of Man', 'Gibraltar', 'Kuwait', 'Gambia', 'Cocos (Keeling) Islands', 'Estonia', 'Mozambique', 'Croatia', 'Comoros', 'Mongolia', 'Equatorial Guinea', 'Brunei Darussalam', 'Cameroon', 'Uruguay', 'Nepal', 'Uruguay', 'Bahamas', 'Ukraine', 'Portugal', 'Togo', 'Pakistan', 'Latvia', 'Netherlands', 'Greenland', 'Taiwan', 'Latvia', 'Niue', 'Netherlands Antilles', 'French Polynesia', 'Antarctica (the territory South of 60 deg S)', 'Czech Republic', 'United States Minor Outlying Islands', 'Cook Islands', 'British Indian Ocean Territory (Chagos Archipelago)', 'Bahamas', 'Slovakia (Slovak Republic)', 'Suriname', 'Fiji', 'Nauru', 'Togo', 'Lesotho', 'Macao', 'Nicaragua', 'Northern Mariana Islands', 'Palestinian Territory', 'Syrian Arab Republic', 'Solomon Islands', 'Cameroon', 'Sao Tome and Principe', 'Guinea-Bissau', 'Egypt', 'Denmark', 'Estonia', 'Mali', 'Tajikistan', 'Austria', 'Guatemala', 'Puerto Rico', 'Romania', 'Chile', 'Djibouti', 'Bulgaria', 'Mali', 'Mali', 'New Zealand', 'Malta', 'El Salvador', 'Togo', 'Macao', 'Iceland', 'Mongolia', 'Sweden', 'Malaysia', 'Philippines', 'Saint Lucia', 'Oman', 'Turkey', 'Switzerland', 'Switzerland', 'Saint Kitts and Nevis', 'Trinidad and Tobago', 'Philippines', 'Mauritania', 'Afghanistan', 'Saudi Arabia', 'Martinique', 'Martinique', 'Samoa', 'Burundi', 'Cameroon', 'Chad', 'Norfolk Island', 'Israel', 'Colombia', 'Zimbabwe', 'Djibouti', 'Romania', 'Oman', 'Turks and Caicos Islands', 'Namibia', 'Svalbard & Jan Mayen Islands', 'Reunion', 'Switzerland', 'Bahrain', 'Peru', 'Bermuda', 'Pakistan', 'Saint Pierre and Miquelon', 'Bouvet Island (Bouvetoya)', 'Montserrat', 'Finland', 'Montenegro', 'Finland', 'Mongolia', 'Svalbard & Jan Mayen Islands', 'Congo', 'United States of America', 'United States of America', 'Solomon Islands', 'Marshall Islands', 'Ireland', 'Cape Verde', 'Jamaica', 'Austria', 'United Kingdom', 'Sweden', 'Paraguay', 'Chad', 'Monaco', 'Uganda', 'Guinea', 'Timor-Leste', 'Ghana', 'French Polynesia', 'Chile', 'San Marino', 'Indonesia', 'Tonga', 'Andorra', 'Israel', 'Palau', 'Saint Martin', 'Pitcairn Islands', 'Martinique', 'Korea', 'French Polynesia', 'Tajikistan', 'Gibraltar', 'Colombia', 'Mexico', 'Panama', 'Colombia', 'Benin', 'Sao Tome and Principe', 'Israel', 'Kyrgyz Republic', 'Guatemala', 'Bosnia and Herzegovina', 'Bermuda', 'Qatar', 'Sierra Leone', 'Bangladesh', 'United States Virgin Islands', 'French Guiana', 'Botswana', 'Montenegro', 'Tunisia', 'Finland', 'Bahrain', 'Libyan Arab Jamahiriya', 'Bahamas', 'Falkland Islands (Malvinas)', 'Cayman Islands', 'Martinique', 'Colombia', 'Costa Rica', 'Denmark', 'Kyrgyz Republic', 'Guam', 'Turks and Caicos Islands', 'Barbados', 'Falkland Islands (Malvinas)', 'Chad', 'Puerto Rico', 'Afghanistan', 'Benin', 'North Macedonia', 'Niue', 'Poland', 'Norfolk Island', 'Belarus', 'Italy', 'Gibraltar', 'Kuwait', 'Guam', 'United States Virgin Islands', 'Kiribati', 'Latvia', 'France', 'Solomon Islands', 'Serbia', 'Turkmenistan', 'Bulgaria', 'Kazakhstan', 'Romania', 'Sudan', 'Uruguay', 'Finland', 'Peru', 'Maldives', 'Argentina', 'Cuba', 'Poland', 'Tuvalu', 'Austria', 'Mauritania', 'Costa Rica', 'Timor-Leste', 'Nepal', 'Guinea', 'Vanuatu', 'Saint Helena', 'American Samoa', 'Northern Mariana Islands', 'Jamaica', 'Palau', 'Marshall Islands', 'Mauritania', 'Serbia', 'Azerbaijan', 'Cape Verde', 'Iraq', 'Christmas Island', 'Malta', 'Germany', 'Zambia', 'Kyrgyz Republic', 'Norfolk Island', 'Martinique', 'Western Sahara', 'Finland', 'Yemen', 'Saint Barthelemy', 'Uzbekistan', 'Lesotho', 'Tokelau', 'Central African Republic', 'Gabon', 'Central African Republic', 'Sudan', 'Mayotte', 'Italy', 'British Indian Ocean Territory (Chagos Archipelago)', 'Saint Lucia', 'Mauritius', 'British Virgin Islands', 'Morocco', 'Mauritius', 'Bangladesh', 'Cape Verde', 'Norfolk Island', 'Finland', 'French Guiana', 'Russian Federation', 'Tunisia', 'Paraguay', 'Maldives', 'Papua New Guinea', 'French Guiana', 'Uruguay', 'Benin', 'Anguilla', 'Malaysia', 'El Salvador', 'Holy See (Vatican City State)', 'Guernsey', 'Spain', 'Brunei Darussalam', 'Niue', 'Armenia', 'Denmark', 'Botswana', 'Paraguay', 'Iraq', 'Comoros', 'Congo', 'Latvia', 'Ecuador', 'Turkey', 'Paraguay', 'Greece', 'Haiti', 'Bangladesh', 'Greece', 'Slovenia', 'Guyana', 'Uzbekistan', 'India', 'Wallis and Futuna', 'Montserrat', 'Saint Vincent and the Grenadines', 'Australia', 'Azerbaijan', 'Venezuela', 'French Guiana', 'Belize', 'Brunei Darussalam', 'South Georgia and the South Sandwich Islands', 'Zambia', 'Guadeloupe', 'Bahrain', 'Taiwan', 'Somalia', 'Vietnam', 'Gambia', 'Nauru', 'Tokelau', 'Australia', 'Venezuela', 'Northern Mariana Islands', 'Timor-Leste', 'Slovakia (Slovak Republic)', 'American Samoa', 'Estonia', 'Guatemala', 'Haiti', 'Liechtenstein', 'Philippines', 'French Guiana', 'Montserrat', 'Japan', \"Lao People's Democratic Republic\", 'Bouvet Island (Bouvetoya)', \"Lao People's Democratic Republic\", 'Nicaragua', 'Montserrat', 'Holy See (Vatican City State)', 'Bouvet Island (Bouvetoya)', 'Solomon Islands', 'French Southern Territories', 'Israel', 'Egypt', 'Hong Kong', 'Serbia', 'Armenia', 'Paraguay', 'Bangladesh', 'Tanzania', 'Wallis and Futuna', 'Pitcairn Islands', 'Paraguay', 'Antigua and Barbuda', 'Argentina', 'Ecuador', 'Greece', 'San Marino', 'Mali', 'Costa Rica', 'Turkey', 'Liechtenstein', 'South Africa', 'Japan', 'Bouvet Island (Bouvetoya)', 'United Kingdom', 'Malaysia', 'Burundi', 'Isle of Man', 'Norfolk Island', 'Saint Barthelemy', 'Azerbaijan', 'Gambia', 'Tuvalu', 'United States Virgin Islands', 'Venezuela', 'Antarctica (the territory South of 60 deg S)', 'Sri Lanka', 'Netherlands Antilles', 'Saudi Arabia', 'Palestinian Territory', 'Slovenia', 'Syrian Arab Republic', 'Bahamas', 'Guadeloupe', 'Kazakhstan', 'New Zealand', 'Kyrgyz Republic', 'Saint Vincent and the Grenadines', 'Solomon Islands', 'Bahamas', 'El Salvador', 'Brazil', 'Bhutan', 'Saint Pierre and Miquelon', 'Myanmar', 'Slovakia (Slovak Republic)', 'Korea', 'Estonia', 'San Marino', \"Lao People's Democratic Republic\", 'Argentina', 'Mauritius', 'Mali', 'Morocco', 'Niue', 'Cook Islands', 'Cyprus', 'India', 'Guernsey', 'United States Minor Outlying Islands', 'Estonia', 'Heard Island and McDonald Islands', 'Vanuatu', 'Guam', 'Belarus', 'Solomon Islands', 'Netherlands Antilles', 'Bahrain', 'Kyrgyz Republic', 'Tonga', 'Greenland', 'Slovakia (Slovak Republic)', 'United Arab Emirates', 'Togo', 'Barbados', 'Northern Mariana Islands', 'United States Minor Outlying Islands', 'Slovakia (Slovak Republic)', 'Heard Island and McDonald Islands', 'Bosnia and Herzegovina', 'Qatar', 'Cook Islands', 'Micronesia', 'Botswana', 'Burkina Faso', 'Uzbekistan', 'Uruguay', 'Western Sahara', 'Guatemala', 'Belarus', 'Cuba', 'Finland', 'Barbados', 'Pakistan', 'Chile', 'Sweden', 'South Africa', 'Northern Mariana Islands', 'Algeria', 'Bahrain', 'Kyrgyz Republic', 'India', 'Trinidad and Tobago', 'United Arab Emirates', 'Nepal', 'Italy', 'Armenia', 'Colombia', 'Italy', 'Cyprus', 'Saint Martin', 'Iceland', 'Bhutan', 'Botswana', 'Saint Barthelemy', 'Malaysia', 'Belgium', \"Lao People's Democratic Republic\", 'Palau', 'American Samoa', 'Fiji', 'Turkmenistan', 'Gibraltar', 'Brunei Darussalam', 'Saint Helena', 'Djibouti', 'Romania', 'Turkmenistan', 'Barbados', 'Brunei Darussalam', 'Somalia', 'Luxembourg', 'Maldives', 'Angola', 'Iraq', 'Pitcairn Islands', \"Lao People's Democratic Republic\", 'Jamaica', 'Saint Vincent and the Grenadines', 'Benin', 'Ecuador', 'Maldives', 'Kuwait', 'Barbados', 'Anguilla', 'Botswana', 'Liberia', 'Jersey', 'Rwanda', 'Ghana', 'Guinea', 'Iceland', 'Netherlands', 'Swaziland', 'Bermuda', 'Togo', 'Samoa', 'Bangladesh', 'Andorra', 'Ukraine', 'Lebanon', 'Rwanda', 'Rwanda', 'Maldives', 'Heard Island and McDonald Islands', 'Ireland', 'Jamaica', 'Austria', 'Romania', 'Maldives', 'British Indian Ocean Territory (Chagos Archipelago)', 'Morocco', 'United Kingdom', 'Colombia', 'Indonesia', 'Saint Lucia', 'Vietnam', 'Liechtenstein', 'Swaziland', 'Sweden', 'Heard Island and McDonald Islands', 'Sudan', 'French Southern Territories', 'Mexico', 'Afghanistan', 'Paraguay', 'Bahrain', 'Macao', 'Slovenia', 'United Kingdom', 'Zimbabwe', 'Portugal', 'Swaziland', 'Slovenia', 'Ecuador', 'Botswana', 'Madagascar', 'Saint Kitts and Nevis', 'Svalbard & Jan Mayen Islands', 'British Virgin Islands', 'Christmas Island', 'Albania', 'Latvia', 'Andorra', 'New Caledonia', 'Japan', 'Malta', 'Niger', 'Switzerland', 'Solomon Islands', 'Lesotho', 'Guatemala', 'Gibraltar', \"Lao People's Democratic Republic\", 'Bouvet Island (Bouvetoya)', 'Australia', 'Cameroon', 'San Marino', 'Senegal', 'Monaco', 'Western Sahara', 'San Marino', 'Serbia', 'Moldova', 'Iran', 'Saint Vincent and the Grenadines', 'Yemen', 'South Georgia and the South Sandwich Islands', 'Estonia', 'United States of America', 'Uganda', 'Bouvet Island (Bouvetoya)', 'Canada', 'Saint Martin', 'Chad', 'Cape Verde', 'Vietnam', 'Kyrgyz Republic', \"Cote d'Ivoire\", 'Saudi Arabia', 'Lithuania', 'Azerbaijan', 'Eritrea', 'Timor-Leste', 'Uruguay', 'Mongolia', 'Israel', 'Turks and Caicos Islands', 'Nicaragua', 'Papua New Guinea', 'Namibia', 'Niue', 'Saint Barthelemy', 'Israel', 'Turks and Caicos Islands', 'French Guiana', 'Bouvet Island (Bouvetoya)', 'Estonia', 'Solomon Islands', 'Guatemala', 'Malawi', 'Marshall Islands', 'United Arab Emirates', 'Ethiopia', 'Guernsey', 'Luxembourg', 'Greece', 'Grenada', 'Pitcairn Islands', 'Paraguay', 'Faroe Islands', 'Paraguay', 'Timor-Leste', 'Czech Republic', 'Northern Mariana Islands', 'Italy', 'Wallis and Futuna', 'Kiribati', 'Solomon Islands', 'Iran', 'Guernsey', 'Yemen', 'Chile', 'American Samoa', 'Northern Mariana Islands', 'Central African Republic', 'Samoa', 'Croatia', 'Ecuador', 'Somalia', 'Saint Helena', 'Morocco', 'Botswana', 'Croatia', 'Kenya', 'Cape Verde', 'Madagascar', 'Sri Lanka', 'Fiji', 'Morocco', 'Kyrgyz Republic', 'Sierra Leone', 'Moldova', 'Morocco', 'Kazakhstan', 'Bangladesh', 'Turks and Caicos Islands', 'United States Minor Outlying Islands', 'New Zealand', 'Faroe Islands', 'Spain', 'Northern Mariana Islands', 'Saint Helena', 'Ireland', 'Pitcairn Islands', 'Palau', 'British Virgin Islands', 'Saudi Arabia', 'Saint Lucia', 'Bouvet Island (Bouvetoya)', 'Cook Islands', 'United States Virgin Islands', 'Antigua and Barbuda', 'Christmas Island', 'Qatar', 'Niue', 'Luxembourg', 'South Africa', 'Canada', 'Madagascar', 'Azerbaijan', 'Guinea-Bissau', 'Qatar', 'Venezuela', 'Libyan Arab Jamahiriya', 'Azerbaijan', 'Turks and Caicos Islands', 'Tajikistan', 'Liberia', 'Montenegro', 'Azerbaijan', 'Kenya', 'Algeria', 'Timor-Leste', 'Bulgaria', 'Holy See (Vatican City State)', 'British Indian Ocean Territory (Chagos Archipelago)', 'Sierra Leone', 'Mauritius', 'Bhutan', 'Bahrain', 'British Indian Ocean Territory (Chagos Archipelago)', 'Malawi', 'Finland', 'Nigeria', 'French Polynesia', 'Hong Kong', 'Armenia', 'Andorra', 'Norfolk Island', 'Sierra Leone', 'Korea', 'Seychelles', 'Korea', 'Palau', 'Nepal', 'Ecuador', 'Bosnia and Herzegovina', 'Saint Barthelemy', 'Equatorial Guinea', 'Reunion', 'Guinea', 'American Samoa', 'Papua New Guinea', 'Guatemala', 'Nauru', 'Gabon', 'Faroe Islands', 'United States Minor Outlying Islands', 'Hong Kong', 'Turks and Caicos Islands', 'United States Minor Outlying Islands', 'South Africa', 'Cyprus', 'Hong Kong', 'Saint Pierre and Miquelon', 'Ukraine', 'Saint Helena', 'Romania', 'Samoa', 'Finland', 'Macao', 'Faroe Islands', 'Haiti', 'Sao Tome and Principe', 'Cambodia', 'Reunion', 'Mayotte', 'Serbia', 'Palestinian Territory', 'Cook Islands', 'Turkey', 'Burundi', 'Japan', 'Morocco', 'United Kingdom', 'Saudi Arabia', 'Niger', 'Liechtenstein', 'Canada', 'Nauru', 'French Guiana', 'Zimbabwe', 'Burkina Faso', 'Monaco', 'Gambia', 'Spain', 'Bolivia', 'Liechtenstein', 'Palestinian Territory', 'Nepal', 'Saudi Arabia', 'Benin', 'Cayman Islands', 'Armenia', 'Afghanistan', 'Bosnia and Herzegovina', 'Pakistan', 'Georgia', 'Guyana', 'Togo', 'Czech Republic', 'Serbia', 'Latvia', 'Niue', 'Togo', 'Guyana', 'Niue', 'Ethiopia', 'Greenland', 'South Africa', 'Germany', 'Haiti', 'Gibraltar', 'Timor-Leste', 'Iran', 'Guernsey', 'Togo', 'Portugal', 'Cambodia', 'Tanzania', 'Holy See (Vatican City State)', 'Heard Island and McDonald Islands', 'Equatorial Guinea', 'French Southern Territories', 'Liechtenstein', 'Comoros', 'South Africa', 'Palestinian Territory', 'Afghanistan', 'Albania', 'Honduras', 'Spain', 'Swaziland', 'Taiwan', 'Guinea-Bissau', 'Croatia', 'Vietnam', 'Bulgaria', 'Brazil', 'Singapore', 'Canada', 'Yemen', 'Egypt', 'Croatia', 'Bahrain', 'Palau', 'Bermuda', 'Thailand', 'Saudi Arabia', 'Isle of Man', 'Lithuania', 'Saint Barthelemy', 'Libyan Arab Jamahiriya', 'Belarus', 'Palau', 'Armenia', 'Western Sahara', 'Saint Pierre and Miquelon', 'Indonesia', 'Lithuania', 'Dominica', 'British Indian Ocean Territory (Chagos Archipelago)', 'Peru', 'Aruba', 'South Georgia and the South Sandwich Islands', 'Peru', 'Bahamas', 'Reunion', 'El Salvador', 'Korea', 'Egypt', 'India', 'Guinea-Bissau', 'United States of America', 'Falkland Islands (Malvinas)', 'Zambia', 'Spain', 'Japan', 'San Marino', 'Ghana', 'Saudi Arabia', 'Burundi', 'Suriname', 'Tunisia', 'Madagascar', 'Iceland', 'Niger', 'Marshall Islands', 'Thailand', 'Swaziland', 'French Polynesia', 'Christmas Island', 'Iraq', 'Guyana', 'Indonesia', 'Swaziland', 'Gambia', 'Poland', 'Czech Republic', 'Solomon Islands', 'Nigeria', 'Christmas Island', 'Austria', 'Falkland Islands (Malvinas)', 'Spain', 'Niger', 'Nepal', 'Honduras', 'Moldova', 'Grenada', 'Saint Kitts and Nevis', 'Guinea', 'Paraguay', 'Jordan', 'Bahamas', 'Kuwait', 'Malta', 'Kiribati', 'Greece', 'Samoa', 'Monaco', 'Georgia', 'Liechtenstein', 'Cocos (Keeling) Islands', 'Grenada', 'Malaysia', 'Ghana', 'Philippines', 'Saint Kitts and Nevis', 'Netherlands Antilles', 'Rwanda', 'Cuba', 'Pitcairn Islands', 'Bhutan', 'Reunion', 'Sweden', 'Peru', 'Norway', 'Maldives', 'Bermuda', 'Bolivia', 'Equatorial Guinea', 'San Marino', 'New Zealand', 'Korea', 'Netherlands', 'Kiribati', \"Lao People's Democratic Republic\", 'Nauru', 'Syrian Arab Republic', 'Japan', 'Holy See (Vatican City State)', 'Christmas Island', 'Cocos (Keeling) Islands', 'Afghanistan', 'Kuwait', 'Northern Mariana Islands', 'Guam', 'Serbia', 'Kyrgyz Republic', 'Tajikistan', 'Oman', 'Bhutan', 'Cayman Islands', 'Nigeria', 'Puerto Rico', 'Poland', 'Cuba', 'United States Minor Outlying Islands', 'Niue', 'Namibia', 'Algeria', 'Micronesia', 'Nauru', 'Qatar', 'Philippines', \"Lao People's Democratic Republic\", 'Fiji', 'Turkey', 'Gambia', 'Guernsey', 'Suriname', 'Italy', 'Dominican Republic', 'Saint Vincent and the Grenadines', 'Monaco', 'Sierra Leone', 'Papua New Guinea', 'Burkina Faso', \"Lao People's Democratic Republic\", 'Palestinian Territory', 'Albania', 'Timor-Leste', 'South Georgia and the South Sandwich Islands', 'Chad', 'Netherlands', 'Albania', 'Haiti', 'Malta', 'Germany', 'Solomon Islands', 'Bouvet Island (Bouvetoya)', 'India', 'Swaziland', 'Falkland Islands (Malvinas)', 'United Kingdom', 'Kiribati', 'Cameroon', 'Bolivia', 'Iceland', 'Azerbaijan', 'Belgium', 'Sudan', 'Georgia', 'Sri Lanka', 'French Polynesia', 'Philippines', 'Liechtenstein', 'Cayman Islands', 'South Africa', 'Zimbabwe', 'Myanmar', 'Chile', 'Niue', 'British Virgin Islands', 'Saint Barthelemy', 'Rwanda', 'Tanzania', 'Tuvalu', 'Saint Lucia', 'Cayman Islands', 'Panama', 'Vietnam', 'Saint Pierre and Miquelon', 'Malawi', 'Iraq', 'Mongolia', 'Germany', 'Bosnia and Herzegovina', 'Hong Kong', 'Pitcairn Islands', 'Wallis and Futuna', 'Aruba', 'Trinidad and Tobago', 'Palau', 'Morocco', 'Norfolk Island', 'Tokelau', 'Netherlands Antilles', 'Bangladesh', 'Singapore', 'Georgia', 'Libyan Arab Jamahiriya', 'Cyprus', 'Brazil', 'Egypt', 'Nicaragua', 'Congo', 'Panama', 'Cocos (Keeling) Islands', 'Niue', 'French Polynesia', 'Cocos (Keeling) Islands', 'Netherlands Antilles', 'Uzbekistan', 'French Southern Territories', 'Heard Island and McDonald Islands', 'Zimbabwe', 'Saint Lucia', 'Papua New Guinea', 'Tonga', 'Niue', 'Oman', 'Syrian Arab Republic', 'Chile', 'Moldova', 'Albania', 'Iraq', 'Yemen', 'Iceland', 'Lebanon', 'El Salvador', 'Bolivia', 'Indonesia', 'Eritrea', 'Togo', 'Fiji', 'Guinea', 'Myanmar', 'Guernsey', 'Kyrgyz Republic', 'Algeria', 'Wallis and Futuna', 'South Africa', 'Sweden', 'Somalia', 'Equatorial Guinea', 'Azerbaijan', 'Namibia', 'Czech Republic', 'Bouvet Island (Bouvetoya)', 'France', 'Cocos (Keeling) Islands', 'Guam', 'Argentina', 'Montenegro', 'Italy', 'Bhutan', 'Morocco', 'Suriname', 'Mayotte', 'Nepal', 'United States of America', 'Norfolk Island', 'Peru', 'Australia', 'France', 'India', 'Tonga', 'Bangladesh', 'Belgium', 'Cocos (Keeling) Islands', 'Zimbabwe', 'South Georgia and the South Sandwich Islands', 'Bahrain', 'Turkey', 'Spain', 'Lithuania', 'Norfolk Island', 'Fiji', 'Dominican Republic', 'Slovakia (Slovak Republic)', 'Australia', 'Pitcairn Islands', 'Oman', 'Luxembourg', 'Mayotte', 'Pakistan', \"Lao People's Democratic Republic\", 'Paraguay', 'Serbia', 'Anguilla', 'Maldives', 'Fiji', 'Korea', 'Syrian Arab Republic', 'Ethiopia', 'Netherlands Antilles', 'Suriname', 'Lesotho', 'Norway', 'Tokelau', 'Micronesia', 'Mexico', 'Gambia', 'Eritrea', 'Russian Federation', 'Estonia', 'Liberia', 'Gibraltar', 'Costa Rica', 'Czech Republic', 'Bosnia and Herzegovina', 'Namibia', 'Solomon Islands', 'Christmas Island', 'Paraguay', 'Saint Kitts and Nevis', 'United States Virgin Islands', 'Israel', 'Bermuda', 'Togo', 'Cayman Islands', 'Liechtenstein', 'New Zealand', 'Andorra', 'Cayman Islands', 'Eritrea', 'Tunisia', 'Korea', 'Turks and Caicos Islands', 'Malawi', 'San Marino', 'Malta', 'Mongolia', 'Czech Republic', 'Tokelau', 'Western Sahara', 'Vietnam', 'Botswana', 'Eritrea', 'Congo', 'Tonga', 'Tajikistan', 'Puerto Rico', 'Sierra Leone', 'Ghana', 'Spain', 'Cocos (Keeling) Islands', 'El Salvador', 'United States Minor Outlying Islands', 'Ethiopia', 'United States Minor Outlying Islands', 'Burkina Faso', 'Portugal', 'Ireland', 'Trinidad and Tobago', 'Holy See (Vatican City State)', 'Ethiopia', 'Romania', 'Jamaica', 'New Zealand', 'Japan', 'Egypt', 'Bahrain', 'Australia', 'India', 'Chile', 'United Kingdom', 'Italy', 'Syrian Arab Republic', 'Maldives', 'India', 'Morocco', \"Lao People's Democratic Republic\", 'French Guiana', 'Egypt', 'Namibia', 'Hungary', 'Serbia', 'Bangladesh', 'Central African Republic', 'Denmark', 'Somalia', 'Norfolk Island', 'Saint Helena', 'Turkmenistan', 'Cambodia', 'Ghana', 'Guernsey', 'Antarctica (the territory South of 60 deg S)', 'Kenya', 'Saint Vincent and the Grenadines', 'British Indian Ocean Territory (Chagos Archipelago)', 'Argentina', 'Jamaica', 'Turkmenistan', 'Svalbard & Jan Mayen Islands', 'Turkey', 'France', 'Venezuela', 'Philippines', 'Somalia', 'Antigua and Barbuda', 'Paraguay', 'Dominican Republic', 'Guinea', 'France', 'Cocos (Keeling) Islands', 'Liberia', 'Albania', 'Micronesia', 'Anguilla', \"Cote d'Ivoire\", 'Lithuania', 'Guatemala', 'Latvia', 'Gabon', 'Svalbard & Jan Mayen Islands', \"Cote d'Ivoire\", 'United Arab Emirates', 'Jamaica', 'Solomon Islands', 'Tajikistan', 'Israel', 'Anguilla', 'Antigua and Barbuda', 'Rwanda', 'Monaco', 'Guam', 'Saint Lucia', 'Guernsey', 'San Marino', 'Northern Mariana Islands', 'Sierra Leone', 'Eritrea', 'Comoros', 'Burkina Faso', 'Vietnam', 'Armenia', 'Israel', 'Gambia', 'Marshall Islands', 'Greenland', 'Kazakhstan', 'Mali', 'Senegal', 'Cook Islands', 'China', 'Norway', 'Timor-Leste', 'United Kingdom', 'China', 'Niue', 'Brunei Darussalam', 'Lithuania', 'Seychelles', 'Nigeria', 'Vanuatu', 'Fiji', 'Andorra', 'Saint Barthelemy', 'Germany', 'Andorra', 'Cape Verde', 'Iraq', 'Georgia', 'United States of America', 'Brazil', 'Norfolk Island', \"Cote d'Ivoire\", 'Malta', 'Peru', 'Botswana', 'Guatemala', 'Mozambique', 'Falkland Islands (Malvinas)', 'Cook Islands', 'Swaziland', 'Azerbaijan', 'Mongolia', 'Andorra', 'Belize', 'Tokelau', 'Mauritius', 'Andorra', 'Solomon Islands', 'Brazil', 'Lebanon', 'Malta', 'Vietnam', 'Lebanon', 'United States Virgin Islands', 'Moldova', 'Thailand', 'Switzerland', 'Romania', 'Swaziland', 'India', 'Russian Federation', 'French Polynesia', 'Papua New Guinea', 'Costa Rica', 'Tunisia', 'Liberia', 'Hungary', 'Kazakhstan', 'Saint Pierre and Miquelon', 'Estonia', 'Timor-Leste', 'Samoa', 'Portugal', 'Canada', 'Egypt', 'Portugal', 'United States Minor Outlying Islands', 'Venezuela', 'British Virgin Islands', 'Egypt', 'Puerto Rico', 'Madagascar', 'Turkey', 'Saint Helena', 'Tuvalu', 'Afghanistan', 'Morocco', 'Cyprus', 'American Samoa', 'Italy', 'Korea', 'Mali', 'Swaziland', 'Bouvet Island (Bouvetoya)', 'Swaziland', 'Niger', 'Norfolk Island', 'Gibraltar', 'Suriname', 'Italy', 'Malaysia', 'Comoros', 'Barbados', 'Guernsey', 'Liberia', 'Christmas Island', 'Fiji', 'Albania', 'Sierra Leone', 'Mayotte', 'Iceland', 'Luxembourg', 'Falkland Islands (Malvinas)', 'Dominican Republic', 'Estonia', 'Guinea', 'Taiwan', 'Tokelau', 'Malawi', 'Korea', 'Canada', 'Madagascar', 'United Kingdom', 'Vanuatu', 'Paraguay', 'Saint Vincent and the Grenadines', 'Nepal', 'Poland', 'Mauritania', 'Georgia', 'Mozambique', 'Paraguay', 'Andorra', 'Norfolk Island', 'San Marino', 'Hungary', 'Puerto Rico', 'Estonia', 'Congo', 'Finland', 'Armenia', 'El Salvador', 'Samoa', 'Andorra', 'Papua New Guinea', 'Libyan Arab Jamahiriya', 'India', 'China', 'Afghanistan', 'Chile', 'Argentina', 'French Guiana', 'Australia', 'Tuvalu', 'Macao', 'Poland', 'Bangladesh', 'Congo', 'Cape Verde', 'Saint Vincent and the Grenadines', 'Indonesia', 'Paraguay', 'Malta', 'Lesotho', 'Germany', 'American Samoa', 'Italy', 'Guatemala', 'Barbados', 'Bermuda', 'Senegal', 'Argentina', 'Malaysia', 'North Macedonia', 'Northern Mariana Islands', 'Solomon Islands', 'Iraq', 'Cocos (Keeling) Islands', 'Australia', 'Mongolia', 'Gabon', 'Cyprus', 'Mauritania', 'British Indian Ocean Territory (Chagos Archipelago)', 'Holy See (Vatican City State)', 'Martinique', 'Zambia', 'Cambodia', 'Netherlands', 'Taiwan', 'United Arab Emirates', 'Georgia', 'Venezuela', 'Seychelles', 'Paraguay', 'Dominican Republic', 'Zambia', 'Kazakhstan', 'Egypt', 'Malawi', 'Lebanon', 'Pakistan', 'Colombia', 'Mali', 'Georgia', 'Falkland Islands (Malvinas)', 'Cayman Islands', 'Afghanistan', 'South Africa', 'Andorra', 'Qatar', 'Malaysia', 'Turkmenistan', 'Zimbabwe', 'Bahamas', 'Denmark', 'Saint Helena', 'South Africa', 'Solomon Islands', 'Cayman Islands', 'Costa Rica', 'Estonia', 'French Polynesia', 'Romania', 'Suriname', 'Egypt', 'Monaco', 'Uruguay', 'Yemen', 'Wallis and Futuna', 'Kiribati', \"Lao People's Democratic Republic\", 'Djibouti', 'Ecuador', 'Uzbekistan', 'Eritrea', 'Mozambique', 'Holy See (Vatican City State)', 'Somalia', 'Nauru', 'American Samoa', 'Russian Federation', 'Nauru', 'Palestinian Territory', 'Azerbaijan', 'Saudi Arabia', 'Tajikistan', 'United Arab Emirates', 'Denmark', 'Albania', 'Canada', 'Cayman Islands', 'Armenia', 'Liechtenstein', 'Guam', 'United Arab Emirates', 'Anguilla', 'Kenya', 'Finland', 'Australia', 'Tuvalu', 'Greenland', 'Congo', 'Azerbaijan', 'Fiji', 'Togo', 'Bhutan', 'Papua New Guinea', 'Guinea', 'Marshall Islands', 'Indonesia', 'Wallis and Futuna', 'Afghanistan', 'Croatia', 'Germany', 'Pakistan', 'Saudi Arabia', 'Liechtenstein', 'Reunion', 'Lebanon', 'Guinea-Bissau', 'Angola', 'Svalbard & Jan Mayen Islands', 'Cuba', 'Mozambique', 'United States Virgin Islands', 'Iraq', 'Oman', 'Argentina', 'Benin', 'Korea', 'United States of America', 'British Virgin Islands', 'Mexico', 'Venezuela', 'Bermuda', 'Sudan', 'Paraguay', 'Central African Republic', 'Chile', 'Northern Mariana Islands', 'United Arab Emirates', 'Comoros', 'Congo', 'British Virgin Islands', 'Korea', 'Reunion', 'Venezuela', 'Tunisia', 'Italy', 'Singapore', 'Uruguay', 'Montserrat', 'Morocco', 'Netherlands Antilles', 'Georgia', 'Cyprus', 'Montenegro', 'Iceland', 'Singapore', 'Guam', 'Montserrat', 'Liberia', 'Israel', 'Slovenia', 'France', 'Bahamas', 'Micronesia', 'Tajikistan', 'Ghana', 'Pakistan', 'Oman', 'Latvia', 'American Samoa', 'Guinea-Bissau', 'Saint Helena', 'South Africa', 'Nigeria', 'Maldives', 'Belize', 'Greece', 'Vietnam', 'Cuba', 'Antarctica (the territory South of 60 deg S)', 'Latvia', 'Nicaragua', 'Martinique', 'Greece', 'Turkmenistan', 'United States Virgin Islands', 'Burundi', 'Mayotte', 'Tonga', 'Chile', 'Andorra', 'Congo', 'Nepal', 'Haiti', 'Bahrain', 'Holy See (Vatican City State)', 'Korea', 'Ghana', 'British Indian Ocean Territory (Chagos Archipelago)', 'Dominican Republic', 'Croatia', 'Libyan Arab Jamahiriya', 'Azerbaijan', 'Croatia', 'India', 'Gibraltar', 'Slovenia', 'Singapore', 'Nauru', 'Saint Kitts and Nevis', 'Libyan Arab Jamahiriya', 'Armenia', 'French Guiana', 'Canada', 'Uzbekistan', 'Japan', 'Djibouti', 'Algeria', 'Uzbekistan', 'Norway', 'North Macedonia', 'Guam', 'Cyprus', 'Costa Rica', 'Macao', 'Korea', 'Brazil', 'Martinique', 'Somalia', 'Puerto Rico', 'Romania', 'Ukraine', 'Montserrat', 'Wallis and Futuna', 'Paraguay', 'British Indian Ocean Territory (Chagos Archipelago)', 'Angola', 'Solomon Islands', 'Timor-Leste', 'Uruguay', 'Nepal', 'Guatemala', 'Niger', 'Guam', 'Bahamas', 'Guyana', 'Samoa', 'Cape Verde', 'Kyrgyz Republic', 'Nepal', 'Bermuda', 'Faroe Islands', 'France', 'Cocos (Keeling) Islands', 'Tokelau', 'Mauritius', 'Sierra Leone', 'Namibia', 'Turkmenistan', 'Morocco', 'Bouvet Island (Bouvetoya)', 'Liberia', 'Mauritius', 'Anguilla', 'Peru', 'Antarctica (the territory South of 60 deg S)', 'Lesotho', 'Uzbekistan', 'Cyprus', 'Timor-Leste', 'Mexico', 'Venezuela', 'Italy', 'Morocco', 'Serbia', 'American Samoa', 'Hungary', 'Dominican Republic', 'Dominican Republic', 'Armenia', 'Bhutan', 'South Africa', 'Martinique', 'Marshall Islands', 'Saint Kitts and Nevis', 'Albania', 'Burkina Faso', 'Dominican Republic', 'Ecuador', 'Saint Helena', 'Mongolia', 'Kuwait', 'New Caledonia', 'Austria', 'Netherlands Antilles', 'Timor-Leste', 'Spain', 'Cayman Islands', 'Qatar', 'Gambia', 'Palestinian Territory', 'Equatorial Guinea', 'Guadeloupe', 'Swaziland', 'Rwanda', 'British Virgin Islands', 'Guinea-Bissau', 'Saint Barthelemy', 'Bhutan', 'Turks and Caicos Islands', 'Brazil', 'Sudan', 'Pakistan', 'Equatorial Guinea', 'Montserrat', 'Estonia', 'Monaco', 'Paraguay', 'Bahrain', 'Bolivia', 'Estonia', 'Saint Pierre and Miquelon', 'Canada', 'Georgia', 'Korea', 'Solomon Islands', 'Finland', 'Mozambique', 'Belize', 'Rwanda', 'Azerbaijan', 'Lebanon', 'Martinique', 'Dominican Republic', 'Aruba', 'South Africa', \"Cote d'Ivoire\", 'Egypt', 'Kazakhstan', 'Nauru', 'Dominican Republic', 'Eritrea', 'Jordan', 'Central African Republic', 'Uganda', 'Paraguay', 'Jordan', 'Pakistan', 'Burundi', 'South Georgia and the South Sandwich Islands', 'Norfolk Island', 'Norway', 'Panama', 'Central African Republic', 'Norfolk Island', 'Andorra', 'Trinidad and Tobago', 'Benin', 'Timor-Leste', 'Bahamas', \"Lao People's Democratic Republic\", 'Botswana', 'Moldova', 'Iran', 'Fiji', 'Romania', 'Israel', 'Togo', 'Peru', 'Moldova', 'Djibouti', 'Zimbabwe', 'Philippines', 'Thailand', 'Heard Island and McDonald Islands', 'Tajikistan', 'Qatar', 'Vanuatu', 'Uzbekistan', 'Saint Kitts and Nevis', 'Rwanda', 'Ireland', 'Honduras', 'Belize', 'Burundi', 'Dominican Republic', 'Switzerland', 'Timor-Leste', 'Bulgaria', 'Egypt', 'Yemen', 'Turkmenistan', 'French Polynesia', 'Suriname', 'Lesotho', 'Kiribati', 'Tuvalu', 'Bahamas', 'Mayotte', 'Austria', 'Cyprus', 'Holy See (Vatican City State)', 'Andorra', 'Christmas Island', 'South Africa', 'Albania', 'Israel', 'Madagascar', 'French Polynesia', 'Malawi', 'Kyrgyz Republic', 'Turkey', 'Mauritania', 'Hungary', 'Bolivia', 'Russian Federation', 'Croatia', 'Zimbabwe', 'Holy See (Vatican City State)', 'Bosnia and Herzegovina', 'Norfolk Island', 'Falkland Islands (Malvinas)', 'United States Virgin Islands', 'Tokelau', 'Equatorial Guinea', 'Mauritius', 'United Arab Emirates', 'Romania', 'Sierra Leone', 'Myanmar', 'Palestinian Territory', 'Sao Tome and Principe', 'Burundi', 'Philippines', 'Australia', 'Cuba', 'Nigeria', 'Macao', 'Hong Kong', 'Bouvet Island (Bouvetoya)', 'Sierra Leone', 'Maldives', 'Sao Tome and Principe', 'Turkmenistan', 'Niue', 'Australia', 'Uruguay', 'Norway', 'Iceland', 'Guyana', 'Ecuador', 'Croatia', 'Qatar', 'Niue', 'Central African Republic', 'India', 'Kiribati', 'Libyan Arab Jamahiriya', 'Tajikistan', 'Burkina Faso', 'Estonia', 'Ireland', 'Marshall Islands', 'Tanzania', 'Ghana', 'Cambodia', 'Slovakia (Slovak Republic)', 'Hungary', 'Saint Barthelemy', 'Martinique', 'Serbia', 'Zimbabwe', 'Cape Verde', 'Barbados', 'Iran', 'Ghana', 'French Guiana', 'Madagascar', 'Thailand', 'Indonesia', 'Georgia', 'United Arab Emirates', 'Zimbabwe', 'Mayotte', 'Panama', 'Benin', 'Albania', 'Swaziland', 'Saint Pierre and Miquelon', 'Costa Rica', 'Canada', 'Paraguay', 'Barbados', 'Western Sahara', 'Solomon Islands', 'Puerto Rico', 'United States Virgin Islands', 'Niger', 'Saint Martin', 'Tajikistan', 'Guernsey', 'Kenya', 'Guinea', 'Saint Martin', 'Bahamas', 'Albania', 'Bermuda', 'Burundi', 'Dominica', 'Ukraine', 'Guadeloupe', 'Saint Helena', 'Ethiopia', 'Austria', 'French Guiana', 'Germany', 'Saint Vincent and the Grenadines', 'Maldives', 'United States of America', 'Saint Vincent and the Grenadines', 'Mauritania', 'Mongolia', 'Pakistan', 'Grenada', 'Somalia', 'Gibraltar', 'Guinea-Bissau', \"Lao People's Democratic Republic\", 'Mauritius', 'Trinidad and Tobago', 'Cambodia', 'Saudi Arabia', 'Pakistan', 'United States of America', 'Guyana', 'Malta', 'San Marino', 'Oman', 'Greece', 'Pakistan', 'Aruba', 'Madagascar', 'Nauru', 'Senegal', 'Iran', 'Canada', 'Finland', 'Peru', 'Cocos (Keeling) Islands', 'Finland', 'Korea', 'Chile', 'Barbados', 'Barbados', 'Montserrat', 'Brazil', 'Bulgaria', 'Turkey', 'Finland', 'Saint Pierre and Miquelon', 'Antigua and Barbuda', 'Marshall Islands', 'Kiribati', 'Ukraine', 'Eritrea', 'Saint Lucia', 'Western Sahara', 'Kuwait', 'Albania', 'Portugal', 'Israel', 'Italy', 'Niue', 'Monaco', 'Canada', \"Lao People's Democratic Republic\", 'Lebanon', 'Bermuda', 'Antarctica (the territory South of 60 deg S)', 'Chile', 'Palau', 'United States Minor Outlying Islands', 'United States Minor Outlying Islands', 'Mozambique', 'Sao Tome and Principe', 'Bolivia', 'United Arab Emirates', 'Sudan', 'Bolivia', 'Luxembourg', 'Guyana', 'Costa Rica', 'Thailand', 'American Samoa', 'Cuba', 'Croatia', 'Kyrgyz Republic', 'Cocos (Keeling) Islands', 'San Marino', 'Bahamas', 'Djibouti', 'South Africa', 'Mexico', 'Russian Federation', 'Vanuatu', 'Bulgaria', 'Guadeloupe', 'Egypt', 'Christmas Island', 'French Guiana', 'Cayman Islands', 'Bosnia and Herzegovina', 'Austria', 'Samoa', 'Bhutan', 'Puerto Rico', 'Holy See (Vatican City State)', 'Azerbaijan', 'Ghana', 'Norfolk Island', 'Greece', 'Burundi', 'Turkey', 'Djibouti', 'Burundi', 'Panama', 'Fiji', 'Marshall Islands', 'Tanzania', 'Libyan Arab Jamahiriya', 'Namibia', 'Ethiopia', 'Tokelau', 'Ecuador', 'Eritrea', 'Turks and Caicos Islands', 'Switzerland', 'Sao Tome and Principe', 'Saint Lucia', 'Tajikistan', 'Liechtenstein', 'Finland', 'Cambodia', 'Japan', 'Taiwan', 'Turks and Caicos Islands', 'Iran', 'Grenada', 'Grenada', 'British Virgin Islands', 'Serbia', 'Singapore', 'Rwanda', 'Isle of Man', 'Montserrat', 'Chile', 'Cambodia', 'Heard Island and McDonald Islands', 'Holy See (Vatican City State)', 'Burundi', 'Kazakhstan', 'Barbados', 'Belarus', 'Uruguay', 'Yemen', 'Myanmar', 'Turks and Caicos Islands', 'Poland', 'Ireland', 'Nepal', 'Serbia', 'Afghanistan', 'Libyan Arab Jamahiriya', 'Ethiopia', 'Cameroon', 'Congo', 'Iran', 'Hungary', 'Norway', 'Malta', 'Isle of Man', 'Antarctica (the territory South of 60 deg S)', 'Maldives', 'British Virgin Islands', 'France', 'Belize', 'Seychelles', 'Yemen', 'Uganda', 'Benin', 'Guatemala', 'Norway', 'Guadeloupe', 'Saint Helena', 'Guatemala', 'Guadeloupe', 'Uruguay', 'Trinidad and Tobago', 'Congo', 'Saint Kitts and Nevis', 'Finland', 'Cocos (Keeling) Islands', 'Slovakia (Slovak Republic)', 'Belgium', 'Chad', 'Guatemala', 'Netherlands', 'Netherlands Antilles', 'Canada', 'Saint Vincent and the Grenadines', 'Zimbabwe', 'Bangladesh', 'Indonesia', 'Latvia', 'Western Sahara', 'Senegal', 'Zimbabwe', 'Cocos (Keeling) Islands', 'Austria', 'Gabon', 'Georgia', 'Turks and Caicos Islands', 'Egypt', 'New Caledonia', 'Guyana', 'Senegal', 'Marshall Islands', 'Tajikistan', 'Guam', \"Cote d'Ivoire\", 'Mozambique', 'Nepal', 'Mali', 'Mozambique', 'Papua New Guinea', 'Kyrgyz Republic', 'Bahamas', 'Kazakhstan', 'Uganda', 'Malaysia', 'Liberia', 'Saint Vincent and the Grenadines', 'Iraq', 'Spain', 'Hong Kong', 'Greenland', 'New Zealand', 'Comoros', 'Suriname', 'Romania', 'Svalbard & Jan Mayen Islands', 'Germany', 'Iran', 'Guinea-Bissau', 'Congo', 'Bahamas', 'Italy', 'El Salvador', 'Slovakia (Slovak Republic)', 'Switzerland', 'Kuwait', 'Guam', 'Portugal', 'Ecuador', 'Palestinian Territory', 'Suriname', 'Oman', 'Mayotte', 'Czech Republic', 'China', 'Faroe Islands', 'Bouvet Island (Bouvetoya)', 'New Caledonia', 'Kenya', 'Dominican Republic', 'Oman', 'Solomon Islands', 'Ecuador', 'San Marino', 'Moldova', 'Holy See (Vatican City State)', 'Anguilla', 'Oman', 'Bermuda', 'Antarctica (the territory South of 60 deg S)', 'Puerto Rico', 'Ecuador', 'Taiwan', 'Hungary', 'Mauritania', 'Cayman Islands', 'Bahamas', 'Brazil', 'Seychelles', 'French Southern Territories', 'Hong Kong', 'Norway', 'Antigua and Barbuda', 'Peru', 'Mali', 'Montenegro', 'South Africa', 'Panama', 'Paraguay', 'Senegal', 'Ireland', 'Romania', 'Cyprus', 'Kuwait', 'Cameroon', 'British Virgin Islands', 'Armenia', 'Iceland', 'Mauritius', 'Ethiopia', 'New Zealand', 'Lebanon', 'Ukraine', 'Western Sahara', 'Monaco', 'Western Sahara', 'Tokelau', 'Palau', 'Saint Pierre and Miquelon', 'Central African Republic', 'Guatemala', 'Sierra Leone', 'British Virgin Islands', 'Italy', 'Mexico', 'Bahrain', 'Netherlands Antilles', 'Paraguay', 'Nigeria', 'Papua New Guinea', 'Benin', 'American Samoa', 'Uzbekistan', 'Libyan Arab Jamahiriya', 'Gibraltar', 'Benin', 'Luxembourg', 'Chile', 'Lebanon', 'Cook Islands', 'Saint Helena', 'Somalia', 'Panama', 'Namibia', 'Zimbabwe', 'Gambia', 'Vanuatu', 'Saint Barthelemy', 'Saint Martin', 'Jamaica', 'Burundi', 'Falkland Islands (Malvinas)', 'Tonga', 'Botswana', 'Guatemala', 'Sao Tome and Principe', 'Iran', 'United Kingdom', 'Armenia', 'Turkey', 'India', 'Korea', 'Saint Martin', 'Spain', 'Belgium', 'Romania', 'Turkey', 'Tuvalu', 'Zambia', 'Croatia', 'Angola', 'Ghana', 'Saint Helena', 'Tuvalu', 'Monaco', 'Jersey', 'Fiji', 'Papua New Guinea', 'Saint Lucia', 'Denmark', 'Cape Verde', 'French Southern Territories', 'Armenia', 'Poland', 'Slovenia', 'Seychelles', 'Japan', 'Nigeria', 'Netherlands Antilles', 'India', 'Christmas Island', 'Namibia', 'Wallis and Futuna', 'Turkmenistan', 'Holy See (Vatican City State)', 'Uzbekistan', 'Gambia', 'Cambodia', 'Burundi', 'Guinea-Bissau', 'Somalia', 'Northern Mariana Islands', 'United Kingdom', 'Niger', 'Tanzania', 'Korea', 'Tokelau', 'Zimbabwe', 'Nauru', 'Thailand', 'Belarus', 'Sudan', 'Bouvet Island (Bouvetoya)', 'Korea', 'Kyrgyz Republic', 'Benin', 'United States Minor Outlying Islands', 'Iran', 'Moldova', 'Haiti', 'Benin', 'British Indian Ocean Territory (Chagos Archipelago)', 'Canada', 'Jersey', 'Syrian Arab Republic', 'Guernsey', 'Dominica', 'Timor-Leste', 'El Salvador', 'Romania', 'Tuvalu', 'Argentina', 'India', 'Saint Kitts and Nevis', 'Bhutan', 'Christmas Island', 'Ghana', 'New Zealand', 'Congo', 'Myanmar', 'Thailand', 'United States Minor Outlying Islands', 'Costa Rica', 'Vietnam', 'Korea', 'Italy', 'Puerto Rico', 'Andorra', 'Georgia', 'Madagascar', 'Niue', 'Libyan Arab Jamahiriya', 'Portugal', 'Liechtenstein', 'Uzbekistan', 'Belarus', 'Vietnam', 'Swaziland', 'Tuvalu', 'Bhutan', 'Ethiopia', 'Timor-Leste', 'British Virgin Islands', 'Pitcairn Islands', 'Rwanda', 'Guadeloupe', 'Czech Republic', 'Paraguay', \"Cote d'Ivoire\", 'Panama', 'French Polynesia', 'Georgia', 'Zambia', 'Holy See (Vatican City State)', 'Sudan', 'New Caledonia', 'Peru', 'Pakistan', 'Palau', 'Belarus', 'Paraguay', 'Gibraltar', 'Iran', 'Swaziland', 'Mali', 'Yemen', 'Cameroon', 'Bermuda', 'Faroe Islands', 'Martinique', 'Syrian Arab Republic', 'Paraguay', 'Romania', 'British Indian Ocean Territory (Chagos Archipelago)', 'Kazakhstan', 'Gibraltar', 'Lithuania', 'Canada', 'Egypt', 'Bangladesh', 'Cook Islands', 'Saint Martin', 'Timor-Leste', 'Iceland', 'Turkey', 'Indonesia', 'Tonga', 'Bahamas', 'Iceland', 'Guernsey', 'Austria', 'Luxembourg', 'Iceland', 'Pakistan', 'Venezuela', 'Mauritania', 'Colombia', 'French Southern Territories', 'United States Minor Outlying Islands', 'Bermuda', 'British Indian Ocean Territory (Chagos Archipelago)', 'Armenia', 'El Salvador', 'Latvia', 'Martinique', 'Austria', 'Lesotho', 'United Kingdom', 'Venezuela', 'Afghanistan', 'Kenya', 'Myanmar', 'Germany', 'Ukraine', 'Eritrea', 'Guinea', 'Greenland', 'Switzerland', 'Hong Kong', 'South Africa', 'Lebanon', 'Cape Verde', 'Armenia', 'Ecuador', 'Marshall Islands', 'Taiwan', 'Niue', 'Swaziland', 'Northern Mariana Islands', 'Afghanistan', 'Comoros', 'Guyana', 'Denmark', 'Bouvet Island (Bouvetoya)', 'Greece', 'Romania', 'Guatemala', 'Algeria', 'Montserrat', 'Greenland', 'Grenada', 'Cambodia', 'Kenya', 'Hong Kong', 'Yemen', 'South Africa', 'British Virgin Islands', 'Costa Rica', 'Jersey', 'Mauritania', 'Comoros', 'Guadeloupe', 'French Southern Territories', 'Hungary', 'Madagascar', 'North Macedonia', 'Guam', 'British Indian Ocean Territory (Chagos Archipelago)', 'North Macedonia', 'South Africa', 'Belgium', 'Tanzania', 'Kuwait', 'Cocos (Keeling) Islands', 'Mali', 'Cyprus', 'Pitcairn Islands', 'Switzerland', 'Albania', 'United States Virgin Islands', 'Vietnam', 'Antigua and Barbuda', 'Austria', 'Madagascar', 'Solomon Islands', 'Romania', 'Barbados', 'Eritrea', 'Marshall Islands', 'Haiti', 'France', 'Saint Lucia', 'Oman', 'Mali', 'Montenegro', 'Finland', 'Malaysia', 'Somalia', 'Trinidad and Tobago', 'Swaziland', 'South Georgia and the South Sandwich Islands', 'Saint Kitts and Nevis', 'Kenya', 'Cameroon', 'Iraq', 'Paraguay', 'Aruba', 'Guyana', 'Maldives', 'Barbados', 'Zambia', 'Ecuador', 'Montserrat', 'Guinea-Bissau', 'New Caledonia', 'Jersey', 'Reunion', 'Botswana', 'Singapore', 'Netherlands Antilles', 'Israel', 'Denmark', 'Turks and Caicos Islands', 'North Macedonia', 'Korea', 'Saint Vincent and the Grenadines', 'Guernsey', 'Northern Mariana Islands', 'United Arab Emirates', 'Malawi', 'Saint Vincent and the Grenadines', 'Trinidad and Tobago', 'Bermuda', 'Guernsey', 'Swaziland', 'Djibouti', 'Turkey', 'Martinique', 'Madagascar', 'Tunisia', 'Angola', 'El Salvador', 'Bolivia', 'Mauritius', 'Northern Mariana Islands', 'Afghanistan', 'Malta', 'Burkina Faso', 'Dominican Republic', 'Slovenia', 'Bhutan', 'Libyan Arab Jamahiriya', 'Cambodia', 'Solomon Islands', 'Colombia', 'Norway', 'Swaziland', 'Gabon', 'Slovakia (Slovak Republic)', 'Iran', 'Lithuania', 'Cayman Islands', 'Mauritius', 'Tonga', 'Vietnam', 'Azerbaijan', 'Congo', 'Greenland', 'Mexico', 'Bhutan', 'Barbados', 'United Arab Emirates', 'Tokelau', 'Montserrat', 'Namibia', 'Spain', 'Andorra', 'Azerbaijan', 'Taiwan', 'Pakistan', 'Taiwan', 'Saint Helena', 'Zimbabwe', 'Panama', 'Western Sahara', 'Albania', 'Australia', 'Dominican Republic', 'Slovakia (Slovak Republic)', 'British Virgin Islands', 'Mongolia', 'South Africa', 'Mozambique', 'Congo', 'Kiribati', 'Italy', 'Kazakhstan', 'Paraguay', 'Kenya', 'Latvia', 'Moldova', 'Iraq', 'United States of America', 'Palau', 'Norfolk Island', 'Wallis and Futuna', 'Nicaragua', 'Estonia', 'Macao', 'Ukraine', 'Bouvet Island (Bouvetoya)', 'Denmark', 'Kyrgyz Republic', 'Faroe Islands', 'United States of America', 'Turkmenistan', 'Nauru', 'Malta', 'Solomon Islands', 'Tanzania', 'Belgium', 'Guinea', 'Tonga', 'Paraguay', 'Mali', 'Czech Republic', 'San Marino', 'Heard Island and McDonald Islands', 'Hong Kong', 'Solomon Islands', 'Ghana', 'Kuwait', 'Korea', 'El Salvador', 'Palau', 'Uganda', 'Anguilla', 'Ghana', 'Montserrat', 'South Georgia and the South Sandwich Islands', 'Guatemala', 'Algeria', 'Niger', 'Holy See (Vatican City State)', 'Uzbekistan', 'Croatia', 'Slovakia (Slovak Republic)', 'Latvia', 'New Zealand', 'Switzerland', 'French Southern Territories', 'Latvia', 'Rwanda', 'Ireland', 'Paraguay', 'Gambia', 'Paraguay', 'Singapore', 'Northern Mariana Islands', 'Singapore', 'Hungary', 'Madagascar', 'Ecuador', 'Cayman Islands', 'Taiwan', 'Ethiopia', 'Gambia', 'Chad', 'Saint Martin', 'Tonga', 'Iraq', 'Turkey', 'United Arab Emirates', 'Palau', 'Gabon', 'Myanmar', 'Austria', 'New Caledonia', 'Yemen', 'Cocos (Keeling) Islands', 'Algeria', 'Niue', 'Pitcairn Islands', 'Liberia', 'Christmas Island', 'Burkina Faso', 'Korea', 'Kiribati', 'Vietnam', 'Mexico', 'Saint Lucia', 'Trinidad and Tobago', 'Burundi', 'Denmark', 'Brazil', 'Mauritania', 'Latvia', 'Tokelau', 'Nauru', 'Luxembourg', 'Tonga', 'Nepal', 'Cape Verde', 'Netherlands Antilles', 'French Southern Territories', 'India', 'Heard Island and McDonald Islands', 'Mexico', 'Chile', 'Hong Kong', 'Bouvet Island (Bouvetoya)', 'Syrian Arab Republic', 'Brazil', 'Eritrea', 'Georgia', 'Estonia', 'Singapore', 'United Kingdom', 'Hungary', 'Taiwan', 'Guernsey', 'Syrian Arab Republic', 'Guatemala', 'Sri Lanka', 'Montserrat', 'Mayotte', 'Saint Kitts and Nevis', 'Yemen', 'Iran', 'Mauritius', 'Iran', 'Swaziland', 'Fiji', 'Syrian Arab Republic', 'Palestinian Territory', 'Nauru', 'Saudi Arabia', 'Maldives', 'Sao Tome and Principe', 'Guernsey', 'Malta', 'Qatar', 'Gibraltar', 'Solomon Islands', 'Yemen', 'El Salvador', 'Saudi Arabia', \"Cote d'Ivoire\", 'Philippines', 'Uruguay', 'Korea', 'Swaziland', 'Belize', 'Iran', 'Egypt', 'Chad', 'Malaysia', 'Hungary', 'Jordan', 'Canada', 'Honduras', 'Mexico', 'Guam', 'American Samoa', 'Lithuania', 'Saint Kitts and Nevis', 'Zambia', 'Belize', 'Cuba', 'Rwanda', 'Guernsey', 'Slovenia', 'Saudi Arabia', 'Lithuania', 'Mauritius', 'Kuwait', 'Nepal', 'Netherlands Antilles', 'Samoa', 'Bahrain', 'Nauru', 'Congo', 'United States Virgin Islands', 'Netherlands Antilles', 'Kuwait', 'French Polynesia', 'Monaco', 'Anguilla', 'Mali', 'Chad', 'Korea', 'Netherlands', 'Eritrea', 'Bolivia', 'Rwanda', 'Bouvet Island (Bouvetoya)', 'New Caledonia', 'Kyrgyz Republic', 'Andorra', 'Sri Lanka', 'Estonia', \"Lao People's Democratic Republic\", 'Bahrain', 'French Polynesia', 'Vanuatu', 'French Guiana', 'Comoros', 'Korea', 'Benin', 'Malaysia', 'Sri Lanka', 'Saint Helena', 'Suriname', 'United States of America', 'Pitcairn Islands', 'Pakistan', 'Azerbaijan', 'Nicaragua', 'Nepal', 'Christmas Island', 'Saint Barthelemy', 'Spain', 'Iceland', 'Panama', 'Swaziland', 'Norway', 'North Macedonia', 'Bahrain', 'Sao Tome and Principe', 'Indonesia', 'French Guiana', 'Guyana', 'Bouvet Island (Bouvetoya)', 'Sweden', 'Ecuador', 'France', 'Wallis and Futuna', 'American Samoa', 'Tunisia', 'Sri Lanka', 'Czech Republic', 'Cape Verde', 'Guinea-Bissau', 'United Kingdom', 'Tuvalu', 'Equatorial Guinea', 'Holy See (Vatican City State)', 'Bermuda', 'Swaziland', 'Philippines', 'Congo', 'Mongolia', 'Antigua and Barbuda', 'British Virgin Islands', 'Saint Vincent and the Grenadines', 'Latvia', 'Gabon', 'Tajikistan', 'Sri Lanka', 'Kazakhstan', 'Bouvet Island (Bouvetoya)', 'Netherlands Antilles', \"Cote d'Ivoire\", 'Belgium', 'Palau', \"Cote d'Ivoire\", 'Wallis and Futuna', 'Sao Tome and Principe', 'Tokelau', 'Thailand', 'Denmark', 'India', 'Gambia', 'Timor-Leste', 'Malaysia', 'Saint Kitts and Nevis', 'Reunion', 'Bolivia', 'Mayotte', 'Mauritius', 'New Caledonia', 'Belgium', 'Reunion', 'Zimbabwe', 'Venezuela', 'Trinidad and Tobago', 'Chile', 'Bouvet Island (Bouvetoya)', 'Cuba', 'North Macedonia', 'Nigeria', 'Lebanon', 'Palau', 'Gambia', 'Liechtenstein', 'Saint Kitts and Nevis', 'Zimbabwe', 'Bolivia', 'Poland', 'Grenada', 'Grenada', 'Liechtenstein', 'Philippines', 'Bermuda', 'Belize', 'Isle of Man', 'Bahrain', 'Kiribati', 'Congo', 'Panama', 'Brazil', 'Cape Verde', 'United States of America', 'Colombia', 'Australia', 'Kyrgyz Republic', 'Montserrat', 'Jersey', 'Sweden', 'Liberia', 'New Zealand', 'Fiji', 'Ghana', 'Wallis and Futuna', 'North Macedonia', 'Cocos (Keeling) Islands', 'Iceland', 'Ecuador', 'Heard Island and McDonald Islands', 'Pitcairn Islands', 'Czech Republic', 'Benin', 'Czech Republic', 'Tajikistan', 'Slovakia (Slovak Republic)', 'Northern Mariana Islands', 'Gibraltar', 'Western Sahara', 'Cambodia', 'Samoa', 'Pitcairn Islands', 'Turkmenistan', 'Estonia', 'Sudan', 'Cook Islands', 'French Polynesia', 'Nepal', 'Heard Island and McDonald Islands', 'Sao Tome and Principe', 'Serbia', 'Equatorial Guinea', 'Guinea-Bissau', 'Vietnam', 'French Guiana', 'Niger', 'Northern Mariana Islands', 'Palau', 'Turkmenistan', 'Mali', 'Tajikistan', 'French Southern Territories', 'Chad', 'Denmark', 'Guinea', 'Bouvet Island (Bouvetoya)', 'Central African Republic', 'Barbados', 'Bulgaria', 'Macao', 'Mauritania', 'Sierra Leone', 'Belize', 'Saint Helena', 'Finland', 'Barbados', 'Cayman Islands', 'Bermuda', 'Mongolia', 'Grenada', 'Turks and Caicos Islands', 'Togo', 'Turkmenistan', 'Switzerland', 'Haiti', 'Maldives', 'Hungary', 'Liechtenstein', 'Iceland', 'Central African Republic', 'Guatemala', 'Anguilla', 'Mexico', 'Pitcairn Islands', 'Guinea', 'Denmark', 'Cook Islands', 'Serbia', 'French Guiana', 'Niger', 'Australia', 'Japan', 'Bhutan', 'Mayotte', 'Norfolk Island', 'Cayman Islands', 'Spain', 'French Southern Territories', 'Uganda', 'Greenland', 'Libyan Arab Jamahiriya', 'Netherlands', 'Germany', 'Slovenia', 'Guam', 'Bangladesh', 'Dominica', 'Trinidad and Tobago', 'Wallis and Futuna', 'Mayotte', 'Nicaragua', 'Dominica', 'Greenland', 'Malaysia', 'Belarus', 'Uzbekistan', 'India', 'Morocco', 'Venezuela', 'Germany', 'Guadeloupe', 'Ecuador', 'Morocco', 'Denmark', 'Ireland', 'Iceland', 'Bouvet Island (Bouvetoya)', 'Equatorial Guinea', 'Finland', 'South Georgia and the South Sandwich Islands', 'Aruba', 'Burundi', 'Mauritius', 'Somalia', 'Serbia', 'Ecuador', 'Jamaica', 'Sweden', 'Iceland', 'Mongolia', 'Sweden', 'Yemen', 'United States Virgin Islands', 'Costa Rica', 'Algeria', 'Canada', 'Trinidad and Tobago', 'Iceland', 'Guyana', 'Dominican Republic', 'Belarus', 'British Indian Ocean Territory (Chagos Archipelago)', 'Djibouti', 'Sierra Leone', 'Colombia', 'Cape Verde', 'Dominica', 'Guernsey', 'Saint Helena', 'Poland', 'Niger', 'Somalia', 'Saudi Arabia', 'El Salvador', 'Panama', 'Cyprus', 'Samoa', 'Dominica', 'Burundi', 'Greenland', 'Australia', 'Solomon Islands', 'Jersey', 'Bulgaria', 'Solomon Islands', 'Zimbabwe', 'Cocos (Keeling) Islands', 'Thailand', 'Kuwait', 'Guadeloupe', 'Honduras', 'Kyrgyz Republic', 'French Southern Territories', 'Jordan', 'Niue', 'Australia', 'Christmas Island', 'Bahamas', 'Eritrea', 'United States of America', 'United States Virgin Islands', 'Nauru', 'Niue', 'Western Sahara', 'Fiji', 'Israel', 'Thailand', 'Saint Helena', 'British Virgin Islands', 'Botswana', 'Portugal', 'Honduras', 'United States of America', 'Palau', 'Kiribati', 'Lebanon', 'Indonesia', 'Guadeloupe', 'Ghana', 'Algeria', 'Pitcairn Islands', 'United States Virgin Islands', 'Isle of Man', 'Israel', 'Sri Lanka', 'Latvia', 'Syrian Arab Republic', 'Czech Republic', 'China', 'Honduras', 'Palau', 'South Georgia and the South Sandwich Islands', 'Ghana', 'Dominican Republic', 'Zambia', 'Guernsey', 'Sudan', 'Sierra Leone', 'Estonia', 'Belgium', 'Montserrat', 'Liberia', 'British Indian Ocean Territory (Chagos Archipelago)', 'Saint Martin', 'Serbia', 'Bangladesh', 'Cayman Islands', 'Mongolia', 'India', 'Wallis and Futuna', 'Germany', 'Marshall Islands', 'Turkey', 'Senegal', 'Marshall Islands', 'New Caledonia', \"Cote d'Ivoire\", 'Korea', 'Qatar', 'Tuvalu', 'Saint Vincent and the Grenadines', 'Saint Martin', 'Tuvalu', 'New Zealand', 'Grenada', 'Luxembourg', 'Lithuania', 'Guinea-Bissau', 'Dominican Republic', 'Samoa', 'Australia', 'Ethiopia', 'Croatia', 'Samoa', 'Heard Island and McDonald Islands', 'Swaziland', 'Marshall Islands', 'Western Sahara', 'Romania', 'Martinique', 'Sri Lanka', 'Palestinian Territory', 'Reunion', 'Christmas Island', 'United States of America', 'Panama', 'Saint Vincent and the Grenadines', 'Swaziland', 'Bermuda', 'Saudi Arabia', 'Anguilla', 'Austria', 'Gambia', 'Burundi', 'Finland', 'Saint Martin', 'Armenia', 'Bulgaria', 'Korea', 'Saudi Arabia', 'Guatemala', 'Rwanda', 'Peru', 'Japan', 'Honduras', 'British Indian Ocean Territory (Chagos Archipelago)', 'Isle of Man', 'Latvia', 'Marshall Islands', 'Belgium', 'Swaziland', 'Turkmenistan', 'Australia', 'Malawi', 'Fiji', 'New Caledonia', 'Nicaragua', 'Jersey', 'Bhutan', 'Saint Helena', 'Czech Republic', 'Oman', 'Congo', 'Belize', 'Sao Tome and Principe', 'Turks and Caicos Islands', 'Congo', 'Bahamas', 'Cuba', 'Norfolk Island', 'Antarctica (the territory South of 60 deg S)', 'Benin', 'Eritrea', 'Western Sahara', 'Zimbabwe', 'Panama', 'Fiji', 'Somalia', 'Ghana', 'Mauritius', 'Australia', 'Czech Republic', 'Yemen', 'Kiribati', 'Bolivia', 'Costa Rica', 'French Guiana', 'Bahrain', 'Malawi', 'Swaziland', 'Netherlands', 'Guinea', 'Falkland Islands (Malvinas)', 'Comoros', 'Malaysia', 'American Samoa', 'South Georgia and the South Sandwich Islands', 'Denmark', 'Tunisia', 'Mongolia', 'Madagascar', 'Estonia', 'Montserrat', 'United States Virgin Islands', 'Zambia', 'Saint Helena', 'Niger', 'Netherlands', 'Belgium', 'China', 'Jordan', 'French Polynesia', 'Libyan Arab Jamahiriya', 'Svalbard & Jan Mayen Islands', 'Cook Islands', 'New Zealand', 'Cayman Islands', 'Cocos (Keeling) Islands', 'Belgium', 'Reunion', 'Kuwait', 'Saint Vincent and the Grenadines', 'Israel', 'Russian Federation', 'Libyan Arab Jamahiriya', 'Finland', 'Mauritania', 'Seychelles', 'Chad', 'Netherlands', 'Rwanda', 'Monaco', 'Tuvalu', 'Philippines', 'El Salvador', 'Georgia', 'Sierra Leone', 'Chad', 'Tunisia', 'Iran', 'Norway', 'Maldives', 'Bahamas', 'Faroe Islands', 'Faroe Islands', 'China', 'Guinea', 'Trinidad and Tobago', 'Holy See (Vatican City State)', 'Bosnia and Herzegovina', 'Angola', 'Philippines', 'Palau', 'Kenya', 'Moldova', 'Monaco', 'Botswana', 'Georgia', 'Czech Republic', 'Liechtenstein', 'Martinique', 'Chile', 'Eritrea', 'Holy See (Vatican City State)', 'Netherlands', 'Palau', 'Malawi', 'Jamaica', 'Mexico', 'Bahrain', 'Tanzania', 'Canada', 'Kiribati', 'Somalia', 'Hong Kong', 'Guatemala', 'Guatemala', 'Mozambique', 'Mali', 'New Caledonia', 'Saint Helena', 'Congo', 'Gibraltar', 'French Southern Territories', 'Croatia', 'Reunion', 'Serbia', 'Saudi Arabia', 'Cayman Islands', 'Netherlands Antilles', 'Timor-Leste', 'Falkland Islands (Malvinas)', 'United States of America', 'Romania', 'Kenya', 'Macao', 'Zambia', 'Niue', 'Hungary', 'Greenland', 'Kyrgyz Republic', 'Saudi Arabia', 'Saint Vincent and the Grenadines', 'Myanmar', 'Cocos (Keeling) Islands', 'Bahrain', 'Micronesia', 'United States Virgin Islands', 'Guadeloupe', 'Myanmar', 'Czech Republic', 'Jordan', 'Congo', 'Singapore', 'Madagascar', 'Mauritius', 'South Georgia and the South Sandwich Islands', 'Tunisia', 'Namibia', 'Uganda', 'Cyprus', 'Ethiopia', 'Somalia', 'Puerto Rico', 'Sudan', 'Nigeria', 'French Polynesia', 'Gabon', 'Chile', 'Jersey', 'Iran', 'Kenya', 'Jersey', 'Kiribati', 'Guinea', 'Bolivia', 'Aruba', 'British Indian Ocean Territory (Chagos Archipelago)', 'Congo', 'Iran', 'Grenada', 'Korea', 'Switzerland', 'Luxembourg', 'Guernsey', 'Bahamas', 'Somalia', 'Angola', 'Dominica', 'Ghana', 'Ukraine', 'Paraguay', 'Libyan Arab Jamahiriya', 'Christmas Island', 'Finland', 'Central African Republic', 'Wallis and Futuna', 'Cyprus', 'Mozambique', 'Micronesia', 'Bermuda', 'Falkland Islands (Malvinas)', 'Taiwan', 'United Kingdom', 'Austria', 'Reunion', 'Pitcairn Islands', 'Zimbabwe', 'Namibia', 'Cambodia', 'Cambodia', 'Australia', 'Guyana', 'Equatorial Guinea', 'Palestinian Territory', 'Tanzania', 'Djibouti', 'Libyan Arab Jamahiriya', 'Holy See (Vatican City State)', 'Iceland', 'Latvia', 'Italy', 'Lesotho', 'Fiji', 'Germany', 'Seychelles', 'Tajikistan', 'Australia', 'Cameroon', 'Iraq', \"Cote d'Ivoire\", 'Congo', 'Poland', 'Nepal', 'Turkey', 'Madagascar', 'France', 'Kiribati', 'Austria', 'Tajikistan', 'Libyan Arab Jamahiriya', 'Peru', 'Wallis and Futuna', 'Moldova', 'Antarctica (the territory South of 60 deg S)', 'Nauru', 'Bhutan', 'Comoros', 'Falkland Islands (Malvinas)', 'Cook Islands', 'Poland', 'Marshall Islands', 'Central African Republic', 'Ireland', 'Cocos (Keeling) Islands', 'Gabon', 'Mongolia', 'Afghanistan', 'Chad', 'Korea', 'Mexico', 'Guernsey', 'Faroe Islands', 'United States Minor Outlying Islands', 'Benin', 'Senegal', 'Armenia', 'Jamaica', 'Nauru', 'Venezuela', 'Wallis and Futuna', 'Lesotho', 'Germany', 'Portugal', 'Brazil', 'Armenia', 'Austria', 'United States of America', 'Iran', 'Tanzania', 'Liberia', 'Swaziland', 'Bhutan', 'Papua New Guinea', 'Christmas Island', 'Italy', 'Western Sahara', 'Poland', 'Martinique', 'Lithuania', 'Tajikistan', 'Antigua and Barbuda', 'Djibouti', 'Wallis and Futuna', 'Liechtenstein', 'Togo', 'Pitcairn Islands', 'Nepal', 'Morocco', 'Netherlands Antilles', 'French Polynesia', 'Guam', 'Bangladesh', 'Argentina', 'Tanzania', 'Monaco', 'Morocco', 'French Guiana', 'Afghanistan', 'Cyprus', 'Guinea', 'Solomon Islands', 'Palestinian Territory', 'Nepal', 'Mozambique', 'Saint Barthelemy', 'Saint Martin', 'Syrian Arab Republic', 'Guadeloupe', 'Kenya', \"Lao People's Democratic Republic\", 'Maldives', 'Saint Pierre and Miquelon', 'Morocco', 'Andorra', 'Saint Barthelemy', 'Belarus', 'Belize', 'Switzerland', 'Czech Republic', 'Slovenia', 'Montenegro', 'Jordan', 'Netherlands Antilles', 'Ireland', 'Israel', 'Liechtenstein', 'Costa Rica', 'Hong Kong', 'Gabon', 'French Polynesia', 'Slovakia (Slovak Republic)', 'Guinea', 'Nigeria', 'Bulgaria', 'Uzbekistan', 'Sri Lanka', 'Honduras', 'Uruguay', 'South Georgia and the South Sandwich Islands', 'Germany', 'Palestinian Territory', 'Czech Republic', 'Djibouti', 'Albania', 'Malaysia', 'Croatia', 'Heard Island and McDonald Islands', 'Denmark', 'Bangladesh', 'Germany', 'Switzerland', 'Belize', 'Azerbaijan', 'Comoros', 'United Kingdom', \"Cote d'Ivoire\", 'Turkey', 'Saint Lucia', 'Tuvalu', 'Syrian Arab Republic', 'Ukraine', 'South Africa', 'Central African Republic', 'Guatemala', 'Togo', 'Korea', 'Chile', 'Isle of Man', 'Vietnam', 'Switzerland', 'Georgia', 'Holy See (Vatican City State)', 'Croatia', 'British Indian Ocean Territory (Chagos Archipelago)', 'Marshall Islands', 'Brazil', 'Ethiopia', 'Philippines', 'Lebanon', 'Fiji', 'Nauru', 'Turks and Caicos Islands', 'Uzbekistan', \"Lao People's Democratic Republic\", 'French Polynesia', 'Jordan', 'Denmark', 'Bosnia and Herzegovina', 'Samoa', 'Papua New Guinea', 'French Southern Territories', 'Falkland Islands (Malvinas)', 'Portugal', 'Tonga', 'Hungary', 'Ethiopia', 'Myanmar', 'Maldives', 'Libyan Arab Jamahiriya', 'New Caledonia', 'Guyana', 'Gabon', 'Kyrgyz Republic', 'Qatar', 'Tunisia', 'Madagascar', 'Trinidad and Tobago', 'Saudi Arabia', 'Georgia', 'Nigeria', 'Botswana', 'Switzerland', 'Guyana', 'Brunei Darussalam', 'Estonia', 'Congo', 'Norway', 'Venezuela', 'Lithuania', 'Qatar', 'Mozambique', 'Indonesia', 'Paraguay', 'Mozambique', 'Angola', 'Samoa', 'Nepal', 'Heard Island and McDonald Islands', 'Falkland Islands (Malvinas)', 'Saint Barthelemy', 'Russian Federation', 'Mongolia', 'Equatorial Guinea', 'Gambia', 'Kyrgyz Republic', 'United States of America', 'Palestinian Territory', 'Croatia', 'Romania', 'Guinea-Bissau', 'Mauritania', 'Ghana', 'Portugal', 'Iran', 'Algeria', 'Pakistan', 'Central African Republic', 'Mauritania', 'Senegal', 'British Virgin Islands', 'Brunei Darussalam', 'United States Virgin Islands', 'Madagascar', 'Fiji', 'Australia', 'Andorra', 'Bahrain', 'Armenia', 'Tajikistan', 'Seychelles', 'Samoa', 'Botswana', 'Equatorial Guinea', 'Central African Republic', 'Qatar', 'Lithuania', 'Somalia', 'Lebanon', 'Singapore', 'San Marino', 'Sudan', \"Cote d'Ivoire\", 'Liberia', 'Oman', 'Cook Islands', 'Honduras', 'Niger', 'Liechtenstein', 'Central African Republic', 'Nauru', 'Micronesia', 'Bouvet Island (Bouvetoya)', 'United States of America', 'Macao', 'Kyrgyz Republic', 'Hong Kong', 'Azerbaijan', 'Norfolk Island', 'El Salvador', 'Holy See (Vatican City State)', 'India', 'Zimbabwe', 'Guadeloupe', 'Timor-Leste', 'Gibraltar', \"Lao People's Democratic Republic\", 'Bosnia and Herzegovina', 'Greece', 'Congo', 'Bahrain', 'Jordan', 'Anguilla', 'Honduras', 'Tunisia', 'Kiribati', 'Spain', 'Greenland', 'Cuba', 'Dominican Republic', 'Korea', 'Timor-Leste', 'Morocco', 'French Guiana', 'Angola', 'United States Virgin Islands', 'Samoa', 'Algeria', 'Greenland', 'Lithuania', 'Macao', 'Cocos (Keeling) Islands', 'Mayotte', 'Thailand', 'Cocos (Keeling) Islands', 'Mexico', 'Canada', 'Moldova', 'Tuvalu', 'Romania', 'Cayman Islands', 'Italy', 'Guadeloupe', 'Tajikistan', 'Sri Lanka', 'Italy', 'Ecuador', 'Costa Rica', 'British Indian Ocean Territory (Chagos Archipelago)', 'Tunisia', 'Maldives', 'Tonga', 'Malawi', 'Congo', 'Greece', 'Holy See (Vatican City State)', 'Niger', 'Benin', 'Sao Tome and Principe', 'Panama', 'Gibraltar', 'Antigua and Barbuda', 'Luxembourg', 'Latvia', 'Trinidad and Tobago', 'Morocco', 'Iraq', 'Guernsey', 'French Southern Territories', 'Latvia', 'Kiribati', 'Marshall Islands', 'India', 'French Guiana', 'United States Minor Outlying Islands', 'Cambodia', 'Kazakhstan', 'Sao Tome and Principe', 'Vanuatu', 'Switzerland', 'Kenya', 'Dominican Republic', 'Cuba', 'Niger', 'Bhutan', 'Niue', 'Libyan Arab Jamahiriya', 'Martinique', 'Ireland', 'Albania', 'Palau', 'Norfolk Island', 'Guyana', 'Uganda', 'Heard Island and McDonald Islands', 'Burundi', 'Dominican Republic', 'Chile', 'Burundi', 'Uruguay', 'Netherlands', 'Slovenia', 'Gabon', 'Iceland', 'Fiji', 'Ghana', 'Anguilla', 'Bangladesh', 'Nauru', 'Congo', 'Gambia', 'Honduras', 'Costa Rica', 'United States Virgin Islands', 'Guernsey', 'Taiwan', 'Cook Islands', 'Solomon Islands', 'Finland', 'Burundi', 'Bosnia and Herzegovina', 'Papua New Guinea', 'Dominica', 'Switzerland', 'Reunion', 'Serbia', 'Haiti', 'Greece', 'Malta', 'Mauritius', 'Somalia', \"Lao People's Democratic Republic\", 'Pakistan', 'Somalia', 'Korea', 'Bulgaria', 'Tokelau', 'Niue', 'Portugal', 'Niue', 'Poland', 'Iran', 'Congo', 'El Salvador', 'Marshall Islands', 'Nauru', 'Azerbaijan', 'Sri Lanka', 'Lithuania', 'Cocos (Keeling) Islands', 'Czech Republic', 'Guinea', 'Uzbekistan', 'United States Virgin Islands', 'Oman', 'Russian Federation', 'Bermuda', 'Angola', 'Pakistan', 'Comoros', 'Solomon Islands', 'Holy See (Vatican City State)', 'Djibouti', 'Mozambique', 'Saint Lucia', 'Thailand', 'Grenada', 'Jersey', 'Barbados', 'Palau', 'Spain', 'Libyan Arab Jamahiriya', 'French Guiana', 'Saint Barthelemy', 'Estonia', 'Ethiopia', 'Moldova', 'Ecuador', 'Timor-Leste', 'Andorra', 'New Caledonia', 'Pakistan', 'Tonga', 'Tokelau', 'Guyana', 'Micronesia', 'Palau', 'Aruba', 'Yemen', 'Cape Verde', 'Chile', 'American Samoa', 'Congo', 'Paraguay', 'Belgium', 'Djibouti', 'Czech Republic', 'Cyprus', 'Ireland', 'Egypt', 'Georgia', 'Ecuador', 'Saint Kitts and Nevis', 'Venezuela', 'Egypt', 'Timor-Leste', 'Croatia', 'Bermuda', 'Benin', 'Antarctica (the territory South of 60 deg S)', 'Spain', 'Falkland Islands (Malvinas)', 'Germany', 'Holy See (Vatican City State)', 'Azerbaijan', 'Tajikistan', 'Seychelles', 'Mauritania', 'Saint Barthelemy', 'Somalia', 'Poland', 'Morocco', 'Monaco', 'Bahamas', 'Netherlands Antilles', 'Nepal', 'Mali', 'Antigua and Barbuda', 'Jamaica', 'Malta', 'Saint Kitts and Nevis', 'Rwanda', 'Guinea', 'Philippines', 'Angola', 'Finland', 'Guatemala', 'Kenya', 'Denmark', 'Venezuela', 'Brunei Darussalam', 'Sweden', 'Mozambique', 'Niger', 'Tonga', 'Bahamas', 'Palau', 'Falkland Islands (Malvinas)', 'Thailand', 'Kyrgyz Republic', 'Hong Kong', 'Slovenia', 'Samoa', 'Portugal', 'Cayman Islands', 'Jordan', 'Antarctica (the territory South of 60 deg S)', 'Venezuela', 'Gabon', 'Bahrain', 'Palestinian Territory', 'Grenada', 'Micronesia', 'United Kingdom', 'Barbados', 'Monaco', 'Falkland Islands (Malvinas)', 'Guatemala', 'Saint Barthelemy', 'Saint Barthelemy', 'Angola', 'Tanzania', 'Belgium', 'Netherlands', 'Austria', 'Azerbaijan', 'Somalia', 'Iran', 'Israel', 'Cook Islands', 'Eritrea', 'Ukraine', 'Marshall Islands', 'Solomon Islands', 'India', 'India', 'Romania', 'Falkland Islands (Malvinas)', 'Uzbekistan', 'Belgium', 'Tonga', 'Mauritius', 'United Arab Emirates', 'Serbia', 'Iceland', 'Belgium', 'Armenia', 'Grenada', 'Gabon', 'Denmark', 'Australia', 'Monaco', 'Gibraltar', 'Japan', 'Ecuador', 'Indonesia', 'Afghanistan', 'Congo', 'Qatar', 'Northern Mariana Islands', 'Guadeloupe', 'Azerbaijan', 'Palestinian Territory', 'Guinea-Bissau', 'Denmark', 'Norfolk Island', 'Philippines', 'Morocco', 'Liechtenstein', 'Croatia', 'Botswana', 'Azerbaijan', 'Norfolk Island', 'Netherlands Antilles', 'Faroe Islands', 'China', 'Liechtenstein', 'Papua New Guinea', 'Ukraine', 'Liberia', 'Northern Mariana Islands', 'Mozambique', 'Bahrain', 'United States of America', 'North Macedonia', 'Pitcairn Islands', 'Micronesia', 'Northern Mariana Islands', 'Trinidad and Tobago', 'Guam', 'Saint Martin', 'Guatemala', 'Sudan', 'Indonesia', 'Tajikistan', 'Palau', 'Indonesia', 'Cape Verde', 'Cook Islands', 'Nigeria', 'Samoa', 'Bolivia', 'Albania', 'Romania', 'Spain', 'Bahrain', 'Luxembourg', 'Paraguay', 'United Kingdom', 'Botswana', 'San Marino', 'Turkey', 'Indonesia', 'Cameroon', 'Ecuador', 'Jordan', 'Taiwan', 'Somalia', 'Samoa', 'United States of America', 'Cocos (Keeling) Islands', 'North Macedonia', 'Serbia', 'New Caledonia', 'Saint Lucia', 'Marshall Islands', 'Turkmenistan', 'Congo', 'Iceland', 'Norfolk Island', 'Greenland', 'Dominica', 'Malawi', 'Mauritania', 'Denmark', 'Panama', 'Oman', 'Monaco', 'Puerto Rico', 'Albania', 'Congo', 'Greece', 'Sao Tome and Principe', 'Mauritius', 'Norfolk Island', 'Guernsey', 'Germany', 'Lesotho', 'Greece', 'Niger', 'Korea', 'Montserrat', 'Bermuda', 'Sri Lanka', 'Faroe Islands', 'Marshall Islands', 'Malaysia', 'Ukraine', 'Belarus', 'Croatia', 'Hungary', 'Equatorial Guinea', 'Kiribati', 'Cocos (Keeling) Islands', 'Hong Kong', 'Djibouti', \"Cote d'Ivoire\", 'Seychelles', 'San Marino', 'Gibraltar', 'Rwanda', 'Denmark', 'Kazakhstan', 'Egypt', 'Ecuador', 'Turks and Caicos Islands', 'Niue', 'Qatar', 'El Salvador', 'Kenya', \"Lao People's Democratic Republic\", 'Kuwait', 'Singapore', 'Cape Verde', 'Thailand', 'Guyana', 'Algeria', 'Palau', 'Maldives', 'Pakistan', 'Libyan Arab Jamahiriya', 'Micronesia', 'Saint Martin', 'Qatar', 'French Southern Territories', 'Mozambique', 'Moldova', 'El Salvador', 'Paraguay', 'Botswana', 'Jordan', 'Reunion', 'Egypt', 'Aruba', 'Bahrain', 'Sweden', 'Egypt', 'Australia', 'Guernsey', 'Bulgaria', 'Haiti', 'Cocos (Keeling) Islands', 'Korea', 'Angola', 'Svalbard & Jan Mayen Islands', 'Cambodia', 'Greece', 'Malawi', 'Slovakia (Slovak Republic)', 'Vietnam', 'Jamaica', 'Libyan Arab Jamahiriya', 'Malta', 'Nigeria', 'United States Virgin Islands', 'Switzerland', 'Congo', 'Burkina Faso', 'Saint Vincent and the Grenadines', 'Sao Tome and Principe', 'Switzerland', 'Lithuania', 'Kazakhstan', 'Canada', 'Guinea', 'Guadeloupe', 'Morocco', 'Svalbard & Jan Mayen Islands', 'Suriname', 'French Polynesia', 'Ghana', 'Vanuatu', 'American Samoa', 'French Guiana', 'Mayotte', 'India', 'Dominican Republic', 'Denmark', 'Poland', 'Guernsey', 'Western Sahara', 'Mali', 'Sudan', 'India', 'Sudan', 'Qatar', 'Singapore', 'Moldova', 'Anguilla', 'Martinique', 'Maldives', 'Eritrea', 'Bouvet Island (Bouvetoya)', 'Lebanon', 'Sao Tome and Principe', 'New Caledonia', 'Cambodia', 'Albania', 'Angola', 'Norfolk Island', 'Brunei Darussalam', 'Macao', 'Macao', 'Malta', 'United States Minor Outlying Islands', 'Poland', 'Bahamas', 'Eritrea', 'Tajikistan', 'Wallis and Futuna', 'Swaziland', 'Zambia', 'Luxembourg', 'Eritrea', 'Mayotte', 'Ireland', 'Barbados', 'Nepal', 'Iraq', 'Cuba', 'Peru', 'Congo', 'Georgia', 'Slovakia (Slovak Republic)', 'Spain', 'Pakistan', 'Iran', 'Canada', 'Eritrea', 'Gambia', 'Albania', 'San Marino', 'Cape Verde', 'Guatemala', 'Philippines', 'Falkland Islands (Malvinas)', 'Saint Vincent and the Grenadines', 'British Indian Ocean Territory (Chagos Archipelago)', 'Montenegro', 'Lesotho', 'Gibraltar', 'Antarctica (the territory South of 60 deg S)', 'Guatemala', 'Hong Kong', 'Maldives', 'China', 'Israel', 'Netherlands Antilles', 'Guyana', 'Peru', 'United States of America', 'Korea', 'Gabon', 'Cayman Islands', 'Malta', 'Yemen', 'Croatia', 'Netherlands Antilles', 'Aruba', \"Cote d'Ivoire\", 'Lesotho', 'Somalia', 'Honduras', 'Norway', 'Colombia', 'Holy See (Vatican City State)', 'Iraq', 'Chad', 'Nigeria', 'Poland', 'Rwanda', 'Dominican Republic', 'Congo', 'Congo', 'Belarus', 'Antigua and Barbuda', 'Fiji', 'Botswana', 'Congo', 'Guatemala', 'United Kingdom', 'Falkland Islands (Malvinas)', 'Solomon Islands', 'El Salvador', 'Norway', 'Ecuador', 'Anguilla', 'Marshall Islands', \"Cote d'Ivoire\", 'Greece', 'Norfolk Island', 'Turkmenistan', 'France', 'Zimbabwe', 'Morocco', 'Costa Rica', 'Pakistan', 'Monaco', 'Estonia', 'Niue', 'Burundi', 'Armenia', 'Palau', 'Nigeria', 'Bermuda', 'Cuba', 'Bhutan', 'Sri Lanka', 'Liberia', 'Tajikistan', 'Anguilla', 'Netherlands Antilles', 'Malta', 'Saint Vincent and the Grenadines', 'Venezuela', 'Venezuela', 'Sudan', 'Mexico', 'Spain', 'Tanzania', 'Pitcairn Islands', 'Qatar', 'Falkland Islands (Malvinas)', 'Barbados', 'Armenia', 'Saint Kitts and Nevis', 'Iraq', 'Rwanda', 'Armenia', 'Montenegro', 'Cameroon', 'Lesotho', 'Saint Vincent and the Grenadines', 'Jamaica', 'Liechtenstein', 'Italy', 'Angola', 'Turks and Caicos Islands', 'Martinique', 'Sierra Leone', 'Estonia', 'Myanmar', 'Guyana', 'Congo', 'Netherlands Antilles', 'Mongolia', 'Antigua and Barbuda', 'Monaco', 'Costa Rica', 'Palestinian Territory', 'Mauritius', 'Swaziland', 'Venezuela', 'India', 'Serbia', 'Colombia', 'Congo', 'French Southern Territories', 'Cameroon', 'San Marino', 'Liberia', 'Seychelles', 'Macao', 'Haiti', 'Honduras', 'Marshall Islands', 'Oman', 'Belgium', 'Singapore', 'Seychelles', 'Mozambique', 'Spain', 'Germany', 'Gabon', 'Suriname', 'Iran', 'Mayotte', 'Peru', 'Chad', 'Lithuania', 'Bahrain', \"Lao People's Democratic Republic\", 'Dominica', 'Philippines', 'Costa Rica', 'Mauritania', 'South Georgia and the South Sandwich Islands', 'Argentina', \"Lao People's Democratic Republic\", 'Hungary', 'Turkmenistan', 'Rwanda', 'Korea', 'Ghana', 'Uruguay', 'Somalia', 'Venezuela', 'Palau', 'Zambia', 'Brazil', 'Romania', 'New Zealand', 'Nepal', 'Oman', 'French Guiana', 'Puerto Rico', 'Argentina', 'Algeria', 'Ireland', 'Guyana', 'Mongolia', 'French Guiana', 'Ireland', 'Australia', 'Heard Island and McDonald Islands', 'Lebanon', 'Vanuatu', 'Andorra', 'Guinea', 'Bahrain', 'Faroe Islands', 'Libyan Arab Jamahiriya', 'Kiribati', 'Croatia', 'American Samoa', 'San Marino', 'Puerto Rico', 'Peru', 'Spain', 'Burkina Faso', 'Ethiopia', 'Peru', 'Sierra Leone', 'Central African Republic', 'San Marino', 'Solomon Islands', 'Cocos (Keeling) Islands', 'Slovenia', 'Martinique', 'Kyrgyz Republic', 'Nicaragua', 'Seychelles', 'Ukraine', 'Tanzania', 'Seychelles', 'Uruguay', 'Gambia', 'Lesotho', 'Israel', 'Mauritania', 'Denmark', 'Thailand', 'Indonesia', 'Slovenia', 'Suriname', 'Bangladesh', 'Philippines', 'Germany', 'Austria', 'Grenada', 'Kuwait', 'Western Sahara', 'Senegal', 'Jordan', 'Bolivia', 'Canada', 'Equatorial Guinea', 'United States of America', 'Monaco', 'Iran', 'Switzerland', 'Sudan', 'Mayotte', 'Saint Pierre and Miquelon', \"Lao People's Democratic Republic\", 'Belarus', 'Nicaragua', 'Madagascar', 'Poland', 'Latvia', 'Isle of Man', 'Lithuania', 'French Guiana', 'Costa Rica', 'Tajikistan', 'Vietnam', 'Western Sahara', 'Netherlands Antilles', 'Botswana', 'United States of America', 'Eritrea', 'Haiti', 'Cape Verde', 'Svalbard & Jan Mayen Islands', 'Lithuania', 'Kiribati', \"Cote d'Ivoire\", 'French Polynesia', 'Sri Lanka', 'Norway', 'Samoa', 'China', 'Panama', 'Bahrain', 'Nigeria', 'Tunisia', 'Jamaica', 'Wallis and Futuna', 'Netherlands Antilles', 'Saint Pierre and Miquelon', 'Saint Lucia', 'Sierra Leone', 'British Indian Ocean Territory (Chagos Archipelago)', 'Colombia', 'Belize', 'United Kingdom', 'British Indian Ocean Territory (Chagos Archipelago)', 'Svalbard & Jan Mayen Islands', 'Montenegro', 'Eritrea', 'Zambia', 'Guinea-Bissau', 'American Samoa', 'Bolivia', 'Afghanistan', 'Guyana', 'Lithuania', 'Togo', \"Cote d'Ivoire\", 'Falkland Islands (Malvinas)', 'Malaysia', 'Cambodia', 'Lebanon', 'Fiji', 'Saint Pierre and Miquelon', 'Hungary', 'Guatemala', 'Estonia', 'Gibraltar', 'Singapore', 'Monaco', 'American Samoa', 'Portugal', 'Guinea-Bissau', 'Switzerland', 'Korea', 'Tuvalu', 'Faroe Islands', 'Greenland', 'Saint Lucia', 'Uruguay', 'British Virgin Islands', 'Montenegro', 'Liberia', 'Russian Federation', 'Gibraltar', 'Antigua and Barbuda', 'French Southern Territories', 'British Indian Ocean Territory (Chagos Archipelago)', 'South Africa', 'Montserrat', 'Bouvet Island (Bouvetoya)', 'Aruba', 'Norway', 'Isle of Man', 'Reunion', 'Kyrgyz Republic', 'Germany', 'North Macedonia', 'Dominica', 'Lesotho', 'British Virgin Islands', 'Northern Mariana Islands', 'Seychelles', 'Guadeloupe', 'Bhutan', 'Bhutan', 'Pitcairn Islands', 'Chile', 'Vietnam', 'Korea', 'American Samoa', 'Uruguay', 'Korea', 'Philippines', 'Turkey', 'Belgium', 'Hong Kong', 'Timor-Leste', 'Panama', 'Madagascar', 'Togo', 'Moldova', 'Guam', 'North Macedonia', 'Palau', 'Dominican Republic', 'Japan', 'Honduras', 'Sweden', 'Malawi', 'Uzbekistan', 'Micronesia', 'Nauru', 'Haiti', 'American Samoa', 'Brunei Darussalam', 'Mozambique', 'Egypt', 'Saint Pierre and Miquelon', 'Costa Rica', 'Antarctica (the territory South of 60 deg S)', 'Madagascar', 'Lesotho', 'Chad', 'Antigua and Barbuda', 'Solomon Islands', 'Qatar', 'Aruba', 'Morocco', 'French Guiana', 'Liechtenstein', 'Zambia', 'Uruguay', 'Georgia', 'Denmark', 'Kazakhstan', 'Burundi', 'Brazil', 'Trinidad and Tobago', 'Suriname', 'Puerto Rico', 'Bangladesh', 'Luxembourg', 'Montserrat', 'Kuwait', 'Somalia', 'Croatia', 'United Arab Emirates', 'Kyrgyz Republic', 'Madagascar', 'Botswana', 'Montserrat', 'Guam', 'Portugal', 'Aruba', 'Palau', 'Maldives', 'Senegal', 'Lithuania', 'Vietnam', 'France', 'Palau', 'Saint Lucia', 'Guinea-Bissau', 'Georgia', 'Malta', 'Tokelau', 'Timor-Leste', 'Kiribati', 'Singapore', 'Vanuatu', 'Ethiopia', 'Cape Verde', 'Belarus', 'Costa Rica', 'New Zealand', 'Venezuela', 'Tunisia', 'Gabon', 'Samoa', 'Luxembourg', 'Kyrgyz Republic', 'Brunei Darussalam', 'Andorra', 'Tajikistan', 'Saudi Arabia', 'Guernsey', 'Sierra Leone', 'Togo', 'Finland', 'French Guiana', 'Anguilla', 'Suriname', 'Saint Helena', 'Singapore', 'Armenia', \"Lao People's Democratic Republic\", 'Jersey', 'Falkland Islands (Malvinas)', 'Japan', 'Haiti', 'Egypt', 'Norway', 'Fiji', 'Algeria', 'Mayotte', 'Congo', 'Congo', 'Gibraltar', 'United Arab Emirates', 'Costa Rica', 'Jamaica', 'Aruba', 'Denmark', 'Cape Verde', 'Azerbaijan', 'Chile', 'Antigua and Barbuda', 'Reunion', 'Saint Lucia', 'Norfolk Island', 'Falkland Islands (Malvinas)', 'Malta', 'Bosnia and Herzegovina', 'Sao Tome and Principe', 'Mexico', 'Guernsey', 'Gambia', 'Moldova', 'Poland', 'Faroe Islands', 'Albania', 'Israel', 'Niger', 'Eritrea', 'Mali', 'Uruguay', 'Bahrain', 'Burundi', 'French Southern Territories', 'Monaco', 'Singapore', 'Kiribati', 'Afghanistan', 'Senegal', 'Jordan', 'Bulgaria', 'Niue', 'Spain', 'Bolivia', 'Saint Pierre and Miquelon', 'Pitcairn Islands', 'Congo', 'Colombia', \"Cote d'Ivoire\", 'Azerbaijan', 'United Arab Emirates', 'Papua New Guinea', 'Central African Republic', 'Switzerland', 'Uganda', 'British Virgin Islands', 'Gabon', 'Kyrgyz Republic', 'United States of America', 'Slovenia', 'Cambodia', 'Ukraine', 'Korea', 'Sao Tome and Principe', 'Guinea-Bissau', 'Niue', 'Monaco', 'Denmark', 'Vanuatu', 'Saudi Arabia', 'Northern Mariana Islands', 'Finland', 'Niger', 'Suriname', 'Jersey', 'Malaysia', 'Lebanon', 'Slovakia (Slovak Republic)', 'Western Sahara', 'Christmas Island', 'Guinea', 'Iceland', 'Sri Lanka', 'Greece', 'Azerbaijan', 'Haiti', 'Mexico', 'Nigeria', 'Monaco', 'Fiji', 'Montserrat', 'United States of America', 'Paraguay', 'South Georgia and the South Sandwich Islands', 'Iceland', 'Norway', 'Iraq', 'Gibraltar', 'Kyrgyz Republic', 'Western Sahara', 'Equatorial Guinea', 'Wallis and Futuna', 'Uganda', 'Sierra Leone', 'Uzbekistan', 'Dominican Republic', 'Cameroon', 'Ireland', 'Vanuatu', 'Martinique', 'Turks and Caicos Islands', 'Ireland', 'Bangladesh', 'China', 'Australia', 'Kenya', 'Qatar', 'Lesotho', 'Uganda', 'Svalbard & Jan Mayen Islands', 'Malawi', 'Reunion', 'Iceland', 'Italy', 'Cook Islands', 'San Marino', 'Moldova', 'Cocos (Keeling) Islands', 'Cape Verde', 'Iran', 'Barbados', 'United States Minor Outlying Islands', 'Libyan Arab Jamahiriya', 'Sweden', 'Dominican Republic', 'Korea', 'Chad', 'Tunisia', 'Australia', 'Mongolia', 'American Samoa', 'Mongolia', 'Thailand', 'Aruba', 'Djibouti', 'Sierra Leone', 'Zambia', 'Papua New Guinea', 'Reunion', 'Montenegro', 'Luxembourg', 'Sierra Leone', 'Saint Pierre and Miquelon', 'Lithuania', 'Sri Lanka', 'Swaziland', 'Albania', 'Niger', 'Namibia', 'Poland', 'Indonesia', 'Jersey', 'Germany', 'Congo', 'Afghanistan', 'Moldova', 'French Guiana', 'Yemen', 'Holy See (Vatican City State)', 'Guinea', 'Azerbaijan', 'Poland', 'Russian Federation', 'South Africa', 'Haiti', 'Anguilla', 'Chad', 'France', 'Mexico', 'Samoa', 'Sudan', 'Kiribati', 'Serbia', 'United Kingdom', 'Eritrea', 'Isle of Man', 'South Georgia and the South Sandwich Islands', 'Palau', 'Chad', 'Congo', 'Turks and Caicos Islands', 'Zambia', 'Saint Helena', 'Bahrain', 'Norfolk Island', 'Wallis and Futuna', \"Lao People's Democratic Republic\", 'Antarctica (the territory South of 60 deg S)', 'Netherlands', 'France', 'Saint Kitts and Nevis', 'Liechtenstein', 'Antarctica (the territory South of 60 deg S)', 'Turkey', 'Equatorial Guinea', 'Gambia', 'Malawi', 'El Salvador', 'Oman', 'Vanuatu', 'Bosnia and Herzegovina', 'Turkey', 'Tokelau', 'Bulgaria', 'American Samoa', 'Bouvet Island (Bouvetoya)', 'Poland', 'Congo', 'Cyprus', 'British Indian Ocean Territory (Chagos Archipelago)', 'Turkmenistan', 'Switzerland', 'Kazakhstan', 'Lebanon', 'Montserrat', 'Haiti', 'Uzbekistan', 'Serbia', 'Guinea-Bissau', 'Swaziland', 'Uzbekistan', 'Aruba', 'Belize', 'Liechtenstein', 'United Arab Emirates', 'Norfolk Island', 'Congo', 'North Macedonia', 'Iran', 'Guadeloupe', 'Uruguay', 'Trinidad and Tobago', 'Gambia', 'France', 'Qatar', 'Dominican Republic', 'Guinea', 'Liberia', 'Macao', 'Guatemala', 'Swaziland', 'South Africa', 'Nepal', 'Romania', 'Palau', 'Benin', 'Monaco', 'Malawi', 'Spain', 'Mauritius', 'Ecuador', 'Belgium', 'Cayman Islands', 'Martinique', 'Cambodia', 'Paraguay', 'Burundi', 'Sierra Leone', 'Iran', 'Turkmenistan', 'Pitcairn Islands', 'Svalbard & Jan Mayen Islands', 'Lesotho', 'Norfolk Island', 'Nepal', 'Malawi', 'Sudan', 'Israel', 'Estonia', 'Solomon Islands', 'Nauru', 'Eritrea', 'Heard Island and McDonald Islands', 'Tunisia', 'Suriname', 'Saint Pierre and Miquelon', 'Zambia', 'Cameroon', 'Niue', 'Algeria', 'Western Sahara', 'Georgia', 'Nepal', 'Cape Verde', 'Nicaragua', 'Sao Tome and Principe', 'Tuvalu', 'Jersey', 'Tonga', 'Liberia', 'Dominican Republic', 'Niue', 'United States Minor Outlying Islands', 'Burkina Faso', 'Egypt', 'Philippines', 'British Indian Ocean Territory (Chagos Archipelago)', 'Turkey', 'Fiji', 'Micronesia', 'Madagascar', 'Andorra', 'Senegal', 'Guinea', 'Myanmar', 'Jamaica', 'Cyprus', 'Vietnam', 'Seychelles', 'Ethiopia', 'Czech Republic', 'Jamaica', 'Comoros', 'Qatar', 'Saint Lucia', 'Heard Island and McDonald Islands', 'Algeria', 'Panama', 'Korea', 'Puerto Rico', 'Belize', 'Papua New Guinea', 'Georgia', 'Bahrain', 'Italy', 'Colombia', 'Oman', 'Morocco', 'Egypt', 'Japan', 'Barbados', 'Gibraltar', 'San Marino', 'Pakistan', 'Lebanon', 'San Marino', 'Brazil', 'Micronesia', 'Falkland Islands (Malvinas)', 'Pakistan', 'Belize', 'Holy See (Vatican City State)', 'New Zealand', 'Korea', 'Svalbard & Jan Mayen Islands', 'Ecuador', 'Mexico', 'Christmas Island', 'Nicaragua', 'Monaco', 'Paraguay', 'Liechtenstein', 'Nigeria', 'Mauritius', 'North Macedonia', 'Niue', 'Timor-Leste', 'Iran', 'Christmas Island', 'Belize', 'Philippines', 'Thailand', 'Cape Verde', 'Norfolk Island', 'United Arab Emirates', 'Saudi Arabia', 'Sudan', 'Latvia', 'Equatorial Guinea', 'Holy See (Vatican City State)', 'Cyprus', 'Faroe Islands', 'Puerto Rico', 'Bangladesh', 'Maldives', 'Heard Island and McDonald Islands', 'Belgium', 'Isle of Man', 'Holy See (Vatican City State)', 'Andorra', 'Saint Lucia', 'Greece', 'Gibraltar', 'Saint Pierre and Miquelon', 'Norway', 'Gambia', 'Botswana', 'Uganda', 'Nepal', 'Denmark', 'Ethiopia', 'Tanzania', 'Malaysia', 'Western Sahara', 'Albania', 'Oman', 'Antarctica (the territory South of 60 deg S)', 'Costa Rica', 'Cameroon', 'Kiribati', 'Anguilla', 'Gabon', 'Iceland', 'Belize', 'China', 'Equatorial Guinea', 'Montserrat', 'Uzbekistan', 'Cayman Islands', 'Ecuador', 'Moldova', 'Aruba', 'Papua New Guinea', 'Moldova', 'San Marino', 'Barbados', 'Christmas Island', 'United Kingdom', 'Belize', 'Niue', 'Malawi', 'Kazakhstan', 'Malaysia', 'Bahamas', 'French Southern Territories', 'Monaco', 'France', 'New Zealand', 'Georgia', 'Serbia', 'British Indian Ocean Territory (Chagos Archipelago)', 'Liechtenstein', 'Saint Pierre and Miquelon', 'United States Minor Outlying Islands', 'Iran', 'Syrian Arab Republic', 'Taiwan', 'Montserrat', 'Czech Republic', 'Korea', 'Saint Helena', 'Tuvalu', 'Congo', 'Aruba', 'Indonesia', 'Oman', 'Gambia', 'Christmas Island', 'Kiribati', 'Heard Island and McDonald Islands', 'Bangladesh', 'Italy', 'Cook Islands', 'Tajikistan', 'Namibia', 'Norfolk Island', 'Mayotte', 'Belgium', 'Finland', 'Uzbekistan', 'Estonia', 'El Salvador', 'Nepal', 'Switzerland', 'Malaysia', 'Slovenia', 'Uganda', 'El Salvador', 'Morocco', 'Liechtenstein', 'Nigeria', 'Sierra Leone', 'Greece', 'Panama', 'Germany', 'Micronesia', 'Cocos (Keeling) Islands', 'Gibraltar', 'Iran', 'Portugal', 'Bangladesh', 'Kyrgyz Republic', 'Lithuania', 'French Guiana', 'San Marino', 'Guernsey', 'Benin', 'Central African Republic', 'Malta', 'Lebanon', 'San Marino', 'Syrian Arab Republic', 'Solomon Islands', 'Botswana', 'Mali', 'Palestinian Territory', 'Jordan', 'Puerto Rico', 'Heard Island and McDonald Islands', 'Philippines', 'Guatemala', 'Marshall Islands', 'Heard Island and McDonald Islands', 'Nepal', 'Guam', 'Vietnam', 'Netherlands Antilles', 'Netherlands', 'Dominica', 'Sri Lanka', 'Hungary', 'Turkmenistan', 'Reunion', 'Congo', 'Belize', 'Anguilla', 'Turkey', 'Solomon Islands', 'Hong Kong', 'Norway', 'South Africa', 'Bhutan', 'Afghanistan', 'Ireland', 'Saint Kitts and Nevis', 'Bangladesh', 'Armenia', 'Canada', 'Honduras', 'Mongolia', 'French Guiana', 'Somalia', 'United Kingdom', 'Vietnam', 'Azerbaijan', 'Central African Republic', 'Poland', 'Mauritius', 'Chad', 'Northern Mariana Islands', 'Jamaica', 'Cyprus', 'Netherlands', 'American Samoa', 'Dominican Republic', 'Jersey', 'Ghana', 'Jordan', 'Mexico', 'Mongolia', 'Angola', 'Lesotho', 'Andorra', 'France', 'Denmark', 'Ghana', 'Norfolk Island', 'Netherlands', 'Maldives', 'Guatemala', 'Mali', 'Brunei Darussalam', 'Montserrat', 'Sweden', 'British Indian Ocean Territory (Chagos Archipelago)', 'Guadeloupe', 'Thailand', 'Estonia', 'Italy', 'United Kingdom', 'Kiribati', 'Rwanda', 'Greece', 'Greenland', 'United Arab Emirates', 'Nicaragua', 'Malaysia', 'Western Sahara', 'Palestinian Territory', 'Malta', 'Hungary', 'Svalbard & Jan Mayen Islands', 'Indonesia', 'Australia', 'Lesotho', 'Saint Lucia', 'Taiwan', 'Azerbaijan', 'Japan', 'Congo', 'Panama', 'Somalia', 'Egypt', 'Vietnam', 'Tonga', 'Belgium', 'Cook Islands', 'Wallis and Futuna', 'Jamaica', 'Nigeria', 'Austria', 'Botswana', 'Armenia', 'Trinidad and Tobago', 'Bolivia', 'Iran', 'Kuwait', 'Nauru', 'Kenya', 'Malta', 'Bangladesh', 'Liberia', 'Singapore', 'British Indian Ocean Territory (Chagos Archipelago)', 'Indonesia', 'Palestinian Territory', 'Faroe Islands', 'Rwanda', 'Syrian Arab Republic', \"Lao People's Democratic Republic\", 'Haiti', 'Isle of Man', 'Portugal', 'San Marino', 'Central African Republic', 'Djibouti', 'North Macedonia', 'Bahrain', 'Haiti', 'Netherlands', 'Italy', 'Latvia', 'Faroe Islands', 'Mayotte', 'Ghana', 'Isle of Man', 'French Polynesia', 'Indonesia', 'Barbados', 'France', 'Jersey', 'Saint Barthelemy', 'Malta', 'Mexico', 'Tajikistan', 'Uganda', 'Falkland Islands (Malvinas)', 'Sweden', 'Burundi', 'United Arab Emirates', 'Anguilla', 'Western Sahara', 'Somalia', 'Hong Kong', 'Sudan', 'Liberia', 'Bulgaria', 'Micronesia', 'Suriname', 'Singapore', 'Georgia', 'Bahamas', 'Svalbard & Jan Mayen Islands', 'Russian Federation', 'Kiribati', 'Reunion', 'United States Virgin Islands', 'Mauritius', 'Albania', 'Italy', 'Saint Lucia', 'Puerto Rico', 'Jersey', 'France', 'Barbados', 'Netherlands', 'Tonga', 'Taiwan', 'Netherlands Antilles', 'Norfolk Island', 'Iraq', 'Marshall Islands', 'Lebanon', 'Belize', 'Slovenia', 'Gambia', 'Saint Vincent and the Grenadines', 'Oman', 'Christmas Island', 'Switzerland', 'Italy', 'New Zealand', 'Angola', 'Brazil', 'Djibouti', 'Tuvalu', 'Brazil', 'Ecuador', 'Costa Rica', 'Georgia', 'Cocos (Keeling) Islands', 'Zambia', 'Indonesia', 'Haiti', 'Uganda', 'Egypt', 'Senegal', 'Bolivia', 'Kyrgyz Republic', 'Timor-Leste', 'Mozambique', 'Liberia', 'Mozambique', 'Colombia', 'Korea', 'Gambia', 'Qatar', 'Uzbekistan', 'Niue', 'Turkmenistan', 'Bangladesh', 'Monaco', 'Bangladesh', 'Samoa', 'Heard Island and McDonald Islands', 'China', 'Albania', 'Saint Kitts and Nevis', 'Saint Barthelemy', 'Lesotho', 'Ukraine', 'Bouvet Island (Bouvetoya)', 'Jamaica', 'Cocos (Keeling) Islands', 'Morocco', 'French Southern Territories', 'Malaysia', 'Mayotte', 'Libyan Arab Jamahiriya', 'Congo', 'Swaziland', 'Congo', 'Colombia', 'Namibia', 'Netherlands Antilles', 'Ghana', 'Liberia', 'Benin', 'Myanmar', 'Martinique', 'Cameroon', 'Martinique', 'Korea', 'Italy', 'Thailand', 'United Kingdom', 'Swaziland', 'Guinea-Bissau', 'French Guiana', 'United States Minor Outlying Islands', 'Ethiopia', 'Martinique', 'Cocos (Keeling) Islands', 'Australia', 'Honduras', 'Grenada', 'Guatemala', 'Gibraltar', 'Kenya', 'New Caledonia', 'Cocos (Keeling) Islands', 'Qatar', 'Tajikistan', 'Spain', 'Qatar', 'Guyana', 'Tunisia', 'Isle of Man', 'Bermuda', 'Uganda', 'Kenya', 'Chile', 'Cyprus', 'Jordan', 'Guernsey', 'Cambodia', 'Pitcairn Islands', 'Czech Republic', 'Argentina', 'Brunei Darussalam', 'Wallis and Futuna', 'Greenland', 'Nigeria', 'South Georgia and the South Sandwich Islands', 'San Marino', 'Costa Rica', 'Cameroon', 'Yemen', 'Falkland Islands (Malvinas)', 'Serbia', 'Tunisia', 'British Virgin Islands', 'Saint Helena', 'Solomon Islands', 'Isle of Man', 'Tokelau', 'Pitcairn Islands', 'Congo', 'Chile', 'Cayman Islands', 'Aruba', 'Chad', 'Dominica', 'Tuvalu', 'Maldives', 'Fiji', 'Equatorial Guinea', 'Guatemala', 'Albania', 'Ukraine', 'Somalia', 'Turkey', 'Bosnia and Herzegovina', 'France', 'Barbados', 'North Macedonia', 'Sweden', 'Jordan', 'Indonesia', 'Macao', 'Congo', 'Romania', 'Finland', 'Macao', 'Iran', 'Isle of Man', 'Ireland', 'Puerto Rico', 'Malta', 'Maldives', 'Zambia', 'Cape Verde', 'Singapore', 'Malawi', 'Marshall Islands', 'Comoros', 'Guernsey', 'Tunisia', 'Sierra Leone', 'Belize', 'Cambodia', 'Zambia', 'Latvia', 'Netherlands', 'Portugal', 'Paraguay', 'Mongolia', 'North Macedonia', 'Uzbekistan', 'France', 'Estonia', 'Micronesia', 'Gambia', 'Monaco', 'Panama', 'Martinique', 'Indonesia', 'Norfolk Island', 'Singapore', 'Sao Tome and Principe', 'Mozambique', 'Finland', 'Seychelles', 'French Polynesia', 'Jersey', 'Netherlands', 'Lithuania', 'Aruba', 'United States Minor Outlying Islands', 'Jersey', 'Saint Martin', 'Sudan', 'Togo', 'Lesotho', 'Lebanon', 'Albania', 'Tonga', 'Netherlands Antilles', 'Pakistan', 'San Marino', 'Central African Republic', 'Montserrat', 'United States of America', 'Eritrea', 'Antarctica (the territory South of 60 deg S)', 'Nigeria', 'Kiribati', 'Samoa', 'Mongolia', 'Austria', 'Guernsey', 'Lebanon', 'Dominica', 'Vietnam', 'Papua New Guinea', 'Argentina', 'United States Virgin Islands', 'Congo', 'Cambodia', 'Tokelau', 'Congo', 'Aruba', 'Canada', 'Bosnia and Herzegovina', 'San Marino', 'Saint Martin', 'Bermuda', 'Guyana', 'American Samoa', 'Bangladesh', 'Micronesia', 'Isle of Man', 'Bahamas', 'Syrian Arab Republic', 'Japan', 'United Kingdom', 'Eritrea', 'Northern Mariana Islands', 'Belgium', 'Vanuatu', 'Norway', 'Moldova', 'Brunei Darussalam', 'Morocco', 'United Arab Emirates', 'Slovakia (Slovak Republic)', 'Solomon Islands', 'Pakistan', 'Belize', 'Saint Helena', 'Saudi Arabia', 'Croatia', 'Luxembourg', 'Papua New Guinea', 'Dominica', 'Suriname', 'Honduras', 'Cape Verde', 'Dominica', 'Cyprus', 'Saint Barthelemy', 'Mauritius', 'Kyrgyz Republic', 'Bolivia', 'Norfolk Island', 'Azerbaijan', 'Palau', 'Croatia', 'Belarus', 'Cyprus', 'North Macedonia', 'Romania', 'Canada', 'Lithuania', 'Fiji', 'American Samoa', 'Belize', 'Moldova', 'Estonia', 'Haiti', 'United States Minor Outlying Islands', 'Saint Pierre and Miquelon', 'Mexico', 'Netherlands Antilles', 'Nepal', 'Congo', 'Liberia', 'Cuba', 'Congo', 'Argentina', 'Martinique', 'Kiribati', 'Belize', 'Canada', 'Holy See (Vatican City State)', 'Belize', 'Isle of Man', 'Liberia', 'Latvia', 'Northern Mariana Islands', 'Lithuania', 'Swaziland', 'Italy', 'Peru', 'Rwanda', 'San Marino', 'Denmark', 'Dominican Republic', 'Congo', 'Morocco', 'Turkmenistan', 'Saint Lucia', 'Nigeria', 'Korea', 'Mayotte', 'Portugal', 'Vietnam', 'Tunisia', 'United States Minor Outlying Islands', 'Albania', 'Cocos (Keeling) Islands', 'Falkland Islands (Malvinas)', 'Togo', 'Vietnam', 'Liechtenstein', 'Eritrea', 'Slovakia (Slovak Republic)', 'Northern Mariana Islands', 'Papua New Guinea', 'Mongolia', 'Ireland', 'Tuvalu', 'Swaziland', 'Greenland', 'Germany', 'Iraq', 'Chad', 'Mongolia', 'Puerto Rico', 'Algeria', 'Afghanistan', 'Cook Islands', 'Gibraltar', 'Liechtenstein', 'Pitcairn Islands', 'Rwanda', 'Syrian Arab Republic', 'Czech Republic', 'Brazil', 'Austria', 'Kenya', 'India', 'Switzerland', 'Timor-Leste', 'Trinidad and Tobago', 'Libyan Arab Jamahiriya', 'Lithuania', 'Saint Vincent and the Grenadines', 'Brazil', 'Equatorial Guinea', 'Barbados', 'Serbia', 'Jersey', 'Palestinian Territory', 'French Southern Territories', 'Iran', 'Indonesia', 'Mauritania', \"Lao People's Democratic Republic\", 'Iran', 'Congo', 'Belgium', 'Macao', 'Haiti', 'Timor-Leste', 'Argentina', 'Hong Kong', 'Heard Island and McDonald Islands', 'Romania', 'Namibia', 'Tokelau', 'Gambia', 'Brunei Darussalam', 'Saint Kitts and Nevis', 'Lebanon', 'Heard Island and McDonald Islands', 'Isle of Man', 'New Caledonia', 'United Kingdom', 'New Zealand', 'Tonga', 'Georgia', 'Benin', 'Kazakhstan', 'Czech Republic', 'Monaco', 'Turkey', 'Indonesia', 'Pakistan', 'Saudi Arabia', 'Uganda', 'Kiribati', 'Greenland', 'Anguilla', 'Cameroon', 'Belize', 'Azerbaijan', 'United States of America', 'Niger', 'Nauru', 'Portugal', 'Romania', 'Senegal', 'Bulgaria', 'United Kingdom', 'Niue', 'Egypt', 'Netherlands Antilles', 'Anguilla', 'Mauritania', 'Azerbaijan', 'Malawi', 'Norway', 'Kuwait', 'Latvia', 'Dominican Republic', 'Colombia', 'Fiji', 'Tanzania', 'Iceland', 'Svalbard & Jan Mayen Islands', 'Zambia', 'French Guiana', 'Spain', 'Serbia', 'Sierra Leone', 'Pakistan', 'Mali', 'Canada', 'Anguilla', 'Central African Republic', 'Jersey', 'Turkey', 'Palau', 'South Africa', 'Maldives', 'Qatar', 'Chad', 'Christmas Island', 'Luxembourg', 'United States of America', 'Sao Tome and Principe', 'Brunei Darussalam', 'Sierra Leone', 'Afghanistan', 'China', 'Algeria', 'Norway', 'Tuvalu', 'Sudan', 'Moldova', 'British Virgin Islands', 'Uganda', 'Sierra Leone', 'San Marino', 'Sri Lanka', 'Singapore', 'Liberia', 'Iran', 'Antigua and Barbuda', 'Cocos (Keeling) Islands', 'Djibouti', 'Niue', 'Namibia', 'Macao', 'Christmas Island', 'Wallis and Futuna', 'Slovenia', 'Vanuatu', 'Cameroon', 'Croatia', 'Korea', 'Bahrain', 'Canada', 'Sudan', 'Portugal', 'Wallis and Futuna', 'Ghana', 'United States of America', 'Svalbard & Jan Mayen Islands', 'Switzerland', 'Hong Kong', 'Bermuda', 'South Georgia and the South Sandwich Islands', 'Estonia', 'El Salvador', 'Pitcairn Islands', 'Grenada', 'French Polynesia', 'Tonga', 'Zimbabwe', 'Tanzania', 'Spain', 'Bangladesh', 'Czech Republic', 'Andorra', 'Slovenia', 'Lebanon', 'Gabon', 'Eritrea', 'Korea', 'Jamaica', 'French Polynesia', 'Aruba', 'Russian Federation', 'Belgium', 'Pitcairn Islands', 'Belarus', 'Paraguay', 'Uzbekistan', 'Jamaica', 'Heard Island and McDonald Islands', 'United States of America', 'Brunei Darussalam', 'Samoa', 'Bahrain', 'Korea', 'Antigua and Barbuda', 'Austria', 'Philippines', 'Cuba', 'Liberia', 'Guinea-Bissau', 'Cocos (Keeling) Islands', \"Cote d'Ivoire\", 'Iraq', 'Jordan', 'Marshall Islands', 'Tonga', 'Finland', 'Tokelau', 'Germany', 'Canada', 'Armenia', 'Angola', 'Malawi', 'Kuwait', 'Turkey', 'San Marino', 'Andorra', 'Switzerland', 'Malta', 'French Guiana', 'Montenegro', 'Guinea-Bissau', 'New Caledonia', 'Lithuania', 'Botswana', 'Maldives', 'France', 'Saint Kitts and Nevis', 'Saint Barthelemy', 'Antigua and Barbuda', 'Macao', 'Macao', 'Maldives', 'India', \"Lao People's Democratic Republic\", 'Antigua and Barbuda', 'Jordan', 'Jersey', 'Myanmar', 'Iran', 'Hong Kong', 'New Zealand', 'El Salvador', 'Niue', 'Bangladesh', 'Belarus', 'Togo', 'Sudan', 'Saudi Arabia', 'Angola', 'Singapore', 'Tunisia', 'Niger', 'Netherlands', 'Reunion', 'Lebanon', 'Finland', 'Australia', 'Philippines', 'Hong Kong', 'Vanuatu', 'Reunion', 'North Macedonia', 'Guatemala', 'Tunisia', 'Guatemala', 'Equatorial Guinea', 'Antigua and Barbuda', 'Bhutan', 'Bermuda', 'Israel', 'Tunisia', 'Djibouti', 'Saint Kitts and Nevis', 'United States Virgin Islands', 'Uganda', 'Tanzania', 'Algeria', 'Dominica', 'Belize', 'Panama', 'Cape Verde', 'Guernsey', 'Ethiopia', 'Chad', 'Iran', 'Turkey', 'Sierra Leone', 'Trinidad and Tobago', 'Angola', 'Slovenia', 'Mexico', 'French Guiana', 'Austria', 'Guam', 'Russian Federation', 'Armenia', 'Liechtenstein', 'Serbia', 'Ireland', 'China', 'Luxembourg', 'Cuba', 'Bolivia', 'Congo', 'Rwanda', 'Greece', 'Guinea', 'Yemen', 'Bosnia and Herzegovina', 'Malawi', 'Falkland Islands (Malvinas)', 'Haiti', 'Kiribati', 'Cyprus', 'Iraq', 'Luxembourg', 'Micronesia', 'Syrian Arab Republic', 'Tunisia', 'Lebanon', 'Palau', 'Ukraine', 'Afghanistan', 'Grenada', 'Madagascar', 'Peru', 'New Caledonia', 'Monaco', 'New Caledonia', 'Svalbard & Jan Mayen Islands', 'Nigeria', 'Cook Islands', 'French Guiana', 'Gibraltar', 'Suriname', 'Martinique', 'Latvia', 'Montenegro', 'Barbados', 'Guernsey', 'Puerto Rico', 'Poland', 'Colombia', 'United States Virgin Islands', 'Gibraltar', 'Pakistan', 'Libyan Arab Jamahiriya', 'Venezuela', 'Norway', 'Anguilla', 'Uzbekistan', 'Poland', 'Turkey', 'Saint Vincent and the Grenadines', 'Maldives', 'Guyana', 'American Samoa', 'Guadeloupe', 'Ecuador', 'Jamaica', 'Macao', 'Guyana', 'Faroe Islands', 'Saint Pierre and Miquelon', 'Tajikistan', 'United Kingdom', \"Cote d'Ivoire\", 'Brunei Darussalam', 'Azerbaijan', 'Bermuda', 'Mexico', 'Nigeria', 'Brazil', 'Panama', 'El Salvador', 'Iran', 'Netherlands', 'Belarus', 'Saint Helena', 'Northern Mariana Islands', 'Bouvet Island (Bouvetoya)', 'Saint Kitts and Nevis', 'Italy', 'Saudi Arabia', 'Malta', 'Yemen', 'Paraguay', 'Libyan Arab Jamahiriya', 'United Arab Emirates', 'Saint Pierre and Miquelon', 'Belize', 'Chile', 'Reunion', 'Saint Kitts and Nevis', 'El Salvador', 'Tunisia', 'Namibia', 'Mauritius', 'French Southern Territories', 'Brunei Darussalam', 'Canada', 'United States of America', 'Zimbabwe', 'Saint Helena', 'Gambia', 'Chile', 'Hong Kong', 'Yemen', 'Montenegro', 'Taiwan', 'Dominican Republic', 'Georgia', 'Lithuania', 'Austria', 'Netherlands Antilles', 'Dominican Republic', 'Puerto Rico', 'French Polynesia', 'Nepal', 'Jamaica', 'Kazakhstan', 'Namibia', 'Sudan', 'Macao', 'Guatemala', 'Niger', 'India', 'Saint Helena', 'Falkland Islands (Malvinas)', 'Saint Lucia', 'Gibraltar', 'Benin', 'Pitcairn Islands', 'Macao', 'Morocco', 'Turkmenistan', 'Saint Martin', 'Russian Federation', 'Papua New Guinea', 'Guinea', 'Mali', 'Armenia', 'Oman', 'Tajikistan', 'Western Sahara', 'Fiji', 'Saint Barthelemy', 'United States Minor Outlying Islands', 'Martinique', 'Malaysia', 'Algeria', 'Slovakia (Slovak Republic)', 'El Salvador', 'Sierra Leone', 'Marshall Islands', 'Dominica', 'Thailand', 'Oman', 'Poland', 'Belarus', 'Tajikistan', 'Hong Kong', 'Afghanistan', 'Finland', 'Zimbabwe', 'Belarus', 'Nepal', 'Indonesia', 'Saint Helena', 'Djibouti', 'Central African Republic', 'United Kingdom', 'Sierra Leone', 'Belize', 'North Macedonia', 'Syrian Arab Republic', 'Ukraine', 'Cuba', 'Guinea-Bissau', 'Pitcairn Islands', 'Bahrain', 'New Zealand', 'Libyan Arab Jamahiriya', 'Korea', 'Paraguay', 'Panama', 'Benin', 'Congo', 'Wallis and Futuna', 'North Macedonia', 'Haiti', 'Saint Lucia', 'Tuvalu', 'Madagascar', 'Austria', 'Turkey', 'South Africa', 'Korea', 'Greece', 'Zimbabwe', 'Denmark', 'Georgia', 'Argentina', 'Iceland', 'Senegal', 'Mayotte', 'Congo', 'Mayotte', 'Guinea', 'Timor-Leste', 'Tuvalu', 'Colombia', 'Micronesia', 'Tanzania', 'French Polynesia', 'Aruba', 'Sao Tome and Principe', 'Norway', 'Malawi', 'Northern Mariana Islands', 'Korea', 'Montenegro', 'Nauru', 'Cape Verde', 'Kenya', 'Madagascar', 'Nigeria', 'Wallis and Futuna', 'Fiji', 'Korea', 'Cambodia', 'Bangladesh', 'Martinique', 'Gambia', 'Ethiopia', 'Senegal', 'Mali', 'Ireland', 'Syrian Arab Republic', 'Bulgaria', 'Vanuatu', 'Holy See (Vatican City State)', 'Mexico', 'Kazakhstan', 'Micronesia', 'Falkland Islands (Malvinas)', 'Mali', 'Ireland', 'Russian Federation', 'Sweden', 'Thailand', 'Namibia', 'Thailand', 'Holy See (Vatican City State)', 'Faroe Islands', 'Sierra Leone', 'Tunisia', 'Niger', 'Mongolia', 'Bolivia', 'Uganda', 'Andorra', 'Guadeloupe', 'Liechtenstein', 'Mayotte', 'Falkland Islands (Malvinas)', 'Turkmenistan', 'Ireland', 'Algeria', 'Syrian Arab Republic', 'Nauru', 'Philippines', 'Faroe Islands', 'Denmark', 'Nigeria', 'Lithuania', 'Tonga', 'Anguilla', 'Bouvet Island (Bouvetoya)', 'Latvia', 'Niger', 'French Polynesia', 'Mexico', 'Sao Tome and Principe', 'Estonia', 'Mayotte', 'Bahamas', 'Seychelles', 'Saint Helena', 'Saint Lucia', 'Saint Barthelemy', 'El Salvador', 'Dominica', 'Ecuador', 'Bulgaria', 'Cayman Islands', 'Tunisia', 'Panama', 'Eritrea', 'Tunisia', 'Latvia', 'Mauritius', 'Lebanon', 'Macao', 'Brunei Darussalam', 'British Virgin Islands', 'Jordan', 'Burundi', 'New Caledonia', 'Senegal', 'Malaysia', 'Saint Lucia', 'Bulgaria', 'Philippines', 'Korea', 'Ethiopia', 'Mozambique', 'American Samoa', 'Solomon Islands', 'French Polynesia', 'Antigua and Barbuda', 'Iran', 'Barbados', 'North Macedonia', 'British Virgin Islands', 'Gibraltar', 'Slovakia (Slovak Republic)', 'Ecuador', 'Thailand', 'Liberia', 'Cambodia', 'Estonia', 'Equatorial Guinea', 'Reunion', 'Saint Martin', 'Slovakia (Slovak Republic)', 'Syrian Arab Republic', 'New Zealand', 'New Zealand', 'Costa Rica', 'British Virgin Islands', 'Bahamas', 'Lithuania', 'Sierra Leone', 'Svalbard & Jan Mayen Islands', 'Slovakia (Slovak Republic)', 'Chile', 'Angola', 'Thailand', 'Canada', 'Afghanistan', 'Central African Republic', 'Russian Federation', 'Burundi', 'Iraq', 'Grenada', 'Saint Kitts and Nevis', 'Zambia', 'Jamaica', 'Montenegro', 'Jordan', 'Kyrgyz Republic', 'Finland', 'Ethiopia', 'Thailand', 'Albania', 'Falkland Islands (Malvinas)', 'Vanuatu', 'Maldives', 'Uzbekistan', 'Bouvet Island (Bouvetoya)', 'Guatemala', 'Albania', 'Eritrea', 'Hungary', 'French Polynesia', 'French Guiana', 'Barbados', 'Norfolk Island', 'El Salvador', 'Maldives', 'Morocco', 'Zimbabwe', 'Congo', 'North Macedonia', 'Sweden', 'India', 'American Samoa', 'Ireland', 'Ecuador', 'Saint Helena', 'Zambia', 'Belgium', 'Anguilla', 'Colombia', 'Uruguay', 'South Georgia and the South Sandwich Islands', 'Tokelau', 'Azerbaijan', 'Palau', 'Tunisia', 'Timor-Leste', 'French Polynesia', 'Argentina', 'Poland', 'Tonga', 'Singapore', 'Colombia', 'Slovenia', 'Montenegro', 'Mayotte', 'Saint Barthelemy', 'New Zealand', 'South Georgia and the South Sandwich Islands', 'Aruba', 'Timor-Leste', 'Syrian Arab Republic', 'Afghanistan', 'British Indian Ocean Territory (Chagos Archipelago)', 'Denmark', 'Somalia', 'Finland', 'Bolivia', 'Saint Martin', 'Equatorial Guinea', 'Chad', 'Armenia', 'Uganda', 'Azerbaijan', 'Cuba', 'Falkland Islands (Malvinas)', 'Zimbabwe', 'Pakistan', 'Slovenia', \"Cote d'Ivoire\", 'Argentina', 'Austria', 'Venezuela', 'Guinea', 'Haiti', 'Trinidad and Tobago', 'Mauritius', 'New Zealand', 'Haiti', 'Portugal', 'Maldives', 'Mali', 'United States Virgin Islands', 'Bulgaria', 'Antarctica (the territory South of 60 deg S)', 'India', 'Mozambique', 'Canada', 'Poland', 'Mayotte', 'Sri Lanka', 'United Arab Emirates', 'Montenegro', 'United Arab Emirates', 'Antigua and Barbuda', 'Gambia', 'Mauritania', 'Brazil', 'Bahamas', 'Central African Republic', 'Italy', 'Saudi Arabia', 'Denmark', 'Greenland', 'Poland', 'Chile', 'Cocos (Keeling) Islands', 'Bouvet Island (Bouvetoya)', 'Serbia', 'Sweden', 'Ethiopia', 'New Zealand', 'Saint Lucia', 'South Georgia and the South Sandwich Islands', 'Singapore', 'Denmark', 'French Guiana', 'Tuvalu', 'Japan', 'South Georgia and the South Sandwich Islands', 'Jersey', 'Dominican Republic', 'Zambia', 'Congo', 'Equatorial Guinea', 'Ireland', 'South Africa', 'British Virgin Islands', 'Israel', 'Tunisia', 'China', 'Korea', 'Reunion', 'Brunei Darussalam', 'Eritrea', 'United States Virgin Islands', 'Chile', 'Comoros', 'Belgium', 'Kuwait', 'Saint Lucia', 'Iceland', 'Yemen', 'Belgium', 'Macao', 'Chad', 'Saint Vincent and the Grenadines', 'Korea', 'United Arab Emirates', 'Central African Republic', 'Gabon', 'Pakistan', 'Turks and Caicos Islands', 'Zambia', 'Ireland', 'Sri Lanka', 'Saint Kitts and Nevis', 'Trinidad and Tobago', 'Benin', 'Slovakia (Slovak Republic)', 'Cyprus', 'Honduras', 'Seychelles', 'Antigua and Barbuda', 'Isle of Man', 'Romania', 'Norway', 'South Georgia and the South Sandwich Islands', 'Liechtenstein', 'Macao', 'Singapore', 'Pitcairn Islands', 'Saint Lucia', 'Mali', 'Singapore', 'Pakistan', 'Kazakhstan', 'Japan', 'Guyana', 'Croatia', 'Togo', 'Peru', 'Sierra Leone', 'Timor-Leste', 'Mayotte', 'Iraq', 'Cape Verde', 'Malawi', 'Cameroon', 'Montserrat', 'Sri Lanka', 'Guyana', \"Lao People's Democratic Republic\", 'Denmark', 'Poland', 'Botswana', 'Cuba', 'Ukraine', 'Chad', 'Burkina Faso', 'Saint Pierre and Miquelon', 'Christmas Island', 'Belgium', 'Paraguay', 'Tokelau', 'Holy See (Vatican City State)', 'Iraq', 'Montserrat', 'Uganda', 'Bahrain', 'Estonia', 'Bhutan', 'Turkey', 'Haiti', 'Lithuania', 'Liechtenstein', 'Cyprus', 'Moldova', 'Japan', 'Bahrain', 'Bulgaria', 'Albania', 'Oman', 'Aruba', 'New Caledonia', 'Micronesia', 'Nicaragua', 'South Georgia and the South Sandwich Islands', 'Benin', 'Colombia', 'Micronesia', 'French Guiana', 'Lithuania', 'Paraguay', 'Hong Kong', 'Afghanistan', 'Reunion', 'Philippines', 'Tokelau', 'Yemen', 'Sao Tome and Principe', 'Niger', 'Burundi', 'Bahamas', 'Cayman Islands', 'Kuwait', 'Jamaica', 'Sudan', 'Brunei Darussalam', 'Seychelles', 'Eritrea', 'Afghanistan', 'Colombia', 'Afghanistan', 'Armenia', \"Cote d'Ivoire\", 'Portugal', 'Nigeria', 'Gabon', 'Montenegro', 'Holy See (Vatican City State)', 'Macao', 'France', 'Italy', 'Vietnam', 'Palestinian Territory', 'Grenada', 'Guyana', 'Israel', 'Saint Barthelemy', 'French Polynesia', 'Kiribati', 'Tajikistan', 'Christmas Island', 'Namibia', 'New Caledonia', 'Portugal', 'Ecuador', 'Albania', 'Qatar', 'Trinidad and Tobago', 'Lebanon', 'Egypt', 'Morocco', 'Bolivia', 'Switzerland', 'Guam', 'Slovakia (Slovak Republic)', 'Burkina Faso', 'Tanzania', 'Congo', 'Monaco', 'Guernsey', 'Micronesia', 'China', 'Finland', 'Hungary', 'Ecuador', 'Hong Kong', 'Czech Republic', 'Thailand', 'Uzbekistan', 'Ukraine', 'Switzerland', 'Western Sahara', 'Sri Lanka', 'Lebanon', 'Sri Lanka', 'Netherlands Antilles', 'French Polynesia', 'Cuba', 'Papua New Guinea', 'Iceland', 'United States Minor Outlying Islands', 'Australia', 'Panama', 'Cook Islands', 'Tonga', 'Thailand', 'Anguilla', 'Falkland Islands (Malvinas)', 'Swaziland', 'Thailand', 'Canada', 'Dominican Republic', 'Mozambique', 'Togo', 'Turkmenistan', 'Bermuda', 'Iran', 'Malawi', 'Maldives', 'Azerbaijan', 'Mozambique', 'Kazakhstan', 'Saudi Arabia', 'Maldives', 'Seychelles', 'Costa Rica', 'Kazakhstan', 'Guam', 'Greece', 'Bermuda', 'Burundi', 'Cocos (Keeling) Islands', 'Montserrat', 'Jersey', 'Zimbabwe', 'Palestinian Territory', 'Tokelau', 'French Guiana', 'Uganda', 'Italy', 'Hong Kong', 'Morocco', 'Barbados', 'Romania', 'Kazakhstan', 'Reunion', 'Brunei Darussalam', 'Paraguay', 'South Georgia and the South Sandwich Islands', 'Latvia', 'Togo', 'Venezuela', 'Turkey', 'Cocos (Keeling) Islands', 'Nauru', 'Bangladesh', 'Dominica', 'Antigua and Barbuda', 'United Kingdom', 'Korea', 'Madagascar', 'Bermuda', 'Liberia', 'Finland', 'Belarus', 'Italy', 'Marshall Islands', 'Libyan Arab Jamahiriya', 'United Kingdom', 'Central African Republic', 'Malawi', 'Sweden', 'Djibouti', 'Micronesia', 'Tunisia', 'Bouvet Island (Bouvetoya)', 'Israel', 'Cambodia', 'Sudan', 'Mexico', 'Philippines', 'Morocco', 'Lesotho', 'Tunisia', 'Nigeria', 'New Zealand', 'Algeria', 'Brazil', 'France', 'Falkland Islands (Malvinas)', 'Iraq', 'Japan', 'Netherlands Antilles', 'Greece', 'Tanzania', 'Panama', 'Uzbekistan', 'Hungary', 'Ukraine', 'Kiribati', 'Mali', 'Aruba', 'Serbia', 'Switzerland', 'Poland', 'Poland', 'Switzerland', 'Anguilla', 'United States of America', 'India', 'Mauritania', 'Saint Martin', 'Dominica', 'Taiwan', 'Senegal', 'Malaysia', 'Antigua and Barbuda', 'French Southern Territories', 'Cocos (Keeling) Islands', 'Colombia', 'Luxembourg', 'Oman', 'Niger', 'Netherlands', 'Peru', 'Singapore', 'Madagascar', \"Cote d'Ivoire\", 'Aruba', 'Tonga', 'Hong Kong', 'British Indian Ocean Territory (Chagos Archipelago)', 'Seychelles', 'France', 'Svalbard & Jan Mayen Islands', 'Slovenia', 'Saint Lucia', 'Trinidad and Tobago', 'Morocco', 'Qatar', 'Uzbekistan', 'Faroe Islands', 'Gambia', 'Lesotho', 'Mongolia', 'Algeria', 'British Virgin Islands', 'Timor-Leste', 'Mayotte', 'Jersey', 'Canada', 'Spain', 'Netherlands', 'Reunion', 'Guam', 'Armenia', 'Liechtenstein', 'Vanuatu', 'Kuwait', 'Bangladesh', 'Taiwan', 'Saudi Arabia', 'Bermuda', 'Marshall Islands', 'Japan', 'Ireland', 'Falkland Islands (Malvinas)', 'Namibia', 'Iran', 'Burundi', 'Guinea', 'Aruba', 'Madagascar', 'Moldova', 'Liberia', 'Switzerland', 'India', 'Barbados', 'Central African Republic', 'Chile', 'Nauru', 'Argentina', 'Saudi Arabia', 'Algeria', 'North Macedonia', 'Tanzania', 'Afghanistan', 'Aruba', 'Kazakhstan', 'Netherlands', 'Djibouti', 'Anguilla', 'Solomon Islands', 'Turkey', 'Chile', 'Antarctica (the territory South of 60 deg S)', 'Trinidad and Tobago', 'Cook Islands', 'United States Minor Outlying Islands', 'Rwanda', 'Bolivia', 'Burundi', 'Tonga', 'Jordan', 'Gibraltar', 'Uruguay', 'Martinique', 'Mexico', 'Korea', 'United States of America', 'Tokelau', 'Honduras', 'Iran', 'Marshall Islands', 'Bolivia', 'French Southern Territories', 'Saint Kitts and Nevis', 'Turks and Caicos Islands', 'Japan', 'Brunei Darussalam', 'Saint Helena', 'Sierra Leone', 'Philippines', 'Netherlands', 'Morocco', 'Mexico', 'Singapore', 'United States Virgin Islands', 'Saint Martin', 'Bhutan', 'Brazil', 'Ireland', 'British Indian Ocean Territory (Chagos Archipelago)', 'Mayotte', 'United States Minor Outlying Islands', 'Grenada', 'Tajikistan', 'Equatorial Guinea', 'Grenada', 'Bahamas', 'Sweden', 'Iran', 'Fiji', 'Chad', 'Nigeria', 'Bosnia and Herzegovina', 'Anguilla', 'Heard Island and McDonald Islands', 'Croatia', 'United Arab Emirates', 'United Kingdom', 'Kyrgyz Republic', 'Slovakia (Slovak Republic)', 'Czech Republic', 'Mexico', 'Bahamas', 'Montenegro', 'Russian Federation', 'Japan', 'Egypt', 'Saint Kitts and Nevis', 'Netherlands', 'Palestinian Territory', 'Paraguay', 'Monaco', 'Serbia', 'Montserrat', 'United Kingdom', 'Kiribati', 'Bulgaria', 'Iraq', 'Samoa', 'Isle of Man', 'Georgia', 'Jordan', 'Tokelau', 'Malawi', 'Cape Verde', 'Tunisia', 'Spain', 'Bulgaria', 'Thailand', 'Swaziland', 'Korea', 'Sri Lanka', 'Libyan Arab Jamahiriya', 'Eritrea', 'Mongolia', 'Cyprus', 'Nauru', 'Norway', 'Norfolk Island', 'Monaco', 'Israel', 'Central African Republic', 'Guinea-Bissau', 'Azerbaijan', 'Kenya', 'Central African Republic', 'Monaco', 'Sri Lanka', 'Antigua and Barbuda', 'Namibia', 'Netherlands', 'Namibia', 'Bouvet Island (Bouvetoya)', 'Mauritania', 'Israel', 'Malta', 'Peru', 'Iran', 'Iraq', 'Nauru', 'Reunion', 'El Salvador', 'El Salvador', 'Bolivia', 'El Salvador', 'Zimbabwe', 'Svalbard & Jan Mayen Islands', 'Svalbard & Jan Mayen Islands', 'Paraguay', \"Lao People's Democratic Republic\", 'United Arab Emirates', 'Pakistan', 'North Macedonia', 'Mauritius', 'Turks and Caicos Islands', 'Guinea', 'Bermuda', 'Hungary', 'Morocco', 'French Guiana', 'Burundi', 'Italy', 'Western Sahara', 'Montenegro', 'Bolivia', 'Spain', 'Lebanon', 'Vietnam', 'Holy See (Vatican City State)', 'Svalbard & Jan Mayen Islands', 'United States of America', 'French Guiana', 'Venezuela', 'South Georgia and the South Sandwich Islands', 'Christmas Island', 'New Caledonia', 'Guatemala', 'Andorra', 'Northern Mariana Islands', 'Kenya', 'Micronesia', 'Saint Pierre and Miquelon', 'Japan', 'Burkina Faso', 'Mexico', 'Gambia', 'Jersey', 'Japan', 'Peru', 'Mozambique', 'Brazil', 'Mozambique', \"Cote d'Ivoire\", 'Romania', 'Azerbaijan', 'Gibraltar', 'Uzbekistan', 'Holy See (Vatican City State)', 'Somalia', 'Uzbekistan', 'Papua New Guinea', 'Malta', 'Angola', 'Burkina Faso', 'Isle of Man', 'Costa Rica', 'Trinidad and Tobago', 'Reunion', 'Cook Islands', 'Hungary', 'Kiribati', 'Gibraltar', 'Jersey', 'Slovakia (Slovak Republic)', 'Korea', 'Morocco', 'United Arab Emirates', 'Liechtenstein', 'Hong Kong', 'Ethiopia', 'United States of America', 'Italy', 'Micronesia', 'Cocos (Keeling) Islands', 'Aruba', 'Christmas Island', 'Monaco', 'Honduras', 'Gibraltar', 'Bulgaria', 'New Caledonia', 'Botswana', 'Bahamas', 'Maldives', 'Congo', 'Antigua and Barbuda', 'Brazil', 'Puerto Rico', 'Albania', 'Heard Island and McDonald Islands', 'Anguilla', 'Nigeria', 'Bangladesh', 'Hungary', 'Lebanon', 'Morocco', 'Cambodia', 'Congo', 'Tajikistan', 'Cayman Islands', 'French Guiana', 'Jamaica', 'Gabon', 'Djibouti', 'British Virgin Islands', 'Solomon Islands', 'Azerbaijan', 'Marshall Islands', 'Saint Pierre and Miquelon', 'Gabon', 'Tonga', 'Switzerland', 'Bosnia and Herzegovina', 'Bolivia', 'Sierra Leone', 'Ethiopia', 'Turkmenistan', \"Cote d'Ivoire\", 'Thailand', 'United States of America', 'Cook Islands', 'Palestinian Territory', 'Gabon', 'Jordan', 'Antigua and Barbuda', 'Lesotho', 'Belarus', 'Saint Barthelemy', 'Armenia', 'Bouvet Island (Bouvetoya)', 'Afghanistan', 'United Arab Emirates', 'Netherlands', 'Netherlands Antilles', 'Western Sahara', 'Aruba', 'Mongolia', 'Israel', 'Nepal', 'Uganda', 'Taiwan', 'Korea', 'Ethiopia', 'Cameroon', 'Guyana', 'Guinea', 'Cuba', 'Sierra Leone', 'El Salvador', 'United Kingdom', 'San Marino', 'Comoros', 'United States Minor Outlying Islands', 'Botswana', 'Aruba', 'India', 'Paraguay', 'Cyprus', 'Jersey', 'Saint Vincent and the Grenadines', 'Malaysia', 'Sweden', 'Burundi', 'Guam', 'Grenada', 'Antigua and Barbuda', 'Norfolk Island', 'Saint Martin', 'Romania', 'Congo', 'Libyan Arab Jamahiriya', 'Bouvet Island (Bouvetoya)', 'Iceland', 'Belize', 'Bouvet Island (Bouvetoya)', 'United States Virgin Islands', 'French Guiana', \"Cote d'Ivoire\", 'Thailand', 'Estonia', 'British Virgin Islands', 'Mauritius', 'United States Minor Outlying Islands', 'Falkland Islands (Malvinas)', 'United Kingdom', 'Jersey', 'Maldives', 'Albania', 'Qatar', 'Vietnam', 'Isle of Man', 'Northern Mariana Islands', 'Peru', 'Namibia', 'Korea', 'Cocos (Keeling) Islands', 'Dominican Republic', 'Taiwan', 'Panama', 'Korea', 'Bhutan', 'Togo', 'India', \"Cote d'Ivoire\", 'Antigua and Barbuda', 'Saint Lucia', 'Greece', 'Portugal', 'Taiwan', 'Benin', 'Bosnia and Herzegovina', 'Bangladesh', 'El Salvador', 'Ethiopia', 'Vanuatu', 'Paraguay', 'Cambodia', 'Zambia', 'Dominican Republic', 'Pakistan', 'Czech Republic', 'Turkmenistan', 'Turkmenistan', 'Nicaragua', 'United States Virgin Islands', 'Iraq', 'Germany', 'Belgium', 'Slovakia (Slovak Republic)', 'United States of America', 'Greece', 'Guinea', 'Canada', 'Serbia', 'Iran', 'Turkey', 'China', 'Andorra', 'Tonga', 'Cyprus', 'Zambia', 'French Guiana', 'Philippines', 'French Guiana', 'Belgium', 'Bouvet Island (Bouvetoya)', 'Gibraltar', 'New Zealand', 'Comoros', 'Lesotho', 'Christmas Island', 'Vanuatu', 'Peru', 'China', 'Christmas Island', 'Azerbaijan', \"Lao People's Democratic Republic\", 'Cocos (Keeling) Islands', 'Micronesia', 'Guam', 'Latvia', 'Gibraltar', 'Egypt', 'Cameroon', 'Guam', 'Paraguay', 'Myanmar', 'Macao', 'Tuvalu', 'France', 'Estonia', 'Mali', 'Oman', 'Anguilla', 'Micronesia', 'Tokelau', 'Turks and Caicos Islands', 'Portugal', 'Saint Lucia', 'Holy See (Vatican City State)', 'New Caledonia', 'Norfolk Island', 'Tanzania', 'Nigeria', 'Gambia', 'Slovenia', 'Jordan', 'Myanmar', 'Micronesia', 'Togo', 'Liberia', 'Marshall Islands', 'Serbia', 'Guyana', 'Puerto Rico', 'China', 'Slovakia (Slovak Republic)', 'Oman', 'French Guiana', 'Timor-Leste', 'Somalia', 'Montenegro', 'Italy', 'Argentina', 'Dominican Republic', 'Saint Barthelemy', 'Russian Federation', 'Ukraine', 'Kuwait', 'Switzerland', 'Jordan', 'Thailand', 'Belgium', 'Egypt', 'Madagascar', 'Saint Vincent and the Grenadines', 'Kyrgyz Republic', 'Turks and Caicos Islands', 'Latvia', 'Rwanda', 'South Africa', 'South Africa', 'Isle of Man', 'Heard Island and McDonald Islands', 'Cambodia', 'Palestinian Territory', 'Myanmar', 'Guatemala', 'Saudi Arabia', 'Montserrat', 'Saint Lucia', 'Cuba', 'Saint Pierre and Miquelon', 'Botswana', 'Zambia', 'France', 'Zimbabwe', 'Armenia', 'Aruba', 'Paraguay', 'Kyrgyz Republic', 'Timor-Leste', 'Singapore', 'French Polynesia', 'Martinique', 'New Caledonia', 'Bahamas', 'North Macedonia', 'Jamaica', 'Cocos (Keeling) Islands', 'Bangladesh', 'Mayotte', 'Guernsey', 'Christmas Island', 'Ukraine', 'Samoa', 'Uzbekistan', 'Lesotho', \"Cote d'Ivoire\", 'Cyprus', 'Heard Island and McDonald Islands', 'Oman', 'Lesotho', 'Macao', 'Palau', 'Afghanistan', 'Western Sahara', \"Cote d'Ivoire\", 'Botswana', 'Cuba', 'Hungary', 'Italy', \"Lao People's Democratic Republic\", 'Romania', 'Burundi', 'Armenia', 'Jamaica', 'Oman', 'Burundi', 'Andorra', 'Germany', 'Niue', 'Cameroon', 'San Marino', 'Angola', 'Norfolk Island', 'Kenya', 'Tunisia', 'Norway', 'Cameroon', 'Macao', 'Slovenia', 'Denmark', 'Denmark', 'Jamaica', 'San Marino', 'Liberia', 'Norfolk Island', 'Korea', 'Moldova', 'Azerbaijan', 'Taiwan', 'Serbia', 'Sweden', 'Djibouti', 'Liechtenstein', 'Iraq', 'Macao', 'Gabon', 'Tanzania', 'Belize', 'Malaysia', 'Micronesia', 'Guam', 'Tunisia', 'Mayotte', 'Luxembourg', 'Costa Rica', 'Swaziland', 'Jordan', 'Latvia', 'Indonesia', 'Kenya', 'Palestinian Territory', 'British Indian Ocean Territory (Chagos Archipelago)', 'Belize', 'Guinea-Bissau', 'Macao', 'Central African Republic', \"Cote d'Ivoire\", 'French Polynesia', 'Guatemala', 'Singapore', 'Somalia', 'United Kingdom', 'Belarus', \"Lao People's Democratic Republic\", 'Chad', 'Bosnia and Herzegovina', 'British Virgin Islands', 'United Kingdom', 'Algeria', 'Botswana', 'Denmark', 'Macao', 'Morocco', 'Togo', 'Luxembourg', 'Ethiopia', 'Uruguay', 'Jersey', 'Comoros', 'Austria', 'El Salvador', 'Ghana', 'Saint Kitts and Nevis', 'Bahamas', 'Dominican Republic', 'Ireland', 'Bhutan', 'Macao', 'India', 'El Salvador', 'Turkey', 'France', 'Singapore', 'Macao', 'Liechtenstein', 'New Zealand', 'Macao', 'Mozambique', 'Libyan Arab Jamahiriya', 'Guinea-Bissau', 'Monaco', 'Afghanistan', 'Peru', 'Belize', 'Saint Pierre and Miquelon', 'Guatemala', 'Uruguay', 'El Salvador', 'Norfolk Island', 'Holy See (Vatican City State)', 'Monaco', 'Christmas Island', 'Saint Martin', 'Faroe Islands', 'Azerbaijan', 'Greece', 'Myanmar', 'Zimbabwe', 'Brazil', 'Grenada', 'Slovenia', 'Iceland', 'Bhutan', 'Niger', 'Austria', 'Ukraine', 'Mongolia', 'Peru', 'Liberia', 'France', 'Cuba', 'Belgium', 'Timor-Leste', 'Saint Barthelemy', 'Dominican Republic', 'Panama', 'Germany', 'Netherlands Antilles', 'American Samoa', 'Cayman Islands', 'Finland', 'Liberia', 'Bahamas', 'Reunion', 'Togo', 'Burkina Faso', 'Honduras', 'Nigeria', 'Georgia', 'Italy', 'Armenia', 'Burkina Faso', 'Maldives', 'Gabon', 'Bermuda', 'Palestinian Territory', 'Tunisia', 'Montserrat', 'Russian Federation', 'Barbados', 'Mauritania', 'United Arab Emirates', 'Haiti', 'Tajikistan', 'Montenegro', 'Singapore', 'North Macedonia', 'Uruguay', 'Finland', 'Spain', 'Denmark', 'Andorra', 'Uzbekistan', 'Micronesia', 'Hong Kong', 'Jamaica', 'Peru', 'Zimbabwe', 'Bolivia', 'Mali', 'Bangladesh', 'Philippines', 'Nepal', 'Croatia', 'Saudi Arabia', 'Ireland', 'Brazil', 'Liechtenstein', 'Chile', 'Morocco', 'Thailand', 'Mexico', 'Colombia', 'Netherlands', 'Estonia', 'Ireland', 'Andorra', 'Kiribati', 'Dominica', 'Samoa', 'Burkina Faso', 'Congo', 'Peru', 'Egypt', 'Morocco', 'Bangladesh', 'Malawi', 'Switzerland', 'Czech Republic', 'Venezuela', 'Guinea-Bissau', 'Korea', 'Jamaica', 'Vietnam', 'Marshall Islands', 'Myanmar', 'Cameroon', 'Liberia', 'United States Virgin Islands', 'Guyana', 'Bhutan', 'Afghanistan', 'Trinidad and Tobago', 'Eritrea', 'Tokelau', 'Canada', 'Aruba', 'Iceland', 'Vietnam', 'Armenia', 'Cuba', 'Russian Federation', 'Saint Barthelemy', 'Turkey', 'Estonia', 'Montenegro', 'Palestinian Territory', 'Pakistan', 'Belgium', 'Moldova', 'New Zealand', 'Iceland', 'Marshall Islands', 'Jordan', 'Cuba', 'Niger', 'Saudi Arabia', 'Western Sahara', 'Namibia', 'Reunion', 'Antarctica (the territory South of 60 deg S)', 'Uganda', 'Nicaragua', 'Saint Vincent and the Grenadines', 'Rwanda', 'South Africa', 'Cameroon', 'Andorra', 'Namibia', 'Antigua and Barbuda', 'Ireland', 'Lithuania', 'Eritrea', 'Croatia', 'Bulgaria', 'Iran', 'United Kingdom', 'Liberia', 'Antarctica (the territory South of 60 deg S)', 'Russian Federation', 'Macao', 'Sudan', 'French Southern Territories', 'Madagascar', 'Chile', \"Cote d'Ivoire\", 'Syrian Arab Republic', 'Belgium', 'Kenya', 'Ghana', 'South Africa', 'Colombia', 'Switzerland', 'Zambia', 'Lesotho', 'Vanuatu', 'Malaysia', 'Dominican Republic', 'Timor-Leste', 'Saint Martin', 'Croatia', 'Albania', 'Germany', 'Christmas Island', 'Kiribati', 'Chad', 'Guinea-Bissau', 'Lesotho', 'San Marino', 'British Virgin Islands', 'Ukraine', 'Samoa', 'New Zealand', 'Mexico', 'Saint Martin', 'Somalia', 'Bangladesh', 'Mexico', 'Croatia', 'Saint Martin', 'Cayman Islands', 'Azerbaijan', 'Netherlands', 'Saint Barthelemy', 'Turks and Caicos Islands', 'Uganda', 'Albania', 'Qatar', 'Maldives', 'Kazakhstan', 'United States Minor Outlying Islands', 'Morocco', 'Andorra', 'Guadeloupe', 'Kyrgyz Republic', 'Myanmar', 'Japan', 'Cayman Islands', 'Lesotho', 'Austria', 'United States of America', 'Angola', 'Nauru', 'Benin', 'Syrian Arab Republic', 'Turks and Caicos Islands', 'Jamaica', 'Marshall Islands', 'Russian Federation', 'Faroe Islands', 'Canada', 'Somalia', 'Bhutan', 'Singapore', 'Malawi', 'Nigeria', 'Mauritania', 'Latvia', 'Morocco', 'Zimbabwe', 'Mozambique', 'Finland', 'Sao Tome and Principe', 'Netherlands Antilles', 'Mozambique', 'Somalia', 'Pakistan', 'Iceland', 'Turkmenistan', 'Dominica', 'Venezuela', 'Greenland', 'France', 'Barbados', 'United Kingdom', 'Papua New Guinea', 'Bahrain', 'Falkland Islands (Malvinas)', 'Mauritius', 'South Africa', 'Guinea', 'Korea', 'Dominica', 'Marshall Islands', 'Bahrain', 'Haiti', 'Niger', 'Singapore', 'Guyana', 'Germany', 'Macao', 'Bouvet Island (Bouvetoya)', 'Morocco', 'Netherlands', 'Lebanon', 'Mauritius', 'Turkmenistan', 'Guernsey', 'Netherlands', 'Chad', 'Chad', 'Greenland', 'Mongolia', 'Seychelles', \"Lao People's Democratic Republic\", 'Turks and Caicos Islands', 'Benin', 'Zambia', 'United States Virgin Islands', 'British Virgin Islands', 'Egypt', 'Ukraine', 'Serbia', 'Slovakia (Slovak Republic)', 'Liberia', 'Canada', 'Mauritania', 'Japan', 'Chad', 'Burkina Faso', 'Russian Federation', 'Nicaragua', 'Vietnam', 'Andorra', 'Samoa', 'Egypt', 'Bahamas', 'Faroe Islands', 'Ethiopia', 'Burundi', 'Togo', \"Lao People's Democratic Republic\", 'Western Sahara', 'Guatemala', 'Faroe Islands', 'Jordan', 'British Indian Ocean Territory (Chagos Archipelago)', 'Belgium', 'Djibouti', 'Panama', 'Oman', 'Saint Pierre and Miquelon', 'Saint Martin', 'Sweden', 'Russian Federation', 'Angola', 'Korea', 'Montserrat', 'Brunei Darussalam', 'Russian Federation', 'Tonga', 'Ethiopia', 'French Polynesia', 'Western Sahara', 'British Indian Ocean Territory (Chagos Archipelago)', 'Uzbekistan', 'El Salvador', 'Netherlands', 'Malta', 'Martinique', 'Micronesia', 'Croatia', 'Guinea', 'Senegal', 'Bahamas', 'Antarctica (the territory South of 60 deg S)', 'Solomon Islands', 'French Southern Territories', 'United Kingdom', 'Bahamas', 'Palau', 'Sudan', 'Marshall Islands', 'Sao Tome and Principe', 'Dominica', 'Croatia', 'Sudan', 'Eritrea', 'Tanzania', 'Greece', 'Saint Helena', 'Bahrain', 'Israel', 'South Georgia and the South Sandwich Islands', 'Kyrgyz Republic', 'Grenada', 'Zimbabwe', 'Sao Tome and Principe', 'Greenland', 'Romania', 'Nicaragua', 'Rwanda', 'Swaziland', 'Montserrat', 'Guernsey', 'Philippines', 'Brazil', 'Serbia', 'Cocos (Keeling) Islands', 'Guernsey', 'Croatia', 'Qatar', 'Liechtenstein', 'Congo', 'Western Sahara', 'Slovakia (Slovak Republic)', 'Japan', 'Germany', 'Iran', 'Brunei Darussalam', 'Turkey', 'Mozambique', 'Morocco', 'Lesotho', 'Czech Republic', 'Belize', 'Denmark', 'Qatar', 'North Macedonia', 'Norfolk Island', 'Jersey', 'Kuwait', 'New Caledonia', 'Azerbaijan', 'Myanmar', 'British Indian Ocean Territory (Chagos Archipelago)', 'Malta', 'Cuba', 'Benin', 'Armenia', 'Iran', 'Jordan', 'Guam', 'Moldova', 'India', 'Romania', 'French Polynesia', 'Vanuatu', 'Swaziland', 'Netherlands Antilles', 'Gibraltar', 'Myanmar', 'Yemen', 'Zambia', 'Iran', 'French Guiana', 'Isle of Man', 'Bolivia', 'Antarctica (the territory South of 60 deg S)', 'Tuvalu', 'Aruba', 'Seychelles', 'Brunei Darussalam', 'Mauritius', 'Yemen', 'Nauru', 'Estonia', 'Tokelau', 'Chad', 'Togo', 'Azerbaijan', 'Cyprus', 'Mongolia', 'Costa Rica', 'Ukraine', 'Sweden', 'Somalia', \"Cote d'Ivoire\", 'Lithuania', 'Mali', 'Bosnia and Herzegovina', 'Somalia', 'Liberia', 'South Africa', 'Norfolk Island', 'Denmark', 'Angola', 'Malaysia', 'United States Virgin Islands', 'Bouvet Island (Bouvetoya)', 'Christmas Island', 'Qatar', 'Ecuador', 'Lithuania', 'Swaziland', 'South Africa', 'Svalbard & Jan Mayen Islands', 'Serbia', 'Lebanon', 'Tajikistan', 'Tokelau', 'Comoros', 'Faroe Islands', 'Ireland', 'Ukraine', 'Mayotte', 'South Georgia and the South Sandwich Islands', 'Samoa', 'Maldives', 'Syrian Arab Republic', 'Norway', 'Botswana', 'Austria', 'Sao Tome and Principe', 'Congo', 'Ethiopia', 'Hungary', 'Iceland', 'Liberia', 'Gibraltar', 'Syrian Arab Republic', 'Brazil', 'Peru', 'Mali', 'Turkey', 'Congo', 'Serbia', 'Guinea-Bissau', 'Kyrgyz Republic', 'Malawi', 'Trinidad and Tobago', 'Montenegro', 'Solomon Islands', 'Maldives', 'Solomon Islands', 'Congo', 'Ecuador', 'Turks and Caicos Islands', 'Dominican Republic', 'Nepal', 'Saudi Arabia', 'Palau', 'Egypt', 'Peru', 'Paraguay', 'Denmark', 'Lesotho', 'Guadeloupe', 'Azerbaijan', 'Bulgaria', 'Burkina Faso', 'Azerbaijan', 'Swaziland', 'Oman', 'El Salvador', 'United Kingdom', 'Gabon', 'Sweden', 'Seychelles', 'Vietnam', 'Samoa', 'Burkina Faso', 'Myanmar', 'Kenya', 'Tonga', 'Mongolia', 'Liechtenstein', 'Panama', 'Congo', 'Turkmenistan', 'Uganda', 'Tonga', 'Nauru', 'Italy', 'South Africa', 'Luxembourg', 'Uruguay', 'British Indian Ocean Territory (Chagos Archipelago)', 'Kenya', 'Vietnam', 'Ukraine', 'Benin', 'Pitcairn Islands', 'Oman', 'Vietnam', 'Macao', 'Somalia', 'El Salvador', 'Hungary', 'Guatemala', 'Syrian Arab Republic', 'Jamaica', 'Australia', 'Guatemala', 'Greenland', 'Pitcairn Islands', 'Argentina', 'Reunion', 'Iceland', 'Romania', 'Belgium', 'Samoa', 'British Indian Ocean Territory (Chagos Archipelago)', 'Morocco', 'India', 'Nigeria', 'Qatar', 'Swaziland', 'New Caledonia', 'Barbados', 'Turks and Caicos Islands', 'United States Minor Outlying Islands', 'Saint Barthelemy', 'Tuvalu', 'Saint Kitts and Nevis', 'Lebanon', 'Austria', 'Hong Kong', 'Monaco', 'Mozambique', 'Slovakia (Slovak Republic)', 'Congo', 'Dominican Republic', \"Cote d'Ivoire\", 'Belarus', 'United States Minor Outlying Islands', 'Czech Republic', 'Hong Kong', 'Yemen', 'Colombia', 'Estonia', 'India', 'Tanzania', 'British Indian Ocean Territory (Chagos Archipelago)', 'Iceland', 'Greenland', 'Cocos (Keeling) Islands', 'Iraq', 'Montenegro', 'Saint Barthelemy', 'Botswana', 'Central African Republic', 'French Polynesia', 'Oman', 'Yemen', 'New Zealand', 'Rwanda', 'Martinique', 'Georgia', 'Tonga', 'Armenia', 'United Arab Emirates', 'Iran', 'Nigeria', 'Saint Kitts and Nevis', 'Papua New Guinea', 'Palau', 'Greenland', 'Cape Verde', 'Greece', 'Tajikistan', 'Guadeloupe', 'Kazakhstan', 'United Arab Emirates', 'Estonia', 'Nicaragua', 'Azerbaijan', 'Saint Kitts and Nevis', 'Pakistan', 'Turks and Caicos Islands', 'Togo', 'Afghanistan', 'Colombia', 'Jersey', 'Denmark', 'Cape Verde', 'Libyan Arab Jamahiriya', 'Japan', 'Sudan', 'Kazakhstan', 'Saint Pierre and Miquelon', 'Trinidad and Tobago', 'Djibouti', 'Sudan', 'Malaysia', 'Iraq', 'Sri Lanka', 'Marshall Islands', 'Guadeloupe', 'Papua New Guinea', 'Korea', 'Eritrea', 'Korea', 'Azerbaijan', 'Tokelau', 'Slovenia', 'Chile', 'Gambia', 'Serbia', 'Macao', 'Wallis and Futuna', 'Saudi Arabia', 'Liechtenstein', 'India', 'Aruba', 'South Georgia and the South Sandwich Islands', 'Slovakia (Slovak Republic)', 'Dominican Republic', 'Denmark', \"Cote d'Ivoire\", 'Uganda', 'Malawi', 'Pitcairn Islands', 'Cook Islands', 'Yemen', 'Sierra Leone', 'Turkey', 'Central African Republic', 'Antigua and Barbuda', 'Pakistan', 'Croatia', 'Solomon Islands', 'Georgia', 'Malta', 'Korea', 'Botswana', 'Comoros', 'Estonia', 'South Africa', 'Bangladesh', 'South Georgia and the South Sandwich Islands', 'Saint Pierre and Miquelon', 'Croatia', 'Greenland', 'Bhutan', 'Tonga', 'Namibia', 'Comoros', 'Romania', 'Norfolk Island', 'Albania', 'Italy', 'France', 'Palestinian Territory', 'Guyana', 'Libyan Arab Jamahiriya', 'Puerto Rico', 'Western Sahara', 'Kazakhstan', 'Wallis and Futuna', 'Slovenia', 'Falkland Islands (Malvinas)', 'Turkey', 'Sudan', 'Aruba', 'Spain', 'Papua New Guinea', 'Bouvet Island (Bouvetoya)', 'Hong Kong', 'Kazakhstan', 'Ukraine', 'Cameroon', 'Pakistan', 'Colombia', 'Norway', 'Sri Lanka', 'Nauru', 'Ghana', 'Guatemala', 'Iceland', 'Falkland Islands (Malvinas)', 'Tajikistan', 'Aruba', 'Niger', 'United States Virgin Islands', 'Cyprus', 'South Georgia and the South Sandwich Islands', 'Russian Federation', 'Grenada', 'Cambodia', 'North Macedonia', 'Grenada', 'Cyprus', 'Lesotho', 'Slovenia', 'New Zealand', 'Tanzania', 'Hong Kong', 'Holy See (Vatican City State)', 'Faroe Islands', 'Costa Rica', 'Bosnia and Herzegovina', 'United Kingdom', 'Ghana', 'Marshall Islands', 'Chile', 'Haiti', 'Chile', 'Korea', 'Pakistan', 'Ukraine', 'Trinidad and Tobago', 'Venezuela', 'Portugal', 'Jordan', 'Croatia', 'Madagascar', 'Malaysia', 'Venezuela', 'Venezuela', 'Sudan', 'Mali', 'Poland', 'Haiti', 'Heard Island and McDonald Islands', 'Malaysia', 'Aruba', 'Kenya', 'Georgia', 'Bahamas', 'Mexico', 'Bhutan', 'Netherlands Antilles', \"Lao People's Democratic Republic\", 'French Polynesia', 'Lebanon', 'Moldova', 'Montenegro', 'Bahamas', 'Northern Mariana Islands', 'Cyprus', 'Ecuador', 'Thailand', 'United States of America', 'Armenia', 'Equatorial Guinea', 'Bermuda', 'Martinique', 'Japan', 'Cyprus', 'Congo', 'Costa Rica', 'Netherlands Antilles', 'Iceland', 'Libyan Arab Jamahiriya', 'Serbia', 'Korea', 'Solomon Islands', 'Bosnia and Herzegovina', 'Uzbekistan', 'Italy', 'Djibouti', 'Cook Islands', 'Philippines', 'Niue', 'Svalbard & Jan Mayen Islands', 'Swaziland', 'Iran', 'Anguilla', 'Norfolk Island', 'Libyan Arab Jamahiriya', 'New Zealand', 'Kazakhstan', 'United States Virgin Islands', 'Iceland', 'Moldova', 'Bahrain', 'Equatorial Guinea', 'Romania', 'Thailand', 'Montenegro', 'Panama', 'Nepal', 'Holy See (Vatican City State)', 'Sierra Leone', 'Congo', 'Morocco', 'Barbados', 'Guernsey', 'El Salvador', 'France', 'Haiti', 'Nauru', 'Saint Vincent and the Grenadines', \"Cote d'Ivoire\", 'Maldives', 'Brazil', 'Falkland Islands (Malvinas)', 'Sierra Leone', 'Isle of Man', 'Uganda', 'Togo', 'Afghanistan', 'Zambia', 'Guadeloupe', 'Malaysia', 'Solomon Islands', 'Yemen', 'Iraq', 'Denmark', 'Armenia', 'Syrian Arab Republic', 'Jordan', 'Madagascar', 'Bhutan', 'Burkina Faso', 'Haiti', 'Saint Martin', 'Faroe Islands', 'Slovakia (Slovak Republic)', 'Nauru', 'Sweden', 'Russian Federation', 'Antarctica (the territory South of 60 deg S)', 'Tuvalu', \"Lao People's Democratic Republic\", 'Lithuania', 'Honduras', 'Bahamas', 'Suriname', 'Dominica', 'Saint Lucia', 'United States Virgin Islands', 'Uzbekistan', 'Bangladesh', 'Falkland Islands (Malvinas)', 'Monaco', 'Palestinian Territory', 'Cocos (Keeling) Islands', 'Botswana', 'Algeria', 'Israel', 'French Guiana', 'Croatia', 'Hong Kong', 'Canada', 'Fiji', 'Rwanda', 'Malta', 'Portugal', 'Poland', 'United States of America', 'Guyana', 'Gabon', 'Tokelau', 'United States Virgin Islands', 'Pitcairn Islands', 'Central African Republic', 'Trinidad and Tobago', 'Macao', 'Ireland', 'Congo', 'Northern Mariana Islands', 'Indonesia', 'Turkey', 'Suriname', 'Italy', 'Cape Verde', 'Netherlands', 'Ireland', 'Greece', 'Mozambique', 'Micronesia', 'Jersey', 'Dominican Republic', 'Armenia', 'Christmas Island', 'Belgium', 'Guyana', 'French Polynesia', 'Syrian Arab Republic', 'United Kingdom', 'Zimbabwe', 'Kazakhstan', 'French Polynesia', 'Slovakia (Slovak Republic)', 'Monaco', 'Bahamas', 'Cuba', 'Bouvet Island (Bouvetoya)', 'Palau', 'Cameroon', 'Montserrat', 'Somalia', 'Moldova', 'Chad', 'Ecuador', 'Uruguay', 'Hungary', 'Niger', 'Serbia', 'Denmark', 'Mexico', 'Norway', 'Equatorial Guinea', 'Saint Vincent and the Grenadines', 'Guyana', 'Brunei Darussalam', 'United States Minor Outlying Islands', 'Gambia', 'American Samoa', 'Vanuatu', 'Kazakhstan', 'Senegal', 'United States Minor Outlying Islands', 'Oman', 'Israel', 'Netherlands', 'Burundi', 'Saint Barthelemy', 'Korea', 'Congo', 'United States Virgin Islands', 'Macao', 'French Southern Territories', 'Qatar', 'Liberia', 'Brazil', 'Mozambique', 'Turkmenistan', 'Serbia', 'Jamaica', 'Cook Islands', 'Russian Federation', 'Falkland Islands (Malvinas)', 'Palau', 'Eritrea', 'Mali', 'Argentina', 'Afghanistan', 'Mali', 'Belize', 'Greenland', 'Mayotte', 'Georgia', 'Indonesia', 'Cyprus', 'Bouvet Island (Bouvetoya)', 'Bolivia', 'Solomon Islands', 'Bhutan', 'Trinidad and Tobago', 'United States Virgin Islands', 'Congo', 'Faroe Islands', 'Bhutan', 'Philippines', 'Wallis and Futuna', 'Vietnam', 'British Virgin Islands', 'Senegal', 'Ecuador', 'Iran', 'Cyprus', 'Syrian Arab Republic', 'Lebanon', 'Korea', 'Suriname', 'Bangladesh', 'Greenland', 'Iraq', 'British Indian Ocean Territory (Chagos Archipelago)', 'Yemen', 'Liberia', 'Norfolk Island', 'Lithuania', 'Palau', 'Palestinian Territory', 'Suriname', 'Azerbaijan', 'Namibia', 'Falkland Islands (Malvinas)', 'Solomon Islands', 'Mauritius', 'Uzbekistan', 'Hong Kong', 'Namibia', 'Bahrain', 'Peru', 'Bosnia and Herzegovina', 'Dominican Republic', 'Tanzania', 'Uganda', 'Czech Republic', 'Vietnam', 'Antigua and Barbuda', 'Georgia', 'Brazil', 'Kazakhstan', 'New Zealand', 'Nauru', 'New Caledonia', 'Indonesia', 'Chad', 'Tuvalu', 'Botswana', 'Guyana', 'Burkina Faso', 'Mexico', 'Cook Islands', 'New Caledonia', 'Austria', 'Iran', 'Antarctica (the territory South of 60 deg S)', 'Antigua and Barbuda', 'Niger', 'Latvia', 'Tuvalu', 'Guernsey', 'Guatemala', 'Hong Kong', 'Niue', 'Cook Islands', 'Turkmenistan', 'South Georgia and the South Sandwich Islands', 'Malaysia', 'Mozambique', 'Seychelles', 'Romania', 'United Arab Emirates', 'Heard Island and McDonald Islands', 'Kuwait', 'Bulgaria', 'Puerto Rico', 'Bangladesh', 'Barbados', 'Saudi Arabia', 'Heard Island and McDonald Islands', 'Burkina Faso', 'Kazakhstan', 'Jamaica', 'Northern Mariana Islands', 'Portugal', 'New Zealand', 'Anguilla', 'United Arab Emirates', 'San Marino', 'Angola', 'Libyan Arab Jamahiriya', 'Cameroon', 'Mauritius', 'Ireland', 'South Georgia and the South Sandwich Islands', 'Uzbekistan', 'Saudi Arabia', 'Nigeria', 'United Kingdom', 'Poland', 'Malawi', 'Swaziland', 'El Salvador', 'Slovenia', 'Christmas Island', 'Uzbekistan', 'Singapore', 'Svalbard & Jan Mayen Islands', 'Saudi Arabia', 'Finland', 'Jordan', 'Mexico', 'Heard Island and McDonald Islands', 'Croatia', 'Palau', 'Senegal', 'French Guiana', 'Chad', 'Tokelau', 'Somalia', 'Cyprus', 'Congo', 'Zimbabwe', 'United Kingdom', 'Paraguay', 'Iceland', 'Sweden', 'Uzbekistan', 'Turkey', 'South Georgia and the South Sandwich Islands', 'Monaco', 'Costa Rica', 'Comoros', \"Lao People's Democratic Republic\", 'New Caledonia', 'Panama', 'Azerbaijan', 'Western Sahara', 'Libyan Arab Jamahiriya', 'Nigeria', 'Saint Lucia', 'Cook Islands', 'Turkey', 'Antarctica (the territory South of 60 deg S)', 'Dominica', 'Faroe Islands', 'Bahamas', 'Luxembourg', 'Bahamas', 'Zimbabwe', 'Western Sahara', 'Paraguay', 'Estonia', 'Honduras', 'American Samoa', 'Japan', 'Brazil', 'Costa Rica', 'Panama', 'Netherlands Antilles', 'Cuba', 'Norfolk Island', 'Nigeria', 'Slovakia (Slovak Republic)', 'Angola', 'Comoros', 'Malaysia', 'Chad', 'Guinea-Bissau', 'Syrian Arab Republic', 'Uruguay', \"Lao People's Democratic Republic\", 'Norway', 'Costa Rica', 'Mauritania', 'Vanuatu', 'Portugal', 'Saint Martin', 'Sweden', 'Norway', 'Slovenia', 'Kuwait', 'Martinique', 'Sao Tome and Principe', 'Monaco', 'Tanzania', 'Luxembourg', 'Guyana', 'Mongolia', 'Bermuda', 'Philippines', 'Pitcairn Islands', 'Guernsey', 'Norfolk Island', 'Lesotho', 'Central African Republic', 'Cayman Islands', 'Kenya', 'Ireland', 'Thailand', 'Botswana', 'Venezuela', 'Central African Republic', 'Oman', 'Faroe Islands', 'Honduras', 'Togo', 'Trinidad and Tobago', 'Cocos (Keeling) Islands', 'Canada', 'Argentina', 'Guinea', 'Belize', 'Libyan Arab Jamahiriya', 'Botswana', 'Portugal', 'Israel', 'Poland', 'Cambodia', 'Benin', 'Ecuador', 'Afghanistan', 'Pakistan', 'Liechtenstein', 'United States of America', 'Bermuda', 'Tajikistan', 'Morocco', 'Mauritius', 'Guadeloupe', 'Namibia', 'Chile', 'Saint Vincent and the Grenadines', 'Zambia', 'Togo', 'Bolivia', 'Niger', 'Germany', 'Nigeria', 'United Arab Emirates', 'Andorra', 'Guyana', 'Saint Helena', 'Germany', 'Bolivia', 'Montserrat', 'South Georgia and the South Sandwich Islands', 'Nigeria', 'Peru', 'United States Virgin Islands', 'Norway', 'Cayman Islands', 'Burkina Faso', 'Bulgaria', 'Chad', 'North Macedonia', 'Turkmenistan', 'Paraguay', 'Guadeloupe', 'Gabon', 'Turks and Caicos Islands', 'Brazil', 'Greece', 'Turkey', 'Yemen', 'Turkey', 'Maldives', 'Saint Barthelemy', 'Cambodia', 'Finland', 'Namibia', 'Qatar', 'Ireland', 'Dominican Republic', 'Vanuatu', 'Saint Martin', 'Solomon Islands', 'Guam', 'Palau', 'Norway', 'Luxembourg', 'Tokelau', 'Oman', 'Niger', 'Liechtenstein', 'Switzerland', 'Taiwan', 'North Macedonia', 'Denmark', 'Saint Pierre and Miquelon', \"Cote d'Ivoire\", 'Palestinian Territory', 'Bahrain', 'Sierra Leone', 'Saint Kitts and Nevis', 'Estonia', 'Morocco', 'Malaysia', 'Wallis and Futuna', 'Fiji', 'Djibouti', 'Papua New Guinea', 'British Indian Ocean Territory (Chagos Archipelago)', 'Poland', 'Greece', 'Svalbard & Jan Mayen Islands', 'Colombia', 'Madagascar', 'Romania', 'Israel', 'Solomon Islands', 'Andorra', 'Guinea', 'Solomon Islands', 'Greenland', 'United States of America', 'Lithuania', 'Uzbekistan', 'Antarctica (the territory South of 60 deg S)', 'Morocco', 'Maldives', 'Saint Pierre and Miquelon', 'Congo', 'Niue', 'South Africa', 'Gabon', 'Venezuela', 'Zimbabwe', 'Uganda', 'Iceland', 'Belize', 'Heard Island and McDonald Islands', 'Sri Lanka', 'Croatia', 'Angola', 'Germany', 'Indonesia', 'Guinea-Bissau', 'Pakistan', 'Spain', 'Greenland', 'Vanuatu', 'Heard Island and McDonald Islands', 'Yemen', 'Benin', 'Solomon Islands', 'Senegal', 'Nepal', 'Senegal', 'Morocco', 'Lithuania', 'Kyrgyz Republic', 'Mauritania', 'Pakistan', 'Jamaica', 'Australia', 'Montserrat', 'Ukraine', 'Comoros', 'Iran', 'Switzerland', 'Australia', 'Andorra', 'Cape Verde', 'Japan', 'Panama', 'Niue', 'San Marino', 'Guyana', 'Myanmar', 'Serbia', 'Mongolia', 'Netherlands', 'Barbados', 'Yemen', 'Djibouti', 'Norway', 'Saudi Arabia', 'Ethiopia', 'Cape Verde', 'Malawi', 'Northern Mariana Islands', 'Liberia', 'Portugal', 'Nigeria', 'Eritrea', 'Lithuania', 'Netherlands', 'Kazakhstan', 'San Marino', \"Lao People's Democratic Republic\", 'Nepal', 'Korea', 'Taiwan', 'Belarus', 'Antigua and Barbuda', 'Guatemala', 'Bhutan', 'Czech Republic', 'Wallis and Futuna', 'Congo', 'Western Sahara', 'San Marino', 'Botswana', 'Saint Helena', 'Latvia', 'Bahrain', 'Sweden', 'Armenia', 'Costa Rica', 'Turkmenistan', 'Burkina Faso', 'Uruguay', 'Spain', 'Sweden', 'Samoa', 'Brazil', 'Iceland', 'Bhutan', 'Spain', 'Kenya', 'United Kingdom', 'South Africa', 'Benin', 'Nauru', 'Bermuda', 'Portugal', 'Kazakhstan', 'Saudi Arabia', 'Jordan', 'Heard Island and McDonald Islands', 'Eritrea', 'Saint Martin', 'Bulgaria', 'Indonesia', 'Cook Islands', 'Russian Federation', 'Saint Lucia', 'Venezuela', 'Eritrea', 'San Marino', 'Azerbaijan', 'Central African Republic', 'Djibouti', 'Liechtenstein', 'French Guiana', 'Mali', 'Guernsey', 'Honduras', 'Luxembourg', 'Cayman Islands', 'Rwanda', 'Indonesia', 'Bosnia and Herzegovina', 'Iceland', 'Guinea', 'Thailand', 'Uganda', 'Macao', 'Netherlands Antilles', 'Chad', 'San Marino', 'Bahamas', 'Micronesia', 'Trinidad and Tobago', 'Niger', 'Libyan Arab Jamahiriya', 'India', 'Samoa', 'Equatorial Guinea', 'Hungary', 'Latvia', 'Mongolia', 'Jersey', 'Libyan Arab Jamahiriya', 'Western Sahara', 'Denmark', 'Mauritania', 'Guatemala', 'Swaziland', 'Mozambique', 'India', 'Antigua and Barbuda', 'Chad', 'Indonesia', 'French Polynesia', 'Norfolk Island', 'Belize', 'New Caledonia', 'Yemen', 'Georgia', 'Libyan Arab Jamahiriya', 'Cambodia', 'Djibouti', 'Egypt', 'Slovenia', 'Uganda', 'Panama', \"Cote d'Ivoire\", 'Seychelles', 'Serbia', 'Turks and Caicos Islands', 'Morocco', 'Slovenia', 'Serbia', 'Brazil', 'Afghanistan', 'Cuba', 'Tonga', 'Jersey', 'Holy See (Vatican City State)', 'Antarctica (the territory South of 60 deg S)', 'Austria', 'Costa Rica', 'Bhutan', 'Andorra', 'Algeria', 'Indonesia', 'Italy', 'Mauritania', 'Togo', 'Tonga', 'Cambodia', 'Lesotho', 'Pakistan', 'Western Sahara', 'Moldova', 'Slovenia', 'Somalia', 'American Samoa', 'Israel', 'Hong Kong', 'Argentina', 'Anguilla', 'Yemen', 'Singapore', 'Ecuador', 'Greece', 'Kuwait', 'Saint Martin', 'Kyrgyz Republic', 'Wallis and Futuna', 'Grenada', 'New Zealand', 'Portugal', 'Venezuela', 'Philippines', 'Denmark', 'Cape Verde', 'Venezuela', 'British Indian Ocean Territory (Chagos Archipelago)', 'Argentina', 'Mauritania', 'Barbados', 'Kuwait', 'Pakistan', 'Uzbekistan', 'Argentina', 'Spain', 'South Africa', 'Burkina Faso', 'Timor-Leste', 'Malaysia', 'Mexico', 'Mauritania', 'Eritrea', 'Niger', 'New Caledonia', 'Jamaica', 'Nauru', 'British Indian Ocean Territory (Chagos Archipelago)', 'Austria', 'Egypt', 'Saint Vincent and the Grenadines', 'Sao Tome and Principe', 'Kuwait', 'Kuwait', 'Japan', 'Canada', 'Puerto Rico', 'Saint Martin', 'Qatar', 'Turks and Caicos Islands', 'Netherlands', 'Cape Verde', 'Honduras', 'Malawi', 'Zambia', 'Algeria', 'Wallis and Futuna', 'Antarctica (the territory South of 60 deg S)', 'China', 'Oman', 'Saint Kitts and Nevis', 'Botswana', 'Iran', 'Hong Kong', 'Ukraine', 'Mexico', 'Falkland Islands (Malvinas)', 'Netherlands', 'Andorra', 'Equatorial Guinea', 'Cayman Islands', 'Finland', 'Jamaica', 'Iran', 'Israel', 'Czech Republic', 'Switzerland', 'Oman', 'Afghanistan', 'French Guiana', 'Hong Kong', 'Zambia', 'Slovakia (Slovak Republic)', 'Switzerland', 'Korea', 'New Caledonia', 'Ireland', 'Reunion', 'Bosnia and Herzegovina', 'Timor-Leste', 'Yemen', 'Mexico', 'Equatorial Guinea', 'Micronesia', 'United States Minor Outlying Islands', 'Dominica', 'Iraq', 'Western Sahara', 'United States of America', 'Zimbabwe', 'Bulgaria', 'Wallis and Futuna', 'Senegal', 'Chad', 'Canada', 'Mayotte', 'Namibia', 'Netherlands', 'Liberia', 'Cayman Islands', 'Sao Tome and Principe', 'Albania', 'Tanzania', 'Algeria', 'Saint Kitts and Nevis', 'Austria', 'Ukraine', 'Poland', 'Moldova', 'Ukraine', 'British Virgin Islands', 'Solomon Islands', 'Taiwan', 'Congo', 'Algeria', 'Bulgaria', 'Kazakhstan', 'Belgium', 'Rwanda', 'Saint Helena', 'Sweden', 'Liberia', 'Burkina Faso', 'Grenada', 'Uganda', 'Cayman Islands', 'Fiji', 'Canada', 'South Africa', 'Tajikistan', 'Cyprus', 'Benin', 'Azerbaijan', 'Norway', 'Solomon Islands', 'Tunisia', 'Slovakia (Slovak Republic)', 'Mauritania', 'Italy', 'Bosnia and Herzegovina', 'Jordan', 'Samoa', 'China', 'Thailand', 'Slovakia (Slovak Republic)', 'Mali', 'Anguilla', 'New Caledonia', 'Puerto Rico', 'Australia', 'Nauru', 'Bahamas', 'Serbia', 'Cape Verde', 'Mongolia', 'United States of America', 'Heard Island and McDonald Islands', 'Northern Mariana Islands', 'New Zealand', 'Lithuania', 'Turks and Caicos Islands', 'Falkland Islands (Malvinas)', 'Maldives', 'Eritrea', 'Haiti', 'El Salvador', 'French Polynesia', 'Suriname', 'Vanuatu', 'Uzbekistan', 'Portugal', \"Cote d'Ivoire\", 'Denmark', 'Kenya', 'Azerbaijan', 'Korea', 'Montenegro', 'Paraguay', 'Timor-Leste', 'Kenya', 'Mexico', 'Thailand', 'Liechtenstein', 'Tuvalu', 'Liechtenstein', 'Cape Verde', 'Ireland', 'Niue', 'Oman', 'Yemen', 'Saint Helena', 'Russian Federation', 'Burundi', 'Syrian Arab Republic', 'Barbados', 'Albania', 'Bangladesh', 'Mali', 'France', 'Guadeloupe', 'Trinidad and Tobago', 'Puerto Rico', 'North Macedonia', 'Norway', 'Slovakia (Slovak Republic)', 'Japan', 'Grenada', 'China', 'Saudi Arabia', 'British Virgin Islands', 'Ukraine', 'Sweden', 'Hong Kong', 'Poland', 'North Macedonia', 'Greenland', 'Panama', 'Faroe Islands', 'Kiribati', 'Niue', 'Bangladesh', \"Cote d'Ivoire\", 'Malaysia', 'Pakistan', 'Iceland', 'Qatar', 'Tajikistan', 'Cambodia', 'Tanzania', 'Mauritius', 'Guinea', 'Albania', 'Vanuatu', 'Holy See (Vatican City State)', 'Turks and Caicos Islands', 'Puerto Rico', 'Cyprus', 'Pakistan', 'Saint Pierre and Miquelon', 'Norway', 'Uganda', 'Eritrea', 'Ghana', 'Holy See (Vatican City State)', 'Guernsey', 'Andorra', 'Ghana', 'Palau', 'Denmark', 'Marshall Islands', 'Seychelles', 'Uzbekistan', 'Barbados', 'Togo', 'Mauritius', 'United Arab Emirates', 'Sweden', 'Gabon', 'Vanuatu', 'Mozambique', 'French Polynesia', 'Cambodia', 'Slovakia (Slovak Republic)', 'Maldives', 'Suriname', 'Bouvet Island (Bouvetoya)', 'Nicaragua', 'United States Virgin Islands', 'Austria', 'Honduras', 'Aruba', 'Falkland Islands (Malvinas)', 'United States Virgin Islands', 'United States Minor Outlying Islands', 'El Salvador', 'Libyan Arab Jamahiriya', 'Yemen', 'Myanmar', 'Singapore', 'Reunion', 'Canada', 'Liechtenstein', 'Sri Lanka', 'Montenegro', 'Guyana', 'Sudan', 'Guatemala', 'Northern Mariana Islands', 'American Samoa', 'Croatia', 'Albania', 'Niue', 'Reunion', 'United Kingdom', 'Svalbard & Jan Mayen Islands', 'Puerto Rico', 'Ecuador', 'Cocos (Keeling) Islands', 'El Salvador', 'Mozambique', 'Jersey', 'Cape Verde', 'Luxembourg', 'Botswana', 'Yemen', 'Bahrain', 'Wallis and Futuna', 'Belgium', 'Micronesia', 'Papua New Guinea', 'Luxembourg', 'Vanuatu', 'Anguilla', 'North Macedonia', 'Palau', 'Montserrat', 'Kyrgyz Republic', 'Bangladesh', 'Hungary', 'Congo', 'Montserrat', 'Bouvet Island (Bouvetoya)', 'Holy See (Vatican City State)', 'Canada', 'Sudan', 'United Kingdom', 'Cambodia', 'Singapore', 'Puerto Rico', 'Syrian Arab Republic', 'Kyrgyz Republic', 'Saint Lucia', \"Cote d'Ivoire\", 'Guatemala', 'Sri Lanka', 'Holy See (Vatican City State)', 'Czech Republic', 'Faroe Islands', 'Vietnam', 'Saint Barthelemy', 'Mauritania', 'Puerto Rico', 'Cook Islands', 'Italy', 'El Salvador', 'Palestinian Territory', 'Slovenia', 'Brazil', 'Jersey', 'New Zealand', 'Burkina Faso', 'Central African Republic', 'Paraguay', 'Japan', 'Norway', 'Saint Lucia', \"Cote d'Ivoire\", 'Iran', 'Moldova', 'Iceland', 'Azerbaijan', 'South Georgia and the South Sandwich Islands', 'Guinea-Bissau', 'Oman', 'Palau', 'French Southern Territories', 'South Georgia and the South Sandwich Islands', 'Finland', 'Tonga', 'Taiwan', 'Brunei Darussalam', 'Cuba', 'North Macedonia', 'Swaziland', 'Venezuela', 'Kazakhstan', 'Norway', 'Sri Lanka', 'Senegal', 'Cape Verde', 'Afghanistan', 'Lebanon', 'Liechtenstein', 'Tunisia', 'Malaysia', 'Norway', 'Korea', 'Australia', 'Panama', 'Greenland', 'Martinique', 'Singapore', 'Malta', 'Fiji', 'Bosnia and Herzegovina', 'Suriname', 'Mauritius', 'United Kingdom', 'Faroe Islands', 'Saudi Arabia', 'Eritrea', 'Taiwan', 'Pitcairn Islands', 'Spain', 'Antigua and Barbuda', 'Guadeloupe', 'Brazil', 'Thailand', 'French Polynesia', 'Finland', 'Montserrat', 'El Salvador', 'Saint Martin', 'American Samoa', 'Lebanon', 'Nigeria', 'Kiribati', 'Gibraltar', 'Sao Tome and Principe', 'Guinea-Bissau', 'Colombia', 'Mayotte', 'Latvia', 'Tajikistan', 'Bosnia and Herzegovina', 'Yemen', 'Chile', 'Mayotte', 'Montserrat', 'Turkey', 'Lesotho', 'Marshall Islands', 'Congo', 'Afghanistan', 'Azerbaijan', 'United Arab Emirates', 'Cocos (Keeling) Islands', 'Malta', 'Netherlands', 'Greece', 'Svalbard & Jan Mayen Islands', 'French Polynesia', 'Nicaragua', 'Brunei Darussalam', 'Netherlands', 'Jamaica', 'Guadeloupe', 'Saint Kitts and Nevis', 'Ukraine', 'Belize', 'Netherlands', 'Montenegro', 'Niue', 'Samoa', 'Liechtenstein', 'Palestinian Territory', 'Christmas Island', 'Cyprus', 'American Samoa', 'China', 'Libyan Arab Jamahiriya', 'Congo', 'British Indian Ocean Territory (Chagos Archipelago)', 'Greenland', 'Timor-Leste', 'Isle of Man', 'Australia', 'Chile', 'Iraq', 'Puerto Rico', 'French Guiana', 'Western Sahara', 'Nauru', 'Turkmenistan', 'Tanzania', 'Mexico', 'Guinea-Bissau', 'China', 'Canada', 'Honduras', 'Chile', 'Zimbabwe', 'Congo', 'Tonga', 'Congo', 'Barbados', 'Iceland', 'Sierra Leone', 'Madagascar', 'Korea', 'Isle of Man', 'Oman', 'British Indian Ocean Territory (Chagos Archipelago)', 'United Kingdom', 'Congo', 'France', 'Guam', 'Seychelles', 'Moldova', 'Lesotho', 'Vietnam', 'Bolivia', 'Israel', 'San Marino', 'Denmark', 'Italy', 'Somalia', 'United Arab Emirates', 'Niue', 'South Africa', 'Barbados', 'Egypt', 'Wallis and Futuna', 'United States Virgin Islands', 'Myanmar', 'Comoros', 'Faroe Islands', 'Costa Rica', \"Lao People's Democratic Republic\", 'Guam', 'Jersey', 'Pitcairn Islands', 'Timor-Leste', 'France', 'North Macedonia', 'Algeria', 'Latvia', 'Bolivia', 'Venezuela', 'Togo', 'Lesotho', 'Israel', 'Kenya', 'Hong Kong', 'Bouvet Island (Bouvetoya)', 'Antigua and Barbuda', 'Belarus', 'Burkina Faso', 'Dominica', 'Iran', 'United States Minor Outlying Islands', 'Tajikistan', 'United States of America', 'Tokelau', 'Brazil', 'Lebanon', 'Morocco', 'Ireland', 'Mali', 'United Kingdom', 'Brunei Darussalam', 'Sao Tome and Principe', 'Bahamas', 'San Marino', 'Anguilla', 'Nicaragua', 'India', 'Cyprus', 'Mali', 'Czech Republic', 'Ghana', 'Barbados', 'French Polynesia', 'Iran', 'Ireland', 'Tonga', 'Holy See (Vatican City State)', 'Algeria', 'Denmark', 'United Kingdom', 'Turkmenistan', 'Cape Verde', 'Nicaragua', 'Guadeloupe', 'Saint Kitts and Nevis', 'Pakistan', 'Chad', 'Saint Kitts and Nevis', 'Liberia', 'Lithuania', 'Italy', 'Yemen', 'Poland', 'South Africa', 'Russian Federation', 'Ghana', 'Seychelles', 'Singapore', 'Japan', 'Gabon', 'United States Minor Outlying Islands', 'Maldives', 'Madagascar', 'Rwanda', 'Papua New Guinea', 'Tajikistan', 'Gabon', 'Saint Vincent and the Grenadines', 'Belgium', 'Madagascar', 'Luxembourg', 'Armenia', 'Chile', 'Micronesia', 'Switzerland', 'Belize', 'Benin', 'Dominica', 'Georgia', 'Heard Island and McDonald Islands', 'Antarctica (the territory South of 60 deg S)', 'Bhutan', 'French Southern Territories', 'Madagascar', 'Guatemala', 'Gabon', 'Afghanistan', 'Palestinian Territory', 'Bhutan', 'Czech Republic', 'Saint Vincent and the Grenadines', 'Guernsey', 'Pitcairn Islands', 'Hungary', 'British Indian Ocean Territory (Chagos Archipelago)', 'Zambia', 'Kazakhstan', 'Martinique', 'Central African Republic', 'Yemen', 'Comoros', 'Cape Verde', 'Seychelles', 'Madagascar', 'Andorra', 'Korea', 'Montserrat', 'Guadeloupe', 'Israel', 'Armenia', 'Iceland', 'Ghana', 'Brazil', 'Spain', 'Paraguay', 'Timor-Leste', 'Andorra', 'Czech Republic', 'Israel', 'Tonga', 'South Georgia and the South Sandwich Islands', 'Libyan Arab Jamahiriya', 'Egypt', 'Pitcairn Islands', 'Monaco', 'Italy', 'Macao', 'Fiji', 'United States Virgin Islands', 'Trinidad and Tobago', 'Malaysia', 'Cyprus', 'Poland', 'Bermuda', 'Hungary', 'Switzerland', 'Saint Kitts and Nevis', 'Austria', 'Colombia', 'Mali', 'North Macedonia', 'Comoros', 'Algeria', 'Venezuela', 'Martinique', 'Barbados', 'Ireland', 'Afghanistan', 'Netherlands', 'Kazakhstan', 'Antigua and Barbuda', 'Brazil', 'Poland', 'Martinique', 'Holy See (Vatican City State)', 'Dominica', 'Argentina', 'Korea', 'Kazakhstan', 'Bosnia and Herzegovina', 'Gambia', 'Equatorial Guinea', 'Seychelles', 'Grenada', 'Cook Islands', 'Oman', 'British Virgin Islands', 'Gibraltar', 'North Macedonia', 'United States Virgin Islands', 'Israel', 'Vanuatu', 'Norfolk Island', 'Russian Federation', 'Latvia', 'United Kingdom', 'Nauru', 'Poland', 'Bermuda', 'Czech Republic', 'Lithuania', 'Swaziland', 'United States of America', 'Falkland Islands (Malvinas)', 'Marshall Islands', 'Cameroon', 'Peru', 'Serbia', 'French Polynesia', 'United Arab Emirates', 'Kazakhstan', 'Uganda', 'Afghanistan', 'Gibraltar', 'Lebanon', 'United States Virgin Islands', 'Lesotho', 'Western Sahara', 'Djibouti', 'Somalia', 'Bosnia and Herzegovina', 'Bolivia', 'Venezuela', 'Russian Federation', 'Jamaica', 'Macao', 'Cuba', 'Korea', 'Netherlands', 'Korea', 'Guyana', 'Turks and Caicos Islands', 'Turkmenistan', 'Greenland', 'Micronesia', 'New Caledonia', 'Lesotho', 'Guinea', 'Kazakhstan', 'Macao', 'Austria', 'Japan', 'Saint Martin', 'Bahrain', 'Chad', 'Maldives', 'Slovenia', 'Iceland', 'Sierra Leone', 'Equatorial Guinea', 'Montenegro', 'Hong Kong', 'Congo', 'Norway', 'Algeria', 'Spain', 'Libyan Arab Jamahiriya', 'Czech Republic', 'Egypt', 'Equatorial Guinea', 'Austria', 'Peru', 'Egypt', 'Vanuatu', 'Niue', 'Kiribati', 'North Macedonia', 'Mauritius', 'Congo', 'Morocco', 'Slovenia', 'Guadeloupe', 'Serbia', 'Ukraine', 'Botswana', 'Denmark', 'Sri Lanka', 'Togo', 'Congo', 'Colombia', 'Morocco', 'Afghanistan', 'Benin', 'Mayotte', 'Jordan', 'Niue', 'Montserrat', 'Czech Republic', 'Japan', 'Afghanistan', 'Bangladesh', 'Bangladesh', 'Iceland', 'Jordan', 'Venezuela', 'Kuwait', 'Central African Republic', 'Central African Republic', 'Wallis and Futuna', 'Wallis and Futuna', 'Panama', 'Turks and Caicos Islands', 'Jamaica', 'Antigua and Barbuda', 'Saint Barthelemy', 'Guernsey', 'Lesotho', 'Saint Vincent and the Grenadines', 'Rwanda', 'Ghana', 'Turkey', 'Guam', 'Luxembourg', 'Mauritania', 'Thailand', 'Western Sahara', 'Mexico', 'Norfolk Island', 'San Marino', 'Slovenia', 'British Virgin Islands', 'Iran', 'United States Minor Outlying Islands', 'Ghana', 'Antigua and Barbuda', 'United States of America', 'Spain', 'Cook Islands', 'Norway', 'Equatorial Guinea', 'Slovenia', 'Maldives', 'Faroe Islands', 'Maldives', 'Costa Rica', 'Saint Kitts and Nevis', 'Kazakhstan', 'Nigeria', 'Dominican Republic', 'Afghanistan', 'Cape Verde', 'Samoa', 'Argentina', 'Gabon', 'Heard Island and McDonald Islands', 'Andorra', 'Cook Islands', 'Spain', 'Liechtenstein', 'India', 'Greece', 'Canada', 'Puerto Rico', 'Tunisia', 'Haiti', 'Vanuatu', 'Turkey', 'French Polynesia', 'Maldives', 'Zimbabwe', 'Zimbabwe', 'United States of America', 'Argentina', 'French Guiana', 'Faroe Islands', 'Uzbekistan', 'Thailand', 'Faroe Islands', 'Zimbabwe', 'Congo', 'Panama', 'Nigeria', 'Cape Verde', 'Romania', 'Congo', 'Colombia', 'South Georgia and the South Sandwich Islands', 'Eritrea', 'Aruba', 'Djibouti', 'United States Virgin Islands', 'Chile', 'Korea', 'Azerbaijan', 'Saint Barthelemy', 'Bahamas', 'Antigua and Barbuda', 'Saint Martin', 'Belize', 'Dominica', 'Poland', 'Mozambique', 'Uganda', 'Tajikistan', 'Ecuador', 'Algeria', 'Guadeloupe', 'Myanmar', 'Gambia', 'Bosnia and Herzegovina', 'United States of America', 'Morocco', 'Bahrain', 'French Southern Territories', 'Congo', 'Greenland', 'Somalia', 'Kazakhstan', 'American Samoa', 'Malaysia', 'British Virgin Islands', 'Montserrat', 'Zimbabwe', 'Myanmar', 'France', 'United Kingdom', 'Antarctica (the territory South of 60 deg S)', 'Somalia', 'Syrian Arab Republic', 'Panama', 'Bolivia', 'Mexico', 'Azerbaijan', 'Mauritania', 'Guadeloupe', 'Slovakia (Slovak Republic)', 'Finland', 'New Zealand', 'Wallis and Futuna', 'Belize', 'Angola', 'Iraq', 'Isle of Man', 'Gabon', 'Holy See (Vatican City State)', 'Saint Kitts and Nevis', 'Lesotho', 'Zimbabwe', 'China', 'Japan', 'United Arab Emirates', 'Mozambique', 'French Southern Territories', 'Mongolia', 'Switzerland', 'Niue', 'Cambodia', 'Korea', 'Botswana', 'Macao', 'Georgia', 'Palestinian Territory', 'Christmas Island', 'French Guiana', 'Djibouti', 'French Guiana', 'Cuba', 'Wallis and Futuna', 'Antarctica (the territory South of 60 deg S)', 'Faroe Islands', 'Palestinian Territory', 'Cyprus', 'Saint Pierre and Miquelon', 'Equatorial Guinea', 'Togo', 'Greenland', 'Faroe Islands', 'Namibia', 'Jordan', 'Poland', 'Cayman Islands', 'Andorra', 'Senegal', 'Norway', 'Gambia', 'Australia', \"Lao People's Democratic Republic\", 'Falkland Islands (Malvinas)', 'Sweden', 'Fiji', 'Singapore', 'Tokelau', 'Madagascar', 'Estonia', 'Micronesia', 'Togo', 'Saint Kitts and Nevis', 'Thailand', 'United Arab Emirates', 'Poland', 'Dominican Republic', 'Kiribati', 'Papua New Guinea', 'Israel', 'Syrian Arab Republic', 'Nigeria', 'Saudi Arabia', 'Pitcairn Islands', 'Antarctica (the territory South of 60 deg S)', 'Moldova', 'Cameroon', 'Tunisia', 'Korea', 'Czech Republic', 'Vanuatu', 'Malaysia', 'Congo', 'Venezuela', 'Somalia', 'Tonga', 'Senegal', 'Ethiopia', 'Malawi', 'Bahamas', 'China', 'Burundi', 'Antigua and Barbuda', 'Angola', 'Moldova', 'Saudi Arabia', 'Croatia', 'Timor-Leste', 'Taiwan', 'Gabon', 'Tunisia', 'Congo', 'United States of America', 'British Virgin Islands', 'Singapore', 'Ukraine', 'Tunisia', 'Japan', 'Saint Kitts and Nevis', 'Tunisia', 'Eritrea', 'Svalbard & Jan Mayen Islands', 'France', 'Congo', 'Azerbaijan', 'Monaco', 'Gambia', 'Moldova', 'Guyana', 'India', 'Burkina Faso', 'Korea', 'United States of America', 'Eritrea', 'San Marino', 'Ireland', 'San Marino', 'Indonesia', 'Kyrgyz Republic', 'Bangladesh', 'Cape Verde', 'Germany', 'Turks and Caicos Islands', 'Nauru', 'Haiti', 'Albania', 'Papua New Guinea', 'Cuba', 'Turkey', 'American Samoa', 'British Indian Ocean Territory (Chagos Archipelago)', 'Ethiopia', 'Cocos (Keeling) Islands', 'Gabon', 'Egypt', 'Gambia', 'Thailand', 'Tunisia', 'Guernsey', 'Greenland', 'Paraguay', 'Montenegro', 'United States Minor Outlying Islands', 'Jordan', 'Antarctica (the territory South of 60 deg S)', 'Malta', 'Anguilla', 'India', 'Sri Lanka', 'Reunion', 'Northern Mariana Islands', 'Morocco', 'Burkina Faso', 'San Marino', 'Guatemala', 'San Marino', 'Myanmar', 'China', 'Qatar', 'Qatar', 'Slovenia', 'United States of America', 'South Africa', 'Swaziland', 'Slovenia', 'Nepal', 'Dominica', 'Ireland', 'Tonga', 'Romania', 'Benin', 'Guam', 'Palestinian Territory', 'United States of America', 'Ukraine', 'Australia', 'Brunei Darussalam', 'Benin', 'Estonia', 'Ghana', 'Falkland Islands (Malvinas)', 'Gabon', 'Mozambique', 'Macao', 'Nicaragua', 'Niue', 'Congo', 'Grenada', 'Burundi', 'Chile', 'Lithuania', 'Vanuatu', 'Marshall Islands', 'Iceland', 'Bangladesh', 'Gibraltar', 'Panama', 'Saint Lucia', 'Ireland', 'Mayotte', 'El Salvador', 'Moldova', 'Kenya', 'Paraguay', 'Puerto Rico', 'Nigeria', 'Guadeloupe', 'Argentina', 'Antigua and Barbuda', 'Gibraltar', 'Slovenia', 'South Georgia and the South Sandwich Islands', 'Syrian Arab Republic', 'Samoa', 'Palestinian Territory', 'British Indian Ocean Territory (Chagos Archipelago)', 'Liechtenstein', 'Cyprus', 'Germany', 'Zambia', \"Lao People's Democratic Republic\", 'Algeria', 'United States Minor Outlying Islands', 'Trinidad and Tobago', 'Solomon Islands', 'Costa Rica', 'El Salvador', 'Egypt', 'Serbia', 'Estonia', 'Vietnam', 'Mauritania', 'Austria', 'Cayman Islands', 'Montserrat', 'Bulgaria', 'United Arab Emirates', 'Belize', 'Brazil', 'Angola', 'Suriname', 'Belize', 'Saint Barthelemy', 'Kazakhstan', 'Bahamas', 'Costa Rica', 'Azerbaijan', 'Moldova', 'Azerbaijan', 'British Virgin Islands', 'Italy', 'Martinique', 'Guam', 'Iran', 'Guam', 'Equatorial Guinea', 'Spain', 'Antigua and Barbuda', 'Guatemala', 'Monaco', 'Italy', 'Samoa', 'Madagascar', 'Togo', 'Bolivia', 'Panama', 'Portugal', 'Micronesia', 'Malaysia', 'British Virgin Islands', 'Belarus', 'Antarctica (the territory South of 60 deg S)', 'Iceland', 'Guam', 'New Zealand', 'Qatar', 'Haiti', 'Puerto Rico', 'Grenada', 'Comoros', 'Azerbaijan', 'Holy See (Vatican City State)', 'Bolivia', 'Bermuda', 'Syrian Arab Republic', 'Saint Helena', 'Iraq', 'Sao Tome and Principe', 'Malaysia', 'British Virgin Islands', 'Greenland', 'French Guiana', 'Philippines', 'Mayotte', 'Vanuatu', 'Saint Barthelemy', 'Bermuda', 'Saudi Arabia', 'Gibraltar', 'American Samoa', 'United States of America', 'Haiti', 'Czech Republic', 'Singapore', 'Cocos (Keeling) Islands', 'Latvia', 'Germany', 'Aruba', 'Mozambique', 'French Polynesia', 'Hungary', 'New Zealand', 'Canada', 'Vanuatu', 'Ghana', 'United States Minor Outlying Islands', 'Ukraine', 'Belarus', 'Mauritania', 'Ghana', 'New Zealand', 'Bulgaria', 'Uzbekistan', 'Namibia', 'India', 'Central African Republic', 'Libyan Arab Jamahiriya', 'Andorra', 'Japan', 'Malaysia', 'Reunion', 'Argentina', 'Cambodia', 'Niger', 'Haiti', 'Montenegro', 'Egypt', 'Maldives', 'Northern Mariana Islands', 'Papua New Guinea', 'Indonesia', 'United Arab Emirates', 'Azerbaijan', 'Paraguay', 'Lithuania', 'Guatemala', 'Ghana', 'Papua New Guinea', 'Argentina', 'Heard Island and McDonald Islands', 'Poland', 'Niue', 'Falkland Islands (Malvinas)', 'Mayotte', 'Ghana', 'Mauritius', 'Central African Republic', 'New Zealand', 'Pakistan', 'Austria', 'New Caledonia', 'Djibouti', 'Singapore', 'French Polynesia', 'Montenegro', 'South Georgia and the South Sandwich Islands', 'Mongolia', 'Mauritius', 'Algeria', 'Central African Republic', 'Greece', 'Mali', 'Haiti', 'Somalia', 'Jersey', 'Slovakia (Slovak Republic)', 'Netherlands Antilles', 'Samoa', 'Bosnia and Herzegovina', 'Seychelles', 'Slovenia', 'Isle of Man', 'Congo', 'Finland', 'Canada', 'Kenya', 'Saint Lucia', 'United Arab Emirates', 'Bosnia and Herzegovina', 'Norfolk Island', 'Finland', 'Croatia', 'Netherlands Antilles', 'Philippines', 'Christmas Island', 'Eritrea', \"Lao People's Democratic Republic\", 'Guyana', 'Gabon', 'Guam', 'Trinidad and Tobago', 'Ghana', 'Kenya', 'Seychelles', 'Dominican Republic', 'Italy', 'Guinea-Bissau', 'Honduras', 'Czech Republic', 'United States Minor Outlying Islands', 'Iraq', 'Aruba', 'Nigeria', 'Iran', 'Andorra', 'Trinidad and Tobago', 'Liberia', 'Georgia', 'Isle of Man', 'Guinea-Bissau', 'Kyrgyz Republic', 'Saint Martin', 'Taiwan', 'United Kingdom', 'Trinidad and Tobago', 'Saint Helena', 'Mexico', 'Mali', 'Ireland', 'Saint Helena', 'Timor-Leste', 'Poland', 'Burkina Faso', 'Malawi', 'Bosnia and Herzegovina', 'Denmark', 'Swaziland', 'Zambia', 'Estonia', 'Lithuania', 'Belize', 'Mexico', 'Guadeloupe', 'Montenegro', 'Netherlands Antilles', 'Iraq', 'Cook Islands', 'Reunion', 'Mexico', 'Niue', 'Jordan', 'Vietnam', 'Ireland', 'Dominican Republic', 'Bulgaria', 'Cocos (Keeling) Islands', 'United States Virgin Islands', 'Hong Kong', 'Denmark', 'Finland', 'United States Virgin Islands', 'United Kingdom', 'French Guiana', 'Uzbekistan', 'Monaco', 'Portugal', 'Zambia', 'Bolivia', 'Martinique', 'Falkland Islands (Malvinas)', 'Niger', 'Singapore', 'Malta', 'India', 'Guyana', 'Saint Martin', \"Lao People's Democratic Republic\", 'Finland', 'France', 'Paraguay', 'Mongolia', 'Malawi', 'Austria', 'Paraguay', 'French Southern Territories', 'Mauritius', 'British Virgin Islands', 'Germany', 'Andorra', 'Denmark', 'Afghanistan', 'Lebanon', 'Equatorial Guinea', 'Andorra', 'Gambia', 'Libyan Arab Jamahiriya', 'Seychelles', 'Timor-Leste', 'Ghana', 'Sao Tome and Principe', 'Panama', 'Kyrgyz Republic', 'New Caledonia', 'Somalia', 'Sudan', 'Belize', 'Belize', 'Paraguay', 'India', 'British Virgin Islands', 'Thailand', 'Latvia', 'Bosnia and Herzegovina', 'Luxembourg', 'Venezuela', 'Malawi', 'Slovakia (Slovak Republic)', 'Niue', 'Armenia', 'Panama', 'Belize', 'United Kingdom', 'Liechtenstein', 'Nigeria', 'Niue', 'Guadeloupe', 'Kenya', 'Northern Mariana Islands', 'Sao Tome and Principe', 'Lesotho', 'Switzerland', 'Brazil', 'Bulgaria', 'Togo', 'South Georgia and the South Sandwich Islands', 'Czech Republic', 'Bolivia', 'Philippines', 'Macao', 'Germany', 'Saint Martin', 'Monaco', 'Northern Mariana Islands', 'Ethiopia', 'Madagascar', 'Mali', 'Korea', 'Estonia', 'Morocco', 'Israel', 'Sudan', 'Mozambique', 'Israel', 'Maldives', 'Guadeloupe', 'Serbia', 'Grenada', 'Montserrat', 'South Georgia and the South Sandwich Islands', 'El Salvador', 'New Zealand', 'Congo', 'Myanmar', 'Mauritius', 'United Arab Emirates', 'Fiji', 'Saint Lucia', 'Guam', 'Bulgaria', 'Botswana', 'Belgium', 'Isle of Man', 'Bahrain', 'Guyana', 'Serbia', 'Gibraltar', 'New Caledonia', 'Indonesia', 'Antarctica (the territory South of 60 deg S)', 'Saudi Arabia', 'Russian Federation', 'Cyprus', \"Lao People's Democratic Republic\", 'Taiwan', 'Uzbekistan', 'Poland', 'Dominica', 'Estonia', 'Kenya', 'Mozambique', 'Azerbaijan', 'Slovakia (Slovak Republic)', 'Iraq', 'Guyana', 'French Guiana', 'Bahamas', 'Gambia', 'Bermuda', 'Guadeloupe', 'Pitcairn Islands', 'Congo', 'Mongolia', 'Congo', 'Algeria', 'Tajikistan', 'Guinea', 'Austria', 'Jersey', 'United States of America', 'Rwanda', 'South Africa', 'United States of America', 'Russian Federation', 'France', 'Cayman Islands', 'Palestinian Territory', 'Svalbard & Jan Mayen Islands', 'Uganda', 'British Virgin Islands', 'Nigeria', 'Grenada', 'Sri Lanka', 'Congo', 'Montenegro', 'Estonia', 'Turkey', 'Costa Rica', 'Fiji', 'Honduras', 'Bangladesh', 'Jamaica', 'Greece', 'Palau', 'Falkland Islands (Malvinas)', 'Pakistan', 'French Polynesia', 'India', 'Cayman Islands', 'Guinea-Bissau', 'Ireland', 'American Samoa', 'Azerbaijan', 'Armenia', 'Barbados', \"Lao People's Democratic Republic\", 'Saint Pierre and Miquelon', 'Cyprus', 'Iceland', 'Saudi Arabia', 'Nauru', 'Vanuatu', 'Ukraine', 'Cape Verde', 'Kenya', 'Netherlands', 'Uzbekistan', 'Nauru', 'Peru', 'Cocos (Keeling) Islands', 'Marshall Islands', 'Zimbabwe', 'Kazakhstan', 'Yemen', 'Eritrea', 'Equatorial Guinea', 'Russian Federation', 'Monaco', 'Ghana', 'Madagascar', 'Colombia', 'Monaco', 'Philippines', 'Fiji', 'Australia', 'Cameroon', 'Eritrea', 'Switzerland', 'Namibia', 'Holy See (Vatican City State)', 'Kazakhstan', 'Palestinian Territory', 'Moldova', 'Canada', 'North Macedonia', 'Tonga', 'Saint Kitts and Nevis', 'Austria', 'Russian Federation', 'Romania', 'Azerbaijan', 'Brunei Darussalam', 'American Samoa', 'Cameroon', 'Barbados', 'Georgia', 'Antarctica (the territory South of 60 deg S)', 'Guatemala', 'Moldova', 'Fiji', 'Belgium', 'Sao Tome and Principe', 'Saudi Arabia', 'Svalbard & Jan Mayen Islands', 'Sierra Leone', 'Myanmar', 'Wallis and Futuna', 'Trinidad and Tobago', 'Malaysia', 'Gabon', 'Tonga', 'Taiwan', 'Luxembourg', 'Brunei Darussalam', 'Macao', 'Denmark', 'Guinea-Bissau', 'Saint Martin', 'Slovakia (Slovak Republic)', 'Philippines', 'Georgia', 'Cook Islands', 'Cook Islands', 'Czech Republic', 'Ghana', 'Denmark', 'Sri Lanka', 'Kenya', 'North Macedonia', 'Cayman Islands', 'Guinea-Bissau', 'Germany', 'Botswana', 'Saint Martin', 'Liberia', 'South Africa', 'Syrian Arab Republic', 'Slovakia (Slovak Republic)', 'Iran', 'Turkmenistan', 'Congo', 'Vietnam', 'Saudi Arabia', 'Belarus', 'Bouvet Island (Bouvetoya)', 'Egypt', 'Bermuda', 'Poland', 'Spain', 'Austria', 'Chad', 'Norway', 'South Africa', 'Palau', 'Marshall Islands', 'Malaysia', 'Sudan', 'Gambia', 'Netherlands', 'Ecuador', 'New Caledonia', 'Lesotho', 'Slovakia (Slovak Republic)', 'French Southern Territories', 'Mexico', 'Falkland Islands (Malvinas)', 'Anguilla', 'Guyana', 'Ghana', 'Liechtenstein', 'Japan', 'Chile', 'Trinidad and Tobago', 'Greenland', 'Armenia', 'Romania', 'China', 'Guadeloupe', 'Uzbekistan', 'French Guiana', 'Chile', 'Gabon', 'Myanmar', 'Mauritius', 'France', 'Malaysia', 'Austria', 'Croatia', 'Eritrea', 'Ukraine', 'Cook Islands', 'Tuvalu', 'Mexico', 'Namibia', 'North Macedonia', 'Palestinian Territory', 'Liberia', 'Holy See (Vatican City State)', 'Niue', 'Guadeloupe', 'Tanzania', 'Egypt', 'Algeria', 'South Africa', 'Sudan', 'United Arab Emirates', 'India', 'Indonesia', 'Fiji', 'Turkmenistan', 'Oman', 'Nicaragua', 'Oman', \"Cote d'Ivoire\", 'Burundi', \"Cote d'Ivoire\", 'Saint Pierre and Miquelon', 'Bolivia', 'El Salvador', 'Burkina Faso', 'Azerbaijan', 'Iceland', 'Guatemala', 'Palestinian Territory', 'Japan', 'Korea', 'Somalia', 'Saint Barthelemy', 'Gabon', 'Portugal', 'Bahrain', 'Northern Mariana Islands', 'Suriname', 'Oman', 'South Africa', 'Saudi Arabia', 'India', 'Myanmar', 'Indonesia', 'Argentina', 'United Arab Emirates', 'New Zealand', 'Montserrat', 'Libyan Arab Jamahiriya', 'Canada', 'Slovakia (Slovak Republic)', 'Northern Mariana Islands', 'Argentina', 'Martinique', 'Gibraltar', 'Philippines', 'Svalbard & Jan Mayen Islands', 'Germany', 'New Caledonia', 'Myanmar', 'Vietnam', 'Svalbard & Jan Mayen Islands', 'Antigua and Barbuda', 'Colombia', 'Tonga', 'Isle of Man', 'Christmas Island', 'Armenia', 'Saint Vincent and the Grenadines', 'Cape Verde', 'Ukraine', 'Bermuda', 'Vanuatu', 'Iraq', 'Austria', 'Cameroon', 'French Polynesia', 'Sweden', 'Saint Vincent and the Grenadines', 'Lithuania', 'Montserrat', 'Saint Lucia', 'Georgia', 'Trinidad and Tobago', 'American Samoa', 'Tanzania', 'Andorra', 'Chile', 'Saint Kitts and Nevis', 'Guyana', 'Gambia', 'Brunei Darussalam', 'Greece', 'Belize', 'San Marino', 'United Kingdom', 'Brazil', 'New Zealand', 'Belarus', 'Qatar', 'Qatar', 'Gambia', 'Netherlands', 'Antigua and Barbuda', 'Saint Vincent and the Grenadines', 'China', 'Brazil', 'Solomon Islands', 'Sweden', 'Samoa', 'India', 'Kenya', 'Togo', 'Sudan', 'Comoros', 'Namibia', 'Myanmar', 'Faroe Islands', 'Argentina', 'Belgium', 'Bouvet Island (Bouvetoya)', 'Kazakhstan', 'Sweden', 'Christmas Island', 'Eritrea', 'Portugal', 'New Zealand', 'Bermuda', 'Bahamas', 'Sweden', 'South Georgia and the South Sandwich Islands', 'Panama', 'United Kingdom', 'Italy', 'Myanmar', 'Tokelau', 'Trinidad and Tobago', 'Isle of Man', 'Vanuatu', 'Cook Islands', 'Nauru', 'Indonesia', 'Senegal', 'Guinea', 'Isle of Man', 'Macao', 'Canada', 'British Virgin Islands', 'Marshall Islands', 'Turkmenistan', 'North Macedonia', 'Denmark', 'Sierra Leone', 'Austria', 'Palestinian Territory', 'Kazakhstan', 'Reunion', 'Congo', 'Lesotho', 'Bahamas', 'Argentina', 'Uganda', 'Singapore', 'Zimbabwe', 'Egypt', 'Trinidad and Tobago', 'Singapore', 'Uzbekistan', 'Germany', 'Turks and Caicos Islands', 'Portugal', 'Qatar', 'Holy See (Vatican City State)', 'Slovakia (Slovak Republic)', 'Bahrain', 'Mongolia', 'Barbados', 'French Guiana', 'Belarus', \"Cote d'Ivoire\", 'Armenia', 'Slovenia', 'Iceland', 'Uruguay', 'Sao Tome and Principe', 'Burundi', 'Bosnia and Herzegovina', 'Brazil', 'Trinidad and Tobago', 'Kazakhstan', 'France', 'Bahamas', 'Burkina Faso', 'Hungary', 'United States of America', 'United Arab Emirates', 'Holy See (Vatican City State)', 'United Arab Emirates', 'Lesotho', 'Albania', 'France', 'Barbados', 'Northern Mariana Islands', 'Costa Rica', 'United Arab Emirates', 'New Zealand', 'Iran', 'Germany', 'Guam', 'Mali', 'Philippines', 'Belarus', 'South Georgia and the South Sandwich Islands', 'Guatemala', 'Portugal', 'Bahrain', 'Switzerland', 'Grenada', 'Ethiopia', 'Uzbekistan', 'Lithuania', 'Guam', 'Nicaragua', 'Greece', 'Mauritius', 'United States Minor Outlying Islands', 'Liberia', 'Albania', 'Thailand', 'Saudi Arabia', 'China', 'Saint Lucia', 'Korea', 'Turkmenistan', 'Kazakhstan', 'Burundi', 'South Georgia and the South Sandwich Islands', 'Svalbard & Jan Mayen Islands', 'Mongolia', 'Turks and Caicos Islands', 'Cocos (Keeling) Islands', 'Ireland', 'Northern Mariana Islands', 'Papua New Guinea', 'Australia', 'Marshall Islands', 'Lesotho', 'Cook Islands', 'Germany', 'Heard Island and McDonald Islands', 'Jordan', 'El Salvador', 'Poland', 'Croatia', 'United States of America', 'Moldova', 'Saint Helena', 'Guyana', 'Lesotho', 'Guam', 'Latvia', 'Saint Kitts and Nevis', 'Mali', 'Albania', 'Saint Vincent and the Grenadines', 'Tanzania', 'Andorra', 'Mayotte', 'Uzbekistan', 'Mauritius', 'Slovenia', 'Cambodia', 'Canada', 'Cambodia', 'Senegal', 'Aruba', 'Lesotho', 'Martinique', 'Moldova', 'Poland', 'Bolivia', 'Germany', 'Tajikistan', 'Estonia', 'United States Minor Outlying Islands', 'Myanmar', 'Holy See (Vatican City State)', 'Palestinian Territory', 'Vietnam', 'Guatemala', 'Bosnia and Herzegovina', 'Isle of Man', 'Bolivia', 'Netherlands', 'Austria', 'Norfolk Island', 'Honduras', 'Costa Rica', 'Bouvet Island (Bouvetoya)', 'Kuwait', 'Finland', 'Macao', 'Montserrat', 'Paraguay', 'Montserrat', 'Turkmenistan', 'Grenada', 'Cape Verde', 'United Arab Emirates', 'Guadeloupe', 'Switzerland', 'Bosnia and Herzegovina', 'Venezuela', 'Bolivia', 'Pitcairn Islands', 'Moldova', 'Antarctica (the territory South of 60 deg S)', 'Korea', 'Israel', 'Libyan Arab Jamahiriya', 'Bermuda', 'Luxembourg', 'Mali', 'Suriname', 'Korea', 'Jersey', 'Thailand', 'Yemen', 'United Arab Emirates', 'Uruguay', 'Guernsey', 'Montserrat', 'Serbia', 'Germany', 'Saint Vincent and the Grenadines', 'Heard Island and McDonald Islands', 'French Guiana', 'Saint Pierre and Miquelon', 'Gabon', 'British Virgin Islands', 'Guyana', 'Sierra Leone', 'United States of America', 'Swaziland', 'Liechtenstein', 'Christmas Island', 'Qatar', 'Qatar', 'Antarctica (the territory South of 60 deg S)', 'Niue', 'New Zealand', 'Bosnia and Herzegovina', 'French Southern Territories', 'Oman', 'Lesotho', 'Comoros', 'Antarctica (the territory South of 60 deg S)', 'Kazakhstan', 'Swaziland', 'Guinea-Bissau', 'Lebanon', 'Faroe Islands', 'Guam', 'El Salvador', 'Finland', 'Taiwan', 'Guernsey', 'Sierra Leone', 'Cook Islands', 'Ukraine', 'Namibia', 'Montenegro', 'Madagascar', 'Slovakia (Slovak Republic)', 'Togo', 'Algeria', 'Poland', 'Burkina Faso', 'Kazakhstan', 'Nicaragua', 'Guinea-Bissau', 'Canada', 'Mauritania', 'Mauritius', 'Greenland', 'Israel', 'Sri Lanka', 'Djibouti', 'United Arab Emirates', 'Iran', 'Nigeria', 'Tuvalu', 'Moldova', 'Cyprus', 'Tajikistan', 'Uzbekistan', 'Eritrea', 'Djibouti', 'Mexico', 'Jordan', 'Cocos (Keeling) Islands', 'El Salvador', 'Uganda', 'Syrian Arab Republic', 'Tanzania', 'Benin', 'Tuvalu', 'Aruba', 'United Kingdom', 'Papua New Guinea', 'Bangladesh', 'Hungary', 'Bolivia', 'Greenland', 'French Southern Territories', 'Kiribati', 'Ecuador', 'Liechtenstein', 'Uruguay', 'Canada', 'Armenia', 'Wallis and Futuna', 'Latvia', 'Antigua and Barbuda', 'Uruguay', 'Guyana', 'Mongolia', 'Congo', 'Bouvet Island (Bouvetoya)', 'Ethiopia', 'Australia', 'Svalbard & Jan Mayen Islands', 'Saint Lucia', \"Lao People's Democratic Republic\", 'Netherlands Antilles', 'Cambodia', 'Netherlands', 'Cyprus', 'Montserrat', 'Niger', 'Papua New Guinea', 'Zambia', 'Syrian Arab Republic', 'Saudi Arabia', 'Jamaica', 'Slovakia (Slovak Republic)', 'French Guiana', 'Belarus', 'Paraguay', 'Suriname', 'Cuba', 'Equatorial Guinea', 'Sweden', 'Egypt', 'Estonia', 'Central African Republic', 'Tonga', 'Ireland', 'Estonia', 'Myanmar', 'Kuwait', 'Guadeloupe', 'Chad', 'Korea', 'Mozambique', 'Andorra', 'Afghanistan', 'Canada', 'Mali', 'Lebanon', 'Comoros', 'Saint Lucia', 'Myanmar', 'Pakistan', 'Heard Island and McDonald Islands', 'Saint Kitts and Nevis', 'Falkland Islands (Malvinas)', 'Jordan', 'Kiribati', 'Mayotte', 'Mayotte', 'Azerbaijan', 'Guatemala', 'Liberia', 'Korea', 'Bolivia', 'Jordan', 'Iraq', 'Croatia', 'French Southern Territories', 'Ethiopia', 'Hong Kong', 'Greenland', 'Vietnam', 'Saint Pierre and Miquelon', 'Rwanda', 'Lithuania', 'Belgium', 'India', 'Micronesia', 'Syrian Arab Republic', 'Barbados', 'Denmark', 'Tonga', 'India', 'Aruba', 'Venezuela', 'Cameroon', 'Norfolk Island', 'Belize', 'Niue', 'Equatorial Guinea', 'Uruguay', 'Seychelles', 'Tokelau', 'Heard Island and McDonald Islands', 'Guatemala', 'Suriname', 'Congo', 'Reunion', 'Niger', 'Andorra', 'Dominica', 'Maldives', 'Sweden', 'Sweden', 'Iraq', 'Turkmenistan', 'Mali', 'Kenya', 'United Arab Emirates', 'Chile', \"Lao People's Democratic Republic\", 'Solomon Islands', 'Bermuda', 'Norway', 'Cambodia', 'Cambodia', 'Martinique', 'Niger', 'Estonia', 'Spain', 'Tunisia', 'Poland', 'Dominica', 'Falkland Islands (Malvinas)', 'Solomon Islands', 'Mongolia', 'Senegal', 'American Samoa', 'Saint Pierre and Miquelon', 'Denmark', 'Moldova', 'Cook Islands', 'Latvia', 'Nauru', 'Fiji', 'Andorra', 'Mongolia', 'Benin', 'Mexico', 'Cuba', 'Saint Lucia', 'Zimbabwe', 'Saint Martin', 'Chile', 'Finland', 'Ethiopia', 'Philippines', 'Poland', 'Netherlands Antilles', 'Afghanistan', 'Lebanon', 'Bahamas', 'Bouvet Island (Bouvetoya)', 'Trinidad and Tobago', 'Hungary', 'Madagascar', 'Austria', 'Russian Federation', 'Egypt', 'United States Minor Outlying Islands', 'Ethiopia', 'Eritrea', 'Eritrea', 'Andorra', 'Croatia', 'Canada', 'New Caledonia', 'France', 'Palestinian Territory', 'Lithuania', 'Malta', 'Venezuela', 'Czech Republic', 'Brazil', 'Venezuela', 'Greece', 'Dominica', 'Solomon Islands', 'Nicaragua', 'Central African Republic', 'Cambodia', 'Lithuania', 'Qatar', 'Tunisia', 'Indonesia', 'Ghana', 'Sudan', 'Turks and Caicos Islands', 'Cambodia', 'Latvia', 'Congo', 'Belgium', 'Malawi', 'Faroe Islands', 'Thailand', 'Kenya', 'Philippines', 'Kuwait', 'Ukraine', 'Ukraine', 'Netherlands', 'Portugal', 'Armenia', 'Tokelau', 'Oman', 'Saint Lucia', 'Malta', 'South Georgia and the South Sandwich Islands', 'Congo', 'Guernsey', 'Isle of Man', 'Montenegro', 'Bosnia and Herzegovina', 'United Kingdom', 'Tanzania', 'Vietnam', 'Rwanda', 'Mongolia', 'Gibraltar', 'South Georgia and the South Sandwich Islands', 'Tunisia', 'Lithuania', 'Mayotte', 'Brunei Darussalam', 'Argentina', 'Guadeloupe', 'Liberia', 'Lesotho', 'Korea', 'Faroe Islands', 'Saint Barthelemy', \"Cote d'Ivoire\", 'Brunei Darussalam', 'Marshall Islands', 'Svalbard & Jan Mayen Islands', 'Tunisia', 'Isle of Man', 'Uganda', 'Papua New Guinea', 'Bolivia', 'Papua New Guinea', 'Poland', 'Pitcairn Islands', 'Slovenia', 'Puerto Rico', 'Azerbaijan', 'Rwanda', 'Senegal', 'Singapore', 'Eritrea', 'Lesotho', 'Burkina Faso', 'Albania', 'New Zealand', 'Austria', 'San Marino', 'Pakistan', 'Paraguay', 'Turks and Caicos Islands', 'Honduras', 'Iceland', 'Bolivia', 'Maldives', 'Marshall Islands', 'American Samoa', 'Belgium', 'Northern Mariana Islands', 'Bolivia', 'Oman', 'Cayman Islands', 'Micronesia', 'Central African Republic', 'Christmas Island', 'Palestinian Territory', 'British Virgin Islands', 'Cayman Islands', 'Haiti', 'Bosnia and Herzegovina', 'Argentina', 'Djibouti', 'Czech Republic', 'Djibouti', 'Russian Federation', 'Jordan', 'Iraq', 'Togo', 'Isle of Man', 'Finland', 'Ecuador', 'Cayman Islands', 'Holy See (Vatican City State)', 'American Samoa', 'North Macedonia', 'Slovakia (Slovak Republic)', 'New Zealand', 'Honduras', 'Germany', 'Sweden', 'Luxembourg', 'Morocco', \"Cote d'Ivoire\", 'Papua New Guinea', 'Dominican Republic', 'Venezuela', 'Poland', 'Australia', 'Martinique', 'Costa Rica', 'Hong Kong', 'Iran', 'Antarctica (the territory South of 60 deg S)', 'Serbia', 'Sierra Leone', 'Brazil', 'Trinidad and Tobago', 'Burkina Faso', 'Trinidad and Tobago', 'Malta', 'Korea', 'Uzbekistan', 'Kyrgyz Republic', 'Jordan', 'Guyana', 'Egypt', 'Bahamas', 'Pitcairn Islands', 'Samoa', 'Kazakhstan', 'Jamaica', 'Brunei Darussalam', 'Micronesia', 'Holy See (Vatican City State)', 'Antarctica (the territory South of 60 deg S)', 'Saint Vincent and the Grenadines', 'Costa Rica', 'South Africa', 'Rwanda', 'Burundi', 'Czech Republic', 'Egypt', 'Guam', 'Tokelau', 'Hong Kong', 'Cocos (Keeling) Islands', 'Oman', 'Guam', 'Micronesia', 'Swaziland', 'Uruguay', 'Montserrat', 'United States Virgin Islands', 'French Polynesia', 'Haiti', 'French Guiana', 'Tonga', 'Norfolk Island', 'Colombia', 'Norfolk Island', 'Korea', 'Cuba', 'Nepal', 'Cook Islands', 'Bolivia', 'Indonesia', 'Belize', 'Morocco', 'Brazil', 'Equatorial Guinea', 'Bahrain', 'Ecuador', 'Martinique', 'Botswana', 'Liberia', 'Botswana', 'Martinique', 'Tunisia', 'United States Virgin Islands', 'Japan', 'Zimbabwe', 'Heard Island and McDonald Islands', 'Niue', 'Central African Republic', 'Dominica', 'Kiribati', 'Antigua and Barbuda', 'Greece', 'Ireland', 'Brazil', 'Djibouti', 'Micronesia', 'Mexico', 'Venezuela', 'Australia', 'Wallis and Futuna', 'Norfolk Island', 'Finland', 'Samoa', 'Equatorial Guinea', 'Cook Islands', 'India', 'Pakistan', 'Serbia', 'United States Virgin Islands', 'Bhutan', 'Albania', 'Montserrat', 'Vietnam', 'Netherlands', 'Benin', 'Saint Vincent and the Grenadines', 'Jordan', 'Namibia', 'Kazakhstan', 'Western Sahara', 'India', 'United Arab Emirates', 'Cambodia', 'Bouvet Island (Bouvetoya)', 'Andorra', 'Western Sahara', 'Japan', 'Saudi Arabia', 'Faroe Islands', 'Heard Island and McDonald Islands', 'Belgium', 'Uzbekistan', 'Saint Martin', 'Malaysia', 'Papua New Guinea', 'Australia', 'Holy See (Vatican City State)', 'San Marino', 'Burkina Faso', 'El Salvador', 'Mozambique', 'Tunisia', 'Sierra Leone', 'Eritrea', 'Equatorial Guinea', 'Palestinian Territory', 'Benin', 'Vietnam', 'Guyana', 'Tokelau', 'Switzerland', 'Serbia', 'Guinea', 'Russian Federation', 'Kazakhstan', 'Saint Lucia', 'Egypt', 'Pakistan', 'Brunei Darussalam', 'Romania', 'Slovenia', 'Maldives', 'Taiwan', 'Burundi', 'Switzerland', 'Luxembourg', 'Madagascar', 'Brunei Darussalam', 'Central African Republic', 'Croatia', 'Georgia', 'Norway', 'Central African Republic', 'Liberia', 'Antarctica (the territory South of 60 deg S)', 'Gibraltar', 'Sao Tome and Principe', 'Canada', 'Japan', 'Northern Mariana Islands', 'Guadeloupe', 'Denmark', 'Gabon', 'Tunisia', 'Sao Tome and Principe', 'Malta', 'Morocco', 'French Polynesia', 'Hungary', 'Netherlands Antilles', 'Tokelau', 'Romania', 'Vanuatu', 'Tokelau', 'Nicaragua', 'Tajikistan', 'Uganda', 'Svalbard & Jan Mayen Islands', 'Ecuador', 'Luxembourg', 'Niger', 'Ethiopia', 'Central African Republic', 'Australia', 'Kyrgyz Republic', 'Comoros', 'Guyana', 'Cocos (Keeling) Islands', 'Libyan Arab Jamahiriya', 'Myanmar', 'Heard Island and McDonald Islands', \"Lao People's Democratic Republic\", 'Spain', 'Cocos (Keeling) Islands', 'Zimbabwe', 'Dominican Republic', 'Tuvalu', 'Guatemala', 'Mongolia', 'Cambodia', 'Dominican Republic', 'Cyprus', 'Burkina Faso', 'Tokelau', 'Morocco', 'North Macedonia', 'Rwanda', 'Mongolia', 'Dominican Republic', 'Estonia', 'Niger', 'Vanuatu', 'Montserrat', 'Greece', 'United States of America', 'Pakistan', 'Lesotho', 'Mongolia', 'Norfolk Island', 'Martinique', 'Costa Rica', 'Azerbaijan', 'New Zealand', 'Guinea', 'Sweden', 'British Indian Ocean Territory (Chagos Archipelago)', 'China', 'Barbados', 'Norfolk Island', 'Mali', 'Bulgaria', 'Nepal', 'Niue', 'Western Sahara', 'Switzerland', 'Fiji', 'Iceland', 'Czech Republic', 'Singapore', 'Qatar', 'Austria', 'Ukraine', 'Jersey', 'Tuvalu', 'Moldova', 'Bolivia', 'Cape Verde', 'Moldova', 'Iran', 'Korea', 'Sierra Leone', 'Australia', 'Netherlands Antilles', 'Christmas Island', 'Tajikistan', 'Guadeloupe', 'United Kingdom', 'Dominica', 'Cuba', 'Nicaragua', 'Comoros', \"Cote d'Ivoire\", 'Finland', 'South Africa', 'Slovenia', 'Finland', 'Central African Republic', 'Kenya', \"Cote d'Ivoire\", 'Mali', 'Djibouti', 'Poland', 'Gabon', 'Bouvet Island (Bouvetoya)', 'Ireland', 'Somalia', 'Malawi', 'Sao Tome and Principe', 'Myanmar', 'Puerto Rico', 'Poland', 'Senegal', 'Morocco', 'Niger', 'Sudan', 'Nigeria', 'British Virgin Islands', 'Latvia', 'Argentina', 'Sweden', 'Antarctica (the territory South of 60 deg S)', 'Palestinian Territory', 'Philippines', 'Congo', 'Switzerland', 'Argentina', 'Nepal', 'Finland', 'Lebanon', 'Saint Kitts and Nevis', 'Lebanon', 'Mexico', 'Albania', 'Tanzania', 'San Marino', 'Guinea', 'Saint Helena', 'Mongolia', 'Guernsey', 'Canada', 'French Southern Territories', 'Switzerland', 'Malawi', 'Australia', 'Cocos (Keeling) Islands', 'Bahrain', 'Antarctica (the territory South of 60 deg S)', 'Portugal', 'Montenegro', 'Iran', 'Libyan Arab Jamahiriya', 'Palestinian Territory', 'Saint Helena', 'Liechtenstein', 'Albania', 'Lesotho', 'Uganda', 'Timor-Leste', 'Iceland', 'Pakistan', 'Guinea', 'Tunisia', 'Dominican Republic', 'Ukraine', 'Bahrain', 'Korea', 'Congo', \"Lao People's Democratic Republic\", 'Liechtenstein', 'Macao', 'Tunisia', 'Ukraine', 'Cayman Islands', 'Estonia', 'China', 'Albania', 'Albania', 'Cuba', 'Cyprus', 'Papua New Guinea', 'Botswana', 'Latvia', 'Zimbabwe', 'South Africa', 'Barbados', 'Guernsey', \"Lao People's Democratic Republic\", 'Luxembourg', 'Argentina', 'Turkmenistan', 'Fiji', 'Netherlands Antilles', 'Congo', 'Guam', 'Nauru', 'Timor-Leste', 'Ukraine', 'Colombia', 'Guernsey', 'Kyrgyz Republic', \"Lao People's Democratic Republic\", 'El Salvador', 'Svalbard & Jan Mayen Islands', 'Tonga', 'Nauru', 'Niger', 'Ecuador', 'Philippines', 'Lesotho', 'Gabon', \"Cote d'Ivoire\", 'Italy', 'New Caledonia', 'Cameroon', 'Malawi', 'Gibraltar', 'South Georgia and the South Sandwich Islands', 'Greece', 'Monaco', 'Thailand', 'Angola', 'Comoros', 'Kazakhstan', 'Sweden', 'Sri Lanka', 'Peru', 'Slovenia', 'Venezuela', 'Namibia', 'Spain', 'Costa Rica', 'Sierra Leone', 'Turkey', 'Grenada', 'Serbia', 'Ireland', 'Costa Rica', 'Tajikistan', 'Guinea-Bissau', 'Pitcairn Islands', 'Benin', 'Tanzania', 'Azerbaijan', 'Saint Martin', 'Faroe Islands', 'Qatar', 'Aruba', 'Turkmenistan', 'Saint Helena', 'South Africa', 'Guatemala', 'Reunion', 'Taiwan', 'French Southern Territories', 'Belize', 'Chad', 'Dominica', 'Brazil', 'Tuvalu', 'Kazakhstan', 'Isle of Man', 'Turks and Caicos Islands', 'Samoa', 'Botswana', 'Indonesia', 'India', 'Taiwan', 'Norfolk Island', 'Greenland', 'Palestinian Territory', 'Syrian Arab Republic', 'Belarus', 'British Indian Ocean Territory (Chagos Archipelago)', 'Tokelau', 'Oman', 'Falkland Islands (Malvinas)', 'Slovakia (Slovak Republic)', 'Italy', 'American Samoa', 'Pitcairn Islands', 'Pitcairn Islands', 'Norway', 'Uruguay', 'Bermuda', 'Rwanda', 'Palestinian Territory', 'Sao Tome and Principe', 'Cape Verde', 'Saudi Arabia', 'Zimbabwe', 'Netherlands', 'Tajikistan', 'Kazakhstan', 'Panama', 'Malawi', 'Bermuda', 'Ireland', 'Singapore', 'Ecuador', 'Norway', 'Norway', 'Swaziland', 'Antigua and Barbuda', 'Sao Tome and Principe', 'French Guiana', 'Panama', 'Guinea', 'Brunei Darussalam', 'Lithuania', 'Saint Lucia', 'Bhutan', 'Saint Martin', 'Cambodia', 'Tajikistan', 'Nicaragua', 'Latvia', 'Seychelles', 'Namibia', 'Martinique', 'Russian Federation', 'Greenland', 'British Indian Ocean Territory (Chagos Archipelago)', 'Portugal', 'Bahrain', 'Bangladesh', 'Afghanistan', 'Guyana', 'Greenland', 'Martinique', 'Panama', 'Norfolk Island', 'Czech Republic', \"Cote d'Ivoire\", 'Eritrea', 'French Southern Territories', 'Russian Federation', 'Vanuatu', 'Albania', 'Mali', 'Iceland', 'Benin', 'Togo', 'Korea', 'Tajikistan', 'Falkland Islands (Malvinas)', 'Cuba', 'Madagascar', 'Morocco', 'Dominica', 'Trinidad and Tobago', 'Estonia', 'Suriname', 'Peru', 'Equatorial Guinea', 'Jersey', 'Anguilla', 'Albania', 'Hong Kong', 'Saint Kitts and Nevis', 'Benin', 'Panama', 'Comoros', 'Palau', 'Singapore', 'Cook Islands', 'Montenegro', 'Bolivia', 'Kiribati', 'Kyrgyz Republic', 'Saint Kitts and Nevis', 'Canada', 'Macao', 'Zimbabwe', 'Heard Island and McDonald Islands', 'Tonga', 'Bouvet Island (Bouvetoya)', 'Grenada', 'Algeria', 'Hungary', 'Puerto Rico', 'France', 'Guatemala', 'Isle of Man', 'Saint Lucia', 'Cyprus', 'Dominica', 'North Macedonia', 'Czech Republic', 'Croatia', 'Tajikistan', 'Aruba', 'Netherlands Antilles', 'United States Virgin Islands', 'Brazil', 'United States Minor Outlying Islands', 'Yemen', 'Vanuatu', 'Australia', 'Maldives', 'Vanuatu', 'Algeria', 'Dominica', 'Wallis and Futuna', 'Lesotho', 'Cameroon', 'Georgia', 'Nigeria', 'Saint Martin', 'Ghana', 'Oman', 'Malaysia', 'Libyan Arab Jamahiriya', 'Hungary', 'Tonga', 'Bosnia and Herzegovina', 'Kyrgyz Republic', 'South Georgia and the South Sandwich Islands', 'Brazil', 'Antarctica (the territory South of 60 deg S)', 'Armenia', 'Saint Pierre and Miquelon', 'Malta', 'Wallis and Futuna', 'Western Sahara', 'Georgia', 'Namibia', 'Antigua and Barbuda', 'Holy See (Vatican City State)', 'Palau', 'Panama', 'Iran', 'Palau', 'Tokelau', 'Croatia', 'El Salvador', 'Guinea', 'New Caledonia', 'Saint Martin', 'Madagascar', 'Ghana', 'Palestinian Territory', 'Western Sahara', 'Cyprus', 'Tunisia', 'Azerbaijan', 'Honduras', 'Vietnam', 'Belize', 'Czech Republic', 'Sudan', 'Turks and Caicos Islands', 'Cyprus', 'Macao', 'Gibraltar', 'New Caledonia', 'Andorra', 'Bangladesh', 'Ireland', 'Netherlands', 'South Georgia and the South Sandwich Islands', 'Paraguay', 'Guyana', 'Niue', 'Isle of Man', 'Saint Vincent and the Grenadines', 'Saint Kitts and Nevis', 'Cameroon', 'North Macedonia', 'United Arab Emirates', 'Sri Lanka', 'Gambia', 'Israel', 'Denmark', 'Jersey', 'Bahamas', 'Saint Lucia', 'Latvia', 'Mongolia', 'Montserrat', 'Israel', 'Georgia', 'Lithuania', 'Malaysia', 'Ukraine', 'Netherlands', 'North Macedonia', 'Lesotho', 'Western Sahara', 'Sri Lanka', 'Falkland Islands (Malvinas)', 'Iraq', 'Mongolia', 'Seychelles', 'Iraq', 'Guernsey', 'Mauritius', 'Monaco', 'Algeria', 'Macao', 'Korea', 'Finland', 'Maldives', 'Italy', 'Greenland', 'Chad', 'United Kingdom', 'India', 'Bangladesh', 'Egypt', 'Dominican Republic', 'Zimbabwe', 'Yemen', 'Liberia', 'Djibouti', 'Togo', 'Mozambique', 'Wallis and Futuna', 'Costa Rica', 'Suriname', 'Belize', 'Martinique', 'Pitcairn Islands', 'Nigeria', 'Botswana', \"Cote d'Ivoire\", 'Slovakia (Slovak Republic)', 'Martinique', 'Marshall Islands', 'Uganda', 'Vietnam', 'British Virgin Islands', 'Cameroon', 'Moldova', 'Ukraine', 'France', 'New Zealand', 'Saudi Arabia', 'Tajikistan', 'Angola', 'Reunion', 'Trinidad and Tobago', 'Somalia', 'Fiji', 'New Zealand', 'Saint Lucia', 'Botswana', 'Panama', 'Western Sahara', 'Cameroon', 'Cyprus', 'Austria', 'Montenegro', 'Jamaica', 'Estonia', 'Grenada', 'Belgium', 'Costa Rica', 'Saint Kitts and Nevis', 'Taiwan', 'Estonia', 'Sierra Leone', 'China', 'Lithuania', 'Sri Lanka', 'Micronesia', 'Romania', 'Seychelles', 'Liechtenstein', 'Holy See (Vatican City State)', 'Argentina', 'Mexico', 'Bouvet Island (Bouvetoya)', 'Madagascar', 'Guinea-Bissau', 'Sri Lanka', 'Venezuela', 'Antarctica (the territory South of 60 deg S)', 'Libyan Arab Jamahiriya', 'Bahamas', 'Bouvet Island (Bouvetoya)', 'Afghanistan', 'El Salvador', 'Sao Tome and Principe', 'Slovakia (Slovak Republic)', 'Zambia', 'Denmark', 'Micronesia', 'Congo', 'United States Minor Outlying Islands', \"Cote d'Ivoire\", 'Libyan Arab Jamahiriya', 'British Virgin Islands', 'Kazakhstan', 'Tanzania', 'Georgia', 'Ireland', 'Nauru', 'Georgia', 'Luxembourg', 'French Guiana', 'Zimbabwe', 'Equatorial Guinea', 'Guam', 'Egypt', 'Guinea-Bissau', 'Zimbabwe', 'Zambia', 'Portugal', 'Denmark', 'Costa Rica', 'Djibouti', 'Bahrain', 'Singapore', 'Chile', 'Maldives', 'Palau', 'Guinea', 'Jamaica', 'Seychelles', 'Samoa', 'Iran', 'Thailand', 'Israel', 'Afghanistan', 'Turkmenistan', 'Mali', 'Turks and Caicos Islands', 'British Virgin Islands', 'Brazil', 'Liechtenstein', 'Botswana', 'Bangladesh', 'Norfolk Island', 'Peru', 'Jersey', 'Comoros', 'Greenland', 'Sao Tome and Principe', 'Romania', 'Vanuatu', 'Armenia', 'Monaco', 'Papua New Guinea', 'Liberia', 'Sierra Leone', 'Bouvet Island (Bouvetoya)', 'Ukraine', 'Congo', 'Saint Lucia', 'Uganda', 'Svalbard & Jan Mayen Islands', 'Zimbabwe', 'United States of America', 'Maldives', 'Isle of Man', 'British Virgin Islands', 'Italy', 'Tanzania', 'Timor-Leste', 'American Samoa', 'Angola', 'Malaysia', 'Iraq', 'Uruguay', 'Malaysia', 'Brazil', 'Germany', 'Andorra', 'Brunei Darussalam', 'Iraq', 'South Africa', 'Macao', 'Moldova', 'Gabon', \"Cote d'Ivoire\", 'Bahamas', 'Netherlands', 'Swaziland', 'Reunion', 'Cocos (Keeling) Islands', 'Togo', 'Saint Barthelemy', 'Italy', 'Italy', 'Afghanistan', 'Isle of Man', 'Tuvalu', 'Cyprus', 'Gambia', 'Gabon', 'Jordan', 'Gabon', 'Somalia', 'Montserrat', 'France', 'Ireland', 'Iceland', 'Montserrat', 'Netherlands', 'Antarctica (the territory South of 60 deg S)', 'Marshall Islands', 'Gambia', 'Indonesia', 'Costa Rica', 'Svalbard & Jan Mayen Islands', 'Christmas Island', 'Swaziland', 'Guyana', 'Latvia', 'Slovakia (Slovak Republic)', 'Djibouti', 'South Georgia and the South Sandwich Islands', 'Bangladesh', 'Trinidad and Tobago', 'Aruba', 'Montserrat', 'Mali', 'Mongolia', 'Cocos (Keeling) Islands', 'Ireland', 'Spain', 'Bhutan', 'Tunisia', 'Saint Lucia', 'Armenia', 'North Macedonia', 'Spain', 'Vietnam', 'Chile', 'Thailand', 'Mali', 'Eritrea', 'Mayotte', 'Hong Kong', 'Ghana', 'Morocco', 'Falkland Islands (Malvinas)', 'Namibia', 'Norway', 'Slovakia (Slovak Republic)', 'Nigeria', 'Kyrgyz Republic', 'United States of America', 'Gambia', 'French Guiana', 'Chad', 'Guinea-Bissau', 'Netherlands', 'Uruguay', 'Mauritius', 'Belize', 'Thailand', 'British Indian Ocean Territory (Chagos Archipelago)', 'Wallis and Futuna', 'Uzbekistan', 'Netherlands Antilles', 'Heard Island and McDonald Islands', 'Dominica', 'Sierra Leone', 'Andorra', 'Cook Islands', 'Northern Mariana Islands', 'Guinea-Bissau', 'Cocos (Keeling) Islands', 'North Macedonia', 'Denmark', 'Gambia', 'Djibouti', 'Armenia', 'Cayman Islands', 'Latvia', 'Jersey', 'Cameroon', 'Lithuania', 'Indonesia', 'Tanzania', 'Dominican Republic', 'Benin', 'Turks and Caicos Islands', 'French Southern Territories', 'Malta', 'China', 'Zambia', 'Iran', 'Indonesia', 'United Arab Emirates', 'Moldova', 'Madagascar', 'Palau', 'Belgium', 'Hong Kong', 'Mexico', 'Malawi', 'Guinea', 'Hungary', 'Netherlands', 'Zambia', 'Thailand', 'United Arab Emirates', 'Swaziland', 'Bolivia', 'Anguilla', 'Cook Islands', 'Austria', 'Cocos (Keeling) Islands', 'Guinea-Bissau', 'Gambia', 'Bermuda', 'Turks and Caicos Islands', 'Maldives', 'Comoros', 'Nauru', 'Finland', 'Bolivia', 'United Arab Emirates', 'Tunisia', 'Syrian Arab Republic', 'Sao Tome and Principe', 'Germany', 'Nepal', 'Chile', 'Mayotte', 'Belize', 'Guyana', 'Djibouti', 'Togo', 'Belize', 'Grenada', 'Eritrea', 'Guyana', 'Martinique', 'Northern Mariana Islands', 'Saint Lucia', 'Guinea-Bissau', 'Kyrgyz Republic', 'Lebanon', 'Madagascar', 'Taiwan', 'Micronesia', 'Senegal', 'Croatia', 'Albania', 'British Virgin Islands', 'Estonia', 'Afghanistan', 'Russian Federation', 'Tunisia', 'Peru', 'Comoros', 'Oman', 'Guam', 'Heard Island and McDonald Islands', 'Costa Rica', 'Jamaica', 'Fiji', 'Greece', 'Latvia', 'Qatar', 'Australia', 'Canada', 'Tonga', 'Italy', 'Saudi Arabia', 'Iraq', 'Cayman Islands', 'Slovenia', 'Faroe Islands', 'Liechtenstein', 'Bermuda', 'Chile', 'Bahamas', 'Kiribati', 'Holy See (Vatican City State)', 'Sao Tome and Principe', 'Indonesia', 'Paraguay', 'Croatia', 'Saint Barthelemy', 'Ethiopia', 'Namibia', 'New Zealand', 'Thailand', 'Brazil', 'Guam', 'Bermuda', 'Zimbabwe', 'Saint Pierre and Miquelon', 'Croatia', 'United Kingdom', 'Samoa', 'Tajikistan', 'Fiji', 'Algeria', 'San Marino', 'Rwanda', 'Guam', 'Bhutan', 'Senegal', 'Heard Island and McDonald Islands', 'Malawi', 'Ukraine', 'Austria', 'Congo', 'Slovakia (Slovak Republic)', 'British Virgin Islands', 'United States Minor Outlying Islands', 'Vanuatu', 'Timor-Leste', 'Cayman Islands', 'British Virgin Islands', 'United Arab Emirates', 'Iceland', 'Namibia', 'Malta', 'Paraguay', 'Romania', 'Bouvet Island (Bouvetoya)', 'Northern Mariana Islands', 'Swaziland', 'Austria', 'Uganda', 'Peru', 'Belarus', 'Lithuania', 'Dominica', 'Bangladesh', 'Tuvalu', 'Macao', 'Ireland', 'Saint Helena', 'Angola', 'Guadeloupe', 'Montenegro', 'Hong Kong', 'Saint Helena', 'Saudi Arabia', 'Gambia', 'Morocco', 'Ethiopia', 'Guyana', 'Venezuela', 'Slovakia (Slovak Republic)', 'Solomon Islands', 'Uruguay', 'Tokelau', 'Mexico', 'Serbia', 'Bhutan', 'Oman', 'Kenya', 'Chad', 'Rwanda', 'Malta', 'Cambodia', 'Malaysia', 'Panama', 'Jamaica', 'Malaysia', 'Haiti', 'Tajikistan', 'Oman', 'Tajikistan', 'Egypt', 'New Caledonia', 'Philippines', 'French Guiana', 'Greenland', 'Nicaragua', 'Macao', 'Jordan', 'Spain', 'Svalbard & Jan Mayen Islands', 'United States of America', 'Ireland', 'Ukraine', 'Latvia', 'Estonia', 'Greece', 'Burkina Faso', 'Tonga', 'Ireland', 'Zambia', 'Jamaica', 'Algeria', 'South Georgia and the South Sandwich Islands', 'Rwanda', 'Mali', 'Kenya', 'Ukraine', 'Ethiopia', 'Thailand', 'Portugal', 'Kazakhstan', 'Eritrea', 'Morocco', 'Congo', 'British Indian Ocean Territory (Chagos Archipelago)', 'Qatar', 'Guinea-Bissau', 'Romania', 'American Samoa', 'Jordan', 'Gambia', 'Cameroon', 'Senegal', 'Guatemala', 'Malawi', 'Pakistan', 'Nepal', 'Moldova', 'North Macedonia', 'Dominican Republic', 'Wallis and Futuna', 'Montenegro', 'Tajikistan', 'Croatia', 'Liechtenstein', 'Argentina', 'Bangladesh', 'Libyan Arab Jamahiriya', 'Burkina Faso', 'Japan', 'Armenia', 'French Southern Territories', 'Thailand', 'Mexico', 'Northern Mariana Islands', 'Malta', 'Pitcairn Islands', 'Pakistan', 'Rwanda', 'Ecuador', 'Antarctica (the territory South of 60 deg S)', 'Latvia', 'Cyprus', 'Sao Tome and Principe', 'Tajikistan', 'Turkey', 'Austria', 'Iceland', 'Sweden', 'Cameroon', 'Oman', 'Romania', 'Ukraine', 'Spain', 'Jordan', 'Eritrea', 'Cayman Islands', 'Sri Lanka', 'Russian Federation', 'Congo', 'New Zealand', 'Korea', 'Afghanistan', 'Moldova', 'Bermuda', 'Netherlands Antilles', 'Isle of Man', 'Bahamas', 'Nauru', 'Portugal', 'Albania', 'Pitcairn Islands', 'Niue', 'Slovakia (Slovak Republic)', 'Sweden', 'Trinidad and Tobago', 'Saint Lucia', 'Italy', 'Jordan', 'South Georgia and the South Sandwich Islands', 'French Polynesia', 'Yemen', 'Qatar', \"Cote d'Ivoire\", 'Colombia', 'Bahamas', 'Heard Island and McDonald Islands', 'Bulgaria', 'Ethiopia', 'Taiwan', 'Mexico', 'Netherlands Antilles', 'Uruguay', 'Bosnia and Herzegovina', 'Gabon', 'Japan', 'Mexico', 'Saint Helena', 'Maldives', 'Colombia', 'Pakistan', 'Antigua and Barbuda', 'Angola', 'Gibraltar', 'Cook Islands', 'Bulgaria', 'Cambodia', 'El Salvador', 'Guam', 'Guinea', 'Malaysia', 'Bolivia', 'Armenia', 'Zimbabwe', 'Morocco', 'United Arab Emirates', 'Saudi Arabia', 'South Africa', 'Romania', 'Bouvet Island (Bouvetoya)', 'Togo', 'Aruba', 'Micronesia', 'Thailand', 'Trinidad and Tobago', 'Argentina', 'Turkey', 'Norfolk Island', 'Liberia', 'Trinidad and Tobago', 'Kenya', 'Malawi', 'Turks and Caicos Islands', 'Zambia', 'Croatia', 'Indonesia', 'Switzerland', 'Trinidad and Tobago', 'Christmas Island', 'Solomon Islands', 'Guam', 'Micronesia', 'Greenland', 'Guinea-Bissau', 'Switzerland', 'Brunei Darussalam', 'Honduras', 'Denmark', 'Sri Lanka', 'Saint Martin', 'Monaco', 'Micronesia', 'China', 'South Georgia and the South Sandwich Islands', 'Kenya', 'Zimbabwe', 'Kenya', 'New Caledonia', 'Mexico', 'Germany', 'Malta', 'Congo', 'Nauru', 'Niue', 'Togo', 'Latvia', 'United Kingdom', 'Guinea', 'Solomon Islands', 'Ethiopia', 'Honduras', 'Latvia', 'Fiji', 'Bouvet Island (Bouvetoya)', 'New Zealand', 'Mauritius', 'Nauru', 'Togo', 'Jersey', 'Micronesia', 'Bermuda', 'United States of America', 'Peru', 'Tunisia', 'Turkey', 'Gabon', 'Monaco', 'Qatar', 'Brazil', 'Netherlands', 'Samoa', 'Cocos (Keeling) Islands', 'Montenegro', 'Korea', 'Jordan', 'Azerbaijan', 'Botswana', 'Equatorial Guinea', 'Ethiopia', 'Isle of Man', 'Romania', 'Bangladesh', 'French Southern Territories', 'Bulgaria', 'France', 'Slovakia (Slovak Republic)', 'Australia', 'Samoa', 'Slovenia', 'Taiwan', 'Isle of Man', 'Kenya', 'Turkmenistan', 'Bahamas', 'Thailand', 'Tonga', 'Bosnia and Herzegovina', 'Sri Lanka', 'Botswana', 'Sao Tome and Principe', 'United Kingdom', 'Haiti', 'Lesotho', 'Cuba', 'Guyana', 'British Indian Ocean Territory (Chagos Archipelago)', 'Guyana', 'Saint Pierre and Miquelon', 'Bangladesh', 'French Guiana', 'Isle of Man', 'Malta', 'Reunion', 'Madagascar', 'Bolivia', 'Georgia', 'Moldova', 'Bhutan', 'Guinea-Bissau', 'Iceland', 'Gabon', 'Guatemala', 'Zambia', 'Finland', 'Pakistan', 'Indonesia', 'Oman', 'Netherlands Antilles', 'Bolivia', 'Faroe Islands', 'Paraguay', 'Macao', 'Bulgaria', 'North Macedonia', 'Latvia', 'Monaco', 'Austria', 'Mexico', 'Algeria', 'Antarctica (the territory South of 60 deg S)', 'Anguilla', 'Nepal', 'Saint Kitts and Nevis', 'Saudi Arabia', 'Barbados', 'Canada', 'Mongolia', 'Chad', 'Malaysia', 'Estonia', 'Saint Lucia', 'Sudan', 'French Guiana', 'Western Sahara', 'Antarctica (the territory South of 60 deg S)', 'Norfolk Island', 'Kiribati', 'Marshall Islands', 'Korea', 'Turkey', 'Azerbaijan', 'Saint Helena', 'Montenegro', 'Liberia', 'Burkina Faso', 'Azerbaijan', 'Timor-Leste', 'Zimbabwe', 'Egypt', 'Uganda', 'United Arab Emirates', 'Mali', 'Egypt', 'Mexico', 'Cuba', 'Dominica', 'Sao Tome and Principe', 'Mauritius', 'Belize', 'Slovenia', 'Cyprus', 'Cayman Islands', 'Mauritania', 'Monaco', 'Norway', 'Algeria', 'Uganda', 'Sweden', 'Algeria', 'El Salvador', 'Kenya', 'Bhutan', 'Guatemala', 'Algeria', 'Russian Federation', 'United States Virgin Islands', 'Malawi', 'Turks and Caicos Islands', 'Saudi Arabia', 'Western Sahara', 'Slovakia (Slovak Republic)', 'New Caledonia', 'South Africa', 'Oman', 'South Georgia and the South Sandwich Islands', 'Montserrat', 'Tunisia', 'Latvia', 'Mongolia', 'Venezuela', 'Croatia', 'Guyana', 'Armenia', 'Barbados', 'Indonesia', 'India', 'Iraq', 'Kyrgyz Republic', 'Ukraine', 'Madagascar', 'Chile', 'Austria', 'Kuwait', 'Guyana', 'Angola', 'Switzerland', 'Bhutan', 'Tokelau', 'Guinea', 'Micronesia', 'Ireland', 'Zambia', 'Taiwan', 'Wallis and Futuna', 'French Southern Territories', 'Tanzania', 'Zambia', 'United States Virgin Islands', 'Belarus', 'Nepal', 'Netherlands Antilles', 'Congo', 'Greenland', 'Tuvalu', 'Tanzania', 'Djibouti', 'Bosnia and Herzegovina', 'Faroe Islands', 'Eritrea', 'New Zealand', 'Costa Rica', 'Guadeloupe', 'Mongolia', 'India', 'Isle of Man', 'China', 'Montserrat', 'San Marino', 'Cocos (Keeling) Islands', 'Egypt', 'Gibraltar', 'Fiji', 'South Africa', 'Bangladesh', 'Iran', 'Iran', 'Holy See (Vatican City State)', 'Switzerland', 'Guinea-Bissau', 'Zambia', 'Andorra', 'Greece', 'Palau', 'Tanzania', 'Western Sahara', 'Trinidad and Tobago', 'Haiti', 'Puerto Rico', 'Sao Tome and Principe', 'Malawi', 'Kiribati', 'Colombia', 'Haiti', 'Jamaica', 'Cayman Islands', 'Saint Martin', 'Tunisia', 'Bahrain', 'Iran', 'Malta', 'Guyana', 'Malawi', 'Slovakia (Slovak Republic)', 'Georgia', 'French Polynesia', 'Jamaica', 'Anguilla', 'Malta', 'Hong Kong', 'New Zealand', 'Svalbard & Jan Mayen Islands', 'United Kingdom', 'Egypt', 'Antarctica (the territory South of 60 deg S)', 'Lesotho', 'Malaysia', 'Benin', 'Papua New Guinea', 'Comoros', 'Afghanistan', 'Cook Islands', 'Japan', 'Estonia', 'Botswana', 'Belgium', 'Puerto Rico', 'Bangladesh', 'New Caledonia', 'Moldova', 'Montenegro', 'Oman', 'New Zealand', 'Spain', 'Tokelau', 'Armenia', 'Russian Federation', 'French Polynesia', 'Cape Verde', 'Chad', 'Belgium', 'Tuvalu', 'United States Virgin Islands', 'Ghana', 'Madagascar', 'Serbia', 'Bangladesh', 'Haiti', 'Algeria', \"Cote d'Ivoire\", 'Bosnia and Herzegovina', 'Switzerland', 'Syrian Arab Republic', 'Croatia', 'Maldives', 'Somalia', 'Saint Barthelemy', 'Guatemala', 'Sudan', 'Congo', 'Greenland', 'Sudan', 'Equatorial Guinea', 'Kuwait', 'Guatemala', 'Gambia', 'Timor-Leste', 'Cook Islands', 'Canada', 'North Macedonia', 'Korea', 'Thailand', 'South Africa', 'Zimbabwe', 'Cuba', 'Guinea-Bissau', 'Panama', 'United States Virgin Islands', 'Guadeloupe', 'Liechtenstein', 'Afghanistan', 'Libyan Arab Jamahiriya', 'Paraguay', 'Algeria', 'Malaysia', 'Israel', 'Grenada', 'Uganda', 'Egypt', 'Zambia', 'Slovakia (Slovak Republic)', 'Mozambique', 'Iceland', 'Cambodia', 'Australia', 'Martinique', 'Liechtenstein', 'Qatar', 'Antarctica (the territory South of 60 deg S)', 'United Kingdom', 'Saudi Arabia', 'Turks and Caicos Islands', 'United States Virgin Islands', 'Guyana', 'Austria', 'Madagascar', 'Djibouti', 'Portugal', 'Malawi', 'Lithuania', 'Greenland', 'Kenya', 'Solomon Islands', 'Venezuela', 'Central African Republic', 'Saint Martin', 'Kazakhstan', 'Belgium', 'Portugal', 'Aruba', 'Isle of Man', 'Belize', 'Japan', 'Moldova', 'Poland', 'Russian Federation', 'India', 'French Guiana', 'Marshall Islands', 'Sierra Leone', 'Congo', 'Saint Pierre and Miquelon', 'Saint Martin', 'French Guiana', 'Austria', 'Saint Pierre and Miquelon', 'Bangladesh', 'North Macedonia', 'Norfolk Island', 'Netherlands', 'Iraq', 'Romania', 'Eritrea', 'North Macedonia', 'Korea', 'Saint Pierre and Miquelon', 'Reunion', 'Morocco', 'Burundi', 'Sao Tome and Principe', 'Bahrain', 'Pakistan', 'Grenada', 'Oman', 'Brunei Darussalam', 'Luxembourg', 'Trinidad and Tobago', 'Mauritius', 'Israel', 'Central African Republic', 'Hong Kong', 'Peru', 'Czech Republic', 'Tuvalu', 'Holy See (Vatican City State)', 'Norway', 'Palau', 'Equatorial Guinea', 'Bahrain', 'Czech Republic', 'United States Minor Outlying Islands', 'Montserrat', 'Brunei Darussalam', 'Faroe Islands', 'Peru', 'Comoros', 'Antigua and Barbuda', 'India', 'Thailand', 'Palestinian Territory', 'Faroe Islands', 'Netherlands Antilles', 'Tonga', 'Andorra', 'Gibraltar', 'North Macedonia', 'Serbia', 'Fiji', 'Sri Lanka', 'Gibraltar', 'Monaco', 'Myanmar', 'Jordan', 'Tokelau', 'Armenia', 'Portugal', 'Guam', 'Malta', 'Norway', 'Antigua and Barbuda', 'Samoa', 'Brunei Darussalam', 'Algeria', 'North Macedonia', 'Panama', 'Guam', 'Cape Verde', 'Bermuda', 'Qatar', 'Taiwan', 'New Caledonia', 'Tunisia', 'Niue', 'Cape Verde', 'Costa Rica', 'Solomon Islands', 'Fiji', 'Eritrea', 'Peru', 'Kenya', 'United States of America', 'North Macedonia', 'United States of America', 'United Arab Emirates', 'Zambia', 'Palestinian Territory', 'United States Virgin Islands', 'Colombia', 'Australia', 'Saudi Arabia', 'Bulgaria', 'Yemen', 'Bhutan', 'Faroe Islands', 'Saudi Arabia', 'British Indian Ocean Territory (Chagos Archipelago)', 'Brunei Darussalam', 'Chad', 'Mauritius', 'Slovenia', 'Bouvet Island (Bouvetoya)', 'Honduras', 'Ecuador', 'Central African Republic', 'North Macedonia', 'Zambia', 'Guinea-Bissau', 'Mongolia', 'Dominica', 'Bermuda', 'Brunei Darussalam', 'Qatar', 'Grenada', 'Mongolia', 'Nauru', 'Kazakhstan', 'Vanuatu', 'Tokelau', 'Slovakia (Slovak Republic)', 'Netherlands', 'Guatemala', 'French Guiana', 'Barbados', 'Mayotte', 'Egypt', 'Cambodia', 'Sudan', 'Lebanon', 'Netherlands', 'Thailand', 'Tuvalu', 'Andorra', 'Swaziland', 'Germany', 'North Macedonia', 'Uruguay', 'Tokelau', 'China', 'Portugal', 'Bermuda', 'Botswana', 'Afghanistan', 'Saint Pierre and Miquelon', 'Poland', 'Vanuatu', 'Greece', 'Saint Helena', 'China', 'Belize', 'American Samoa', 'Taiwan', 'Chile', 'Saint Pierre and Miquelon', 'Isle of Man', 'Armenia', 'Turkmenistan', 'Papua New Guinea', 'Dominica', 'Brazil', 'Saint Lucia', 'Algeria', 'Cameroon', 'Congo', 'Czech Republic', 'Tajikistan', 'Greece', 'Paraguay', 'United States of America', 'Egypt', 'Saint Martin', 'Gibraltar', 'Malta', 'Latvia', 'Norway', 'Bouvet Island (Bouvetoya)', 'Haiti', 'Macao', 'San Marino', 'Kiribati', 'Poland', 'New Zealand', 'Armenia', 'Uzbekistan', 'Angola', 'Saudi Arabia', 'Fiji', 'Cocos (Keeling) Islands', 'Tanzania', 'Oman', 'Thailand', 'Samoa', 'Jordan', 'Panama', 'Eritrea', 'Ethiopia', 'Portugal', 'Antigua and Barbuda', 'Mauritius', 'Bahrain', 'Guadeloupe', 'Serbia', 'Belarus', 'China', 'Pakistan', 'Pitcairn Islands', 'Fiji', 'Lebanon', 'South Georgia and the South Sandwich Islands', 'Uzbekistan', 'Slovakia (Slovak Republic)', 'Nigeria', 'Bahamas', 'Fiji', 'Mauritania', 'Mauritius', 'Tokelau', 'American Samoa', 'French Southern Territories', 'Korea', 'Saudi Arabia', 'Lebanon', 'Mali', 'Netherlands', 'Nicaragua', 'Bermuda', 'Maldives', 'Guinea-Bissau', 'Senegal', 'Argentina', 'Turks and Caicos Islands', 'Aruba', 'Uzbekistan', 'Vanuatu', 'Monaco', 'Japan', 'Pitcairn Islands', 'Oman', 'Bolivia', 'Latvia', 'Bermuda', 'British Virgin Islands', 'Liechtenstein', 'Saint Helena', 'Central African Republic', 'Reunion', 'Netherlands Antilles', 'Jamaica', 'Djibouti', 'Central African Republic', 'Sudan', 'Tonga', 'Solomon Islands', 'Canada', 'Solomon Islands', 'Cuba', 'Australia', 'Jamaica', 'Norway', 'Cambodia', 'Korea', 'Togo', 'Latvia', 'Samoa', 'Cameroon', 'Central African Republic', 'Algeria', 'Mali', 'Hungary', 'Svalbard & Jan Mayen Islands', 'French Southern Territories', 'Saint Pierre and Miquelon', 'Denmark', 'Norfolk Island', 'Gabon', \"Lao People's Democratic Republic\", 'Guadeloupe', 'Mauritania', 'Congo', 'Haiti', 'Syrian Arab Republic', 'Samoa', 'Thailand', 'Costa Rica', 'New Caledonia', 'Poland', 'North Macedonia', 'Nicaragua', \"Lao People's Democratic Republic\", 'Belize', 'Seychelles', 'Bermuda', 'Bermuda', 'Guatemala', 'Jordan', 'Afghanistan', 'Vanuatu', 'France', 'Iraq', 'Iran', 'Benin', 'Belarus', 'Uruguay', 'Fiji', 'Philippines', 'Djibouti', 'Nauru', 'Barbados', 'Bolivia', 'China', 'United States of America', 'Swaziland', 'Zambia', 'Belize', 'Bulgaria', 'Bangladesh', 'Western Sahara', 'Yemen', 'Belarus', 'New Caledonia', 'Andorra', 'Kiribati', 'Djibouti', 'Dominica', 'Cyprus', 'Uruguay', 'Falkland Islands (Malvinas)', 'Palau', 'Guam', 'Saint Helena', 'Bermuda', 'Congo', 'Bulgaria', 'Belgium', 'Philippines', 'Niger', 'Maldives', 'Romania', 'Ecuador', 'Canada', 'Pitcairn Islands', 'Wallis and Futuna', 'Micronesia', 'Luxembourg', 'Anguilla', 'Angola', 'Israel', 'Afghanistan', 'Sweden', 'Nicaragua', 'Northern Mariana Islands', 'Mongolia', 'Guernsey', 'Slovenia', 'Afghanistan', 'Mauritania', 'Sri Lanka', 'Montenegro', 'Saint Pierre and Miquelon', 'Zimbabwe', 'Anguilla', 'Honduras', 'Senegal', 'Grenada', 'Fiji', 'Azerbaijan', 'Algeria', 'Dominica', 'Christmas Island', 'Zimbabwe', 'Haiti', 'Czech Republic', 'Ukraine', 'Romania', 'Tuvalu', 'Netherlands Antilles', 'Canada', 'Nicaragua', 'French Guiana', 'Sierra Leone', 'Somalia', 'Mauritius', 'Colombia', 'Bahrain', 'New Zealand', 'Algeria', 'United Arab Emirates', 'Comoros', 'New Zealand', 'Sri Lanka', 'Albania', 'Belarus', 'Oman', 'Turks and Caicos Islands', 'Bolivia', 'Liechtenstein', 'United Kingdom', 'Turkmenistan', 'Guadeloupe', 'South Africa', 'Bhutan', 'Uzbekistan', 'Guyana', 'Rwanda', 'Spain', 'Cocos (Keeling) Islands', 'Jamaica', 'Suriname', 'El Salvador', 'Mexico', 'Gibraltar', 'Norway', 'Niger', 'Mayotte', 'Saint Barthelemy', \"Lao People's Democratic Republic\", 'Italy', 'Mauritania', 'Haiti', 'Finland', 'Sierra Leone', 'British Indian Ocean Territory (Chagos Archipelago)', 'Papua New Guinea', 'Faroe Islands', 'Northern Mariana Islands', 'Saint Vincent and the Grenadines', 'Spain', 'Liberia', 'Liberia', 'San Marino', 'Serbia', 'Micronesia', 'Jersey', 'Anguilla', 'Dominica', 'Holy See (Vatican City State)', 'Belarus', 'Guyana', 'Haiti', 'Barbados', 'Paraguay', 'Indonesia', 'India', 'United Arab Emirates', 'Guernsey', 'Rwanda', 'Saint Lucia', 'Zimbabwe', 'Maldives', 'Burundi', 'Bulgaria', 'Slovenia', 'Pitcairn Islands', 'Jordan', 'Bouvet Island (Bouvetoya)', 'Cocos (Keeling) Islands', 'China', 'Comoros', 'Bangladesh', 'Tuvalu', 'Liechtenstein', 'Belgium', 'Monaco', 'Myanmar', 'Yemen', 'Saint Pierre and Miquelon', 'Bulgaria', 'Gabon', 'Djibouti', 'United Kingdom', 'Afghanistan', 'Niger', 'Netherlands', 'Cayman Islands', 'Belarus', 'Syrian Arab Republic', 'Luxembourg', 'Taiwan', 'Cocos (Keeling) Islands', 'Solomon Islands', 'Andorra', 'Dominica', 'Zambia', 'Malaysia', 'United States Virgin Islands', 'Singapore', 'Australia', 'British Indian Ocean Territory (Chagos Archipelago)', 'Cambodia', 'Jamaica', 'Tuvalu', 'Guernsey', 'Reunion', 'Yemen', 'Samoa', 'Pakistan', 'Brunei Darussalam', 'Botswana', 'Zambia', 'Mexico', 'Moldova', 'Guyana', 'Nicaragua', 'Mongolia', 'Saint Martin', 'Maldives', 'Reunion', 'Macao', 'Guam', 'Tunisia', 'Denmark', 'Saint Lucia', 'Saint Lucia', 'Mauritius', 'Dominica', 'Croatia', 'Cayman Islands', 'Cayman Islands', 'Namibia', 'French Polynesia', 'Kazakhstan', 'Mozambique', 'Russian Federation', 'Monaco', 'Niger', 'Tuvalu', 'Christmas Island', 'Cameroon', 'Togo', 'Ghana', 'Montserrat', 'Palestinian Territory', 'Suriname', 'Sri Lanka', 'French Guiana', 'Guinea', 'United States Virgin Islands', 'Congo', 'Cape Verde', 'Kuwait', 'Benin', 'Tunisia', 'Cameroon', 'Myanmar', 'Anguilla', 'Pakistan', 'Slovenia', 'Gambia', 'Romania', 'Rwanda', 'Bahrain', 'Colombia', 'United Arab Emirates', 'Malta', 'Macao', 'Cook Islands', 'Wallis and Futuna', 'Lesotho', 'Bhutan', 'Cyprus', 'Mexico', 'Greece', 'Belize', 'Comoros', 'Finland', 'Cambodia', 'Qatar', 'Bulgaria', 'Brunei Darussalam', 'Egypt', 'Guam', 'Vanuatu', 'Niger', 'Eritrea', 'Australia', 'Korea', 'France', 'Algeria', 'Iceland', 'Tokelau', 'United States of America', 'Malawi', 'Indonesia', 'Trinidad and Tobago', 'Tanzania', 'South Georgia and the South Sandwich Islands', 'Cayman Islands', 'Albania', 'Malaysia', 'Suriname', 'Malaysia', 'Turks and Caicos Islands', 'Costa Rica', 'Netherlands', 'Burkina Faso', 'Yemen', 'Philippines', 'Dominican Republic', 'Seychelles', 'Tanzania', 'Vanuatu', 'Ecuador', 'Samoa', 'French Polynesia', 'Turks and Caicos Islands', 'China', 'Sweden', 'Christmas Island', 'Togo', 'Norway', 'Zambia', 'Norfolk Island', 'Estonia', 'Uzbekistan', 'Israel', 'Vietnam', 'French Guiana', 'Eritrea', 'Armenia', 'Netherlands', 'Angola', 'Dominica', 'Namibia', 'Germany', 'Tunisia', 'Estonia', 'Nepal', 'Vietnam', 'Montserrat', 'Barbados', 'Georgia', 'Niger', 'Palau', 'Austria', 'Cambodia', 'Macao', 'Albania', 'Haiti', 'French Southern Territories', 'Syrian Arab Republic', 'Rwanda', 'Jersey', 'Saint Martin', 'Palestinian Territory', 'San Marino', 'New Caledonia', 'Bulgaria', 'Micronesia', 'Iraq', 'British Indian Ocean Territory (Chagos Archipelago)', \"Cote d'Ivoire\", 'Falkland Islands (Malvinas)', 'Somalia', 'Romania', 'Portugal', 'Barbados', 'Saudi Arabia', 'Cambodia', 'French Southern Territories', 'Senegal', 'Malawi', 'Antarctica (the territory South of 60 deg S)', 'Heard Island and McDonald Islands', 'New Zealand', 'Kazakhstan', 'Cuba', 'Singapore', 'Hong Kong', 'Norway', 'Western Sahara', 'Turks and Caicos Islands', 'Russian Federation', 'Brunei Darussalam', 'Singapore', 'American Samoa', 'Bermuda', 'United States Minor Outlying Islands', 'Mali', 'Canada', 'Niue', 'French Guiana', 'Andorra', 'Western Sahara', 'Switzerland', 'New Zealand', 'Guam', 'Niger', 'Italy', 'Algeria', 'Bahamas', 'Namibia', 'Poland', 'Malaysia', 'New Zealand', 'Pakistan', 'Denmark', 'Cayman Islands', 'Uzbekistan', 'Czech Republic', 'Timor-Leste', 'Andorra', 'Cuba', 'Solomon Islands', 'Barbados', 'Israel', 'Malta', 'Guam', 'Botswana', 'Thailand', 'Pitcairn Islands', 'Japan', 'Botswana', 'Slovakia (Slovak Republic)', 'Seychelles', 'Latvia', 'New Caledonia', 'Burundi', 'Korea', 'France', 'Montenegro', 'Heard Island and McDonald Islands', 'Colombia', 'Algeria', 'Czech Republic', 'Czech Republic', 'India', 'Nauru', 'Liechtenstein', \"Cote d'Ivoire\", 'Latvia', 'Bermuda', 'Germany', 'Zambia', 'Botswana', 'Samoa', 'Syrian Arab Republic', 'Monaco', 'Pitcairn Islands', 'Honduras', 'Bahamas', 'Macao', 'Gambia', 'Djibouti', 'Iran', 'Korea', 'Mozambique', 'Finland', 'Philippines', 'Montenegro', 'Zimbabwe', 'Swaziland', 'Saudi Arabia', 'Qatar', 'Finland', 'Georgia', 'Solomon Islands', 'Serbia', 'Yemen', 'American Samoa', 'Nauru', 'United States of America', 'Falkland Islands (Malvinas)', 'Dominican Republic', 'Guernsey', 'Faroe Islands', 'Niger', 'Pitcairn Islands', 'Mexico', 'Monaco', 'Iran', 'Switzerland', 'Western Sahara', 'Libyan Arab Jamahiriya', 'Mali', 'Guyana', 'Guam', 'Guyana', 'Mongolia', 'Sweden', 'New Zealand', 'Ukraine', 'Belarus', 'Bosnia and Herzegovina', 'Burundi', 'Algeria', 'Grenada', 'Kuwait', 'Grenada', 'Nauru', 'Somalia', 'Tuvalu', 'Montserrat', 'Gibraltar', 'Nicaragua', 'Guinea-Bissau', 'Angola', 'Faroe Islands', 'Trinidad and Tobago', 'Ghana', 'Japan', 'Bouvet Island (Bouvetoya)', 'Pitcairn Islands', 'Tonga', 'Uruguay', 'Belarus', 'Kenya', 'Chile', 'Eritrea', 'Oman', 'Ireland', 'Saint Kitts and Nevis', 'Argentina', 'North Macedonia', 'Zimbabwe', 'China', 'Tunisia', 'Bangladesh', 'Australia', 'Turkmenistan', 'Panama', 'Montserrat', 'Barbados', 'Turkmenistan', 'Switzerland', 'Kenya', 'Guadeloupe', 'Nauru', 'Kazakhstan', 'Germany', 'Mexico', 'Ghana', 'Nepal', 'Western Sahara', 'Brazil', 'Uganda', 'United States Virgin Islands', 'New Caledonia', 'Guam', 'Puerto Rico', 'Netherlands Antilles', 'Svalbard & Jan Mayen Islands', 'Macao', 'Bouvet Island (Bouvetoya)', 'Pakistan', 'Saint Helena', 'Sierra Leone', 'Ukraine', 'France', 'Slovenia', 'Georgia', 'United Kingdom', 'Jordan', 'Brazil', 'Lebanon', 'Afghanistan', 'Heard Island and McDonald Islands', 'Saint Helena', 'French Southern Territories', 'Serbia', 'Guinea-Bissau', 'Nauru', 'Panama', 'Guam', 'Qatar', 'American Samoa', 'Estonia', 'Libyan Arab Jamahiriya', 'Mali', 'Aruba', 'Somalia', 'Dominican Republic', 'Saint Vincent and the Grenadines', 'Guatemala', 'Cocos (Keeling) Islands', 'Dominican Republic', 'Ecuador', 'Cayman Islands', 'Panama', 'Denmark', 'Dominica', 'Argentina', 'Saint Pierre and Miquelon', 'Lebanon', 'Panama', 'Fiji', 'Chile', 'Turkmenistan', 'Cambodia', 'Qatar', 'Singapore', 'Cayman Islands', 'Holy See (Vatican City State)', 'Brazil', 'Anguilla', 'Palau', 'Myanmar', 'Heard Island and McDonald Islands', 'Norway', 'Yemen', 'Lesotho', 'Reunion', 'Kiribati', 'Angola', 'Mauritania', 'Northern Mariana Islands', 'Tuvalu', 'Iraq', 'Comoros', 'Venezuela', 'Vanuatu', 'Russian Federation', 'British Indian Ocean Territory (Chagos Archipelago)', 'Andorra', 'Hungary', 'Somalia', 'Canada', 'Cayman Islands', 'Christmas Island', 'Uzbekistan', 'Costa Rica', 'Iceland', 'Slovenia', 'New Caledonia', 'Canada', 'Bhutan', 'Romania', 'Spain', 'United States Minor Outlying Islands', 'Venezuela', 'Cambodia', 'Albania', 'Norway', 'Uruguay', 'Lithuania', 'Bahrain', 'Bouvet Island (Bouvetoya)', 'Cameroon', 'Brunei Darussalam', 'Congo', 'Guinea', 'Rwanda', 'Botswana', 'Czech Republic', 'Hong Kong', 'China', \"Cote d'Ivoire\", 'Azerbaijan', 'Belize', 'Pitcairn Islands', 'Korea', 'Czech Republic', 'Panama', 'Ireland', 'Central African Republic', 'Germany', 'Guadeloupe', 'Ghana', 'Israel', 'Antarctica (the territory South of 60 deg S)', 'Congo', 'Morocco', 'Eritrea', 'Ukraine', 'Faroe Islands', 'Libyan Arab Jamahiriya', 'Bosnia and Herzegovina', 'South Africa', 'Kenya', 'Barbados', 'Ghana', 'Northern Mariana Islands', 'Kyrgyz Republic', 'Singapore', 'Gabon', 'Gibraltar', 'Central African Republic', 'Portugal', 'Austria', 'India', 'Aruba', 'Oman', 'Marshall Islands', 'Indonesia', 'Egypt', 'Liechtenstein', 'Mongolia', 'Haiti', 'Luxembourg', 'Svalbard & Jan Mayen Islands', 'Korea', 'Benin', 'Tajikistan', 'Kazakhstan', 'Korea', 'Bermuda', 'Romania', 'Tonga', 'Cuba', 'Equatorial Guinea', 'Czech Republic', 'Hong Kong', 'Korea', 'Libyan Arab Jamahiriya', 'Iceland', 'Malta', 'Palau', 'Oman', 'Yemen', 'Netherlands', 'Cocos (Keeling) Islands', 'Svalbard & Jan Mayen Islands', 'Egypt', 'Cook Islands', 'Angola', 'Svalbard & Jan Mayen Islands', 'Guadeloupe', 'Gibraltar', 'Egypt', 'South Georgia and the South Sandwich Islands', 'Austria', 'Micronesia', 'Lebanon', 'Holy See (Vatican City State)', 'United Kingdom', 'Belarus', 'Korea', 'Saint Vincent and the Grenadines', 'Nauru', 'Guyana', 'Niger', 'British Indian Ocean Territory (Chagos Archipelago)', 'Mayotte', 'Reunion', 'Denmark', 'Australia', 'Sao Tome and Principe', 'Falkland Islands (Malvinas)', 'Israel', 'Israel', 'Equatorial Guinea', 'Namibia', 'Nigeria', 'Swaziland', 'Seychelles', 'Niue', 'Eritrea', 'Niue', 'Nigeria', 'Kazakhstan', 'Namibia', 'Saint Martin', 'Saint Pierre and Miquelon', 'Lesotho', 'Spain', 'Italy', 'Comoros', 'Zimbabwe', 'Montserrat', 'Mozambique', 'United States Virgin Islands', 'United States of America', 'Sao Tome and Principe', 'Greenland', 'Armenia', 'Heard Island and McDonald Islands', 'Liberia', 'Grenada', 'Cook Islands', 'Niger', 'New Zealand', 'Reunion', 'French Polynesia', 'Azerbaijan', 'Peru', 'Greece', 'Kazakhstan', 'Yemen', 'Canada', 'Niue', 'Western Sahara', 'Oman', 'Netherlands', 'Saint Vincent and the Grenadines', 'Ireland', 'Vietnam', 'Yemen', 'Micronesia', 'British Indian Ocean Territory (Chagos Archipelago)', 'Angola', 'Ethiopia', 'Austria', 'Somalia', 'Saint Lucia', 'Antigua and Barbuda', 'Holy See (Vatican City State)', 'Western Sahara', 'United Arab Emirates', 'Mali', 'Kyrgyz Republic', 'Senegal', 'Antarctica (the territory South of 60 deg S)', 'Trinidad and Tobago', 'Bhutan', 'Marshall Islands', 'Switzerland', 'Hungary', 'Austria', 'Australia', 'British Virgin Islands', 'Austria', 'Bulgaria', 'Angola', 'Sudan', 'Namibia', 'Bahrain', 'Bouvet Island (Bouvetoya)', 'Bhutan', 'Qatar', 'Saint Martin', 'Poland', 'Guernsey', 'Uzbekistan', 'Wallis and Futuna', 'Australia', 'Sudan', 'Cuba', 'Somalia', 'Slovakia (Slovak Republic)', 'Gibraltar', 'Marshall Islands', 'Italy', 'Montenegro', 'Bahrain', 'Estonia', 'Jersey', 'Mexico', 'Comoros', 'Belarus', 'Mongolia', 'Burundi', 'Ghana', 'United States Minor Outlying Islands', 'Honduras', 'Latvia', 'British Virgin Islands', 'Tonga', 'Cambodia', 'Tonga', 'Greece', 'Belgium', 'Antarctica (the territory South of 60 deg S)', 'Marshall Islands', 'Panama', 'Greenland', 'Spain', 'Congo', 'Canada', 'United States Minor Outlying Islands', 'Sao Tome and Principe', 'Greece', 'United States of America', 'Algeria', 'Martinique', 'France', 'Kuwait', 'El Salvador', 'Norway', 'Barbados', 'Samoa', 'United Kingdom', 'Belarus', 'Bahamas', 'Latvia', 'Angola', 'Comoros', 'Oman', 'Jersey', 'Samoa', 'New Caledonia', 'Namibia', 'Comoros', 'Guinea-Bissau', 'Faroe Islands', 'Marshall Islands', 'Svalbard & Jan Mayen Islands', 'Faroe Islands', 'Cuba', 'Fiji', 'Timor-Leste', 'Costa Rica', 'Peru', 'El Salvador', 'Spain', 'French Southern Territories', 'Belgium', 'Lithuania', 'Marshall Islands', 'Puerto Rico', 'Guernsey', 'Cook Islands', 'Sudan', 'Central African Republic', 'Reunion', 'Argentina', 'Norfolk Island', 'Hong Kong', 'Mauritania', 'Niger', 'New Caledonia', 'Spain', 'Guyana', 'Nauru', 'Vanuatu', 'Isle of Man', 'Mozambique', 'Italy', 'Reunion', 'Djibouti', 'Luxembourg', 'Norway', 'Congo', 'Canada', 'South Africa', 'Central African Republic', 'Montserrat', 'Marshall Islands', 'Solomon Islands', 'North Macedonia', 'Chad', 'Korea', 'Mauritania', 'Bahrain', 'Honduras', 'Bahrain', 'Finland', 'Ghana', 'Cape Verde', 'India', 'Sweden', 'Reunion', 'Heard Island and McDonald Islands', 'Kuwait', 'Suriname', 'Brazil', 'Timor-Leste', 'Fiji', 'Libyan Arab Jamahiriya', 'Bermuda', 'Bouvet Island (Bouvetoya)', 'Lithuania', 'Sri Lanka', 'Niger', 'United States Virgin Islands', 'Iran', 'Bouvet Island (Bouvetoya)', 'Paraguay', 'Denmark', 'Singapore', 'Guatemala', 'Saudi Arabia', 'Turks and Caicos Islands', 'Luxembourg', 'Armenia', 'Myanmar', 'Slovakia (Slovak Republic)', 'Jamaica', 'Pitcairn Islands', 'Oman', 'Saudi Arabia', 'Macao', 'Eritrea', 'Saint Pierre and Miquelon', 'Saint Barthelemy', 'Liberia', 'Chile', 'Syrian Arab Republic', 'Isle of Man', 'Congo', 'Portugal', \"Lao People's Democratic Republic\", 'Sudan', 'New Caledonia', 'Botswana', 'Trinidad and Tobago', 'Czech Republic', 'Qatar', 'Latvia', 'Uganda', 'Liberia', 'Ukraine', 'Gambia', 'Croatia', 'Afghanistan', 'Hungary', 'Finland', 'Yemen', 'Malaysia', 'Romania', 'Hong Kong', 'South Georgia and the South Sandwich Islands', 'Montenegro', 'Thailand', 'Malaysia', 'Eritrea', 'Mayotte', 'Germany', 'Norway', 'Christmas Island', 'Saudi Arabia', 'Cuba', 'United States Minor Outlying Islands', 'North Macedonia', 'India', 'Bahamas', 'Tanzania', 'Spain', 'Oman', 'Slovakia (Slovak Republic)', 'Maldives', 'Guadeloupe', 'Niger', 'Switzerland', 'Croatia', 'Greenland', 'Suriname', 'China', 'Lithuania', 'Albania', 'Azerbaijan', 'Micronesia', 'Congo', 'Poland', 'Mauritius', 'Senegal', 'Malawi', 'Cambodia', 'Malta', 'Rwanda', 'United States of America', 'Saint Pierre and Miquelon', 'Poland', 'Yemen', 'Turkmenistan', 'Mali', 'Saint Barthelemy', 'Swaziland', 'Myanmar', 'Grenada', 'Yemen', 'United States Minor Outlying Islands', 'Afghanistan', 'Guyana', 'Ghana', 'Finland', 'Mauritius', 'Georgia', 'Saudi Arabia', 'Armenia', 'Turkey', 'Libyan Arab Jamahiriya', 'Guam', 'Peru', 'Cuba', 'Brunei Darussalam', 'Martinique', 'Guinea', 'Saint Lucia', 'Portugal', 'Russian Federation', 'Senegal', 'Uruguay', 'Saint Helena', 'Angola', 'Dominican Republic', 'Guam', 'Paraguay', 'Cocos (Keeling) Islands', 'Djibouti', 'Malta', 'Slovakia (Slovak Republic)', 'Mayotte', 'Seychelles', 'Bahrain', 'Switzerland', \"Lao People's Democratic Republic\", 'Montenegro', 'Belize', 'Portugal', 'Thailand', 'Western Sahara', 'Brazil', 'Cuba', 'Cocos (Keeling) Islands', 'Panama', 'Northern Mariana Islands', 'Luxembourg', 'Indonesia', 'Venezuela', 'Russian Federation', 'Equatorial Guinea', 'Sri Lanka', 'Papua New Guinea', 'Turks and Caicos Islands', 'Montenegro', 'United Arab Emirates', 'Mali', 'Gibraltar', 'Congo', 'Trinidad and Tobago', 'Kyrgyz Republic', 'United States Minor Outlying Islands', 'Mauritius', 'Yemen', 'Austria', 'Italy', 'Angola', 'Tanzania', 'Australia', 'Korea', 'Liberia', 'Bermuda', 'Estonia', 'Canada', 'Armenia', 'North Macedonia', 'Saint Kitts and Nevis', 'Hungary', 'Palestinian Territory', 'Eritrea', 'United States Minor Outlying Islands', 'Montserrat', 'Algeria', 'Nepal', 'Solomon Islands', 'Hungary', 'Antigua and Barbuda', 'Gabon', 'Montenegro', 'Guadeloupe', 'Guatemala', 'Turks and Caicos Islands', 'Eritrea', 'South Georgia and the South Sandwich Islands', 'Gibraltar', 'Equatorial Guinea', 'Andorra', 'Greenland', 'French Guiana', 'Sweden', 'Nicaragua', 'Greece', 'Lebanon', 'Spain', 'Turkmenistan', 'Iceland', 'Belarus', 'Guinea-Bissau', 'United States Virgin Islands', 'Barbados', 'Slovakia (Slovak Republic)', 'Luxembourg', 'Bahamas', 'Tunisia', 'Mauritius', 'Sierra Leone', 'Cook Islands', 'Italy', 'Malaysia', 'Venezuela', 'Yemen', 'Norfolk Island', 'Micronesia', 'Serbia', 'Rwanda', 'Suriname', 'Iraq', 'Honduras', 'Pitcairn Islands', 'Latvia', 'Samoa', 'Netherlands', 'Serbia', 'Greece', 'Slovenia', 'Ghana', 'Indonesia', 'Chile', 'Belize', 'British Indian Ocean Territory (Chagos Archipelago)', 'Guatemala', 'Moldova', 'Philippines', 'Hungary', 'Liechtenstein', 'Iceland', 'Bolivia', 'Latvia', 'Armenia', 'Argentina', 'Micronesia', 'Germany', 'Netherlands', 'Lebanon', 'Korea', 'Niger', 'Ethiopia', 'Christmas Island', 'Kyrgyz Republic', 'Somalia', 'Netherlands Antilles', 'Central African Republic', 'Netherlands Antilles', 'Afghanistan', 'Bermuda', 'Senegal', 'Greece', 'Tokelau', 'Slovenia', 'Maldives', 'Mali', 'Luxembourg', 'Niger', 'Niue', 'Costa Rica', 'Western Sahara', 'Bhutan', 'Reunion', 'United Arab Emirates', 'Malawi', 'Myanmar', 'Senegal', 'Gibraltar', 'British Virgin Islands', 'Dominican Republic', 'Cuba', 'Libyan Arab Jamahiriya', 'Congo', 'Myanmar', 'Cook Islands', 'Guam', 'Norfolk Island', 'Korea', 'Benin', 'Belize', 'Chile', 'Niue', 'Italy', 'Morocco', 'North Macedonia', 'Palestinian Territory', 'Palau', 'Macao', 'Solomon Islands', 'Australia', 'Yemen', 'Canada', 'Netherlands', 'Falkland Islands (Malvinas)', 'Botswana', 'Rwanda', 'Saudi Arabia', 'Northern Mariana Islands', 'Colombia', 'Lesotho', 'Sudan', 'Hungary', 'Romania', 'Rwanda', 'Christmas Island', 'Falkland Islands (Malvinas)', 'Brunei Darussalam', 'Holy See (Vatican City State)', 'Syrian Arab Republic', 'Costa Rica', 'Christmas Island', 'Madagascar', 'Saudi Arabia', 'Guernsey', 'Netherlands Antilles', 'Cook Islands', 'Svalbard & Jan Mayen Islands', 'Australia', 'United Kingdom', 'Malta', 'Guernsey', 'Angola', 'Cameroon', 'Ethiopia', \"Cote d'Ivoire\", 'Burundi', 'Bhutan', 'Uganda', 'Chile', 'Germany', 'Guadeloupe', 'Iceland', 'Croatia', 'Bulgaria', 'Suriname', 'Sudan', 'Madagascar', 'Saint Vincent and the Grenadines', 'Netherlands Antilles', 'Panama', 'New Zealand', 'Norway', 'Jersey', 'Netherlands Antilles', 'Puerto Rico', 'Norfolk Island', 'Niue', 'Martinique', 'Martinique', 'Kuwait', 'Croatia', 'British Virgin Islands', 'Georgia', 'Peru', 'Saint Vincent and the Grenadines', 'Saint Vincent and the Grenadines', 'Norway', 'Bouvet Island (Bouvetoya)', 'Czech Republic', 'China', 'Chad', \"Lao People's Democratic Republic\", 'Pitcairn Islands', 'Guinea-Bissau', 'British Virgin Islands', 'Gabon', 'Somalia', 'Tajikistan', 'Mauritania', 'Cambodia', 'Jersey', 'Sudan', 'Ireland', 'Turkey', 'Ukraine', 'Comoros', 'Tajikistan', 'Venezuela', 'Kyrgyz Republic', 'Bangladesh', \"Cote d'Ivoire\", 'Czech Republic', 'Malaysia', 'Sao Tome and Principe', 'Venezuela', 'Bahrain', 'Faroe Islands', 'Uganda', 'Maldives', 'Cook Islands', 'Mexico', 'Equatorial Guinea', 'Turkey', 'Ukraine', 'Aruba', 'Barbados', 'Saint Vincent and the Grenadines', 'Wallis and Futuna', 'Tanzania', 'Romania', 'Uruguay', 'Qatar', 'Pakistan', 'Comoros', 'Tuvalu', 'Norfolk Island', 'Papua New Guinea', 'Morocco', 'Albania', 'Austria', 'Gabon', 'Lithuania', 'San Marino', 'Austria', 'Panama', 'Pitcairn Islands', 'Mongolia', 'Bouvet Island (Bouvetoya)', 'United States of America', 'Cook Islands', 'Egypt', \"Lao People's Democratic Republic\", 'Saint Lucia', 'Egypt', 'Solomon Islands', 'Central African Republic', 'Austria', 'Japan', 'Vietnam', 'Congo', 'Reunion', 'Marshall Islands', 'Haiti', 'Sri Lanka', 'Uganda', 'Kiribati', 'Costa Rica', 'Saint Vincent and the Grenadines', 'Mali', 'Hungary', 'Saudi Arabia', 'Dominican Republic', 'Christmas Island', 'Puerto Rico', 'British Virgin Islands', 'Poland', 'Haiti', 'Liberia', 'Nigeria', 'Wallis and Futuna', 'Tuvalu', 'Peru', 'Germany', 'Mali', 'Western Sahara', 'Madagascar', 'Honduras', 'Hungary', 'Malaysia', 'China', 'Guatemala', 'Liberia', 'Brunei Darussalam', 'United Arab Emirates', 'Bhutan', 'Bahamas', 'United Arab Emirates', 'Italy', 'Liechtenstein', 'Togo', 'Dominica', 'San Marino', 'Myanmar', 'Angola', 'Montserrat', 'Finland', 'Mayotte', 'Namibia', 'Cocos (Keeling) Islands', 'Ecuador', 'British Indian Ocean Territory (Chagos Archipelago)', 'Svalbard & Jan Mayen Islands', 'Greenland', 'Bosnia and Herzegovina', 'Yemen', 'Maldives', 'Grenada', 'Saint Vincent and the Grenadines', 'Ethiopia', 'Armenia', 'Ukraine', 'Niger', 'Montserrat', 'Guinea', 'Papua New Guinea', 'Estonia', 'Mauritius', 'Reunion', 'New Zealand', 'Bolivia', 'Gabon', 'Timor-Leste', 'Monaco', 'American Samoa', \"Cote d'Ivoire\", 'Austria', 'Reunion', 'Botswana', 'Canada', 'Papua New Guinea', 'Egypt', 'Norway', 'Yemen', 'Gambia', 'Egypt', 'Brunei Darussalam', 'Saudi Arabia', 'Tanzania', 'French Polynesia', 'Antigua and Barbuda', 'Bangladesh', 'India', 'Lithuania', 'Armenia', 'Cameroon', 'Syrian Arab Republic', 'Slovakia (Slovak Republic)', 'Sao Tome and Principe', 'Georgia', 'Australia', 'Djibouti', 'Taiwan', 'Netherlands', 'Serbia', 'British Indian Ocean Territory (Chagos Archipelago)', 'Serbia', 'Namibia', 'Norway', 'Mauritania', 'Guinea', 'Bermuda', 'Namibia', 'Albania', 'Svalbard & Jan Mayen Islands', 'French Guiana', 'British Virgin Islands', 'Sweden', 'Niue', 'Guadeloupe', 'Italy', 'Tokelau', 'Holy See (Vatican City State)', 'Kiribati', 'French Polynesia', 'El Salvador', 'Saint Lucia', 'Bahamas', 'Thailand', 'Angola', 'Guinea-Bissau', 'Brazil', 'Comoros', 'Ethiopia', 'Saint Martin', 'Namibia', 'Iceland', 'Afghanistan', 'Kiribati', 'Jersey', 'Qatar', 'Guam', 'Palau', 'Iran', 'Liberia', 'Uganda', 'Estonia', 'Peru', 'South Africa', 'Pakistan', 'Sudan', 'Tanzania', 'Bahamas', 'Italy', 'Namibia', 'Lesotho', 'Croatia', 'Kyrgyz Republic', 'Malaysia', 'Guatemala', 'Madagascar', 'Haiti', 'Antigua and Barbuda', 'Nigeria', 'Hong Kong', 'Japan', 'Liberia', 'Dominican Republic', 'Ireland', 'Rwanda', 'Lebanon', 'French Guiana', 'Ghana', 'Isle of Man', 'Mexico', 'French Southern Territories', 'Oman', 'Iran', 'Liechtenstein', 'Israel', 'Reunion', 'Solomon Islands', 'Mali', 'France', 'Zimbabwe', 'United Kingdom', 'Northern Mariana Islands', 'Chad', 'Burkina Faso', 'San Marino', 'Guam', 'Palau', 'Puerto Rico', 'Latvia', 'Mayotte', 'Qatar', 'Norway', 'Bahrain', 'Swaziland', 'Kenya', 'Congo', 'Saint Helena', 'Tuvalu', 'Djibouti', 'San Marino', 'Bosnia and Herzegovina', 'United Kingdom', 'Turks and Caicos Islands', 'Central African Republic', 'British Virgin Islands', 'Greece', 'Guatemala', 'Grenada', 'Kuwait', 'Albania', 'Myanmar', 'Peru', 'Mauritius', 'Svalbard & Jan Mayen Islands', 'Tuvalu', 'Chile', 'Poland', 'Burundi', 'Sudan', 'Moldova', 'Niue', 'Kuwait', 'Egypt', 'Marshall Islands', 'Japan', 'Guinea', 'Andorra', 'Turkmenistan', 'Angola', 'Zambia', 'Hungary', 'Azerbaijan', 'Ethiopia', 'Liberia', 'Chad', 'Svalbard & Jan Mayen Islands', 'France', 'Netherlands Antilles', 'Tunisia', 'Jordan', 'Cocos (Keeling) Islands', 'Saint Vincent and the Grenadines', 'Svalbard & Jan Mayen Islands', 'Nauru', 'Togo', 'Uruguay', 'Hungary', 'Spain', 'Syrian Arab Republic', 'Kazakhstan', 'Chile', 'Indonesia', 'Chad', 'Guatemala', 'Guyana', 'India', 'Chad', 'Niger', 'Chile', 'Venezuela', 'Rwanda', 'Papua New Guinea', 'San Marino', 'French Guiana', 'Equatorial Guinea', 'Saint Vincent and the Grenadines', 'British Virgin Islands', 'Bolivia', 'Taiwan', 'Guam', 'Liechtenstein', 'Bahamas', 'Christmas Island', 'Dominican Republic', 'Aruba', 'Pakistan', 'Turks and Caicos Islands', 'Serbia', 'Northern Mariana Islands', 'Eritrea', 'Monaco', 'Marshall Islands', 'Malawi', 'Cuba', 'Syrian Arab Republic', 'Kiribati', 'Togo', 'Estonia', 'United Arab Emirates', 'Armenia', 'Sri Lanka', 'Tanzania', 'Saint Lucia', 'Djibouti', 'Germany', 'French Southern Territories', 'Kazakhstan', 'Nicaragua', 'Chad', 'Burkina Faso', 'Norway', 'French Guiana', 'Sao Tome and Principe', 'Sweden', 'Swaziland', 'Bhutan', 'Korea', 'Algeria', 'Maldives', 'Italy', 'French Southern Territories', 'Serbia', 'Mozambique', 'Zambia', 'Chad', 'Reunion', 'Bolivia', 'Georgia', 'Tanzania', 'Wallis and Futuna', 'Turks and Caicos Islands', 'Bermuda', 'Palestinian Territory', 'Faroe Islands', 'Tonga', 'American Samoa', 'Pitcairn Islands', 'Saint Kitts and Nevis', 'Syrian Arab Republic', 'Cocos (Keeling) Islands', 'Kyrgyz Republic', 'Japan', 'Guernsey', 'Maldives', 'Anguilla', 'Aruba', 'Madagascar', 'Cambodia', 'Portugal', 'Singapore', 'Jordan', 'Vietnam', 'Cyprus', 'Canada', 'Bahrain', 'Moldova', 'Slovakia (Slovak Republic)', 'Iceland', 'South Georgia and the South Sandwich Islands', 'Heard Island and McDonald Islands', 'Guinea', 'Thailand', 'Aruba', 'Estonia', 'South Georgia and the South Sandwich Islands', 'Christmas Island', 'Tanzania', 'Western Sahara', 'Yemen', 'Kyrgyz Republic', 'Cape Verde', 'Gibraltar', 'Belize', 'Thailand', 'Sierra Leone', 'Portugal', 'Angola', 'Zimbabwe', 'Guatemala', 'Andorra', 'Serbia', 'Kazakhstan', 'Monaco', 'Marshall Islands', 'Iran', 'Algeria', 'French Guiana', 'Turks and Caicos Islands', 'Bouvet Island (Bouvetoya)', 'Bangladesh', 'Malaysia', 'Tajikistan', 'Kazakhstan', 'Madagascar', 'South Georgia and the South Sandwich Islands', 'Nigeria', 'Bolivia', 'Uzbekistan', 'Madagascar', 'Samoa', 'Micronesia', 'Costa Rica', 'Malaysia', 'Malawi', 'Niger', 'Philippines', 'Armenia', 'Western Sahara', 'Oman', 'Togo', 'Djibouti', 'Nauru', 'Iran', 'Vietnam', 'Oman', 'Svalbard & Jan Mayen Islands', 'Norfolk Island', 'Egypt', 'Philippines', 'Argentina', 'Uganda', 'Reunion', 'Isle of Man', 'Greece', 'Chile', 'United Arab Emirates', 'Mauritania', 'Benin', 'Rwanda', 'Turkey', 'Christmas Island', 'New Zealand', 'Cyprus', 'Trinidad and Tobago', 'China', 'Eritrea', 'Portugal', 'Ghana', 'Reunion', 'Australia', 'Tajikistan', 'Switzerland', 'Antarctica (the territory South of 60 deg S)', 'Oman', 'Myanmar', 'Nepal', 'Madagascar', 'Saint Vincent and the Grenadines', 'Niger', 'Palestinian Territory', 'Guam', 'Kuwait', 'Peru', 'Palau', 'Armenia', 'Ecuador', 'Costa Rica', 'Honduras', 'Mexico', 'Australia', 'Faroe Islands', 'France', 'New Zealand', 'Kenya', 'Ukraine', 'Antarctica (the territory South of 60 deg S)', 'Spain', 'Liechtenstein', 'Yemen', 'Kazakhstan', 'Algeria', 'Monaco', 'Moldova', 'Reunion', 'Aruba', 'Mauritius', 'Togo', 'New Caledonia', 'Malta', 'Iceland', 'Guyana', 'Egypt', 'Mauritania', 'Mongolia', 'Croatia', 'Bermuda', 'Egypt', 'Greenland', 'Slovakia (Slovak Republic)', 'Finland', 'Sao Tome and Principe', 'Gabon', 'United Kingdom', 'Mozambique', 'Peru', 'Slovenia', 'Bhutan', 'Russian Federation', 'Nauru', 'Western Sahara', 'Monaco', 'Cocos (Keeling) Islands', 'Paraguay', 'Spain', 'Micronesia', 'Paraguay', 'United Arab Emirates', 'San Marino', 'Burundi', 'Turkmenistan', 'Zambia', 'Fiji', 'Brunei Darussalam', 'Grenada', 'Slovenia', 'Costa Rica', 'Heard Island and McDonald Islands', 'Martinique', 'Jamaica', 'Sierra Leone', 'Aruba', 'Barbados', 'Switzerland', 'Cyprus', 'Togo', 'Mozambique', 'Latvia', 'Cuba', 'Benin', 'Antigua and Barbuda', 'Oman', 'Tuvalu', 'Pakistan', 'Croatia', 'Malawi', 'Puerto Rico', 'Greece', 'Netherlands', 'Christmas Island', 'Algeria', 'Liechtenstein', 'Timor-Leste', 'Northern Mariana Islands', 'Bahrain', 'Saint Pierre and Miquelon', 'American Samoa', 'Guadeloupe', 'Tunisia', 'Tonga', 'Tuvalu', 'Germany', 'Poland', 'Czech Republic', 'Saudi Arabia', 'Mali', 'Samoa', 'Korea', 'Belarus', 'Nepal', 'Spain', 'Armenia', 'Bolivia', 'South Africa', 'Bangladesh', 'Wallis and Futuna', 'Namibia', 'Nicaragua', 'Burundi', 'Anguilla', 'Grenada', 'Serbia', 'Sudan', 'North Macedonia', 'Sweden', 'South Georgia and the South Sandwich Islands', 'Tunisia', 'United States Minor Outlying Islands', 'Kyrgyz Republic', 'Guinea-Bissau', 'Guatemala', 'Belgium', 'North Macedonia', 'Fiji', 'Uruguay', 'Argentina', 'Libyan Arab Jamahiriya', 'Saint Vincent and the Grenadines', 'Maldives', 'Seychelles', 'Botswana', 'Mozambique', 'Slovakia (Slovak Republic)', 'Philippines', 'Nigeria', 'Spain', 'Libyan Arab Jamahiriya', 'Puerto Rico', 'South Georgia and the South Sandwich Islands', 'Mongolia', 'Somalia', 'Wallis and Futuna', 'Wallis and Futuna', 'Gambia', 'Gambia', 'Ecuador', 'Ireland', 'Macao', 'Malawi', 'Yemen', 'Philippines', 'Grenada', 'Botswana', 'Niue', 'Netherlands Antilles', 'Germany', 'Iraq', 'Latvia', 'Turkey', 'Swaziland', 'Samoa', 'Martinique', 'Christmas Island', 'Panama', 'Guinea', 'Hong Kong', 'United States of America', 'Georgia', 'Turkey', 'Oman', 'Greece', 'Mongolia', 'Bermuda', 'Solomon Islands', 'Bhutan', 'Czech Republic', 'San Marino', 'Paraguay', 'Bangladesh', 'Cambodia', 'New Caledonia', 'Switzerland', 'Turkey', 'Tonga', 'Barbados', 'Chile', 'Niue', 'Albania', 'Mongolia', 'Haiti', 'Slovakia (Slovak Republic)', 'Samoa', 'Belarus', 'Faroe Islands', 'Serbia', 'Falkland Islands (Malvinas)', 'Kiribati', 'Micronesia', 'French Polynesia', 'Botswana', 'Serbia', 'Mozambique', 'Samoa', 'Aruba', 'South Georgia and the South Sandwich Islands', 'Grenada', 'Fiji', 'Argentina', 'Bulgaria', 'Sri Lanka', 'Svalbard & Jan Mayen Islands', 'North Macedonia', 'Cameroon', 'Marshall Islands', 'Chile', 'Paraguay', 'Djibouti', 'Saint Barthelemy', 'Serbia', 'Cook Islands', 'Bahrain', 'Slovenia', 'Peru', 'Brunei Darussalam', 'Bhutan', 'Brazil', 'Iran', 'United States Virgin Islands', 'Guinea-Bissau', 'Kyrgyz Republic', 'Gibraltar', 'Falkland Islands (Malvinas)', 'South Georgia and the South Sandwich Islands', 'Swaziland', 'Kenya', 'Sweden', 'Eritrea', 'Singapore', 'Uganda', 'India', 'Georgia', 'Lithuania', 'Romania', 'Seychelles', 'Serbia', 'Zambia', 'Trinidad and Tobago', 'Monaco', 'Tunisia', 'Cayman Islands', 'Cook Islands', 'Sudan', 'Indonesia', 'Central African Republic', 'United States Minor Outlying Islands', 'Cuba', 'Central African Republic', 'Paraguay', 'Nigeria', 'United Kingdom', 'Togo', 'Guinea-Bissau', 'Qatar', 'Macao', 'Hungary', 'Seychelles', 'Nigeria', 'Austria', 'Syrian Arab Republic', 'Bulgaria', 'Mexico', 'Puerto Rico', 'China', 'Saint Barthelemy', 'Comoros', 'Kiribati', 'Vietnam', 'Cape Verde', 'Palau', 'Sierra Leone', 'American Samoa', 'Belgium', 'Guadeloupe', 'Antigua and Barbuda', 'Israel', 'China', 'North Macedonia', 'Armenia', 'Guyana', 'Liechtenstein', 'Germany', 'United States Virgin Islands', 'India', 'Sudan', 'Tokelau', 'Singapore', 'Nigeria', 'Azerbaijan', 'Finland', 'Pakistan', 'Cook Islands', 'Bouvet Island (Bouvetoya)', 'Eritrea', 'Zambia', 'American Samoa', 'Saint Helena', 'British Virgin Islands', 'Ghana', 'Saint Pierre and Miquelon', 'Argentina', 'Dominican Republic', 'Madagascar', 'Iraq', 'Israel', 'Nigeria', 'Grenada', 'Cocos (Keeling) Islands', 'Lesotho', 'Togo', 'Puerto Rico', 'Ireland', 'Mexico', 'Cameroon', 'Macao', 'Marshall Islands', 'Latvia', 'Jersey', 'United States of America', 'Gibraltar', 'Djibouti', 'Heard Island and McDonald Islands', 'Finland', 'Nigeria', 'Micronesia', 'Nicaragua', 'United States Virgin Islands', 'Guernsey', 'Kyrgyz Republic', 'Saint Barthelemy', 'Heard Island and McDonald Islands', 'Bolivia', 'Puerto Rico', 'Iran', 'Slovakia (Slovak Republic)', 'Philippines', 'Moldova', 'Costa Rica', 'Rwanda', 'Turks and Caicos Islands', 'Thailand', 'Cayman Islands', 'Aruba', 'Montserrat', 'Andorra', 'French Polynesia', 'New Caledonia', 'Kuwait', 'Antarctica (the territory South of 60 deg S)', 'Cook Islands', 'Solomon Islands', 'Latvia', 'Palestinian Territory', 'Yemen', 'Tajikistan', 'Azerbaijan', 'Tuvalu', 'Philippines', 'South Georgia and the South Sandwich Islands', 'British Indian Ocean Territory (Chagos Archipelago)', 'Argentina', 'Japan', 'Congo', 'South Africa', 'Sierra Leone', 'Burundi', 'Macao', 'Slovakia (Slovak Republic)', 'Kazakhstan', 'Suriname', 'Algeria', 'Fiji', 'New Zealand', 'Germany', 'Bermuda', 'Sudan', 'Burkina Faso', 'Portugal', 'Denmark', 'Cameroon', 'Cyprus', 'Malta', 'Cambodia', 'Albania', 'Saudi Arabia', 'Bhutan', 'Palestinian Territory', 'United Kingdom', 'Isle of Man', 'Greece', 'Gibraltar', 'Russian Federation', 'Micronesia', 'Swaziland', 'Algeria', 'Saint Helena', 'Marshall Islands', 'Guam', 'Switzerland', 'Malta', 'Saint Lucia', 'Benin', 'Malawi', 'Qatar', 'Poland', 'Gibraltar', 'United States of America', 'Venezuela', 'Isle of Man', 'Iran', 'South Africa', 'Gabon', 'Denmark', 'Lebanon', 'Congo', 'French Southern Territories', 'Belgium', 'Equatorial Guinea', 'Pitcairn Islands', 'Monaco', 'American Samoa', 'Guatemala', 'Falkland Islands (Malvinas)', 'Yemen', 'Colombia', 'Turkmenistan', 'Lebanon', 'Nigeria', 'Falkland Islands (Malvinas)', 'Swaziland', 'Kuwait', 'Papua New Guinea', 'Guinea-Bissau', 'Greenland', 'Central African Republic', 'Zambia', 'Cambodia', 'Hungary', 'Sri Lanka', 'Barbados', 'Uzbekistan', 'Nigeria', 'Bahrain', 'Mexico', 'Kuwait', 'Slovenia', 'Andorra', 'Korea', 'Somalia', 'Switzerland', 'Qatar', 'Wallis and Futuna', 'Malta', 'French Guiana', 'Korea', 'Tajikistan', 'United States Minor Outlying Islands', 'Zambia', 'El Salvador', 'Palau', 'Jersey', 'United States of America', 'Panama', 'Christmas Island', 'Swaziland', 'Paraguay', 'Montserrat', 'Marshall Islands', 'Korea', 'Togo', 'Vanuatu', 'Guinea', 'Iran', 'Holy See (Vatican City State)', 'Haiti', 'Antarctica (the territory South of 60 deg S)', 'Algeria', 'Bahamas', 'Thailand', 'Colombia', 'Congo', 'Seychelles', 'Netherlands Antilles', 'Jamaica', 'Antigua and Barbuda', 'United States Virgin Islands', 'Ukraine', 'Ecuador', 'Portugal', 'United Kingdom', 'Nigeria', 'Saint Martin', 'Vietnam', 'Romania', 'French Guiana', 'Costa Rica', 'Czech Republic', 'Seychelles', 'Costa Rica', 'Cameroon', 'Moldova', 'Turkey', 'Spain', 'Netherlands Antilles', 'Angola', 'Serbia', 'South Africa', 'Peru', 'Pitcairn Islands', 'Austria', 'Sudan', 'South Africa', 'Svalbard & Jan Mayen Islands', 'Guatemala', 'Italy', 'Slovenia', 'Ireland', 'Central African Republic', 'Timor-Leste', 'Rwanda', 'Iceland', 'Armenia', 'Netherlands', 'Turkey', 'Taiwan', \"Cote d'Ivoire\", 'Mauritius', 'French Polynesia', 'Italy', 'Yemen', 'Saint Kitts and Nevis', 'Tanzania', 'Philippines', 'Seychelles', 'Paraguay', 'Netherlands Antilles', 'Iran', 'Myanmar', 'Bulgaria', 'Ghana', 'Bulgaria', 'Barbados', 'French Southern Territories', 'Ecuador', 'Mayotte', 'Indonesia', 'Cuba', 'Oman', 'Costa Rica', 'Saint Pierre and Miquelon', 'Guyana', 'Croatia', 'Equatorial Guinea', 'Uganda', 'Bolivia', 'Grenada', 'Cyprus', 'Anguilla', 'Mayotte', 'South Georgia and the South Sandwich Islands', 'Hong Kong', 'Equatorial Guinea', 'Norfolk Island', 'Mauritius', \"Cote d'Ivoire\", 'Uganda', 'Northern Mariana Islands', 'Dominican Republic', 'Guadeloupe', 'Andorra', 'Israel', 'Rwanda', 'Namibia', 'Monaco', 'Solomon Islands', 'Ethiopia', 'Sri Lanka', 'Brazil', 'Saint Kitts and Nevis', 'Iraq', 'Bangladesh', 'Guernsey', 'Uruguay', 'Gambia', 'Iran', 'Netherlands', 'Pitcairn Islands', 'Uruguay', 'Samoa', 'Saint Martin', 'Turkmenistan', 'Grenada', 'Sierra Leone', 'Portugal', 'Somalia', 'Hong Kong', 'Jamaica', 'Comoros', 'Bahrain', 'Bosnia and Herzegovina', 'Thailand', 'Panama', 'Montserrat', 'Micronesia', 'Luxembourg', 'Syrian Arab Republic', 'Switzerland', 'Colombia', 'Guinea-Bissau', 'Heard Island and McDonald Islands', 'Ghana', 'Czech Republic', 'Jordan', 'Turkmenistan', 'Mongolia', 'Guatemala', 'Guatemala', 'Cape Verde', 'Portugal', 'Luxembourg', 'Isle of Man', 'French Polynesia', 'Tunisia', 'Bulgaria', 'Rwanda', 'Congo', 'South Africa', 'Timor-Leste', 'United States of America', 'Saint Barthelemy', \"Cote d'Ivoire\", 'Liechtenstein', 'Nicaragua', 'Jordan', \"Lao People's Democratic Republic\", 'Taiwan', 'French Polynesia', 'Azerbaijan', 'Central African Republic', 'Qatar', 'South Georgia and the South Sandwich Islands', 'Tokelau', 'Syrian Arab Republic', 'South Africa', 'Christmas Island', 'Montserrat', 'Kyrgyz Republic', 'Cameroon', 'Korea', 'American Samoa', 'Brazil', 'Morocco', 'Senegal', 'Qatar', 'Sudan', 'Saint Kitts and Nevis', 'Saint Pierre and Miquelon', 'United States of America', 'United States of America', 'Heard Island and McDonald Islands', 'Palau', 'Somalia', 'Thailand', 'Guinea', 'Taiwan', 'Guinea-Bissau', 'Zimbabwe', 'Hong Kong', 'Myanmar', 'Azerbaijan', 'Guadeloupe', 'Israel', 'Turkey', 'Algeria', 'South Georgia and the South Sandwich Islands', 'Northern Mariana Islands', 'Greece', 'Western Sahara', 'Antigua and Barbuda', 'Montserrat', 'Wallis and Futuna', 'Greenland', 'Lebanon', \"Cote d'Ivoire\", 'Mauritius', 'Belgium', 'Switzerland', 'Hong Kong', 'Solomon Islands', 'Liechtenstein', 'Korea', 'Macao', 'Saint Vincent and the Grenadines', 'Guernsey', 'Samoa', 'Uganda', 'Argentina', 'Costa Rica', 'Comoros', 'Cook Islands', 'Guyana', 'Croatia', 'Sierra Leone', 'Mauritius', 'Chile', 'Swaziland', 'Sweden', 'South Africa', 'United States of America', 'Thailand', 'Pitcairn Islands', 'Slovenia', 'Bermuda', 'Fiji', 'Chad', 'Isle of Man', 'French Southern Territories', 'Bouvet Island (Bouvetoya)', 'Andorra', 'Brazil', 'Myanmar', \"Lao People's Democratic Republic\", 'Korea', 'Djibouti', 'Cook Islands', 'Cambodia', 'Ukraine', 'Anguilla', 'British Virgin Islands', 'Greenland', 'Mexico', 'Angola', 'Mauritania', 'Grenada', 'Hong Kong', 'Syrian Arab Republic', 'Liechtenstein', 'Gibraltar', 'Djibouti', 'Andorra', 'Czech Republic', 'Kyrgyz Republic', 'Mayotte', 'Libyan Arab Jamahiriya', 'Myanmar', 'Vietnam', 'Saint Kitts and Nevis', 'Marshall Islands', 'Indonesia', 'Saint Vincent and the Grenadines', 'French Guiana', 'Mozambique', 'British Indian Ocean Territory (Chagos Archipelago)', 'Equatorial Guinea', 'Bahamas', 'Philippines', 'Poland', 'San Marino', 'Armenia', 'El Salvador', 'Cocos (Keeling) Islands', 'Marshall Islands', 'Nepal', 'Ireland', 'France', 'Pitcairn Islands', 'Central African Republic', 'Georgia', 'Kuwait', 'Malta', 'Niue', 'Cape Verde', 'India', 'Nicaragua', 'Uruguay', 'Ireland', 'Slovakia (Slovak Republic)', 'Brunei Darussalam', 'Czech Republic', 'Korea', 'Honduras', 'Anguilla', 'Peru', 'Ireland', 'Iran', 'United Kingdom', 'Togo', 'Namibia', 'Nauru', 'Georgia', 'Bangladesh', 'Kazakhstan', 'Montserrat', 'Seychelles', 'Jordan', 'Germany', 'Uzbekistan', 'United States Minor Outlying Islands', 'Kiribati', 'Iran', 'Gambia', 'Slovenia', 'South Africa', 'India', 'Ghana', 'North Macedonia', 'Saint Kitts and Nevis', 'Norway', \"Lao People's Democratic Republic\", 'Western Sahara', 'Azerbaijan', 'France', 'Dominican Republic', 'Jordan', 'Burkina Faso', 'Mauritania', 'Kazakhstan', 'Greece', 'Guinea-Bissau', 'Korea', 'Vanuatu', 'El Salvador', 'Palau', 'Colombia', 'Belize', 'China', 'Congo', 'Sao Tome and Principe', 'Bouvet Island (Bouvetoya)', 'Singapore', 'Turkey', \"Lao People's Democratic Republic\", 'Switzerland', 'Libyan Arab Jamahiriya', 'Micronesia', 'Fiji', 'Guinea-Bissau', 'Suriname', 'Portugal', 'Aruba', 'Canada', 'Angola', 'Reunion', 'Philippines', 'Spain', 'Mali', 'Morocco', 'Haiti', 'Sri Lanka', 'Malta', 'Malaysia', 'Guinea', 'Uzbekistan', 'Lithuania', 'French Polynesia', 'Taiwan', 'Saint Martin', 'Cape Verde', 'Sao Tome and Principe', 'Palau', 'Zambia', 'Guam', 'Guyana', 'Turkey', 'Uzbekistan', 'Namibia', 'Burundi', 'Guinea', 'Yemen', 'Vietnam', 'United States Virgin Islands', 'Lebanon', 'Japan', 'Togo', 'Cameroon', 'Cuba', 'Ethiopia', 'Sudan', 'Fiji', 'Tajikistan', 'Nigeria', 'Turks and Caicos Islands', 'Russian Federation', 'Vanuatu', 'Sudan', 'Australia', 'Uruguay', 'French Southern Territories', 'Tokelau', 'Uganda', 'Peru', 'Chad', 'Syrian Arab Republic', 'Austria', 'Gambia', 'Austria', 'Guyana', 'Romania', 'Antarctica (the territory South of 60 deg S)', 'Angola', 'Philippines', 'Korea', 'Cyprus', 'Tunisia', 'Bouvet Island (Bouvetoya)', 'Bermuda', 'San Marino', 'Holy See (Vatican City State)', 'Czech Republic', 'Malaysia', 'Benin', 'Hungary', 'United States Virgin Islands', 'Uruguay', 'Saint Lucia', 'United Arab Emirates', 'Comoros', 'Serbia', 'Barbados', 'Tanzania', 'Holy See (Vatican City State)', 'Micronesia', 'Philippines', 'Venezuela', 'Montenegro', 'Marshall Islands', 'Moldova', 'Kuwait', 'Finland', 'Wallis and Futuna', 'Saint Lucia', 'Dominican Republic', 'Sri Lanka', 'Brazil', 'Argentina', 'Tunisia', 'Morocco', 'Finland', 'Malta', 'Netherlands', 'Thailand', 'American Samoa', 'Brunei Darussalam', 'Romania', 'Netherlands', 'Macao', 'Marshall Islands', 'Jordan', 'Denmark', 'Philippines', 'Palestinian Territory', 'Cook Islands', 'Guam', 'Benin', 'Saint Martin', 'Turkey', 'Nicaragua', 'British Virgin Islands', 'Portugal', 'Haiti', 'Congo', 'Fiji', 'Sao Tome and Principe', 'Lesotho', 'Martinique', 'Finland', 'Austria', 'Canada', 'Saudi Arabia', 'Namibia', 'Czech Republic', 'Qatar', 'Cyprus', 'Luxembourg', 'American Samoa', 'Botswana', 'Cook Islands', 'Zambia', 'Uganda', 'Mozambique', 'Afghanistan', 'British Virgin Islands', 'Malta', 'Micronesia', 'Niger', 'Samoa', 'Somalia', 'Panama', 'United States Virgin Islands', 'Belgium', 'Israel', 'Heard Island and McDonald Islands', 'Andorra', 'Turks and Caicos Islands', 'Ecuador', 'Somalia', 'Gambia', 'Luxembourg', 'Norway', 'Mauritius', 'Namibia', 'United States Virgin Islands', 'Ghana', 'Singapore', 'Venezuela', 'Niue', 'Zambia', 'Bangladesh', 'Tunisia', 'Turkmenistan', 'Korea', 'Sao Tome and Principe', 'Ecuador', 'Saudi Arabia', 'British Indian Ocean Territory (Chagos Archipelago)', 'Burundi', 'Andorra', 'Senegal', 'Jamaica', 'Martinique', 'Central African Republic', 'Zambia', 'Uzbekistan', 'Andorra', 'Saint Lucia', 'Cameroon', 'Kenya', 'Gambia', 'Canada', 'Tonga', 'Malta', 'Montenegro', 'Gabon', 'Turkmenistan', 'Heard Island and McDonald Islands', 'Puerto Rico', 'Antarctica (the territory South of 60 deg S)', 'United States of America', 'Bangladesh', 'Dominican Republic', 'Iraq', 'Antigua and Barbuda', 'Nicaragua', 'Bahrain', 'Bouvet Island (Bouvetoya)', 'Heard Island and McDonald Islands', 'Dominican Republic', 'Martinique', 'Antigua and Barbuda', 'Denmark', 'Switzerland', 'Mexico', 'Guinea', 'British Virgin Islands', 'Canada', 'Solomon Islands', 'Jersey', 'Puerto Rico', 'Pitcairn Islands', 'Namibia', 'Grenada', 'American Samoa', 'Colombia', 'Antigua and Barbuda', 'Djibouti', 'San Marino', 'Netherlands Antilles', 'Ethiopia', 'Swaziland', 'Botswana', 'Peru', 'Mongolia', 'Sweden', 'Brunei Darussalam', 'France', 'Guinea-Bissau', 'Bosnia and Herzegovina', 'Finland', 'Barbados', 'North Macedonia', 'Senegal', 'Aruba', 'Montserrat', 'Afghanistan', 'Jordan', 'San Marino', 'Haiti', 'Israel', 'Gabon', 'United Kingdom', 'Cambodia', 'Montenegro', 'Bouvet Island (Bouvetoya)', 'Greenland', 'Hungary', 'United States Virgin Islands', 'Sudan', 'Bouvet Island (Bouvetoya)', 'Uruguay', 'Ghana', 'Slovenia', 'Norfolk Island', 'Monaco', 'South Africa', 'Sao Tome and Principe', 'Qatar', 'Tanzania', 'United States Virgin Islands', 'Kiribati', 'Burkina Faso', 'Cuba', 'Niue', 'Anguilla', 'British Indian Ocean Territory (Chagos Archipelago)', 'Oman', 'Singapore', 'Mauritania', 'Mexico', 'Iceland', 'France', 'Cayman Islands', 'Bangladesh', 'Philippines', 'Faroe Islands', 'Belarus', 'Montenegro', 'Ireland', 'Uruguay', 'Taiwan', 'Ecuador', 'Falkland Islands (Malvinas)', 'Canada', 'Bangladesh', 'Nepal', 'Botswana', 'Thailand', 'Norway', 'Saint Barthelemy', 'Eritrea', 'Mozambique', 'Samoa', 'Sweden', 'Nicaragua', 'Gibraltar', 'Pakistan', 'Lithuania', 'China', 'Antarctica (the territory South of 60 deg S)', 'Ethiopia', 'Lebanon', 'Mauritania', \"Cote d'Ivoire\", 'Malawi', 'Belgium', 'Tanzania', 'Chile', 'Niger', 'Jordan', 'Morocco', 'Cook Islands', 'France', 'Cook Islands', 'Comoros', 'Belgium', 'Falkland Islands (Malvinas)', 'Argentina', 'Macao', 'Vietnam', 'Grenada', 'Wallis and Futuna', 'Togo', 'Montenegro', 'Turkey', 'Guyana', 'Saint Vincent and the Grenadines', 'Peru', 'Latvia', 'Pakistan', 'France', 'Guadeloupe', 'Malta', 'Cook Islands', 'Sierra Leone', 'Djibouti', 'United Kingdom', 'Syrian Arab Republic', 'Norway', 'Latvia', 'Senegal', 'Anguilla', 'Botswana', 'Uzbekistan', 'Ecuador', 'Uzbekistan', 'Chile', 'Bahamas', 'Lebanon', 'Colombia', 'Reunion', 'Bermuda', 'Algeria', 'Bahamas', 'Georgia', 'Antigua and Barbuda', 'Burundi', 'Gibraltar', 'Equatorial Guinea', 'Maldives', 'Libyan Arab Jamahiriya', 'Cook Islands', 'Yemen', 'Poland', 'Micronesia', 'Bahrain', 'Kuwait', 'Cocos (Keeling) Islands', 'Macao', 'Bhutan', 'Namibia', 'Denmark', 'Sri Lanka', 'Mozambique', 'Timor-Leste', 'Angola', 'Portugal', 'Jamaica', 'France', 'Zimbabwe', 'Lebanon', 'Svalbard & Jan Mayen Islands', 'Ghana', 'Guernsey', 'Japan', 'Namibia', 'Tanzania', 'Italy', 'Azerbaijan', 'Luxembourg', 'Botswana', 'Guatemala', 'Senegal', 'Iceland', 'Iran', 'Northern Mariana Islands', 'United States of America', 'Nicaragua', 'Ghana', 'Latvia', 'Argentina', 'Sri Lanka', 'Tokelau', 'Turkmenistan', 'Burundi', 'Netherlands', 'Sweden', 'Moldova', 'Heard Island and McDonald Islands', 'Solomon Islands', 'Denmark', 'Bolivia', 'Spain', 'Vietnam', 'Bermuda', 'Trinidad and Tobago', 'Philippines', 'Guinea-Bissau', 'Turkey', 'Saint Barthelemy', 'Venezuela', 'United Kingdom', 'Solomon Islands', 'India', 'Bahamas', 'Ireland', 'Bouvet Island (Bouvetoya)', 'Papua New Guinea', 'Botswana', 'Philippines', 'Mauritania', 'Morocco', 'Andorra', 'Reunion', 'Iceland', 'Cyprus', 'New Zealand', 'Wallis and Futuna', 'Turkmenistan', 'Congo', 'Sudan', 'Puerto Rico', 'Singapore', 'Chad', 'Saint Helena', 'United States of America', 'Guinea-Bissau', 'Mauritania', 'Ukraine', 'Croatia', 'Christmas Island', 'India', 'France', 'Seychelles', 'Comoros', \"Cote d'Ivoire\", 'Holy See (Vatican City State)', 'Falkland Islands (Malvinas)', 'Switzerland', 'Slovakia (Slovak Republic)', 'Timor-Leste', 'Turkey', 'Madagascar', 'Holy See (Vatican City State)', 'Brazil', 'Australia', 'Anguilla', 'Congo', 'Palestinian Territory', 'Lesotho', 'Central African Republic', 'Isle of Man', 'Swaziland', 'Cook Islands', 'United States Virgin Islands', 'El Salvador', 'Eritrea', 'Iceland', 'Bosnia and Herzegovina', 'Chad', 'French Guiana', 'Tajikistan', 'Saint Vincent and the Grenadines', 'Lithuania', 'Sao Tome and Principe', 'Kuwait', 'India', 'Guinea-Bissau', 'France', 'Portugal', 'Palestinian Territory', 'Guernsey', 'Djibouti', 'China', 'Oman', 'Algeria', 'Greece', 'Guatemala', 'Iceland', 'Fiji', 'Greenland', 'Serbia', 'United Arab Emirates', 'Maldives', 'Cook Islands', 'Anguilla', 'Georgia', 'Greece', 'Iceland', 'Mongolia', 'Lithuania', 'Zambia', 'Jersey', 'Peru', 'Yemen', 'Benin', 'Germany', 'Burkina Faso', 'Christmas Island', 'Estonia', 'Seychelles', 'Falkland Islands (Malvinas)', 'Hong Kong', 'Reunion', 'Gabon', 'Trinidad and Tobago', 'Fiji', 'Turkey', 'Israel', 'Taiwan', 'Fiji', 'Turkey', 'Liechtenstein', 'Guyana', 'Nepal', 'Croatia', 'Libyan Arab Jamahiriya', 'New Zealand', 'Tonga', 'Equatorial Guinea', 'Comoros', 'Norfolk Island', 'Greenland', 'Slovakia (Slovak Republic)', 'Suriname', 'Holy See (Vatican City State)', 'Montserrat', 'Tuvalu', 'Malawi', 'Madagascar', 'New Caledonia', 'Cape Verde', 'Holy See (Vatican City State)', 'Togo', 'Netherlands', 'Belgium', 'Mayotte', 'Guam', 'Tokelau', 'Nicaragua', 'Heard Island and McDonald Islands', 'Saint Martin', 'Armenia', 'Vietnam', 'Libyan Arab Jamahiriya', 'Iran', 'Indonesia', 'British Virgin Islands', 'Malta', 'Benin', 'Mayotte', 'Colombia', 'Macao', 'Ireland', 'Guernsey', 'Portugal', 'Guadeloupe', 'Montenegro', 'Bhutan', 'Guadeloupe', 'Chile', 'Netherlands', 'Romania', 'Djibouti', 'Niger', 'Tajikistan', 'Mayotte', 'Bouvet Island (Bouvetoya)', 'Samoa', 'Canada', 'Iran', 'Dominican Republic', 'France', 'Palestinian Territory', 'Anguilla', 'Tajikistan', 'El Salvador', 'Liechtenstein', 'Israel', 'Panama', 'Madagascar', 'Barbados', 'Kenya', 'Tanzania', 'Peru', 'Korea', 'Cuba', 'Cameroon', 'Brazil', 'Iran', 'Mali', 'New Caledonia', 'Mongolia', 'Sri Lanka', 'Antarctica (the territory South of 60 deg S)', 'Swaziland', 'Thailand', 'Antigua and Barbuda', 'Czech Republic', 'Argentina', 'Puerto Rico', 'Guinea', 'Bahrain', 'Yemen', 'Comoros', 'China', 'Nepal', 'Singapore', 'Tonga', 'Serbia', 'Grenada', 'Albania', 'Djibouti', 'Timor-Leste', 'Angola', 'Guam', 'Zambia', 'Antarctica (the territory South of 60 deg S)', 'Azerbaijan', 'Qatar', 'Mexico', 'Iran', 'Suriname', 'Belarus', 'Martinique', 'Swaziland', 'Nauru', 'United States Minor Outlying Islands', 'Macao', 'New Caledonia', 'Isle of Man', 'Chile', 'Pakistan', 'Thailand', 'Antigua and Barbuda', 'Saint Martin', 'Paraguay', 'Saint Martin', 'Mali', 'United Arab Emirates', 'Switzerland', 'Eritrea', 'Sierra Leone', 'Isle of Man', 'Argentina', 'Costa Rica', 'Gabon', 'South Africa', 'Sao Tome and Principe', 'Korea', 'United Kingdom', 'Brazil', \"Cote d'Ivoire\", 'Liechtenstein', 'Greece', 'Saint Martin', 'Romania', 'Panama', 'Somalia', 'Cook Islands', 'Hong Kong', 'Tanzania', 'Zambia', 'El Salvador', 'Burundi', 'Cuba', 'Taiwan', 'Kenya', 'Anguilla', 'Bolivia', 'Senegal', 'Gibraltar', 'Egypt', 'Guadeloupe', 'El Salvador', 'Slovakia (Slovak Republic)', 'Slovenia', 'Samoa', 'Mali', 'Portugal', 'Guam', 'Angola', 'Zambia', 'Antigua and Barbuda', 'Nepal', 'Austria', 'Congo', 'American Samoa', 'Russian Federation', 'Paraguay', 'Austria', 'Argentina', 'Romania', 'Dominican Republic', 'British Virgin Islands', 'Iceland', 'Libyan Arab Jamahiriya', 'Spain', 'Antarctica (the territory South of 60 deg S)', 'Algeria', 'Kazakhstan', 'Saint Martin', 'Sweden', 'South Africa', 'North Macedonia', 'Jersey', 'Belarus', 'Saint Martin', 'North Macedonia', 'Myanmar', 'Central African Republic', 'Costa Rica', 'Antarctica (the territory South of 60 deg S)', 'Barbados', 'Kuwait', 'Puerto Rico', 'Guam', 'France', 'Belarus', 'Oman', 'Macao', 'Nigeria', 'Montserrat', 'Holy See (Vatican City State)', 'Palau', 'Mayotte', 'Paraguay', 'South Georgia and the South Sandwich Islands', 'Bermuda', 'Austria', 'Senegal', 'Vanuatu', 'Portugal', 'Syrian Arab Republic', 'India', 'Botswana', 'Swaziland', 'Sao Tome and Principe', 'Spain', 'Poland', 'Madagascar', 'Norfolk Island', 'Sweden', 'Bouvet Island (Bouvetoya)', 'Singapore', 'Macao', 'Burkina Faso', 'American Samoa', 'Iran', 'Uganda', 'Saint Vincent and the Grenadines', 'Korea', 'Greenland', 'Samoa', 'Ecuador', 'Liberia', 'Netherlands', 'Martinique', 'Western Sahara', 'Hong Kong', 'Congo', 'Mayotte', 'Syrian Arab Republic', 'Gibraltar', 'Namibia', 'Trinidad and Tobago', 'Saint Helena', 'Samoa', 'Congo', 'Congo', 'Russian Federation', 'Bolivia', 'Liechtenstein', 'Zambia', 'Greenland', 'Cook Islands', 'Israel', 'Falkland Islands (Malvinas)', 'Nicaragua', 'Seychelles', 'Vanuatu', 'Benin', 'El Salvador', 'Togo', 'Sudan', 'Netherlands Antilles', 'Saint Pierre and Miquelon', 'Cape Verde', 'North Macedonia', 'United States of America', 'Bangladesh', 'Guyana', 'Jersey', 'Algeria', 'Guadeloupe', 'Spain', 'Paraguay', 'Pitcairn Islands', 'Macao', 'Pakistan', 'Christmas Island', 'Estonia', 'Cook Islands', 'Antarctica (the territory South of 60 deg S)', 'Croatia', 'Syrian Arab Republic', 'Mauritius', 'Saint Barthelemy', 'Syrian Arab Republic', 'United States Virgin Islands', 'Nigeria', 'Jordan', 'Martinique', 'Namibia', 'Micronesia', 'El Salvador', 'Turkmenistan', 'Korea', 'Slovakia (Slovak Republic)', 'Palau', 'Guinea', 'Tanzania', 'Gibraltar', 'Lesotho', 'Madagascar', 'French Guiana', 'Bulgaria', 'Kazakhstan', 'Micronesia', 'Russian Federation', 'Myanmar', 'Belarus', 'Syrian Arab Republic', 'Oman', 'Turkey', 'Bouvet Island (Bouvetoya)', 'Brazil', 'Canada', 'Holy See (Vatican City State)', 'Lesotho', 'Syrian Arab Republic', 'Peru', 'Ukraine', 'Antigua and Barbuda', 'Bouvet Island (Bouvetoya)', 'Mali', 'Cook Islands', 'Timor-Leste', 'Estonia', 'Guam', 'Nepal', 'Palau', 'South Georgia and the South Sandwich Islands', 'Ireland', 'Monaco', 'Liberia', 'Mexico', 'Reunion', 'Turkmenistan', 'Puerto Rico', 'Jamaica', 'India', 'Cocos (Keeling) Islands', 'Jamaica', 'Chad', 'Saudi Arabia', 'Nepal', 'United States Minor Outlying Islands', 'Chad', 'Paraguay', 'United States of America', 'Canada', 'Iceland', 'Russian Federation', 'Namibia', 'Mongolia', 'Timor-Leste', 'Thailand', 'Bangladesh', 'Dominican Republic', 'Poland', 'Djibouti', 'Madagascar', 'Saint Lucia', 'Western Sahara', 'Saint Helena', 'Netherlands', 'Slovakia (Slovak Republic)', 'Mongolia', 'Somalia', 'Congo', 'Croatia', 'French Southern Territories', 'Niger', 'Norfolk Island', 'Christmas Island', 'South Georgia and the South Sandwich Islands', 'Sweden', 'Albania', 'Philippines', 'Australia', 'Holy See (Vatican City State)', 'Kyrgyz Republic', 'Burundi', 'Morocco', 'Burundi', 'Maldives', 'Nepal', 'Bolivia', 'Malawi', 'Serbia', 'Liberia', 'Lithuania', 'France', 'Burkina Faso', 'Falkland Islands (Malvinas)', 'North Macedonia', 'Portugal', 'Niue', 'Netherlands Antilles', 'Andorra', 'Costa Rica', 'Guadeloupe', 'Montserrat', 'Qatar', 'Serbia', 'Liechtenstein', 'Yemen', 'Uruguay', 'France', 'Sweden', 'Algeria', 'Luxembourg', 'Solomon Islands', 'Macao', 'Moldova', 'Algeria', 'Nauru', 'Uruguay', 'Bhutan', 'Bosnia and Herzegovina', 'Panama', 'Egypt', 'Guadeloupe', 'Antarctica (the territory South of 60 deg S)', 'Marshall Islands', 'Portugal', 'Sweden', 'Tanzania', 'Eritrea', 'Benin', 'Senegal', 'Syrian Arab Republic', 'Kenya', 'Hungary', 'Kazakhstan', 'Estonia', 'Lebanon', 'Australia', 'Gabon', 'Nicaragua', 'Malawi', 'Falkland Islands (Malvinas)', 'Monaco', 'French Southern Territories', 'Aruba', 'Togo', 'Germany', 'Tonga', 'Nicaragua', 'Nigeria', 'Saint Pierre and Miquelon', 'Indonesia', 'Holy See (Vatican City State)', 'Czech Republic', 'Fiji', 'Papua New Guinea', 'Saudi Arabia', 'Romania', 'Jamaica', 'Saint Barthelemy', 'Gabon', 'Fiji', 'Serbia', 'Samoa', 'Eritrea', 'Jersey', 'Denmark', 'Venezuela', 'French Guiana', 'Dominica', 'Hong Kong', 'United Kingdom', 'French Guiana', 'Niue', 'Nigeria', 'Nepal', 'United States Virgin Islands', 'American Samoa', 'Uruguay', 'United States of America', 'Angola', 'Bosnia and Herzegovina', 'Belarus', 'Saudi Arabia', 'New Caledonia', 'Anguilla', 'Senegal', 'Algeria', 'Suriname', 'Peru', 'Costa Rica', 'India', 'Cocos (Keeling) Islands', 'Vietnam', 'Japan', 'Ukraine', 'Mali', 'Nigeria', 'Korea', 'Andorra', 'Northern Mariana Islands', 'Uganda', 'Taiwan', 'Kazakhstan', 'Isle of Man', 'Denmark', 'South Africa', 'Vietnam', 'Panama', 'Malaysia', 'Saint Pierre and Miquelon', 'Belize', 'Martinique', 'Japan', 'Sudan', 'Bhutan', 'Slovakia (Slovak Republic)', 'Qatar', 'Jordan', 'Samoa', 'Wallis and Futuna', 'Fiji', 'Reunion', 'Tanzania', 'Uganda', 'Madagascar', 'Sweden', 'Macao', 'South Georgia and the South Sandwich Islands', 'Iran', 'Dominican Republic', 'Slovakia (Slovak Republic)', 'Israel', 'Holy See (Vatican City State)', 'Northern Mariana Islands', 'Tunisia', 'Solomon Islands', 'Switzerland', 'Syrian Arab Republic', 'Dominica', 'Serbia', 'Norfolk Island', 'Antarctica (the territory South of 60 deg S)', 'Tunisia', 'Martinique', 'Gambia', 'Antigua and Barbuda', 'Palestinian Territory', 'Hong Kong', 'Paraguay', 'Poland', 'Micronesia', 'Papua New Guinea', 'Chad', 'Monaco', 'Czech Republic', 'Tuvalu', 'Haiti', 'Guyana', 'Korea', 'Anguilla', 'Finland', 'Cameroon', 'Mongolia', 'Azerbaijan', 'Dominican Republic', 'Heard Island and McDonald Islands', 'Poland', 'Faroe Islands', 'Antigua and Barbuda', 'Romania', 'Micronesia', 'Malta', 'Bermuda', 'Heard Island and McDonald Islands', 'Lesotho', 'Denmark', 'Sweden', 'United States Virgin Islands', 'Guatemala', 'Nepal', 'Georgia', 'Northern Mariana Islands', 'Mauritius', 'Kuwait', 'Morocco', 'Bangladesh', 'Timor-Leste', 'Timor-Leste', 'Mauritania', 'Namibia', 'Zambia', 'Egypt', 'Cambodia', 'Samoa', 'Cocos (Keeling) Islands', 'Algeria', 'Nicaragua', 'Azerbaijan', 'Japan', 'Niger', 'Somalia', 'Austria', 'New Zealand', 'Saint Barthelemy', 'French Guiana', 'Syrian Arab Republic', 'Western Sahara', 'Kiribati', 'Central African Republic', 'Holy See (Vatican City State)', 'Saint Pierre and Miquelon', 'Greece', 'Ethiopia', 'Fiji', 'Venezuela', 'Heard Island and McDonald Islands', 'United States of America', 'Australia', 'Belarus', 'Bangladesh', 'Philippines', 'Grenada', 'Brazil', 'Malta', 'Martinique', 'Reunion', 'Peru', 'Latvia', 'Georgia', 'San Marino', 'Saint Pierre and Miquelon', 'Azerbaijan', 'Bosnia and Herzegovina', 'Estonia', 'Switzerland', 'Panama', 'Greece', 'Switzerland', 'Burundi', 'Switzerland', 'Cape Verde', \"Lao People's Democratic Republic\", 'Equatorial Guinea', 'Uganda', 'United States Virgin Islands', 'Netherlands Antilles', 'Netherlands Antilles', 'Taiwan', 'British Indian Ocean Territory (Chagos Archipelago)', 'Northern Mariana Islands', 'Turkey', 'Libyan Arab Jamahiriya', 'Cuba', 'Nigeria', 'Bangladesh', 'Guernsey', 'Marshall Islands', 'Bhutan', 'Liberia', 'Sao Tome and Principe', 'Latvia', 'Turks and Caicos Islands', 'United States Minor Outlying Islands', 'Belarus', 'Eritrea', 'Senegal', 'Wallis and Futuna', 'United States Virgin Islands', 'Cocos (Keeling) Islands', 'Lesotho', 'Togo', 'Western Sahara', 'Botswana', 'Zambia', 'Suriname', 'Morocco', 'Kiribati', 'Morocco', 'Vietnam', 'Hong Kong', 'San Marino', 'Isle of Man', 'Syrian Arab Republic', 'Antigua and Barbuda', 'Czech Republic', 'Slovenia', 'Suriname', 'Gambia', 'Ecuador', 'Malaysia', 'Anguilla', 'Japan', 'Madagascar', 'Yemen', 'Slovakia (Slovak Republic)', 'Myanmar', 'Falkland Islands (Malvinas)', 'Russian Federation', 'Morocco', 'Gambia', 'Spain', 'Morocco', 'Marshall Islands', 'Congo', 'Nigeria', \"Lao People's Democratic Republic\", 'Hong Kong', 'Wallis and Futuna', 'Portugal', 'Guatemala', 'Sao Tome and Principe', 'Isle of Man', 'New Zealand', 'Afghanistan', 'Mexico', 'Malawi', 'Trinidad and Tobago', 'Nicaragua', 'Monaco', 'Guinea', 'Turkey', 'Grenada', 'Guinea', 'Belarus', 'Saint Martin', 'Benin', 'Jamaica', 'Belarus', 'Lebanon', 'El Salvador', 'Holy See (Vatican City State)', 'Saint Kitts and Nevis', 'Andorra', 'Slovakia (Slovak Republic)', 'Paraguay', 'Tajikistan', 'Tonga', 'Israel', 'Sudan', 'Bulgaria', 'Senegal', 'Turkey', 'Serbia', 'New Caledonia', 'Reunion', 'El Salvador', 'Papua New Guinea', 'Malta', 'Jordan', 'Kenya', 'Guyana', 'Madagascar', 'Somalia', 'Italy', 'Romania', 'Antarctica (the territory South of 60 deg S)', 'Nigeria', 'Paraguay', 'Sweden', 'French Southern Territories', 'Peru', 'Tunisia', 'Italy', 'Cook Islands', 'Belarus', 'Dominica', 'Bosnia and Herzegovina', 'Ireland', 'Slovenia', 'French Polynesia', 'Heard Island and McDonald Islands', 'Gibraltar', 'Bhutan', 'Jamaica', 'Haiti', 'Mozambique', 'Kyrgyz Republic', 'Mayotte', 'San Marino', 'Tunisia', 'Taiwan', 'Namibia', 'Antigua and Barbuda', 'Palestinian Territory', 'United Arab Emirates', 'Namibia', 'San Marino', 'Burkina Faso', 'Estonia', 'Turkey', 'North Macedonia', 'Puerto Rico', 'Kazakhstan', 'Tanzania', 'Peru', 'Portugal', 'Andorra', 'Turks and Caicos Islands', 'Japan', 'French Southern Territories', 'Lebanon', 'Peru', 'Cayman Islands', 'Falkland Islands (Malvinas)', 'Martinique', 'Congo', 'Anguilla', 'Slovakia (Slovak Republic)', 'Burkina Faso', 'Botswana', 'Cameroon', 'Sudan', 'Sri Lanka', 'Mongolia', 'Mauritius', 'Saint Martin', 'Isle of Man', 'San Marino', 'Senegal', 'Chile', 'Canada', 'Mali', 'Falkland Islands (Malvinas)', 'Gambia', 'Namibia', 'Faroe Islands', 'Saint Kitts and Nevis', 'Netherlands', 'Equatorial Guinea', 'Dominica', 'North Macedonia', 'Dominican Republic', 'Kuwait', 'Sudan', 'Tanzania', 'Bermuda', 'Slovenia', 'Liechtenstein', 'Cocos (Keeling) Islands', 'Serbia', 'Uruguay', 'French Southern Territories', 'Saint Barthelemy', 'Samoa', 'Papua New Guinea', 'Kenya', 'Saint Lucia', 'British Indian Ocean Territory (Chagos Archipelago)', 'Falkland Islands (Malvinas)', 'Pitcairn Islands', 'Anguilla', 'United States Virgin Islands', 'Palestinian Territory', 'Argentina', 'Sweden', 'Guernsey', 'Niue', 'United Arab Emirates', 'Antigua and Barbuda', 'Western Sahara', 'Malaysia', 'El Salvador', 'Sao Tome and Principe', 'Iraq', 'Svalbard & Jan Mayen Islands', 'Reunion', 'Japan', 'Denmark', 'Vanuatu', 'Cameroon', 'Singapore', 'Greenland', 'Timor-Leste', 'Burkina Faso', 'Gabon', 'Hungary', 'Congo', 'Solomon Islands', 'Kyrgyz Republic', 'Jordan', 'Tunisia', 'Bosnia and Herzegovina', 'Equatorial Guinea', 'Pakistan', 'Maldives', 'Northern Mariana Islands', 'Guinea', 'Algeria', 'Georgia', 'Sweden', 'United States Minor Outlying Islands', 'Italy', 'Netherlands', 'Uruguay', 'Tonga', 'Guatemala', 'Congo', 'United Arab Emirates', 'Luxembourg', 'Albania', 'Chad', 'India', 'Cocos (Keeling) Islands', 'Portugal', 'Estonia', 'Mali', 'Guadeloupe', 'Botswana', 'Mali', 'Svalbard & Jan Mayen Islands', 'Azerbaijan', 'San Marino', 'Egypt', 'North Macedonia', 'Holy See (Vatican City State)', 'Saint Kitts and Nevis', 'Suriname', 'Jamaica', 'Argentina', 'British Virgin Islands', 'Portugal', 'Bahrain', 'Ethiopia', 'United States of America', 'Lebanon', 'Saint Vincent and the Grenadines', 'Jersey', 'French Southern Territories', 'Pakistan', 'Chad', 'Sierra Leone', 'Hong Kong', 'Moldova', 'Canada', 'Belize', 'Gambia', 'Argentina', 'Cayman Islands', 'Armenia', 'Gibraltar', 'Netherlands', 'Barbados', 'Sao Tome and Principe', 'Malaysia', 'Myanmar', 'Gambia', 'Turkey', 'Afghanistan', 'British Virgin Islands', 'Burkina Faso', 'Russian Federation', 'Iceland', 'Italy', 'Mauritania', 'Guatemala', 'Falkland Islands (Malvinas)', 'Liberia', 'Greece', 'Andorra', 'Cocos (Keeling) Islands', 'Nicaragua', 'Turkey', 'Egypt', 'Finland', 'Northern Mariana Islands', 'Burkina Faso', 'Afghanistan', 'Czech Republic', 'Vanuatu', 'Niue', 'Kiribati', 'South Africa', 'Kiribati', 'Benin', 'Tonga', 'Saint Barthelemy', 'Christmas Island', 'Tunisia', 'Nauru', 'Netherlands', 'Germany', 'Puerto Rico', 'South Africa', 'Suriname', 'American Samoa', 'Heard Island and McDonald Islands', 'Barbados', 'South Africa', 'Czech Republic', 'Liechtenstein', 'Sao Tome and Principe', 'Palau', 'Israel', 'French Guiana', 'Algeria', 'Djibouti', 'Pitcairn Islands', 'Oman', 'Turkmenistan', 'Belarus', 'Djibouti', 'Luxembourg', 'Guernsey', 'Togo', 'Niue', 'Peru', 'Bermuda', 'Congo', 'Saudi Arabia', 'Bermuda', 'Sri Lanka', 'Falkland Islands (Malvinas)', 'Saint Kitts and Nevis', 'Afghanistan', 'Lithuania', 'Pakistan', 'Ethiopia', 'Thailand', 'French Polynesia', 'Slovenia', 'Finland', 'Russian Federation', 'Azerbaijan', 'Bangladesh', 'Antigua and Barbuda', 'Belarus', 'Samoa', 'Guadeloupe', 'Cape Verde', 'Korea', 'Syrian Arab Republic', 'Zambia', 'China', 'Eritrea', 'Nepal', 'Liberia', 'Montserrat', 'Bhutan', 'Turkey', 'Dominica', 'Samoa', 'Pitcairn Islands', 'Netherlands', 'Fiji', 'Lithuania', 'Mozambique', 'Kenya', 'Germany', 'Turkey', 'Andorra', 'Bangladesh', 'Saint Kitts and Nevis', 'Seychelles', 'Mauritius', 'Germany', 'Yemen', 'Canada', 'Gibraltar', 'Costa Rica', 'Mongolia', 'Korea', 'Cuba', 'New Zealand', 'Costa Rica', 'Netherlands', 'French Polynesia', 'Bahamas', 'Kuwait', 'Jordan', 'Indonesia', 'Algeria', 'Martinique', 'Tonga', 'Malta', 'Saint Lucia', 'Malawi', 'Congo', 'Bulgaria', 'Jamaica', 'United States Minor Outlying Islands', 'Palestinian Territory', 'Ghana', 'Slovenia', 'Bolivia', 'Pitcairn Islands', 'Kazakhstan', 'Aruba', 'Romania', 'Holy See (Vatican City State)', 'Faroe Islands', 'Hong Kong', 'Myanmar', 'Latvia', 'Belarus', 'Western Sahara', 'Swaziland', 'Andorra', 'United States of America', 'Spain', 'Grenada', 'Madagascar', 'Paraguay', 'United Kingdom', 'Liechtenstein', 'San Marino', 'Palestinian Territory', 'Gibraltar', 'Moldova', 'Kyrgyz Republic', 'Papua New Guinea', 'Greece', 'Slovenia', 'Mauritius', 'Israel', 'Brazil', 'Saint Barthelemy', 'Maldives', 'Mauritania', 'Norfolk Island', 'Cyprus', 'Hong Kong', 'Seychelles', 'Tonga', 'Central African Republic', 'Honduras', 'Western Sahara', 'Jamaica', 'Kazakhstan', 'South Georgia and the South Sandwich Islands', 'Norfolk Island', 'Bosnia and Herzegovina', 'Liberia', 'Martinique', 'Myanmar', 'Turkey', 'Saint Pierre and Miquelon', 'Madagascar', 'French Guiana', 'Romania', 'Brazil', 'Mozambique', 'Tanzania', 'Suriname', 'Botswana', 'Colombia', 'Barbados', 'Chile', 'Heard Island and McDonald Islands', 'Puerto Rico', 'Fiji', 'Vietnam', 'Senegal', 'Denmark', 'Seychelles', 'Trinidad and Tobago', 'Moldova', 'Serbia', 'British Virgin Islands', 'Poland', 'Montenegro', 'Czech Republic', 'New Zealand', 'Germany', 'Israel', 'Cape Verde', 'Mauritius', 'Cameroon', 'Portugal', 'Zimbabwe', 'British Indian Ocean Territory (Chagos Archipelago)', 'Uganda', 'Austria', 'Slovakia (Slovak Republic)', 'Aruba', 'Bahrain', 'South Africa', 'Czech Republic', 'Colombia', 'Malaysia', 'Ecuador', 'Mongolia', 'Nigeria', 'Ethiopia', 'North Macedonia', 'Costa Rica', 'Lesotho', 'Macao', 'Costa Rica', 'Liberia', 'Tonga', 'New Zealand', 'Western Sahara', 'Azerbaijan', 'San Marino', 'Ukraine', 'Bolivia', 'Trinidad and Tobago', 'Taiwan', 'Ireland', 'Cape Verde', 'United Kingdom', 'Qatar', 'Northern Mariana Islands', 'Faroe Islands', 'Pitcairn Islands', 'Trinidad and Tobago', 'Dominican Republic', 'American Samoa', 'United States Minor Outlying Islands', 'Saint Kitts and Nevis', 'Marshall Islands', 'Cuba', 'Seychelles', 'Hong Kong', 'British Virgin Islands', 'Netherlands', 'United States Virgin Islands', 'Reunion', 'Gibraltar', 'Kenya', 'Uzbekistan', 'Martinique', 'Jersey', 'Thailand', 'Central African Republic', 'Panama', 'El Salvador', 'Uzbekistan', 'Niue', 'Liberia', 'Chile', 'Czech Republic', 'Spain', 'Albania', 'Belize', 'Monaco', 'Lithuania', 'Kazakhstan', 'Australia', 'Martinique', 'Heard Island and McDonald Islands', 'Wallis and Futuna', 'Sri Lanka', 'Western Sahara', 'Ecuador', 'Azerbaijan', 'Sao Tome and Principe', 'Montenegro', 'French Polynesia', 'Zimbabwe', 'Canada', 'Mali', 'Solomon Islands', 'Holy See (Vatican City State)', 'Dominica', 'Barbados', 'Kyrgyz Republic', 'Madagascar', 'Malaysia', 'Brunei Darussalam', 'Cameroon', 'Uzbekistan', 'Kuwait', 'Togo', 'Brunei Darussalam', 'Sweden', 'Montenegro', 'Paraguay', 'Austria', 'French Guiana', 'Guyana', 'Canada', 'Mayotte', 'Heard Island and McDonald Islands', 'Montenegro', 'Bangladesh', 'Denmark', 'Nepal', 'French Polynesia', 'Finland', \"Lao People's Democratic Republic\", 'Holy See (Vatican City State)', 'South Africa', 'Canada', 'Nigeria', 'Philippines', 'Timor-Leste', 'Equatorial Guinea', 'Bhutan', 'Jordan', 'Cameroon', 'Nicaragua', 'Dominican Republic', 'Saint Pierre and Miquelon', 'Iran', 'Seychelles', 'American Samoa', 'Palau', 'Svalbard & Jan Mayen Islands', 'Philippines', 'Liberia', 'France', 'Albania', 'Bahrain', 'Finland', 'Saint Kitts and Nevis', 'Kyrgyz Republic', 'Sao Tome and Principe', 'Grenada', 'Anguilla', \"Lao People's Democratic Republic\", 'Chad', 'Armenia', 'Norway', 'Congo', 'Lesotho', 'Bosnia and Herzegovina', 'Switzerland', 'Denmark', 'Pitcairn Islands', 'Angola', 'Dominican Republic', 'Tokelau', 'Kyrgyz Republic', 'Georgia', 'Comoros', 'Antigua and Barbuda', 'Guinea-Bissau', 'Colombia', 'Madagascar', 'Angola', 'Australia', 'Norway', 'Palau', 'Kenya', 'Hong Kong', 'Lesotho', 'Chile', 'Albania', 'Guinea-Bissau', 'Sierra Leone', 'Holy See (Vatican City State)', 'French Guiana', 'Cape Verde', 'Saint Vincent and the Grenadines', 'Iceland', 'Guinea', 'Christmas Island', 'Christmas Island', 'Congo', 'Rwanda', 'Jersey', 'Papua New Guinea', 'Niger', 'Singapore', 'Saint Vincent and the Grenadines', 'Ecuador', 'Myanmar', 'Chad', 'Barbados', 'Israel', 'Iceland', 'Tuvalu', 'Somalia', 'Saint Martin', 'Saint Vincent and the Grenadines', 'Antigua and Barbuda', 'United States of America', 'Burundi', 'Montserrat', 'Zimbabwe', 'Gibraltar', 'Rwanda', 'Sweden', 'Malta', 'Montserrat', 'Guatemala', 'Cocos (Keeling) Islands', 'Israel', 'Guatemala', 'Egypt', 'Nigeria', 'Bangladesh', 'Benin', 'Saint Vincent and the Grenadines', 'Israel', 'Malaysia', 'Heard Island and McDonald Islands', 'Syrian Arab Republic', 'Sri Lanka', 'Saint Pierre and Miquelon', 'Bouvet Island (Bouvetoya)', 'Norfolk Island', 'Austria', 'Somalia', 'Cayman Islands', 'Timor-Leste', 'Denmark', 'Antigua and Barbuda', 'Cameroon', 'Venezuela', 'Egypt', 'French Polynesia', 'Senegal', 'Swaziland', 'Solomon Islands', 'Tunisia', 'British Indian Ocean Territory (Chagos Archipelago)', 'Netherlands Antilles', 'Antigua and Barbuda', 'Cambodia', 'Slovakia (Slovak Republic)', 'Namibia', 'Nicaragua', 'Turks and Caicos Islands', 'Fiji', 'Serbia', 'Swaziland', 'Belarus', 'Palestinian Territory', 'Senegal', 'Romania', 'Antarctica (the territory South of 60 deg S)', 'Botswana', 'Iceland', 'Czech Republic', 'Reunion', 'Bangladesh', 'French Polynesia', 'Chile', 'Saudi Arabia', 'Australia', 'Wallis and Futuna', 'Marshall Islands', 'Argentina', 'Mexico', 'Lebanon', 'Macao', 'Holy See (Vatican City State)', 'Comoros', 'France', 'Tokelau', 'American Samoa', 'Haiti', 'Ghana', 'Belarus', 'Guinea', 'Antigua and Barbuda', 'Liberia', 'Myanmar', 'Azerbaijan', 'Saint Vincent and the Grenadines', 'Oman', 'Peru', 'Grenada', 'Dominican Republic', 'Grenada', 'Greenland', 'Zimbabwe', 'Paraguay', 'Aruba', 'Grenada', 'South Georgia and the South Sandwich Islands', 'Cocos (Keeling) Islands', 'Bahamas', 'Kazakhstan', 'Mozambique', 'Marshall Islands', 'Antigua and Barbuda', 'Niue', 'Zimbabwe', 'Tonga', 'Germany', 'Spain', 'Sweden', 'Panama', 'Guinea-Bissau', 'Central African Republic', 'South Africa', 'Rwanda', 'Guadeloupe', 'Serbia', 'Nicaragua', 'Senegal', 'Dominica', 'Bolivia', 'Saint Martin', 'Antigua and Barbuda', 'Ireland', 'Japan', 'Netherlands', 'Pakistan', 'Nepal', 'United Kingdom', 'Singapore', 'Bahamas', 'Tokelau', 'Swaziland', 'Mayotte', 'Cape Verde', 'Turks and Caicos Islands', 'Pakistan', 'Wallis and Futuna', 'Guinea', 'British Indian Ocean Territory (Chagos Archipelago)', 'Suriname', 'Bouvet Island (Bouvetoya)', 'Marshall Islands', 'Guadeloupe', 'Honduras', 'United Kingdom', 'Cuba', 'Sierra Leone', 'Vanuatu', 'Andorra', 'Georgia', 'Jersey', 'Guatemala', 'Turkey', 'Costa Rica', 'Russian Federation', 'Algeria', 'Reunion', 'Paraguay', 'Heard Island and McDonald Islands', 'Costa Rica', 'Saint Lucia', 'Heard Island and McDonald Islands', 'Cook Islands', 'Liberia', 'Somalia', 'Mauritania', 'Korea', 'Isle of Man', 'Greece', 'Senegal', 'New Zealand', 'Liechtenstein', 'French Southern Territories', 'Kuwait', 'Lesotho', 'Reunion', 'Vietnam', 'Yemen', 'Dominican Republic', 'Sierra Leone', 'Guam', 'Slovenia', 'Nicaragua', 'Burkina Faso', 'Bahamas', 'Pitcairn Islands', 'Uganda', 'Bermuda', 'United States Minor Outlying Islands', 'Montenegro', 'Congo', 'Congo', 'Turkey', 'Algeria', 'Ecuador', 'Afghanistan', 'Samoa', 'Canada', 'Afghanistan', 'Egypt', 'El Salvador', 'Tanzania', 'Eritrea', 'Kenya', 'Guinea-Bissau', 'Moldova', 'Cuba', 'New Zealand', 'Qatar', 'Gibraltar', 'Slovakia (Slovak Republic)', 'Isle of Man', 'Mayotte', 'Afghanistan', 'Kuwait', 'Ghana', 'Togo', 'Jordan', 'Norway', 'Czech Republic', 'Gambia', 'French Polynesia', 'Lithuania', 'Papua New Guinea', 'Cayman Islands', 'Jersey', 'British Indian Ocean Territory (Chagos Archipelago)', 'Afghanistan', 'Tuvalu', 'Fiji', 'Hungary', 'Burundi', 'India', 'Brunei Darussalam', 'Australia', 'Japan', 'Israel', 'Angola', 'Montenegro', 'United States Virgin Islands', 'Bahamas', 'Rwanda', 'Reunion', 'Saint Lucia', 'United Arab Emirates', 'Guam', 'Czech Republic', 'Iraq', 'Malawi', 'Togo', 'Jersey', 'Romania', 'Svalbard & Jan Mayen Islands', 'Maldives', 'Niger', 'Saint Lucia', 'Holy See (Vatican City State)', 'Singapore', 'Panama', 'Uzbekistan', 'Tuvalu', 'Jamaica', 'Nepal', 'Andorra', 'Saudi Arabia', 'Azerbaijan', 'Guadeloupe', 'Poland', 'Dominican Republic', 'South Georgia and the South Sandwich Islands', 'Saint Martin', 'Croatia', 'Czech Republic', 'Spain', 'Saint Pierre and Miquelon', 'Norfolk Island', 'Iceland', 'Liechtenstein', 'Tajikistan', 'United Kingdom', 'Costa Rica', 'Christmas Island', 'Pakistan', 'Dominica', 'Azerbaijan', 'Korea', 'Israel', 'Palau', 'Honduras', 'Sweden', 'Hong Kong', 'Sri Lanka', 'Jamaica', 'Dominican Republic', 'Georgia', 'Mexico', 'Central African Republic', 'Tuvalu', 'Romania', 'Slovakia (Slovak Republic)', 'Jamaica', 'Botswana', 'Heard Island and McDonald Islands', 'Spain', 'Tuvalu', 'Marshall Islands', 'Pitcairn Islands', 'Guyana', 'Macao', 'Togo', 'Saint Lucia', 'Montserrat', 'French Southern Territories', 'Georgia', 'Turkey', 'Montenegro', 'Sierra Leone', 'Pakistan', 'Angola', 'Holy See (Vatican City State)', 'Dominica', 'Liberia', 'Peru', 'Guernsey', 'Ethiopia', 'Slovenia', 'Bhutan', 'Libyan Arab Jamahiriya', 'Switzerland', 'Cayman Islands', 'Dominican Republic', 'Moldova', 'Holy See (Vatican City State)', 'United States of America', 'Svalbard & Jan Mayen Islands', 'Pitcairn Islands', 'Senegal', 'Egypt', 'Norway', 'Saint Kitts and Nevis', 'Peru', 'Burkina Faso', 'Nepal', 'Dominican Republic', 'United States Minor Outlying Islands', 'Burkina Faso', 'Saint Vincent and the Grenadines', 'Nauru', 'Barbados', 'Romania', 'Sierra Leone', 'Hong Kong', 'Bahamas', 'Guyana', 'Chad', 'Luxembourg', 'Lebanon', 'Tuvalu', 'Northern Mariana Islands', 'Belgium', 'Nauru', 'Jordan', 'Norway', 'Libyan Arab Jamahiriya', 'Iceland', 'Western Sahara', 'Congo', 'Monaco', 'Malawi', 'North Macedonia', 'Mayotte', 'Yemen', 'Iceland', 'Equatorial Guinea', 'Sudan', 'Netherlands', 'Western Sahara', 'Saint Kitts and Nevis', 'Ethiopia', 'Kiribati', 'Reunion', 'Uzbekistan', 'Samoa', 'Sri Lanka', 'Saint Kitts and Nevis', 'Reunion', 'Monaco', 'France', 'Pitcairn Islands', 'Iran', 'Poland', 'Monaco', 'China', 'South Georgia and the South Sandwich Islands', 'Brunei Darussalam', 'Latvia', 'Portugal', 'Jamaica', 'United States Minor Outlying Islands', 'Guinea-Bissau', 'Mali', 'Heard Island and McDonald Islands', 'Eritrea', 'Ireland', 'Taiwan', 'Russian Federation', 'Costa Rica', 'Lebanon', 'French Guiana', 'Italy', 'Oman', 'Venezuela', \"Cote d'Ivoire\", 'Montenegro', 'Bosnia and Herzegovina', 'Puerto Rico', 'El Salvador', 'Ecuador', 'Saint Lucia', 'Timor-Leste', 'Cayman Islands', 'Serbia', 'Malawi', 'Azerbaijan', 'Belize', 'Vietnam', 'Guam', 'Tajikistan', 'Hungary', 'Poland', 'Sweden', 'Vietnam', 'Malta', 'Eritrea', 'Kyrgyz Republic', 'Sudan', 'Georgia', 'Congo', 'Cocos (Keeling) Islands', 'Belize', 'Argentina', 'Venezuela', 'Cambodia', 'Macao', 'Haiti', 'Czech Republic', 'Czech Republic', 'Cayman Islands', 'Haiti', 'Finland', 'Dominica', 'Dominican Republic', 'El Salvador', 'Hungary', 'Iran', 'Bosnia and Herzegovina', 'Taiwan', 'Iraq', 'Svalbard & Jan Mayen Islands', 'Chad', 'Barbados', 'Dominica', 'Cuba', 'Slovakia (Slovak Republic)', 'Albania', 'Ethiopia', 'Finland', 'Holy See (Vatican City State)', 'Malaysia', 'United Arab Emirates', 'Oman', 'San Marino', 'Panama', 'Paraguay', 'Portugal', 'Saint Barthelemy', 'Slovakia (Slovak Republic)', 'Palau', 'Sweden', 'French Guiana', 'Kazakhstan', 'Cyprus', 'Congo', 'Liechtenstein', 'Kazakhstan', 'Cameroon', 'United States of America', 'Malawi', 'Cyprus', 'Kazakhstan', 'Iceland', 'Azerbaijan', 'United Kingdom', 'Antigua and Barbuda', 'French Southern Territories', 'Ukraine', 'Indonesia', 'Austria', 'Canada', 'Panama', 'Saint Martin', 'Malawi', 'Mongolia', 'Niger', 'Grenada', 'Slovenia', 'Andorra', 'Panama', 'Cameroon', 'Greece', 'Bahrain', 'French Polynesia', 'Dominica', 'Malawi', 'Korea', \"Cote d'Ivoire\", 'Belgium', 'French Southern Territories', 'Egypt', 'Faroe Islands', 'Iceland', 'Spain', 'Ecuador', 'Tajikistan', \"Lao People's Democratic Republic\", 'Algeria', 'Dominica', 'Dominican Republic', 'Mongolia', 'Saint Kitts and Nevis', 'Sudan', 'Syrian Arab Republic', 'Saint Barthelemy', 'Niue', 'Hungary', 'Romania', 'United States Virgin Islands', 'Lithuania', 'Ireland', 'Tajikistan', 'Botswana', 'Tajikistan', 'Mexico', 'United States Minor Outlying Islands', 'Vanuatu', 'Somalia', 'Antarctica (the territory South of 60 deg S)', 'Korea', 'Turkmenistan', 'Madagascar', 'Cape Verde', 'Bouvet Island (Bouvetoya)', 'Guyana', 'Burkina Faso', 'Bhutan', 'Haiti', 'Palestinian Territory', 'Nepal', 'Cameroon', 'British Virgin Islands', 'Sudan', 'Ethiopia', 'Myanmar', 'Luxembourg', 'United States Virgin Islands', 'Guam', 'British Virgin Islands', 'New Zealand', 'Senegal', 'Saint Lucia', 'Botswana', 'Saint Kitts and Nevis', 'Slovenia', 'Lithuania', 'Korea', 'Poland', 'Namibia', 'Kuwait', 'Kazakhstan', 'Falkland Islands (Malvinas)', 'Kazakhstan', 'Hong Kong', 'New Caledonia', 'Myanmar', 'Djibouti', 'Paraguay', 'Algeria', 'Falkland Islands (Malvinas)', 'Dominica', 'Rwanda', 'United States Minor Outlying Islands', 'Algeria', 'Dominican Republic', 'Liechtenstein', 'Sudan', 'Korea', 'Samoa', 'Bhutan', 'Moldova', 'Zambia', 'India', 'Turks and Caicos Islands', 'Brazil', 'Luxembourg', 'Faroe Islands', 'Canada', 'Burkina Faso', 'Mexico', 'Netherlands Antilles', 'Korea', 'Benin', 'Switzerland', 'Wallis and Futuna', 'Saudi Arabia', 'Central African Republic', 'Congo', 'Guernsey', 'Congo', 'Samoa', 'Angola', 'Lithuania', 'Armenia', 'Chad', 'Saudi Arabia', 'Congo', 'Guinea-Bissau', 'Aruba', 'Comoros', 'Benin', 'Rwanda', 'Antarctica (the territory South of 60 deg S)', 'San Marino', 'Ukraine', 'Niue', 'Suriname', 'Bouvet Island (Bouvetoya)', 'Qatar', 'Kyrgyz Republic', \"Lao People's Democratic Republic\", 'Belgium', 'Korea', 'Saint Pierre and Miquelon', 'Italy', 'Uzbekistan', 'Moldova', 'Gambia', 'Saint Vincent and the Grenadines', 'Samoa', 'Timor-Leste', 'Romania', 'Tokelau', 'Montserrat', 'Congo', 'Faroe Islands', 'Russian Federation', 'Falkland Islands (Malvinas)', 'Iraq', 'Indonesia', 'Guernsey', 'United States Minor Outlying Islands', 'United Arab Emirates', 'Qatar', 'Bouvet Island (Bouvetoya)', 'Philippines', 'Morocco', 'Mozambique', 'Tanzania', 'Iran', 'Russian Federation', 'Congo', 'El Salvador', 'Heard Island and McDonald Islands', 'Barbados', 'Solomon Islands', 'United States Virgin Islands', 'Singapore', 'Finland', 'Tokelau', 'Jordan', 'Chad', 'Solomon Islands', 'Niue', 'Israel', 'Israel', 'Belize', 'Croatia', 'Korea', 'Germany', 'Belize', 'Armenia', 'Cameroon', 'Malta', 'Namibia', 'Montenegro', 'Israel', 'Gambia', 'Philippines', 'Guinea', 'Cyprus', 'Israel', 'Honduras', 'Mauritius', 'Congo', 'Western Sahara', 'Seychelles', 'Peru', 'Cook Islands', 'Bermuda', 'Chile', 'Fiji', 'Korea', 'Macao', 'Greenland', 'Ethiopia', 'Timor-Leste', 'Malaysia', 'Croatia', 'French Polynesia', 'Saint Lucia', 'Egypt', 'Kenya', 'Turkmenistan', 'Dominica', 'Belize', 'Botswana', 'Antarctica (the territory South of 60 deg S)', 'Rwanda', 'Finland', 'Ethiopia', 'Lesotho', 'Venezuela', 'Malta', 'Tajikistan', 'Tunisia', 'Germany', 'Netherlands', 'India', 'Faroe Islands', 'American Samoa', 'Tanzania', 'El Salvador', 'Gambia', 'Serbia', 'Azerbaijan', 'South Africa', 'Lebanon', 'Jamaica', 'Venezuela', 'Haiti', 'Montserrat', 'Afghanistan', 'San Marino', \"Cote d'Ivoire\", 'Holy See (Vatican City State)', 'Mongolia', 'Turks and Caicos Islands', 'Malaysia', 'Saint Pierre and Miquelon', 'Djibouti', 'Croatia', 'Lithuania', 'Kyrgyz Republic', 'Algeria', 'Isle of Man', 'Zimbabwe', 'United Arab Emirates', 'Mauritius', 'Oman', 'Zimbabwe', 'Sri Lanka', 'Jordan', 'Tanzania', 'Australia', 'Chile', 'Denmark', 'Montserrat', 'Sierra Leone', 'Dominica', 'Montserrat', 'Turkey', 'Marshall Islands', 'Monaco', 'Kyrgyz Republic', 'United Arab Emirates', \"Cote d'Ivoire\", 'Norfolk Island', 'Colombia', 'Nigeria', 'Saint Vincent and the Grenadines', 'Peru', 'Germany', 'Israel', 'Wallis and Futuna', 'Lesotho', 'Haiti', 'Paraguay', 'Uruguay', 'Mauritius', 'Saint Pierre and Miquelon', 'Holy See (Vatican City State)', 'South Africa', 'Congo', 'Papua New Guinea', 'Central African Republic', 'Greece', 'Portugal', 'Saint Barthelemy', 'Congo', 'Suriname', 'Liberia', 'Brazil', 'Cocos (Keeling) Islands', 'British Virgin Islands', 'Congo', 'Colombia', 'Palau', 'Iceland', 'Saint Pierre and Miquelon', 'Faroe Islands', 'Belarus', 'Montserrat', 'Central African Republic', 'Kazakhstan', 'Burkina Faso', 'Palestinian Territory', 'Trinidad and Tobago', 'Mongolia', 'Tajikistan', 'India', 'Togo', 'Venezuela', 'Moldova', 'French Southern Territories', 'Puerto Rico', 'Puerto Rico', 'Algeria', 'Saint Vincent and the Grenadines', 'Australia', 'Libyan Arab Jamahiriya', 'Rwanda', 'Malawi', 'Finland', 'Reunion', 'Afghanistan', 'Swaziland', 'Holy See (Vatican City State)', 'Uruguay', 'Seychelles', 'Isle of Man', 'Kuwait', 'Aruba', 'Ecuador', 'Mexico', 'Gibraltar', 'Niger', 'Puerto Rico', 'Belgium', 'Guinea', 'Germany', 'Singapore', 'Saint Pierre and Miquelon', 'Panama', 'Botswana', 'Tonga', 'Anguilla', 'Guernsey', 'Colombia', 'Romania', 'Saudi Arabia', 'Bouvet Island (Bouvetoya)', 'Mexico', 'Falkland Islands (Malvinas)', 'Slovenia', 'Sao Tome and Principe', 'Romania', 'Anguilla', 'France', 'Afghanistan', 'Eritrea', 'North Macedonia', 'Palestinian Territory', 'Bosnia and Herzegovina', 'Qatar', 'Denmark', 'Lebanon', 'Madagascar', 'Panama', 'Cocos (Keeling) Islands', 'Heard Island and McDonald Islands', 'Estonia', 'French Guiana', 'Kuwait', 'Australia', 'Singapore', 'Mozambique', 'Swaziland', 'Egypt', 'Haiti', 'Mozambique', 'Turks and Caicos Islands', 'Cape Verde', 'Papua New Guinea', 'Guinea', 'Kazakhstan', 'Sweden', 'Greece', 'Ecuador', 'Mauritius', 'Niger', 'British Indian Ocean Territory (Chagos Archipelago)', 'Malta', 'Maldives', 'Lesotho', 'South Georgia and the South Sandwich Islands', 'Norway', 'Monaco', 'Norway', 'Isle of Man', 'Tokelau', 'South Africa', 'Paraguay', 'Ethiopia', 'Tanzania', 'Iceland', 'Belize', 'Sierra Leone', 'Lebanon', 'United States Virgin Islands', 'Syrian Arab Republic', 'Argentina', 'India', 'Jamaica', 'Netherlands Antilles', 'Poland', 'Chile', 'Belgium', 'Canada', 'Congo', 'Palau', 'Bulgaria', 'Sweden', 'Hong Kong', 'Antarctica (the territory South of 60 deg S)', 'Estonia', 'South Africa', 'El Salvador', 'Christmas Island', 'Bahrain', 'Romania', 'Anguilla', 'Uruguay', 'Czech Republic', 'Guatemala', 'Suriname', 'Cook Islands', 'Burkina Faso', 'Albania', 'Georgia', 'South Africa', 'Tokelau', 'Croatia', 'Mexico', 'Lithuania', 'Bahrain', 'Antarctica (the territory South of 60 deg S)', 'Guyana', 'Samoa', 'Congo', 'Malaysia', 'Yemen', 'Montenegro', 'Peru', 'Pitcairn Islands', 'Malaysia', 'Azerbaijan', 'Namibia', 'Slovakia (Slovak Republic)', 'Cape Verde', 'Ireland', 'Taiwan', 'Tunisia', 'Northern Mariana Islands', 'El Salvador', 'Macao', 'Rwanda', 'Saint Martin', 'Tuvalu', 'Malawi', 'Falkland Islands (Malvinas)', 'Dominican Republic', 'Samoa', 'Nepal', 'Brazil', 'Saint Helena', 'Kenya', 'Israel', 'Brunei Darussalam', 'Somalia', 'Isle of Man', 'Zimbabwe', 'China', 'Saint Martin', 'Djibouti', 'Saint Barthelemy', 'Vanuatu', 'Korea', 'Uganda', 'Tonga', 'Kazakhstan', 'Peru', 'Central African Republic', 'Guatemala', 'Portugal', 'Mozambique', 'Namibia', 'Turks and Caicos Islands', 'Chile', 'Bahrain', 'Andorra', 'Panama', 'Yemen', 'Swaziland', 'Suriname', 'Seychelles', 'Saint Kitts and Nevis', 'Denmark', 'North Macedonia', 'Syrian Arab Republic', 'Jersey', 'Barbados', 'Saint Kitts and Nevis', 'Turkmenistan', 'Belize', 'Eritrea', 'Timor-Leste', 'Barbados', 'Peru', 'Syrian Arab Republic', 'Nauru', 'Lebanon', 'Bulgaria', 'Marshall Islands', 'North Macedonia', 'Western Sahara', 'Svalbard & Jan Mayen Islands', 'Hong Kong', 'Saint Kitts and Nevis', 'Qatar', 'Uruguay', 'South Africa', 'Dominican Republic', 'Chad', 'Papua New Guinea', 'United States Minor Outlying Islands', 'Mauritania', 'Taiwan', 'Panama', 'Guam', 'Bermuda', 'Nauru', 'Brazil', 'Cameroon', 'Saint Martin', 'Gibraltar', 'Tanzania', 'Iraq', 'Northern Mariana Islands', 'Czech Republic', 'Saudi Arabia', 'Syrian Arab Republic', 'Paraguay', 'Montserrat', 'Seychelles', 'Burkina Faso', 'Mexico', 'Suriname', 'Palestinian Territory', 'Holy See (Vatican City State)', 'New Zealand', 'Aruba', 'Tonga', 'Comoros', 'Mongolia', 'Czech Republic', 'Croatia', 'United States of America', 'Paraguay', 'Palau', 'Turkmenistan', 'Sao Tome and Principe', 'Turkey', 'United States Virgin Islands', 'Denmark', 'Korea', 'Guatemala', 'Switzerland', 'Syrian Arab Republic', 'Tanzania', 'French Polynesia', 'Bahrain', 'Palau', 'Slovenia', 'Morocco', 'Uzbekistan', 'Vanuatu', 'Armenia', 'Philippines', 'Palestinian Territory', 'Heard Island and McDonald Islands', 'Gibraltar', 'Cuba', 'Martinique', 'Netherlands', 'Palestinian Territory', 'Uruguay', 'Samoa', 'Australia', 'Guinea-Bissau', 'Peru', 'Togo', 'Hong Kong', 'Austria', 'Georgia', 'Norfolk Island', 'Mauritania', 'Morocco', 'Dominica', 'Kiribati', 'Azerbaijan', 'Slovakia (Slovak Republic)', 'Falkland Islands (Malvinas)', 'Guyana', 'Martinique', 'China', 'North Macedonia', 'Solomon Islands', 'Northern Mariana Islands', 'Chad', 'United Kingdom', 'Svalbard & Jan Mayen Islands', 'Mongolia', 'Iran', 'Mauritius', 'Gambia', 'Romania', 'Saint Helena', 'Martinique', 'Azerbaijan', 'Singapore', 'Haiti', 'Eritrea', 'Armenia', 'Cayman Islands', 'Central African Republic', 'British Virgin Islands', 'Isle of Man', 'Ethiopia', 'Guinea-Bissau', 'Montenegro', 'United States Minor Outlying Islands', 'Taiwan', 'Bermuda', 'Lithuania', 'Australia', 'Morocco', 'Isle of Man', 'Namibia', 'Italy', 'Iceland', 'Northern Mariana Islands', 'Malawi', 'United States of America', 'Bhutan', 'Papua New Guinea', 'Cape Verde', 'Saint Helena', 'Benin', 'Cuba', 'Haiti', 'Turkmenistan', 'Taiwan', 'South Georgia and the South Sandwich Islands', 'Mayotte', 'Kiribati', 'Jordan', 'Georgia', 'Northern Mariana Islands', 'Chile', 'Maldives', 'Saint Lucia', 'Timor-Leste', 'Morocco', 'Nepal', 'Mozambique', 'Swaziland', 'Benin', 'Hong Kong', 'Holy See (Vatican City State)', 'Ireland', 'San Marino', 'Bulgaria', 'Japan', 'Kuwait', 'Senegal', 'Timor-Leste', 'Guernsey', 'Cambodia', 'Indonesia', 'Afghanistan', 'Iraq', 'Congo', 'Slovenia', 'Azerbaijan', 'Togo', 'Papua New Guinea', 'Uganda', 'Sao Tome and Principe', 'Haiti', 'Haiti', 'Djibouti', 'Guatemala', 'El Salvador', 'Central African Republic', 'Marshall Islands', 'Palestinian Territory', 'Guyana', 'Saint Pierre and Miquelon', 'Ecuador', 'British Indian Ocean Territory (Chagos Archipelago)', 'Vietnam', 'Chad', 'Puerto Rico', 'Niue', 'Spain', 'Antarctica (the territory South of 60 deg S)', 'Bahamas', 'Malta', 'Guernsey', 'Svalbard & Jan Mayen Islands', 'Bhutan', 'French Polynesia', 'Netherlands Antilles', 'Saint Pierre and Miquelon', 'Cayman Islands', 'Saint Martin', 'Wallis and Futuna', 'Latvia', 'Saint Vincent and the Grenadines', 'India', 'Turkey', 'Martinique', 'Faroe Islands', 'British Virgin Islands', 'Cyprus', 'Belgium', 'Gambia', 'Honduras', 'French Guiana', 'Tonga', 'Pakistan', 'Guyana', 'Peru', 'Guinea-Bissau', 'Malawi', 'Netherlands', 'Sri Lanka', 'Fiji', 'Thailand', 'Ireland', 'Cook Islands', 'Mauritius', 'Azerbaijan', 'Comoros', 'Nicaragua', 'Bhutan', 'Moldova', 'Nepal', 'Antigua and Barbuda', 'Vanuatu', 'Macao', 'Luxembourg', 'Romania', 'Latvia', 'Liberia', 'Heard Island and McDonald Islands', 'British Virgin Islands', 'Eritrea', 'Ethiopia', 'Guam', 'Ethiopia', 'Burkina Faso', 'Sao Tome and Principe', 'Moldova', 'Ireland', 'Sierra Leone', 'Chad', 'Togo', 'Liberia', 'Armenia', 'Trinidad and Tobago', 'Romania', 'French Southern Territories', 'Greenland', 'Ireland', 'Saint Martin', 'Somalia', 'Cayman Islands', 'Israel', 'Argentina', 'Romania', 'Paraguay', 'Philippines', 'Micronesia', 'Cyprus', 'Bulgaria', 'Honduras', 'Cambodia', 'Vietnam', 'Andorra', 'Haiti', 'Algeria', 'Germany', 'Grenada', 'Mali', 'Sweden', 'United States Virgin Islands', 'Zimbabwe', 'Indonesia', 'Sierra Leone', 'Portugal', 'Gambia', 'Heard Island and McDonald Islands', 'Western Sahara', 'Luxembourg', 'Costa Rica', 'Liechtenstein', 'Greenland', 'American Samoa', 'Guadeloupe', 'Myanmar', 'Antarctica (the territory South of 60 deg S)', 'Uzbekistan', 'Netherlands', 'Fiji', 'Niger', 'Switzerland', 'Honduras', 'Korea', 'Kiribati', 'Libyan Arab Jamahiriya', 'Suriname', 'Israel', 'Yemen', 'Austria', 'North Macedonia', 'Japan', 'Spain', 'Niger', 'Kazakhstan', 'Fiji', 'Chad', 'Russian Federation', 'Greece', 'Botswana', 'Afghanistan', 'Korea', 'Niue', 'Gabon', 'South Africa', 'Korea', 'Mayotte', 'Tonga', 'Ethiopia', 'Germany', 'Togo', 'Burundi', 'Switzerland', 'Marshall Islands', 'Saint Helena', 'Azerbaijan', 'British Virgin Islands', 'Falkland Islands (Malvinas)', 'Vanuatu', 'Haiti', 'Uzbekistan', 'Cuba', 'British Indian Ocean Territory (Chagos Archipelago)', 'Taiwan', 'Serbia', 'France', 'Monaco', 'Antigua and Barbuda', 'Equatorial Guinea', 'Japan', 'Cape Verde', 'Saint Kitts and Nevis', 'Bolivia', 'Sweden', 'Mexico', 'Sudan', 'Romania', 'Georgia', 'Paraguay', 'Uzbekistan', 'Saint Helena', 'Slovenia', 'Northern Mariana Islands', 'Azerbaijan', 'Yemen', 'Nicaragua', 'Saint Barthelemy', 'Antarctica (the territory South of 60 deg S)', 'Central African Republic', 'Bermuda', 'Gabon', 'Rwanda', 'Northern Mariana Islands', 'Bermuda', 'Paraguay', 'Canada', 'Pakistan', 'North Macedonia', 'Estonia', 'Yemen', 'Benin', 'South Georgia and the South Sandwich Islands', 'Zimbabwe', 'Lithuania', 'China', 'Egypt', 'Guinea', 'Korea', 'Uganda', 'United States Minor Outlying Islands', 'Faroe Islands', 'Cocos (Keeling) Islands', 'Guinea-Bissau', 'Spain', 'Kenya', 'New Zealand', 'Serbia', 'Czech Republic', 'Holy See (Vatican City State)', 'North Macedonia', 'Rwanda', 'Romania', 'Tunisia', 'United Kingdom', 'Burundi', 'Bahamas', 'Finland', 'Russian Federation', 'Afghanistan', 'Niue', 'France', 'Japan', 'Tanzania', 'Uruguay', 'Sao Tome and Principe', 'Canada', 'Turks and Caicos Islands', 'Germany', 'Liechtenstein', 'Central African Republic', 'Zimbabwe', 'Korea', 'Gibraltar', 'Venezuela', 'Uzbekistan', 'Dominican Republic', 'Pitcairn Islands', 'British Indian Ocean Territory (Chagos Archipelago)', 'Netherlands Antilles', 'Palau', 'Djibouti', 'Burkina Faso', 'Estonia', 'Hong Kong', 'South Africa', 'Ukraine', 'French Polynesia', 'Equatorial Guinea', 'Cape Verde', 'Thailand', 'Qatar', 'Sudan', 'American Samoa', 'Austria', 'Ukraine', 'Tokelau', 'Tonga', 'Lithuania', 'Libyan Arab Jamahiriya', 'Ghana', 'Egypt', 'Tanzania', 'Palestinian Territory', 'Morocco', 'Vietnam', 'Saint Helena', 'Egypt', 'Brazil', 'Canada', 'Namibia', 'Latvia', 'Niue', 'Italy', 'Liberia', 'Saint Barthelemy', 'Guam', 'Turks and Caicos Islands', 'Benin', 'Cape Verde', 'Burundi', 'Ghana', 'Bolivia', 'Equatorial Guinea', 'Afghanistan', 'Australia', 'Niger', 'Haiti', 'Maldives', 'South Africa', 'Guernsey', 'Heard Island and McDonald Islands', 'Denmark', 'Andorra', 'India', 'Rwanda', 'Mauritius', 'Paraguay', 'Croatia', 'Oman', 'Belgium', 'Saint Pierre and Miquelon', 'Anguilla', 'Lesotho', 'Australia', 'Rwanda', 'British Virgin Islands', 'Saint Pierre and Miquelon', 'Saint Pierre and Miquelon', 'Portugal', 'Bahamas', 'Trinidad and Tobago', 'United Arab Emirates', 'Mozambique', 'Uzbekistan', 'Netherlands', 'Mauritania', 'Congo', 'Denmark', 'United Kingdom', 'Israel', 'Hong Kong', 'Montenegro', 'United States of America', 'Turkey', 'Bahrain', 'Mongolia', 'Ecuador', 'Kiribati', 'Japan', 'Bouvet Island (Bouvetoya)', 'American Samoa', 'Isle of Man', 'Bangladesh', 'Zimbabwe', 'Timor-Leste', 'Trinidad and Tobago', 'Ecuador', 'Kazakhstan', 'Isle of Man', 'Taiwan', 'Vanuatu', 'Belarus', 'Marshall Islands', 'Cape Verde', 'Jordan', 'Micronesia', 'Saint Pierre and Miquelon', 'Kiribati', 'Bolivia', 'Algeria', 'Cyprus', 'Trinidad and Tobago', 'Iran', 'Czech Republic', 'Cameroon', 'Philippines', 'Montenegro', 'Italy', 'Norway', 'Guadeloupe', 'Tonga', 'Mongolia', 'Lithuania', 'Argentina', 'Finland', 'Guyana', 'Sao Tome and Principe', 'Yemen', 'American Samoa', 'Cayman Islands', 'Niue', 'France', 'Mozambique', 'Seychelles', 'Jersey', 'Estonia', 'Algeria', 'Jersey', 'Panama', 'Argentina', 'Paraguay', 'Ecuador', 'Hong Kong', 'Burkina Faso', 'Falkland Islands (Malvinas)', 'Djibouti', 'China', 'Guyana', 'Portugal', 'Trinidad and Tobago', 'Greenland', 'British Virgin Islands', 'Aruba', 'Hungary', 'Comoros', 'Jordan', 'Denmark', 'Slovenia', 'Malaysia', 'Spain', 'Namibia', 'Thailand', 'Japan', 'Bolivia', 'Iran', 'Afghanistan', 'Afghanistan', 'New Caledonia', 'Central African Republic', 'Nigeria', 'Guatemala', 'Honduras', 'Nicaragua', 'Algeria', 'Marshall Islands', 'Panama', 'Turkey', 'Malaysia', 'Cook Islands', 'Montenegro', 'New Zealand', 'Uganda', 'Samoa', 'Portugal', 'Mauritania', 'Serbia', 'Dominican Republic', 'Vietnam', 'Pitcairn Islands', 'New Caledonia', 'Moldova', 'Kyrgyz Republic', 'Cayman Islands', 'Mexico', 'British Indian Ocean Territory (Chagos Archipelago)', 'El Salvador', 'San Marino', 'Greece', 'Bosnia and Herzegovina', 'Timor-Leste', 'Andorra', 'Chile', \"Lao People's Democratic Republic\", 'Qatar', 'Croatia', 'Sweden', 'Jordan', 'Croatia', 'Rwanda', 'Belize', 'Ukraine', 'Myanmar', 'Saint Vincent and the Grenadines', 'Denmark', 'Indonesia', 'Lebanon', 'Fiji', 'Reunion', 'Antarctica (the territory South of 60 deg S)', 'Solomon Islands', 'Burundi', 'Serbia', 'Chile', 'Finland', 'New Zealand', 'Sri Lanka', 'Guam', 'Gambia', 'Uganda', 'Sweden', 'Niue', 'Central African Republic', 'Taiwan', 'Turks and Caicos Islands', 'Turks and Caicos Islands', 'Bhutan', 'Zimbabwe', 'French Southern Territories', 'Guernsey', 'Ukraine', 'Netherlands', 'Afghanistan', 'Equatorial Guinea', 'Philippines', 'Norway', 'Ecuador', 'Somalia', 'Wallis and Futuna', 'Cayman Islands', 'Taiwan', 'Tanzania', 'French Guiana', 'British Indian Ocean Territory (Chagos Archipelago)', 'Sao Tome and Principe', 'Morocco', 'Kyrgyz Republic', 'Bouvet Island (Bouvetoya)', 'Bhutan', 'Angola', 'Greece', 'Guadeloupe', 'Algeria', 'Papua New Guinea', 'Saint Vincent and the Grenadines', 'Puerto Rico', 'Cocos (Keeling) Islands', 'Eritrea', 'Mauritius', 'Gabon', 'Honduras', 'Tuvalu', \"Cote d'Ivoire\", 'South Georgia and the South Sandwich Islands', 'Bouvet Island (Bouvetoya)', 'Korea', 'Hungary', 'Guyana', 'Yemen', 'Norway', 'Belize', 'Germany', 'Guam', 'Guernsey', 'Bangladesh', 'Canada', 'Bosnia and Herzegovina', 'South Georgia and the South Sandwich Islands', 'Bouvet Island (Bouvetoya)', 'Congo', 'Mongolia', 'Jordan', 'Slovenia', 'Namibia', 'Germany', 'Hungary', 'Tunisia', 'Micronesia', 'United States of America', 'Andorra', 'New Caledonia', 'Brazil', 'Togo', 'Puerto Rico', 'Guatemala', 'Sierra Leone', 'Gambia', 'Nepal', 'French Polynesia', 'Morocco', 'Nepal', 'Comoros', 'Norway', 'Ghana', 'Gabon', 'Singapore', 'Lithuania', 'Malaysia', 'Jersey', 'New Zealand', 'Lithuania', 'Belize', 'Suriname', 'Czech Republic', 'Cayman Islands', 'Papua New Guinea', 'Yemen', 'United States of America', 'Japan', 'Turkmenistan', 'Norway', 'Vietnam', 'Faroe Islands', 'Nauru', 'Nauru', 'Benin', 'Slovenia', 'Cameroon', 'Burundi', 'Madagascar', 'Slovenia', 'Japan', 'Svalbard & Jan Mayen Islands', 'Afghanistan', 'Armenia', 'Turkmenistan', 'Bahamas', \"Cote d'Ivoire\", 'Philippines', 'Cape Verde', 'Liechtenstein', 'Wallis and Futuna', 'Gibraltar', 'Latvia', 'Japan', 'Kuwait', 'Ecuador', 'Togo', 'Latvia', 'Cyprus', 'Lebanon', 'Tokelau', 'Panama', 'Norway', 'Burkina Faso', 'Albania', 'Chile', 'Pitcairn Islands', 'Czech Republic', 'Bhutan', 'Puerto Rico', 'Montserrat', 'Reunion', 'Gambia', 'Djibouti', 'Timor-Leste', 'Botswana', 'Oman', 'Western Sahara', 'Falkland Islands (Malvinas)', 'Venezuela', 'Ghana', 'Congo', 'Anguilla', 'New Zealand', 'Nicaragua', 'Sri Lanka', 'Bhutan', 'Venezuela', 'Puerto Rico', 'Afghanistan', 'British Indian Ocean Territory (Chagos Archipelago)', 'Indonesia', 'Slovakia (Slovak Republic)', 'Egypt', 'Tokelau', 'Venezuela', 'Cape Verde', 'Saint Lucia', 'Mozambique', 'Germany', 'Singapore', 'Slovenia', 'Gambia', 'South Georgia and the South Sandwich Islands', 'Spain', 'Saint Kitts and Nevis', 'Cayman Islands', 'American Samoa', 'Uruguay', 'Netherlands Antilles', 'Korea', 'Tajikistan', 'Cocos (Keeling) Islands', 'Belarus', 'Uzbekistan', 'Portugal', 'Afghanistan', 'Congo', 'Denmark', 'Saint Vincent and the Grenadines', 'Romania', 'Yemen', 'Colombia', 'Malta', 'Kenya', 'Indonesia', 'Algeria', 'Slovenia', 'Isle of Man', 'Australia', 'Bahrain', 'Libyan Arab Jamahiriya', 'Uganda', 'Norfolk Island', 'Norway', 'Mongolia', 'Bahamas', 'Iran', 'Burkina Faso', 'Trinidad and Tobago', 'France', 'Greece', 'Nicaragua', 'Denmark', 'Tuvalu', 'Burkina Faso', 'United States of America', 'Albania', 'Montserrat', 'Sudan', 'Bulgaria', 'Romania', 'American Samoa', 'Namibia', 'Seychelles', 'Svalbard & Jan Mayen Islands', 'Ukraine', 'New Caledonia', 'Svalbard & Jan Mayen Islands', 'Guadeloupe', 'Holy See (Vatican City State)', 'American Samoa', 'Estonia', 'Cambodia', 'Libyan Arab Jamahiriya', 'Ghana', 'Sri Lanka', 'Marshall Islands', 'Colombia', 'Luxembourg', 'Montserrat', 'Latvia', 'Fiji', 'Czech Republic', 'United States Virgin Islands', 'Spain', 'Chile', 'Bahamas', 'Austria', 'Madagascar', 'Montserrat', 'Lithuania', 'Honduras', 'Micronesia', 'North Macedonia', 'Puerto Rico', 'Pakistan', 'Jersey', 'Papua New Guinea', 'Nigeria', 'Niger', 'Czech Republic', 'Mali', 'Antarctica (the territory South of 60 deg S)', 'Afghanistan', 'Niue', 'Oman', 'Barbados', 'Cyprus', 'Turkey', 'Netherlands Antilles', 'Canada', 'Kuwait', 'Jersey', 'United Arab Emirates', 'Malaysia', 'Uzbekistan', 'British Indian Ocean Territory (Chagos Archipelago)', 'Mauritania', 'Gabon', 'Austria', 'Vanuatu', 'Guadeloupe', 'Rwanda', 'Western Sahara', 'Thailand', 'Saudi Arabia', 'Congo', 'Colombia', 'Mexico', 'Vietnam', 'Saint Pierre and Miquelon', 'Iran', 'Montenegro', 'Nicaragua', 'Morocco', 'Yemen', 'Anguilla', 'Burundi', 'Tokelau', 'Indonesia', 'New Caledonia', 'Nepal', 'Saint Helena', 'Tanzania', 'Turks and Caicos Islands', 'France', 'Ethiopia', 'Swaziland', 'Martinique', \"Lao People's Democratic Republic\", 'Iran', 'Tuvalu', 'Sierra Leone', 'Western Sahara', \"Cote d'Ivoire\", 'Mayotte', 'Senegal', 'Tajikistan', 'Israel', 'Norfolk Island', 'Libyan Arab Jamahiriya', 'Italy', 'Nepal', 'Egypt', 'Mayotte', 'French Polynesia', 'Cuba', 'Costa Rica', 'Malawi', 'Guadeloupe', 'Saint Vincent and the Grenadines', 'Chad', 'Bahamas', 'Turkmenistan', \"Lao People's Democratic Republic\", 'Lebanon', 'Nauru', 'United Arab Emirates', 'Egypt', 'Tokelau', 'Thailand', 'Myanmar', 'Malawi', 'Cuba', 'Germany', 'Christmas Island', 'Greece', 'Chile', 'Kenya', 'Italy', 'Lesotho', 'Canada', 'Ghana', 'Cameroon', 'South Georgia and the South Sandwich Islands', 'Kazakhstan', 'Christmas Island', 'Canada', 'Norfolk Island', 'Slovakia (Slovak Republic)', 'Spain', 'Korea', 'Greece', 'Niger', 'Guadeloupe', 'Philippines', 'Samoa', 'Bermuda', 'Namibia', 'Western Sahara', 'Palau', 'Saint Helena', 'Cayman Islands', 'Tonga', 'Bahrain', 'Guatemala', 'Czech Republic', 'Belgium', 'Saint Helena', 'Bahamas', 'Congo', 'Estonia', 'Tanzania', 'Aruba', 'Benin', 'Singapore', 'Libyan Arab Jamahiriya', 'Northern Mariana Islands', 'Liberia', 'Micronesia', 'Singapore', 'South Africa', 'Suriname', 'British Indian Ocean Territory (Chagos Archipelago)', 'Indonesia', 'Guernsey', 'Germany', 'Ecuador', 'Saint Vincent and the Grenadines', 'Bahrain', 'Finland', 'Albania', 'Malaysia', 'Belarus', 'Netherlands Antilles', 'Oman', 'Turkmenistan', 'Cuba', 'Marshall Islands', 'France', 'Chile', 'Bouvet Island (Bouvetoya)', 'Venezuela', 'Pakistan', 'Dominican Republic', 'Comoros', 'Montserrat', 'Barbados', 'Puerto Rico', 'Trinidad and Tobago', 'Zambia', 'Lithuania', 'Malawi', 'Faroe Islands', 'Saint Pierre and Miquelon', 'Liberia', 'Belgium', 'Papua New Guinea', 'Luxembourg', 'Russian Federation', 'Slovakia (Slovak Republic)', 'Saint Vincent and the Grenadines', 'Portugal', 'Iran', 'Uruguay', 'Bouvet Island (Bouvetoya)', 'Namibia', 'Portugal', 'Montenegro', 'Afghanistan', 'Italy', 'Hong Kong', 'Gabon', 'Mauritania', 'Armenia', 'Saint Vincent and the Grenadines', 'Austria', 'Uruguay', 'Guinea', 'Andorra', 'Switzerland', 'Swaziland', 'Malawi', 'Moldova', 'Serbia', 'Guernsey', 'Germany', 'Kazakhstan', 'Lithuania', 'Benin', 'Nepal', 'Uruguay', 'Aruba', 'Uganda', 'Chile', 'Trinidad and Tobago', 'French Polynesia', 'Niger', 'Jersey', 'Mauritania', 'Sierra Leone', 'Saint Lucia', 'Pitcairn Islands', 'Montserrat', 'Falkland Islands (Malvinas)', 'Costa Rica', 'San Marino', 'Iran', 'Jersey', 'Nicaragua', 'Congo', 'Iran', 'Malawi', 'Christmas Island', 'Yemen', 'Luxembourg', 'Congo', 'Mozambique', 'Kazakhstan', 'United Kingdom', 'Norway', 'Switzerland', 'Mauritania', 'French Guiana', 'Saint Lucia', 'Georgia', 'Taiwan', 'Algeria', 'Guinea', 'Liechtenstein', 'Honduras', 'Sierra Leone', 'Finland', 'Ecuador', 'Bolivia', 'Mozambique', 'Mauritania', 'Bermuda', 'Saint Barthelemy', 'Argentina', 'Netherlands Antilles', 'Netherlands Antilles', 'Turks and Caicos Islands', 'Sierra Leone', 'Norfolk Island', 'Canada', 'Hungary', 'Wallis and Futuna', 'Philippines', 'Kyrgyz Republic', 'Niger', 'Libyan Arab Jamahiriya', 'Djibouti', 'Iraq', 'Tuvalu', 'Guam', 'Reunion', 'Kuwait', 'Korea', 'Svalbard & Jan Mayen Islands', 'Belize', 'Papua New Guinea', 'China', 'Gibraltar', 'Indonesia', 'Reunion', 'Namibia', \"Lao People's Democratic Republic\", 'Belize', 'Slovakia (Slovak Republic)', 'Equatorial Guinea', 'Nepal', 'Montenegro', 'Belize', 'Micronesia', 'Honduras', 'Norway', 'Germany', 'Luxembourg', 'Myanmar', 'Senegal', 'Timor-Leste', 'Azerbaijan', 'Burkina Faso', 'Cyprus', 'Mexico', 'Guernsey', 'Netherlands Antilles', 'Tonga', 'Jersey', 'American Samoa', 'Niue', 'Germany', 'Tuvalu', 'Jamaica', 'Guernsey', 'Haiti', 'Colombia', 'Korea', 'Gambia', 'Burundi', 'Burundi', 'Djibouti', 'Rwanda', 'Malawi', 'India', 'Spain', 'Slovenia', 'Bangladesh', 'Bermuda', 'Zambia', 'Saint Helena', 'Faroe Islands', 'Maldives', 'Sao Tome and Principe', 'Kiribati', 'Tokelau', 'Uruguay', 'Slovenia', 'Italy', 'Niue', 'Japan', 'Barbados', 'Chad', 'Guinea-Bissau', 'India', 'Latvia', 'Italy', 'Bolivia', 'Turks and Caicos Islands', 'Sri Lanka', 'Ireland', 'Chad', 'Tokelau', 'Bangladesh', 'Kyrgyz Republic', 'Jersey', 'Congo', 'Saint Kitts and Nevis', 'Ukraine', 'Togo', 'Serbia', 'Central African Republic', 'Togo', 'Norfolk Island', 'Liechtenstein', 'Cuba', 'Mali', 'Nepal', 'Tanzania', 'Nigeria', 'Sierra Leone', 'Burkina Faso', 'Lesotho', 'Sri Lanka', 'Cambodia', 'Falkland Islands (Malvinas)', 'United States of America', 'Central African Republic', 'New Caledonia', 'Bolivia', 'New Zealand', 'Liberia', 'Chad', 'Cyprus', 'Antarctica (the territory South of 60 deg S)', 'Haiti', 'Cambodia', 'Germany', 'Malaysia', 'Cook Islands', 'Australia', 'Philippines', 'Somalia', 'Kyrgyz Republic', 'Niue', 'Mauritania', 'Zambia', 'San Marino', 'Portugal', 'Finland', 'Heard Island and McDonald Islands', 'Vanuatu', 'Japan', 'Nepal', 'Singapore', 'Turks and Caicos Islands', 'Swaziland', 'Uruguay', 'Guinea', 'Tajikistan', 'Togo', \"Cote d'Ivoire\", 'American Samoa', 'Bulgaria', 'Maldives', 'Morocco', 'New Caledonia', 'United States Minor Outlying Islands', 'Iraq', 'Finland', 'Denmark', 'Tajikistan', 'France', 'Antarctica (the territory South of 60 deg S)', 'Czech Republic', 'Finland', 'Croatia', 'Aruba', 'Equatorial Guinea', 'Suriname', 'Guam', 'Russian Federation', 'Senegal', 'Equatorial Guinea', 'United Kingdom', 'Cyprus', 'Bahamas', 'United States Minor Outlying Islands', 'Saint Kitts and Nevis', 'Turkey', 'French Southern Territories', 'Sri Lanka', 'Slovakia (Slovak Republic)', 'Samoa', 'Fiji', 'Dominica', 'Palestinian Territory', 'Kuwait', 'Reunion', 'China', 'Korea', 'Mauritius', 'Montserrat', 'Senegal', 'Liberia', 'Wallis and Futuna', 'Kyrgyz Republic', 'Burundi', 'Poland', 'Denmark', 'Mauritius', 'Nauru', 'San Marino', 'Paraguay', 'Belize', 'Sri Lanka', 'Faroe Islands', 'Montserrat', 'Nigeria', 'Slovenia', 'Slovakia (Slovak Republic)', 'Timor-Leste', 'New Zealand', 'Kuwait', 'Portugal', 'Slovakia (Slovak Republic)', 'Venezuela', \"Cote d'Ivoire\", 'Samoa', 'Croatia', 'Cyprus', 'North Macedonia', 'French Southern Territories', 'Saudi Arabia', 'Guinea', 'Martinique', 'Djibouti', 'Norfolk Island', 'Samoa', 'Belgium', 'Montserrat', 'United States of America', 'United Arab Emirates', 'Saint Vincent and the Grenadines', \"Cote d'Ivoire\", 'Niue', 'Burkina Faso', 'Romania', 'Bolivia', 'Myanmar', 'Afghanistan', 'British Virgin Islands', 'Cuba', 'Eritrea', 'Aruba', 'Swaziland', 'Colombia', 'Saint Lucia', 'Wallis and Futuna', 'Cambodia', 'Ghana', 'Djibouti', 'Albania', 'Monaco', 'Niger', 'Bhutan', 'Bolivia', 'Azerbaijan', 'Holy See (Vatican City State)', 'Botswana', 'Uruguay', 'Malta', 'Martinique', 'Tunisia', 'Malawi', 'Saint Pierre and Miquelon', 'Brazil', 'Sierra Leone', 'Antarctica (the territory South of 60 deg S)', 'British Virgin Islands', 'Haiti', 'Dominica', 'Ukraine', 'Cape Verde', 'Gabon', 'Latvia', 'Kiribati', 'Serbia', 'Falkland Islands (Malvinas)', 'Ghana', 'Lebanon', 'Papua New Guinea', 'Pakistan', 'Iran', \"Cote d'Ivoire\", 'Cuba', 'Burundi', 'Vietnam', 'Vanuatu', 'Hungary', 'Micronesia', 'Armenia', 'Poland', 'Guadeloupe', 'Cambodia', 'Norfolk Island', 'Sweden', 'Sri Lanka', 'Svalbard & Jan Mayen Islands', 'Romania', 'Guinea-Bissau', 'Kenya', 'Mongolia', 'Papua New Guinea', 'Ireland', 'Northern Mariana Islands', 'Guadeloupe', 'Zambia', 'Madagascar', 'Netherlands Antilles', 'Bahrain', 'Yemen', 'Somalia', 'Jersey', 'Guinea', 'Guinea-Bissau', 'Indonesia', 'Anguilla', 'Kuwait', 'Palestinian Territory', 'France', 'Palau', 'Liechtenstein', 'New Caledonia', 'Samoa', 'San Marino', 'Canada', 'Egypt', 'Isle of Man', 'Wallis and Futuna', 'Egypt', 'Bahamas', 'Bulgaria', 'Portugal', 'Tunisia', 'South Georgia and the South Sandwich Islands', 'Maldives', 'Serbia', 'Kyrgyz Republic', 'Eritrea', 'Turkmenistan', 'Tajikistan', 'Congo', 'Bangladesh', 'Nauru', 'Congo', 'Madagascar', 'Tunisia', 'Kyrgyz Republic', 'Faroe Islands', 'Eritrea', 'Guinea-Bissau', 'Wallis and Futuna', 'Kyrgyz Republic', 'Mali', 'Tunisia', 'French Southern Territories', 'Guernsey', 'Sao Tome and Principe', 'Maldives', 'Ghana', 'Wallis and Futuna', 'Albania', 'Liechtenstein', 'Korea', 'Reunion', 'Ecuador', 'Marshall Islands', 'Bangladesh', 'Cyprus', 'Norfolk Island', 'Papua New Guinea', 'Palestinian Territory', 'Netherlands Antilles', 'Peru', 'Malawi', 'Colombia', 'Norway', 'Congo', 'Christmas Island', 'Bhutan', 'Holy See (Vatican City State)', 'Trinidad and Tobago', 'Peru', 'Azerbaijan', 'Libyan Arab Jamahiriya', 'Timor-Leste', 'Palau', 'Albania', 'Burkina Faso', 'Nepal', 'Reunion', 'Cameroon', 'Tunisia', 'Nigeria', 'Micronesia', 'France', 'Cambodia', 'South Georgia and the South Sandwich Islands', 'Israel', 'Saudi Arabia', 'Ethiopia', 'Kenya', 'Algeria', 'Afghanistan', 'Peru', 'South Africa', 'Djibouti', 'Belarus', 'Marshall Islands', 'Dominica', 'Cayman Islands', 'Congo', 'Mongolia', 'El Salvador', 'Slovenia', 'Argentina', 'United Arab Emirates', 'Palestinian Territory', 'Morocco', 'Barbados', 'Bhutan', 'Cape Verde', 'Latvia', 'Slovenia', 'Denmark', 'Vietnam', 'Montenegro', 'Spain', 'Myanmar', 'Martinique', 'Mauritania', 'Armenia', 'Haiti', 'Mozambique', 'Faroe Islands', 'Syrian Arab Republic', 'Haiti', 'Tanzania', 'Gabon', 'Zimbabwe', 'Timor-Leste', 'American Samoa', 'Guam', 'Papua New Guinea', 'Tuvalu', 'Jordan', 'Antigua and Barbuda', 'French Guiana', 'Monaco', 'Malaysia', 'Iran', 'Belize', 'Malaysia', 'Belize', 'Gambia', 'Oman', 'Sweden', 'Cyprus', 'Honduras', 'Sudan', 'Romania', 'Qatar', 'Niue', 'Togo', 'San Marino', 'Croatia', 'Antigua and Barbuda', 'Antarctica (the territory South of 60 deg S)', 'Uzbekistan', 'South Georgia and the South Sandwich Islands', 'United Arab Emirates', 'Central African Republic', 'Guernsey', 'Gambia', 'British Virgin Islands', 'Dominican Republic', 'Kenya', 'Namibia', 'Svalbard & Jan Mayen Islands', 'Senegal', 'Yemen', 'Peru', 'Barbados', 'Burkina Faso', 'Finland', 'Puerto Rico', 'El Salvador', 'United States Virgin Islands', 'Australia', 'Romania', 'El Salvador', 'Hungary', 'Guatemala', 'Bouvet Island (Bouvetoya)', 'Malaysia', 'Trinidad and Tobago', 'Nigeria', 'Cameroon', 'Liechtenstein', 'Lebanon', 'Myanmar', 'Grenada', 'Seychelles', 'Samoa', 'Fiji', 'Mali', 'Congo', 'Mozambique', 'Iraq', 'Timor-Leste', 'Lebanon', 'Mauritius', 'Jersey', 'Rwanda', 'Czech Republic', 'Cook Islands', 'Montserrat', 'Comoros', 'Vietnam', 'Dominica', 'British Virgin Islands', 'Guadeloupe', 'Zambia', 'Cocos (Keeling) Islands', 'Liberia', 'Montserrat', 'Tuvalu', 'Egypt', 'Estonia', 'Turkey', 'Trinidad and Tobago', 'Greenland', 'Samoa', 'Saint Helena', 'Saudi Arabia', 'India', 'Malta', 'Barbados', 'Italy', 'Mauritania', 'Greece', 'Mayotte', 'Dominica', 'Brazil', 'British Indian Ocean Territory (Chagos Archipelago)', 'Bahamas', 'San Marino', 'Malta', 'Saint Kitts and Nevis', 'Greenland', 'Syrian Arab Republic', 'Martinique', 'United States Minor Outlying Islands', 'Palestinian Territory', 'Italy', 'Israel', 'Heard Island and McDonald Islands', 'Paraguay', 'Faroe Islands', 'Botswana', 'Comoros', 'Italy', 'Saint Martin', 'Uzbekistan', 'Netherlands', 'Botswana', 'Congo', 'Mauritania', 'British Virgin Islands', 'Iraq', 'Guinea', 'Tokelau', 'South Georgia and the South Sandwich Islands', 'Azerbaijan', 'Gabon', 'Kazakhstan', 'Kazakhstan', 'Chad', 'Micronesia', 'Rwanda', 'Greenland', 'Saint Barthelemy', 'Paraguay', 'Paraguay', 'Dominican Republic', 'Korea', 'Monaco', 'Slovakia (Slovak Republic)', 'Kyrgyz Republic', 'Uganda', 'Uruguay', 'Indonesia', 'Macao', 'Aruba', 'Slovenia', 'Bermuda', 'Serbia', 'Nigeria', 'New Zealand', 'Mexico', 'Cook Islands', 'Cayman Islands', 'Palau', 'United States Minor Outlying Islands', 'Kiribati', 'Sweden', 'Finland', 'Japan', 'Bulgaria', 'Sudan', 'Greece', 'Seychelles', 'Philippines', 'Bulgaria', 'Tuvalu', 'Bouvet Island (Bouvetoya)', 'Antigua and Barbuda', 'China', 'Netherlands', 'Israel', 'Mongolia', 'United Kingdom', 'Anguilla', 'Benin', 'Kyrgyz Republic', 'Lithuania', 'Azerbaijan', 'Mozambique', 'Fiji', 'Zimbabwe', 'Saint Helena', 'Saint Kitts and Nevis', 'Mexico', 'South Africa', 'Algeria', 'Albania', 'United States Virgin Islands', 'Trinidad and Tobago', 'Jordan', 'Azerbaijan', 'Namibia', 'Cameroon', 'North Macedonia', 'South Georgia and the South Sandwich Islands', 'Gabon', 'British Virgin Islands', 'Belgium', 'Philippines', 'Turkey', 'Kenya', 'Chile', 'Finland', 'Costa Rica', 'Nepal', 'Swaziland', 'Papua New Guinea', 'Saint Lucia', 'Liberia', 'Jordan', 'Portugal', 'Iraq', 'Holy See (Vatican City State)', 'Panama', 'Belize', 'Central African Republic', 'China', 'Martinique', 'Tanzania', 'Tuvalu', 'Thailand', 'Holy See (Vatican City State)', 'Egypt', 'French Southern Territories', 'Timor-Leste', 'Korea', 'Tunisia', 'Iceland', 'Mauritius', 'Samoa', 'Nepal', \"Cote d'Ivoire\", 'Gambia', 'Papua New Guinea', 'Ethiopia', 'Holy See (Vatican City State)', 'Northern Mariana Islands', 'Greece', 'Namibia', 'Slovenia', 'Cambodia', 'Korea', 'Belgium', 'Serbia', 'Lithuania', 'Latvia', 'Congo', 'Iceland', 'Tajikistan', 'Philippines', 'Cyprus', 'Slovenia', 'Kiribati', 'Benin', 'Lebanon', 'Turks and Caicos Islands', 'Guam', 'United States Minor Outlying Islands', 'Tonga', 'Central African Republic', 'Brazil', 'Heard Island and McDonald Islands', 'Sierra Leone', 'Saint Barthelemy', 'Micronesia', 'North Macedonia', 'Dominican Republic', 'Bulgaria', 'Swaziland', 'Barbados', 'Iran', 'Canada', 'Israel', 'Ethiopia', 'Bolivia', 'Indonesia', 'Holy See (Vatican City State)', 'Armenia', 'Dominican Republic', 'Solomon Islands', 'Brunei Darussalam', 'Palestinian Territory', 'North Macedonia', 'Lithuania', 'Chad', 'Italy', 'Gibraltar', 'Malawi', 'Morocco', 'Pakistan', 'Cook Islands', 'Algeria', 'Dominican Republic', 'United States of America', 'Malawi', 'Macao', 'Iraq', 'Cyprus', 'Maldives', 'Taiwan', 'Eritrea', 'Yemen', 'Botswana', 'Bulgaria', 'Guadeloupe', 'British Virgin Islands', 'Thailand', 'Benin', 'Kuwait', 'Saint Barthelemy', 'Malawi', 'Saint Vincent and the Grenadines', 'Bouvet Island (Bouvetoya)', 'Heard Island and McDonald Islands', 'Uruguay', 'Brazil', 'Heard Island and McDonald Islands', 'Korea', 'Bouvet Island (Bouvetoya)', 'Bulgaria', 'Marshall Islands', 'Indonesia', 'Jersey', 'Singapore', 'Eritrea', 'Netherlands', 'Cyprus', 'Timor-Leste', 'Saint Lucia', 'Dominican Republic', 'Tuvalu', 'Denmark', 'Saint Martin', 'Hungary', 'Isle of Man', 'Anguilla', 'Turkey', 'Dominica', 'Argentina', 'Central African Republic', 'Tokelau', 'Svalbard & Jan Mayen Islands', 'Morocco', 'Bermuda', 'Argentina', 'Cape Verde', 'Vanuatu', 'Bangladesh', 'Brazil', 'New Caledonia', 'Colombia', 'Mayotte', 'Philippines', 'Australia', 'Yemen', 'French Polynesia', 'Croatia', 'Hungary', 'Pakistan', 'Guam', 'Cook Islands', 'Slovenia', 'Paraguay', 'United States of America', 'Lithuania', 'Lebanon', 'French Guiana', 'Togo', 'Comoros', 'Iran', 'Paraguay', 'Mayotte', 'Hungary', 'Niger', 'Burundi', 'Cyprus', 'South Africa', 'Christmas Island', 'Cayman Islands', 'Lithuania', 'Maldives', 'Montserrat', 'Mauritania', 'Egypt', \"Lao People's Democratic Republic\", 'Netherlands', 'Comoros', 'Congo', 'Lesotho', 'Saint Pierre and Miquelon', 'Ecuador', 'French Polynesia', 'Mauritius', 'Croatia', 'Cameroon', 'New Caledonia', 'Myanmar', 'Uzbekistan', 'Israel', 'Antigua and Barbuda', 'Guyana', 'Ghana', 'Micronesia', 'Haiti', 'Northern Mariana Islands', 'Sudan', 'Kyrgyz Republic', 'United States Minor Outlying Islands', 'Nicaragua', 'South Georgia and the South Sandwich Islands', 'Belgium', 'Hungary', 'Eritrea', 'Togo', 'Taiwan', 'Cyprus', 'Nepal', 'Trinidad and Tobago', 'Chad', 'Jersey', 'Bosnia and Herzegovina', 'Turkmenistan', 'Montenegro', 'Sudan', 'Bouvet Island (Bouvetoya)', 'Burundi', 'Bahamas', 'Burundi', 'Faroe Islands', 'Korea', 'Solomon Islands', 'Slovenia', 'Dominican Republic', 'British Virgin Islands', 'Australia', 'Sweden', 'Turkey', 'Paraguay', 'Switzerland', 'Bosnia and Herzegovina', 'Saint Helena', 'Sweden', 'Indonesia', 'Spain', 'Lesotho', 'Qatar', 'Western Sahara', 'Norway', 'Moldova', 'Cuba', 'Greenland', 'Togo', 'Ecuador', 'Slovenia', 'Samoa', 'Algeria', 'Libyan Arab Jamahiriya', 'Tokelau', 'Maldives', 'Colombia', 'North Macedonia', 'Cuba', 'French Guiana', 'Slovenia', 'Iraq', 'Dominica', 'Saint Pierre and Miquelon', 'Iraq', 'Bangladesh', 'Sudan', 'Turks and Caicos Islands', 'Andorra', 'Korea', 'Martinique', 'Sierra Leone', 'Suriname', 'Mexico', 'Guadeloupe', 'Georgia', 'American Samoa', 'San Marino', 'Cambodia', 'Cape Verde', 'Tuvalu', 'Niue', 'Holy See (Vatican City State)', 'Korea', 'Mongolia', 'Niue', 'Northern Mariana Islands', 'Iceland', 'Singapore', 'Belize', 'Guatemala', 'Nigeria', 'Malawi', 'Australia', 'Malta', 'Kyrgyz Republic', 'Azerbaijan', 'Puerto Rico', 'Somalia', 'Switzerland', 'Oman', 'Guernsey', 'Kiribati', 'Lesotho', 'Bangladesh', 'Philippines', 'Japan', 'Guadeloupe', 'Montserrat', 'Korea', 'Yemen', 'Saudi Arabia', 'Guinea-Bissau', 'Chad', 'Saint Lucia', 'India', 'Greenland', 'Mayotte', 'Myanmar', 'Wallis and Futuna', 'Macao', 'Djibouti', 'Greece', 'Chile', 'Germany', 'Papua New Guinea', 'Antarctica (the territory South of 60 deg S)', 'Timor-Leste', 'Tunisia', 'Spain', 'Antarctica (the territory South of 60 deg S)', 'South Africa', 'Saudi Arabia', 'Suriname', 'Ireland', 'Kenya', 'Belize', 'Poland', 'Montenegro', 'United States Minor Outlying Islands', 'Marshall Islands', 'Canada', 'Iraq', 'Burkina Faso', 'Sao Tome and Principe', 'Azerbaijan', 'Djibouti', 'Argentina', 'Pitcairn Islands', 'Kazakhstan', 'Croatia', 'Taiwan', 'Micronesia', 'Wallis and Futuna', 'Belgium', 'Guyana', 'Burundi', 'Ukraine', 'Tajikistan', 'Congo', 'Saint Pierre and Miquelon', 'Christmas Island', 'Gibraltar', 'Sao Tome and Principe', 'San Marino', 'Bulgaria', 'Taiwan', 'Cayman Islands', 'Chile', 'Rwanda', 'Cocos (Keeling) Islands', 'Bangladesh', 'Botswana', 'Pitcairn Islands', 'Macao', 'Bhutan', 'Madagascar', 'Singapore', 'Saint Kitts and Nevis', 'China', 'Cyprus', 'Uzbekistan', 'Venezuela', 'Central African Republic', 'Guadeloupe', \"Lao People's Democratic Republic\", 'New Zealand', 'Niger', 'North Macedonia', 'Saudi Arabia', 'Korea', 'Malta', 'El Salvador', 'Solomon Islands', 'Western Sahara', 'Mali', 'Reunion', 'Greenland', 'Liechtenstein', 'Sierra Leone', 'Trinidad and Tobago', 'Taiwan', 'Latvia', 'Mozambique', 'Seychelles', 'Korea', 'Grenada', 'Lebanon', 'Rwanda', 'Kyrgyz Republic', 'Guinea-Bissau', 'Kenya', 'Cayman Islands', 'Isle of Man', 'Ethiopia', 'Afghanistan', 'Chile', 'British Indian Ocean Territory (Chagos Archipelago)', 'Aruba', 'Uzbekistan', \"Cote d'Ivoire\", 'Tokelau', 'Barbados', 'Aruba', 'Aruba', 'Cocos (Keeling) Islands', 'Nicaragua', 'Holy See (Vatican City State)', 'Croatia', 'Peru', 'Mayotte', 'Belize', 'Georgia', 'Sweden', 'Mexico', 'Rwanda', 'Slovakia (Slovak Republic)', 'Spain', 'Bosnia and Herzegovina', 'Afghanistan', 'Burkina Faso', 'Australia', 'Panama', 'Eritrea', 'Djibouti', 'Marshall Islands', 'Saint Barthelemy', 'Eritrea', 'Guinea', 'Bermuda', 'Palau', 'Colombia', 'Comoros', 'El Salvador', 'Palestinian Territory', 'China', 'Haiti', 'Saint Helena', 'Sierra Leone', 'Timor-Leste', 'Sweden', 'Seychelles', 'Albania', 'Croatia', 'Tanzania', 'Montserrat', 'Swaziland', 'Bouvet Island (Bouvetoya)', 'United States Minor Outlying Islands', 'Mali', 'Spain', 'Norway', 'Zambia', 'Andorra', 'Tokelau', 'Zambia', 'Turkmenistan', 'Uganda', 'Korea', 'Saint Helena', 'Malta', 'Puerto Rico', 'Mongolia', 'Papua New Guinea', 'Mayotte', 'Holy See (Vatican City State)', 'Sweden', 'Belize', 'Saint Vincent and the Grenadines', 'South Georgia and the South Sandwich Islands', 'Paraguay', 'Faroe Islands', 'Turkey', 'Libyan Arab Jamahiriya', 'Bermuda', 'France', 'Senegal', 'Cyprus', 'Jamaica', 'Indonesia', 'Comoros', 'Bouvet Island (Bouvetoya)', 'Macao', 'Algeria', 'United Arab Emirates', 'Iran', 'Iraq', 'Guernsey', 'Cuba', 'Singapore', 'Ethiopia', 'Andorra', 'Solomon Islands', 'Cambodia', 'Oman', 'Tonga', 'French Guiana', 'Lithuania', 'Peru', 'Heard Island and McDonald Islands', 'Rwanda', 'France', 'Taiwan', 'Saint Vincent and the Grenadines', 'Sri Lanka', 'Kuwait', 'Tanzania', 'Mauritania', 'Mayotte', 'Swaziland', 'United States Virgin Islands', 'Angola', 'Singapore', 'Bahrain', 'Tokelau', 'Pakistan', 'Isle of Man', 'Bermuda', 'Finland', 'Turks and Caicos Islands', 'Yemen', 'El Salvador', 'Zimbabwe', 'Argentina', 'Antarctica (the territory South of 60 deg S)', 'Cook Islands', 'Colombia', 'Indonesia', 'Latvia', 'Turks and Caicos Islands', 'Heard Island and McDonald Islands', 'Micronesia', 'Tokelau', 'Kyrgyz Republic', 'Maldives', 'Russian Federation', 'Zambia', 'Philippines', 'Latvia', 'Poland', 'Dominica', 'Saint Helena', 'Equatorial Guinea', 'Malta', 'Tajikistan', 'Svalbard & Jan Mayen Islands', 'Australia', 'Uganda', 'Burkina Faso', 'Botswana', 'Antigua and Barbuda', 'Samoa', 'Argentina', 'Peru', 'Saint Barthelemy', 'Ecuador', 'Cook Islands', 'French Guiana', 'Svalbard & Jan Mayen Islands', 'Finland', 'Samoa', 'Kazakhstan', 'Luxembourg', 'Guam', 'Seychelles', 'Barbados', 'Guyana', 'Cyprus', 'Korea', 'Peru', 'Saint Pierre and Miquelon', 'Mongolia', 'Northern Mariana Islands', 'Brunei Darussalam', 'Togo', 'Morocco', 'China', 'Heard Island and McDonald Islands', 'Slovenia', 'Guatemala', 'Libyan Arab Jamahiriya', 'British Virgin Islands', 'Tuvalu', 'Grenada', 'Papua New Guinea', 'Liechtenstein', 'Peru', 'Libyan Arab Jamahiriya', 'Moldova', 'Northern Mariana Islands', 'Malawi', 'Saint Lucia', 'Tonga', 'New Zealand', 'Sweden', 'Kiribati', 'Samoa', 'Cocos (Keeling) Islands', 'Korea', 'Andorra', 'Peru', 'Burundi', 'Holy See (Vatican City State)', 'Thailand', 'Egypt', 'Ecuador', 'Lithuania', 'Belarus', 'United States of America', 'Bahamas', 'Belarus', 'Kazakhstan', \"Cote d'Ivoire\", 'Angola', 'Algeria', 'Central African Republic', 'Estonia', 'Gibraltar', 'Bouvet Island (Bouvetoya)', 'Nepal', 'Tokelau', 'Yemen', 'New Zealand', 'Marshall Islands', 'Bahamas', 'Jordan', 'Netherlands', 'Moldova', 'Sao Tome and Principe', 'Anguilla', 'Togo', 'Tajikistan', 'Sudan', 'Belgium', 'United Kingdom', 'Liechtenstein', 'Mayotte', 'Korea', 'Cambodia', 'San Marino', 'Croatia', 'Northern Mariana Islands', 'Guinea', 'Canada', 'Faroe Islands', 'Puerto Rico', 'Mauritania', 'Comoros', 'Panama', 'Mayotte', 'Equatorial Guinea', 'Canada', 'Philippines', 'French Guiana', 'Luxembourg', 'Martinique', 'Comoros', 'Philippines', 'Cuba', 'Estonia', 'Pakistan', 'Equatorial Guinea', 'Liechtenstein', 'Palestinian Territory', 'Uganda', 'British Indian Ocean Territory (Chagos Archipelago)', 'Nauru', 'Montserrat', 'Portugal', 'Sudan', 'Mayotte', 'Pitcairn Islands', 'Puerto Rico', 'Suriname', 'Belgium', 'Marshall Islands', 'France', 'Mozambique', 'Zimbabwe', 'New Caledonia', 'Lesotho', 'Argentina', 'Vanuatu', 'Nigeria', 'Greenland', 'Liechtenstein', 'Tuvalu', 'Lesotho', 'Cook Islands', 'Philippines', 'Morocco', 'Pakistan', 'Vanuatu', 'Guinea', 'Guatemala', 'Sri Lanka', 'Cuba', 'Israel', 'Denmark', 'Ukraine', 'Netherlands Antilles', 'Mozambique', 'Cayman Islands', 'Uzbekistan', 'Denmark', 'Philippines', 'Bermuda', 'Mongolia', 'Kenya', 'French Southern Territories', 'Niger', 'Tuvalu', 'Venezuela', 'Morocco', 'Dominica', 'Niue', 'Ethiopia', 'Kyrgyz Republic', 'Martinique', 'Spain', 'Ecuador', 'Angola', 'Western Sahara', 'Madagascar', 'Nicaragua', 'Iceland', 'Guinea', 'Serbia', 'Morocco', 'Libyan Arab Jamahiriya', 'Timor-Leste', 'Zimbabwe', 'South Georgia and the South Sandwich Islands', 'Kazakhstan', 'Tonga', 'South Georgia and the South Sandwich Islands', 'Eritrea', 'French Guiana', 'Kiribati', 'Vanuatu', 'Belize', 'Vietnam', 'Panama', 'Kuwait', 'Andorra', 'Zambia', 'France', 'Egypt', 'Samoa', 'Djibouti', 'Anguilla', 'Italy', 'Mali', 'Belgium', 'Wallis and Futuna', 'Cambodia', 'Kuwait', 'Philippines', 'Mayotte', 'Mongolia', 'Ghana', 'Togo', 'Jordan', 'Rwanda', 'Trinidad and Tobago', 'Antigua and Barbuda', 'Bhutan', 'Macao', 'Chad', 'Estonia', 'Martinique', 'Denmark', 'Serbia', 'Argentina', 'Congo', 'Guernsey', \"Lao People's Democratic Republic\", 'Guinea-Bissau', 'Marshall Islands', 'Chad', 'Guadeloupe', 'Zimbabwe', 'Cayman Islands', 'Sao Tome and Principe', 'Peru', 'Norfolk Island', 'New Zealand', 'New Caledonia', 'Bulgaria', 'Kazakhstan', 'Dominica', 'Wallis and Futuna', 'Swaziland', 'Anguilla', 'Pitcairn Islands', 'Azerbaijan', 'Cocos (Keeling) Islands', 'Colombia', 'Gibraltar', 'Colombia', 'Ukraine', 'Mongolia', 'Georgia', 'Tokelau', 'Isle of Man', 'Argentina', 'Grenada', 'Chad', 'Taiwan', 'Northern Mariana Islands', 'Niue', 'British Indian Ocean Territory (Chagos Archipelago)', 'Vanuatu', 'Albania', 'Colombia', 'Canada', 'Estonia', 'Zimbabwe', 'Costa Rica', 'Wallis and Futuna', 'Wallis and Futuna', 'Czech Republic', 'Guadeloupe', 'Cameroon', 'Guadeloupe', 'Tajikistan', 'Jamaica', 'Kiribati', 'Romania', 'Solomon Islands', 'Zimbabwe', 'Mexico', 'Saint Lucia', 'United Arab Emirates', 'Poland', 'Lithuania', 'Egypt', 'Cameroon', 'Cameroon', 'Liberia', 'Mozambique', 'Paraguay', 'Kuwait', 'Lesotho', 'Chile', 'Pakistan', 'Mauritius', 'Tajikistan', 'Nauru', 'Nepal', 'Liechtenstein', 'Solomon Islands', 'Poland', 'Saint Lucia', 'Lebanon', 'Saint Pierre and Miquelon', 'British Virgin Islands', 'Montserrat', 'North Macedonia', 'Bermuda', 'Marshall Islands', 'Andorra', 'United Kingdom', 'Norfolk Island', 'Belgium', 'Poland', 'Chile', 'Bulgaria', 'Saint Kitts and Nevis', 'Estonia', 'Togo', 'Bouvet Island (Bouvetoya)', 'Bhutan', 'Bermuda', 'Trinidad and Tobago', 'Sao Tome and Principe', 'Greece', 'Taiwan', 'San Marino', 'Kiribati', 'Turkmenistan', 'Russian Federation', 'Marshall Islands', 'Australia', 'Lesotho', 'Colombia', 'Bahamas', 'Kenya', 'Ukraine', 'Wallis and Futuna', 'Palau', 'Saint Helena', 'Mexico', 'Korea', 'El Salvador', 'Vanuatu', 'Azerbaijan', 'Kuwait', 'Andorra', 'Guinea-Bissau', 'French Guiana', 'Madagascar', 'Vietnam', 'United States Virgin Islands', 'Fiji', 'Eritrea', 'El Salvador', 'Mayotte', 'Ethiopia', 'Gabon', 'Mexico', 'Chad', 'France', 'Georgia', 'Bosnia and Herzegovina', 'Dominica', 'Saint Vincent and the Grenadines', 'New Zealand', 'Tanzania', 'Bermuda', 'North Macedonia', 'Lesotho', 'Ecuador', 'United Kingdom', 'Denmark', 'Antigua and Barbuda', 'Faroe Islands', 'Lebanon', 'Jordan', 'Kiribati', 'Swaziland', 'Botswana', 'Moldova', 'Israel', 'Brazil', 'Gabon', 'Wallis and Futuna', 'Cayman Islands', 'Azerbaijan', 'Belgium', 'Mozambique', 'Guatemala', 'Trinidad and Tobago', 'Norway', 'Saint Vincent and the Grenadines', 'Greece', 'Turks and Caicos Islands', 'Luxembourg', 'Armenia', 'Jersey', 'Puerto Rico', 'Eritrea', 'China', 'Saint Vincent and the Grenadines', 'Tokelau', 'Thailand', \"Lao People's Democratic Republic\", 'Kyrgyz Republic', 'Afghanistan', 'Czech Republic', 'Albania', 'Senegal', 'Moldova', 'Somalia', 'Mayotte', 'Saudi Arabia', 'Qatar', 'Saudi Arabia', 'Pitcairn Islands', 'Saint Vincent and the Grenadines', 'Barbados', 'Christmas Island', 'Iceland', 'British Virgin Islands', 'Swaziland', 'Puerto Rico', 'Croatia', 'Italy', 'Bosnia and Herzegovina', 'Congo', 'Cambodia', 'Antigua and Barbuda', 'Serbia', 'Philippines', 'El Salvador', 'Netherlands Antilles', 'Mauritius', 'Greece', 'Portugal', 'Djibouti', 'Botswana', 'Denmark', 'Tokelau', 'Ethiopia', 'Bouvet Island (Bouvetoya)', 'Montserrat', 'Egypt', 'Micronesia', 'Gibraltar', 'Korea', 'Haiti', 'Vietnam', 'Lithuania', 'El Salvador', 'Sierra Leone', 'Montserrat', 'Czech Republic', 'Romania', 'Mauritius', 'Martinique', 'Saint Kitts and Nevis', 'Turks and Caicos Islands', 'Vietnam', 'Mauritania', 'Guernsey', 'Benin', 'Spain', 'Bermuda', 'Uganda', 'Czech Republic', 'Slovenia', 'Italy', 'Bosnia and Herzegovina', 'Kuwait', 'United States Virgin Islands', 'Malawi', 'Malaysia', 'British Virgin Islands', 'French Polynesia', 'Bhutan', 'Denmark', 'Isle of Man', 'Equatorial Guinea', 'Ghana', 'Portugal', 'Madagascar', 'Samoa', 'Sweden', 'Cyprus', 'Bahrain', 'Korea', 'Kazakhstan', 'Guyana', 'Algeria', 'Gambia', 'Lebanon', 'Gambia', 'Gibraltar', 'Trinidad and Tobago', 'Uganda', 'South Georgia and the South Sandwich Islands', 'Hong Kong', 'Northern Mariana Islands', 'Mexico', 'Falkland Islands (Malvinas)', 'Panama', 'Pakistan', 'Estonia', 'Bangladesh', 'Egypt', 'Benin', \"Lao People's Democratic Republic\", 'British Indian Ocean Territory (Chagos Archipelago)', 'Tanzania', 'Maldives', 'New Zealand', 'China', 'Turkmenistan', 'Bouvet Island (Bouvetoya)', 'Afghanistan', 'Moldova', 'Maldives', 'Argentina', 'Montserrat', 'Greece', 'Lithuania', 'Saudi Arabia', 'British Indian Ocean Territory (Chagos Archipelago)', 'Georgia', \"Cote d'Ivoire\", 'Reunion', 'Barbados', 'Norfolk Island', 'Tanzania', 'Solomon Islands', 'Korea', 'Falkland Islands (Malvinas)', 'Malta', \"Cote d'Ivoire\", 'Hungary', 'Korea', 'Hong Kong', 'Niger', 'Oman', 'Congo', 'Bahamas', 'Christmas Island', 'El Salvador', 'Italy', 'Haiti', 'Afghanistan', 'Malaysia', 'Kyrgyz Republic', 'New Caledonia', 'Faroe Islands', 'United States Minor Outlying Islands', 'Venezuela', 'Swaziland', 'Georgia', 'Morocco', 'Belize', 'New Zealand', 'Switzerland', 'Guam', 'Israel', 'New Caledonia', 'Wallis and Futuna', 'Bahrain', 'Senegal', 'Sweden', 'Moldova', 'Solomon Islands', 'Syrian Arab Republic', 'Saint Pierre and Miquelon', 'Mayotte', 'Bangladesh', 'Antarctica (the territory South of 60 deg S)', 'Cocos (Keeling) Islands', 'United States of America', 'Honduras', 'Marshall Islands', 'Timor-Leste', 'Yemen', 'Germany', 'Botswana', 'Cyprus', 'Iraq', \"Cote d'Ivoire\", 'Eritrea', 'Saint Kitts and Nevis', 'Venezuela', 'Vanuatu', 'British Virgin Islands', 'Uruguay', 'Kyrgyz Republic', 'Honduras', 'Iraq', 'Svalbard & Jan Mayen Islands', 'Iraq', 'Chile', 'Heard Island and McDonald Islands', 'Malawi', 'Nigeria', 'British Indian Ocean Territory (Chagos Archipelago)', 'Faroe Islands', 'Mongolia', 'South Africa', 'Rwanda', 'Equatorial Guinea', 'Libyan Arab Jamahiriya', 'Congo', 'Gambia', 'Anguilla', 'Denmark', 'Georgia', 'Comoros', 'Togo', 'Portugal', 'Turkey', 'Australia', 'Syrian Arab Republic', 'Korea', 'Ireland', 'Italy', 'United States of America', 'Montserrat', 'Gabon', 'Peru', 'Algeria', 'Somalia', 'Peru', 'Cayman Islands', 'South Georgia and the South Sandwich Islands', 'Vanuatu', 'Micronesia', 'Norway', 'Myanmar', 'Mozambique', 'Czech Republic', 'San Marino', 'Portugal', 'Honduras', 'Iran', 'Denmark', 'Nepal', 'Luxembourg', 'Saint Vincent and the Grenadines', 'Panama', 'Malta', 'Finland', 'Samoa', 'Morocco', 'Czech Republic', 'Guernsey', 'United States Minor Outlying Islands', 'Martinique', 'South Africa', 'Greenland', 'United States Minor Outlying Islands', 'British Indian Ocean Territory (Chagos Archipelago)', 'Yemen', 'Tokelau', 'Brazil', 'Belarus', 'Solomon Islands', 'Tanzania', 'Dominican Republic', 'Peru', 'Albania', 'Myanmar', 'Mayotte', 'Sao Tome and Principe', 'Malta', 'Ukraine', 'Swaziland', 'Turkey', 'South Georgia and the South Sandwich Islands', 'Costa Rica', 'Bhutan', 'Cayman Islands', 'South Africa', 'United Kingdom', 'Wallis and Futuna', 'Palau', 'Norfolk Island', \"Cote d'Ivoire\", 'Sweden', 'Maldives', 'Yemen', 'Belgium', 'Kuwait', 'Vietnam', 'Austria', 'Grenada', 'Finland', 'Portugal', 'British Virgin Islands', 'Svalbard & Jan Mayen Islands', 'Slovenia', 'Equatorial Guinea', 'Saint Kitts and Nevis', 'Spain', 'Latvia', 'Holy See (Vatican City State)', 'Indonesia', 'Albania', 'Switzerland', 'Spain', 'Solomon Islands', 'Japan', 'Philippines', 'Peru', 'South Africa', 'Tokelau', 'Oman', 'Jamaica', 'Tuvalu', 'Burundi', 'Brazil', 'Guyana', 'Netherlands', 'Mali', 'Qatar', 'Lithuania', 'Moldova', 'Cocos (Keeling) Islands', 'Suriname', 'Nepal', 'Romania', 'Turkey', 'Russian Federation', 'Norfolk Island', 'Swaziland', 'Argentina', 'Svalbard & Jan Mayen Islands', 'Moldova', 'United States Minor Outlying Islands', 'Nigeria', 'Albania', 'Togo', 'Romania', 'Singapore', 'Haiti', 'Montserrat', 'Djibouti', 'Albania', 'Israel', 'Tuvalu', 'Iceland', 'Saint Helena', 'Mozambique', 'Namibia', 'Bahamas', \"Lao People's Democratic Republic\", 'Singapore', 'Dominican Republic', 'Namibia', 'Albania', 'Holy See (Vatican City State)', 'Portugal', 'Bulgaria', 'Burundi', 'Saint Helena', 'United States Minor Outlying Islands', 'Marshall Islands', 'Saint Martin', 'Croatia', 'Holy See (Vatican City State)', 'Oman', 'Costa Rica', 'Mongolia', 'Turkmenistan', 'Guatemala', 'Monaco', 'Isle of Man', 'Chad', 'Equatorial Guinea', 'Tajikistan', 'Korea', 'Turkey', 'Pakistan', 'Kyrgyz Republic', 'Faroe Islands', 'Liberia', 'British Indian Ocean Territory (Chagos Archipelago)', 'American Samoa', 'Libyan Arab Jamahiriya', 'Bosnia and Herzegovina', 'Nigeria', 'Kuwait', 'Argentina', 'Niger', 'Turkmenistan', 'Martinique', 'Mauritius', 'Qatar', 'Chad', 'Monaco', 'Hong Kong', 'Serbia', 'Lebanon', 'Japan', 'Cocos (Keeling) Islands', 'Panama', 'Niger', 'Spain', 'Guinea', 'Guernsey', 'Thailand', 'Liechtenstein', 'Estonia', 'Cayman Islands', 'Brazil', 'Serbia', 'Pakistan', 'Liechtenstein', 'Sao Tome and Principe', 'Mongolia', 'Bouvet Island (Bouvetoya)', 'Germany', 'Barbados', 'Nigeria', 'Puerto Rico', 'Palestinian Territory', 'Maldives', 'Syrian Arab Republic', 'Ukraine', 'Reunion', 'Argentina', 'Korea', 'Zimbabwe', 'Norway', 'Marshall Islands', 'Saint Pierre and Miquelon', 'Slovakia (Slovak Republic)', 'Solomon Islands', 'Cuba', 'Belgium', 'Paraguay', 'Papua New Guinea', 'Netherlands Antilles', 'Germany', 'Cambodia', 'Belgium', 'Ethiopia', 'Svalbard & Jan Mayen Islands', 'Ethiopia', 'Taiwan', 'Montenegro', 'Sierra Leone', 'Tokelau', 'French Guiana', 'Mauritius', 'Oman', 'United Kingdom', 'Cameroon', 'Kuwait', 'Czech Republic', 'Malaysia', 'Greenland', 'Micronesia', 'Korea', 'Sudan', 'Mongolia', 'Turkey', 'Western Sahara', 'Bermuda', 'Colombia', 'Saint Barthelemy', 'Micronesia', 'Trinidad and Tobago', 'Solomon Islands', 'Western Sahara', 'United States Virgin Islands', 'United States of America', 'Saint Lucia', 'Fiji', 'Dominica', 'Honduras', 'Paraguay', 'Bangladesh', 'Anguilla', 'Vanuatu', 'Georgia', 'Malawi', 'Bouvet Island (Bouvetoya)', 'Saint Martin', 'Chad', 'Romania', 'Bulgaria', 'South Africa', 'Ukraine', 'Thailand', 'Greenland', 'Afghanistan', 'Poland', 'South Georgia and the South Sandwich Islands', 'Saint Barthelemy', 'Romania', 'Swaziland', 'Czech Republic', 'Tonga', 'Andorra', 'Yemen', 'Ecuador', 'Mozambique', 'Heard Island and McDonald Islands', 'Afghanistan', 'Israel', 'Cocos (Keeling) Islands', 'Papua New Guinea', 'Bhutan', 'Cocos (Keeling) Islands', 'Sierra Leone', 'Saint Kitts and Nevis', 'Mexico', 'Oman', 'Spain', 'Greece', 'Luxembourg', 'Cook Islands', 'Guam', 'Chile', 'Armenia', 'Argentina', 'Chad', 'Kazakhstan', 'Guatemala', 'Timor-Leste', 'New Zealand', 'Switzerland', 'Germany', 'Slovakia (Slovak Republic)', 'British Virgin Islands', 'Samoa', 'Congo', 'Holy See (Vatican City State)', 'Suriname', 'Western Sahara', 'Belarus', 'Tuvalu', 'Timor-Leste', 'Morocco', 'Saint Barthelemy', 'Antarctica (the territory South of 60 deg S)', 'Tanzania', 'Malaysia', 'Cook Islands', 'Kenya', 'Morocco', 'Nigeria', 'Saint Pierre and Miquelon', 'French Guiana', 'Saudi Arabia', 'Morocco', 'Guinea-Bissau', 'Sierra Leone', 'Nauru', 'Guyana', 'Isle of Man', 'French Polynesia', 'Switzerland', 'Bermuda', 'Croatia', 'United States Virgin Islands', 'Vietnam', 'Congo', 'Netherlands', 'Russian Federation', 'Guatemala', 'El Salvador', 'Malaysia', 'Comoros', 'Tanzania', 'Mali', 'Maldives', 'Finland', 'Algeria', 'Taiwan', 'Togo', 'Saint Martin', 'Belgium', 'Korea', 'Jordan', 'Liberia', 'Switzerland', 'Papua New Guinea', 'British Virgin Islands', 'Greenland', 'Malta', 'Sudan', 'Croatia', 'Russian Federation', 'Albania', 'Bolivia', 'South Georgia and the South Sandwich Islands', 'Norfolk Island', 'Cambodia', 'Reunion', 'Korea', 'Tanzania', 'Tonga', 'Slovakia (Slovak Republic)', 'Macao', 'Madagascar', 'Isle of Man', 'Belgium', 'Jordan', 'Portugal', 'Syrian Arab Republic', 'Croatia', 'Vanuatu', 'Vanuatu', 'Estonia', 'Guadeloupe', 'Nauru', 'Oman', 'Saint Pierre and Miquelon', 'Myanmar', 'Turkey', \"Cote d'Ivoire\", 'Bulgaria', 'Russian Federation', 'Russian Federation', 'Eritrea', 'Guatemala', \"Lao People's Democratic Republic\", 'Cayman Islands', 'Saudi Arabia', 'Christmas Island', 'Reunion', 'Ireland', 'Belarus', 'Monaco', \"Cote d'Ivoire\", 'Cook Islands', 'Zimbabwe', 'Papua New Guinea', 'Eritrea', 'Singapore', 'Micronesia', 'Algeria', 'Afghanistan', 'Chad', 'Turkey', 'Vietnam', 'Martinique', 'Serbia', 'Korea', 'Bulgaria', 'Pitcairn Islands', 'Pitcairn Islands', 'Paraguay', 'Chad', 'Algeria', 'Montserrat', 'Myanmar', 'Guinea-Bissau', 'Belgium', 'Somalia', 'Guadeloupe', 'French Guiana', 'Chad', 'Uzbekistan', 'Cayman Islands', 'San Marino', 'Syrian Arab Republic', 'Senegal', 'Tokelau', 'Cape Verde', 'Libyan Arab Jamahiriya', 'New Zealand', 'Lesotho', 'Costa Rica', 'Sweden', 'Cyprus', 'Belarus', 'Albania', 'Latvia', 'Saint Vincent and the Grenadines', 'British Indian Ocean Territory (Chagos Archipelago)', 'Palau', 'Portugal', 'Moldova', 'Angola', 'Palestinian Territory', 'Holy See (Vatican City State)', 'Canada', 'Namibia', 'Cape Verde', 'Uruguay', 'Mexico', 'Thailand', 'Latvia', 'Czech Republic', 'Niger', 'Bolivia', 'Austria', 'Tonga', 'Greece', 'Western Sahara', 'French Guiana', 'Solomon Islands', 'Isle of Man', 'El Salvador', 'French Guiana', 'Cayman Islands', 'Congo', 'Pitcairn Islands', 'Philippines', 'Congo', 'Slovakia (Slovak Republic)', 'New Caledonia', 'Nigeria', 'Togo', 'Myanmar', 'Ecuador', 'Iran', 'Netherlands Antilles', 'Tonga', 'United Arab Emirates', 'Pitcairn Islands', 'Paraguay', 'Bulgaria', 'United States Virgin Islands', 'Falkland Islands (Malvinas)', 'Uganda', 'Sri Lanka', 'Brunei Darussalam', 'Tanzania', 'Fiji', 'Ethiopia', 'Saint Pierre and Miquelon', 'Ukraine', 'Mozambique', 'Bouvet Island (Bouvetoya)', 'Costa Rica', 'Madagascar', 'Djibouti', 'Antarctica (the territory South of 60 deg S)', 'Bahamas', 'Comoros', 'Pakistan', 'Morocco', 'Togo', 'Peru', 'British Indian Ocean Territory (Chagos Archipelago)', 'Indonesia', 'Japan', 'Martinique', 'Namibia', 'Lesotho', 'Netherlands Antilles', 'British Indian Ocean Territory (Chagos Archipelago)', 'Solomon Islands', 'Sierra Leone', 'Dominica', 'Colombia', 'South Africa', 'Latvia', 'Comoros', 'Uruguay', 'Malaysia', 'Nicaragua', 'North Macedonia', 'Peru', 'Senegal', 'Malawi', 'Russian Federation', 'Montserrat', 'Tokelau', 'Saint Pierre and Miquelon', 'Finland', 'Falkland Islands (Malvinas)', 'Madagascar', 'Sweden', 'Saint Helena', 'Bahamas', 'Ukraine', 'Bahamas', 'Cocos (Keeling) Islands', 'Israel', 'Thailand', 'Faroe Islands', 'Andorra', 'Montserrat', 'Burkina Faso', 'Guinea-Bissau', 'Senegal', 'Solomon Islands', 'Sudan', 'Austria', 'Singapore', 'Guam', 'Palau', 'Italy', 'Congo', 'Iran', 'Maldives', 'Central African Republic', 'Burundi', 'Saint Lucia', 'Indonesia', 'Maldives', 'Bahamas', 'Armenia', 'Niue', 'Burkina Faso', 'Qatar', 'Suriname', 'Israel', 'China', 'Cocos (Keeling) Islands', 'New Caledonia', 'Andorra', 'Jordan', 'Guernsey', 'Netherlands Antilles', 'Suriname', 'United States Virgin Islands', 'Niue', 'Pitcairn Islands', 'Antigua and Barbuda', 'Nicaragua', 'Guadeloupe', 'Denmark', 'Mexico', 'Malaysia', 'Brazil', 'Northern Mariana Islands', 'Norfolk Island', 'Kazakhstan', 'Kenya', 'Colombia', 'Netherlands Antilles', 'Ethiopia', 'Monaco', 'Yemen', 'Malaysia', 'Georgia', 'Guernsey', 'Marshall Islands', 'Estonia', 'Bahamas', 'Senegal', 'Armenia', 'Guyana', 'Georgia', 'Antigua and Barbuda', 'Kyrgyz Republic', 'Belarus', 'France', 'Nicaragua', 'Ukraine', 'Kiribati', 'Belarus', 'Mali', 'Northern Mariana Islands', 'Lebanon', 'Djibouti', 'Bulgaria', 'Chad', 'Mongolia', 'Jersey', 'Thailand', 'Qatar', 'Ecuador', 'Saint Martin', 'Hong Kong', 'Gibraltar', 'Ethiopia', 'British Virgin Islands', 'Christmas Island', 'Mayotte', 'Paraguay', 'Montenegro', 'Burkina Faso', 'Canada', 'Sweden', 'Tunisia', 'Azerbaijan', 'Vanuatu', 'Malta', 'Greece', 'Romania', 'Uganda', 'Switzerland', 'Burundi', 'Samoa', 'Bahrain', 'Zambia', 'Uruguay', 'Niger', 'Botswana', 'Gambia', 'Hong Kong', 'Gambia', 'Namibia', 'Bahrain', 'Korea', 'Mozambique', \"Lao People's Democratic Republic\", 'Mozambique', 'Mexico', 'Austria', 'New Caledonia', 'French Southern Territories', 'Tunisia', 'Turkmenistan', 'Belize', 'Israel', 'Papua New Guinea', 'South Georgia and the South Sandwich Islands', 'Tunisia', 'Micronesia', 'Guinea', 'Madagascar', 'Taiwan', 'Yemen', 'Iran', 'Trinidad and Tobago', 'Comoros', 'Pitcairn Islands', 'Uganda', 'Isle of Man', 'Tajikistan', 'Qatar', 'United States Virgin Islands', 'Seychelles', 'Djibouti', 'Uganda', 'Kazakhstan', 'Uzbekistan', 'Montenegro', 'Swaziland', 'Costa Rica', 'Holy See (Vatican City State)', 'Angola', 'Belize', 'Jamaica', 'Andorra', 'Singapore', 'Guam', 'Netherlands Antilles', 'Georgia', 'Guadeloupe', 'Greenland', 'Philippines', 'Azerbaijan', 'Albania', 'Palau', 'Hong Kong', 'Turkmenistan', 'Bosnia and Herzegovina', 'Papua New Guinea', 'Niue', 'Singapore', 'Jamaica', 'Heard Island and McDonald Islands', \"Cote d'Ivoire\", 'Argentina', 'Guatemala', 'Tokelau', 'Luxembourg', 'Palestinian Territory', 'Sudan', 'Norway', 'Congo', 'Morocco', 'Tanzania', 'American Samoa', 'Taiwan', 'Palestinian Territory', 'Grenada', 'Spain', 'China', 'Saint Helena', 'Netherlands Antilles', 'Mali', 'Argentina', 'Western Sahara', 'Russian Federation', 'Belarus', 'Vanuatu', \"Lao People's Democratic Republic\", 'Brunei Darussalam', 'Liechtenstein', 'India', 'Iran', 'Somalia', 'Saudi Arabia', 'Antigua and Barbuda', 'Turkey', \"Cote d'Ivoire\", 'Tonga', 'Chile', 'Equatorial Guinea', 'Bouvet Island (Bouvetoya)', 'Sierra Leone', 'Micronesia', 'Chile', 'Ecuador', 'Tokelau', 'Ethiopia', 'Costa Rica', 'Turkey', 'Portugal', 'United Arab Emirates', 'Chile', 'Mauritania', 'Yemen', 'Switzerland', 'North Macedonia', 'Pakistan', 'Indonesia', 'Liberia', 'Jamaica', 'British Virgin Islands', 'Guernsey', 'Guam', 'Rwanda', 'Reunion', 'Jersey', 'Korea', 'Nepal', 'Germany', 'Bosnia and Herzegovina', 'Kuwait', 'Cocos (Keeling) Islands', 'Sri Lanka', 'Gambia', 'Wallis and Futuna', 'Congo', 'Anguilla', 'Togo', 'Israel', 'Jamaica', 'Taiwan', 'Falkland Islands (Malvinas)', 'Iceland', 'United Arab Emirates', 'Nigeria', 'Sweden', 'Guinea', 'Latvia', 'Maldives', 'Spain', 'Norway', 'Tonga', 'Mayotte', 'Tanzania', 'Costa Rica', 'Montenegro', 'Greece', 'Botswana', 'Lithuania', 'Angola', 'Cayman Islands', 'Kuwait', 'China', 'Georgia', 'Germany', 'Turkey', 'Honduras', 'New Zealand', 'Namibia', 'Western Sahara', 'Falkland Islands (Malvinas)', 'Grenada', 'Gibraltar', 'Burundi', 'Christmas Island', 'Guinea', 'Dominica', 'Korea', 'Maldives', 'Timor-Leste', 'Turks and Caicos Islands', 'Dominica', 'Iran', 'Korea', 'Northern Mariana Islands', 'Swaziland', 'Gabon', 'Romania', 'Angola', 'Honduras', 'United Arab Emirates', 'Bolivia', \"Cote d'Ivoire\", 'Cambodia', 'Chile', 'Cuba', 'Nicaragua', 'Ghana', 'Sri Lanka', 'South Africa', 'Turks and Caicos Islands', 'Nigeria', 'Ghana', 'Bermuda', 'Seychelles', 'Tonga', 'Uzbekistan', 'Serbia', 'Finland', 'Antigua and Barbuda', 'Botswana', 'Hong Kong', 'Korea', 'Gambia', 'Brunei Darussalam', 'Barbados', 'Argentina', 'Saint Vincent and the Grenadines', 'Angola', 'Mali', 'Lithuania', 'Nepal', 'Palestinian Territory', 'Cape Verde', 'Azerbaijan', 'Georgia', 'Mali', 'Eritrea', 'Morocco', 'Denmark', 'Moldova', 'Gambia', 'Russian Federation', 'Svalbard & Jan Mayen Islands', 'Namibia', 'Switzerland', 'Poland', 'Tokelau', 'Cameroon', 'South Africa', 'Turkey', 'Netherlands Antilles', 'Turkmenistan', 'Chile', 'Israel', 'Oman', 'Cook Islands', 'Finland', 'Israel', 'San Marino', 'Ghana', 'Congo', 'Spain', 'Samoa', 'Poland', 'Wallis and Futuna', 'Armenia', 'Mauritania', 'Slovenia', 'Guadeloupe', 'Belgium', 'Martinique', 'Bhutan', 'Hong Kong', 'Guadeloupe', 'Switzerland', 'Suriname', 'Cook Islands', 'Saint Lucia', 'Faroe Islands', 'Comoros', 'Cambodia', 'Cameroon', 'Djibouti', 'Solomon Islands', 'Micronesia', 'Pitcairn Islands', 'Wallis and Futuna', 'Greenland', 'Thailand', 'Belarus', 'Montenegro', 'Somalia', 'Holy See (Vatican City State)', 'Romania', 'Aruba', 'Russian Federation', 'Anguilla', 'Bosnia and Herzegovina', 'Norfolk Island', 'Guyana', 'Holy See (Vatican City State)', 'Burkina Faso', 'Western Sahara', 'Sierra Leone', 'Gambia', 'Chad', 'Anguilla', 'Monaco', 'Bulgaria', 'Kuwait', 'Turks and Caicos Islands', 'Taiwan', 'Norway', 'Nicaragua', 'Gabon', 'Turkmenistan', 'Singapore', 'Estonia', 'Bahamas', 'Indonesia', 'Guinea-Bissau', 'Bosnia and Herzegovina', 'Pakistan', 'Malawi', 'Bangladesh', 'Bhutan', 'United States Virgin Islands', 'Palestinian Territory', 'United Kingdom', 'Monaco', 'Kazakhstan', 'Zambia', 'Uganda', 'Qatar', 'Belize', 'Benin', 'Mozambique', 'Italy', 'New Caledonia', 'Azerbaijan', 'Mozambique', 'Faroe Islands', 'Portugal', 'Cyprus', 'Lebanon', 'Namibia', 'Sri Lanka', 'Brazil', 'Paraguay', 'Montenegro', 'Estonia', 'Chad', 'Kuwait', 'Moldova', 'Angola', 'Marshall Islands', 'Costa Rica', 'Saint Vincent and the Grenadines', 'Northern Mariana Islands', 'Saint Lucia', 'Netherlands', 'Gambia', 'New Zealand', 'Belarus', 'Namibia', 'Antigua and Barbuda', 'North Macedonia', 'Ireland', 'Oman', 'United Arab Emirates', 'Cuba', 'Iceland', 'Niue', 'Algeria', 'Maldives', 'Mauritius', 'Vanuatu', 'Papua New Guinea', 'Trinidad and Tobago', 'Cambodia', 'Sierra Leone', 'Cuba', 'Afghanistan', 'Ukraine', 'Argentina', 'Morocco', 'Barbados', 'Brunei Darussalam', 'Nigeria', 'Myanmar', 'Albania', 'Mauritius', 'Egypt', 'Tunisia', 'Saudi Arabia', 'Bouvet Island (Bouvetoya)', 'Sao Tome and Principe', 'Libyan Arab Jamahiriya', 'Turkey', 'Korea', 'Mali', 'Vietnam', 'Saint Martin', 'Syrian Arab Republic', 'Malta', \"Lao People's Democratic Republic\", 'Turks and Caicos Islands', 'Qatar', 'Equatorial Guinea', 'Uruguay', 'Hungary', 'Mongolia', 'United Kingdom', 'Australia', 'Grenada', \"Cote d'Ivoire\", 'Italy', 'Slovenia', 'Vanuatu', 'Ukraine', 'United States Minor Outlying Islands', 'Northern Mariana Islands', 'India', 'Suriname', 'Jamaica', 'Sierra Leone', 'Djibouti', 'France', 'Guatemala', 'Falkland Islands (Malvinas)', 'Luxembourg', 'Latvia', 'Northern Mariana Islands', 'Costa Rica', 'Tunisia', 'Marshall Islands', 'Malawi', 'Jamaica', 'France', 'Niger', 'Guadeloupe', 'Japan', 'Saudi Arabia', 'Nauru', 'Seychelles', 'Yemen', 'Seychelles', 'United States Minor Outlying Islands', 'Peru', 'Belarus', 'Chile', 'Guam', 'Iraq', 'Spain', 'Burkina Faso', 'Christmas Island', 'Croatia', 'Chad', 'Norfolk Island', 'Uzbekistan', 'Ethiopia', 'Uganda', 'Guadeloupe', 'Monaco', 'Holy See (Vatican City State)', 'Solomon Islands', 'Uzbekistan', 'Jordan', \"Lao People's Democratic Republic\", 'Mauritania', 'Mali', 'Morocco', 'Sri Lanka', 'Ireland', 'Argentina', 'Cyprus', 'Nauru', 'Colombia', 'Dominican Republic', 'Argentina', 'Bosnia and Herzegovina', 'Swaziland', 'American Samoa', 'Togo', 'Switzerland', 'Montenegro', 'Nepal', 'Panama', 'Yemen', 'Mayotte', 'Madagascar', 'Madagascar', 'Heard Island and McDonald Islands', 'Equatorial Guinea', 'Korea', 'Belize', 'Armenia', 'Serbia', 'Kyrgyz Republic', 'Georgia', 'Eritrea', 'Philippines', 'Tokelau', 'Grenada', 'Kyrgyz Republic', 'French Polynesia', 'Finland', 'Cocos (Keeling) Islands', 'Heard Island and McDonald Islands', 'Malta', 'Brunei Darussalam', 'French Southern Territories', 'Nigeria', 'Dominica', 'Poland', 'Madagascar', 'New Zealand', 'Guinea', 'Chad', 'Jamaica', 'Malawi', 'Aruba', 'Guam', 'Aruba', 'Oman', 'Monaco', 'Solomon Islands', 'Malaysia', 'Saudi Arabia', 'Grenada', 'Comoros', 'Norfolk Island', 'Marshall Islands', 'Saint Barthelemy', 'Heard Island and McDonald Islands', 'Netherlands', 'Croatia', 'Belize', 'Djibouti', 'Turks and Caicos Islands', 'Cuba', 'Gibraltar', 'Georgia', 'Cocos (Keeling) Islands', 'United States of America', 'Gabon', 'Faroe Islands', 'Marshall Islands', 'Egypt', 'Paraguay', 'Bulgaria', 'British Virgin Islands', 'Angola', 'Heard Island and McDonald Islands', 'Jamaica', 'Cayman Islands', 'Yemen', 'Cyprus', 'United Kingdom', 'Kuwait', 'Bhutan', 'Lithuania', 'Korea', 'Czech Republic', 'Madagascar', 'Japan', 'Myanmar', 'Ecuador', 'Angola', 'Hungary', 'Uruguay', 'Egypt', 'Congo', 'Australia', 'Peru', 'Greece', 'Egypt', 'Ethiopia', 'Brunei Darussalam', 'Guinea-Bissau', 'Aruba', 'Rwanda', 'Grenada', 'Cocos (Keeling) Islands', 'Montserrat', 'Guinea', 'Puerto Rico', 'Korea', 'Panama', 'Netherlands Antilles', 'Kiribati', 'South Africa', 'Germany', 'Korea', 'Saint Vincent and the Grenadines', 'Finland', 'Norfolk Island', 'Fiji', 'Burundi', 'Israel', \"Cote d'Ivoire\", 'Dominica', 'Liechtenstein', 'Gambia', 'Uganda', 'Guinea-Bissau', 'Rwanda', 'Bahrain', 'French Southern Territories', 'Ireland', 'Micronesia', 'Peru', 'Madagascar', 'Tunisia', 'French Polynesia', 'United Kingdom', 'Micronesia', 'Mozambique', 'Bahrain', 'Macao', 'Netherlands Antilles', 'Grenada', 'Bahrain', 'Kyrgyz Republic', 'French Guiana', 'Jamaica', 'Hong Kong', 'Netherlands', 'United States Virgin Islands', 'Congo', 'French Guiana', 'Sudan', 'Nigeria', 'El Salvador', 'Brunei Darussalam', 'Malaysia', 'Kuwait', 'Afghanistan', 'Saint Lucia', 'Turkey', 'Cameroon', 'Trinidad and Tobago', 'Niger', 'Cuba', 'Guam', 'Iceland', 'Finland', 'Korea', 'Bosnia and Herzegovina', 'Belarus', 'Mauritius', 'Niger', 'Montserrat', 'South Georgia and the South Sandwich Islands', 'Bangladesh', 'Malta', 'Japan', 'Belarus', 'Tokelau', 'Kazakhstan', 'Samoa', 'Saint Martin', 'Zambia', 'Gibraltar', 'Congo', 'British Indian Ocean Territory (Chagos Archipelago)', 'Peru', 'Tanzania', 'Suriname', 'Guam', 'Syrian Arab Republic', 'Saint Lucia', 'Germany', 'Niger', 'Holy See (Vatican City State)', 'Bangladesh', 'Greece', 'Austria', 'Chile', 'Netherlands', 'Palau', 'Mauritius', 'El Salvador', 'Honduras', 'Congo', 'Iran', 'British Virgin Islands', 'Eritrea', 'Iraq', 'India', 'Saint Pierre and Miquelon', 'Moldova', 'Kyrgyz Republic', 'Iran', 'Papua New Guinea', 'Bahamas', 'United Arab Emirates', 'Bahamas', 'Uzbekistan', 'Italy', 'Falkland Islands (Malvinas)', 'Paraguay', 'Barbados', 'Egypt', 'Serbia', 'Iran', 'Saint Kitts and Nevis', 'Montserrat', 'Belize', 'Holy See (Vatican City State)', 'Kiribati', 'Dominican Republic', 'Ghana', 'Iran', 'Namibia', 'China', 'Western Sahara', 'Iraq', 'Azerbaijan', 'Martinique', 'Italy', 'Madagascar', 'Niue', 'Iraq', 'Montserrat', 'French Guiana', 'Antarctica (the territory South of 60 deg S)', 'Bermuda', 'Central African Republic', 'Grenada', 'Ireland', 'Guernsey', 'Martinique', 'Angola', 'Armenia', 'United States of America', \"Cote d'Ivoire\", 'Timor-Leste', 'Papua New Guinea', 'Saudi Arabia', 'Ireland', 'Belgium', 'Suriname', 'Sierra Leone', 'Ecuador', 'Cyprus', 'Falkland Islands (Malvinas)', 'Faroe Islands', 'Puerto Rico', 'United States of America', 'Timor-Leste', 'Togo', 'Mauritania', 'Gabon', 'Germany', 'Italy', 'Poland', \"Cote d'Ivoire\", 'Tonga', 'Congo', 'Anguilla', 'Antigua and Barbuda', 'Cameroon', 'Bosnia and Herzegovina', 'Saint Vincent and the Grenadines', 'Lebanon', 'Gambia', 'Syrian Arab Republic', 'Korea', 'Cambodia', 'Antigua and Barbuda', 'Western Sahara', 'United States Virgin Islands', 'United States Minor Outlying Islands', 'Anguilla', 'Palestinian Territory', 'Solomon Islands', 'Mali', 'Azerbaijan', 'Albania', 'Saint Kitts and Nevis', 'Poland', 'Antigua and Barbuda', 'Albania', 'Ethiopia', 'Sierra Leone', 'Faroe Islands', 'Papua New Guinea', 'Indonesia', 'Kyrgyz Republic', 'Austria', 'Congo', 'Reunion', 'North Macedonia', 'Montenegro', 'Azerbaijan', 'Spain', 'South Africa', 'Panama', 'Guatemala', 'Nepal', 'Christmas Island', 'Kiribati', 'Montserrat', 'Guam', 'Mozambique', 'Bulgaria', 'Jordan', 'Brazil', 'Slovakia (Slovak Republic)', 'Gibraltar', 'Japan', 'Saint Lucia', 'New Caledonia', 'Puerto Rico', 'China', 'Turkey', 'Libyan Arab Jamahiriya', 'Brunei Darussalam', 'Niue', 'New Zealand', 'Montserrat', 'Christmas Island', 'Ireland', 'Denmark', 'Mauritania', 'Mauritania', 'Serbia', 'Wallis and Futuna', 'Puerto Rico', 'Cambodia', 'Norway', 'Estonia', 'Norfolk Island', 'Taiwan', 'China', 'Guinea', 'Cocos (Keeling) Islands', 'Taiwan', 'Zimbabwe', 'French Southern Territories', 'Tajikistan', 'Saint Kitts and Nevis', 'Finland', 'Andorra', 'Samoa', 'Serbia', 'Guatemala', 'Belarus', 'Trinidad and Tobago', 'Sweden', 'Swaziland', 'Korea', 'United Arab Emirates', 'Mayotte', 'Romania', 'Lithuania', 'Togo', 'Paraguay', 'Mongolia', 'Spain', 'Morocco', 'Montserrat', 'Swaziland', 'Jamaica', 'Togo', 'Saint Kitts and Nevis', 'Saint Pierre and Miquelon', 'United States Minor Outlying Islands', 'Spain', 'Hungary', 'Switzerland', 'Bolivia', 'Aruba', 'Cyprus', 'Peru', 'Spain', 'Sierra Leone', 'Albania', 'Western Sahara', 'Bahrain', 'Maldives', 'Monaco', 'Australia', 'Tonga', 'India', 'Bahamas', 'Malawi', 'Saudi Arabia', 'Sri Lanka', 'Peru', 'Kazakhstan', 'Papua New Guinea', 'Djibouti', 'Botswana', 'Bermuda', 'Tuvalu', 'France', 'Kiribati', 'Svalbard & Jan Mayen Islands', 'Finland', 'British Virgin Islands', 'British Indian Ocean Territory (Chagos Archipelago)', 'Bouvet Island (Bouvetoya)', 'Luxembourg', 'Angola', 'Costa Rica', 'Namibia', 'Rwanda', 'Cameroon', 'Zimbabwe', 'Lebanon', 'Swaziland', 'Malawi', 'Guyana', 'Sao Tome and Principe', 'Saint Lucia', 'Saint Martin', 'North Macedonia', 'Morocco', 'Bosnia and Herzegovina', 'Angola', 'Oman', 'Saint Vincent and the Grenadines', 'Burundi', 'Madagascar', 'Heard Island and McDonald Islands', 'Eritrea', 'Maldives', 'Moldova', 'Heard Island and McDonald Islands', 'Portugal', 'Benin', 'Jordan', 'Grenada', 'Guinea-Bissau', 'Kenya', 'Mexico', \"Cote d'Ivoire\", 'Lesotho', 'Holy See (Vatican City State)', 'Saint Helena', 'Spain', 'American Samoa', 'Sao Tome and Principe', 'Bermuda', 'Suriname', 'Equatorial Guinea', 'Cambodia', 'Rwanda', 'Gabon', 'Latvia', 'Isle of Man', 'Oman', 'Sudan', 'Botswana', 'France', 'British Indian Ocean Territory (Chagos Archipelago)', 'Cayman Islands', 'Equatorial Guinea', 'Somalia', 'Bermuda', 'Vietnam', 'Gambia', 'Western Sahara', 'Dominican Republic', 'Luxembourg', 'Myanmar', 'Rwanda', 'Bermuda', 'Palau', 'Qatar', 'Portugal', 'Macao', 'Singapore', 'Norway', 'Singapore', 'India', 'Faroe Islands', 'Turkey', 'Estonia', 'Guam', 'Barbados', 'Montenegro', \"Cote d'Ivoire\", 'Cape Verde', 'Namibia', 'Germany', 'Latvia', 'Iran', 'Albania', 'Haiti', 'Armenia', 'Mexico', 'Tokelau', 'China', 'Falkland Islands (Malvinas)', 'Czech Republic', 'Bangladesh', 'Dominican Republic', 'Mauritius', 'Bosnia and Herzegovina', 'Russian Federation', 'Azerbaijan', 'Indonesia', 'Bermuda', 'Uruguay', 'Sudan', 'Benin', 'South Africa', 'Congo', 'Northern Mariana Islands', 'Uzbekistan', 'Brunei Darussalam', 'Guernsey', 'Saint Kitts and Nevis', 'Marshall Islands', 'Ukraine', 'France', 'Guatemala', 'Thailand', \"Cote d'Ivoire\", \"Cote d'Ivoire\", 'Kyrgyz Republic', 'Lebanon', 'Chad', 'South Georgia and the South Sandwich Islands', 'Cyprus', 'Iran', 'Niue', 'Indonesia', 'Hong Kong', 'France', 'Gabon', \"Cote d'Ivoire\", 'Korea', 'Jamaica', 'Myanmar', 'Zimbabwe', 'Northern Mariana Islands', 'Malta', 'Bangladesh', 'Mauritania', 'Kuwait', 'Denmark', 'Tokelau', 'Cocos (Keeling) Islands', 'Qatar', 'Argentina', 'Palau', 'Zambia', 'India', 'South Africa', 'Denmark', 'Guam', 'Sao Tome and Principe', 'Saint Lucia', 'Niue', 'Uruguay', 'Algeria', 'Croatia', 'Indonesia', 'Singapore', 'Mali', 'Svalbard & Jan Mayen Islands', 'Costa Rica', 'Moldova', 'Lebanon', 'Eritrea', 'Bosnia and Herzegovina', 'United Kingdom', 'Bulgaria', 'Nepal', 'Liechtenstein', 'Djibouti', 'Nepal', 'Micronesia', 'South Georgia and the South Sandwich Islands', 'Kyrgyz Republic', 'Nigeria', 'Bosnia and Herzegovina', 'Ireland', 'Sierra Leone', 'Montenegro', 'Somalia', 'Martinique', 'United Arab Emirates', 'Mongolia', 'Grenada', 'Nicaragua', 'Afghanistan', 'Mozambique', 'Nigeria', 'Burundi', 'Mozambique', 'Hungary', 'Antigua and Barbuda', 'Cocos (Keeling) Islands', 'Thailand', 'Antarctica (the territory South of 60 deg S)', 'Liechtenstein', 'Svalbard & Jan Mayen Islands', 'Namibia', 'Belgium', 'Central African Republic', 'Swaziland', 'Brunei Darussalam', 'Congo', 'Bangladesh', 'Wallis and Futuna', 'Brunei Darussalam', 'Botswana', 'Suriname', 'Madagascar', 'Eritrea', 'Bhutan', 'Russian Federation', 'Guam', 'Dominican Republic', 'Saint Helena', 'Lesotho', 'Ghana', 'Hungary', 'United States of America', 'Saint Barthelemy', 'Marshall Islands', 'Zambia', 'Saint Barthelemy', 'Wallis and Futuna', 'Syrian Arab Republic', 'Faroe Islands', 'Russian Federation', 'Rwanda', 'Albania', 'British Virgin Islands', 'Northern Mariana Islands', 'Faroe Islands', 'Denmark', 'Kuwait', 'Mauritius', 'Bosnia and Herzegovina', 'Ukraine', 'Latvia', \"Lao People's Democratic Republic\", 'Madagascar', 'Australia', 'Colombia', 'Cocos (Keeling) Islands', 'Central African Republic', 'Korea', 'Cuba', 'Cape Verde', 'Comoros', 'Mauritius', 'Estonia', 'Comoros', 'Tuvalu', 'New Zealand', 'Gambia', 'French Southern Territories', 'Montenegro', 'Oman', 'Bahamas', 'United States Minor Outlying Islands', 'Guatemala', 'Christmas Island', 'Pakistan', 'United Arab Emirates', 'Tonga', 'Ethiopia', 'Nepal', 'Ghana', 'Lebanon', 'Malaysia', 'Samoa', 'Fiji', 'Reunion', 'Anguilla', 'Australia', 'Eritrea', 'Anguilla', 'Isle of Man', 'Montenegro', 'Antigua and Barbuda', 'Reunion', 'Austria', 'Zimbabwe', 'Tuvalu', 'Timor-Leste', 'Turks and Caicos Islands', 'North Macedonia', 'Tanzania', 'Singapore', 'Russian Federation', 'Saint Pierre and Miquelon', 'Saint Vincent and the Grenadines', 'Kiribati', 'Guernsey', 'Honduras', 'Ukraine', \"Cote d'Ivoire\", 'Chad', 'Micronesia', 'Monaco', 'Anguilla', 'Heard Island and McDonald Islands', 'Venezuela', 'China', 'Chad', 'Venezuela', 'Honduras', 'Ecuador', 'Fiji', 'Dominican Republic', 'Dominica', 'Timor-Leste', 'Comoros', 'American Samoa', 'Haiti', 'Andorra', 'Saint Kitts and Nevis', 'Gabon', 'French Polynesia', 'Lithuania', 'Cocos (Keeling) Islands', \"Lao People's Democratic Republic\", 'Belarus', \"Cote d'Ivoire\", 'Faroe Islands', 'Micronesia', 'Gambia', 'Turkmenistan', 'Libyan Arab Jamahiriya', 'Sudan', 'Kiribati', 'Mayotte', 'Iran', 'Burundi', 'Tanzania', 'Congo', 'Burkina Faso', 'Kuwait', 'Latvia', 'Libyan Arab Jamahiriya', 'Micronesia', 'Hungary', 'United States Minor Outlying Islands', 'Saint Barthelemy', 'British Virgin Islands', 'British Virgin Islands', 'Isle of Man', 'Colombia', 'Cook Islands', 'Kuwait', 'Thailand', 'Luxembourg', 'Congo', 'North Macedonia', 'Micronesia', 'Jersey', 'Switzerland', 'Bangladesh', 'Brunei Darussalam', 'British Indian Ocean Territory (Chagos Archipelago)', \"Lao People's Democratic Republic\", 'Uzbekistan', 'Afghanistan', 'Romania', 'Serbia', 'Gabon', 'Gibraltar', 'Hungary', 'Dominica', 'Bangladesh', 'New Caledonia', 'Marshall Islands', 'Eritrea', 'Libyan Arab Jamahiriya', 'Japan', 'Serbia', 'Hong Kong', 'Jordan', 'Malaysia', 'Togo', 'Cambodia', 'Japan', 'Ireland', 'Poland', 'Eritrea', 'Grenada', 'Cayman Islands', 'Bulgaria', 'Armenia', 'Oman', 'Nepal', 'Argentina', 'Northern Mariana Islands', 'Saint Martin', 'Palestinian Territory', 'Guadeloupe', 'Serbia', 'Hungary', 'India', 'Myanmar', 'Iraq', 'Singapore', 'Myanmar', 'Brunei Darussalam', 'Bhutan', 'Singapore', 'Iran', 'Vietnam', 'Sweden', 'Cuba', 'Niger', 'Belgium', 'Guinea-Bissau', 'Korea', 'Norfolk Island', 'Senegal', 'Japan', 'Netherlands Antilles', 'El Salvador', 'Singapore', 'Sudan', 'Dominican Republic', 'Kuwait', 'French Southern Territories', \"Lao People's Democratic Republic\", 'Nepal', 'Saint Helena', 'Montserrat', 'Jordan', 'El Salvador', 'El Salvador', 'Christmas Island', 'Uruguay', 'Nigeria', 'Turkey', 'Papua New Guinea', 'Anguilla', 'North Macedonia', 'Christmas Island', 'Wallis and Futuna', 'Uganda', 'Maldives', 'Albania', 'Malawi', 'Bahamas', 'Heard Island and McDonald Islands', 'Vietnam', 'Grenada', 'Syrian Arab Republic', 'Antarctica (the territory South of 60 deg S)', 'Bulgaria', 'Saint Martin', 'Guinea', 'Ethiopia', 'Iraq', 'Barbados', 'Libyan Arab Jamahiriya', 'Cameroon', 'French Polynesia', 'Azerbaijan', 'Kazakhstan', 'Niger', 'Fiji', 'Palestinian Territory', 'Russian Federation', 'New Zealand', 'Italy', 'Iran', 'United States Minor Outlying Islands', 'Sweden', 'Paraguay', 'Finland', 'Yemen', 'Fiji', 'Belize', 'Bolivia', 'El Salvador', 'United States Virgin Islands', 'United Arab Emirates', 'Somalia', 'Pitcairn Islands', 'Suriname', 'Gabon', 'Philippines', 'Guinea-Bissau', 'Nepal', 'Malaysia', 'Canada', 'Taiwan', 'United States Minor Outlying Islands', 'Cyprus', 'Haiti', 'Portugal', 'Ecuador', 'Bahrain', 'Papua New Guinea', 'Morocco', 'Estonia', 'Niger', 'Yemen', 'Aruba', 'Congo', 'Pitcairn Islands', 'Netherlands Antilles', 'Russian Federation', 'El Salvador', 'Morocco', 'Guinea-Bissau', 'Switzerland', 'Faroe Islands', 'United States Virgin Islands', 'Anguilla', 'Norfolk Island', 'Cyprus', 'Jordan', 'British Virgin Islands', 'Cuba', 'Korea', 'Sri Lanka', 'Mongolia', \"Cote d'Ivoire\", \"Lao People's Democratic Republic\", 'Myanmar', 'Afghanistan', 'Ukraine', 'Lesotho', 'Cameroon', 'South Africa', 'Botswana', 'Slovakia (Slovak Republic)', 'Liberia', 'Ireland', 'Hong Kong', 'Liberia', 'Jamaica', 'Oman', 'Korea', 'Panama', 'Egypt', 'Saudi Arabia', 'Tunisia', 'Yemen', 'Cambodia', 'Botswana', 'Bulgaria', 'Albania', 'Russian Federation', 'Estonia', 'Saint Pierre and Miquelon', 'Mali', 'Nicaragua', 'Hungary', 'Jordan', 'Namibia', 'Kiribati', 'Samoa', 'Australia', 'Maldives', 'Honduras', 'United States Minor Outlying Islands', 'Chile', 'Pitcairn Islands', 'Nauru', 'Bahamas', 'Italy', 'San Marino', \"Cote d'Ivoire\", 'Romania', 'Palau', 'Fiji', 'Bhutan', 'Benin', 'Sao Tome and Principe', 'Panama', 'Bulgaria', 'Hungary', 'Cyprus', 'Macao', 'Equatorial Guinea', 'Slovenia', 'Bermuda', 'Svalbard & Jan Mayen Islands', 'Antigua and Barbuda', 'Korea', 'Indonesia', 'Djibouti', 'Trinidad and Tobago', 'Estonia', 'Falkland Islands (Malvinas)', 'Trinidad and Tobago', 'Nauru', 'Trinidad and Tobago', 'Palestinian Territory', 'Monaco', 'Kiribati', 'Barbados', 'Georgia', 'Ethiopia', 'Netherlands Antilles', 'Bahrain', 'Lithuania', 'Palestinian Territory', 'Croatia', 'Tajikistan', 'Ukraine', 'Liberia', 'Niger', 'Tanzania', 'Taiwan', 'Guernsey', 'Rwanda', 'Norway', 'Timor-Leste', 'Antigua and Barbuda', 'India', 'San Marino', 'Chile', 'Niue', 'Eritrea', 'Portugal', 'Zambia', 'Belarus', 'Mali', 'Netherlands Antilles', 'Tunisia', 'Northern Mariana Islands', 'Ukraine', 'Guatemala', 'Eritrea', 'Ecuador', 'Italy', 'Oman', 'Saint Barthelemy', 'Nauru', 'Taiwan', 'Northern Mariana Islands', 'Benin', 'Somalia', 'Antigua and Barbuda', 'Morocco', 'Belgium', 'Mozambique', 'Palestinian Territory', 'Paraguay', 'Faroe Islands', 'Tanzania', 'Mauritius', 'Sweden', 'Martinique', 'Iran', 'Iran', 'Georgia', 'American Samoa', 'Western Sahara', 'Belarus', 'Montenegro', 'Saint Kitts and Nevis', 'Belgium', 'Guadeloupe', 'Brazil', 'Panama', 'Vanuatu', 'American Samoa', 'Dominican Republic', 'Montenegro', 'Montenegro', 'Nigeria', 'Moldova', 'Svalbard & Jan Mayen Islands', 'Grenada', 'Tanzania', 'Thailand', 'Guernsey', 'Honduras', 'Trinidad and Tobago', 'Moldova', 'Austria', 'Netherlands Antilles', 'Armenia', 'Moldova', 'French Guiana', 'Australia', 'Botswana', 'Libyan Arab Jamahiriya', 'Ireland', 'Mali', 'Brunei Darussalam', 'Palestinian Territory', 'Czech Republic', 'China', 'Guinea', 'Australia', 'Falkland Islands (Malvinas)', 'Zimbabwe', 'Venezuela', 'Monaco', 'Netherlands', 'Saint Vincent and the Grenadines', 'Brazil', 'Georgia', 'Saint Martin', 'Singapore', 'Canada', 'Lebanon', 'Comoros', 'Mauritius', 'Bahamas', 'Estonia', 'Ghana', 'Egypt', 'Cuba', 'Romania', 'Angola', 'Tanzania', 'British Indian Ocean Territory (Chagos Archipelago)', 'Saint Pierre and Miquelon', 'Myanmar', \"Cote d'Ivoire\", 'Portugal', 'Pitcairn Islands', 'Niger', 'South Africa', 'Australia', 'Egypt', 'Congo', 'Gibraltar', 'Korea', 'North Macedonia', 'Jersey', 'Tuvalu', 'Taiwan', 'Bangladesh', 'Ghana', 'Peru', 'Zimbabwe', 'Finland', 'Qatar', 'Sri Lanka', 'Martinique', 'Falkland Islands (Malvinas)', 'United States of America', 'Heard Island and McDonald Islands', 'Sweden', 'Turkey', 'Sao Tome and Principe', 'Turkmenistan', 'Singapore', 'Latvia', 'Mexico', 'Bolivia', 'Montenegro', 'Mauritania', 'Uruguay', 'Ireland', 'Marshall Islands', 'Barbados', 'Lebanon', 'Lesotho', 'Poland', 'Burundi', 'Montenegro', 'Saint Vincent and the Grenadines', 'Guatemala', 'Turkey', 'Libyan Arab Jamahiriya', 'Ecuador', 'Puerto Rico', 'Mauritania', 'Suriname', 'Saint Lucia', 'Saint Lucia', 'Malaysia', \"Lao People's Democratic Republic\", 'Bhutan', 'Cuba', 'Haiti', 'Namibia', 'Timor-Leste', 'Argentina', 'Bosnia and Herzegovina', 'Dominica', 'Bolivia', 'Austria', 'Gabon', 'Anguilla', 'Saint Barthelemy', 'Lebanon', 'San Marino', 'Italy', 'Taiwan', 'Singapore', 'Christmas Island', 'Guyana', 'Gambia', 'Puerto Rico', 'United States Minor Outlying Islands', 'Haiti', 'Gabon', 'Christmas Island', 'Tokelau', 'Cyprus', 'Peru', 'Israel', 'Bosnia and Herzegovina', 'Egypt', 'Congo', 'Slovenia', 'Saint Kitts and Nevis', 'Bahamas', 'Papua New Guinea', 'Guam', 'Pakistan', 'Bangladesh', 'Croatia', 'Luxembourg', 'Saint Pierre and Miquelon', 'Jamaica', 'Ukraine', 'San Marino', 'Falkland Islands (Malvinas)', 'Aruba', 'Finland', 'Argentina', 'Liberia', 'Wallis and Futuna', 'Turks and Caicos Islands', 'Maldives', 'Niue', 'Botswana', 'United Kingdom', 'Argentina', 'Cook Islands', 'Egypt', 'Solomon Islands', 'Niger', 'Belize', 'Cook Islands', \"Cote d'Ivoire\", 'Belarus', 'Pakistan', 'Japan', 'Montserrat', 'Bhutan', 'Ukraine', 'Sudan', 'Bahamas', 'Guam', 'Lebanon', 'Ethiopia', 'Venezuela', 'Nigeria', 'Sierra Leone', 'Liechtenstein', 'Turkey', 'Bangladesh', 'Syrian Arab Republic', 'Sudan', 'Belarus', 'Swaziland', 'Tuvalu', 'Guyana', 'Trinidad and Tobago', 'Saint Pierre and Miquelon', 'Timor-Leste', 'Saint Pierre and Miquelon', 'Israel', 'Netherlands', 'Bhutan', 'Brazil', 'Saint Martin', 'Paraguay', 'Australia', 'Luxembourg', 'Cape Verde', 'Belarus', 'New Zealand', 'Nicaragua', 'Tuvalu', 'Afghanistan', 'Maldives', 'Norfolk Island', 'Guam', 'Oman', 'Niger', 'Svalbard & Jan Mayen Islands', 'Togo', 'Ecuador', 'Sudan', 'Niue', 'Austria', 'Russian Federation', 'Finland', 'Malaysia', 'Israel', 'Kenya', 'Trinidad and Tobago', 'Ecuador', 'Brunei Darussalam', 'Mauritania', 'Isle of Man', 'Central African Republic', 'Mozambique', 'Netherlands Antilles', 'Mali', 'Taiwan', 'Argentina', 'Germany', 'Yemen', 'Russian Federation', 'Guinea', 'Venezuela', 'Suriname', 'Tajikistan', 'Falkland Islands (Malvinas)', 'Kyrgyz Republic', 'South Georgia and the South Sandwich Islands', 'Nigeria', 'South Africa', 'Mali', 'Saint Pierre and Miquelon', 'Azerbaijan', 'Denmark', 'Kenya', 'Christmas Island', 'Gambia', 'Gibraltar', 'Maldives', 'Estonia', 'Angola', 'Somalia', 'Ethiopia', 'Colombia', 'Antarctica (the territory South of 60 deg S)', 'Congo', 'Ethiopia', 'Norfolk Island', 'Dominican Republic', 'Honduras', 'United Kingdom', 'Congo', 'Slovenia', 'Pakistan', 'Burkina Faso', 'France', 'Italy', 'Spain', 'Mexico', 'Moldova', 'Nigeria', 'Guadeloupe', 'Bhutan', 'Svalbard & Jan Mayen Islands', 'Rwanda', 'Palau', 'Serbia', \"Lao People's Democratic Republic\", 'Montenegro', 'Palau', 'Korea', 'Equatorial Guinea', 'Mozambique', 'Liechtenstein', 'Bolivia', 'Svalbard & Jan Mayen Islands', 'Guadeloupe', 'Central African Republic', 'Saudi Arabia', 'Benin', 'Namibia', 'French Southern Territories', 'Egypt', 'Saudi Arabia', 'New Zealand', 'Turkey', 'Taiwan', 'Sao Tome and Principe', 'Aruba', 'Cuba', 'Paraguay', 'Bahamas', 'France', 'El Salvador', 'Maldives', 'Romania', 'Namibia', 'Martinique', 'Sudan', 'Ukraine', 'Israel', 'Andorra', 'Belarus', 'British Indian Ocean Territory (Chagos Archipelago)', 'Greenland', 'Guinea', 'China', 'Macao', 'Cambodia', 'Hungary', 'Greenland', 'Swaziland', 'Japan', 'Solomon Islands', 'Puerto Rico', 'Netherlands Antilles', 'Marshall Islands', 'Burkina Faso', 'Macao', 'Namibia', 'Saint Lucia', 'Panama', 'Macao', 'Marshall Islands', 'Rwanda', 'Cuba', 'Mali', 'Vietnam', 'Togo', 'Netherlands', 'Samoa', 'Zambia', 'Argentina', 'Benin', 'British Virgin Islands', 'Switzerland', 'Bouvet Island (Bouvetoya)', 'Saint Kitts and Nevis', 'South Africa', 'Central African Republic', 'Malta', 'Andorra', 'Ghana', 'Venezuela', 'Botswana', 'Puerto Rico', 'Nauru', 'Burundi', 'Anguilla', 'North Macedonia', 'Gabon', 'Canada', 'Peru', 'Saint Lucia', 'South Africa', 'Antigua and Barbuda', 'Bosnia and Herzegovina', 'Cambodia', 'Estonia', 'Liechtenstein', 'Mali', 'Croatia', 'Gambia', 'Montenegro', 'Palestinian Territory', 'Latvia', 'Saint Pierre and Miquelon', 'Taiwan', 'Samoa', 'Suriname', 'Mali', 'North Macedonia', 'Morocco', 'Panama', 'Panama', 'Costa Rica', 'Saint Martin', 'Trinidad and Tobago', 'Uruguay', 'United Kingdom', 'Malta', 'Guinea', 'Lesotho', 'Algeria', 'Grenada', 'Seychelles', 'Malaysia', 'Costa Rica', 'Uganda', 'Mozambique', 'Japan', 'Holy See (Vatican City State)', 'Bolivia', 'Thailand', 'Ethiopia', 'Saint Vincent and the Grenadines', 'Paraguay', 'Bahrain', 'Monaco', 'Czech Republic', 'Western Sahara', 'Turkmenistan', 'Jamaica', 'El Salvador', 'Belarus', 'Saint Barthelemy', 'Uruguay', 'Ukraine', 'British Indian Ocean Territory (Chagos Archipelago)', 'Nepal', 'Italy', 'Lithuania', 'Algeria', 'Cuba', 'Lebanon', 'Northern Mariana Islands', 'Papua New Guinea', 'Nepal', 'Namibia', 'Cocos (Keeling) Islands', 'Niger', 'Bouvet Island (Bouvetoya)', 'Vietnam', 'Jersey', 'Palestinian Territory', 'Afghanistan', 'Australia', 'Iran', 'Martinique', 'Brazil', 'Iraq', 'Cook Islands', 'Estonia', 'Comoros', 'Madagascar', 'Germany', 'Congo', 'Myanmar', 'Israel', 'Marshall Islands', 'United Arab Emirates', 'Liberia', 'Cook Islands', 'Christmas Island', 'Tuvalu', 'Faroe Islands', 'San Marino', 'China', 'Timor-Leste', 'Korea', 'Saint Lucia', 'Lithuania', 'Canada', 'Japan', 'Syrian Arab Republic', 'Thailand', 'Netherlands', 'Mali', 'Montenegro', 'Germany', 'Guinea-Bissau', 'Qatar', 'Saint Martin', 'Saint Barthelemy', 'Bhutan', 'Saint Martin', 'Congo', 'Kiribati', 'Mongolia', 'Svalbard & Jan Mayen Islands', 'Turks and Caicos Islands', 'Haiti', 'Cyprus', 'Wallis and Futuna', 'Poland', 'Taiwan', 'Paraguay', 'Belize', 'Bhutan', 'Moldova', 'Marshall Islands', 'Solomon Islands', 'United States of America', 'South Africa', 'Central African Republic', 'Costa Rica', 'Belarus', 'Congo', 'Paraguay', 'Armenia', 'Georgia', 'Mozambique', 'American Samoa', 'Norfolk Island', 'Vietnam', 'Mayotte', 'Serbia', 'Togo', 'Romania', 'North Macedonia', 'Sudan', 'Jersey', 'Belize', 'Cayman Islands', 'Argentina', 'Christmas Island', 'Guam', 'Saint Lucia', 'Korea', 'Dominican Republic', 'Singapore', 'Iceland', 'Jamaica', 'Canada', 'San Marino', 'Heard Island and McDonald Islands', 'Guatemala', 'French Guiana', 'Jersey', 'Greece', 'Grenada', 'Rwanda', 'Greece', 'Honduras', 'Myanmar', 'Turkmenistan', 'Morocco', 'Pitcairn Islands', 'Kiribati', 'Equatorial Guinea', 'Norfolk Island', 'Iraq', 'Bosnia and Herzegovina', 'Brazil', 'Eritrea', 'Egypt', 'South Georgia and the South Sandwich Islands', 'Kenya', 'Wallis and Futuna', 'Holy See (Vatican City State)', 'Bangladesh', 'Chile', 'Zimbabwe', 'North Macedonia', 'Brunei Darussalam', 'Sweden', 'Trinidad and Tobago', 'Bahamas', 'Montserrat', 'Pitcairn Islands', 'Swaziland', 'Hungary', 'Zimbabwe', 'Benin', 'Maldives', 'Thailand', 'Guinea', 'Cameroon', 'Lithuania', 'Guinea', 'Albania', 'Cook Islands', 'Jersey', 'Korea', 'Heard Island and McDonald Islands', 'Chile', 'Suriname', 'Bangladesh', 'North Macedonia', 'Puerto Rico', 'Wallis and Futuna', 'China', 'Belarus', 'Gibraltar', 'Chad', 'Seychelles', 'Niue', 'Anguilla', 'Tuvalu', 'Madagascar', 'Macao', 'Panama', 'Saint Kitts and Nevis', 'Syrian Arab Republic', 'Saint Barthelemy', 'Poland', 'United States of America', 'Russian Federation', 'Venezuela', 'Saint Vincent and the Grenadines', 'Tunisia', 'Tuvalu', 'Christmas Island', 'Madagascar', 'Micronesia', 'Barbados', 'Central African Republic', 'Jordan', 'Canada', 'Armenia', 'New Caledonia', 'China', 'United States Virgin Islands', 'Thailand', 'Bahamas', 'Netherlands Antilles', 'Congo', 'El Salvador', 'Indonesia', 'Iran', 'Saint Helena', 'Jordan', 'Syrian Arab Republic', 'Bouvet Island (Bouvetoya)', 'Qatar', 'Rwanda', 'United States of America', 'Saint Pierre and Miquelon', 'Saint Helena', 'Japan', 'Korea', 'Belgium', 'Seychelles', 'Guatemala', 'Cook Islands', 'Saint Pierre and Miquelon', 'Solomon Islands', 'Denmark', 'Nigeria', 'Saint Kitts and Nevis', 'Jamaica', 'Saudi Arabia', 'British Indian Ocean Territory (Chagos Archipelago)', 'Saint Lucia', 'Iran', 'Italy', 'United States Minor Outlying Islands', 'Cocos (Keeling) Islands', 'Palau', 'Moldova', 'Swaziland', 'Portugal', 'Turkey', 'Jamaica', 'Netherlands Antilles', 'Niue', 'Anguilla', 'Indonesia', 'Chad', 'Sweden', 'Togo', 'Seychelles', 'French Southern Territories', 'Sweden', 'Liberia', 'Saint Martin', 'Ecuador', 'Guam', 'Pitcairn Islands', 'United States Minor Outlying Islands', 'Australia', 'Albania', 'Cook Islands', 'Gambia', 'Czech Republic', 'Cambodia', 'Andorra', 'Saint Kitts and Nevis', 'Venezuela', 'Isle of Man', \"Lao People's Democratic Republic\", 'United States Minor Outlying Islands', 'Belgium', 'Madagascar', 'Burkina Faso', 'Faroe Islands', 'Morocco', 'Vietnam', 'Montenegro', 'Holy See (Vatican City State)', 'Israel', 'Jersey', 'Slovakia (Slovak Republic)', 'China', 'Guadeloupe', 'Colombia', 'San Marino', 'Korea', 'Guadeloupe', 'Costa Rica', 'Spain', 'Australia', 'Sudan', 'Somalia', 'Montenegro', 'Bermuda', 'Niue', 'Cyprus', 'Peru', 'Mali', 'Nigeria', 'Northern Mariana Islands', 'Czech Republic', 'Grenada', 'Nicaragua', 'Bulgaria', 'Niger', 'Tanzania', \"Lao People's Democratic Republic\", 'Egypt', 'Senegal', 'Switzerland', 'Swaziland', 'Uruguay', 'Qatar', 'Djibouti', 'Yemen', 'Malaysia', 'Togo', 'Holy See (Vatican City State)', 'Saint Barthelemy', 'Tokelau', 'Solomon Islands', 'Romania', 'Mauritius', 'Lithuania', 'Saint Barthelemy', 'Holy See (Vatican City State)', 'Italy', 'Palau', 'Italy', 'India', 'Indonesia', 'Andorra', 'French Guiana', 'Papua New Guinea', 'Botswana', 'Cuba', 'Uganda', 'Burundi', 'Bahrain', 'Lebanon', 'United States Minor Outlying Islands', 'Ethiopia', 'Burundi', 'Vietnam', 'Lebanon', 'Mongolia', 'Djibouti', 'Mayotte', 'Paraguay', 'Djibouti', 'Guam', \"Cote d'Ivoire\", 'Marshall Islands', 'Norway', 'Sudan', 'El Salvador', 'Netherlands', 'Ethiopia', 'Lesotho', 'Chile', 'Malawi', 'Sao Tome and Principe', 'Korea', 'Estonia', 'Senegal', 'Guernsey', 'Micronesia', 'Gibraltar', 'Grenada', 'Botswana', 'Angola', 'Burundi', 'Iceland', 'Sudan', 'Ethiopia', 'Norway', 'Haiti', 'Austria', 'North Macedonia', 'Macao', 'Saint Pierre and Miquelon', 'Bhutan', 'United Kingdom', 'Tokelau', 'Solomon Islands', 'Somalia', 'Isle of Man', 'Micronesia', 'Zimbabwe', 'British Indian Ocean Territory (Chagos Archipelago)', 'Luxembourg', 'Uzbekistan', 'Chile', 'Wallis and Futuna', 'Saint Pierre and Miquelon', 'Bahrain', 'Barbados', 'Korea', 'New Caledonia', 'Saint Pierre and Miquelon', 'Armenia', 'Monaco', 'Guinea-Bissau', 'Djibouti', 'Nepal', 'Niue', 'Jordan', 'Mauritius', 'Sao Tome and Principe', 'Bulgaria', 'British Indian Ocean Territory (Chagos Archipelago)', 'Western Sahara', 'Estonia', 'Moldova', 'Angola', 'Jersey', 'Algeria', 'Cayman Islands', 'Congo', 'Belarus', 'Cocos (Keeling) Islands', 'Gibraltar', 'Saint Helena', 'Malaysia', 'Hong Kong', 'Wallis and Futuna', 'United States Minor Outlying Islands', 'Jersey', 'Kiribati', 'Morocco', 'Brazil', 'Antigua and Barbuda', 'Suriname', 'Chad', 'Antarctica (the territory South of 60 deg S)', 'Mauritania', 'Barbados', \"Lao People's Democratic Republic\", 'Jersey', 'Morocco', 'Lithuania', 'Palestinian Territory', 'Isle of Man', 'Togo', 'Sao Tome and Principe', 'Malaysia', 'Comoros', 'Germany', 'Wallis and Futuna', 'Brunei Darussalam', 'Reunion', 'Philippines', 'United Arab Emirates', 'Andorra', 'Slovenia', 'Kenya', 'Bolivia', 'North Macedonia', 'Mayotte', 'Uganda', 'Costa Rica', 'France', 'Sierra Leone', 'Saudi Arabia', 'Samoa', 'Greece', 'Argentina', 'Bouvet Island (Bouvetoya)', \"Cote d'Ivoire\", 'Gibraltar', 'Brunei Darussalam', 'Iceland', 'Kyrgyz Republic', 'Lebanon', 'United States Minor Outlying Islands', 'Timor-Leste', 'Grenada', 'Western Sahara', 'Bahamas', 'Bermuda', 'Bosnia and Herzegovina', 'Angola', 'Congo', 'Mexico', 'Costa Rica', 'Kyrgyz Republic', 'Singapore', 'Poland', 'South Georgia and the South Sandwich Islands', 'Norfolk Island', 'Angola', 'Sweden', 'Denmark', 'Canada', 'Portugal', 'Saint Kitts and Nevis', 'Guinea-Bissau', 'Djibouti', 'Monaco', 'Botswana', 'Western Sahara', 'Japan', 'Guadeloupe', 'Tunisia', 'Nicaragua', 'Sweden', 'Guatemala', 'Aruba', 'Falkland Islands (Malvinas)', 'Ecuador', 'Guatemala', 'Mexico', 'Sao Tome and Principe', 'Nigeria', 'El Salvador', 'Slovenia', 'Heard Island and McDonald Islands', 'Malaysia', 'South Africa', 'Ukraine', 'Kuwait', 'Bolivia', 'Egypt', 'Belarus', 'Suriname', 'Chad', 'Cayman Islands', 'Reunion', 'Botswana', 'Northern Mariana Islands', 'Pitcairn Islands', 'French Guiana', 'Nigeria', 'Belarus', 'Cambodia', 'South Georgia and the South Sandwich Islands', 'Egypt', \"Cote d'Ivoire\", 'Equatorial Guinea', 'Honduras', 'Grenada', 'Saint Lucia', 'Hong Kong', 'Uganda', 'Jersey', 'Qatar', 'Zimbabwe', 'Turkmenistan', 'Montenegro', 'Isle of Man', 'Andorra', 'Afghanistan', 'Ireland', 'Cape Verde', 'Cocos (Keeling) Islands', 'Pitcairn Islands', 'Bhutan', 'Netherlands Antilles', 'Saint Barthelemy', 'Guadeloupe', 'Brunei Darussalam', 'Aruba', 'Equatorial Guinea', 'Tunisia', 'Tunisia', 'Burkina Faso', 'Slovenia', 'Croatia', 'Ecuador', 'Montserrat', 'Anguilla', 'Guatemala', 'South Georgia and the South Sandwich Islands', 'Gibraltar', 'French Polynesia', 'Benin', 'Israel', 'Tanzania', 'Jersey', 'Antigua and Barbuda', 'Saudi Arabia', 'Montenegro', 'Burundi', 'Botswana', 'Nigeria', 'Bangladesh', 'Svalbard & Jan Mayen Islands', 'Guinea-Bissau', 'Venezuela', 'Kuwait', 'Montserrat', 'Bolivia', 'Serbia', 'Malaysia', 'Panama', 'Chile', 'Anguilla', 'Bermuda', 'Norway', 'Niger', 'Saint Pierre and Miquelon', 'Guatemala', 'Serbia', 'Germany', 'Germany', 'Central African Republic', 'Taiwan', 'Lesotho', 'Iceland', 'Martinique', 'Belgium', 'Croatia', 'Saint Barthelemy', 'Saudi Arabia', 'Sudan', 'Senegal', 'Luxembourg', 'Liberia', 'Netherlands', 'Turks and Caicos Islands', 'Lebanon', 'Germany', 'Korea', 'Czech Republic', 'Luxembourg', 'Ireland', 'Faroe Islands', 'Iran', 'Netherlands Antilles', 'Nepal', 'Tokelau', 'French Southern Territories', 'Panama', 'Cocos (Keeling) Islands', 'Cook Islands', 'Italy', 'Mauritius', 'Kyrgyz Republic', 'Austria', 'Mongolia', 'Western Sahara', 'Ecuador', 'Philippines', 'Honduras', 'Wallis and Futuna', 'Tokelau', 'Trinidad and Tobago', 'Grenada', 'Eritrea', 'Guadeloupe', 'Saint Lucia', 'Croatia', 'Poland', 'Angola', 'Madagascar', 'Cape Verde', 'Niue', 'Saint Helena', 'Aruba', 'Estonia', 'North Macedonia', 'Svalbard & Jan Mayen Islands', 'United States Virgin Islands', 'Mongolia', 'Equatorial Guinea', 'Bulgaria', 'Malaysia', 'Saint Lucia', 'Lebanon', \"Lao People's Democratic Republic\", 'Pakistan', 'Congo', 'Barbados', 'Morocco', 'Congo', 'Myanmar', 'Portugal', 'Canada', 'Martinique', 'Yemen', 'Korea', 'Cape Verde', 'Tuvalu', 'Rwanda', 'Jordan', 'Malaysia', 'Mozambique', 'Zimbabwe', 'Azerbaijan', 'Western Sahara', 'Vietnam', 'Saint Kitts and Nevis', 'Angola', 'Niger', 'Zimbabwe', 'Saint Helena', 'Cocos (Keeling) Islands', 'Hong Kong', 'Kuwait', 'Oman', 'Estonia', 'Uzbekistan', 'Taiwan', 'Saint Vincent and the Grenadines', 'Slovenia', 'Dominican Republic', 'Peru', 'Gibraltar', 'Saudi Arabia', 'Equatorial Guinea', 'Cyprus', 'Burundi', 'Tajikistan', 'Libyan Arab Jamahiriya', 'Bahrain', 'Mexico', 'Taiwan', 'Brunei Darussalam', 'Mexico', 'Svalbard & Jan Mayen Islands', 'Macao', 'Kazakhstan', 'France', 'Northern Mariana Islands', 'British Virgin Islands', 'Costa Rica', 'Rwanda', 'Kazakhstan', 'Cambodia', 'Timor-Leste', 'Cyprus', 'Malaysia', 'France', 'Australia', 'Dominica', 'Australia', 'Congo', 'Macao', 'Bahrain', 'Nepal', 'Bangladesh', 'Montenegro', 'Wallis and Futuna', 'Bermuda', 'Saint Helena', 'China', 'Cocos (Keeling) Islands', 'Liechtenstein', 'Comoros', 'Dominican Republic', 'Congo', 'Puerto Rico', 'Ireland', 'Costa Rica', 'Swaziland', 'Czech Republic', 'Swaziland', 'Namibia', 'Montenegro', 'Netherlands Antilles', 'Reunion', 'Georgia', 'Mauritania', 'French Polynesia', 'Oman', 'Sao Tome and Principe', 'Indonesia', 'Sweden', 'Ecuador', 'Bangladesh', 'India', 'Italy', 'South Africa', 'Burundi', 'Vanuatu', 'Swaziland', 'Haiti', 'Iraq', 'Cuba', 'Saint Vincent and the Grenadines', 'Thailand', 'Russian Federation', 'Svalbard & Jan Mayen Islands', 'Oman', 'South Africa', 'Japan', 'Romania', 'Uruguay', 'Dominica', 'Qatar', 'Turks and Caicos Islands', 'Cape Verde', 'Saint Kitts and Nevis', 'Norfolk Island', 'Uganda', 'Lithuania', 'Bhutan', 'Timor-Leste', 'Iran', 'Guernsey', 'Antigua and Barbuda', 'Mauritius', 'Moldova', 'Montserrat', 'Marshall Islands', 'Cook Islands', 'Ghana', 'Mauritania', 'Equatorial Guinea', 'Qatar', 'Gabon', 'Latvia', 'Australia', 'Kiribati', 'Kuwait', 'Paraguay', 'Spain', 'Panama', 'Comoros', 'Costa Rica', 'Botswana', 'Tokelau', 'Thailand', 'Zimbabwe', 'Cameroon', 'Iraq', 'Solomon Islands', 'Iraq', 'Macao', 'Brunei Darussalam', 'Paraguay', 'Vanuatu', 'South Africa', 'Slovakia (Slovak Republic)', 'Pitcairn Islands', 'Svalbard & Jan Mayen Islands', 'Bulgaria', 'Papua New Guinea', 'Djibouti', 'Japan', 'Gambia', 'Cayman Islands', 'Sao Tome and Principe', 'Mozambique', 'Fiji', 'French Polynesia', 'Netherlands', 'Sao Tome and Principe', 'Gabon', 'Vietnam', 'Marshall Islands', 'Timor-Leste', 'Indonesia', 'Turkmenistan', 'Belize', 'Western Sahara', 'Croatia', 'Germany', 'Iran', 'Iraq', 'United States Minor Outlying Islands', 'Tonga', 'Luxembourg', 'Equatorial Guinea', 'United Arab Emirates', 'Antarctica (the territory South of 60 deg S)', 'Korea', 'Nepal', 'Poland', 'Lebanon', 'Mauritania', 'Indonesia', 'Comoros', 'French Guiana', 'Isle of Man', 'Peru', 'El Salvador', 'Kyrgyz Republic', 'Philippines', 'Sao Tome and Principe', 'Indonesia', 'Barbados', 'Ecuador', 'New Caledonia', 'Uzbekistan', 'Swaziland', 'Guinea', 'Burkina Faso', 'Timor-Leste', 'Cook Islands', 'Cayman Islands', 'Korea', 'Saint Kitts and Nevis', 'Brazil', 'Belize', 'Lesotho', 'Spain', 'Belize', 'Kiribati', 'Turkey', 'Congo', \"Lao People's Democratic Republic\", 'Tunisia', 'South Georgia and the South Sandwich Islands', 'Lebanon', 'New Zealand', 'Tuvalu', 'Svalbard & Jan Mayen Islands', 'Northern Mariana Islands', 'Belize', 'Belize', 'Tonga', 'Nicaragua', 'Montserrat', 'Iran', 'Saint Martin', 'French Guiana', 'Saint Pierre and Miquelon', 'Gambia', 'Brazil', 'Nicaragua', 'Nauru', 'Kazakhstan', 'Uganda', 'Montenegro', 'Costa Rica', 'Burkina Faso', 'Bermuda', 'Pitcairn Islands', 'China', 'Madagascar', 'Sweden', 'South Africa', 'Mali', 'Pitcairn Islands', 'Japan', 'Jordan', 'Mayotte', 'Gibraltar', 'Spain', 'Vietnam', 'Anguilla', 'Cocos (Keeling) Islands', 'Bosnia and Herzegovina', 'Samoa', 'Malawi', 'Uganda', 'Bolivia', 'Somalia', 'Palestinian Territory', 'Bouvet Island (Bouvetoya)', 'Sweden', 'Belgium', 'Djibouti', 'Canada', 'Tunisia', 'Tunisia', 'Christmas Island', 'Suriname', 'Djibouti', 'Kiribati', 'Niger', 'Moldova', 'Bangladesh', 'Saint Barthelemy', 'Egypt', 'Antigua and Barbuda', 'Ghana', 'Tanzania', 'Oman', 'Comoros', 'Mozambique', 'Guinea-Bissau', 'Antigua and Barbuda', 'Saint Helena', 'Mauritius', 'Madagascar', 'Guatemala', 'New Zealand', 'Barbados', 'Tonga', 'Montenegro', 'Angola', 'Netherlands Antilles', 'Congo', 'Argentina', 'Haiti', 'Nauru', 'Namibia', 'Congo', 'Nauru', 'Norfolk Island', 'Niger', 'Serbia', 'Andorra', 'Switzerland', 'Bahrain', 'Malaysia', 'Portugal', 'Italy', 'United States of America', 'Vanuatu', 'El Salvador', 'Antigua and Barbuda', 'Saint Pierre and Miquelon', 'Wallis and Futuna', 'Reunion', 'Sri Lanka', 'Botswana', 'Tunisia', 'Antarctica (the territory South of 60 deg S)', 'Tajikistan', 'Australia', 'American Samoa', 'Gibraltar', 'Fiji', 'Micronesia', 'Mozambique', 'Bangladesh', 'Monaco', 'San Marino', 'Tonga', 'French Southern Territories', 'Nepal', 'Canada', 'Equatorial Guinea', 'Canada', 'Bahamas', 'Rwanda', 'Malta', 'Aruba', 'Norway', 'Zimbabwe', 'Grenada', 'Holy See (Vatican City State)', 'Bhutan', 'Mauritius', 'Niger', 'Togo', 'Montserrat', 'Timor-Leste', 'Palau', 'Austria', 'Cape Verde', 'Venezuela', 'Saint Helena', 'Honduras', 'Honduras', 'Gabon', 'Chad', 'Vanuatu', 'Mayotte', 'Dominican Republic', 'Monaco', 'British Indian Ocean Territory (Chagos Archipelago)', 'Argentina', 'Qatar', 'Belarus', 'Kazakhstan', 'Brunei Darussalam', 'Mozambique', 'Falkland Islands (Malvinas)', 'Montserrat', 'Myanmar', 'Nepal', 'Turkey', 'Reunion', 'Dominica', 'Bulgaria', 'Gabon', 'Marshall Islands', 'Norfolk Island', 'Chad', 'Belarus', 'Kyrgyz Republic', 'Lithuania', 'Jamaica', 'Tokelau', 'Guam', 'Tuvalu', 'Uganda', 'Uganda', 'Spain', 'Guernsey', 'Macao', 'South Georgia and the South Sandwich Islands', 'Guernsey', 'Peru', 'Cayman Islands', 'Kenya', 'Argentina', 'Saint Martin', 'Sudan', 'Saint Barthelemy', 'Russian Federation', 'Chad', 'Sao Tome and Principe', 'Tuvalu', 'Guernsey', 'Saint Martin', 'British Virgin Islands', 'Ethiopia', 'Serbia', 'Guinea', 'Saint Kitts and Nevis', 'Moldova', 'Israel', 'Portugal', 'Bahrain', 'Nicaragua', 'Cape Verde', 'Nepal', 'French Southern Territories', 'Swaziland', 'Italy', 'Palestinian Territory', 'Chile', 'Russian Federation', 'Cyprus', 'Afghanistan', 'Lebanon', 'Samoa', 'Christmas Island', 'Pitcairn Islands', 'Serbia', 'Martinique', 'San Marino', 'Congo', 'New Zealand', 'Djibouti', 'China', 'Cyprus', 'Egypt', 'South Africa', 'Bahamas', 'Saint Kitts and Nevis', 'Myanmar', 'Anguilla', 'Tanzania', 'Liberia', 'Gabon', 'Micronesia', 'Western Sahara', 'Taiwan', 'Cook Islands', 'Burkina Faso', 'Mayotte', 'United States of America', 'Puerto Rico', 'Belarus', 'Korea', 'Greenland', 'Uzbekistan', 'Greenland', 'Turkmenistan', 'Bangladesh', 'India', 'Albania', 'Mauritius', 'Portugal', 'Burkina Faso', 'Swaziland', 'Gibraltar', 'Turkey', 'Norway', 'Jamaica', 'Brazil', 'Panama', 'Swaziland', 'Italy', 'Armenia', 'Mongolia', 'Mexico', 'Libyan Arab Jamahiriya', 'Libyan Arab Jamahiriya', 'Nicaragua', 'Greenland', 'Poland', 'Uganda', 'Netherlands', 'Korea', 'Azerbaijan', 'Cape Verde', 'Senegal', 'Italy', 'Bahamas', 'Saint Barthelemy', 'Aruba', 'Dominica', 'Benin', 'Bahrain', 'Tokelau', 'Saint Martin', 'Dominican Republic', 'Barbados', 'Seychelles', 'Qatar', 'French Southern Territories', 'Bouvet Island (Bouvetoya)', 'Mayotte', 'Cape Verde', 'Thailand', 'Saint Vincent and the Grenadines', 'Serbia', 'Norfolk Island', 'Mali', 'Guatemala', 'Cambodia', 'Rwanda', 'Nauru', 'Belize', 'Congo', 'Solomon Islands', 'Netherlands Antilles', 'British Virgin Islands', 'Netherlands Antilles', 'Slovakia (Slovak Republic)', 'Bhutan', 'Syrian Arab Republic', 'Ghana', 'Martinique', 'Holy See (Vatican City State)', 'Tonga', 'Latvia', 'Argentina', 'Marshall Islands', 'Vietnam', 'Bermuda', 'Kenya', 'Uzbekistan', 'Cameroon', 'Italy', 'United Arab Emirates', \"Cote d'Ivoire\", 'Benin', 'Slovenia', 'Palau', 'Japan', 'American Samoa', 'United States Virgin Islands', 'Venezuela', 'Peru', 'Hong Kong', 'Cuba', 'Grenada', 'Kenya', 'Sao Tome and Principe', 'Samoa', 'Cyprus', 'Suriname', 'French Guiana', 'Finland', 'New Caledonia', 'Faroe Islands', 'Saint Helena', 'Madagascar', 'Moldova', 'Mauritania', 'Pitcairn Islands', 'Finland', 'Guernsey', 'Norfolk Island', 'Hong Kong', 'Peru', 'Rwanda', 'Jamaica', 'Israel', 'Spain', 'Fiji', 'Thailand', 'Germany', 'South Georgia and the South Sandwich Islands', 'Singapore', 'Lebanon', 'New Zealand', 'Lebanon', 'Ethiopia', 'Cayman Islands', 'Luxembourg', 'Lesotho', 'Czech Republic', 'Montenegro', 'Tokelau', 'Cocos (Keeling) Islands', 'Central African Republic', 'Nepal', 'Myanmar', 'Kazakhstan', 'Algeria', 'Equatorial Guinea', 'Niue', 'Slovakia (Slovak Republic)', 'Mali', 'United Kingdom', 'Montserrat', 'Wallis and Futuna', 'Burundi', 'Christmas Island', 'Ghana', 'Aruba', 'Tunisia', 'Malaysia', 'Jersey', 'Samoa', 'Jersey', 'Guinea', 'Germany', 'Yemen', 'Czech Republic', 'Sudan', 'Malawi', 'Cyprus', 'Colombia', 'Turkmenistan', 'Mauritius', 'Ireland', 'Somalia', 'Svalbard & Jan Mayen Islands', 'Palau', 'Holy See (Vatican City State)', 'American Samoa', 'Monaco', 'Monaco', 'Dominica', 'Heard Island and McDonald Islands', 'Kenya', 'Ireland', 'Cocos (Keeling) Islands', 'Sudan', 'Guyana', 'Uzbekistan', 'Tajikistan', 'Kyrgyz Republic', 'Palau', 'Latvia', 'France', 'Zimbabwe', 'Turks and Caicos Islands', 'Cook Islands', 'United States Virgin Islands', 'Argentina', 'Madagascar', 'Cape Verde', 'Chad', 'Libyan Arab Jamahiriya', 'Switzerland', 'Russian Federation', 'Bouvet Island (Bouvetoya)', 'Sudan', 'Venezuela', 'Senegal', 'Eritrea', 'Bangladesh', 'Finland', 'North Macedonia', 'Slovakia (Slovak Republic)', 'Korea', 'South Georgia and the South Sandwich Islands', 'Nepal', 'Norfolk Island', 'Bouvet Island (Bouvetoya)', 'Uruguay', 'Russian Federation', 'Cyprus', 'Guernsey', 'Aruba', 'Uganda', 'Mongolia', 'Saudi Arabia', 'Macao', 'Poland', 'Saint Kitts and Nevis', 'Mauritius', 'Ecuador', 'Guatemala', 'Guinea', 'Bosnia and Herzegovina', 'South Africa', 'Guam', 'Tanzania', 'Estonia', 'South Georgia and the South Sandwich Islands', 'Lesotho', 'Puerto Rico', 'Bahrain', 'United States of America', 'Fiji', 'Turks and Caicos Islands', 'Turkmenistan', 'Suriname', 'Honduras', 'Bolivia', 'Kyrgyz Republic', 'Slovenia', 'Djibouti', 'United States of America', 'Nigeria', 'Antarctica (the territory South of 60 deg S)', 'Cayman Islands', 'Brazil', 'Moldova', 'Cyprus', 'Paraguay', 'Ghana', 'Brunei Darussalam', 'Cameroon', 'American Samoa', 'Armenia', 'Hong Kong', 'Saudi Arabia', 'Madagascar', 'Saint Lucia', 'Ireland', 'Ghana', 'Guinea', 'Italy', 'Luxembourg', 'Paraguay', 'Lebanon', 'Kuwait', 'British Indian Ocean Territory (Chagos Archipelago)', 'French Guiana', 'Cambodia', 'Japan', 'Paraguay', 'Benin', 'Belgium', 'China', 'Isle of Man', 'Namibia', 'Central African Republic', 'Mauritania', 'Iraq', 'Montserrat', 'Zambia', 'Belize', 'Niger', 'Paraguay', 'Maldives', 'Senegal', 'Saint Vincent and the Grenadines', 'Mali', 'Ethiopia', 'Mozambique', 'Cape Verde', 'Greenland', 'Turkmenistan', 'Gambia', 'China', 'Bolivia', 'Nepal', 'Saudi Arabia', 'Togo', 'Nicaragua', 'Slovenia', 'Saint Kitts and Nevis', 'British Virgin Islands', 'Ghana', 'Somalia', 'Gambia', 'Tonga', 'Mauritania', 'Burundi', 'Bahrain', 'Peru', 'Aruba', 'Colombia', 'Seychelles', 'Angola', 'Bermuda', 'Norfolk Island', 'India', 'French Guiana', 'Hungary', 'Mozambique', 'Pakistan', 'Portugal', 'United States Virgin Islands', 'Mali', \"Lao People's Democratic Republic\", 'Dominica', 'Mali', 'Colombia', 'Angola', 'Mauritius', 'Cape Verde', 'Guinea', 'Romania', 'Taiwan', 'Tanzania', 'Tanzania', 'Belize', 'Palau', 'Niue', 'United States of America', 'Jordan', 'Kazakhstan', 'Moldova', 'Slovakia (Slovak Republic)', 'Peru', 'Togo', 'French Guiana', 'Guadeloupe', 'Cyprus', 'Madagascar', 'Malawi', 'Isle of Man', 'Singapore', 'United States of America', 'Tuvalu', 'Tokelau', 'Montserrat', 'Uruguay', 'Chile', 'Ghana', 'Portugal', 'Sri Lanka', 'Luxembourg', 'French Polynesia', 'Netherlands', 'Sri Lanka', 'Syrian Arab Republic', 'Slovenia', 'Sao Tome and Principe', 'Argentina', 'Tokelau', 'Kenya', 'Iran', 'Tonga', 'Marshall Islands', 'Italy', 'Mexico', 'Ghana', 'Gabon', 'Singapore', 'Hungary', 'Bermuda', 'Monaco', \"Cote d'Ivoire\", 'Aruba', 'Kyrgyz Republic', 'Botswana', 'Guinea', 'Brunei Darussalam', 'Finland', 'Montenegro', 'Iran', 'Sweden', 'Sri Lanka', 'Slovenia', 'Sri Lanka', 'Senegal', 'Turks and Caicos Islands', 'Namibia', 'Bahamas', 'British Indian Ocean Territory (Chagos Archipelago)', 'Saudi Arabia', 'Holy See (Vatican City State)', 'Paraguay', 'Russian Federation', 'Taiwan', 'Guernsey', 'Christmas Island', 'Cameroon', 'Thailand', 'Australia', 'Martinique', 'Palestinian Territory', 'Qatar', 'Greenland', 'British Virgin Islands', 'Bahamas', 'Burundi', 'Ethiopia', 'Slovenia', 'Northern Mariana Islands', 'Nauru', 'British Virgin Islands', 'Mayotte', 'Mongolia', 'Kazakhstan', 'Uruguay', 'Micronesia', 'Nicaragua', 'Eritrea', 'Kyrgyz Republic', 'Uruguay', 'Wallis and Futuna', 'Niger', 'Vanuatu', 'Martinique', 'Syrian Arab Republic', 'Comoros', 'Lithuania', 'Greece', 'Trinidad and Tobago', 'Armenia', 'Svalbard & Jan Mayen Islands', 'Argentina', 'Moldova', 'Belize', 'Palau', 'Argentina', 'Cocos (Keeling) Islands', 'Faroe Islands', 'Angola', 'Tokelau', 'Ecuador', 'French Southern Territories', 'Gabon', 'Egypt', 'Burkina Faso', 'Bangladesh', 'Tonga', 'Sri Lanka', 'Guernsey', 'Djibouti', 'Netherlands Antilles', 'Uruguay', 'Gabon', 'Croatia', 'Isle of Man', 'Canada', 'Eritrea', 'Congo', 'Turks and Caicos Islands', 'South Georgia and the South Sandwich Islands', 'Brunei Darussalam', 'Philippines', 'Namibia', \"Lao People's Democratic Republic\", 'Guam', 'Chad', 'Yemen', 'Kiribati', 'Nicaragua', 'Liechtenstein', 'Yemen', 'Liechtenstein', 'Guatemala', 'Saint Kitts and Nevis', 'Vietnam', 'Niger', 'Vanuatu', 'Costa Rica', 'Croatia', 'Serbia', 'Georgia', 'Netherlands', 'United Kingdom', 'Swaziland', 'Congo', 'Cayman Islands', 'Norfolk Island', 'Uruguay', 'Swaziland', 'Djibouti', 'Zambia', 'Tunisia', 'Solomon Islands', 'Tokelau', 'Mauritania', 'Lebanon', 'Seychelles', 'Mauritius', 'Germany', 'Cuba', 'Fiji', 'Montserrat', 'Norfolk Island', 'Mozambique', 'Norway', 'Norfolk Island', 'Guam', 'Peru', 'North Macedonia', 'Angola', 'Cape Verde', 'Ireland', 'Mayotte', 'China', 'Oman', 'Netherlands', 'Ethiopia', 'Anguilla', 'Wallis and Futuna', 'Qatar', 'Senegal', 'Luxembourg', 'Guernsey', 'Congo', 'Mexico', 'Jordan', 'Russian Federation', 'San Marino', 'Micronesia', 'Namibia', 'Fiji', 'North Macedonia', 'Somalia', 'Antarctica (the territory South of 60 deg S)', 'Zimbabwe', 'Jordan', 'Sao Tome and Principe', 'San Marino', 'Finland', 'Palestinian Territory', 'Congo', 'Niger', 'Guyana', 'Nicaragua', 'Puerto Rico', 'British Indian Ocean Territory (Chagos Archipelago)', 'Samoa', 'Gibraltar', 'Liberia', 'Brazil', 'Spain', 'Albania', 'Paraguay', 'Saint Pierre and Miquelon', 'Vanuatu', 'Ethiopia', 'Heard Island and McDonald Islands', 'Turkey', 'New Caledonia', 'Timor-Leste', 'Burundi', 'Oman', 'Nicaragua', 'Peru', 'Guyana', 'Gambia', 'France', 'Greece', 'Netherlands', 'Pitcairn Islands', 'Niger', 'Cameroon', 'Burkina Faso', 'Malaysia', 'Saint Martin', 'British Virgin Islands', 'Myanmar', 'Belize', 'North Macedonia', 'Montserrat', 'Taiwan', 'Belize', 'Poland', 'Swaziland', 'Philippines', 'Greece', 'Bermuda', 'United Arab Emirates', 'Trinidad and Tobago', 'Antigua and Barbuda', 'French Polynesia', 'Bouvet Island (Bouvetoya)', 'Svalbard & Jan Mayen Islands', 'Cape Verde', 'Suriname', 'Ecuador', 'Saint Kitts and Nevis', 'Thailand', 'Tanzania', 'Bermuda', 'Iceland', 'United States Minor Outlying Islands', 'Slovakia (Slovak Republic)', 'Taiwan', 'Mexico', 'Netherlands', 'Togo', 'Togo', 'Timor-Leste', 'El Salvador', 'Ecuador', 'Honduras', 'Tanzania', 'New Zealand', 'Germany', 'Ethiopia', 'Turks and Caicos Islands', 'Saint Kitts and Nevis', 'Western Sahara', 'Bouvet Island (Bouvetoya)', 'Togo', 'Sri Lanka', 'Liberia', 'Montenegro', 'Turks and Caicos Islands', 'Christmas Island', 'Pakistan', 'Dominican Republic', 'Cuba', 'Vietnam', 'Bolivia', 'Jamaica', 'Liberia', 'Nigeria', 'Portugal', 'Norway', 'Brunei Darussalam', 'Spain', 'Bulgaria', 'Sao Tome and Principe', 'Suriname', 'Heard Island and McDonald Islands', 'Indonesia', 'Mayotte', 'Costa Rica', 'Saint Vincent and the Grenadines', 'Mozambique', 'Qatar', 'Tuvalu', 'Romania', 'Egypt', 'Switzerland', 'Palestinian Territory', 'Pitcairn Islands', 'Saint Pierre and Miquelon', 'Sweden', 'Malta', 'Turks and Caicos Islands', 'Moldova', 'Saint Helena', 'Indonesia', 'Cameroon', 'Bermuda', 'Equatorial Guinea', 'Somalia', 'Faroe Islands', 'Paraguay', 'Reunion', 'Montserrat', 'Venezuela', 'Barbados', 'Saudi Arabia', 'Wallis and Futuna', 'Tanzania', 'Cocos (Keeling) Islands', 'Singapore', 'Guinea', 'Lithuania', 'Oman', 'Sao Tome and Principe', 'Sierra Leone', 'Swaziland', 'Chile', 'Montenegro', 'Norway', 'Netherlands Antilles', 'Turkmenistan', 'Central African Republic', 'Guinea-Bissau', 'Nicaragua', 'Belarus', 'Faroe Islands', 'Bermuda', 'Ukraine', 'Moldova', 'Moldova', 'Germany', 'Greece', 'Niger', 'Mozambique', 'Australia', 'Morocco', 'Turkey', 'Australia', 'Bahrain', 'Rwanda', 'Cambodia', 'Cyprus', 'Cyprus', 'Holy See (Vatican City State)', 'Iran', 'Mozambique', 'Colombia', 'Fiji', 'Pakistan', 'New Zealand', 'United States Virgin Islands', 'Guernsey', 'Argentina', 'Andorra', 'Brunei Darussalam', 'Uzbekistan', 'Gabon', 'Slovakia (Slovak Republic)', 'Congo', 'Guinea-Bissau', 'United States Virgin Islands', 'Nigeria', 'Argentina', 'Reunion', 'Afghanistan', 'Yemen', 'Norway', 'United States of America', 'Turks and Caicos Islands', 'New Zealand', 'Wallis and Futuna', 'Dominican Republic', 'Germany', 'Portugal', 'Isle of Man', 'Fiji', 'Djibouti', 'Korea', 'Malawi', 'Jordan', 'Hungary', 'Micronesia', 'Argentina', 'New Zealand', 'United States Minor Outlying Islands', 'Togo', 'Iraq', 'Sri Lanka', 'Palau', 'Azerbaijan', 'Guinea', 'Saudi Arabia', 'Nepal', 'Brazil', 'Western Sahara', 'Barbados', 'Turkey', 'Wallis and Futuna']\n"
     ]
    }
   ],
   "source": [
    "paises = [] \n",
    "\n",
    "for _ in range(len(dataset)): \n",
    "    paises.append(fake.country()) \n",
    "\n",
    "print(paises)"
   ]
  },
  {
   "cell_type": "code",
   "execution_count": 41,
   "id": "4836b961-6c8d-4750-8c03-625816841e8b",
   "metadata": {},
   "outputs": [],
   "source": [
    "dataset['paises'] = paises"
   ]
  },
  {
   "cell_type": "code",
   "execution_count": 43,
   "id": "83ad235a-8b53-4bb6-8ad8-81c9498130a1",
   "metadata": {},
   "outputs": [
    {
     "name": "stdout",
     "output_type": "stream",
     "text": [
      "0    French Southern Territories\n",
      "1                       Maldives\n",
      "2                      Guatemala\n",
      "3                        Somalia\n",
      "4                        Vanuatu\n",
      "Name: paises, dtype: object 32556               Brazil\n",
      "32557       Western Sahara\n",
      "32558             Barbados\n",
      "32559               Turkey\n",
      "32560    Wallis and Futuna\n",
      "Name: paises, dtype: object\n"
     ]
    }
   ],
   "source": [
    "print(dataset['paises'].head(), dataset['paises'].tail())"
   ]
  },
  {
   "cell_type": "code",
   "execution_count": 53,
   "id": "07e8d4dd-b0e0-4268-9b9e-67ea8fb063d7",
   "metadata": {},
   "outputs": [
    {
     "data": {
      "text/html": [
       "<div>\n",
       "<style scoped>\n",
       "    .dataframe tbody tr th:only-of-type {\n",
       "        vertical-align: middle;\n",
       "    }\n",
       "\n",
       "    .dataframe tbody tr th {\n",
       "        vertical-align: top;\n",
       "    }\n",
       "\n",
       "    .dataframe thead th {\n",
       "        text-align: right;\n",
       "    }\n",
       "</style>\n",
       "<table border=\"1\" class=\"dataframe\">\n",
       "  <thead>\n",
       "    <tr style=\"text-align: right;\">\n",
       "      <th></th>\n",
       "      <th>age</th>\n",
       "      <th>workclass</th>\n",
       "      <th>final-weight</th>\n",
       "      <th>education</th>\n",
       "      <th>education-num</th>\n",
       "      <th>marital-status</th>\n",
       "      <th>occupation</th>\n",
       "      <th>relationship</th>\n",
       "      <th>race</th>\n",
       "      <th>sex</th>\n",
       "      <th>capital-gain</th>\n",
       "      <th>capital-loos</th>\n",
       "      <th>hour-per-week</th>\n",
       "      <th>native-country</th>\n",
       "      <th>income</th>\n",
       "      <th>NOME</th>\n",
       "      <th>paises</th>\n",
       "    </tr>\n",
       "  </thead>\n",
       "  <tbody>\n",
       "    <tr>\n",
       "      <th>622</th>\n",
       "      <td>65</td>\n",
       "      <td>Private</td>\n",
       "      <td>109351</td>\n",
       "      <td>9th</td>\n",
       "      <td>5</td>\n",
       "      <td>Widowed</td>\n",
       "      <td>Priv-house-serv</td>\n",
       "      <td>Unmarried</td>\n",
       "      <td>Black</td>\n",
       "      <td>Female</td>\n",
       "      <td>0</td>\n",
       "      <td>0</td>\n",
       "      <td>24</td>\n",
       "      <td>United-States</td>\n",
       "      <td>&lt;=50K</td>\n",
       "      <td>Brian Brown</td>\n",
       "      <td>Brazil</td>\n",
       "    </tr>\n",
       "    <tr>\n",
       "      <th>1441</th>\n",
       "      <td>61</td>\n",
       "      <td>?</td>\n",
       "      <td>347089</td>\n",
       "      <td>HS-grad</td>\n",
       "      <td>9</td>\n",
       "      <td>Married-civ-spouse</td>\n",
       "      <td>?</td>\n",
       "      <td>Husband</td>\n",
       "      <td>White</td>\n",
       "      <td>Male</td>\n",
       "      <td>0</td>\n",
       "      <td>0</td>\n",
       "      <td>16</td>\n",
       "      <td>United-States</td>\n",
       "      <td>&lt;=50K</td>\n",
       "      <td>Donald Walters</td>\n",
       "      <td>Brazil</td>\n",
       "    </tr>\n",
       "    <tr>\n",
       "      <th>3017</th>\n",
       "      <td>55</td>\n",
       "      <td>Federal-gov</td>\n",
       "      <td>270859</td>\n",
       "      <td>Bachelors</td>\n",
       "      <td>13</td>\n",
       "      <td>Married-civ-spouse</td>\n",
       "      <td>Prof-specialty</td>\n",
       "      <td>Husband</td>\n",
       "      <td>White</td>\n",
       "      <td>Male</td>\n",
       "      <td>0</td>\n",
       "      <td>0</td>\n",
       "      <td>40</td>\n",
       "      <td>United-States</td>\n",
       "      <td>&gt;50K</td>\n",
       "      <td>Alyssa Simpson</td>\n",
       "      <td>Brazil</td>\n",
       "    </tr>\n",
       "    <tr>\n",
       "      <th>4970</th>\n",
       "      <td>51</td>\n",
       "      <td>?</td>\n",
       "      <td>203953</td>\n",
       "      <td>HS-grad</td>\n",
       "      <td>9</td>\n",
       "      <td>Married-civ-spouse</td>\n",
       "      <td>?</td>\n",
       "      <td>Husband</td>\n",
       "      <td>White</td>\n",
       "      <td>Male</td>\n",
       "      <td>0</td>\n",
       "      <td>0</td>\n",
       "      <td>40</td>\n",
       "      <td>United-States</td>\n",
       "      <td>&gt;50K</td>\n",
       "      <td>Jessica Vance</td>\n",
       "      <td>Brazil</td>\n",
       "    </tr>\n",
       "    <tr>\n",
       "      <th>6948</th>\n",
       "      <td>60</td>\n",
       "      <td>?</td>\n",
       "      <td>124487</td>\n",
       "      <td>Some-college</td>\n",
       "      <td>10</td>\n",
       "      <td>Divorced</td>\n",
       "      <td>?</td>\n",
       "      <td>Not-in-family</td>\n",
       "      <td>White</td>\n",
       "      <td>Female</td>\n",
       "      <td>0</td>\n",
       "      <td>0</td>\n",
       "      <td>40</td>\n",
       "      <td>United-States</td>\n",
       "      <td>&gt;50K</td>\n",
       "      <td>Donald Gross</td>\n",
       "      <td>Brazil</td>\n",
       "    </tr>\n",
       "    <tr>\n",
       "      <th>6967</th>\n",
       "      <td>60</td>\n",
       "      <td>Private</td>\n",
       "      <td>230545</td>\n",
       "      <td>7th-8th</td>\n",
       "      <td>4</td>\n",
       "      <td>Divorced</td>\n",
       "      <td>Adm-clerical</td>\n",
       "      <td>Not-in-family</td>\n",
       "      <td>White</td>\n",
       "      <td>Female</td>\n",
       "      <td>0</td>\n",
       "      <td>0</td>\n",
       "      <td>35</td>\n",
       "      <td>Cuba</td>\n",
       "      <td>&lt;=50K</td>\n",
       "      <td>Michael Riley</td>\n",
       "      <td>Brazil</td>\n",
       "    </tr>\n",
       "    <tr>\n",
       "      <th>9303</th>\n",
       "      <td>51</td>\n",
       "      <td>Self-emp-not-inc</td>\n",
       "      <td>186845</td>\n",
       "      <td>Bachelors</td>\n",
       "      <td>13</td>\n",
       "      <td>Married-civ-spouse</td>\n",
       "      <td>Farming-fishing</td>\n",
       "      <td>Husband</td>\n",
       "      <td>White</td>\n",
       "      <td>Male</td>\n",
       "      <td>0</td>\n",
       "      <td>0</td>\n",
       "      <td>8</td>\n",
       "      <td>United-States</td>\n",
       "      <td>&lt;=50K</td>\n",
       "      <td>Mark Peterson</td>\n",
       "      <td>Brazil</td>\n",
       "    </tr>\n",
       "    <tr>\n",
       "      <th>10780</th>\n",
       "      <td>55</td>\n",
       "      <td>Local-gov</td>\n",
       "      <td>212448</td>\n",
       "      <td>HS-grad</td>\n",
       "      <td>9</td>\n",
       "      <td>Divorced</td>\n",
       "      <td>Adm-clerical</td>\n",
       "      <td>Not-in-family</td>\n",
       "      <td>White</td>\n",
       "      <td>Female</td>\n",
       "      <td>0</td>\n",
       "      <td>0</td>\n",
       "      <td>40</td>\n",
       "      <td>United-States</td>\n",
       "      <td>&lt;=50K</td>\n",
       "      <td>Rachel Diaz</td>\n",
       "      <td>Brazil</td>\n",
       "    </tr>\n",
       "    <tr>\n",
       "      <th>11137</th>\n",
       "      <td>51</td>\n",
       "      <td>Private</td>\n",
       "      <td>174754</td>\n",
       "      <td>HS-grad</td>\n",
       "      <td>9</td>\n",
       "      <td>Never-married</td>\n",
       "      <td>Other-service</td>\n",
       "      <td>Not-in-family</td>\n",
       "      <td>Black</td>\n",
       "      <td>Female</td>\n",
       "      <td>0</td>\n",
       "      <td>0</td>\n",
       "      <td>38</td>\n",
       "      <td>United-States</td>\n",
       "      <td>&lt;=50K</td>\n",
       "      <td>Sherri West</td>\n",
       "      <td>Brazil</td>\n",
       "    </tr>\n",
       "    <tr>\n",
       "      <th>11840</th>\n",
       "      <td>54</td>\n",
       "      <td>Private</td>\n",
       "      <td>138026</td>\n",
       "      <td>HS-grad</td>\n",
       "      <td>9</td>\n",
       "      <td>Married-civ-spouse</td>\n",
       "      <td>Adm-clerical</td>\n",
       "      <td>Wife</td>\n",
       "      <td>White</td>\n",
       "      <td>Female</td>\n",
       "      <td>0</td>\n",
       "      <td>0</td>\n",
       "      <td>40</td>\n",
       "      <td>United-States</td>\n",
       "      <td>&lt;=50K</td>\n",
       "      <td>Dr. William Butler</td>\n",
       "      <td>Brazil</td>\n",
       "    </tr>\n",
       "    <tr>\n",
       "      <th>12230</th>\n",
       "      <td>54</td>\n",
       "      <td>Private</td>\n",
       "      <td>108435</td>\n",
       "      <td>HS-grad</td>\n",
       "      <td>9</td>\n",
       "      <td>Married-civ-spouse</td>\n",
       "      <td>Adm-clerical</td>\n",
       "      <td>Husband</td>\n",
       "      <td>White</td>\n",
       "      <td>Male</td>\n",
       "      <td>0</td>\n",
       "      <td>0</td>\n",
       "      <td>20</td>\n",
       "      <td>United-States</td>\n",
       "      <td>&lt;=50K</td>\n",
       "      <td>Christopher Powell</td>\n",
       "      <td>Brazil</td>\n",
       "    </tr>\n",
       "    <tr>\n",
       "      <th>14239</th>\n",
       "      <td>53</td>\n",
       "      <td>Private</td>\n",
       "      <td>303462</td>\n",
       "      <td>HS-grad</td>\n",
       "      <td>9</td>\n",
       "      <td>Married-civ-spouse</td>\n",
       "      <td>Machine-op-inspct</td>\n",
       "      <td>Husband</td>\n",
       "      <td>White</td>\n",
       "      <td>Male</td>\n",
       "      <td>0</td>\n",
       "      <td>0</td>\n",
       "      <td>30</td>\n",
       "      <td>United-States</td>\n",
       "      <td>&lt;=50K</td>\n",
       "      <td>Duane Davis</td>\n",
       "      <td>Brazil</td>\n",
       "    </tr>\n",
       "    <tr>\n",
       "      <th>14426</th>\n",
       "      <td>67</td>\n",
       "      <td>Private</td>\n",
       "      <td>274451</td>\n",
       "      <td>10th</td>\n",
       "      <td>6</td>\n",
       "      <td>Married-civ-spouse</td>\n",
       "      <td>Transport-moving</td>\n",
       "      <td>Husband</td>\n",
       "      <td>White</td>\n",
       "      <td>Male</td>\n",
       "      <td>0</td>\n",
       "      <td>0</td>\n",
       "      <td>16</td>\n",
       "      <td>United-States</td>\n",
       "      <td>&lt;=50K</td>\n",
       "      <td>Robert Brown</td>\n",
       "      <td>Brazil</td>\n",
       "    </tr>\n",
       "    <tr>\n",
       "      <th>15160</th>\n",
       "      <td>53</td>\n",
       "      <td>Private</td>\n",
       "      <td>135840</td>\n",
       "      <td>Bachelors</td>\n",
       "      <td>13</td>\n",
       "      <td>Married-civ-spouse</td>\n",
       "      <td>Prof-specialty</td>\n",
       "      <td>Husband</td>\n",
       "      <td>White</td>\n",
       "      <td>Male</td>\n",
       "      <td>0</td>\n",
       "      <td>0</td>\n",
       "      <td>55</td>\n",
       "      <td>United-States</td>\n",
       "      <td>&gt;50K</td>\n",
       "      <td>Michelle Day</td>\n",
       "      <td>Brazil</td>\n",
       "    </tr>\n",
       "    <tr>\n",
       "      <th>15494</th>\n",
       "      <td>58</td>\n",
       "      <td>Private</td>\n",
       "      <td>172618</td>\n",
       "      <td>Prof-school</td>\n",
       "      <td>15</td>\n",
       "      <td>Married-civ-spouse</td>\n",
       "      <td>Prof-specialty</td>\n",
       "      <td>Husband</td>\n",
       "      <td>White</td>\n",
       "      <td>Male</td>\n",
       "      <td>0</td>\n",
       "      <td>0</td>\n",
       "      <td>45</td>\n",
       "      <td>United-States</td>\n",
       "      <td>&gt;50K</td>\n",
       "      <td>Eric Ho</td>\n",
       "      <td>Brazil</td>\n",
       "    </tr>\n",
       "    <tr>\n",
       "      <th>15995</th>\n",
       "      <td>63</td>\n",
       "      <td>Private</td>\n",
       "      <td>188914</td>\n",
       "      <td>HS-grad</td>\n",
       "      <td>9</td>\n",
       "      <td>Widowed</td>\n",
       "      <td>Machine-op-inspct</td>\n",
       "      <td>Other-relative</td>\n",
       "      <td>Black</td>\n",
       "      <td>Female</td>\n",
       "      <td>0</td>\n",
       "      <td>0</td>\n",
       "      <td>40</td>\n",
       "      <td>Haiti</td>\n",
       "      <td>&lt;=50K</td>\n",
       "      <td>Wendy Andrews DDS</td>\n",
       "      <td>Brazil</td>\n",
       "    </tr>\n",
       "    <tr>\n",
       "      <th>17146</th>\n",
       "      <td>66</td>\n",
       "      <td>Local-gov</td>\n",
       "      <td>140849</td>\n",
       "      <td>HS-grad</td>\n",
       "      <td>9</td>\n",
       "      <td>Widowed</td>\n",
       "      <td>Other-service</td>\n",
       "      <td>Not-in-family</td>\n",
       "      <td>White</td>\n",
       "      <td>Female</td>\n",
       "      <td>0</td>\n",
       "      <td>0</td>\n",
       "      <td>25</td>\n",
       "      <td>United-States</td>\n",
       "      <td>&lt;=50K</td>\n",
       "      <td>Deborah Macdonald</td>\n",
       "      <td>Brazil</td>\n",
       "    </tr>\n",
       "    <tr>\n",
       "      <th>17286</th>\n",
       "      <td>59</td>\n",
       "      <td>Self-emp-inc</td>\n",
       "      <td>31359</td>\n",
       "      <td>Masters</td>\n",
       "      <td>14</td>\n",
       "      <td>Married-civ-spouse</td>\n",
       "      <td>Exec-managerial</td>\n",
       "      <td>Husband</td>\n",
       "      <td>White</td>\n",
       "      <td>Male</td>\n",
       "      <td>15024</td>\n",
       "      <td>0</td>\n",
       "      <td>80</td>\n",
       "      <td>United-States</td>\n",
       "      <td>&gt;50K</td>\n",
       "      <td>Heather Wright</td>\n",
       "      <td>Brazil</td>\n",
       "    </tr>\n",
       "    <tr>\n",
       "      <th>19849</th>\n",
       "      <td>60</td>\n",
       "      <td>Private</td>\n",
       "      <td>101096</td>\n",
       "      <td>Doctorate</td>\n",
       "      <td>16</td>\n",
       "      <td>Never-married</td>\n",
       "      <td>Prof-specialty</td>\n",
       "      <td>Not-in-family</td>\n",
       "      <td>White</td>\n",
       "      <td>Female</td>\n",
       "      <td>0</td>\n",
       "      <td>0</td>\n",
       "      <td>65</td>\n",
       "      <td>United-States</td>\n",
       "      <td>&gt;50K</td>\n",
       "      <td>Danielle Harper</td>\n",
       "      <td>Brazil</td>\n",
       "    </tr>\n",
       "    <tr>\n",
       "      <th>24511</th>\n",
       "      <td>68</td>\n",
       "      <td>Private</td>\n",
       "      <td>218637</td>\n",
       "      <td>Some-college</td>\n",
       "      <td>10</td>\n",
       "      <td>Married-civ-spouse</td>\n",
       "      <td>Sales</td>\n",
       "      <td>Husband</td>\n",
       "      <td>White</td>\n",
       "      <td>Male</td>\n",
       "      <td>0</td>\n",
       "      <td>2377</td>\n",
       "      <td>55</td>\n",
       "      <td>United-States</td>\n",
       "      <td>&gt;50K</td>\n",
       "      <td>Brent Howe</td>\n",
       "      <td>Brazil</td>\n",
       "    </tr>\n",
       "    <tr>\n",
       "      <th>26890</th>\n",
       "      <td>53</td>\n",
       "      <td>Self-emp-not-inc</td>\n",
       "      <td>105478</td>\n",
       "      <td>Bachelors</td>\n",
       "      <td>13</td>\n",
       "      <td>Married-civ-spouse</td>\n",
       "      <td>Exec-managerial</td>\n",
       "      <td>Husband</td>\n",
       "      <td>White</td>\n",
       "      <td>Male</td>\n",
       "      <td>0</td>\n",
       "      <td>2415</td>\n",
       "      <td>40</td>\n",
       "      <td>United-States</td>\n",
       "      <td>&gt;50K</td>\n",
       "      <td>Jessica Hickman</td>\n",
       "      <td>Brazil</td>\n",
       "    </tr>\n",
       "    <tr>\n",
       "      <th>26923</th>\n",
       "      <td>51</td>\n",
       "      <td>Private</td>\n",
       "      <td>310774</td>\n",
       "      <td>Prof-school</td>\n",
       "      <td>15</td>\n",
       "      <td>Married-civ-spouse</td>\n",
       "      <td>Prof-specialty</td>\n",
       "      <td>Husband</td>\n",
       "      <td>White</td>\n",
       "      <td>Male</td>\n",
       "      <td>0</td>\n",
       "      <td>0</td>\n",
       "      <td>50</td>\n",
       "      <td>United-States</td>\n",
       "      <td>&gt;50K</td>\n",
       "      <td>Matthew Grant</td>\n",
       "      <td>Brazil</td>\n",
       "    </tr>\n",
       "    <tr>\n",
       "      <th>30761</th>\n",
       "      <td>62</td>\n",
       "      <td>Private</td>\n",
       "      <td>81116</td>\n",
       "      <td>Some-college</td>\n",
       "      <td>10</td>\n",
       "      <td>Divorced</td>\n",
       "      <td>Adm-clerical</td>\n",
       "      <td>Not-in-family</td>\n",
       "      <td>White</td>\n",
       "      <td>Male</td>\n",
       "      <td>0</td>\n",
       "      <td>1974</td>\n",
       "      <td>40</td>\n",
       "      <td>United-States</td>\n",
       "      <td>&lt;=50K</td>\n",
       "      <td>John Sloan</td>\n",
       "      <td>Brazil</td>\n",
       "    </tr>\n",
       "  </tbody>\n",
       "</table>\n",
       "</div>"
      ],
      "text/plain": [
       "       age          workclass  final-weight      education  education-num  \\\n",
       "622     65            Private        109351            9th              5   \n",
       "1441    61                  ?        347089        HS-grad              9   \n",
       "3017    55        Federal-gov        270859      Bachelors             13   \n",
       "4970    51                  ?        203953        HS-grad              9   \n",
       "6948    60                  ?        124487   Some-college             10   \n",
       "6967    60            Private        230545        7th-8th              4   \n",
       "9303    51   Self-emp-not-inc        186845      Bachelors             13   \n",
       "10780   55          Local-gov        212448        HS-grad              9   \n",
       "11137   51            Private        174754        HS-grad              9   \n",
       "11840   54            Private        138026        HS-grad              9   \n",
       "12230   54            Private        108435        HS-grad              9   \n",
       "14239   53            Private        303462        HS-grad              9   \n",
       "14426   67            Private        274451           10th              6   \n",
       "15160   53            Private        135840      Bachelors             13   \n",
       "15494   58            Private        172618    Prof-school             15   \n",
       "15995   63            Private        188914        HS-grad              9   \n",
       "17146   66          Local-gov        140849        HS-grad              9   \n",
       "17286   59       Self-emp-inc         31359        Masters             14   \n",
       "19849   60            Private        101096      Doctorate             16   \n",
       "24511   68            Private        218637   Some-college             10   \n",
       "26890   53   Self-emp-not-inc        105478      Bachelors             13   \n",
       "26923   51            Private        310774    Prof-school             15   \n",
       "30761   62            Private         81116   Some-college             10   \n",
       "\n",
       "            marital-status          occupation     relationship    race  \\\n",
       "622                Widowed     Priv-house-serv        Unmarried   Black   \n",
       "1441    Married-civ-spouse                   ?          Husband   White   \n",
       "3017    Married-civ-spouse      Prof-specialty          Husband   White   \n",
       "4970    Married-civ-spouse                   ?          Husband   White   \n",
       "6948              Divorced                   ?    Not-in-family   White   \n",
       "6967              Divorced        Adm-clerical    Not-in-family   White   \n",
       "9303    Married-civ-spouse     Farming-fishing          Husband   White   \n",
       "10780             Divorced        Adm-clerical    Not-in-family   White   \n",
       "11137        Never-married       Other-service    Not-in-family   Black   \n",
       "11840   Married-civ-spouse        Adm-clerical             Wife   White   \n",
       "12230   Married-civ-spouse        Adm-clerical          Husband   White   \n",
       "14239   Married-civ-spouse   Machine-op-inspct          Husband   White   \n",
       "14426   Married-civ-spouse    Transport-moving          Husband   White   \n",
       "15160   Married-civ-spouse      Prof-specialty          Husband   White   \n",
       "15494   Married-civ-spouse      Prof-specialty          Husband   White   \n",
       "15995              Widowed   Machine-op-inspct   Other-relative   Black   \n",
       "17146              Widowed       Other-service    Not-in-family   White   \n",
       "17286   Married-civ-spouse     Exec-managerial          Husband   White   \n",
       "19849        Never-married      Prof-specialty    Not-in-family   White   \n",
       "24511   Married-civ-spouse               Sales          Husband   White   \n",
       "26890   Married-civ-spouse     Exec-managerial          Husband   White   \n",
       "26923   Married-civ-spouse      Prof-specialty          Husband   White   \n",
       "30761             Divorced        Adm-clerical    Not-in-family   White   \n",
       "\n",
       "           sex  capital-gain  capital-loos  hour-per-week  native-country  \\\n",
       "622     Female             0             0             24   United-States   \n",
       "1441      Male             0             0             16   United-States   \n",
       "3017      Male             0             0             40   United-States   \n",
       "4970      Male             0             0             40   United-States   \n",
       "6948    Female             0             0             40   United-States   \n",
       "6967    Female             0             0             35            Cuba   \n",
       "9303      Male             0             0              8   United-States   \n",
       "10780   Female             0             0             40   United-States   \n",
       "11137   Female             0             0             38   United-States   \n",
       "11840   Female             0             0             40   United-States   \n",
       "12230     Male             0             0             20   United-States   \n",
       "14239     Male             0             0             30   United-States   \n",
       "14426     Male             0             0             16   United-States   \n",
       "15160     Male             0             0             55   United-States   \n",
       "15494     Male             0             0             45   United-States   \n",
       "15995   Female             0             0             40           Haiti   \n",
       "17146   Female             0             0             25   United-States   \n",
       "17286     Male         15024             0             80   United-States   \n",
       "19849   Female             0             0             65   United-States   \n",
       "24511     Male             0          2377             55   United-States   \n",
       "26890     Male             0          2415             40   United-States   \n",
       "26923     Male             0             0             50   United-States   \n",
       "30761     Male             0          1974             40   United-States   \n",
       "\n",
       "       income                NOME  paises  \n",
       "622     <=50K         Brian Brown  Brazil  \n",
       "1441    <=50K      Donald Walters  Brazil  \n",
       "3017     >50K      Alyssa Simpson  Brazil  \n",
       "4970     >50K       Jessica Vance  Brazil  \n",
       "6948     >50K        Donald Gross  Brazil  \n",
       "6967    <=50K       Michael Riley  Brazil  \n",
       "9303    <=50K       Mark Peterson  Brazil  \n",
       "10780   <=50K         Rachel Diaz  Brazil  \n",
       "11137   <=50K         Sherri West  Brazil  \n",
       "11840   <=50K  Dr. William Butler  Brazil  \n",
       "12230   <=50K  Christopher Powell  Brazil  \n",
       "14239   <=50K         Duane Davis  Brazil  \n",
       "14426   <=50K        Robert Brown  Brazil  \n",
       "15160    >50K        Michelle Day  Brazil  \n",
       "15494    >50K             Eric Ho  Brazil  \n",
       "15995   <=50K   Wendy Andrews DDS  Brazil  \n",
       "17146   <=50K   Deborah Macdonald  Brazil  \n",
       "17286    >50K      Heather Wright  Brazil  \n",
       "19849    >50K     Danielle Harper  Brazil  \n",
       "24511    >50K          Brent Howe  Brazil  \n",
       "26890    >50K     Jessica Hickman  Brazil  \n",
       "26923    >50K       Matthew Grant  Brazil  \n",
       "30761   <=50K          John Sloan  Brazil  "
      ]
     },
     "execution_count": 53,
     "metadata": {},
     "output_type": "execute_result"
    }
   ],
   "source": [
    "dataset.loc[(dataset['age'] > 50 ) & (dataset['paises'] == 'Brazil')]"
   ]
  },
  {
   "cell_type": "markdown",
   "id": "c8e49865-660d-4e4b-ad9f-ec3cc90a86b3",
   "metadata": {},
   "source": [
    "## Operações matemáticas"
   ]
  },
  {
   "cell_type": "code",
   "execution_count": 64,
   "id": "d2de6df8-6e6b-4f03-a05e-8352a5979064",
   "metadata": {},
   "outputs": [
    {
     "name": "stdout",
     "output_type": "stream",
     "text": [
      "0        39\n",
      "1        50\n",
      "2        38\n",
      "3        53\n",
      "4        28\n",
      "         ..\n",
      "32556    27\n",
      "32557    40\n",
      "32558    58\n",
      "32559    22\n",
      "32560    52\n",
      "Name: age, Length: 32561, dtype: int64\n",
      "0        41\n",
      "1        52\n",
      "2        40\n",
      "3        55\n",
      "4        30\n",
      "         ..\n",
      "32556    29\n",
      "32557    42\n",
      "32558    60\n",
      "32559    24\n",
      "32560    54\n",
      "Name: age, Length: 32561, dtype: int64\n"
     ]
    }
   ],
   "source": [
    "dataset['age'] \n",
    "idade_mais_dois = dataset['age'] + 2 \n",
    "\n",
    "print(dataset['age']) \n",
    "print(idade_mais_dois)"
   ]
  },
  {
   "cell_type": "markdown",
   "id": "9690179c-9198-44bc-aba9-1eca4a7b9a82",
   "metadata": {},
   "source": [
    "## Operações com Strings"
   ]
  },
  {
   "cell_type": "code",
   "execution_count": 73,
   "id": "39c36f08-2a27-4c51-854d-41b145340b9c",
   "metadata": {},
   "outputs": [
    {
     "data": {
      "text/plain": [
       "0         True\n",
       "1        False\n",
       "2        False\n",
       "3        False\n",
       "4        False\n",
       "         ...  \n",
       "32556    False\n",
       "32557    False\n",
       "32558    False\n",
       "32559    False\n",
       "32560    False\n",
       "Name: paises, Length: 32561, dtype: bool"
      ]
     },
     "execution_count": 73,
     "metadata": {},
     "output_type": "execute_result"
    }
   ],
   "source": [
    "dataset['paises'].str.contains('Fre')"
   ]
  },
  {
   "cell_type": "code",
   "execution_count": 79,
   "id": "5a363c49-dd11-45e2-870f-1815b4b7e678",
   "metadata": {},
   "outputs": [
    {
     "data": {
      "text/plain": [
       "0        [French, Southern, Territories]\n",
       "1                             [Maldives]\n",
       "2                            [Guatemala]\n",
       "3                              [Somalia]\n",
       "4                              [Vanuatu]\n",
       "                      ...               \n",
       "32556                           [Brazil]\n",
       "32557                  [Western, Sahara]\n",
       "32558                         [Barbados]\n",
       "32559                           [Turkey]\n",
       "32560              [Wallis, and, Futuna]\n",
       "Name: paises, Length: 32561, dtype: object"
      ]
     },
     "execution_count": 79,
     "metadata": {},
     "output_type": "execute_result"
    }
   ],
   "source": [
    "dataset['paises'].str.split(' ')"
   ]
  },
  {
   "cell_type": "code",
   "execution_count": 81,
   "id": "e47572e7-7faa-425f-b71e-e02827002b21",
   "metadata": {},
   "outputs": [
    {
     "data": {
      "text/html": [
       "<div>\n",
       "<style scoped>\n",
       "    .dataframe tbody tr th:only-of-type {\n",
       "        vertical-align: middle;\n",
       "    }\n",
       "\n",
       "    .dataframe tbody tr th {\n",
       "        vertical-align: top;\n",
       "    }\n",
       "\n",
       "    .dataframe thead th {\n",
       "        text-align: right;\n",
       "    }\n",
       "</style>\n",
       "<table border=\"1\" class=\"dataframe\">\n",
       "  <thead>\n",
       "    <tr style=\"text-align: right;\">\n",
       "      <th></th>\n",
       "      <th>0</th>\n",
       "      <th>1</th>\n",
       "      <th>2</th>\n",
       "      <th>3</th>\n",
       "      <th>4</th>\n",
       "      <th>5</th>\n",
       "      <th>6</th>\n",
       "      <th>7</th>\n",
       "    </tr>\n",
       "  </thead>\n",
       "  <tbody>\n",
       "    <tr>\n",
       "      <th>0</th>\n",
       "      <td>French</td>\n",
       "      <td>Southern</td>\n",
       "      <td>Territories</td>\n",
       "      <td>None</td>\n",
       "      <td>None</td>\n",
       "      <td>None</td>\n",
       "      <td>None</td>\n",
       "      <td>None</td>\n",
       "    </tr>\n",
       "    <tr>\n",
       "      <th>1</th>\n",
       "      <td>Maldives</td>\n",
       "      <td>None</td>\n",
       "      <td>None</td>\n",
       "      <td>None</td>\n",
       "      <td>None</td>\n",
       "      <td>None</td>\n",
       "      <td>None</td>\n",
       "      <td>None</td>\n",
       "    </tr>\n",
       "    <tr>\n",
       "      <th>2</th>\n",
       "      <td>Guatemala</td>\n",
       "      <td>None</td>\n",
       "      <td>None</td>\n",
       "      <td>None</td>\n",
       "      <td>None</td>\n",
       "      <td>None</td>\n",
       "      <td>None</td>\n",
       "      <td>None</td>\n",
       "    </tr>\n",
       "    <tr>\n",
       "      <th>3</th>\n",
       "      <td>Somalia</td>\n",
       "      <td>None</td>\n",
       "      <td>None</td>\n",
       "      <td>None</td>\n",
       "      <td>None</td>\n",
       "      <td>None</td>\n",
       "      <td>None</td>\n",
       "      <td>None</td>\n",
       "    </tr>\n",
       "    <tr>\n",
       "      <th>4</th>\n",
       "      <td>Vanuatu</td>\n",
       "      <td>None</td>\n",
       "      <td>None</td>\n",
       "      <td>None</td>\n",
       "      <td>None</td>\n",
       "      <td>None</td>\n",
       "      <td>None</td>\n",
       "      <td>None</td>\n",
       "    </tr>\n",
       "    <tr>\n",
       "      <th>...</th>\n",
       "      <td>...</td>\n",
       "      <td>...</td>\n",
       "      <td>...</td>\n",
       "      <td>...</td>\n",
       "      <td>...</td>\n",
       "      <td>...</td>\n",
       "      <td>...</td>\n",
       "      <td>...</td>\n",
       "    </tr>\n",
       "    <tr>\n",
       "      <th>32556</th>\n",
       "      <td>Brazil</td>\n",
       "      <td>None</td>\n",
       "      <td>None</td>\n",
       "      <td>None</td>\n",
       "      <td>None</td>\n",
       "      <td>None</td>\n",
       "      <td>None</td>\n",
       "      <td>None</td>\n",
       "    </tr>\n",
       "    <tr>\n",
       "      <th>32557</th>\n",
       "      <td>Western</td>\n",
       "      <td>Sahara</td>\n",
       "      <td>None</td>\n",
       "      <td>None</td>\n",
       "      <td>None</td>\n",
       "      <td>None</td>\n",
       "      <td>None</td>\n",
       "      <td>None</td>\n",
       "    </tr>\n",
       "    <tr>\n",
       "      <th>32558</th>\n",
       "      <td>Barbados</td>\n",
       "      <td>None</td>\n",
       "      <td>None</td>\n",
       "      <td>None</td>\n",
       "      <td>None</td>\n",
       "      <td>None</td>\n",
       "      <td>None</td>\n",
       "      <td>None</td>\n",
       "    </tr>\n",
       "    <tr>\n",
       "      <th>32559</th>\n",
       "      <td>Turkey</td>\n",
       "      <td>None</td>\n",
       "      <td>None</td>\n",
       "      <td>None</td>\n",
       "      <td>None</td>\n",
       "      <td>None</td>\n",
       "      <td>None</td>\n",
       "      <td>None</td>\n",
       "    </tr>\n",
       "    <tr>\n",
       "      <th>32560</th>\n",
       "      <td>Wallis</td>\n",
       "      <td>and</td>\n",
       "      <td>Futuna</td>\n",
       "      <td>None</td>\n",
       "      <td>None</td>\n",
       "      <td>None</td>\n",
       "      <td>None</td>\n",
       "      <td>None</td>\n",
       "    </tr>\n",
       "  </tbody>\n",
       "</table>\n",
       "<p>32561 rows × 8 columns</p>\n",
       "</div>"
      ],
      "text/plain": [
       "               0         1            2     3     4     5     6     7\n",
       "0         French  Southern  Territories  None  None  None  None  None\n",
       "1       Maldives      None         None  None  None  None  None  None\n",
       "2      Guatemala      None         None  None  None  None  None  None\n",
       "3        Somalia      None         None  None  None  None  None  None\n",
       "4        Vanuatu      None         None  None  None  None  None  None\n",
       "...          ...       ...          ...   ...   ...   ...   ...   ...\n",
       "32556     Brazil      None         None  None  None  None  None  None\n",
       "32557    Western    Sahara         None  None  None  None  None  None\n",
       "32558   Barbados      None         None  None  None  None  None  None\n",
       "32559     Turkey      None         None  None  None  None  None  None\n",
       "32560     Wallis       and       Futuna  None  None  None  None  None\n",
       "\n",
       "[32561 rows x 8 columns]"
      ]
     },
     "execution_count": 81,
     "metadata": {},
     "output_type": "execute_result"
    }
   ],
   "source": [
    "dataset['paises'].str.split(' ', expand = True)"
   ]
  },
  {
   "cell_type": "code",
   "execution_count": 80,
   "id": "21c83b22-19a7-4806-a593-d12d9e1252a6",
   "metadata": {},
   "outputs": [
    {
     "data": {
      "text/plain": [
       "0        [, F, r, e, n, c, h,  , S, o, u, t, h, e, r, n...\n",
       "1                             [, M, a, l, d, i, v, e, s, ]\n",
       "2                          [, G, u, a, t, e, m, a, l, a, ]\n",
       "3                                [, S, o, m, a, l, i, a, ]\n",
       "4                                [, V, a, n, u, a, t, u, ]\n",
       "                               ...                        \n",
       "32556                               [, B, r, a, z, i, l, ]\n",
       "32557       [, W, e, s, t, e, r, n,  , S, a, h, a, r, a, ]\n",
       "32558                         [, B, a, r, b, a, d, o, s, ]\n",
       "32559                               [, T, u, r, k, e, y, ]\n",
       "32560    [, W, a, l, l, i, s,  , a, n, d,  , F, u, t, u...\n",
       "Name: paises, Length: 32561, dtype: object"
      ]
     },
     "execution_count": 80,
     "metadata": {},
     "output_type": "execute_result"
    }
   ],
   "source": [
    "dataset['paises'].str.split('')"
   ]
  },
  {
   "cell_type": "markdown",
   "id": "cca4f322-e330-408a-adf5-2788db047b60",
   "metadata": {},
   "source": [
    "## Agrupamentos "
   ]
  },
  {
   "cell_type": "code",
   "execution_count": 84,
   "id": "eb3fa910-5e2e-458d-9e5e-51ab796b69b2",
   "metadata": {},
   "outputs": [
    {
     "data": {
      "text/plain": [
       "1256257"
      ]
     },
     "execution_count": 84,
     "metadata": {},
     "output_type": "execute_result"
    }
   ],
   "source": [
    "dataset['age'].sum()"
   ]
  },
  {
   "cell_type": "code",
   "execution_count": 85,
   "id": "15d46ce8-ec0a-4e6a-88cf-c50e43996d47",
   "metadata": {},
   "outputs": [
    {
     "data": {
      "text/plain": [
       "38.58164675532078"
      ]
     },
     "execution_count": 85,
     "metadata": {},
     "output_type": "execute_result"
    }
   ],
   "source": [
    "dataset['age'].mean()"
   ]
  },
  {
   "cell_type": "code",
   "execution_count": 86,
   "id": "9037dcb0-4279-409c-a80f-7116d22d04c7",
   "metadata": {},
   "outputs": [
    {
     "data": {
      "text/plain": [
       "37.0"
      ]
     },
     "execution_count": 86,
     "metadata": {},
     "output_type": "execute_result"
    }
   ],
   "source": [
    "dataset['age'].median()"
   ]
  },
  {
   "cell_type": "code",
   "execution_count": 88,
   "id": "368c3bc8-6f5d-404a-a179-24dee537ea81",
   "metadata": {},
   "outputs": [
    {
     "data": {
      "text/plain": [
       "13.640432553581146"
      ]
     },
     "execution_count": 88,
     "metadata": {},
     "output_type": "execute_result"
    }
   ],
   "source": [
    "dataset['age'].std()"
   ]
  },
  {
   "cell_type": "code",
   "execution_count": 87,
   "id": "1280fa61-9b37-41b2-8fa5-85434b2fe3df",
   "metadata": {},
   "outputs": [
    {
     "data": {
      "text/plain": [
       "186.06140024879625"
      ]
     },
     "execution_count": 87,
     "metadata": {},
     "output_type": "execute_result"
    }
   ],
   "source": [
    "dataset['age'].var()"
   ]
  },
  {
   "cell_type": "code",
   "execution_count": 103,
   "id": "93e36f12-06b4-41b3-850c-fcde6768673f",
   "metadata": {},
   "outputs": [
    {
     "data": {
      "text/plain": [
       "0.25    28.0\n",
       "0.50    37.0\n",
       "0.75    48.0\n",
       "Name: age, dtype: float64"
      ]
     },
     "execution_count": 103,
     "metadata": {},
     "output_type": "execute_result"
    }
   ],
   "source": [
    "dataset['age'].quantile([0.25, 0.50, 0.75])"
   ]
  },
  {
   "cell_type": "markdown",
   "id": "b06dbe65-e65b-422e-b5f8-81c009a97a86",
   "metadata": {},
   "source": [
    "## Agrupmento categórico"
   ]
  },
  {
   "cell_type": "code",
   "execution_count": 104,
   "id": "53d754eb-b378-4193-beb1-367639a4155c",
   "metadata": {},
   "outputs": [
    {
     "data": {
      "text/plain": [
       "paises\n",
       "Congo               292\n",
       "Korea               267\n",
       "Paraguay            175\n",
       "Montserrat          167\n",
       "Iran                165\n",
       "                   ... \n",
       "Saint Barthelemy    109\n",
       "Benin               109\n",
       "Bulgaria            108\n",
       "Seychelles          105\n",
       "Honduras            103\n",
       "Name: count, Length: 243, dtype: int64"
      ]
     },
     "execution_count": 104,
     "metadata": {},
     "output_type": "execute_result"
    }
   ],
   "source": [
    "dataset['paises'].value_counts() "
   ]
  },
  {
   "cell_type": "code",
   "execution_count": 107,
   "id": "3655d943-63b2-4738-9737-906498e2a03e",
   "metadata": {},
   "outputs": [
    {
     "data": {
      "text/plain": [
       "paises\n",
       "Congo               0.008968\n",
       "Korea               0.008200\n",
       "Paraguay            0.005375\n",
       "Montserrat          0.005129\n",
       "Iran                0.005067\n",
       "                      ...   \n",
       "Saint Barthelemy    0.003348\n",
       "Benin               0.003348\n",
       "Bulgaria            0.003317\n",
       "Seychelles          0.003225\n",
       "Honduras            0.003163\n",
       "Name: proportion, Length: 243, dtype: float64"
      ]
     },
     "execution_count": 107,
     "metadata": {},
     "output_type": "execute_result"
    }
   ],
   "source": [
    "dataset['paises'].value_counts(normalize  = True)"
   ]
  },
  {
   "cell_type": "code",
   "execution_count": 108,
   "id": "26562048-f00d-4f2c-be01-9355ea093fd6",
   "metadata": {
    "scrolled": true
   },
   "outputs": [
    {
     "data": {
      "text/plain": [
       "array(['French Southern Territories', 'Maldives', 'Guatemala', 'Somalia',\n",
       "       'Vanuatu', 'Serbia', 'Mexico', 'Cyprus', 'Cameroon',\n",
       "       'Antarctica (the territory South of 60 deg S)', 'Congo',\n",
       "       'Swaziland', 'Cocos (Keeling) Islands', 'Tonga', 'Azerbaijan',\n",
       "       'Chad', 'Japan', 'Colombia', 'Czech Republic', 'Poland',\n",
       "       'United States Minor Outlying Islands', 'San Marino', 'Paraguay',\n",
       "       'Cambodia', 'Botswana', 'Ecuador', 'Comoros', 'Micronesia',\n",
       "       'Cook Islands', 'Belize', 'Mozambique', 'Iran', 'Kazakhstan',\n",
       "       'Papua New Guinea', 'Rwanda', 'Moldova', 'Madagascar',\n",
       "       'Slovakia (Slovak Republic)', 'Portugal', 'Samoa', 'Saint Lucia',\n",
       "       'Malta', 'Morocco', 'Puerto Rico', 'Jersey', 'Chile', 'Lebanon',\n",
       "       'Gibraltar', 'Greenland', 'New Zealand', 'Macao', 'Liechtenstein',\n",
       "       'Benin', 'Iceland', 'Liberia', 'Georgia', 'Austria', 'Armenia',\n",
       "       'Wallis and Futuna', 'El Salvador', 'Montserrat', 'Oman',\n",
       "       'Algeria', 'Guinea-Bissau', 'Bolivia', 'Netherlands Antilles',\n",
       "       'Equatorial Guinea', 'Niue', 'Zimbabwe', 'Burkina Faso',\n",
       "       'Saint Pierre and Miquelon', 'Barbados', 'Canada', 'Togo',\n",
       "       'Sweden', 'North Macedonia', 'Western Sahara', 'Tajikistan',\n",
       "       'American Samoa', 'Eritrea', 'Nauru', 'Syrian Arab Republic',\n",
       "       'Netherlands', 'Lithuania', 'South Africa', 'Reunion', 'Slovenia',\n",
       "       'Pitcairn Islands', 'Taiwan', 'Zambia', 'Jordan', 'New Caledonia',\n",
       "       'Cayman Islands', 'Saint Barthelemy', 'Lesotho', 'France',\n",
       "       'French Polynesia', 'Kenya', 'Afghanistan', 'Trinidad and Tobago',\n",
       "       'South Georgia and the South Sandwich Islands', 'Thailand',\n",
       "       'Brunei Darussalam', 'Uruguay', 'Luxembourg', 'Argentina',\n",
       "       'Bosnia and Herzegovina', 'Panama', 'Gabon', 'Myanmar',\n",
       "       'Central African Republic', 'Anguilla', 'Norfolk Island',\n",
       "       'Bermuda', 'Martinique', 'United States of America',\n",
       "       'Dominican Republic', 'Aruba', 'Palestinian Territory', 'Peru',\n",
       "       'Senegal', 'India', 'Nicaragua', 'Belarus', 'China',\n",
       "       'Marshall Islands', 'Angola', 'Mauritius', 'Qatar', 'Estonia',\n",
       "       'Namibia', 'Ireland', 'Isle of Man', 'Solomon Islands', 'Palau',\n",
       "       'Holy See (Vatican City State)', 'Grenada', 'Hong Kong',\n",
       "       'British Indian Ocean Territory (Chagos Archipelago)', 'Egypt',\n",
       "       'Antigua and Barbuda', \"Lao People's Democratic Republic\",\n",
       "       'Bahamas', 'Iraq', 'Libyan Arab Jamahiriya', 'Saint Helena',\n",
       "       'Greece', 'Venezuela', 'Turkey', 'Saint Martin', 'Tanzania',\n",
       "       'Russian Federation', 'Romania', 'Sri Lanka', 'Spain', 'Nepal',\n",
       "       'Niger', 'Fiji', 'French Guiana', 'Croatia', 'Tunisia',\n",
       "       'Turkmenistan', 'Bouvet Island (Bouvetoya)', 'Malaysia', 'Italy',\n",
       "       'Bangladesh', 'Korea', 'Turks and Caicos Islands', 'Suriname',\n",
       "       'Mayotte', 'Faroe Islands', 'Tokelau', 'Ghana', 'Saudi Arabia',\n",
       "       'Dominica', 'Denmark', 'Yemen', 'Northern Mariana Islands',\n",
       "       'Hungary', 'United States Virgin Islands', 'Guyana', 'Guinea',\n",
       "       'Seychelles', 'Montenegro', 'Tuvalu', 'Kiribati', 'Monaco',\n",
       "       'British Virgin Islands', 'Nigeria', \"Cote d'Ivoire\", 'Israel',\n",
       "       'Haiti', 'Belgium', 'Cape Verde',\n",
       "       'Saint Vincent and the Grenadines', 'Switzerland', 'Uzbekistan',\n",
       "       'Malawi', 'Finland', 'Mongolia', 'Saint Kitts and Nevis', 'Gambia',\n",
       "       'Vietnam', 'Timor-Leste', 'Australia', 'Latvia', 'Mali',\n",
       "       'Kyrgyz Republic', 'Uganda', 'Sudan', 'Costa Rica', 'Brazil',\n",
       "       'Philippines', 'Sao Tome and Principe', 'Burundi',\n",
       "       'Svalbard & Jan Mayen Islands', 'Indonesia', 'Sierra Leone',\n",
       "       'Jamaica', 'Christmas Island', 'Cuba', 'Norway',\n",
       "       'Heard Island and McDonald Islands', 'Andorra', 'Pakistan',\n",
       "       'United Arab Emirates', 'United Kingdom', 'Ukraine', 'Germany',\n",
       "       'Mauritania', 'Guam', 'Falkland Islands (Malvinas)', 'Bulgaria',\n",
       "       'Kuwait', 'Guadeloupe', 'Djibouti', 'Guernsey', 'Bhutan',\n",
       "       'Honduras', 'Bahrain', 'Albania', 'Singapore', 'Ethiopia'],\n",
       "      dtype=object)"
      ]
     },
     "execution_count": 108,
     "metadata": {},
     "output_type": "execute_result"
    }
   ],
   "source": [
    "dataset['paises'].unique()"
   ]
  },
  {
   "cell_type": "code",
   "execution_count": 110,
   "id": "f80821b6-6a01-4cf1-8e60-1ee145a3e83c",
   "metadata": {},
   "outputs": [
    {
     "data": {
      "text/plain": [
       "243"
      ]
     },
     "execution_count": 110,
     "metadata": {},
     "output_type": "execute_result"
    }
   ],
   "source": [
    "dataset['paises'].nunique()"
   ]
  },
  {
   "cell_type": "markdown",
   "id": "94f37abd-97bf-43ff-a9a5-d368bacfd0c8",
   "metadata": {},
   "source": [
    "## Valores Faltantes"
   ]
  },
  {
   "cell_type": "code",
   "execution_count": 124,
   "id": "a057b1e9-426e-4b79-b8fd-5d8277303154",
   "metadata": {},
   "outputs": [],
   "source": [
    "serie_faltante = pd.Series([1,2,3,np.nan,4,5, np.nan])"
   ]
  },
  {
   "cell_type": "code",
   "execution_count": 125,
   "id": "f133d030-daf0-4cfe-9104-1058e35d8a19",
   "metadata": {
    "scrolled": true
   },
   "outputs": [
    {
     "data": {
      "text/plain": [
       "0    False\n",
       "1    False\n",
       "2    False\n",
       "3     True\n",
       "4    False\n",
       "5    False\n",
       "6     True\n",
       "dtype: bool"
      ]
     },
     "execution_count": 125,
     "metadata": {},
     "output_type": "execute_result"
    }
   ],
   "source": [
    "serie_faltante.isna()"
   ]
  },
  {
   "cell_type": "code",
   "execution_count": 126,
   "id": "5de51528-c29b-4035-8979-8716f6cd56b7",
   "metadata": {},
   "outputs": [
    {
     "data": {
      "text/plain": [
       "2"
      ]
     },
     "execution_count": 126,
     "metadata": {},
     "output_type": "execute_result"
    }
   ],
   "source": [
    "serie_faltante.isna().sum()"
   ]
  },
  {
   "cell_type": "code",
   "execution_count": 127,
   "id": "2c9b6bb3-72e6-44c2-b11a-c48e7837e060",
   "metadata": {},
   "outputs": [
    {
     "data": {
      "text/plain": [
       "NaN    2\n",
       "1.0    1\n",
       "2.0    1\n",
       "3.0    1\n",
       "4.0    1\n",
       "5.0    1\n",
       "Name: count, dtype: int64"
      ]
     },
     "execution_count": 127,
     "metadata": {},
     "output_type": "execute_result"
    }
   ],
   "source": [
    "serie_faltante.value_counts(dropna=False)"
   ]
  },
  {
   "cell_type": "markdown",
   "id": "240af64d-f9cd-499e-ae52-e7bfc60a5648",
   "metadata": {},
   "source": [
    "### preenchimento"
   ]
  },
  {
   "cell_type": "code",
   "execution_count": 128,
   "id": "b75cd56a-5710-4b34-aba3-e6db18017a5f",
   "metadata": {},
   "outputs": [
    {
     "data": {
      "text/plain": [
       "0    1.0\n",
       "1    2.0\n",
       "2    3.0\n",
       "3    3.0\n",
       "4    4.0\n",
       "5    5.0\n",
       "6    3.0\n",
       "dtype: float64"
      ]
     },
     "execution_count": 128,
     "metadata": {},
     "output_type": "execute_result"
    }
   ],
   "source": [
    "serie_faltante.fillna(serie_faltante.mean()) ## método mais adequado"
   ]
  },
  {
   "cell_type": "code",
   "execution_count": 119,
   "id": "c663670f-5588-45aa-93fa-75c1ff48cf59",
   "metadata": {},
   "outputs": [
    {
     "data": {
      "text/plain": [
       "0    1.0\n",
       "1    2.0\n",
       "2    3.0\n",
       "3    0.0\n",
       "4    4.0\n",
       "5    5.0\n",
       "6    0.0\n",
       "dtype: float64"
      ]
     },
     "execution_count": 119,
     "metadata": {},
     "output_type": "execute_result"
    }
   ],
   "source": [
    "serie_faltante.fillna(0)"
   ]
  },
  {
   "cell_type": "code",
   "execution_count": 122,
   "id": "6fb434e9-61b1-4f91-829a-7b2c05f2a0be",
   "metadata": {},
   "outputs": [
    {
     "data": {
      "text/plain": [
       "0    1.0\n",
       "1    2.0\n",
       "2    3.0\n",
       "4    4.0\n",
       "5    5.0\n",
       "dtype: float64"
      ]
     },
     "execution_count": 122,
     "metadata": {},
     "output_type": "execute_result"
    }
   ],
   "source": [
    "serie_faltante.dropna()"
   ]
  },
  {
   "cell_type": "code",
   "execution_count": 136,
   "id": "5605852c-5116-423d-81c4-a5578c4d9f4a",
   "metadata": {},
   "outputs": [],
   "source": [
    "serie_categorica = pd.Series(['Uva','Banana','Uva',np.nan,'Melancia',np.nan])"
   ]
  },
  {
   "cell_type": "code",
   "execution_count": 141,
   "id": "f3f0843d-6c99-4295-afcf-647b97df7298",
   "metadata": {},
   "outputs": [
    {
     "data": {
      "text/plain": [
       "0         Uva\n",
       "1      Banana\n",
       "2         Uva\n",
       "3         Uva\n",
       "4    Melancia\n",
       "5         Uva\n",
       "dtype: object"
      ]
     },
     "execution_count": 141,
     "metadata": {},
     "output_type": "execute_result"
    }
   ],
   "source": [
    "serie_categorica.fillna(serie_categorica.mode().iloc[0])"
   ]
  },
  {
   "cell_type": "markdown",
   "id": "60be4ca9-0bad-4d60-aab4-f63c55fea8f1",
   "metadata": {},
   "source": [
    "## Funções"
   ]
  },
  {
   "cell_type": "code",
   "execution_count": 143,
   "id": "dc2f3564-5164-4fd1-8f25-accff8384c1f",
   "metadata": {},
   "outputs": [
    {
     "data": {
      "text/plain": [
       "106      17\n",
       "209      17\n",
       "262      17\n",
       "271      17\n",
       "335      17\n",
       "         ..\n",
       "31772    17\n",
       "31864    17\n",
       "31959    17\n",
       "32282    17\n",
       "32447    17\n",
       "Name: age, Length: 395, dtype: int64"
      ]
     },
     "execution_count": 143,
     "metadata": {},
     "output_type": "execute_result"
    }
   ],
   "source": [
    "dataset['age'].loc[dataset['age'] < 18]"
   ]
  },
  {
   "cell_type": "code",
   "execution_count": 165,
   "id": "5d11ba22-ab88-433c-8ee9-025490994c4b",
   "metadata": {},
   "outputs": [],
   "source": [
    "def corrige_idade(idade):\n",
    "    if idade < 18:\n",
    "        idade = 18 \n",
    "    return idade"
   ]
  },
  {
   "cell_type": "code",
   "execution_count": 166,
   "id": "d29d6751-bc35-4326-aef2-599a9a7075bb",
   "metadata": {},
   "outputs": [],
   "source": [
    "dataset['age'] = dataset['age'].apply(corrige_idade)"
   ]
  },
  {
   "cell_type": "code",
   "execution_count": 167,
   "id": "2de80734-4237-4ae4-a818-1d680fa10f3b",
   "metadata": {},
   "outputs": [
    {
     "data": {
      "text/plain": [
       "Series([], Name: age, dtype: int64)"
      ]
     },
     "execution_count": 167,
     "metadata": {},
     "output_type": "execute_result"
    }
   ],
   "source": [
    "dataset['age'].loc[dataset['age'] < 18]"
   ]
  },
  {
   "cell_type": "markdown",
   "id": "16190ec9-42a1-4416-bff3-6ccac34c11cd",
   "metadata": {},
   "source": [
    "### lambda"
   ]
  },
  {
   "cell_type": "code",
   "execution_count": 163,
   "id": "3424ddc5-0e9e-4ccc-a720-023c6a215185",
   "metadata": {},
   "outputs": [],
   "source": [
    "dataset['age'] = dataset['age'].apply(lambda x: 17 if x == 18 else x)"
   ]
  },
  {
   "cell_type": "code",
   "execution_count": 164,
   "id": "242fe811-8390-4a82-a547-4e39b3ed7eaa",
   "metadata": {},
   "outputs": [
    {
     "data": {
      "text/plain": [
       "51       17\n",
       "78       17\n",
       "80       17\n",
       "106      17\n",
       "168      17\n",
       "         ..\n",
       "32345    17\n",
       "32392    17\n",
       "32443    17\n",
       "32447    17\n",
       "32496    17\n",
       "Name: age, Length: 945, dtype: int64"
      ]
     },
     "execution_count": 164,
     "metadata": {},
     "output_type": "execute_result"
    }
   ],
   "source": [
    "dataset['age'].loc[dataset['age'] < 18]"
   ]
  },
  {
   "cell_type": "code",
   "execution_count": 185,
   "id": "a7c7400a-c064-42a5-9096-63ed837015d9",
   "metadata": {},
   "outputs": [
    {
     "ename": "TypeError",
     "evalue": "'<=' not supported between instances of 'str' and 'int'",
     "output_type": "error",
     "traceback": [
      "\u001b[0;31m---------------------------------------------------------------------------\u001b[0m",
      "\u001b[0;31mTypeError\u001b[0m                                 Traceback (most recent call last)",
      "Cell \u001b[0;32mIn[185], line 1\u001b[0m\n\u001b[0;32m----> 1\u001b[0m dataset[\u001b[38;5;124m'\u001b[39m\u001b[38;5;124mage\u001b[39m\u001b[38;5;124m'\u001b[39m] \u001b[38;5;241m=\u001b[39m dataset[\u001b[38;5;124m'\u001b[39m\u001b[38;5;124mage\u001b[39m\u001b[38;5;124m'\u001b[39m]\u001b[38;5;241m.\u001b[39mapply(\u001b[38;5;28;01mlambda\u001b[39;00m x: \u001b[38;5;241m0\u001b[39m \u001b[38;5;28;01mif\u001b[39;00m x \u001b[38;5;241m<\u001b[39m\u001b[38;5;241m=\u001b[39m \u001b[38;5;241m40\u001b[39m \u001b[38;5;28;01melse\u001b[39;00m x)\n",
      "File \u001b[0;32m~/anaconda3/lib/python3.11/site-packages/pandas/core/series.py:4924\u001b[0m, in \u001b[0;36mSeries.apply\u001b[0;34m(self, func, convert_dtype, args, by_row, **kwargs)\u001b[0m\n\u001b[1;32m   4789\u001b[0m \u001b[38;5;28;01mdef\u001b[39;00m \u001b[38;5;21mapply\u001b[39m(\n\u001b[1;32m   4790\u001b[0m     \u001b[38;5;28mself\u001b[39m,\n\u001b[1;32m   4791\u001b[0m     func: AggFuncType,\n\u001b[0;32m   (...)\u001b[0m\n\u001b[1;32m   4796\u001b[0m     \u001b[38;5;241m*\u001b[39m\u001b[38;5;241m*\u001b[39mkwargs,\n\u001b[1;32m   4797\u001b[0m ) \u001b[38;5;241m-\u001b[39m\u001b[38;5;241m>\u001b[39m DataFrame \u001b[38;5;241m|\u001b[39m Series:\n\u001b[1;32m   4798\u001b[0m \u001b[38;5;250m    \u001b[39m\u001b[38;5;124;03m\"\"\"\u001b[39;00m\n\u001b[1;32m   4799\u001b[0m \u001b[38;5;124;03m    Invoke function on values of Series.\u001b[39;00m\n\u001b[1;32m   4800\u001b[0m \n\u001b[0;32m   (...)\u001b[0m\n\u001b[1;32m   4915\u001b[0m \u001b[38;5;124;03m    dtype: float64\u001b[39;00m\n\u001b[1;32m   4916\u001b[0m \u001b[38;5;124;03m    \"\"\"\u001b[39;00m\n\u001b[1;32m   4917\u001b[0m     \u001b[38;5;28;01mreturn\u001b[39;00m SeriesApply(\n\u001b[1;32m   4918\u001b[0m         \u001b[38;5;28mself\u001b[39m,\n\u001b[1;32m   4919\u001b[0m         func,\n\u001b[1;32m   4920\u001b[0m         convert_dtype\u001b[38;5;241m=\u001b[39mconvert_dtype,\n\u001b[1;32m   4921\u001b[0m         by_row\u001b[38;5;241m=\u001b[39mby_row,\n\u001b[1;32m   4922\u001b[0m         args\u001b[38;5;241m=\u001b[39margs,\n\u001b[1;32m   4923\u001b[0m         kwargs\u001b[38;5;241m=\u001b[39mkwargs,\n\u001b[0;32m-> 4924\u001b[0m     )\u001b[38;5;241m.\u001b[39mapply()\n",
      "File \u001b[0;32m~/anaconda3/lib/python3.11/site-packages/pandas/core/apply.py:1427\u001b[0m, in \u001b[0;36mSeriesApply.apply\u001b[0;34m(self)\u001b[0m\n\u001b[1;32m   1424\u001b[0m     \u001b[38;5;28;01mreturn\u001b[39;00m \u001b[38;5;28mself\u001b[39m\u001b[38;5;241m.\u001b[39mapply_compat()\n\u001b[1;32m   1426\u001b[0m \u001b[38;5;66;03m# self.func is Callable\u001b[39;00m\n\u001b[0;32m-> 1427\u001b[0m \u001b[38;5;28;01mreturn\u001b[39;00m \u001b[38;5;28mself\u001b[39m\u001b[38;5;241m.\u001b[39mapply_standard()\n",
      "File \u001b[0;32m~/anaconda3/lib/python3.11/site-packages/pandas/core/apply.py:1507\u001b[0m, in \u001b[0;36mSeriesApply.apply_standard\u001b[0;34m(self)\u001b[0m\n\u001b[1;32m   1501\u001b[0m \u001b[38;5;66;03m# row-wise access\u001b[39;00m\n\u001b[1;32m   1502\u001b[0m \u001b[38;5;66;03m# apply doesn't have a `na_action` keyword and for backward compat reasons\u001b[39;00m\n\u001b[1;32m   1503\u001b[0m \u001b[38;5;66;03m# we need to give `na_action=\"ignore\"` for categorical data.\u001b[39;00m\n\u001b[1;32m   1504\u001b[0m \u001b[38;5;66;03m# TODO: remove the `na_action=\"ignore\"` when that default has been changed in\u001b[39;00m\n\u001b[1;32m   1505\u001b[0m \u001b[38;5;66;03m#  Categorical (GH51645).\u001b[39;00m\n\u001b[1;32m   1506\u001b[0m action \u001b[38;5;241m=\u001b[39m \u001b[38;5;124m\"\u001b[39m\u001b[38;5;124mignore\u001b[39m\u001b[38;5;124m\"\u001b[39m \u001b[38;5;28;01mif\u001b[39;00m \u001b[38;5;28misinstance\u001b[39m(obj\u001b[38;5;241m.\u001b[39mdtype, CategoricalDtype) \u001b[38;5;28;01melse\u001b[39;00m \u001b[38;5;28;01mNone\u001b[39;00m\n\u001b[0;32m-> 1507\u001b[0m mapped \u001b[38;5;241m=\u001b[39m obj\u001b[38;5;241m.\u001b[39m_map_values(\n\u001b[1;32m   1508\u001b[0m     mapper\u001b[38;5;241m=\u001b[39mcurried, na_action\u001b[38;5;241m=\u001b[39maction, convert\u001b[38;5;241m=\u001b[39m\u001b[38;5;28mself\u001b[39m\u001b[38;5;241m.\u001b[39mconvert_dtype\n\u001b[1;32m   1509\u001b[0m )\n\u001b[1;32m   1511\u001b[0m \u001b[38;5;28;01mif\u001b[39;00m \u001b[38;5;28mlen\u001b[39m(mapped) \u001b[38;5;129;01mand\u001b[39;00m \u001b[38;5;28misinstance\u001b[39m(mapped[\u001b[38;5;241m0\u001b[39m], ABCSeries):\n\u001b[1;32m   1512\u001b[0m     \u001b[38;5;66;03m# GH#43986 Need to do list(mapped) in order to get treated as nested\u001b[39;00m\n\u001b[1;32m   1513\u001b[0m     \u001b[38;5;66;03m#  See also GH#25959 regarding EA support\u001b[39;00m\n\u001b[1;32m   1514\u001b[0m     \u001b[38;5;28;01mreturn\u001b[39;00m obj\u001b[38;5;241m.\u001b[39m_constructor_expanddim(\u001b[38;5;28mlist\u001b[39m(mapped), index\u001b[38;5;241m=\u001b[39mobj\u001b[38;5;241m.\u001b[39mindex)\n",
      "File \u001b[0;32m~/anaconda3/lib/python3.11/site-packages/pandas/core/base.py:921\u001b[0m, in \u001b[0;36mIndexOpsMixin._map_values\u001b[0;34m(self, mapper, na_action, convert)\u001b[0m\n\u001b[1;32m    918\u001b[0m \u001b[38;5;28;01mif\u001b[39;00m \u001b[38;5;28misinstance\u001b[39m(arr, ExtensionArray):\n\u001b[1;32m    919\u001b[0m     \u001b[38;5;28;01mreturn\u001b[39;00m arr\u001b[38;5;241m.\u001b[39mmap(mapper, na_action\u001b[38;5;241m=\u001b[39mna_action)\n\u001b[0;32m--> 921\u001b[0m \u001b[38;5;28;01mreturn\u001b[39;00m algorithms\u001b[38;5;241m.\u001b[39mmap_array(arr, mapper, na_action\u001b[38;5;241m=\u001b[39mna_action, convert\u001b[38;5;241m=\u001b[39mconvert)\n",
      "File \u001b[0;32m~/anaconda3/lib/python3.11/site-packages/pandas/core/algorithms.py:1743\u001b[0m, in \u001b[0;36mmap_array\u001b[0;34m(arr, mapper, na_action, convert)\u001b[0m\n\u001b[1;32m   1741\u001b[0m values \u001b[38;5;241m=\u001b[39m arr\u001b[38;5;241m.\u001b[39mastype(\u001b[38;5;28mobject\u001b[39m, copy\u001b[38;5;241m=\u001b[39m\u001b[38;5;28;01mFalse\u001b[39;00m)\n\u001b[1;32m   1742\u001b[0m \u001b[38;5;28;01mif\u001b[39;00m na_action \u001b[38;5;129;01mis\u001b[39;00m \u001b[38;5;28;01mNone\u001b[39;00m:\n\u001b[0;32m-> 1743\u001b[0m     \u001b[38;5;28;01mreturn\u001b[39;00m lib\u001b[38;5;241m.\u001b[39mmap_infer(values, mapper, convert\u001b[38;5;241m=\u001b[39mconvert)\n\u001b[1;32m   1744\u001b[0m \u001b[38;5;28;01melse\u001b[39;00m:\n\u001b[1;32m   1745\u001b[0m     \u001b[38;5;28;01mreturn\u001b[39;00m lib\u001b[38;5;241m.\u001b[39mmap_infer_mask(\n\u001b[1;32m   1746\u001b[0m         values, mapper, mask\u001b[38;5;241m=\u001b[39misna(values)\u001b[38;5;241m.\u001b[39mview(np\u001b[38;5;241m.\u001b[39muint8), convert\u001b[38;5;241m=\u001b[39mconvert\n\u001b[1;32m   1747\u001b[0m     )\n",
      "File \u001b[0;32mlib.pyx:2972\u001b[0m, in \u001b[0;36mpandas._libs.lib.map_infer\u001b[0;34m()\u001b[0m\n",
      "Cell \u001b[0;32mIn[185], line 1\u001b[0m, in \u001b[0;36m<lambda>\u001b[0;34m(x)\u001b[0m\n\u001b[0;32m----> 1\u001b[0m dataset[\u001b[38;5;124m'\u001b[39m\u001b[38;5;124mage\u001b[39m\u001b[38;5;124m'\u001b[39m] \u001b[38;5;241m=\u001b[39m dataset[\u001b[38;5;124m'\u001b[39m\u001b[38;5;124mage\u001b[39m\u001b[38;5;124m'\u001b[39m]\u001b[38;5;241m.\u001b[39mapply(\u001b[38;5;28;01mlambda\u001b[39;00m x: \u001b[38;5;241m0\u001b[39m \u001b[38;5;28;01mif\u001b[39;00m x \u001b[38;5;241m<\u001b[39m\u001b[38;5;241m=\u001b[39m \u001b[38;5;241m40\u001b[39m \u001b[38;5;28;01melse\u001b[39;00m x)\n",
      "\u001b[0;31mTypeError\u001b[0m: '<=' not supported between instances of 'str' and 'int'"
     ]
    }
   ],
   "source": [
    "dataset['age'] = dataset['age'].apply(lambda x: 0 if x <= 40 else x)"
   ]
  },
  {
   "cell_type": "code",
   "execution_count": null,
   "id": "36fc2be9-ac5b-4996-ab0d-cab0485fbaab",
   "metadata": {},
   "outputs": [],
   "source": []
  },
  {
   "cell_type": "code",
   "execution_count": 172,
   "id": "fa6f2db1-9f05-42e7-aeb5-a634f7529907",
   "metadata": {},
   "outputs": [
    {
     "ename": "TypeError",
     "evalue": "'>' not supported between instances of 'str' and 'int'",
     "output_type": "error",
     "traceback": [
      "\u001b[0;31m---------------------------------------------------------------------------\u001b[0m",
      "\u001b[0;31mTypeError\u001b[0m                                 Traceback (most recent call last)",
      "Cell \u001b[0;32mIn[172], line 1\u001b[0m\n\u001b[0;32m----> 1\u001b[0m dataset[\u001b[38;5;124m'\u001b[39m\u001b[38;5;124mage\u001b[39m\u001b[38;5;124m'\u001b[39m]\u001b[38;5;241m.\u001b[39mloc[dataset[\u001b[38;5;124m'\u001b[39m\u001b[38;5;124mage\u001b[39m\u001b[38;5;124m'\u001b[39m] \u001b[38;5;241m>\u001b[39m \u001b[38;5;241m80\u001b[39m]\n",
      "File \u001b[0;32m~/anaconda3/lib/python3.11/site-packages/pandas/core/ops/common.py:76\u001b[0m, in \u001b[0;36m_unpack_zerodim_and_defer.<locals>.new_method\u001b[0;34m(self, other)\u001b[0m\n\u001b[1;32m     72\u001b[0m             \u001b[38;5;28;01mreturn\u001b[39;00m \u001b[38;5;28mNotImplemented\u001b[39m\n\u001b[1;32m     74\u001b[0m other \u001b[38;5;241m=\u001b[39m item_from_zerodim(other)\n\u001b[0;32m---> 76\u001b[0m \u001b[38;5;28;01mreturn\u001b[39;00m method(\u001b[38;5;28mself\u001b[39m, other)\n",
      "File \u001b[0;32m~/anaconda3/lib/python3.11/site-packages/pandas/core/arraylike.py:56\u001b[0m, in \u001b[0;36mOpsMixin.__gt__\u001b[0;34m(self, other)\u001b[0m\n\u001b[1;32m     54\u001b[0m \u001b[38;5;129m@unpack_zerodim_and_defer\u001b[39m(\u001b[38;5;124m\"\u001b[39m\u001b[38;5;124m__gt__\u001b[39m\u001b[38;5;124m\"\u001b[39m)\n\u001b[1;32m     55\u001b[0m \u001b[38;5;28;01mdef\u001b[39;00m \u001b[38;5;21m__gt__\u001b[39m(\u001b[38;5;28mself\u001b[39m, other):\n\u001b[0;32m---> 56\u001b[0m     \u001b[38;5;28;01mreturn\u001b[39;00m \u001b[38;5;28mself\u001b[39m\u001b[38;5;241m.\u001b[39m_cmp_method(other, operator\u001b[38;5;241m.\u001b[39mgt)\n",
      "File \u001b[0;32m~/anaconda3/lib/python3.11/site-packages/pandas/core/series.py:6119\u001b[0m, in \u001b[0;36mSeries._cmp_method\u001b[0;34m(self, other, op)\u001b[0m\n\u001b[1;32m   6116\u001b[0m lvalues \u001b[38;5;241m=\u001b[39m \u001b[38;5;28mself\u001b[39m\u001b[38;5;241m.\u001b[39m_values\n\u001b[1;32m   6117\u001b[0m rvalues \u001b[38;5;241m=\u001b[39m extract_array(other, extract_numpy\u001b[38;5;241m=\u001b[39m\u001b[38;5;28;01mTrue\u001b[39;00m, extract_range\u001b[38;5;241m=\u001b[39m\u001b[38;5;28;01mTrue\u001b[39;00m)\n\u001b[0;32m-> 6119\u001b[0m res_values \u001b[38;5;241m=\u001b[39m ops\u001b[38;5;241m.\u001b[39mcomparison_op(lvalues, rvalues, op)\n\u001b[1;32m   6121\u001b[0m \u001b[38;5;28;01mreturn\u001b[39;00m \u001b[38;5;28mself\u001b[39m\u001b[38;5;241m.\u001b[39m_construct_result(res_values, name\u001b[38;5;241m=\u001b[39mres_name)\n",
      "File \u001b[0;32m~/anaconda3/lib/python3.11/site-packages/pandas/core/ops/array_ops.py:344\u001b[0m, in \u001b[0;36mcomparison_op\u001b[0;34m(left, right, op)\u001b[0m\n\u001b[1;32m    341\u001b[0m     \u001b[38;5;28;01mreturn\u001b[39;00m invalid_comparison(lvalues, rvalues, op)\n\u001b[1;32m    343\u001b[0m \u001b[38;5;28;01melif\u001b[39;00m lvalues\u001b[38;5;241m.\u001b[39mdtype \u001b[38;5;241m==\u001b[39m \u001b[38;5;28mobject\u001b[39m \u001b[38;5;129;01mor\u001b[39;00m \u001b[38;5;28misinstance\u001b[39m(rvalues, \u001b[38;5;28mstr\u001b[39m):\n\u001b[0;32m--> 344\u001b[0m     res_values \u001b[38;5;241m=\u001b[39m comp_method_OBJECT_ARRAY(op, lvalues, rvalues)\n\u001b[1;32m    346\u001b[0m \u001b[38;5;28;01melse\u001b[39;00m:\n\u001b[1;32m    347\u001b[0m     res_values \u001b[38;5;241m=\u001b[39m _na_arithmetic_op(lvalues, rvalues, op, is_cmp\u001b[38;5;241m=\u001b[39m\u001b[38;5;28;01mTrue\u001b[39;00m)\n",
      "File \u001b[0;32m~/anaconda3/lib/python3.11/site-packages/pandas/core/ops/array_ops.py:129\u001b[0m, in \u001b[0;36mcomp_method_OBJECT_ARRAY\u001b[0;34m(op, x, y)\u001b[0m\n\u001b[1;32m    127\u001b[0m     result \u001b[38;5;241m=\u001b[39m libops\u001b[38;5;241m.\u001b[39mvec_compare(x\u001b[38;5;241m.\u001b[39mravel(), y\u001b[38;5;241m.\u001b[39mravel(), op)\n\u001b[1;32m    128\u001b[0m \u001b[38;5;28;01melse\u001b[39;00m:\n\u001b[0;32m--> 129\u001b[0m     result \u001b[38;5;241m=\u001b[39m libops\u001b[38;5;241m.\u001b[39mscalar_compare(x\u001b[38;5;241m.\u001b[39mravel(), y, op)\n\u001b[1;32m    130\u001b[0m \u001b[38;5;28;01mreturn\u001b[39;00m result\u001b[38;5;241m.\u001b[39mreshape(x\u001b[38;5;241m.\u001b[39mshape)\n",
      "File \u001b[0;32mops.pyx:107\u001b[0m, in \u001b[0;36mpandas._libs.ops.scalar_compare\u001b[0;34m()\u001b[0m\n",
      "\u001b[0;31mTypeError\u001b[0m: '>' not supported between instances of 'str' and 'int'"
     ]
    }
   ],
   "source": [
    "dataset['age'].loc[dataset['age'] > 80]"
   ]
  },
  {
   "cell_type": "code",
   "execution_count": 181,
   "id": "781b351c-9783-437f-b4a1-623da55b6393",
   "metadata": {},
   "outputs": [
    {
     "data": {
      "text/plain": [
       "14       0\n",
       "20       0\n",
       "76       0\n",
       "121      0\n",
       "183      0\n",
       "        ..\n",
       "32376    0\n",
       "32388    0\n",
       "32451    0\n",
       "32514    0\n",
       "32557    0\n",
       "Name: age, Length: 794, dtype: object"
      ]
     },
     "execution_count": 181,
     "metadata": {},
     "output_type": "execute_result"
    }
   ],
   "source": [
    "dataset['age'].loc[dataset['age']==0]"
   ]
  },
  {
   "cell_type": "code",
   "execution_count": 194,
   "id": "c27f7b62-0bd3-4dba-981d-c5f06d1252a8",
   "metadata": {},
   "outputs": [
    {
     "data": {
      "text/plain": [
       "222      dinossauro\n",
       "918      dinossauro\n",
       "1040     dinossauro\n",
       "1168     dinossauro\n",
       "1935     dinossauro\n",
       "            ...    \n",
       "32277    dinossauro\n",
       "32367    dinossauro\n",
       "32459    dinossauro\n",
       "32494    dinossauro\n",
       "32525    dinossauro\n",
       "Name: age, Length: 99, dtype: object"
      ]
     },
     "execution_count": 194,
     "metadata": {},
     "output_type": "execute_result"
    }
   ],
   "source": [
    "dataset['age'].loc[dataset['age'] == 'dinossauro']"
   ]
  },
  {
   "cell_type": "code",
   "execution_count": 195,
   "id": "a02405f4-83a7-47a4-b763-4c21dd3d38e1",
   "metadata": {},
   "outputs": [
    {
     "data": {
      "text/plain": [
       "0        0\n",
       "1        0\n",
       "2        0\n",
       "3        0\n",
       "4        0\n",
       "        ..\n",
       "32556    0\n",
       "32557    0\n",
       "32558    0\n",
       "32559    0\n",
       "32560    0\n",
       "Name: age, Length: 32561, dtype: object"
      ]
     },
     "execution_count": 195,
     "metadata": {},
     "output_type": "execute_result"
    }
   ],
   "source": [
    "dataset['age'].where(dataset['age'] == 'dinossauro',0)  "
   ]
  }
 ],
 "metadata": {
  "kernelspec": {
   "display_name": "Python 3 (ipykernel)",
   "language": "python",
   "name": "python3"
  },
  "language_info": {
   "codemirror_mode": {
    "name": "ipython",
    "version": 3
   },
   "file_extension": ".py",
   "mimetype": "text/x-python",
   "name": "python",
   "nbconvert_exporter": "python",
   "pygments_lexer": "ipython3",
   "version": "3.11.7"
  }
 },
 "nbformat": 4,
 "nbformat_minor": 5
}
