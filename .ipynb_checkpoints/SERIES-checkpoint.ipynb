{
 "cells": [
  {
   "cell_type": "markdown",
   "id": "0bd4f2cb-e4a8-45b6-a2b8-b90c079d5768",
   "metadata": {},
   "source": [
    "# Pandas Series \n",
    "## Documentação: https://pandas.pydata.org/pandas-docs/stable/reference/api/pandas.Series.html"
   ]
  },
  {
   "cell_type": "code",
   "execution_count": 2,
   "id": "ad936c71-5c60-4048-b1c0-b1ebca38f0a6",
   "metadata": {},
   "outputs": [],
   "source": [
    "import pandas as pd\n",
    "import numpy as np"
   ]
  },
  {
   "cell_type": "code",
   "execution_count": 3,
   "id": "09e51f2a-2b49-47ce-9c4e-5b2585590ceb",
   "metadata": {},
   "outputs": [
    {
     "name": "stdout",
     "output_type": "stream",
     "text": [
      "2.2.2\n",
      "1.26.4\n"
     ]
    }
   ],
   "source": [
    "print(pd.__version__) \n",
    "print(np.__version__)"
   ]
  },
  {
   "cell_type": "markdown",
   "id": "b3a128ab-42ef-45f7-9c98-3d61f1ef07cb",
   "metadata": {},
   "source": [
    "## Maneiras de criar uma série"
   ]
  },
  {
   "cell_type": "markdown",
   "id": "aa0a77b9-ed22-4041-9f95-b69169beedb5",
   "metadata": {},
   "source": [
    "### Método pandas séries"
   ]
  },
  {
   "cell_type": "code",
   "execution_count": 6,
   "id": "27ea52d8-2acd-479c-89be-fd6b95d7e803",
   "metadata": {},
   "outputs": [
    {
     "name": "stdout",
     "output_type": "stream",
     "text": [
      "0    10\n",
      "1    20\n",
      "2    30\n",
      "3    40\n",
      "4    50\n",
      "dtype: int64\n"
     ]
    }
   ],
   "source": [
    "serie_dados = pd.Series([10,20,30,40,50]) \n",
    "print(serie_dados)"
   ]
  },
  {
   "cell_type": "code",
   "execution_count": 7,
   "id": "02c56be8-5efa-4061-a2d4-82a1d677f948",
   "metadata": {},
   "outputs": [
    {
     "data": {
      "text/plain": [
       "pandas.core.series.Series"
      ]
     },
     "execution_count": 7,
     "metadata": {},
     "output_type": "execute_result"
    }
   ],
   "source": [
    "type(serie_dados)"
   ]
  },
  {
   "cell_type": "markdown",
   "id": "8b00e5e7-2bb0-4f6a-a0fa-5a09b61ec274",
   "metadata": {},
   "source": [
    "### Listas built in python"
   ]
  },
  {
   "cell_type": "code",
   "execution_count": 17,
   "id": "5be6b47e-e19b-4543-81b7-7bd25c41e827",
   "metadata": {},
   "outputs": [
    {
     "name": "stdout",
     "output_type": "stream",
     "text": [
      "10\n"
     ]
    }
   ],
   "source": [
    "array_inteiros = [10,20,30,40,50]  \n",
    "indices = ['A','B','C','D','E']\n",
    "\n",
    "series_dados = pd.Series(array_inteiros, index = indices) \n",
    "print(series_dados['A'])"
   ]
  },
  {
   "cell_type": "code",
   "execution_count": 19,
   "id": "a0fdacfd-7e7f-4d24-a036-3a0f102397b5",
   "metadata": {},
   "outputs": [
    {
     "name": "stdout",
     "output_type": "stream",
     "text": [
      "[10 20 30 40 50]\n"
     ]
    }
   ],
   "source": [
    "np_array_inteiros = np.array([10,20,30,40,50]) \n",
    "print(np_array_inteiros)"
   ]
  },
  {
   "cell_type": "code",
   "execution_count": 24,
   "id": "d336a8a6-11c9-427f-afc2-fb510dc01d16",
   "metadata": {},
   "outputs": [
    {
     "name": "stdout",
     "output_type": "stream",
     "text": [
      "(5,) 1 5\n"
     ]
    }
   ],
   "source": [
    "print(serie_dados.shape, serie_dados.ndim, serie_dados.size)"
   ]
  },
  {
   "cell_type": "code",
   "execution_count": 26,
   "id": "b1da6189-b6ca-410a-b31d-17769d452fd8",
   "metadata": {},
   "outputs": [
    {
     "name": "stdout",
     "output_type": "stream",
     "text": [
      "Z    10\n",
      "X    20\n",
      "Y    30\n",
      "W    40\n",
      "V    50\n",
      "dtype: int64\n"
     ]
    }
   ],
   "source": [
    "serie_dados.index = ['Z','X','Y','W','V'] \n",
    "print(serie_dados) "
   ]
  },
  {
   "cell_type": "markdown",
   "id": "3176555c-2b17-4627-a0cf-d735b7be153e",
   "metadata": {},
   "source": [
    "### Numpy arange e random"
   ]
  },
  {
   "cell_type": "code",
   "execution_count": 34,
   "id": "b19b3593-9294-4fca-9150-2a3d7f1ddcca",
   "metadata": {},
   "outputs": [
    {
     "name": "stdout",
     "output_type": "stream",
     "text": [
      "[0 1 2 3 4 5 6 7 8 9] [0.1666784  0.74375299 0.77940017 0.40203042 0.06817862 0.904506\n",
      " 0.06419549 0.34180199 0.9098274  0.83385412]\n"
     ]
    }
   ],
   "source": [
    "random_numbers = np.random.random(10) \n",
    "indices = np.arange(0,10)\n",
    "print(indices, random_numbers)"
   ]
  },
  {
   "cell_type": "code",
   "execution_count": 36,
   "id": "b62f174a-df40-45c4-b13f-6dd89873120f",
   "metadata": {},
   "outputs": [
    {
     "name": "stdout",
     "output_type": "stream",
     "text": [
      "0    0.166678\n",
      "1    0.743753\n",
      "2    0.779400\n",
      "3    0.402030\n",
      "4    0.068179\n",
      "5    0.904506\n",
      "6    0.064195\n",
      "7    0.341802\n",
      "8    0.909827\n",
      "9    0.833854\n",
      "dtype: float64\n"
     ]
    }
   ],
   "source": [
    "serie_dados = pd.Series(random_numbers, indices) \n",
    "print(serie_dados) "
   ]
  },
  {
   "cell_type": "markdown",
   "id": "1ddfdd11-fb6e-420b-8370-1e9bdf1c1fe9",
   "metadata": {},
   "source": [
    "### Dicionários"
   ]
  },
  {
   "cell_type": "code",
   "execution_count": 41,
   "id": "ee295935-5ee5-4ced-a268-a72c419b8ea9",
   "metadata": {},
   "outputs": [
    {
     "name": "stdout",
     "output_type": "stream",
     "text": [
      "ALICE      10\n",
      "BRUNA      20\n",
      "CARLA      30\n",
      "DANIELA    40\n",
      "ERICA      50\n",
      "dtype: int64 int64\n"
     ]
    }
   ],
   "source": [
    "dicionario = {\n",
    "    'ALICE': 10, \n",
    "    'BRUNA': 20, \n",
    "    'CARLA': 30, \n",
    "    'DANIELA': 40, \n",
    "    'ERICA':50\n",
    "} \n",
    "\n",
    "serie_dados  = pd.Series(dicionario) \n",
    "print(serie_dados, serie_dados.dtype) "
   ]
  },
  {
   "cell_type": "markdown",
   "id": "7b6acedf-19c2-498f-bb0f-b3a5a4479a1b",
   "metadata": {},
   "source": [
    "# Fatiamento slicing \n",
    "\n",
    "## Cópia, conversão e concatenção"
   ]
  },
  {
   "cell_type": "code",
   "execution_count": null,
   "id": "679bc853-2921-491e-8b21-7fbf7dd1dc41",
   "metadata": {},
   "outputs": [],
   "source": []
  }
 ],
 "metadata": {
  "kernelspec": {
   "display_name": "Python 3 (ipykernel)",
   "language": "python",
   "name": "python3"
  },
  "language_info": {
   "codemirror_mode": {
    "name": "ipython",
    "version": 3
   },
   "file_extension": ".py",
   "mimetype": "text/x-python",
   "name": "python",
   "nbconvert_exporter": "python",
   "pygments_lexer": "ipython3",
   "version": "3.11.7"
  }
 },
 "nbformat": 4,
 "nbformat_minor": 5
}
